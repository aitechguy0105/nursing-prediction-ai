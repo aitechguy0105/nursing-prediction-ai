{
 "cells": [
  {
   "cell_type": "code",
   "execution_count": 1,
   "id": "51b407de",
   "metadata": {
    "scrolled": false
   },
   "outputs": [],
   "source": [
    "import sys\n",
    "import os\n",
    "import pandas as pd\n",
    "sys.path.insert(0, '/src')\n",
    "from eliot import to_file\n",
    "\n",
    "import json\n",
    "\n",
    "import boto3\n",
    "from eliot import log_message\n",
    "from sqlalchemy import create_engine\n",
    "from sqlalchemy.engine.url import URL\n",
    "\n",
    "import numpy as np\n",
    "to_file(sys.stdout)"
   ]
  },
  {
   "cell_type": "code",
   "execution_count": 2,
   "id": "6df997aa",
   "metadata": {
    "scrolled": false
   },
   "outputs": [],
   "source": [
    "!pip install plotly-express --quiet\n",
    "!pip install matplotlib --quiet\n",
    "!pip install seaborn --quiet"
   ]
  },
  {
   "cell_type": "code",
   "execution_count": 3,
   "id": "ed90038b",
   "metadata": {
    "scrolled": false
   },
   "outputs": [],
   "source": [
    "import matplotlib.patches as mpatches\n",
    "import plotly.express as px\n",
    "import plotly\n",
    "import matplotlib.pyplot as plt\n",
    "import seaborn as sns"
   ]
  },
  {
   "cell_type": "code",
   "execution_count": 4,
   "id": "66210c91",
   "metadata": {
    "scrolled": false
   },
   "outputs": [],
   "source": [
    "\n",
    "pd.set_option('display.max_rows', None)\n",
    "pd.set_option('display.max_columns', None)\n",
    "pd.set_option('display.width', None)\n",
    "pd.set_option('display.max_colwidth', -1)\n"
   ]
  },
  {
   "cell_type": "code",
   "execution_count": 5,
   "id": "0a362ebe",
   "metadata": {
    "scrolled": false
   },
   "outputs": [
    {
     "name": "stdout",
     "output_type": "stream",
     "text": [
      "avante\n",
      "prod\n",
      "2021-01-15 2021-10-15\n",
      "(1, 3, 4, 5, 7, 13, 16, 19, 20, 21, 23, 26, 29, 31, 32, 33, 36)\n"
     ]
    }
   ],
   "source": [
    "\n",
    "CLIENT = 'avante'\n",
    "TRAIN_START_DATE = '2021-01-15'\n",
    "TEST_END_DATE = '2021-10-15'\n",
    "FACILITYIDS = (1, 3, 4, 5, 7, 13, 16, 19, 20, 21, 23, 26, 29, 31, 32, 33, 36)\n",
    "ENABLE_ALL_FACILITIES = \"true\"\n",
    "env = os.environ.get('SAIVA_ENV','prod')\n",
    "date_range = f'{TRAIN_START_DATE} to {TEST_END_DATE}'\n",
    "\n",
    "print(CLIENT)\n",
    "print(env)\n",
    "print(TRAIN_START_DATE, TEST_END_DATE)\n",
    "print(FACILITYIDS)"
   ]
  },
  {
   "cell_type": "code",
   "execution_count": 6,
   "id": "577ec036",
   "metadata": {
    "scrolled": false
   },
   "outputs": [],
   "source": [
    "class DbEngine(object):\n",
    "    \"\"\"\n",
    "    Fetch the credentials from AWS Secrets Manager.\n",
    "    :return: DB connection to the respective database\n",
    "    \"\"\"\n",
    "\n",
    "    def __init__(self, region_name='us-east-1'):\n",
    "        self.session = boto3.session.Session()\n",
    "        self.secrets_client = self.session.client(\n",
    "            service_name='secretsmanager',\n",
    "            region_name=region_name\n",
    "        )\n",
    "\n",
    "    def get_secrets(self, secret_name):\n",
    "        \"\"\"\n",
    "        :return: Based on the environment get secrets for\n",
    "        Client SQL db & Postgres Saivadb\n",
    "        \"\"\"\n",
    "        log_message(message_type='info', action_type='get_secrets', secret_name=secret_name)\n",
    "        db_info = json.loads(\n",
    "            self.secrets_client.get_secret_value(SecretId=secret_name)[\n",
    "                'SecretString'\n",
    "            ]\n",
    "        )\n",
    "        return db_info\n",
    "\n",
    "    def get_postgresdb_engine(self):\n",
    "        \"\"\"\n",
    "        Based on the environment connects to the respective database\n",
    "        :param client: client name\n",
    "        :return: Saivadb Postgres engine\n",
    "        \"\"\"\n",
    "        log_message(message_type='info', action_type='connect_to_postgresdb', client='SaivaDB')\n",
    "        # Fetch credentials from AWS Secrets Manager\n",
    "        postgresdb_info = self.get_secrets(secret_name=f'{env}-saivadb')\n",
    "        # Create DB URL\n",
    "        saivadb_url = URL(\n",
    "            drivername='postgresql',\n",
    "            username=postgresdb_info['username'],\n",
    "            password=postgresdb_info['password'],\n",
    "            host=postgresdb_info['host'],\n",
    "            port=postgresdb_info['port'],\n",
    "            database=postgresdb_info['dbname'],\n",
    "        )\n",
    "        # Return Postgres Engine\n",
    "        return create_engine(saivadb_url, echo=False)\n",
    "    \n",
    "    def get_sqldb_engine(self, clientdb_name):\n",
    "        \"\"\"\n",
    "        Based on the environment connects to the respective database.\n",
    "        Avante db is in client VPN hence we use different credentials.\n",
    "        :param client: client name\n",
    "        :return: Client SQL engine\n",
    "        \"\"\"\n",
    "        log_message(message_type='info', action_type='connect_to_sqldb', client=clientdb_name)\n",
    "        # Fetch credentials from AWS Secrets Manager\n",
    "        if clientdb_name == 'avante':\n",
    "            sqldb_info = self.get_secrets(secret_name=f'avantedb')\n",
    "        else:\n",
    "            sqldb_info = self.get_secrets(secret_name=f'{env}-sqlserver')\n",
    "            sqldb_info['dbname'] = clientdb_name\n",
    "\n",
    "        # Create DB URL\n",
    "        client_sqldb_url = URL(\n",
    "            drivername='mssql+pyodbc',\n",
    "            username=sqldb_info['username'],\n",
    "            password=sqldb_info['password'],\n",
    "            host=sqldb_info['host'],\n",
    "            port=sqldb_info['port'],\n",
    "            database=sqldb_info['dbname'],\n",
    "            query={'driver': 'ODBC Driver 17 for SQL Server'},\n",
    "        )\n",
    "        # Return Sql Engine\n",
    "        return create_engine(client_sqldb_url, echo=False)\n",
    "    \n",
    "    def verify_connectivity(self, engine):\n",
    "        assert engine.execute('select 1').fetchall() is not None  # verify connectivity\n",
    "\n"
   ]
  },
  {
   "cell_type": "code",
   "execution_count": 7,
   "id": "cab2744b",
   "metadata": {
    "scrolled": false
   },
   "outputs": [
    {
     "name": "stdout",
     "output_type": "stream",
     "text": [
      "{\"action_type\": \"connect_to_postgresdb\", \"client\": \"SaivaDB\", \"timestamp\": 1635822844.0311444, \"task_uuid\": \"460f94e9-2f8b-4a83-a14b-6ca053d1970b\", \"task_level\": [1], \"message_type\": \"info\"}\n",
      "{\"action_type\": \"get_secrets\", \"secret_name\": \"prod-saivadb\", \"timestamp\": 1635822844.031853, \"task_uuid\": \"ca932fc6-9a5d-4270-b693-53ed04549a79\", \"task_level\": [1], \"message_type\": \"info\"}\n",
      "{\"action_type\": \"connect_to_sqldb\", \"client\": \"avante\", \"timestamp\": 1635822844.2046854, \"task_uuid\": \"fb96e7ab-0ef3-4875-b03e-11c3f052b330\", \"task_level\": [1], \"message_type\": \"info\"}\n",
      "{\"action_type\": \"get_secrets\", \"secret_name\": \"avantedb\", \"timestamp\": 1635822844.2053769, \"task_uuid\": \"2eb54d3e-2f8c-4e1b-a624-e40bd7db3048\", \"task_level\": [1], \"message_type\": \"info\"}\n"
     ]
    }
   ],
   "source": [
    "engine = DbEngine()\n",
    "saiva_engine = engine.get_postgresdb_engine()\n",
    "client_sql_engine = engine.get_sqldb_engine(clientdb_name=CLIENT)"
   ]
  },
  {
   "cell_type": "markdown",
   "id": "bbb7d1c5",
   "metadata": {},
   "source": [
    "## Verify whether the lastadmissiondate present in transfers table in present in admission table"
   ]
  },
  {
   "cell_type": "code",
   "execution_count": 8,
   "id": "30d411c8",
   "metadata": {
    "scrolled": false
   },
   "outputs": [],
   "source": [
    "# query = f\"\"\"\n",
    "# select al.patientid, al.facilityid, al.dateofadmission, al.admissionstatus, al.ToFromTypeDescription, \n",
    "# fp.masterpatientid, fp.recentadmissiondate, fp.initialadmissiondate, fp.PatientDeleted \n",
    "# from view_ods_hospital_transfers_admission_log al \n",
    "# left join view_ods_facility_patient fp on (al.patientid = fp.patientid and al.facilityid = fp.facilityid)\n",
    "# and al.facilityid in {FACILITYIDS}\n",
    "# \"\"\"\n",
    "\n",
    "# adf = pd.read_sql(query, con=client_sql_engine)\n",
    "# adf['dateofadmission'] = pd.to_datetime(adf['dateofadmission']).dt.date\n",
    "# adf.head()"
   ]
  },
  {
   "cell_type": "code",
   "execution_count": 9,
   "id": "f1e4e53a",
   "metadata": {
    "scrolled": false
   },
   "outputs": [],
   "source": [
    "# adf.query('(masterpatientid == 483241) ')    "
   ]
  },
  {
   "cell_type": "code",
   "execution_count": 10,
   "id": "8233fa52",
   "metadata": {
    "scrolled": false
   },
   "outputs": [],
   "source": [
    "# rdf.query('(masterpatientid == 483241)')[['patientid','masterpatientid', 'lastadmissiondate','lengthofstay','show_in_report','best_exp_rank']]"
   ]
  },
  {
   "cell_type": "markdown",
   "id": "54e90f42",
   "metadata": {},
   "source": [
    "## Harsh RTH from SAIVADB"
   ]
  },
  {
   "cell_type": "code",
   "execution_count": 11,
   "id": "1f13c511",
   "metadata": {
    "scrolled": false
   },
   "outputs": [
    {
     "name": "stdout",
     "output_type": "stream",
     "text": [
      "(1199, 22)\n"
     ]
    },
    {
     "data": {
      "text/html": [
       "<div>\n",
       "<style scoped>\n",
       "    .dataframe tbody tr th:only-of-type {\n",
       "        vertical-align: middle;\n",
       "    }\n",
       "\n",
       "    .dataframe tbody tr th {\n",
       "        vertical-align: top;\n",
       "    }\n",
       "\n",
       "    .dataframe thead th {\n",
       "        text-align: right;\n",
       "    }\n",
       "</style>\n",
       "<table border=\"1\" class=\"dataframe\">\n",
       "  <thead>\n",
       "    <tr style=\"text-align: right;\">\n",
       "      <th></th>\n",
       "      <th>client</th>\n",
       "      <th>facilityid</th>\n",
       "      <th>facilityname</th>\n",
       "      <th>patientid</th>\n",
       "      <th>masterpatientid</th>\n",
       "      <th>patientmrn</th>\n",
       "      <th>lastname</th>\n",
       "      <th>firstname</th>\n",
       "      <th>dateoftransfer</th>\n",
       "      <th>planned</th>\n",
       "      <th>transferreason</th>\n",
       "      <th>otherreasonfortransfer</th>\n",
       "      <th>outcome</th>\n",
       "      <th>transferredto</th>\n",
       "      <th>lengthofstay</th>\n",
       "      <th>lastadmissiondate</th>\n",
       "      <th>payertype</th>\n",
       "      <th>payerdescription</th>\n",
       "      <th>best_exp_rank</th>\n",
       "      <th>show_in_report</th>\n",
       "      <th>modelids</th>\n",
       "      <th>num_predictions</th>\n",
       "    </tr>\n",
       "  </thead>\n",
       "  <tbody>\n",
       "    <tr>\n",
       "      <th>0</th>\n",
       "      <td>avante</td>\n",
       "      <td>1</td>\n",
       "      <td>Avante at Boca Raton</td>\n",
       "      <td>177103</td>\n",
       "      <td>75244.0</td>\n",
       "      <td>7550</td>\n",
       "      <td>FRANK</td>\n",
       "      <td>JERROLD</td>\n",
       "      <td>2021-07-19</td>\n",
       "      <td>No</td>\n",
       "      <td>Other</td>\n",
       "      <td>Pacemaker</td>\n",
       "      <td>Admitted, Inpatient</td>\n",
       "      <td>Holy Cross Hospital</td>\n",
       "      <td>800.0</td>\n",
       "      <td>2019-05-11 18:58:00</td>\n",
       "      <td>Medicaid</td>\n",
       "      <td>MCD SUNSHINE</td>\n",
       "      <td>40.0</td>\n",
       "      <td>False</td>\n",
       "      <td>ebce6fa9bdcb4040be48b756d63e4c8a</td>\n",
       "      <td>3</td>\n",
       "    </tr>\n",
       "    <tr>\n",
       "      <th>1</th>\n",
       "      <td>avante</td>\n",
       "      <td>1</td>\n",
       "      <td>Avante at Boca Raton</td>\n",
       "      <td>330601</td>\n",
       "      <td>119814.0</td>\n",
       "      <td>8827</td>\n",
       "      <td>JEAM</td>\n",
       "      <td>ONEL</td>\n",
       "      <td>2021-02-02</td>\n",
       "      <td>No</td>\n",
       "      <td>Shortness of Breath (bronchitis, pneumonia)</td>\n",
       "      <td>None</td>\n",
       "      <td>Admitted, Inpatient</td>\n",
       "      <td>Boca Raton Hospital</td>\n",
       "      <td>57.0</td>\n",
       "      <td>2020-12-07 14:55:00</td>\n",
       "      <td>Medicaid</td>\n",
       "      <td>Medicaid Pending</td>\n",
       "      <td>7.0</td>\n",
       "      <td>True</td>\n",
       "      <td>d0c497c8b9b04f4d9e1e1e0c9297cc1f</td>\n",
       "      <td>3</td>\n",
       "    </tr>\n",
       "    <tr>\n",
       "      <th>2</th>\n",
       "      <td>avante</td>\n",
       "      <td>1</td>\n",
       "      <td>Avante at Boca Raton</td>\n",
       "      <td>330601</td>\n",
       "      <td>119814.0</td>\n",
       "      <td>8827</td>\n",
       "      <td>JEAM</td>\n",
       "      <td>ONEL</td>\n",
       "      <td>2021-02-10</td>\n",
       "      <td>No</td>\n",
       "      <td>Chest Pain</td>\n",
       "      <td>None</td>\n",
       "      <td>Admitted, Inpatient</td>\n",
       "      <td>Boca Raton Hospital</td>\n",
       "      <td>4.0</td>\n",
       "      <td>2021-02-06 17:30:00</td>\n",
       "      <td>Medicaid</td>\n",
       "      <td>Medicaid Pending</td>\n",
       "      <td>2.0</td>\n",
       "      <td>True</td>\n",
       "      <td>d0c497c8b9b04f4d9e1e1e0c9297cc1f</td>\n",
       "      <td>3</td>\n",
       "    </tr>\n",
       "    <tr>\n",
       "      <th>3</th>\n",
       "      <td>avante</td>\n",
       "      <td>1</td>\n",
       "      <td>Avante at Boca Raton</td>\n",
       "      <td>330601</td>\n",
       "      <td>119814.0</td>\n",
       "      <td>8827</td>\n",
       "      <td>JEAM</td>\n",
       "      <td>ONEL</td>\n",
       "      <td>2021-02-23</td>\n",
       "      <td>No</td>\n",
       "      <td>Other</td>\n",
       "      <td>Respiratory Distress</td>\n",
       "      <td>Admitted, Status Uncertain</td>\n",
       "      <td>Boca Raton Hospital</td>\n",
       "      <td>6.0</td>\n",
       "      <td>2021-02-17 17:00:00</td>\n",
       "      <td>Medicaid</td>\n",
       "      <td>Medicaid Pending</td>\n",
       "      <td>1.0</td>\n",
       "      <td>True</td>\n",
       "      <td>d0c497c8b9b04f4d9e1e1e0c9297cc1f</td>\n",
       "      <td>3</td>\n",
       "    </tr>\n",
       "    <tr>\n",
       "      <th>4</th>\n",
       "      <td>avante</td>\n",
       "      <td>1</td>\n",
       "      <td>Avante at Boca Raton</td>\n",
       "      <td>330601</td>\n",
       "      <td>119814.0</td>\n",
       "      <td>8827</td>\n",
       "      <td>JEAM</td>\n",
       "      <td>ONEL</td>\n",
       "      <td>2021-03-10</td>\n",
       "      <td>No</td>\n",
       "      <td>Shortness of Breath (bronchitis, pneumonia)</td>\n",
       "      <td>None</td>\n",
       "      <td>Admitted, Inpatient</td>\n",
       "      <td>Boca Raton Hospital</td>\n",
       "      <td>9.0</td>\n",
       "      <td>2021-03-01 15:14:00</td>\n",
       "      <td>Medicaid</td>\n",
       "      <td>Medicaid Pending</td>\n",
       "      <td>3.0</td>\n",
       "      <td>True</td>\n",
       "      <td>d0c497c8b9b04f4d9e1e1e0c9297cc1f</td>\n",
       "      <td>3</td>\n",
       "    </tr>\n",
       "  </tbody>\n",
       "</table>\n",
       "</div>"
      ],
      "text/plain": [
       "   client  facilityid          facilityname  patientid  masterpatientid  \\\n",
       "0  avante  1           Avante at Boca Raton  177103     75244.0           \n",
       "1  avante  1           Avante at Boca Raton  330601     119814.0          \n",
       "2  avante  1           Avante at Boca Raton  330601     119814.0          \n",
       "3  avante  1           Avante at Boca Raton  330601     119814.0          \n",
       "4  avante  1           Avante at Boca Raton  330601     119814.0          \n",
       "\n",
       "  patientmrn lastname firstname dateoftransfer planned  \\\n",
       "0  7550       FRANK    JERROLD  2021-07-19      No       \n",
       "1  8827       JEAM     ONEL     2021-02-02      No       \n",
       "2  8827       JEAM     ONEL     2021-02-10      No       \n",
       "3  8827       JEAM     ONEL     2021-02-23      No       \n",
       "4  8827       JEAM     ONEL     2021-03-10      No       \n",
       "\n",
       "                                transferreason otherreasonfortransfer  \\\n",
       "0  Other                                        Pacemaker               \n",
       "1  Shortness of Breath (bronchitis, pneumonia)  None                    \n",
       "2  Chest Pain                                   None                    \n",
       "3  Other                                        Respiratory Distress    \n",
       "4  Shortness of Breath (bronchitis, pneumonia)  None                    \n",
       "\n",
       "                      outcome        transferredto  lengthofstay  \\\n",
       "0  Admitted, Inpatient         Holy Cross Hospital  800.0          \n",
       "1  Admitted, Inpatient         Boca Raton Hospital  57.0           \n",
       "2  Admitted, Inpatient         Boca Raton Hospital  4.0            \n",
       "3  Admitted, Status Uncertain  Boca Raton Hospital  6.0            \n",
       "4  Admitted, Inpatient         Boca Raton Hospital  9.0            \n",
       "\n",
       "    lastadmissiondate payertype  payerdescription  best_exp_rank  \\\n",
       "0 2019-05-11 18:58:00  Medicaid  MCD SUNSHINE      40.0            \n",
       "1 2020-12-07 14:55:00  Medicaid  Medicaid Pending  7.0             \n",
       "2 2021-02-06 17:30:00  Medicaid  Medicaid Pending  2.0             \n",
       "3 2021-02-17 17:00:00  Medicaid  Medicaid Pending  1.0             \n",
       "4 2021-03-01 15:14:00  Medicaid  Medicaid Pending  3.0             \n",
       "\n",
       "  show_in_report                          modelids  num_predictions  \n",
       "0  False          ebce6fa9bdcb4040be48b756d63e4c8a  3                \n",
       "1  True           d0c497c8b9b04f4d9e1e1e0c9297cc1f  3                \n",
       "2  True           d0c497c8b9b04f4d9e1e1e0c9297cc1f  3                \n",
       "3  True           d0c497c8b9b04f4d9e1e1e0c9297cc1f  3                \n",
       "4  True           d0c497c8b9b04f4d9e1e1e0c9297cc1f  3                "
      ]
     },
     "execution_count": 11,
     "metadata": {},
     "output_type": "execute_result"
    }
   ],
   "source": [
    "query = f\"\"\"with rh as (\n",
    "    select ht.*,\n",
    "           fa.facilityname,\n",
    "           fp.masterpatientid,\n",
    "           dp.modelid,\n",
    "           dp.group_rank,\n",
    "           dp.show_in_report,\n",
    "           fp.patientmrn,\n",
    "           fp.firstname,\n",
    "           fp.lastname\n",
    "    from public.hospital_transfers ht\n",
    "             left join public.facility_patient fp\n",
    "                       on ht.client = fp.client\n",
    "                           and ht.facilityid = fp.facilityid\n",
    "                           and ht.patientid = fp.patientid\n",
    "             left join daily_predictions dp\n",
    "                       on ht.client = dp.client\n",
    "                           and ht.facilityid = dp.facilityid\n",
    "                           and (date(ht.dateoftransfer) - date(dp.censusdate)) <= 3\n",
    "                           and (date(ht.dateoftransfer) - date(dp.censusdate)) > 0\n",
    "                           and date(dp.censusdate) <= date(ht.dateoftransfer)\n",
    "                           and fp.masterpatientid = dp.masterpatientid\n",
    "             left join facility fa\n",
    "                       on fa.facilityid = ht.facilityid\n",
    "                           and fa.client = ht.client\n",
    "    where ht.client = '{CLIENT}'\n",
    "      and ht.dateoftransfer between '{TRAIN_START_DATE}' and '{TEST_END_DATE}'\n",
    "      and (lower(ht.payerdescription) NOT LIKE '%%hospice%%' or ht.payerdescription is null)\n",
    "      and (ht.outcome <> 'ED Visit Only' or ht.outcome is null)\n",
    "      and ht.planned = 'No'\n",
    "      and fa.is_active=True\n",
    "      and (ht.facilityid IN {FACILITYIDS} OR {ENABLE_ALL_FACILITIES})\n",
    ")\n",
    "SELECT rh.client,\n",
    "       rh.facilityid,\n",
    "       rh.facilityname,\n",
    "       rh.patientid,\n",
    "       rh.masterpatientid,\n",
    "       rh.patientmrn,\n",
    "       rh.lastname,\n",
    "       rh.firstname,\n",
    "       rh.dateoftransfer,\n",
    "       rh.planned,\n",
    "       rh.transferreason,\n",
    "       rh.otherreasonfortransfer,\n",
    "       rh.outcome,\n",
    "       rh.transferredto,\n",
    "       rh.lengthofstay,\n",
    "       rh.lastadmissiondate,\n",
    "       rh.payertype,\n",
    "       rh.payerdescription,\n",
    "       min(group_rank) as best_exp_rank,\n",
    "       bool_or(rh.show_in_report) as show_in_report,\n",
    "       string_agg(distinct rh.modelid, ',') as modelids,\n",
    "       -- count of how many predictions were made for that day (the number of rows that were grouped)\n",
    "       -- have to special case for when we made no predictions because there would be still be 1 row\n",
    "       (CASE\n",
    "            WHEN bool_or(rh.show_in_report) IS NULL\n",
    "                THEN 0\n",
    "            ELSE count(*)\n",
    "           END\n",
    "           )  as num_predictions\n",
    "FROM rh\n",
    "GROUP BY rh.client, rh.facilityid, rh.facilityname,\n",
    "         rh.patientid, rh.masterpatientid, rh.patientmrn, rh.lastname, rh.firstname, rh.dateoftransfer,\n",
    "         rh.planned, rh.transferreason, rh.otherreasonfortransfer, rh.outcome,\n",
    "         rh.transferredto, rh.lengthofstay, rh.payertype, rh.payerdescription, rh.lastadmissiondate\n",
    "\"\"\"\n",
    "\n",
    "rdf = pd.read_sql(query, con=saiva_engine)\n",
    "print(rdf.shape)\n",
    "rdf.head()"
   ]
  },
  {
   "cell_type": "code",
   "execution_count": 12,
   "id": "ced04d04",
   "metadata": {
    "scrolled": false
   },
   "outputs": [],
   "source": [
    "def pre_process(rdf):\n",
    "    rdf['dateoftransfer'] = pd.to_datetime(rdf['dateoftransfer']).dt.date\n",
    "    rdf['lastadmissiondate'] = pd.to_datetime(rdf['lastadmissiondate']).dt.date\n",
    "#     rdf['lengthofstay'] = (rdf['dateoftransfer'] - rdf['lastadmissiondate']).dt.days \n",
    "    rdf = rdf.sort_values(by=['facilityid','dateoftransfer'])\n",
    "    rdf['lengthofstay'] = rdf['lengthofstay'].fillna(0)\n",
    "    \n",
    "    return rdf"
   ]
  },
  {
   "cell_type": "code",
   "execution_count": 13,
   "id": "7ea3c634",
   "metadata": {
    "scrolled": false
   },
   "outputs": [
    {
     "data": {
      "text/html": [
       "<div>\n",
       "<style scoped>\n",
       "    .dataframe tbody tr th:only-of-type {\n",
       "        vertical-align: middle;\n",
       "    }\n",
       "\n",
       "    .dataframe tbody tr th {\n",
       "        vertical-align: top;\n",
       "    }\n",
       "\n",
       "    .dataframe thead th {\n",
       "        text-align: right;\n",
       "    }\n",
       "</style>\n",
       "<table border=\"1\" class=\"dataframe\">\n",
       "  <thead>\n",
       "    <tr style=\"text-align: right;\">\n",
       "      <th></th>\n",
       "      <th>client</th>\n",
       "      <th>facilityid</th>\n",
       "      <th>facilityname</th>\n",
       "      <th>patientid</th>\n",
       "      <th>masterpatientid</th>\n",
       "      <th>patientmrn</th>\n",
       "      <th>lastname</th>\n",
       "      <th>firstname</th>\n",
       "      <th>dateoftransfer</th>\n",
       "      <th>planned</th>\n",
       "      <th>transferreason</th>\n",
       "      <th>otherreasonfortransfer</th>\n",
       "      <th>outcome</th>\n",
       "      <th>transferredto</th>\n",
       "      <th>lengthofstay</th>\n",
       "      <th>lastadmissiondate</th>\n",
       "      <th>payertype</th>\n",
       "      <th>payerdescription</th>\n",
       "      <th>best_exp_rank</th>\n",
       "      <th>show_in_report</th>\n",
       "      <th>modelids</th>\n",
       "      <th>num_predictions</th>\n",
       "    </tr>\n",
       "  </thead>\n",
       "  <tbody>\n",
       "    <tr>\n",
       "      <th>45</th>\n",
       "      <td>avante</td>\n",
       "      <td>1</td>\n",
       "      <td>Avante at Boca Raton</td>\n",
       "      <td>2597079</td>\n",
       "      <td>279717.0</td>\n",
       "      <td>10235</td>\n",
       "      <td>Collins</td>\n",
       "      <td>William</td>\n",
       "      <td>2021-01-15</td>\n",
       "      <td>No</td>\n",
       "      <td>Shortness of Breath (bronchitis, pneumonia)</td>\n",
       "      <td>None</td>\n",
       "      <td>Admitted, Inpatient</td>\n",
       "      <td>Boca Raton Hospital</td>\n",
       "      <td>51.0</td>\n",
       "      <td>2020-11-25</td>\n",
       "      <td>Medicare A</td>\n",
       "      <td>Medicare A</td>\n",
       "      <td>54.0</td>\n",
       "      <td>False</td>\n",
       "      <td>d0c497c8b9b04f4d9e1e1e0c9297cc1f</td>\n",
       "      <td>3</td>\n",
       "    </tr>\n",
       "    <tr>\n",
       "      <th>52</th>\n",
       "      <td>avante</td>\n",
       "      <td>1</td>\n",
       "      <td>Avante at Boca Raton</td>\n",
       "      <td>2799863</td>\n",
       "      <td>281387.0</td>\n",
       "      <td>10344</td>\n",
       "      <td>Bledsoe</td>\n",
       "      <td>Gladys</td>\n",
       "      <td>2021-01-17</td>\n",
       "      <td>No</td>\n",
       "      <td>Shortness of Breath (bronchitis, pneumonia)</td>\n",
       "      <td>None</td>\n",
       "      <td>Admitted, Inpatient</td>\n",
       "      <td>Boca Raton Hospital</td>\n",
       "      <td>12.0</td>\n",
       "      <td>2021-01-05</td>\n",
       "      <td>Medicare A</td>\n",
       "      <td>Medicare A</td>\n",
       "      <td>12.0</td>\n",
       "      <td>True</td>\n",
       "      <td>d0c497c8b9b04f4d9e1e1e0c9297cc1f</td>\n",
       "      <td>3</td>\n",
       "    </tr>\n",
       "    <tr>\n",
       "      <th>54</th>\n",
       "      <td>avante</td>\n",
       "      <td>1</td>\n",
       "      <td>Avante at Boca Raton</td>\n",
       "      <td>2837413</td>\n",
       "      <td>281589.0</td>\n",
       "      <td>10357</td>\n",
       "      <td>Amato</td>\n",
       "      <td>James</td>\n",
       "      <td>2021-01-18</td>\n",
       "      <td>No</td>\n",
       "      <td>Shortness of Breath (bronchitis, pneumonia)</td>\n",
       "      <td>None</td>\n",
       "      <td>Admitted, Inpatient</td>\n",
       "      <td>Boca Raton Hospital</td>\n",
       "      <td>6.0</td>\n",
       "      <td>2021-01-12</td>\n",
       "      <td>Medicare A</td>\n",
       "      <td>Medicare A</td>\n",
       "      <td>12.0</td>\n",
       "      <td>True</td>\n",
       "      <td>d0c497c8b9b04f4d9e1e1e0c9297cc1f</td>\n",
       "      <td>3</td>\n",
       "    </tr>\n",
       "    <tr>\n",
       "      <th>13</th>\n",
       "      <td>avante</td>\n",
       "      <td>1</td>\n",
       "      <td>Avante at Boca Raton</td>\n",
       "      <td>879997</td>\n",
       "      <td>263428.0</td>\n",
       "      <td>9776</td>\n",
       "      <td>Galanos</td>\n",
       "      <td>Susan</td>\n",
       "      <td>2021-01-19</td>\n",
       "      <td>No</td>\n",
       "      <td>Unresponsive</td>\n",
       "      <td>None</td>\n",
       "      <td>Admitted, Inpatient</td>\n",
       "      <td>Boca Raton Hospital</td>\n",
       "      <td>456.0</td>\n",
       "      <td>2019-10-21</td>\n",
       "      <td>Medicaid</td>\n",
       "      <td>MCD STAYWELL</td>\n",
       "      <td>77.0</td>\n",
       "      <td>False</td>\n",
       "      <td>d0c497c8b9b04f4d9e1e1e0c9297cc1f</td>\n",
       "      <td>3</td>\n",
       "    </tr>\n",
       "    <tr>\n",
       "      <th>30</th>\n",
       "      <td>avante</td>\n",
       "      <td>1</td>\n",
       "      <td>Avante at Boca Raton</td>\n",
       "      <td>2256634</td>\n",
       "      <td>276991.0</td>\n",
       "      <td>10135</td>\n",
       "      <td>Powell</td>\n",
       "      <td>Timothy</td>\n",
       "      <td>2021-01-19</td>\n",
       "      <td>No</td>\n",
       "      <td>Abnormal Vital Signs (low/high BP, high respiratory rate)</td>\n",
       "      <td>None</td>\n",
       "      <td>Admitted, Inpatient</td>\n",
       "      <td>Boca Raton Hospital</td>\n",
       "      <td>93.0</td>\n",
       "      <td>2020-10-18</td>\n",
       "      <td>Medicaid</td>\n",
       "      <td>MCD SUNSHINE</td>\n",
       "      <td>NaN</td>\n",
       "      <td>False</td>\n",
       "      <td>None</td>\n",
       "      <td>3</td>\n",
       "    </tr>\n",
       "  </tbody>\n",
       "</table>\n",
       "</div>"
      ],
      "text/plain": [
       "    client  facilityid          facilityname  patientid  masterpatientid  \\\n",
       "45  avante  1           Avante at Boca Raton  2597079    279717.0          \n",
       "52  avante  1           Avante at Boca Raton  2799863    281387.0          \n",
       "54  avante  1           Avante at Boca Raton  2837413    281589.0          \n",
       "13  avante  1           Avante at Boca Raton  879997     263428.0          \n",
       "30  avante  1           Avante at Boca Raton  2256634    276991.0          \n",
       "\n",
       "   patientmrn lastname firstname dateoftransfer planned  \\\n",
       "45  10235      Collins  William   2021-01-15     No       \n",
       "52  10344      Bledsoe  Gladys    2021-01-17     No       \n",
       "54  10357      Amato    James     2021-01-18     No       \n",
       "13  9776       Galanos  Susan     2021-01-19     No       \n",
       "30  10135      Powell   Timothy   2021-01-19     No       \n",
       "\n",
       "                                               transferreason  \\\n",
       "45  Shortness of Breath (bronchitis, pneumonia)                 \n",
       "52  Shortness of Breath (bronchitis, pneumonia)                 \n",
       "54  Shortness of Breath (bronchitis, pneumonia)                 \n",
       "13  Unresponsive                                                \n",
       "30  Abnormal Vital Signs (low/high BP, high respiratory rate)   \n",
       "\n",
       "   otherreasonfortransfer              outcome        transferredto  \\\n",
       "45  None                   Admitted, Inpatient  Boca Raton Hospital   \n",
       "52  None                   Admitted, Inpatient  Boca Raton Hospital   \n",
       "54  None                   Admitted, Inpatient  Boca Raton Hospital   \n",
       "13  None                   Admitted, Inpatient  Boca Raton Hospital   \n",
       "30  None                   Admitted, Inpatient  Boca Raton Hospital   \n",
       "\n",
       "    lengthofstay lastadmissiondate   payertype payerdescription  \\\n",
       "45  51.0          2020-11-25        Medicare A  Medicare A        \n",
       "52  12.0          2021-01-05        Medicare A  Medicare A        \n",
       "54  6.0           2021-01-12        Medicare A  Medicare A        \n",
       "13  456.0         2019-10-21        Medicaid    MCD STAYWELL      \n",
       "30  93.0          2020-10-18        Medicaid    MCD SUNSHINE      \n",
       "\n",
       "    best_exp_rank show_in_report                          modelids  \\\n",
       "45  54.0           False          d0c497c8b9b04f4d9e1e1e0c9297cc1f   \n",
       "52  12.0           True           d0c497c8b9b04f4d9e1e1e0c9297cc1f   \n",
       "54  12.0           True           d0c497c8b9b04f4d9e1e1e0c9297cc1f   \n",
       "13  77.0           False          d0c497c8b9b04f4d9e1e1e0c9297cc1f   \n",
       "30 NaN             False          None                               \n",
       "\n",
       "    num_predictions  \n",
       "45  3                \n",
       "52  3                \n",
       "54  3                \n",
       "13  3                \n",
       "30  3                "
      ]
     },
     "execution_count": 13,
     "metadata": {},
     "output_type": "execute_result"
    }
   ],
   "source": [
    "rdf = pre_process(rdf)\n",
    "rdf.head()"
   ]
  },
  {
   "cell_type": "code",
   "execution_count": 14,
   "id": "96bbff41",
   "metadata": {
    "scrolled": false
   },
   "outputs": [],
   "source": [
    "#check computed lengthofstay and original lengthofstay\n",
    "\n",
    "# rdf['comparision'] = np.where(rdf[\"new_lengthofstay\"] == rdf[\"lengthofstay\"], True, False)\n",
    "\n",
    "# rdf.query('comparision == False')[['patientid','dateoftransfer','lastadmissiondate','lengthofstay','new_lengthofstay','transferreason','outcome']].head()\n",
    "\n",
    "# rdf.query('comparision == False').shape\n",
    "\n"
   ]
  },
  {
   "cell_type": "code",
   "execution_count": 15,
   "id": "37f37edf",
   "metadata": {
    "scrolled": false
   },
   "outputs": [],
   "source": [
    "# day_diff = (pd.to_datetime(TEST_END_DATE) - pd.to_datetime(TRAIN_START_DATE)).days\n",
    "# obj = [0 for i in range(0,120)]\n",
    "# rth_matrix = [obj for i in range(0,day_diff)]\n",
    "# rth_list = obj"
   ]
  },
  {
   "cell_type": "code",
   "execution_count": 16,
   "id": "a038ead3",
   "metadata": {
    "scrolled": false
   },
   "outputs": [],
   "source": [
    "# def get_day_no(date):\n",
    "#     return (pd.to_datetime(date) - pd.to_datetime(TRAIN_START_DATE)).days\n",
    "\n",
    "def get_stay_length(staylength):\n",
    "    if staylength > 120:\n",
    "        return 120\n",
    "    else:\n",
    "        return staylength"
   ]
  },
  {
   "cell_type": "code",
   "execution_count": 17,
   "id": "d3f19f3b",
   "metadata": {
    "scrolled": false
   },
   "outputs": [],
   "source": [
    "\n",
    "def get_metrics_df(rdf):\n",
    "    # here each index indicates LOS and value indicates the count of transfer for that LOS\n",
    "    rth = [0 for i in range(0,121)]  ## Inclcudes both ranked & Unranked \n",
    "    caught_rth = [0 for i in range(0,121)]\n",
    "    missed_rth = [0 for i in range(0,121)]\n",
    "    unranked_rth = [0 for i in range(0,121)] \n",
    "    ranked_rth = [0 for i in range(0,121)] \n",
    "\n",
    "    for index, row in rdf.iterrows():\n",
    "        j = int(get_stay_length(row['lengthofstay']))\n",
    "        rth[j] += 1\n",
    "        if pd.notna(row['best_exp_rank']) and row['show_in_report'] == True:\n",
    "            caught_rth[j] += 1\n",
    "        if pd.notna(row['best_exp_rank']) and row['show_in_report'] == False:\n",
    "            missed_rth[j] += 1\n",
    "        if pd.isna(row['best_exp_rank']):\n",
    "            unranked_rth[j] += 1\n",
    "        else:\n",
    "            ranked_rth[j] += 1\n",
    "\n",
    "    # create a dataframe from the above 4 lists\n",
    "    df = pd.DataFrame ({\"rth\": rth, \"caught_rth\": caught_rth, \"missed_rth\": missed_rth, \"ranked_rth\":ranked_rth, \"unranked_rth\": unranked_rth})\n",
    "\n",
    "    ## percentages \n",
    "\n",
    "    df['rth_p'] = (df['rth']/sum(rth)) # * 100\n",
    "    df['caught_rth_p'] = (df['caught_rth']/sum(caught_rth)) * 100\n",
    "    df['missed_rth_p'] = (df['missed_rth']/sum(missed_rth)) * 100\n",
    "    df['unranked_rth_p'] = (df['unranked_rth']/sum(unranked_rth)) * 100\n",
    "\n",
    "    return df, rth,caught_rth, missed_rth, unranked_rth, ranked_rth    "
   ]
  },
  {
   "cell_type": "code",
   "execution_count": 18,
   "id": "c1e16f6e",
   "metadata": {
    "scrolled": true
   },
   "outputs": [
    {
     "data": {
      "text/html": [
       "<div>\n",
       "<style scoped>\n",
       "    .dataframe tbody tr th:only-of-type {\n",
       "        vertical-align: middle;\n",
       "    }\n",
       "\n",
       "    .dataframe tbody tr th {\n",
       "        vertical-align: top;\n",
       "    }\n",
       "\n",
       "    .dataframe thead th {\n",
       "        text-align: right;\n",
       "    }\n",
       "</style>\n",
       "<table border=\"1\" class=\"dataframe\">\n",
       "  <thead>\n",
       "    <tr style=\"text-align: right;\">\n",
       "      <th></th>\n",
       "      <th>rth</th>\n",
       "      <th>caught_rth</th>\n",
       "      <th>missed_rth</th>\n",
       "      <th>ranked_rth</th>\n",
       "      <th>unranked_rth</th>\n",
       "      <th>rth_p</th>\n",
       "      <th>caught_rth_p</th>\n",
       "      <th>missed_rth_p</th>\n",
       "      <th>unranked_rth_p</th>\n",
       "      <th>reverse_fraction_rth</th>\n",
       "      <th>fraction_rth</th>\n",
       "      <th>rth_p_cumsum</th>\n",
       "      <th>rth_p_reverse_cumsum</th>\n",
       "      <th>rth_pct</th>\n",
       "      <th>rth_diff</th>\n",
       "    </tr>\n",
       "  </thead>\n",
       "  <tbody>\n",
       "    <tr>\n",
       "      <th>0</th>\n",
       "      <td>8</td>\n",
       "      <td>1</td>\n",
       "      <td>2</td>\n",
       "      <td>3</td>\n",
       "      <td>5</td>\n",
       "      <td>0.006672</td>\n",
       "      <td>0.178891</td>\n",
       "      <td>0.383877</td>\n",
       "      <td>4.201681</td>\n",
       "      <td>0.466222</td>\n",
       "      <td>0.125000</td>\n",
       "      <td>0.006672</td>\n",
       "      <td>1.000000</td>\n",
       "      <td>0.67%</td>\n",
       "      <td>-0.341222</td>\n",
       "    </tr>\n",
       "    <tr>\n",
       "      <th>1</th>\n",
       "      <td>52</td>\n",
       "      <td>3</td>\n",
       "      <td>5</td>\n",
       "      <td>8</td>\n",
       "      <td>44</td>\n",
       "      <td>0.043369</td>\n",
       "      <td>0.536673</td>\n",
       "      <td>0.959693</td>\n",
       "      <td>36.974790</td>\n",
       "      <td>0.468514</td>\n",
       "      <td>0.066667</td>\n",
       "      <td>0.050042</td>\n",
       "      <td>0.993328</td>\n",
       "      <td>4.34%</td>\n",
       "      <td>-0.401847</td>\n",
       "    </tr>\n",
       "    <tr>\n",
       "      <th>2</th>\n",
       "      <td>44</td>\n",
       "      <td>10</td>\n",
       "      <td>17</td>\n",
       "      <td>27</td>\n",
       "      <td>17</td>\n",
       "      <td>0.036697</td>\n",
       "      <td>1.788909</td>\n",
       "      <td>3.262956</td>\n",
       "      <td>14.285714</td>\n",
       "      <td>0.487270</td>\n",
       "      <td>0.134615</td>\n",
       "      <td>0.086739</td>\n",
       "      <td>0.949958</td>\n",
       "      <td>3.67%</td>\n",
       "      <td>-0.352654</td>\n",
       "    </tr>\n",
       "    <tr>\n",
       "      <th>3</th>\n",
       "      <td>37</td>\n",
       "      <td>23</td>\n",
       "      <td>12</td>\n",
       "      <td>35</td>\n",
       "      <td>2</td>\n",
       "      <td>0.030859</td>\n",
       "      <td>4.114490</td>\n",
       "      <td>2.303263</td>\n",
       "      <td>1.680672</td>\n",
       "      <td>0.497717</td>\n",
       "      <td>0.262411</td>\n",
       "      <td>0.117598</td>\n",
       "      <td>0.913261</td>\n",
       "      <td>3.09%</td>\n",
       "      <td>-0.235306</td>\n",
       "    </tr>\n",
       "    <tr>\n",
       "      <th>4</th>\n",
       "      <td>26</td>\n",
       "      <td>21</td>\n",
       "      <td>5</td>\n",
       "      <td>26</td>\n",
       "      <td>0</td>\n",
       "      <td>0.021685</td>\n",
       "      <td>3.756708</td>\n",
       "      <td>0.959693</td>\n",
       "      <td>0.000000</td>\n",
       "      <td>0.493384</td>\n",
       "      <td>0.347305</td>\n",
       "      <td>0.139283</td>\n",
       "      <td>0.882402</td>\n",
       "      <td>2.17%</td>\n",
       "      <td>-0.146078</td>\n",
       "    </tr>\n",
       "  </tbody>\n",
       "</table>\n",
       "</div>"
      ],
      "text/plain": [
       "   rth  caught_rth  missed_rth  ranked_rth  unranked_rth     rth_p  \\\n",
       "0  8    1           2           3           5             0.006672   \n",
       "1  52   3           5           8           44            0.043369   \n",
       "2  44   10          17          27          17            0.036697   \n",
       "3  37   23          12          35          2             0.030859   \n",
       "4  26   21          5           26          0             0.021685   \n",
       "\n",
       "   caught_rth_p  missed_rth_p  unranked_rth_p  reverse_fraction_rth  \\\n",
       "0  0.178891      0.383877      4.201681        0.466222               \n",
       "1  0.536673      0.959693      36.974790       0.468514               \n",
       "2  1.788909      3.262956      14.285714       0.487270               \n",
       "3  4.114490      2.303263      1.680672        0.497717               \n",
       "4  3.756708      0.959693      0.000000        0.493384               \n",
       "\n",
       "   fraction_rth  rth_p_cumsum  rth_p_reverse_cumsum rth_pct  rth_diff  \n",
       "0  0.125000      0.006672      1.000000              0.67%  -0.341222  \n",
       "1  0.066667      0.050042      0.993328              4.34%  -0.401847  \n",
       "2  0.134615      0.086739      0.949958              3.67%  -0.352654  \n",
       "3  0.262411      0.117598      0.913261              3.09%  -0.235306  \n",
       "4  0.347305      0.139283      0.882402              2.17%  -0.146078  "
      ]
     },
     "execution_count": 18,
     "metadata": {},
     "output_type": "execute_result"
    }
   ],
   "source": [
    "df,rth,caught_rth, missed_rth, unranked_rth, ranked_rth = get_metrics_df(rdf)\n",
    "\n",
    "# Compute Harsh recall \n",
    "cumsum_df = df[['caught_rth','rth']].cumsum()\n",
    "cumsum_df['fraction_rth'] = cumsum_df['caught_rth'] / cumsum_df['rth'] ## harsh def for recall\n",
    "\n",
    "\n",
    "reverse_cumsum_df = pd.DataFrame()\n",
    "reverse_cumsum_df['caught_rth'] = df.loc[::-1, 'caught_rth'].cumsum()[::-1]\n",
    "reverse_cumsum_df['rth'] = df.loc[::-1, 'rth'].cumsum()[::-1]\n",
    "reverse_cumsum_df['reverse_fraction_rth'] = reverse_cumsum_df['caught_rth'] / reverse_cumsum_df['rth']  ## harsh def\n",
    "\n",
    "df['reverse_fraction_rth'] = reverse_cumsum_df['reverse_fraction_rth']\n",
    "df['fraction_rth'] = cumsum_df['fraction_rth']\n",
    "\n",
    "\n",
    "rth_p_cumsum_df = df[['rth_p']].cumsum()\n",
    "df['rth_p_cumsum'] = rth_p_cumsum_df['rth_p']\n",
    "\n",
    "rth_p_reverse_cumsum_df = pd.DataFrame()\n",
    "rth_p_reverse_cumsum_df['rth_p'] = df.loc[::-1, 'rth_p'].cumsum()[::-1]\n",
    "df['rth_p_reverse_cumsum'] = rth_p_reverse_cumsum_df['rth_p']\n",
    "\n",
    "df['rth_pct'] = df['rth_p'].map(\"{:.2%}\".format)\n",
    "# df['rth_p_cumsum'] = df['rth_p_cumsum'].map(\"{:.2%}\".format)\n",
    "# df['rth_p_reverse_cumsum'] = df['rth_p_reverse_cumsum'].map(\"{:.2%}\".format)\n",
    "\n",
    "# df[\"rth_desc\"] = df[\"rth_pct\"] + \", Cumusum:\" + df[\"rth_p_cumsum\"] + \", Reverse Cumsum:\" +  df[\"rth_p_reverse_cumsum\"]\n",
    "\n",
    "df['rth_diff'] = df['fraction_rth'] - df['reverse_fraction_rth']\n",
    "\n",
    "df.head()"
   ]
  },
  {
   "cell_type": "code",
   "execution_count": 19,
   "id": "2a6bc41b",
   "metadata": {
    "scrolled": false
   },
   "outputs": [
    {
     "data": {
      "text/html": [
       "<div>\n",
       "<style scoped>\n",
       "    .dataframe tbody tr th:only-of-type {\n",
       "        vertical-align: middle;\n",
       "    }\n",
       "\n",
       "    .dataframe tbody tr th {\n",
       "        vertical-align: top;\n",
       "    }\n",
       "\n",
       "    .dataframe thead th {\n",
       "        text-align: right;\n",
       "    }\n",
       "</style>\n",
       "<table border=\"1\" class=\"dataframe\">\n",
       "  <thead>\n",
       "    <tr style=\"text-align: right;\">\n",
       "      <th></th>\n",
       "      <th>caught_rth</th>\n",
       "      <th>rth</th>\n",
       "      <th>fraction_rth</th>\n",
       "    </tr>\n",
       "  </thead>\n",
       "  <tbody>\n",
       "    <tr>\n",
       "      <th>116</th>\n",
       "      <td>502</td>\n",
       "      <td>930</td>\n",
       "      <td>0.539785</td>\n",
       "    </tr>\n",
       "    <tr>\n",
       "      <th>117</th>\n",
       "      <td>502</td>\n",
       "      <td>930</td>\n",
       "      <td>0.539785</td>\n",
       "    </tr>\n",
       "    <tr>\n",
       "      <th>118</th>\n",
       "      <td>502</td>\n",
       "      <td>931</td>\n",
       "      <td>0.539205</td>\n",
       "    </tr>\n",
       "    <tr>\n",
       "      <th>119</th>\n",
       "      <td>504</td>\n",
       "      <td>935</td>\n",
       "      <td>0.539037</td>\n",
       "    </tr>\n",
       "    <tr>\n",
       "      <th>120</th>\n",
       "      <td>559</td>\n",
       "      <td>1199</td>\n",
       "      <td>0.466222</td>\n",
       "    </tr>\n",
       "  </tbody>\n",
       "</table>\n",
       "</div>"
      ],
      "text/plain": [
       "     caught_rth   rth  fraction_rth\n",
       "116  502         930   0.539785    \n",
       "117  502         930   0.539785    \n",
       "118  502         931   0.539205    \n",
       "119  504         935   0.539037    \n",
       "120  559         1199  0.466222    "
      ]
     },
     "execution_count": 19,
     "metadata": {},
     "output_type": "execute_result"
    }
   ],
   "source": [
    "cumsum_df.tail()"
   ]
  },
  {
   "cell_type": "code",
   "execution_count": 20,
   "id": "c600460e",
   "metadata": {
    "scrolled": false
   },
   "outputs": [
    {
     "data": {
      "text/html": [
       "<div>\n",
       "<style scoped>\n",
       "    .dataframe tbody tr th:only-of-type {\n",
       "        vertical-align: middle;\n",
       "    }\n",
       "\n",
       "    .dataframe tbody tr th {\n",
       "        vertical-align: top;\n",
       "    }\n",
       "\n",
       "    .dataframe thead th {\n",
       "        text-align: right;\n",
       "    }\n",
       "</style>\n",
       "<table border=\"1\" class=\"dataframe\">\n",
       "  <thead>\n",
       "    <tr style=\"text-align: right;\">\n",
       "      <th></th>\n",
       "      <th>caught_rth</th>\n",
       "      <th>rth</th>\n",
       "      <th>reverse_fraction_rth</th>\n",
       "    </tr>\n",
       "  </thead>\n",
       "  <tbody>\n",
       "    <tr>\n",
       "      <th>116</th>\n",
       "      <td>57</td>\n",
       "      <td>271</td>\n",
       "      <td>0.210332</td>\n",
       "    </tr>\n",
       "    <tr>\n",
       "      <th>117</th>\n",
       "      <td>57</td>\n",
       "      <td>269</td>\n",
       "      <td>0.211896</td>\n",
       "    </tr>\n",
       "    <tr>\n",
       "      <th>118</th>\n",
       "      <td>57</td>\n",
       "      <td>269</td>\n",
       "      <td>0.211896</td>\n",
       "    </tr>\n",
       "    <tr>\n",
       "      <th>119</th>\n",
       "      <td>57</td>\n",
       "      <td>268</td>\n",
       "      <td>0.212687</td>\n",
       "    </tr>\n",
       "    <tr>\n",
       "      <th>120</th>\n",
       "      <td>55</td>\n",
       "      <td>264</td>\n",
       "      <td>0.208333</td>\n",
       "    </tr>\n",
       "  </tbody>\n",
       "</table>\n",
       "</div>"
      ],
      "text/plain": [
       "     caught_rth  rth  reverse_fraction_rth\n",
       "116  57          271  0.210332            \n",
       "117  57          269  0.211896            \n",
       "118  57          269  0.211896            \n",
       "119  57          268  0.212687            \n",
       "120  55          264  0.208333            "
      ]
     },
     "execution_count": 20,
     "metadata": {},
     "output_type": "execute_result"
    }
   ],
   "source": [
    "reverse_cumsum_df.tail()"
   ]
  },
  {
   "cell_type": "code",
   "execution_count": 21,
   "id": "ce3e1149",
   "metadata": {
    "scrolled": false
   },
   "outputs": [
    {
     "data": {
      "text/html": [
       "<div>\n",
       "<style scoped>\n",
       "    .dataframe tbody tr th:only-of-type {\n",
       "        vertical-align: middle;\n",
       "    }\n",
       "\n",
       "    .dataframe tbody tr th {\n",
       "        vertical-align: top;\n",
       "    }\n",
       "\n",
       "    .dataframe thead th {\n",
       "        text-align: right;\n",
       "    }\n",
       "</style>\n",
       "<table border=\"1\" class=\"dataframe\">\n",
       "  <thead>\n",
       "    <tr style=\"text-align: right;\">\n",
       "      <th></th>\n",
       "      <th>rth</th>\n",
       "      <th>caught_rth</th>\n",
       "      <th>missed_rth</th>\n",
       "      <th>ranked_rth</th>\n",
       "      <th>unranked_rth</th>\n",
       "      <th>rth_p</th>\n",
       "      <th>caught_rth_p</th>\n",
       "      <th>missed_rth_p</th>\n",
       "      <th>unranked_rth_p</th>\n",
       "      <th>reverse_fraction_rth</th>\n",
       "      <th>fraction_rth</th>\n",
       "      <th>rth_p_cumsum</th>\n",
       "      <th>rth_p_reverse_cumsum</th>\n",
       "      <th>rth_pct</th>\n",
       "      <th>rth_diff</th>\n",
       "    </tr>\n",
       "  </thead>\n",
       "  <tbody>\n",
       "    <tr>\n",
       "      <th>0</th>\n",
       "      <td>8</td>\n",
       "      <td>1</td>\n",
       "      <td>2</td>\n",
       "      <td>3</td>\n",
       "      <td>5</td>\n",
       "      <td>0.006672</td>\n",
       "      <td>0.178891</td>\n",
       "      <td>0.383877</td>\n",
       "      <td>4.201681</td>\n",
       "      <td>0.466222</td>\n",
       "      <td>0.125000</td>\n",
       "      <td>0.006672</td>\n",
       "      <td>1.000000</td>\n",
       "      <td>0.67%</td>\n",
       "      <td>-0.341222</td>\n",
       "    </tr>\n",
       "    <tr>\n",
       "      <th>1</th>\n",
       "      <td>52</td>\n",
       "      <td>3</td>\n",
       "      <td>5</td>\n",
       "      <td>8</td>\n",
       "      <td>44</td>\n",
       "      <td>0.043369</td>\n",
       "      <td>0.536673</td>\n",
       "      <td>0.959693</td>\n",
       "      <td>36.974790</td>\n",
       "      <td>0.468514</td>\n",
       "      <td>0.066667</td>\n",
       "      <td>0.050042</td>\n",
       "      <td>0.993328</td>\n",
       "      <td>4.34%</td>\n",
       "      <td>-0.401847</td>\n",
       "    </tr>\n",
       "    <tr>\n",
       "      <th>2</th>\n",
       "      <td>44</td>\n",
       "      <td>10</td>\n",
       "      <td>17</td>\n",
       "      <td>27</td>\n",
       "      <td>17</td>\n",
       "      <td>0.036697</td>\n",
       "      <td>1.788909</td>\n",
       "      <td>3.262956</td>\n",
       "      <td>14.285714</td>\n",
       "      <td>0.487270</td>\n",
       "      <td>0.134615</td>\n",
       "      <td>0.086739</td>\n",
       "      <td>0.949958</td>\n",
       "      <td>3.67%</td>\n",
       "      <td>-0.352654</td>\n",
       "    </tr>\n",
       "    <tr>\n",
       "      <th>3</th>\n",
       "      <td>37</td>\n",
       "      <td>23</td>\n",
       "      <td>12</td>\n",
       "      <td>35</td>\n",
       "      <td>2</td>\n",
       "      <td>0.030859</td>\n",
       "      <td>4.114490</td>\n",
       "      <td>2.303263</td>\n",
       "      <td>1.680672</td>\n",
       "      <td>0.497717</td>\n",
       "      <td>0.262411</td>\n",
       "      <td>0.117598</td>\n",
       "      <td>0.913261</td>\n",
       "      <td>3.09%</td>\n",
       "      <td>-0.235306</td>\n",
       "    </tr>\n",
       "    <tr>\n",
       "      <th>4</th>\n",
       "      <td>26</td>\n",
       "      <td>21</td>\n",
       "      <td>5</td>\n",
       "      <td>26</td>\n",
       "      <td>0</td>\n",
       "      <td>0.021685</td>\n",
       "      <td>3.756708</td>\n",
       "      <td>0.959693</td>\n",
       "      <td>0.000000</td>\n",
       "      <td>0.493384</td>\n",
       "      <td>0.347305</td>\n",
       "      <td>0.139283</td>\n",
       "      <td>0.882402</td>\n",
       "      <td>2.17%</td>\n",
       "      <td>-0.146078</td>\n",
       "    </tr>\n",
       "    <tr>\n",
       "      <th>5</th>\n",
       "      <td>36</td>\n",
       "      <td>25</td>\n",
       "      <td>11</td>\n",
       "      <td>36</td>\n",
       "      <td>0</td>\n",
       "      <td>0.030025</td>\n",
       "      <td>4.472272</td>\n",
       "      <td>2.111324</td>\n",
       "      <td>0.000000</td>\n",
       "      <td>0.485465</td>\n",
       "      <td>0.408867</td>\n",
       "      <td>0.169308</td>\n",
       "      <td>0.860717</td>\n",
       "      <td>3.00%</td>\n",
       "      <td>-0.076598</td>\n",
       "    </tr>\n",
       "    <tr>\n",
       "      <th>6</th>\n",
       "      <td>30</td>\n",
       "      <td>22</td>\n",
       "      <td>8</td>\n",
       "      <td>30</td>\n",
       "      <td>0</td>\n",
       "      <td>0.025021</td>\n",
       "      <td>3.935599</td>\n",
       "      <td>1.535509</td>\n",
       "      <td>0.000000</td>\n",
       "      <td>0.477912</td>\n",
       "      <td>0.450644</td>\n",
       "      <td>0.194329</td>\n",
       "      <td>0.830692</td>\n",
       "      <td>2.50%</td>\n",
       "      <td>-0.027268</td>\n",
       "    </tr>\n",
       "    <tr>\n",
       "      <th>7</th>\n",
       "      <td>34</td>\n",
       "      <td>27</td>\n",
       "      <td>6</td>\n",
       "      <td>33</td>\n",
       "      <td>1</td>\n",
       "      <td>0.028357</td>\n",
       "      <td>4.830054</td>\n",
       "      <td>1.151631</td>\n",
       "      <td>0.840336</td>\n",
       "      <td>0.469979</td>\n",
       "      <td>0.494382</td>\n",
       "      <td>0.222686</td>\n",
       "      <td>0.805671</td>\n",
       "      <td>2.84%</td>\n",
       "      <td>0.024403</td>\n",
       "    </tr>\n",
       "    <tr>\n",
       "      <th>8</th>\n",
       "      <td>29</td>\n",
       "      <td>20</td>\n",
       "      <td>7</td>\n",
       "      <td>27</td>\n",
       "      <td>2</td>\n",
       "      <td>0.024187</td>\n",
       "      <td>3.577818</td>\n",
       "      <td>1.343570</td>\n",
       "      <td>1.680672</td>\n",
       "      <td>0.458155</td>\n",
       "      <td>0.513514</td>\n",
       "      <td>0.246872</td>\n",
       "      <td>0.777314</td>\n",
       "      <td>2.42%</td>\n",
       "      <td>0.055359</td>\n",
       "    </tr>\n",
       "    <tr>\n",
       "      <th>9</th>\n",
       "      <td>25</td>\n",
       "      <td>18</td>\n",
       "      <td>6</td>\n",
       "      <td>24</td>\n",
       "      <td>1</td>\n",
       "      <td>0.020851</td>\n",
       "      <td>3.220036</td>\n",
       "      <td>1.151631</td>\n",
       "      <td>0.840336</td>\n",
       "      <td>0.450720</td>\n",
       "      <td>0.529595</td>\n",
       "      <td>0.267723</td>\n",
       "      <td>0.753128</td>\n",
       "      <td>2.09%</td>\n",
       "      <td>0.078875</td>\n",
       "    </tr>\n",
       "  </tbody>\n",
       "</table>\n",
       "</div>"
      ],
      "text/plain": [
       "   rth  caught_rth  missed_rth  ranked_rth  unranked_rth     rth_p  \\\n",
       "0  8    1           2           3           5             0.006672   \n",
       "1  52   3           5           8           44            0.043369   \n",
       "2  44   10          17          27          17            0.036697   \n",
       "3  37   23          12          35          2             0.030859   \n",
       "4  26   21          5           26          0             0.021685   \n",
       "5  36   25          11          36          0             0.030025   \n",
       "6  30   22          8           30          0             0.025021   \n",
       "7  34   27          6           33          1             0.028357   \n",
       "8  29   20          7           27          2             0.024187   \n",
       "9  25   18          6           24          1             0.020851   \n",
       "\n",
       "   caught_rth_p  missed_rth_p  unranked_rth_p  reverse_fraction_rth  \\\n",
       "0  0.178891      0.383877      4.201681        0.466222               \n",
       "1  0.536673      0.959693      36.974790       0.468514               \n",
       "2  1.788909      3.262956      14.285714       0.487270               \n",
       "3  4.114490      2.303263      1.680672        0.497717               \n",
       "4  3.756708      0.959693      0.000000        0.493384               \n",
       "5  4.472272      2.111324      0.000000        0.485465               \n",
       "6  3.935599      1.535509      0.000000        0.477912               \n",
       "7  4.830054      1.151631      0.840336        0.469979               \n",
       "8  3.577818      1.343570      1.680672        0.458155               \n",
       "9  3.220036      1.151631      0.840336        0.450720               \n",
       "\n",
       "   fraction_rth  rth_p_cumsum  rth_p_reverse_cumsum rth_pct  rth_diff  \n",
       "0  0.125000      0.006672      1.000000              0.67%  -0.341222  \n",
       "1  0.066667      0.050042      0.993328              4.34%  -0.401847  \n",
       "2  0.134615      0.086739      0.949958              3.67%  -0.352654  \n",
       "3  0.262411      0.117598      0.913261              3.09%  -0.235306  \n",
       "4  0.347305      0.139283      0.882402              2.17%  -0.146078  \n",
       "5  0.408867      0.169308      0.860717              3.00%  -0.076598  \n",
       "6  0.450644      0.194329      0.830692              2.50%  -0.027268  \n",
       "7  0.494382      0.222686      0.805671              2.84%   0.024403  \n",
       "8  0.513514      0.246872      0.777314              2.42%   0.055359  \n",
       "9  0.529595      0.267723      0.753128              2.09%   0.078875  "
      ]
     },
     "execution_count": 21,
     "metadata": {},
     "output_type": "execute_result"
    }
   ],
   "source": [
    "df.head(10)"
   ]
  },
  {
   "cell_type": "markdown",
   "id": "a40ed779",
   "metadata": {},
   "source": [
    "## Caught, Missed & Unranked RTHs"
   ]
  },
  {
   "cell_type": "code",
   "execution_count": 22,
   "id": "683a5531",
   "metadata": {
    "scrolled": false
   },
   "outputs": [],
   "source": [
    "temp_df = df[:-1]\n",
    "graph_height = 750"
   ]
  },
  {
   "cell_type": "code",
   "execution_count": 38,
   "id": "60949b7b",
   "metadata": {
    "scrolled": true
   },
   "outputs": [
    {
     "data": {
      "application/vnd.plotly.v1+json": {
       "config": {
        "plotlyServerURL": "https://plot.ly"
       },
       "data": [
        {
         "alignmentgroup": "True",
         "hovertemplate": "variable=caught_rth<br>value=%{x}<br>Length Of Stay=%{y}<extra></extra>",
         "legendgroup": "caught_rth",
         "marker": {
          "color": "green",
          "pattern": {
           "shape": ""
          }
         },
         "name": "caught_rth",
         "offsetgroup": "caught_rth",
         "orientation": "h",
         "showlegend": true,
         "textposition": "auto",
         "type": "bar",
         "x": [
          1,
          3,
          10,
          23,
          21,
          25,
          22,
          27,
          20,
          18,
          20,
          19,
          17,
          14,
          17,
          17,
          9,
          12,
          11,
          10,
          5,
          8,
          10,
          9,
          8,
          6,
          6,
          6,
          3,
          3,
          4,
          6,
          3,
          5,
          2,
          3,
          2,
          4,
          5,
          3,
          2,
          1,
          4,
          4,
          2,
          2,
          2,
          2,
          5,
          7,
          1,
          2,
          1,
          3,
          3,
          1,
          1,
          2,
          2,
          2,
          1,
          2,
          0,
          2,
          1,
          0,
          1,
          2,
          0,
          2,
          0,
          1,
          1,
          0,
          2,
          0,
          1,
          3,
          2,
          0,
          1,
          1,
          0,
          1,
          0,
          0,
          1,
          1,
          0,
          0,
          0,
          0,
          0,
          0,
          0,
          2,
          1,
          0,
          0,
          1,
          0,
          1,
          0,
          0,
          0,
          1,
          1,
          1,
          0,
          0,
          1,
          0,
          0,
          1,
          0,
          0,
          0,
          0,
          0,
          2,
          55
         ],
         "xaxis": "x",
         "y": [
          0,
          1,
          2,
          3,
          4,
          5,
          6,
          7,
          8,
          9,
          10,
          11,
          12,
          13,
          14,
          15,
          16,
          17,
          18,
          19,
          20,
          21,
          22,
          23,
          24,
          25,
          26,
          27,
          28,
          29,
          30,
          31,
          32,
          33,
          34,
          35,
          36,
          37,
          38,
          39,
          40,
          41,
          42,
          43,
          44,
          45,
          46,
          47,
          48,
          49,
          50,
          51,
          52,
          53,
          54,
          55,
          56,
          57,
          58,
          59,
          60,
          61,
          62,
          63,
          64,
          65,
          66,
          67,
          68,
          69,
          70,
          71,
          72,
          73,
          74,
          75,
          76,
          77,
          78,
          79,
          80,
          81,
          82,
          83,
          84,
          85,
          86,
          87,
          88,
          89,
          90,
          91,
          92,
          93,
          94,
          95,
          96,
          97,
          98,
          99,
          100,
          101,
          102,
          103,
          104,
          105,
          106,
          107,
          108,
          109,
          110,
          111,
          112,
          113,
          114,
          115,
          116,
          117,
          118,
          119,
          120
         ],
         "yaxis": "y"
        },
        {
         "alignmentgroup": "True",
         "hovertemplate": "variable=missed_rth<br>value=%{x}<br>Length Of Stay=%{y}<extra></extra>",
         "legendgroup": "missed_rth",
         "marker": {
          "color": "yellow",
          "pattern": {
           "shape": ""
          }
         },
         "name": "missed_rth",
         "offsetgroup": "missed_rth",
         "orientation": "h",
         "showlegend": true,
         "textposition": "auto",
         "type": "bar",
         "x": [
          2,
          5,
          17,
          12,
          5,
          11,
          8,
          6,
          7,
          6,
          7,
          7,
          7,
          6,
          6,
          5,
          5,
          4,
          3,
          3,
          5,
          6,
          7,
          0,
          2,
          8,
          2,
          6,
          6,
          3,
          3,
          4,
          3,
          1,
          0,
          2,
          0,
          3,
          4,
          3,
          8,
          2,
          5,
          4,
          1,
          2,
          5,
          2,
          2,
          0,
          4,
          3,
          7,
          4,
          1,
          0,
          1,
          2,
          2,
          2,
          0,
          2,
          0,
          1,
          2,
          4,
          2,
          1,
          3,
          0,
          1,
          2,
          1,
          3,
          0,
          2,
          1,
          0,
          0,
          3,
          0,
          0,
          1,
          1,
          2,
          1,
          2,
          4,
          1,
          1,
          4,
          3,
          2,
          3,
          1,
          2,
          1,
          3,
          2,
          0,
          2,
          0,
          0,
          1,
          1,
          0,
          0,
          1,
          1,
          2,
          1,
          2,
          0,
          1,
          0,
          0,
          2,
          0,
          1,
          2,
          185
         ],
         "xaxis": "x",
         "y": [
          0,
          1,
          2,
          3,
          4,
          5,
          6,
          7,
          8,
          9,
          10,
          11,
          12,
          13,
          14,
          15,
          16,
          17,
          18,
          19,
          20,
          21,
          22,
          23,
          24,
          25,
          26,
          27,
          28,
          29,
          30,
          31,
          32,
          33,
          34,
          35,
          36,
          37,
          38,
          39,
          40,
          41,
          42,
          43,
          44,
          45,
          46,
          47,
          48,
          49,
          50,
          51,
          52,
          53,
          54,
          55,
          56,
          57,
          58,
          59,
          60,
          61,
          62,
          63,
          64,
          65,
          66,
          67,
          68,
          69,
          70,
          71,
          72,
          73,
          74,
          75,
          76,
          77,
          78,
          79,
          80,
          81,
          82,
          83,
          84,
          85,
          86,
          87,
          88,
          89,
          90,
          91,
          92,
          93,
          94,
          95,
          96,
          97,
          98,
          99,
          100,
          101,
          102,
          103,
          104,
          105,
          106,
          107,
          108,
          109,
          110,
          111,
          112,
          113,
          114,
          115,
          116,
          117,
          118,
          119,
          120
         ],
         "yaxis": "y"
        },
        {
         "alignmentgroup": "True",
         "hovertemplate": "variable=unranked_rth<br>value=%{x}<br>Length Of Stay=%{y}<extra></extra>",
         "legendgroup": "unranked_rth",
         "marker": {
          "color": "red",
          "pattern": {
           "shape": ""
          }
         },
         "name": "unranked_rth",
         "offsetgroup": "unranked_rth",
         "orientation": "h",
         "showlegend": true,
         "textposition": "auto",
         "type": "bar",
         "x": [
          5,
          44,
          17,
          2,
          0,
          0,
          0,
          1,
          2,
          1,
          0,
          0,
          1,
          0,
          1,
          1,
          0,
          0,
          1,
          0,
          0,
          1,
          0,
          2,
          0,
          0,
          1,
          0,
          0,
          0,
          0,
          1,
          0,
          0,
          0,
          0,
          0,
          1,
          0,
          0,
          0,
          1,
          1,
          0,
          0,
          0,
          1,
          0,
          0,
          0,
          0,
          1,
          0,
          0,
          0,
          1,
          0,
          0,
          1,
          0,
          0,
          0,
          1,
          1,
          0,
          0,
          0,
          1,
          0,
          0,
          0,
          0,
          0,
          0,
          0,
          0,
          0,
          0,
          0,
          0,
          1,
          0,
          0,
          0,
          0,
          0,
          0,
          0,
          0,
          1,
          0,
          0,
          0,
          1,
          0,
          0,
          0,
          0,
          0,
          0,
          0,
          0,
          0,
          0,
          0,
          1,
          0,
          0,
          0,
          0,
          0,
          0,
          0,
          0,
          0,
          0,
          0,
          0,
          0,
          0,
          24
         ],
         "xaxis": "x",
         "y": [
          0,
          1,
          2,
          3,
          4,
          5,
          6,
          7,
          8,
          9,
          10,
          11,
          12,
          13,
          14,
          15,
          16,
          17,
          18,
          19,
          20,
          21,
          22,
          23,
          24,
          25,
          26,
          27,
          28,
          29,
          30,
          31,
          32,
          33,
          34,
          35,
          36,
          37,
          38,
          39,
          40,
          41,
          42,
          43,
          44,
          45,
          46,
          47,
          48,
          49,
          50,
          51,
          52,
          53,
          54,
          55,
          56,
          57,
          58,
          59,
          60,
          61,
          62,
          63,
          64,
          65,
          66,
          67,
          68,
          69,
          70,
          71,
          72,
          73,
          74,
          75,
          76,
          77,
          78,
          79,
          80,
          81,
          82,
          83,
          84,
          85,
          86,
          87,
          88,
          89,
          90,
          91,
          92,
          93,
          94,
          95,
          96,
          97,
          98,
          99,
          100,
          101,
          102,
          103,
          104,
          105,
          106,
          107,
          108,
          109,
          110,
          111,
          112,
          113,
          114,
          115,
          116,
          117,
          118,
          119,
          120
         ],
         "yaxis": "y"
        }
       ],
       "layout": {
        "barmode": "relative",
        "height": 750,
        "legend": {
         "title": {
          "text": "variable"
         },
         "tracegroupgap": 0
        },
        "template": {
         "data": {
          "bar": [
           {
            "error_x": {
             "color": "#2a3f5f"
            },
            "error_y": {
             "color": "#2a3f5f"
            },
            "marker": {
             "line": {
              "color": "#E5ECF6",
              "width": 0.5
             },
             "pattern": {
              "fillmode": "overlay",
              "size": 10,
              "solidity": 0.2
             }
            },
            "type": "bar"
           }
          ],
          "barpolar": [
           {
            "marker": {
             "line": {
              "color": "#E5ECF6",
              "width": 0.5
             },
             "pattern": {
              "fillmode": "overlay",
              "size": 10,
              "solidity": 0.2
             }
            },
            "type": "barpolar"
           }
          ],
          "carpet": [
           {
            "aaxis": {
             "endlinecolor": "#2a3f5f",
             "gridcolor": "white",
             "linecolor": "white",
             "minorgridcolor": "white",
             "startlinecolor": "#2a3f5f"
            },
            "baxis": {
             "endlinecolor": "#2a3f5f",
             "gridcolor": "white",
             "linecolor": "white",
             "minorgridcolor": "white",
             "startlinecolor": "#2a3f5f"
            },
            "type": "carpet"
           }
          ],
          "choropleth": [
           {
            "colorbar": {
             "outlinewidth": 0,
             "ticks": ""
            },
            "type": "choropleth"
           }
          ],
          "contour": [
           {
            "colorbar": {
             "outlinewidth": 0,
             "ticks": ""
            },
            "colorscale": [
             [
              0,
              "#0d0887"
             ],
             [
              0.1111111111111111,
              "#46039f"
             ],
             [
              0.2222222222222222,
              "#7201a8"
             ],
             [
              0.3333333333333333,
              "#9c179e"
             ],
             [
              0.4444444444444444,
              "#bd3786"
             ],
             [
              0.5555555555555556,
              "#d8576b"
             ],
             [
              0.6666666666666666,
              "#ed7953"
             ],
             [
              0.7777777777777778,
              "#fb9f3a"
             ],
             [
              0.8888888888888888,
              "#fdca26"
             ],
             [
              1,
              "#f0f921"
             ]
            ],
            "type": "contour"
           }
          ],
          "contourcarpet": [
           {
            "colorbar": {
             "outlinewidth": 0,
             "ticks": ""
            },
            "type": "contourcarpet"
           }
          ],
          "heatmap": [
           {
            "colorbar": {
             "outlinewidth": 0,
             "ticks": ""
            },
            "colorscale": [
             [
              0,
              "#0d0887"
             ],
             [
              0.1111111111111111,
              "#46039f"
             ],
             [
              0.2222222222222222,
              "#7201a8"
             ],
             [
              0.3333333333333333,
              "#9c179e"
             ],
             [
              0.4444444444444444,
              "#bd3786"
             ],
             [
              0.5555555555555556,
              "#d8576b"
             ],
             [
              0.6666666666666666,
              "#ed7953"
             ],
             [
              0.7777777777777778,
              "#fb9f3a"
             ],
             [
              0.8888888888888888,
              "#fdca26"
             ],
             [
              1,
              "#f0f921"
             ]
            ],
            "type": "heatmap"
           }
          ],
          "heatmapgl": [
           {
            "colorbar": {
             "outlinewidth": 0,
             "ticks": ""
            },
            "colorscale": [
             [
              0,
              "#0d0887"
             ],
             [
              0.1111111111111111,
              "#46039f"
             ],
             [
              0.2222222222222222,
              "#7201a8"
             ],
             [
              0.3333333333333333,
              "#9c179e"
             ],
             [
              0.4444444444444444,
              "#bd3786"
             ],
             [
              0.5555555555555556,
              "#d8576b"
             ],
             [
              0.6666666666666666,
              "#ed7953"
             ],
             [
              0.7777777777777778,
              "#fb9f3a"
             ],
             [
              0.8888888888888888,
              "#fdca26"
             ],
             [
              1,
              "#f0f921"
             ]
            ],
            "type": "heatmapgl"
           }
          ],
          "histogram": [
           {
            "marker": {
             "pattern": {
              "fillmode": "overlay",
              "size": 10,
              "solidity": 0.2
             }
            },
            "type": "histogram"
           }
          ],
          "histogram2d": [
           {
            "colorbar": {
             "outlinewidth": 0,
             "ticks": ""
            },
            "colorscale": [
             [
              0,
              "#0d0887"
             ],
             [
              0.1111111111111111,
              "#46039f"
             ],
             [
              0.2222222222222222,
              "#7201a8"
             ],
             [
              0.3333333333333333,
              "#9c179e"
             ],
             [
              0.4444444444444444,
              "#bd3786"
             ],
             [
              0.5555555555555556,
              "#d8576b"
             ],
             [
              0.6666666666666666,
              "#ed7953"
             ],
             [
              0.7777777777777778,
              "#fb9f3a"
             ],
             [
              0.8888888888888888,
              "#fdca26"
             ],
             [
              1,
              "#f0f921"
             ]
            ],
            "type": "histogram2d"
           }
          ],
          "histogram2dcontour": [
           {
            "colorbar": {
             "outlinewidth": 0,
             "ticks": ""
            },
            "colorscale": [
             [
              0,
              "#0d0887"
             ],
             [
              0.1111111111111111,
              "#46039f"
             ],
             [
              0.2222222222222222,
              "#7201a8"
             ],
             [
              0.3333333333333333,
              "#9c179e"
             ],
             [
              0.4444444444444444,
              "#bd3786"
             ],
             [
              0.5555555555555556,
              "#d8576b"
             ],
             [
              0.6666666666666666,
              "#ed7953"
             ],
             [
              0.7777777777777778,
              "#fb9f3a"
             ],
             [
              0.8888888888888888,
              "#fdca26"
             ],
             [
              1,
              "#f0f921"
             ]
            ],
            "type": "histogram2dcontour"
           }
          ],
          "mesh3d": [
           {
            "colorbar": {
             "outlinewidth": 0,
             "ticks": ""
            },
            "type": "mesh3d"
           }
          ],
          "parcoords": [
           {
            "line": {
             "colorbar": {
              "outlinewidth": 0,
              "ticks": ""
             }
            },
            "type": "parcoords"
           }
          ],
          "pie": [
           {
            "automargin": true,
            "type": "pie"
           }
          ],
          "scatter": [
           {
            "marker": {
             "colorbar": {
              "outlinewidth": 0,
              "ticks": ""
             }
            },
            "type": "scatter"
           }
          ],
          "scatter3d": [
           {
            "line": {
             "colorbar": {
              "outlinewidth": 0,
              "ticks": ""
             }
            },
            "marker": {
             "colorbar": {
              "outlinewidth": 0,
              "ticks": ""
             }
            },
            "type": "scatter3d"
           }
          ],
          "scattercarpet": [
           {
            "marker": {
             "colorbar": {
              "outlinewidth": 0,
              "ticks": ""
             }
            },
            "type": "scattercarpet"
           }
          ],
          "scattergeo": [
           {
            "marker": {
             "colorbar": {
              "outlinewidth": 0,
              "ticks": ""
             }
            },
            "type": "scattergeo"
           }
          ],
          "scattergl": [
           {
            "marker": {
             "colorbar": {
              "outlinewidth": 0,
              "ticks": ""
             }
            },
            "type": "scattergl"
           }
          ],
          "scattermapbox": [
           {
            "marker": {
             "colorbar": {
              "outlinewidth": 0,
              "ticks": ""
             }
            },
            "type": "scattermapbox"
           }
          ],
          "scatterpolar": [
           {
            "marker": {
             "colorbar": {
              "outlinewidth": 0,
              "ticks": ""
             }
            },
            "type": "scatterpolar"
           }
          ],
          "scatterpolargl": [
           {
            "marker": {
             "colorbar": {
              "outlinewidth": 0,
              "ticks": ""
             }
            },
            "type": "scatterpolargl"
           }
          ],
          "scatterternary": [
           {
            "marker": {
             "colorbar": {
              "outlinewidth": 0,
              "ticks": ""
             }
            },
            "type": "scatterternary"
           }
          ],
          "surface": [
           {
            "colorbar": {
             "outlinewidth": 0,
             "ticks": ""
            },
            "colorscale": [
             [
              0,
              "#0d0887"
             ],
             [
              0.1111111111111111,
              "#46039f"
             ],
             [
              0.2222222222222222,
              "#7201a8"
             ],
             [
              0.3333333333333333,
              "#9c179e"
             ],
             [
              0.4444444444444444,
              "#bd3786"
             ],
             [
              0.5555555555555556,
              "#d8576b"
             ],
             [
              0.6666666666666666,
              "#ed7953"
             ],
             [
              0.7777777777777778,
              "#fb9f3a"
             ],
             [
              0.8888888888888888,
              "#fdca26"
             ],
             [
              1,
              "#f0f921"
             ]
            ],
            "type": "surface"
           }
          ],
          "table": [
           {
            "cells": {
             "fill": {
              "color": "#EBF0F8"
             },
             "line": {
              "color": "white"
             }
            },
            "header": {
             "fill": {
              "color": "#C8D4E3"
             },
             "line": {
              "color": "white"
             }
            },
            "type": "table"
           }
          ]
         },
         "layout": {
          "annotationdefaults": {
           "arrowcolor": "#2a3f5f",
           "arrowhead": 0,
           "arrowwidth": 1
          },
          "autotypenumbers": "strict",
          "coloraxis": {
           "colorbar": {
            "outlinewidth": 0,
            "ticks": ""
           }
          },
          "colorscale": {
           "diverging": [
            [
             0,
             "#8e0152"
            ],
            [
             0.1,
             "#c51b7d"
            ],
            [
             0.2,
             "#de77ae"
            ],
            [
             0.3,
             "#f1b6da"
            ],
            [
             0.4,
             "#fde0ef"
            ],
            [
             0.5,
             "#f7f7f7"
            ],
            [
             0.6,
             "#e6f5d0"
            ],
            [
             0.7,
             "#b8e186"
            ],
            [
             0.8,
             "#7fbc41"
            ],
            [
             0.9,
             "#4d9221"
            ],
            [
             1,
             "#276419"
            ]
           ],
           "sequential": [
            [
             0,
             "#0d0887"
            ],
            [
             0.1111111111111111,
             "#46039f"
            ],
            [
             0.2222222222222222,
             "#7201a8"
            ],
            [
             0.3333333333333333,
             "#9c179e"
            ],
            [
             0.4444444444444444,
             "#bd3786"
            ],
            [
             0.5555555555555556,
             "#d8576b"
            ],
            [
             0.6666666666666666,
             "#ed7953"
            ],
            [
             0.7777777777777778,
             "#fb9f3a"
            ],
            [
             0.8888888888888888,
             "#fdca26"
            ],
            [
             1,
             "#f0f921"
            ]
           ],
           "sequentialminus": [
            [
             0,
             "#0d0887"
            ],
            [
             0.1111111111111111,
             "#46039f"
            ],
            [
             0.2222222222222222,
             "#7201a8"
            ],
            [
             0.3333333333333333,
             "#9c179e"
            ],
            [
             0.4444444444444444,
             "#bd3786"
            ],
            [
             0.5555555555555556,
             "#d8576b"
            ],
            [
             0.6666666666666666,
             "#ed7953"
            ],
            [
             0.7777777777777778,
             "#fb9f3a"
            ],
            [
             0.8888888888888888,
             "#fdca26"
            ],
            [
             1,
             "#f0f921"
            ]
           ]
          },
          "colorway": [
           "#636efa",
           "#EF553B",
           "#00cc96",
           "#ab63fa",
           "#FFA15A",
           "#19d3f3",
           "#FF6692",
           "#B6E880",
           "#FF97FF",
           "#FECB52"
          ],
          "font": {
           "color": "#2a3f5f"
          },
          "geo": {
           "bgcolor": "white",
           "lakecolor": "white",
           "landcolor": "#E5ECF6",
           "showlakes": true,
           "showland": true,
           "subunitcolor": "white"
          },
          "hoverlabel": {
           "align": "left"
          },
          "hovermode": "closest",
          "mapbox": {
           "style": "light"
          },
          "paper_bgcolor": "white",
          "plot_bgcolor": "#E5ECF6",
          "polar": {
           "angularaxis": {
            "gridcolor": "white",
            "linecolor": "white",
            "ticks": ""
           },
           "bgcolor": "#E5ECF6",
           "radialaxis": {
            "gridcolor": "white",
            "linecolor": "white",
            "ticks": ""
           }
          },
          "scene": {
           "xaxis": {
            "backgroundcolor": "#E5ECF6",
            "gridcolor": "white",
            "gridwidth": 2,
            "linecolor": "white",
            "showbackground": true,
            "ticks": "",
            "zerolinecolor": "white"
           },
           "yaxis": {
            "backgroundcolor": "#E5ECF6",
            "gridcolor": "white",
            "gridwidth": 2,
            "linecolor": "white",
            "showbackground": true,
            "ticks": "",
            "zerolinecolor": "white"
           },
           "zaxis": {
            "backgroundcolor": "#E5ECF6",
            "gridcolor": "white",
            "gridwidth": 2,
            "linecolor": "white",
            "showbackground": true,
            "ticks": "",
            "zerolinecolor": "white"
           }
          },
          "shapedefaults": {
           "line": {
            "color": "#2a3f5f"
           }
          },
          "ternary": {
           "aaxis": {
            "gridcolor": "white",
            "linecolor": "white",
            "ticks": ""
           },
           "baxis": {
            "gridcolor": "white",
            "linecolor": "white",
            "ticks": ""
           },
           "bgcolor": "#E5ECF6",
           "caxis": {
            "gridcolor": "white",
            "linecolor": "white",
            "ticks": ""
           }
          },
          "title": {
           "x": 0.05
          },
          "xaxis": {
           "automargin": true,
           "gridcolor": "white",
           "linecolor": "white",
           "ticks": "",
           "title": {
            "standoff": 15
           },
           "zerolinecolor": "white",
           "zerolinewidth": 2
          },
          "yaxis": {
           "automargin": true,
           "gridcolor": "white",
           "linecolor": "white",
           "ticks": "",
           "title": {
            "standoff": 15
           },
           "zerolinecolor": "white",
           "zerolinewidth": 2
          }
         }
        },
        "title": {
         "text": "Caught, Missed & Unranked RTH in avante all facilities, 2021-01-15 to 2021-10-15"
        },
        "xaxis": {
         "anchor": "y",
         "domain": [
          0,
          1
         ],
         "title": {
          "text": "RTH"
         }
        },
        "yaxis": {
         "anchor": "x",
         "autorange": "reversed",
         "domain": [
          0,
          1
         ],
         "title": {
          "text": "Length Of Stay"
         }
        }
       }
      },
      "text/html": [
       "<div>                            <div id=\"d8eb54e7-9aa7-4790-93bc-b7d283b67a1d\" class=\"plotly-graph-div\" style=\"height:750px; width:100%;\"></div>            <script type=\"text/javascript\">                require([\"plotly\"], function(Plotly) {                    window.PLOTLYENV=window.PLOTLYENV || {};                                    if (document.getElementById(\"d8eb54e7-9aa7-4790-93bc-b7d283b67a1d\")) {                    Plotly.newPlot(                        \"d8eb54e7-9aa7-4790-93bc-b7d283b67a1d\",                        [{\"alignmentgroup\":\"True\",\"hovertemplate\":\"variable=caught_rth<br>value=%{x}<br>Length Of Stay=%{y}<extra></extra>\",\"legendgroup\":\"caught_rth\",\"marker\":{\"color\":\"green\",\"pattern\":{\"shape\":\"\"}},\"name\":\"caught_rth\",\"offsetgroup\":\"caught_rth\",\"orientation\":\"h\",\"showlegend\":true,\"textposition\":\"auto\",\"type\":\"bar\",\"x\":[1,3,10,23,21,25,22,27,20,18,20,19,17,14,17,17,9,12,11,10,5,8,10,9,8,6,6,6,3,3,4,6,3,5,2,3,2,4,5,3,2,1,4,4,2,2,2,2,5,7,1,2,1,3,3,1,1,2,2,2,1,2,0,2,1,0,1,2,0,2,0,1,1,0,2,0,1,3,2,0,1,1,0,1,0,0,1,1,0,0,0,0,0,0,0,2,1,0,0,1,0,1,0,0,0,1,1,1,0,0,1,0,0,1,0,0,0,0,0,2,55],\"xaxis\":\"x\",\"y\":[0,1,2,3,4,5,6,7,8,9,10,11,12,13,14,15,16,17,18,19,20,21,22,23,24,25,26,27,28,29,30,31,32,33,34,35,36,37,38,39,40,41,42,43,44,45,46,47,48,49,50,51,52,53,54,55,56,57,58,59,60,61,62,63,64,65,66,67,68,69,70,71,72,73,74,75,76,77,78,79,80,81,82,83,84,85,86,87,88,89,90,91,92,93,94,95,96,97,98,99,100,101,102,103,104,105,106,107,108,109,110,111,112,113,114,115,116,117,118,119,120],\"yaxis\":\"y\"},{\"alignmentgroup\":\"True\",\"hovertemplate\":\"variable=missed_rth<br>value=%{x}<br>Length Of Stay=%{y}<extra></extra>\",\"legendgroup\":\"missed_rth\",\"marker\":{\"color\":\"yellow\",\"pattern\":{\"shape\":\"\"}},\"name\":\"missed_rth\",\"offsetgroup\":\"missed_rth\",\"orientation\":\"h\",\"showlegend\":true,\"textposition\":\"auto\",\"type\":\"bar\",\"x\":[2,5,17,12,5,11,8,6,7,6,7,7,7,6,6,5,5,4,3,3,5,6,7,0,2,8,2,6,6,3,3,4,3,1,0,2,0,3,4,3,8,2,5,4,1,2,5,2,2,0,4,3,7,4,1,0,1,2,2,2,0,2,0,1,2,4,2,1,3,0,1,2,1,3,0,2,1,0,0,3,0,0,1,1,2,1,2,4,1,1,4,3,2,3,1,2,1,3,2,0,2,0,0,1,1,0,0,1,1,2,1,2,0,1,0,0,2,0,1,2,185],\"xaxis\":\"x\",\"y\":[0,1,2,3,4,5,6,7,8,9,10,11,12,13,14,15,16,17,18,19,20,21,22,23,24,25,26,27,28,29,30,31,32,33,34,35,36,37,38,39,40,41,42,43,44,45,46,47,48,49,50,51,52,53,54,55,56,57,58,59,60,61,62,63,64,65,66,67,68,69,70,71,72,73,74,75,76,77,78,79,80,81,82,83,84,85,86,87,88,89,90,91,92,93,94,95,96,97,98,99,100,101,102,103,104,105,106,107,108,109,110,111,112,113,114,115,116,117,118,119,120],\"yaxis\":\"y\"},{\"alignmentgroup\":\"True\",\"hovertemplate\":\"variable=unranked_rth<br>value=%{x}<br>Length Of Stay=%{y}<extra></extra>\",\"legendgroup\":\"unranked_rth\",\"marker\":{\"color\":\"red\",\"pattern\":{\"shape\":\"\"}},\"name\":\"unranked_rth\",\"offsetgroup\":\"unranked_rth\",\"orientation\":\"h\",\"showlegend\":true,\"textposition\":\"auto\",\"type\":\"bar\",\"x\":[5,44,17,2,0,0,0,1,2,1,0,0,1,0,1,1,0,0,1,0,0,1,0,2,0,0,1,0,0,0,0,1,0,0,0,0,0,1,0,0,0,1,1,0,0,0,1,0,0,0,0,1,0,0,0,1,0,0,1,0,0,0,1,1,0,0,0,1,0,0,0,0,0,0,0,0,0,0,0,0,1,0,0,0,0,0,0,0,0,1,0,0,0,1,0,0,0,0,0,0,0,0,0,0,0,1,0,0,0,0,0,0,0,0,0,0,0,0,0,0,24],\"xaxis\":\"x\",\"y\":[0,1,2,3,4,5,6,7,8,9,10,11,12,13,14,15,16,17,18,19,20,21,22,23,24,25,26,27,28,29,30,31,32,33,34,35,36,37,38,39,40,41,42,43,44,45,46,47,48,49,50,51,52,53,54,55,56,57,58,59,60,61,62,63,64,65,66,67,68,69,70,71,72,73,74,75,76,77,78,79,80,81,82,83,84,85,86,87,88,89,90,91,92,93,94,95,96,97,98,99,100,101,102,103,104,105,106,107,108,109,110,111,112,113,114,115,116,117,118,119,120],\"yaxis\":\"y\"}],                        {\"barmode\":\"relative\",\"height\":750,\"legend\":{\"title\":{\"text\":\"variable\"},\"tracegroupgap\":0},\"template\":{\"data\":{\"bar\":[{\"error_x\":{\"color\":\"#2a3f5f\"},\"error_y\":{\"color\":\"#2a3f5f\"},\"marker\":{\"line\":{\"color\":\"#E5ECF6\",\"width\":0.5},\"pattern\":{\"fillmode\":\"overlay\",\"size\":10,\"solidity\":0.2}},\"type\":\"bar\"}],\"barpolar\":[{\"marker\":{\"line\":{\"color\":\"#E5ECF6\",\"width\":0.5},\"pattern\":{\"fillmode\":\"overlay\",\"size\":10,\"solidity\":0.2}},\"type\":\"barpolar\"}],\"carpet\":[{\"aaxis\":{\"endlinecolor\":\"#2a3f5f\",\"gridcolor\":\"white\",\"linecolor\":\"white\",\"minorgridcolor\":\"white\",\"startlinecolor\":\"#2a3f5f\"},\"baxis\":{\"endlinecolor\":\"#2a3f5f\",\"gridcolor\":\"white\",\"linecolor\":\"white\",\"minorgridcolor\":\"white\",\"startlinecolor\":\"#2a3f5f\"},\"type\":\"carpet\"}],\"choropleth\":[{\"colorbar\":{\"outlinewidth\":0,\"ticks\":\"\"},\"type\":\"choropleth\"}],\"contour\":[{\"colorbar\":{\"outlinewidth\":0,\"ticks\":\"\"},\"colorscale\":[[0.0,\"#0d0887\"],[0.1111111111111111,\"#46039f\"],[0.2222222222222222,\"#7201a8\"],[0.3333333333333333,\"#9c179e\"],[0.4444444444444444,\"#bd3786\"],[0.5555555555555556,\"#d8576b\"],[0.6666666666666666,\"#ed7953\"],[0.7777777777777778,\"#fb9f3a\"],[0.8888888888888888,\"#fdca26\"],[1.0,\"#f0f921\"]],\"type\":\"contour\"}],\"contourcarpet\":[{\"colorbar\":{\"outlinewidth\":0,\"ticks\":\"\"},\"type\":\"contourcarpet\"}],\"heatmap\":[{\"colorbar\":{\"outlinewidth\":0,\"ticks\":\"\"},\"colorscale\":[[0.0,\"#0d0887\"],[0.1111111111111111,\"#46039f\"],[0.2222222222222222,\"#7201a8\"],[0.3333333333333333,\"#9c179e\"],[0.4444444444444444,\"#bd3786\"],[0.5555555555555556,\"#d8576b\"],[0.6666666666666666,\"#ed7953\"],[0.7777777777777778,\"#fb9f3a\"],[0.8888888888888888,\"#fdca26\"],[1.0,\"#f0f921\"]],\"type\":\"heatmap\"}],\"heatmapgl\":[{\"colorbar\":{\"outlinewidth\":0,\"ticks\":\"\"},\"colorscale\":[[0.0,\"#0d0887\"],[0.1111111111111111,\"#46039f\"],[0.2222222222222222,\"#7201a8\"],[0.3333333333333333,\"#9c179e\"],[0.4444444444444444,\"#bd3786\"],[0.5555555555555556,\"#d8576b\"],[0.6666666666666666,\"#ed7953\"],[0.7777777777777778,\"#fb9f3a\"],[0.8888888888888888,\"#fdca26\"],[1.0,\"#f0f921\"]],\"type\":\"heatmapgl\"}],\"histogram\":[{\"marker\":{\"pattern\":{\"fillmode\":\"overlay\",\"size\":10,\"solidity\":0.2}},\"type\":\"histogram\"}],\"histogram2d\":[{\"colorbar\":{\"outlinewidth\":0,\"ticks\":\"\"},\"colorscale\":[[0.0,\"#0d0887\"],[0.1111111111111111,\"#46039f\"],[0.2222222222222222,\"#7201a8\"],[0.3333333333333333,\"#9c179e\"],[0.4444444444444444,\"#bd3786\"],[0.5555555555555556,\"#d8576b\"],[0.6666666666666666,\"#ed7953\"],[0.7777777777777778,\"#fb9f3a\"],[0.8888888888888888,\"#fdca26\"],[1.0,\"#f0f921\"]],\"type\":\"histogram2d\"}],\"histogram2dcontour\":[{\"colorbar\":{\"outlinewidth\":0,\"ticks\":\"\"},\"colorscale\":[[0.0,\"#0d0887\"],[0.1111111111111111,\"#46039f\"],[0.2222222222222222,\"#7201a8\"],[0.3333333333333333,\"#9c179e\"],[0.4444444444444444,\"#bd3786\"],[0.5555555555555556,\"#d8576b\"],[0.6666666666666666,\"#ed7953\"],[0.7777777777777778,\"#fb9f3a\"],[0.8888888888888888,\"#fdca26\"],[1.0,\"#f0f921\"]],\"type\":\"histogram2dcontour\"}],\"mesh3d\":[{\"colorbar\":{\"outlinewidth\":0,\"ticks\":\"\"},\"type\":\"mesh3d\"}],\"parcoords\":[{\"line\":{\"colorbar\":{\"outlinewidth\":0,\"ticks\":\"\"}},\"type\":\"parcoords\"}],\"pie\":[{\"automargin\":true,\"type\":\"pie\"}],\"scatter\":[{\"marker\":{\"colorbar\":{\"outlinewidth\":0,\"ticks\":\"\"}},\"type\":\"scatter\"}],\"scatter3d\":[{\"line\":{\"colorbar\":{\"outlinewidth\":0,\"ticks\":\"\"}},\"marker\":{\"colorbar\":{\"outlinewidth\":0,\"ticks\":\"\"}},\"type\":\"scatter3d\"}],\"scattercarpet\":[{\"marker\":{\"colorbar\":{\"outlinewidth\":0,\"ticks\":\"\"}},\"type\":\"scattercarpet\"}],\"scattergeo\":[{\"marker\":{\"colorbar\":{\"outlinewidth\":0,\"ticks\":\"\"}},\"type\":\"scattergeo\"}],\"scattergl\":[{\"marker\":{\"colorbar\":{\"outlinewidth\":0,\"ticks\":\"\"}},\"type\":\"scattergl\"}],\"scattermapbox\":[{\"marker\":{\"colorbar\":{\"outlinewidth\":0,\"ticks\":\"\"}},\"type\":\"scattermapbox\"}],\"scatterpolar\":[{\"marker\":{\"colorbar\":{\"outlinewidth\":0,\"ticks\":\"\"}},\"type\":\"scatterpolar\"}],\"scatterpolargl\":[{\"marker\":{\"colorbar\":{\"outlinewidth\":0,\"ticks\":\"\"}},\"type\":\"scatterpolargl\"}],\"scatterternary\":[{\"marker\":{\"colorbar\":{\"outlinewidth\":0,\"ticks\":\"\"}},\"type\":\"scatterternary\"}],\"surface\":[{\"colorbar\":{\"outlinewidth\":0,\"ticks\":\"\"},\"colorscale\":[[0.0,\"#0d0887\"],[0.1111111111111111,\"#46039f\"],[0.2222222222222222,\"#7201a8\"],[0.3333333333333333,\"#9c179e\"],[0.4444444444444444,\"#bd3786\"],[0.5555555555555556,\"#d8576b\"],[0.6666666666666666,\"#ed7953\"],[0.7777777777777778,\"#fb9f3a\"],[0.8888888888888888,\"#fdca26\"],[1.0,\"#f0f921\"]],\"type\":\"surface\"}],\"table\":[{\"cells\":{\"fill\":{\"color\":\"#EBF0F8\"},\"line\":{\"color\":\"white\"}},\"header\":{\"fill\":{\"color\":\"#C8D4E3\"},\"line\":{\"color\":\"white\"}},\"type\":\"table\"}]},\"layout\":{\"annotationdefaults\":{\"arrowcolor\":\"#2a3f5f\",\"arrowhead\":0,\"arrowwidth\":1},\"autotypenumbers\":\"strict\",\"coloraxis\":{\"colorbar\":{\"outlinewidth\":0,\"ticks\":\"\"}},\"colorscale\":{\"diverging\":[[0,\"#8e0152\"],[0.1,\"#c51b7d\"],[0.2,\"#de77ae\"],[0.3,\"#f1b6da\"],[0.4,\"#fde0ef\"],[0.5,\"#f7f7f7\"],[0.6,\"#e6f5d0\"],[0.7,\"#b8e186\"],[0.8,\"#7fbc41\"],[0.9,\"#4d9221\"],[1,\"#276419\"]],\"sequential\":[[0.0,\"#0d0887\"],[0.1111111111111111,\"#46039f\"],[0.2222222222222222,\"#7201a8\"],[0.3333333333333333,\"#9c179e\"],[0.4444444444444444,\"#bd3786\"],[0.5555555555555556,\"#d8576b\"],[0.6666666666666666,\"#ed7953\"],[0.7777777777777778,\"#fb9f3a\"],[0.8888888888888888,\"#fdca26\"],[1.0,\"#f0f921\"]],\"sequentialminus\":[[0.0,\"#0d0887\"],[0.1111111111111111,\"#46039f\"],[0.2222222222222222,\"#7201a8\"],[0.3333333333333333,\"#9c179e\"],[0.4444444444444444,\"#bd3786\"],[0.5555555555555556,\"#d8576b\"],[0.6666666666666666,\"#ed7953\"],[0.7777777777777778,\"#fb9f3a\"],[0.8888888888888888,\"#fdca26\"],[1.0,\"#f0f921\"]]},\"colorway\":[\"#636efa\",\"#EF553B\",\"#00cc96\",\"#ab63fa\",\"#FFA15A\",\"#19d3f3\",\"#FF6692\",\"#B6E880\",\"#FF97FF\",\"#FECB52\"],\"font\":{\"color\":\"#2a3f5f\"},\"geo\":{\"bgcolor\":\"white\",\"lakecolor\":\"white\",\"landcolor\":\"#E5ECF6\",\"showlakes\":true,\"showland\":true,\"subunitcolor\":\"white\"},\"hoverlabel\":{\"align\":\"left\"},\"hovermode\":\"closest\",\"mapbox\":{\"style\":\"light\"},\"paper_bgcolor\":\"white\",\"plot_bgcolor\":\"#E5ECF6\",\"polar\":{\"angularaxis\":{\"gridcolor\":\"white\",\"linecolor\":\"white\",\"ticks\":\"\"},\"bgcolor\":\"#E5ECF6\",\"radialaxis\":{\"gridcolor\":\"white\",\"linecolor\":\"white\",\"ticks\":\"\"}},\"scene\":{\"xaxis\":{\"backgroundcolor\":\"#E5ECF6\",\"gridcolor\":\"white\",\"gridwidth\":2,\"linecolor\":\"white\",\"showbackground\":true,\"ticks\":\"\",\"zerolinecolor\":\"white\"},\"yaxis\":{\"backgroundcolor\":\"#E5ECF6\",\"gridcolor\":\"white\",\"gridwidth\":2,\"linecolor\":\"white\",\"showbackground\":true,\"ticks\":\"\",\"zerolinecolor\":\"white\"},\"zaxis\":{\"backgroundcolor\":\"#E5ECF6\",\"gridcolor\":\"white\",\"gridwidth\":2,\"linecolor\":\"white\",\"showbackground\":true,\"ticks\":\"\",\"zerolinecolor\":\"white\"}},\"shapedefaults\":{\"line\":{\"color\":\"#2a3f5f\"}},\"ternary\":{\"aaxis\":{\"gridcolor\":\"white\",\"linecolor\":\"white\",\"ticks\":\"\"},\"baxis\":{\"gridcolor\":\"white\",\"linecolor\":\"white\",\"ticks\":\"\"},\"bgcolor\":\"#E5ECF6\",\"caxis\":{\"gridcolor\":\"white\",\"linecolor\":\"white\",\"ticks\":\"\"}},\"title\":{\"x\":0.05},\"xaxis\":{\"automargin\":true,\"gridcolor\":\"white\",\"linecolor\":\"white\",\"ticks\":\"\",\"title\":{\"standoff\":15},\"zerolinecolor\":\"white\",\"zerolinewidth\":2},\"yaxis\":{\"automargin\":true,\"gridcolor\":\"white\",\"linecolor\":\"white\",\"ticks\":\"\",\"title\":{\"standoff\":15},\"zerolinecolor\":\"white\",\"zerolinewidth\":2}}},\"title\":{\"text\":\"Caught, Missed & Unranked RTH in avante all facilities, 2021-01-15 to 2021-10-15\"},\"xaxis\":{\"anchor\":\"y\",\"domain\":[0.0,1.0],\"title\":{\"text\":\"RTH\"}},\"yaxis\":{\"anchor\":\"x\",\"autorange\":\"reversed\",\"domain\":[0.0,1.0],\"title\":{\"text\":\"Length Of Stay\"}}},                        {\"responsive\": true}                    ).then(function(){\n",
       "                            \n",
       "var gd = document.getElementById('d8eb54e7-9aa7-4790-93bc-b7d283b67a1d');\n",
       "var x = new MutationObserver(function (mutations, observer) {{\n",
       "        var display = window.getComputedStyle(gd).display;\n",
       "        if (!display || display === 'none') {{\n",
       "            console.log([gd, 'removed!']);\n",
       "            Plotly.purge(gd);\n",
       "            observer.disconnect();\n",
       "        }}\n",
       "}});\n",
       "\n",
       "// Listen for the removal of the full notebook cells\n",
       "var notebookContainer = gd.closest('#notebook-container');\n",
       "if (notebookContainer) {{\n",
       "    x.observe(notebookContainer, {childList: true});\n",
       "}}\n",
       "\n",
       "// Listen for the clearing of the current output cell\n",
       "var outputEl = gd.closest('.output');\n",
       "if (outputEl) {{\n",
       "    x.observe(outputEl, {childList: true});\n",
       "}}\n",
       "\n",
       "                        })                };                });            </script>        </div>"
      ]
     },
     "metadata": {},
     "output_type": "display_data"
    }
   ],
   "source": [
    "fig = px.bar(\n",
    "    df, \n",
    "    x=['caught_rth','missed_rth','unranked_rth'], \n",
    "    y=list(df.index),\n",
    "    height=graph_height, orientation='h',\n",
    "    title=f'Caught, Missed & Unranked RTH in {CLIENT} all facilities, {date_range}',\n",
    "    labels={\n",
    "        'y':'Length Of Stay', \n",
    "        'caught_rth': 'RTH Count'\n",
    "    }, \n",
    "    color_discrete_sequence=['green', 'yellow', 'red']\n",
    ")\n",
    "fig['layout']['yaxis']['autorange'] = \"reversed\"\n",
    "fig['layout']['xaxis']['title'] = \"RTH\"\n",
    "fig.show()"
   ]
  },
  {
   "cell_type": "markdown",
   "id": "77940f6a",
   "metadata": {},
   "source": [
    "##  RTH"
   ]
  },
  {
   "cell_type": "code",
   "execution_count": 39,
   "id": "46876514",
   "metadata": {
    "scrolled": true
   },
   "outputs": [
    {
     "data": {
      "application/vnd.plotly.v1+json": {
       "config": {
        "plotlyServerURL": "https://plot.ly"
       },
       "data": [
        {
         "alignmentgroup": "True",
         "customdata": [
          [
           "0.67%",
           0.006672226855713094,
           1
          ],
          [
           "4.34%",
           0.05004170141784821,
           0.993327773144287
          ],
          [
           "3.67%",
           0.08673894912427023,
           0.9499582985821519
          ],
          [
           "3.09%",
           0.11759799833194329,
           0.9132610508757298
          ],
          [
           "2.17%",
           0.13928273561301086,
           0.8824020016680568
          ],
          [
           "3.00%",
           0.1693077564637198,
           0.8607172643869893
          ],
          [
           "2.50%",
           0.19432860717264389,
           0.8306922435362804
          ],
          [
           "2.84%",
           0.22268557130942454,
           0.8056713928273562
          ],
          [
           "2.42%",
           0.2468723936613845,
           0.7773144286905755
          ],
          [
           "2.09%",
           0.2677231025854879,
           0.7531276063386155
          ],
          [
           "2.25%",
           0.2902418682235196,
           0.7322768974145121
          ],
          [
           "2.17%",
           0.3119266055045872,
           0.7097581317764804
          ],
          [
           "2.09%",
           0.3327773144286906,
           0.6880733944954128
          ],
          [
           "1.67%",
           0.3494578815679733,
           0.6672226855713094
          ],
          [
           "2.00%",
           0.3694745621351126,
           0.6505421184320266
          ],
          [
           "1.92%",
           0.3886572143452877,
           0.6305254378648874
          ],
          [
           "1.17%",
           0.4003336113427856,
           0.6113427856547122
          ],
          [
           "1.33%",
           0.4136780650542118,
           0.5996663886572143
          ],
          [
           "1.25%",
           0.42618849040867385,
           0.5863219349457881
          ],
          [
           "1.08%",
           0.43703085904920763,
           0.5738115095913261
          ],
          [
           "0.83%",
           0.445371142618849,
           0.5629691409507923
          ],
          [
           "1.25%",
           0.4578815679733111,
           0.554628857381151
          ],
          [
           "1.42%",
           0.47206005004170143,
           0.542118432026689
          ],
          [
           "0.92%",
           0.48123436196830693,
           0.5279399499582986
          ],
          [
           "0.83%",
           0.4895746455379483,
           0.5187656380316931
          ],
          [
           "1.17%",
           0.5012510425354463,
           0.5104253544620517
          ],
          [
           "0.75%",
           0.5087572977481235,
           0.4987489574645538
          ],
          [
           "1.00%",
           0.5187656380316932,
           0.49124270225187655
          ],
          [
           "0.75%",
           0.5262718932443704,
           0.48123436196830693
          ],
          [
           "0.50%",
           0.5312760633861552,
           0.4737281067556297
          ],
          [
           "0.58%",
           0.5371142618849042,
           0.46872393661384487
          ],
          [
           "0.92%",
           0.5462885738115097,
           0.4628857381150959
          ],
          [
           "0.50%",
           0.5512927439532945,
           0.4537114261884904
          ],
          [
           "0.50%",
           0.5562969140950793,
           0.4487072560467056
          ],
          [
           "0.17%",
           0.5579649708090075,
           0.44370308590492075
          ],
          [
           "0.42%",
           0.5621351125938282,
           0.44203502919099247
          ],
          [
           "0.17%",
           0.5638031693077564,
           0.4378648874061718
          ],
          [
           "0.67%",
           0.5704753961634695,
           0.4361968306922435
          ],
          [
           "0.75%",
           0.5779816513761468,
           0.4295246038365304
          ],
          [
           "0.50%",
           0.5829858215179315,
           0.4220183486238532
          ],
          [
           "0.83%",
           0.5913261050875729,
           0.41701417848206834
          ],
          [
           "0.33%",
           0.5946622185154294,
           0.40867389491242695
          ],
          [
           "0.83%",
           0.6030025020850708,
           0.4053377814845704
          ],
          [
           "0.67%",
           0.6096747289407839,
           0.396997497914929
          ],
          [
           "0.25%",
           0.6121768140116763,
           0.3903252710592159
          ],
          [
           "0.33%",
           0.6155129274395329,
           0.3878231859883235
          ],
          [
           "0.67%",
           0.622185154295246,
           0.38448707256046694
          ],
          [
           "0.33%",
           0.6255212677231026,
           0.3778148457047538
          ],
          [
           "0.58%",
           0.6313594662218516,
           0.37447873227689726
          ],
          [
           "0.58%",
           0.6371976647206006,
           0.3686405337781483
          ],
          [
           "0.42%",
           0.6413678065054212,
           0.36280233527939937
          ],
          [
           "0.50%",
           0.646371976647206,
           0.3586321934945787
          ],
          [
           "0.67%",
           0.6530442035029191,
           0.35362802335279386
          ],
          [
           "0.58%",
           0.6588824020016681,
           0.34695579649708075
          ],
          [
           "0.33%",
           0.6622185154295247,
           0.3411175979983318
          ],
          [
           "0.17%",
           0.6638865721434529,
           0.33778148457047524
          ],
          [
           "0.17%",
           0.6655546288573811,
           0.33611342785654696
          ],
          [
           "0.33%",
           0.6688907422852377,
           0.3344453711426187
          ],
          [
           "0.42%",
           0.6730608840700584,
           0.33110925771476213
          ],
          [
           "0.33%",
           0.6763969974979149,
           0.32693911592994146
          ],
          [
           "0.08%",
           0.677231025854879,
           0.3236030025020849
          ],
          [
           "0.33%",
           0.6805671392827356,
           0.3227689741451208
          ],
          [
           "0.08%",
           0.6814011676396997,
           0.31943286071726423
          ],
          [
           "0.33%",
           0.6847372810675563,
           0.3185988323603001
          ],
          [
           "0.25%",
           0.6872393661384487,
           0.31526271893244356
          ],
          [
           "0.33%",
           0.6905754795663053,
           0.3127606338615512
          ],
          [
           "0.25%",
           0.6930775646371977,
           0.3094245204336946
          ],
          [
           "0.33%",
           0.6964136780650543,
           0.3069224353628022
          ],
          [
           "0.25%",
           0.6989157631359467,
           0.30358632193494567
          ],
          [
           "0.17%",
           0.700583819849875,
           0.3010842368640533
          ],
          [
           "0.08%",
           0.7014178482068391,
           0.299416180150125
          ],
          [
           "0.25%",
           0.7039199332777315,
           0.2985821517931609
          ],
          [
           "0.17%",
           0.7055879899916597,
           0.2960800667222685
          ],
          [
           "0.25%",
           0.7080900750625522,
           0.2944120100083402
          ],
          [
           "0.17%",
           0.7097581317764804,
           0.29190992493744783
          ],
          [
           "0.17%",
           0.7114261884904086,
           0.29024186822351955
          ],
          [
           "0.17%",
           0.7130942452043368,
           0.28857381150959127
          ],
          [
           "0.25%",
           0.7155963302752293,
           0.286905754795663
          ],
          [
           "0.17%",
           0.7172643869891575,
           0.2844036697247706
          ],
          [
           "0.25%",
           0.71976647206005,
           0.2827356130108423
          ],
          [
           "0.17%",
           0.7214345287739782,
           0.28023352793994993
          ],
          [
           "0.08%",
           0.7222685571309423,
           0.27856547122602165
          ],
          [
           "0.08%",
           0.7231025854879064,
           0.27773144286905754
          ],
          [
           "0.17%",
           0.7247706422018346,
           0.27689741451209343
          ],
          [
           "0.17%",
           0.7264386989157628,
           0.27522935779816515
          ],
          [
           "0.08%",
           0.727272727272727,
           0.2735613010842369
          ],
          [
           "0.25%",
           0.7297748123436194,
           0.27272727272727276
          ],
          [
           "0.42%",
           0.7339449541284401,
           0.2702251876563804
          ],
          [
           "0.08%",
           0.7347789824854042,
           0.2660550458715597
          ],
          [
           "0.17%",
           0.7364470391993324,
           0.2652210175145956
          ],
          [
           "0.33%",
           0.739783152627189,
           0.2635529608006673
          ],
          [
           "0.25%",
           0.7422852376980814,
           0.26021684737281076
          ],
          [
           "0.17%",
           0.7439532944120096,
           0.25771476230191837
          ],
          [
           "0.33%",
           0.7472894078398662,
           0.2560467055879901
          ],
          [
           "0.08%",
           0.7481234361968303,
           0.25271059216013353
          ],
          [
           "0.33%",
           0.7514595496246869,
           0.2518765638031694
          ],
          [
           "0.17%",
           0.7531276063386151,
           0.24854045037531286
          ],
          [
           "0.25%",
           0.7556296914095075,
           0.24687239366138458
          ],
          [
           "0.17%",
           0.7572977481234358,
           0.24437030859049216
          ],
          [
           "0.08%",
           0.7581317764803999,
           0.24270225187656388
          ],
          [
           "0.17%",
           0.7597998331943281,
           0.24186822351959975
          ],
          [
           "0.08%",
           0.7606338615512922,
           0.24020016680567147
          ],
          [
           "0.00%",
           0.7606338615512922,
           0.23936613844870733
          ],
          [
           "0.08%",
           0.7614678899082563,
           0.23936613844870733
          ],
          [
           "0.08%",
           0.7623019182652204,
           0.2385321100917432
          ],
          [
           "0.17%",
           0.7639699749791486,
           0.23769808173477905
          ],
          [
           "0.08%",
           0.7648040033361128,
           0.23603002502085077
          ],
          [
           "0.17%",
           0.766472060050041,
           0.23519599666388663
          ],
          [
           "0.08%",
           0.7673060884070051,
           0.23352793994995835
          ],
          [
           "0.17%",
           0.7689741451209333,
           0.2326939115929942
          ],
          [
           "0.17%",
           0.7706422018348615,
           0.23102585487906593
          ],
          [
           "0.17%",
           0.7723102585487898,
           0.22935779816513766
          ],
          [
           "0.00%",
           0.7723102585487898,
           0.22768974145120938
          ],
          [
           "0.17%",
           0.773978315262718,
           0.22768974145120938
          ],
          [
           "0.00%",
           0.773978315262718,
           0.2260216847372811
          ],
          [
           "0.00%",
           0.773978315262718,
           0.2260216847372811
          ],
          [
           "0.17%",
           0.7756463719766462,
           0.2260216847372811
          ],
          [
           "0.00%",
           0.7756463719766462,
           0.22435362802335282
          ],
          [
           "0.08%",
           0.7764804003336103,
           0.22435362802335282
          ],
          [
           "0.33%",
           0.7798165137614669,
           0.22351959966638868
          ],
          [
           "22.02%",
           0.999999999999999,
           0.22018348623853212
          ]
         ],
         "hovertemplate": "RTH Count=%{x}<br>Length Of Stay=%{y}<br>RTH Percentage=%{customdata[0]}<br>RTH Percentage Cumsum=%{customdata[1]}<br>RTH Percentage Reverse Cumsum=%{customdata[2]}<extra></extra>",
         "legendgroup": "",
         "marker": {
          "color": "#636efa",
          "pattern": {
           "shape": ""
          }
         },
         "name": "",
         "offsetgroup": "",
         "orientation": "h",
         "showlegend": false,
         "textposition": "outside",
         "type": "bar",
         "x": [
          8,
          52,
          44,
          37,
          26,
          36,
          30,
          34,
          29,
          25,
          27,
          26,
          25,
          20,
          24,
          23,
          14,
          16,
          15,
          13,
          10,
          15,
          17,
          11,
          10,
          14,
          9,
          12,
          9,
          6,
          7,
          11,
          6,
          6,
          2,
          5,
          2,
          8,
          9,
          6,
          10,
          4,
          10,
          8,
          3,
          4,
          8,
          4,
          7,
          7,
          5,
          6,
          8,
          7,
          4,
          2,
          2,
          4,
          5,
          4,
          1,
          4,
          1,
          4,
          3,
          4,
          3,
          4,
          3,
          2,
          1,
          3,
          2,
          3,
          2,
          2,
          2,
          3,
          2,
          3,
          2,
          1,
          1,
          2,
          2,
          1,
          3,
          5,
          1,
          2,
          4,
          3,
          2,
          4,
          1,
          4,
          2,
          3,
          2,
          1,
          2,
          1,
          0,
          1,
          1,
          2,
          1,
          2,
          1,
          2,
          2,
          2,
          0,
          2,
          0,
          0,
          2,
          0,
          1,
          4,
          264
         ],
         "xaxis": "x",
         "y": [
          0,
          1,
          2,
          3,
          4,
          5,
          6,
          7,
          8,
          9,
          10,
          11,
          12,
          13,
          14,
          15,
          16,
          17,
          18,
          19,
          20,
          21,
          22,
          23,
          24,
          25,
          26,
          27,
          28,
          29,
          30,
          31,
          32,
          33,
          34,
          35,
          36,
          37,
          38,
          39,
          40,
          41,
          42,
          43,
          44,
          45,
          46,
          47,
          48,
          49,
          50,
          51,
          52,
          53,
          54,
          55,
          56,
          57,
          58,
          59,
          60,
          61,
          62,
          63,
          64,
          65,
          66,
          67,
          68,
          69,
          70,
          71,
          72,
          73,
          74,
          75,
          76,
          77,
          78,
          79,
          80,
          81,
          82,
          83,
          84,
          85,
          86,
          87,
          88,
          89,
          90,
          91,
          92,
          93,
          94,
          95,
          96,
          97,
          98,
          99,
          100,
          101,
          102,
          103,
          104,
          105,
          106,
          107,
          108,
          109,
          110,
          111,
          112,
          113,
          114,
          115,
          116,
          117,
          118,
          119,
          120
         ],
         "yaxis": "y"
        }
       ],
       "layout": {
        "barmode": "relative",
        "height": 750,
        "legend": {
         "tracegroupgap": 0
        },
        "template": {
         "data": {
          "bar": [
           {
            "error_x": {
             "color": "#2a3f5f"
            },
            "error_y": {
             "color": "#2a3f5f"
            },
            "marker": {
             "line": {
              "color": "#E5ECF6",
              "width": 0.5
             },
             "pattern": {
              "fillmode": "overlay",
              "size": 10,
              "solidity": 0.2
             }
            },
            "type": "bar"
           }
          ],
          "barpolar": [
           {
            "marker": {
             "line": {
              "color": "#E5ECF6",
              "width": 0.5
             },
             "pattern": {
              "fillmode": "overlay",
              "size": 10,
              "solidity": 0.2
             }
            },
            "type": "barpolar"
           }
          ],
          "carpet": [
           {
            "aaxis": {
             "endlinecolor": "#2a3f5f",
             "gridcolor": "white",
             "linecolor": "white",
             "minorgridcolor": "white",
             "startlinecolor": "#2a3f5f"
            },
            "baxis": {
             "endlinecolor": "#2a3f5f",
             "gridcolor": "white",
             "linecolor": "white",
             "minorgridcolor": "white",
             "startlinecolor": "#2a3f5f"
            },
            "type": "carpet"
           }
          ],
          "choropleth": [
           {
            "colorbar": {
             "outlinewidth": 0,
             "ticks": ""
            },
            "type": "choropleth"
           }
          ],
          "contour": [
           {
            "colorbar": {
             "outlinewidth": 0,
             "ticks": ""
            },
            "colorscale": [
             [
              0,
              "#0d0887"
             ],
             [
              0.1111111111111111,
              "#46039f"
             ],
             [
              0.2222222222222222,
              "#7201a8"
             ],
             [
              0.3333333333333333,
              "#9c179e"
             ],
             [
              0.4444444444444444,
              "#bd3786"
             ],
             [
              0.5555555555555556,
              "#d8576b"
             ],
             [
              0.6666666666666666,
              "#ed7953"
             ],
             [
              0.7777777777777778,
              "#fb9f3a"
             ],
             [
              0.8888888888888888,
              "#fdca26"
             ],
             [
              1,
              "#f0f921"
             ]
            ],
            "type": "contour"
           }
          ],
          "contourcarpet": [
           {
            "colorbar": {
             "outlinewidth": 0,
             "ticks": ""
            },
            "type": "contourcarpet"
           }
          ],
          "heatmap": [
           {
            "colorbar": {
             "outlinewidth": 0,
             "ticks": ""
            },
            "colorscale": [
             [
              0,
              "#0d0887"
             ],
             [
              0.1111111111111111,
              "#46039f"
             ],
             [
              0.2222222222222222,
              "#7201a8"
             ],
             [
              0.3333333333333333,
              "#9c179e"
             ],
             [
              0.4444444444444444,
              "#bd3786"
             ],
             [
              0.5555555555555556,
              "#d8576b"
             ],
             [
              0.6666666666666666,
              "#ed7953"
             ],
             [
              0.7777777777777778,
              "#fb9f3a"
             ],
             [
              0.8888888888888888,
              "#fdca26"
             ],
             [
              1,
              "#f0f921"
             ]
            ],
            "type": "heatmap"
           }
          ],
          "heatmapgl": [
           {
            "colorbar": {
             "outlinewidth": 0,
             "ticks": ""
            },
            "colorscale": [
             [
              0,
              "#0d0887"
             ],
             [
              0.1111111111111111,
              "#46039f"
             ],
             [
              0.2222222222222222,
              "#7201a8"
             ],
             [
              0.3333333333333333,
              "#9c179e"
             ],
             [
              0.4444444444444444,
              "#bd3786"
             ],
             [
              0.5555555555555556,
              "#d8576b"
             ],
             [
              0.6666666666666666,
              "#ed7953"
             ],
             [
              0.7777777777777778,
              "#fb9f3a"
             ],
             [
              0.8888888888888888,
              "#fdca26"
             ],
             [
              1,
              "#f0f921"
             ]
            ],
            "type": "heatmapgl"
           }
          ],
          "histogram": [
           {
            "marker": {
             "pattern": {
              "fillmode": "overlay",
              "size": 10,
              "solidity": 0.2
             }
            },
            "type": "histogram"
           }
          ],
          "histogram2d": [
           {
            "colorbar": {
             "outlinewidth": 0,
             "ticks": ""
            },
            "colorscale": [
             [
              0,
              "#0d0887"
             ],
             [
              0.1111111111111111,
              "#46039f"
             ],
             [
              0.2222222222222222,
              "#7201a8"
             ],
             [
              0.3333333333333333,
              "#9c179e"
             ],
             [
              0.4444444444444444,
              "#bd3786"
             ],
             [
              0.5555555555555556,
              "#d8576b"
             ],
             [
              0.6666666666666666,
              "#ed7953"
             ],
             [
              0.7777777777777778,
              "#fb9f3a"
             ],
             [
              0.8888888888888888,
              "#fdca26"
             ],
             [
              1,
              "#f0f921"
             ]
            ],
            "type": "histogram2d"
           }
          ],
          "histogram2dcontour": [
           {
            "colorbar": {
             "outlinewidth": 0,
             "ticks": ""
            },
            "colorscale": [
             [
              0,
              "#0d0887"
             ],
             [
              0.1111111111111111,
              "#46039f"
             ],
             [
              0.2222222222222222,
              "#7201a8"
             ],
             [
              0.3333333333333333,
              "#9c179e"
             ],
             [
              0.4444444444444444,
              "#bd3786"
             ],
             [
              0.5555555555555556,
              "#d8576b"
             ],
             [
              0.6666666666666666,
              "#ed7953"
             ],
             [
              0.7777777777777778,
              "#fb9f3a"
             ],
             [
              0.8888888888888888,
              "#fdca26"
             ],
             [
              1,
              "#f0f921"
             ]
            ],
            "type": "histogram2dcontour"
           }
          ],
          "mesh3d": [
           {
            "colorbar": {
             "outlinewidth": 0,
             "ticks": ""
            },
            "type": "mesh3d"
           }
          ],
          "parcoords": [
           {
            "line": {
             "colorbar": {
              "outlinewidth": 0,
              "ticks": ""
             }
            },
            "type": "parcoords"
           }
          ],
          "pie": [
           {
            "automargin": true,
            "type": "pie"
           }
          ],
          "scatter": [
           {
            "marker": {
             "colorbar": {
              "outlinewidth": 0,
              "ticks": ""
             }
            },
            "type": "scatter"
           }
          ],
          "scatter3d": [
           {
            "line": {
             "colorbar": {
              "outlinewidth": 0,
              "ticks": ""
             }
            },
            "marker": {
             "colorbar": {
              "outlinewidth": 0,
              "ticks": ""
             }
            },
            "type": "scatter3d"
           }
          ],
          "scattercarpet": [
           {
            "marker": {
             "colorbar": {
              "outlinewidth": 0,
              "ticks": ""
             }
            },
            "type": "scattercarpet"
           }
          ],
          "scattergeo": [
           {
            "marker": {
             "colorbar": {
              "outlinewidth": 0,
              "ticks": ""
             }
            },
            "type": "scattergeo"
           }
          ],
          "scattergl": [
           {
            "marker": {
             "colorbar": {
              "outlinewidth": 0,
              "ticks": ""
             }
            },
            "type": "scattergl"
           }
          ],
          "scattermapbox": [
           {
            "marker": {
             "colorbar": {
              "outlinewidth": 0,
              "ticks": ""
             }
            },
            "type": "scattermapbox"
           }
          ],
          "scatterpolar": [
           {
            "marker": {
             "colorbar": {
              "outlinewidth": 0,
              "ticks": ""
             }
            },
            "type": "scatterpolar"
           }
          ],
          "scatterpolargl": [
           {
            "marker": {
             "colorbar": {
              "outlinewidth": 0,
              "ticks": ""
             }
            },
            "type": "scatterpolargl"
           }
          ],
          "scatterternary": [
           {
            "marker": {
             "colorbar": {
              "outlinewidth": 0,
              "ticks": ""
             }
            },
            "type": "scatterternary"
           }
          ],
          "surface": [
           {
            "colorbar": {
             "outlinewidth": 0,
             "ticks": ""
            },
            "colorscale": [
             [
              0,
              "#0d0887"
             ],
             [
              0.1111111111111111,
              "#46039f"
             ],
             [
              0.2222222222222222,
              "#7201a8"
             ],
             [
              0.3333333333333333,
              "#9c179e"
             ],
             [
              0.4444444444444444,
              "#bd3786"
             ],
             [
              0.5555555555555556,
              "#d8576b"
             ],
             [
              0.6666666666666666,
              "#ed7953"
             ],
             [
              0.7777777777777778,
              "#fb9f3a"
             ],
             [
              0.8888888888888888,
              "#fdca26"
             ],
             [
              1,
              "#f0f921"
             ]
            ],
            "type": "surface"
           }
          ],
          "table": [
           {
            "cells": {
             "fill": {
              "color": "#EBF0F8"
             },
             "line": {
              "color": "white"
             }
            },
            "header": {
             "fill": {
              "color": "#C8D4E3"
             },
             "line": {
              "color": "white"
             }
            },
            "type": "table"
           }
          ]
         },
         "layout": {
          "annotationdefaults": {
           "arrowcolor": "#2a3f5f",
           "arrowhead": 0,
           "arrowwidth": 1
          },
          "autotypenumbers": "strict",
          "coloraxis": {
           "colorbar": {
            "outlinewidth": 0,
            "ticks": ""
           }
          },
          "colorscale": {
           "diverging": [
            [
             0,
             "#8e0152"
            ],
            [
             0.1,
             "#c51b7d"
            ],
            [
             0.2,
             "#de77ae"
            ],
            [
             0.3,
             "#f1b6da"
            ],
            [
             0.4,
             "#fde0ef"
            ],
            [
             0.5,
             "#f7f7f7"
            ],
            [
             0.6,
             "#e6f5d0"
            ],
            [
             0.7,
             "#b8e186"
            ],
            [
             0.8,
             "#7fbc41"
            ],
            [
             0.9,
             "#4d9221"
            ],
            [
             1,
             "#276419"
            ]
           ],
           "sequential": [
            [
             0,
             "#0d0887"
            ],
            [
             0.1111111111111111,
             "#46039f"
            ],
            [
             0.2222222222222222,
             "#7201a8"
            ],
            [
             0.3333333333333333,
             "#9c179e"
            ],
            [
             0.4444444444444444,
             "#bd3786"
            ],
            [
             0.5555555555555556,
             "#d8576b"
            ],
            [
             0.6666666666666666,
             "#ed7953"
            ],
            [
             0.7777777777777778,
             "#fb9f3a"
            ],
            [
             0.8888888888888888,
             "#fdca26"
            ],
            [
             1,
             "#f0f921"
            ]
           ],
           "sequentialminus": [
            [
             0,
             "#0d0887"
            ],
            [
             0.1111111111111111,
             "#46039f"
            ],
            [
             0.2222222222222222,
             "#7201a8"
            ],
            [
             0.3333333333333333,
             "#9c179e"
            ],
            [
             0.4444444444444444,
             "#bd3786"
            ],
            [
             0.5555555555555556,
             "#d8576b"
            ],
            [
             0.6666666666666666,
             "#ed7953"
            ],
            [
             0.7777777777777778,
             "#fb9f3a"
            ],
            [
             0.8888888888888888,
             "#fdca26"
            ],
            [
             1,
             "#f0f921"
            ]
           ]
          },
          "colorway": [
           "#636efa",
           "#EF553B",
           "#00cc96",
           "#ab63fa",
           "#FFA15A",
           "#19d3f3",
           "#FF6692",
           "#B6E880",
           "#FF97FF",
           "#FECB52"
          ],
          "font": {
           "color": "#2a3f5f"
          },
          "geo": {
           "bgcolor": "white",
           "lakecolor": "white",
           "landcolor": "#E5ECF6",
           "showlakes": true,
           "showland": true,
           "subunitcolor": "white"
          },
          "hoverlabel": {
           "align": "left"
          },
          "hovermode": "closest",
          "mapbox": {
           "style": "light"
          },
          "paper_bgcolor": "white",
          "plot_bgcolor": "#E5ECF6",
          "polar": {
           "angularaxis": {
            "gridcolor": "white",
            "linecolor": "white",
            "ticks": ""
           },
           "bgcolor": "#E5ECF6",
           "radialaxis": {
            "gridcolor": "white",
            "linecolor": "white",
            "ticks": ""
           }
          },
          "scene": {
           "xaxis": {
            "backgroundcolor": "#E5ECF6",
            "gridcolor": "white",
            "gridwidth": 2,
            "linecolor": "white",
            "showbackground": true,
            "ticks": "",
            "zerolinecolor": "white"
           },
           "yaxis": {
            "backgroundcolor": "#E5ECF6",
            "gridcolor": "white",
            "gridwidth": 2,
            "linecolor": "white",
            "showbackground": true,
            "ticks": "",
            "zerolinecolor": "white"
           },
           "zaxis": {
            "backgroundcolor": "#E5ECF6",
            "gridcolor": "white",
            "gridwidth": 2,
            "linecolor": "white",
            "showbackground": true,
            "ticks": "",
            "zerolinecolor": "white"
           }
          },
          "shapedefaults": {
           "line": {
            "color": "#2a3f5f"
           }
          },
          "ternary": {
           "aaxis": {
            "gridcolor": "white",
            "linecolor": "white",
            "ticks": ""
           },
           "baxis": {
            "gridcolor": "white",
            "linecolor": "white",
            "ticks": ""
           },
           "bgcolor": "#E5ECF6",
           "caxis": {
            "gridcolor": "white",
            "linecolor": "white",
            "ticks": ""
           }
          },
          "title": {
           "x": 0.05
          },
          "xaxis": {
           "automargin": true,
           "gridcolor": "white",
           "linecolor": "white",
           "ticks": "",
           "title": {
            "standoff": 15
           },
           "zerolinecolor": "white",
           "zerolinewidth": 2
          },
          "yaxis": {
           "automargin": true,
           "gridcolor": "white",
           "linecolor": "white",
           "ticks": "",
           "title": {
            "standoff": 15
           },
           "zerolinecolor": "white",
           "zerolinewidth": 2
          }
         }
        },
        "title": {
         "text": "RTHs in avante all facilities, 2021-01-15 to 2021-10-15"
        },
        "xaxis": {
         "anchor": "y",
         "domain": [
          0,
          1
         ],
         "title": {
          "text": "RTH Count"
         }
        },
        "yaxis": {
         "anchor": "x",
         "autorange": "reversed",
         "domain": [
          0,
          1
         ],
         "title": {
          "text": "Length Of Stay"
         }
        }
       }
      },
      "text/html": [
       "<div>                            <div id=\"abbbe8f6-16d5-46f6-b507-0d89ac5b105e\" class=\"plotly-graph-div\" style=\"height:750px; width:100%;\"></div>            <script type=\"text/javascript\">                require([\"plotly\"], function(Plotly) {                    window.PLOTLYENV=window.PLOTLYENV || {};                                    if (document.getElementById(\"abbbe8f6-16d5-46f6-b507-0d89ac5b105e\")) {                    Plotly.newPlot(                        \"abbbe8f6-16d5-46f6-b507-0d89ac5b105e\",                        [{\"alignmentgroup\":\"True\",\"customdata\":[[\"0.67%\",0.006672226855713094,1.0],[\"4.34%\",0.05004170141784821,0.993327773144287],[\"3.67%\",0.08673894912427023,0.9499582985821519],[\"3.09%\",0.11759799833194329,0.9132610508757298],[\"2.17%\",0.13928273561301086,0.8824020016680568],[\"3.00%\",0.1693077564637198,0.8607172643869893],[\"2.50%\",0.19432860717264389,0.8306922435362804],[\"2.84%\",0.22268557130942454,0.8056713928273562],[\"2.42%\",0.2468723936613845,0.7773144286905755],[\"2.09%\",0.2677231025854879,0.7531276063386155],[\"2.25%\",0.2902418682235196,0.7322768974145121],[\"2.17%\",0.3119266055045872,0.7097581317764804],[\"2.09%\",0.3327773144286906,0.6880733944954128],[\"1.67%\",0.3494578815679733,0.6672226855713094],[\"2.00%\",0.3694745621351126,0.6505421184320266],[\"1.92%\",0.3886572143452877,0.6305254378648874],[\"1.17%\",0.4003336113427856,0.6113427856547122],[\"1.33%\",0.4136780650542118,0.5996663886572143],[\"1.25%\",0.42618849040867385,0.5863219349457881],[\"1.08%\",0.43703085904920763,0.5738115095913261],[\"0.83%\",0.445371142618849,0.5629691409507923],[\"1.25%\",0.4578815679733111,0.554628857381151],[\"1.42%\",0.47206005004170143,0.542118432026689],[\"0.92%\",0.48123436196830693,0.5279399499582986],[\"0.83%\",0.4895746455379483,0.5187656380316931],[\"1.17%\",0.5012510425354463,0.5104253544620517],[\"0.75%\",0.5087572977481235,0.4987489574645538],[\"1.00%\",0.5187656380316932,0.49124270225187655],[\"0.75%\",0.5262718932443704,0.48123436196830693],[\"0.50%\",0.5312760633861552,0.4737281067556297],[\"0.58%\",0.5371142618849042,0.46872393661384487],[\"0.92%\",0.5462885738115097,0.4628857381150959],[\"0.50%\",0.5512927439532945,0.4537114261884904],[\"0.50%\",0.5562969140950793,0.4487072560467056],[\"0.17%\",0.5579649708090075,0.44370308590492075],[\"0.42%\",0.5621351125938282,0.44203502919099247],[\"0.17%\",0.5638031693077564,0.4378648874061718],[\"0.67%\",0.5704753961634695,0.4361968306922435],[\"0.75%\",0.5779816513761468,0.4295246038365304],[\"0.50%\",0.5829858215179315,0.4220183486238532],[\"0.83%\",0.5913261050875729,0.41701417848206834],[\"0.33%\",0.5946622185154294,0.40867389491242695],[\"0.83%\",0.6030025020850708,0.4053377814845704],[\"0.67%\",0.6096747289407839,0.396997497914929],[\"0.25%\",0.6121768140116763,0.3903252710592159],[\"0.33%\",0.6155129274395329,0.3878231859883235],[\"0.67%\",0.622185154295246,0.38448707256046694],[\"0.33%\",0.6255212677231026,0.3778148457047538],[\"0.58%\",0.6313594662218516,0.37447873227689726],[\"0.58%\",0.6371976647206006,0.3686405337781483],[\"0.42%\",0.6413678065054212,0.36280233527939937],[\"0.50%\",0.646371976647206,0.3586321934945787],[\"0.67%\",0.6530442035029191,0.35362802335279386],[\"0.58%\",0.6588824020016681,0.34695579649708075],[\"0.33%\",0.6622185154295247,0.3411175979983318],[\"0.17%\",0.6638865721434529,0.33778148457047524],[\"0.17%\",0.6655546288573811,0.33611342785654696],[\"0.33%\",0.6688907422852377,0.3344453711426187],[\"0.42%\",0.6730608840700584,0.33110925771476213],[\"0.33%\",0.6763969974979149,0.32693911592994146],[\"0.08%\",0.677231025854879,0.3236030025020849],[\"0.33%\",0.6805671392827356,0.3227689741451208],[\"0.08%\",0.6814011676396997,0.31943286071726423],[\"0.33%\",0.6847372810675563,0.3185988323603001],[\"0.25%\",0.6872393661384487,0.31526271893244356],[\"0.33%\",0.6905754795663053,0.3127606338615512],[\"0.25%\",0.6930775646371977,0.3094245204336946],[\"0.33%\",0.6964136780650543,0.3069224353628022],[\"0.25%\",0.6989157631359467,0.30358632193494567],[\"0.17%\",0.700583819849875,0.3010842368640533],[\"0.08%\",0.7014178482068391,0.299416180150125],[\"0.25%\",0.7039199332777315,0.2985821517931609],[\"0.17%\",0.7055879899916597,0.2960800667222685],[\"0.25%\",0.7080900750625522,0.2944120100083402],[\"0.17%\",0.7097581317764804,0.29190992493744783],[\"0.17%\",0.7114261884904086,0.29024186822351955],[\"0.17%\",0.7130942452043368,0.28857381150959127],[\"0.25%\",0.7155963302752293,0.286905754795663],[\"0.17%\",0.7172643869891575,0.2844036697247706],[\"0.25%\",0.71976647206005,0.2827356130108423],[\"0.17%\",0.7214345287739782,0.28023352793994993],[\"0.08%\",0.7222685571309423,0.27856547122602165],[\"0.08%\",0.7231025854879064,0.27773144286905754],[\"0.17%\",0.7247706422018346,0.27689741451209343],[\"0.17%\",0.7264386989157628,0.27522935779816515],[\"0.08%\",0.727272727272727,0.2735613010842369],[\"0.25%\",0.7297748123436194,0.27272727272727276],[\"0.42%\",0.7339449541284401,0.2702251876563804],[\"0.08%\",0.7347789824854042,0.2660550458715597],[\"0.17%\",0.7364470391993324,0.2652210175145956],[\"0.33%\",0.739783152627189,0.2635529608006673],[\"0.25%\",0.7422852376980814,0.26021684737281076],[\"0.17%\",0.7439532944120096,0.25771476230191837],[\"0.33%\",0.7472894078398662,0.2560467055879901],[\"0.08%\",0.7481234361968303,0.25271059216013353],[\"0.33%\",0.7514595496246869,0.2518765638031694],[\"0.17%\",0.7531276063386151,0.24854045037531286],[\"0.25%\",0.7556296914095075,0.24687239366138458],[\"0.17%\",0.7572977481234358,0.24437030859049216],[\"0.08%\",0.7581317764803999,0.24270225187656388],[\"0.17%\",0.7597998331943281,0.24186822351959975],[\"0.08%\",0.7606338615512922,0.24020016680567147],[\"0.00%\",0.7606338615512922,0.23936613844870733],[\"0.08%\",0.7614678899082563,0.23936613844870733],[\"0.08%\",0.7623019182652204,0.2385321100917432],[\"0.17%\",0.7639699749791486,0.23769808173477905],[\"0.08%\",0.7648040033361128,0.23603002502085077],[\"0.17%\",0.766472060050041,0.23519599666388663],[\"0.08%\",0.7673060884070051,0.23352793994995835],[\"0.17%\",0.7689741451209333,0.2326939115929942],[\"0.17%\",0.7706422018348615,0.23102585487906593],[\"0.17%\",0.7723102585487898,0.22935779816513766],[\"0.00%\",0.7723102585487898,0.22768974145120938],[\"0.17%\",0.773978315262718,0.22768974145120938],[\"0.00%\",0.773978315262718,0.2260216847372811],[\"0.00%\",0.773978315262718,0.2260216847372811],[\"0.17%\",0.7756463719766462,0.2260216847372811],[\"0.00%\",0.7756463719766462,0.22435362802335282],[\"0.08%\",0.7764804003336103,0.22435362802335282],[\"0.33%\",0.7798165137614669,0.22351959966638868],[\"22.02%\",0.999999999999999,0.22018348623853212]],\"hovertemplate\":\"RTH Count=%{x}<br>Length Of Stay=%{y}<br>RTH Percentage=%{customdata[0]}<br>RTH Percentage Cumsum=%{customdata[1]}<br>RTH Percentage Reverse Cumsum=%{customdata[2]}<extra></extra>\",\"legendgroup\":\"\",\"marker\":{\"color\":\"#636efa\",\"pattern\":{\"shape\":\"\"}},\"name\":\"\",\"offsetgroup\":\"\",\"orientation\":\"h\",\"showlegend\":false,\"textposition\":\"outside\",\"type\":\"bar\",\"x\":[8,52,44,37,26,36,30,34,29,25,27,26,25,20,24,23,14,16,15,13,10,15,17,11,10,14,9,12,9,6,7,11,6,6,2,5,2,8,9,6,10,4,10,8,3,4,8,4,7,7,5,6,8,7,4,2,2,4,5,4,1,4,1,4,3,4,3,4,3,2,1,3,2,3,2,2,2,3,2,3,2,1,1,2,2,1,3,5,1,2,4,3,2,4,1,4,2,3,2,1,2,1,0,1,1,2,1,2,1,2,2,2,0,2,0,0,2,0,1,4,264],\"xaxis\":\"x\",\"y\":[0,1,2,3,4,5,6,7,8,9,10,11,12,13,14,15,16,17,18,19,20,21,22,23,24,25,26,27,28,29,30,31,32,33,34,35,36,37,38,39,40,41,42,43,44,45,46,47,48,49,50,51,52,53,54,55,56,57,58,59,60,61,62,63,64,65,66,67,68,69,70,71,72,73,74,75,76,77,78,79,80,81,82,83,84,85,86,87,88,89,90,91,92,93,94,95,96,97,98,99,100,101,102,103,104,105,106,107,108,109,110,111,112,113,114,115,116,117,118,119,120],\"yaxis\":\"y\"}],                        {\"barmode\":\"relative\",\"height\":750,\"legend\":{\"tracegroupgap\":0},\"template\":{\"data\":{\"bar\":[{\"error_x\":{\"color\":\"#2a3f5f\"},\"error_y\":{\"color\":\"#2a3f5f\"},\"marker\":{\"line\":{\"color\":\"#E5ECF6\",\"width\":0.5},\"pattern\":{\"fillmode\":\"overlay\",\"size\":10,\"solidity\":0.2}},\"type\":\"bar\"}],\"barpolar\":[{\"marker\":{\"line\":{\"color\":\"#E5ECF6\",\"width\":0.5},\"pattern\":{\"fillmode\":\"overlay\",\"size\":10,\"solidity\":0.2}},\"type\":\"barpolar\"}],\"carpet\":[{\"aaxis\":{\"endlinecolor\":\"#2a3f5f\",\"gridcolor\":\"white\",\"linecolor\":\"white\",\"minorgridcolor\":\"white\",\"startlinecolor\":\"#2a3f5f\"},\"baxis\":{\"endlinecolor\":\"#2a3f5f\",\"gridcolor\":\"white\",\"linecolor\":\"white\",\"minorgridcolor\":\"white\",\"startlinecolor\":\"#2a3f5f\"},\"type\":\"carpet\"}],\"choropleth\":[{\"colorbar\":{\"outlinewidth\":0,\"ticks\":\"\"},\"type\":\"choropleth\"}],\"contour\":[{\"colorbar\":{\"outlinewidth\":0,\"ticks\":\"\"},\"colorscale\":[[0.0,\"#0d0887\"],[0.1111111111111111,\"#46039f\"],[0.2222222222222222,\"#7201a8\"],[0.3333333333333333,\"#9c179e\"],[0.4444444444444444,\"#bd3786\"],[0.5555555555555556,\"#d8576b\"],[0.6666666666666666,\"#ed7953\"],[0.7777777777777778,\"#fb9f3a\"],[0.8888888888888888,\"#fdca26\"],[1.0,\"#f0f921\"]],\"type\":\"contour\"}],\"contourcarpet\":[{\"colorbar\":{\"outlinewidth\":0,\"ticks\":\"\"},\"type\":\"contourcarpet\"}],\"heatmap\":[{\"colorbar\":{\"outlinewidth\":0,\"ticks\":\"\"},\"colorscale\":[[0.0,\"#0d0887\"],[0.1111111111111111,\"#46039f\"],[0.2222222222222222,\"#7201a8\"],[0.3333333333333333,\"#9c179e\"],[0.4444444444444444,\"#bd3786\"],[0.5555555555555556,\"#d8576b\"],[0.6666666666666666,\"#ed7953\"],[0.7777777777777778,\"#fb9f3a\"],[0.8888888888888888,\"#fdca26\"],[1.0,\"#f0f921\"]],\"type\":\"heatmap\"}],\"heatmapgl\":[{\"colorbar\":{\"outlinewidth\":0,\"ticks\":\"\"},\"colorscale\":[[0.0,\"#0d0887\"],[0.1111111111111111,\"#46039f\"],[0.2222222222222222,\"#7201a8\"],[0.3333333333333333,\"#9c179e\"],[0.4444444444444444,\"#bd3786\"],[0.5555555555555556,\"#d8576b\"],[0.6666666666666666,\"#ed7953\"],[0.7777777777777778,\"#fb9f3a\"],[0.8888888888888888,\"#fdca26\"],[1.0,\"#f0f921\"]],\"type\":\"heatmapgl\"}],\"histogram\":[{\"marker\":{\"pattern\":{\"fillmode\":\"overlay\",\"size\":10,\"solidity\":0.2}},\"type\":\"histogram\"}],\"histogram2d\":[{\"colorbar\":{\"outlinewidth\":0,\"ticks\":\"\"},\"colorscale\":[[0.0,\"#0d0887\"],[0.1111111111111111,\"#46039f\"],[0.2222222222222222,\"#7201a8\"],[0.3333333333333333,\"#9c179e\"],[0.4444444444444444,\"#bd3786\"],[0.5555555555555556,\"#d8576b\"],[0.6666666666666666,\"#ed7953\"],[0.7777777777777778,\"#fb9f3a\"],[0.8888888888888888,\"#fdca26\"],[1.0,\"#f0f921\"]],\"type\":\"histogram2d\"}],\"histogram2dcontour\":[{\"colorbar\":{\"outlinewidth\":0,\"ticks\":\"\"},\"colorscale\":[[0.0,\"#0d0887\"],[0.1111111111111111,\"#46039f\"],[0.2222222222222222,\"#7201a8\"],[0.3333333333333333,\"#9c179e\"],[0.4444444444444444,\"#bd3786\"],[0.5555555555555556,\"#d8576b\"],[0.6666666666666666,\"#ed7953\"],[0.7777777777777778,\"#fb9f3a\"],[0.8888888888888888,\"#fdca26\"],[1.0,\"#f0f921\"]],\"type\":\"histogram2dcontour\"}],\"mesh3d\":[{\"colorbar\":{\"outlinewidth\":0,\"ticks\":\"\"},\"type\":\"mesh3d\"}],\"parcoords\":[{\"line\":{\"colorbar\":{\"outlinewidth\":0,\"ticks\":\"\"}},\"type\":\"parcoords\"}],\"pie\":[{\"automargin\":true,\"type\":\"pie\"}],\"scatter\":[{\"marker\":{\"colorbar\":{\"outlinewidth\":0,\"ticks\":\"\"}},\"type\":\"scatter\"}],\"scatter3d\":[{\"line\":{\"colorbar\":{\"outlinewidth\":0,\"ticks\":\"\"}},\"marker\":{\"colorbar\":{\"outlinewidth\":0,\"ticks\":\"\"}},\"type\":\"scatter3d\"}],\"scattercarpet\":[{\"marker\":{\"colorbar\":{\"outlinewidth\":0,\"ticks\":\"\"}},\"type\":\"scattercarpet\"}],\"scattergeo\":[{\"marker\":{\"colorbar\":{\"outlinewidth\":0,\"ticks\":\"\"}},\"type\":\"scattergeo\"}],\"scattergl\":[{\"marker\":{\"colorbar\":{\"outlinewidth\":0,\"ticks\":\"\"}},\"type\":\"scattergl\"}],\"scattermapbox\":[{\"marker\":{\"colorbar\":{\"outlinewidth\":0,\"ticks\":\"\"}},\"type\":\"scattermapbox\"}],\"scatterpolar\":[{\"marker\":{\"colorbar\":{\"outlinewidth\":0,\"ticks\":\"\"}},\"type\":\"scatterpolar\"}],\"scatterpolargl\":[{\"marker\":{\"colorbar\":{\"outlinewidth\":0,\"ticks\":\"\"}},\"type\":\"scatterpolargl\"}],\"scatterternary\":[{\"marker\":{\"colorbar\":{\"outlinewidth\":0,\"ticks\":\"\"}},\"type\":\"scatterternary\"}],\"surface\":[{\"colorbar\":{\"outlinewidth\":0,\"ticks\":\"\"},\"colorscale\":[[0.0,\"#0d0887\"],[0.1111111111111111,\"#46039f\"],[0.2222222222222222,\"#7201a8\"],[0.3333333333333333,\"#9c179e\"],[0.4444444444444444,\"#bd3786\"],[0.5555555555555556,\"#d8576b\"],[0.6666666666666666,\"#ed7953\"],[0.7777777777777778,\"#fb9f3a\"],[0.8888888888888888,\"#fdca26\"],[1.0,\"#f0f921\"]],\"type\":\"surface\"}],\"table\":[{\"cells\":{\"fill\":{\"color\":\"#EBF0F8\"},\"line\":{\"color\":\"white\"}},\"header\":{\"fill\":{\"color\":\"#C8D4E3\"},\"line\":{\"color\":\"white\"}},\"type\":\"table\"}]},\"layout\":{\"annotationdefaults\":{\"arrowcolor\":\"#2a3f5f\",\"arrowhead\":0,\"arrowwidth\":1},\"autotypenumbers\":\"strict\",\"coloraxis\":{\"colorbar\":{\"outlinewidth\":0,\"ticks\":\"\"}},\"colorscale\":{\"diverging\":[[0,\"#8e0152\"],[0.1,\"#c51b7d\"],[0.2,\"#de77ae\"],[0.3,\"#f1b6da\"],[0.4,\"#fde0ef\"],[0.5,\"#f7f7f7\"],[0.6,\"#e6f5d0\"],[0.7,\"#b8e186\"],[0.8,\"#7fbc41\"],[0.9,\"#4d9221\"],[1,\"#276419\"]],\"sequential\":[[0.0,\"#0d0887\"],[0.1111111111111111,\"#46039f\"],[0.2222222222222222,\"#7201a8\"],[0.3333333333333333,\"#9c179e\"],[0.4444444444444444,\"#bd3786\"],[0.5555555555555556,\"#d8576b\"],[0.6666666666666666,\"#ed7953\"],[0.7777777777777778,\"#fb9f3a\"],[0.8888888888888888,\"#fdca26\"],[1.0,\"#f0f921\"]],\"sequentialminus\":[[0.0,\"#0d0887\"],[0.1111111111111111,\"#46039f\"],[0.2222222222222222,\"#7201a8\"],[0.3333333333333333,\"#9c179e\"],[0.4444444444444444,\"#bd3786\"],[0.5555555555555556,\"#d8576b\"],[0.6666666666666666,\"#ed7953\"],[0.7777777777777778,\"#fb9f3a\"],[0.8888888888888888,\"#fdca26\"],[1.0,\"#f0f921\"]]},\"colorway\":[\"#636efa\",\"#EF553B\",\"#00cc96\",\"#ab63fa\",\"#FFA15A\",\"#19d3f3\",\"#FF6692\",\"#B6E880\",\"#FF97FF\",\"#FECB52\"],\"font\":{\"color\":\"#2a3f5f\"},\"geo\":{\"bgcolor\":\"white\",\"lakecolor\":\"white\",\"landcolor\":\"#E5ECF6\",\"showlakes\":true,\"showland\":true,\"subunitcolor\":\"white\"},\"hoverlabel\":{\"align\":\"left\"},\"hovermode\":\"closest\",\"mapbox\":{\"style\":\"light\"},\"paper_bgcolor\":\"white\",\"plot_bgcolor\":\"#E5ECF6\",\"polar\":{\"angularaxis\":{\"gridcolor\":\"white\",\"linecolor\":\"white\",\"ticks\":\"\"},\"bgcolor\":\"#E5ECF6\",\"radialaxis\":{\"gridcolor\":\"white\",\"linecolor\":\"white\",\"ticks\":\"\"}},\"scene\":{\"xaxis\":{\"backgroundcolor\":\"#E5ECF6\",\"gridcolor\":\"white\",\"gridwidth\":2,\"linecolor\":\"white\",\"showbackground\":true,\"ticks\":\"\",\"zerolinecolor\":\"white\"},\"yaxis\":{\"backgroundcolor\":\"#E5ECF6\",\"gridcolor\":\"white\",\"gridwidth\":2,\"linecolor\":\"white\",\"showbackground\":true,\"ticks\":\"\",\"zerolinecolor\":\"white\"},\"zaxis\":{\"backgroundcolor\":\"#E5ECF6\",\"gridcolor\":\"white\",\"gridwidth\":2,\"linecolor\":\"white\",\"showbackground\":true,\"ticks\":\"\",\"zerolinecolor\":\"white\"}},\"shapedefaults\":{\"line\":{\"color\":\"#2a3f5f\"}},\"ternary\":{\"aaxis\":{\"gridcolor\":\"white\",\"linecolor\":\"white\",\"ticks\":\"\"},\"baxis\":{\"gridcolor\":\"white\",\"linecolor\":\"white\",\"ticks\":\"\"},\"bgcolor\":\"#E5ECF6\",\"caxis\":{\"gridcolor\":\"white\",\"linecolor\":\"white\",\"ticks\":\"\"}},\"title\":{\"x\":0.05},\"xaxis\":{\"automargin\":true,\"gridcolor\":\"white\",\"linecolor\":\"white\",\"ticks\":\"\",\"title\":{\"standoff\":15},\"zerolinecolor\":\"white\",\"zerolinewidth\":2},\"yaxis\":{\"automargin\":true,\"gridcolor\":\"white\",\"linecolor\":\"white\",\"ticks\":\"\",\"title\":{\"standoff\":15},\"zerolinecolor\":\"white\",\"zerolinewidth\":2}}},\"title\":{\"text\":\"RTHs in avante all facilities, 2021-01-15 to 2021-10-15\"},\"xaxis\":{\"anchor\":\"y\",\"domain\":[0.0,1.0],\"title\":{\"text\":\"RTH Count\"}},\"yaxis\":{\"anchor\":\"x\",\"autorange\":\"reversed\",\"domain\":[0.0,1.0],\"title\":{\"text\":\"Length Of Stay\"}}},                        {\"responsive\": true}                    ).then(function(){\n",
       "                            \n",
       "var gd = document.getElementById('abbbe8f6-16d5-46f6-b507-0d89ac5b105e');\n",
       "var x = new MutationObserver(function (mutations, observer) {{\n",
       "        var display = window.getComputedStyle(gd).display;\n",
       "        if (!display || display === 'none') {{\n",
       "            console.log([gd, 'removed!']);\n",
       "            Plotly.purge(gd);\n",
       "            observer.disconnect();\n",
       "        }}\n",
       "}});\n",
       "\n",
       "// Listen for the removal of the full notebook cells\n",
       "var notebookContainer = gd.closest('#notebook-container');\n",
       "if (notebookContainer) {{\n",
       "    x.observe(notebookContainer, {childList: true});\n",
       "}}\n",
       "\n",
       "// Listen for the clearing of the current output cell\n",
       "var outputEl = gd.closest('.output');\n",
       "if (outputEl) {{\n",
       "    x.observe(outputEl, {childList: true});\n",
       "}}\n",
       "\n",
       "                        })                };                });            </script>        </div>"
      ]
     },
     "metadata": {},
     "output_type": "display_data"
    }
   ],
   "source": [
    "fig = px.bar(\n",
    "    df, \n",
    "    x=\"rth\", \n",
    "    y=list(df.index), \n",
    "    hover_data=['rth_pct', 'rth_p_cumsum', 'rth_p_reverse_cumsum'],\n",
    "    labels={\n",
    "        'y':'Length Of Stay', \n",
    "        'rth': 'RTH Count', \n",
    "        'rth_pct': 'RTH Percentage',\n",
    "        'rth_p_cumsum': 'RTH Percentage Cumsum',\n",
    "        'rth_p_reverse_cumsum': 'RTH Percentage Reverse Cumsum',\n",
    "        'rth_desc': 'Description'\n",
    "    }, \n",
    "    height=graph_height, orientation='h',\n",
    "    title=f\"RTHs in {CLIENT} all facilities, {date_range}\"\n",
    ")\n",
    "fig['layout']['yaxis']['autorange'] = \"reversed\"\n",
    "fig.update_traces( textposition='outside')\n",
    "\n",
    "fig.show()"
   ]
  },
  {
   "cell_type": "code",
   "execution_count": 25,
   "id": "aa6d7bb5",
   "metadata": {
    "scrolled": true
   },
   "outputs": [
    {
     "data": {
      "application/vnd.plotly.v1+json": {
       "config": {
        "plotlyServerURL": "https://plot.ly"
       },
       "data": [
        {
         "hovertemplate": "variable=rth_p_cumsum<br>Length Of Stay=%{x}<br>value=%{y}<extra></extra>",
         "legendgroup": "rth_p_cumsum",
         "line": {
          "color": "#636efa",
          "dash": "solid"
         },
         "marker": {
          "symbol": "circle"
         },
         "mode": "lines",
         "name": "RTH Percentage at LOS <= x axis",
         "orientation": "v",
         "showlegend": true,
         "type": "scatter",
         "x": [
          0,
          1,
          2,
          3,
          4,
          5,
          6,
          7,
          8,
          9,
          10,
          11,
          12,
          13,
          14,
          15,
          16,
          17,
          18,
          19,
          20,
          21,
          22,
          23,
          24,
          25,
          26,
          27,
          28,
          29,
          30,
          31,
          32,
          33,
          34,
          35,
          36,
          37,
          38,
          39,
          40,
          41,
          42,
          43,
          44,
          45,
          46,
          47,
          48,
          49,
          50,
          51,
          52,
          53,
          54,
          55,
          56,
          57,
          58,
          59,
          60,
          61,
          62,
          63,
          64,
          65,
          66,
          67,
          68,
          69,
          70,
          71,
          72,
          73,
          74,
          75,
          76,
          77,
          78,
          79,
          80,
          81,
          82,
          83,
          84,
          85,
          86,
          87,
          88,
          89,
          90,
          91,
          92,
          93,
          94,
          95,
          96,
          97,
          98,
          99,
          100,
          101,
          102,
          103,
          104,
          105,
          106,
          107,
          108,
          109,
          110,
          111,
          112,
          113,
          114,
          115,
          116,
          117,
          118,
          119,
          120
         ],
         "xaxis": "x",
         "y": [
          0.006672226855713094,
          0.05004170141784821,
          0.08673894912427023,
          0.11759799833194329,
          0.13928273561301086,
          0.1693077564637198,
          0.19432860717264389,
          0.22268557130942454,
          0.2468723936613845,
          0.2677231025854879,
          0.2902418682235196,
          0.3119266055045872,
          0.3327773144286906,
          0.3494578815679733,
          0.3694745621351126,
          0.3886572143452877,
          0.4003336113427856,
          0.4136780650542118,
          0.42618849040867385,
          0.43703085904920763,
          0.445371142618849,
          0.4578815679733111,
          0.47206005004170143,
          0.48123436196830693,
          0.4895746455379483,
          0.5012510425354463,
          0.5087572977481235,
          0.5187656380316932,
          0.5262718932443704,
          0.5312760633861552,
          0.5371142618849042,
          0.5462885738115097,
          0.5512927439532945,
          0.5562969140950793,
          0.5579649708090075,
          0.5621351125938282,
          0.5638031693077564,
          0.5704753961634695,
          0.5779816513761468,
          0.5829858215179315,
          0.5913261050875729,
          0.5946622185154294,
          0.6030025020850708,
          0.6096747289407839,
          0.6121768140116763,
          0.6155129274395329,
          0.622185154295246,
          0.6255212677231026,
          0.6313594662218516,
          0.6371976647206006,
          0.6413678065054212,
          0.646371976647206,
          0.6530442035029191,
          0.6588824020016681,
          0.6622185154295247,
          0.6638865721434529,
          0.6655546288573811,
          0.6688907422852377,
          0.6730608840700584,
          0.6763969974979149,
          0.677231025854879,
          0.6805671392827356,
          0.6814011676396997,
          0.6847372810675563,
          0.6872393661384487,
          0.6905754795663053,
          0.6930775646371977,
          0.6964136780650543,
          0.6989157631359467,
          0.700583819849875,
          0.7014178482068391,
          0.7039199332777315,
          0.7055879899916597,
          0.7080900750625522,
          0.7097581317764804,
          0.7114261884904086,
          0.7130942452043368,
          0.7155963302752293,
          0.7172643869891575,
          0.71976647206005,
          0.7214345287739782,
          0.7222685571309423,
          0.7231025854879064,
          0.7247706422018346,
          0.7264386989157628,
          0.727272727272727,
          0.7297748123436194,
          0.7339449541284401,
          0.7347789824854042,
          0.7364470391993324,
          0.739783152627189,
          0.7422852376980814,
          0.7439532944120096,
          0.7472894078398662,
          0.7481234361968303,
          0.7514595496246869,
          0.7531276063386151,
          0.7556296914095075,
          0.7572977481234358,
          0.7581317764803999,
          0.7597998331943281,
          0.7606338615512922,
          0.7606338615512922,
          0.7614678899082563,
          0.7623019182652204,
          0.7639699749791486,
          0.7648040033361128,
          0.766472060050041,
          0.7673060884070051,
          0.7689741451209333,
          0.7706422018348615,
          0.7723102585487898,
          0.7723102585487898,
          0.773978315262718,
          0.773978315262718,
          0.773978315262718,
          0.7756463719766462,
          0.7756463719766462,
          0.7764804003336103,
          0.7798165137614669,
          0.999999999999999
         ],
         "yaxis": "y"
        },
        {
         "hovertemplate": "variable=rth_p_reverse_cumsum<br>Length Of Stay=%{x}<br>value=%{y}<extra></extra>",
         "legendgroup": "rth_p_reverse_cumsum",
         "line": {
          "color": "#EF553B",
          "dash": "solid"
         },
         "marker": {
          "symbol": "circle"
         },
         "mode": "lines",
         "name": "RTH Percentage at LOS >= x axis",
         "orientation": "v",
         "showlegend": true,
         "type": "scatter",
         "x": [
          0,
          1,
          2,
          3,
          4,
          5,
          6,
          7,
          8,
          9,
          10,
          11,
          12,
          13,
          14,
          15,
          16,
          17,
          18,
          19,
          20,
          21,
          22,
          23,
          24,
          25,
          26,
          27,
          28,
          29,
          30,
          31,
          32,
          33,
          34,
          35,
          36,
          37,
          38,
          39,
          40,
          41,
          42,
          43,
          44,
          45,
          46,
          47,
          48,
          49,
          50,
          51,
          52,
          53,
          54,
          55,
          56,
          57,
          58,
          59,
          60,
          61,
          62,
          63,
          64,
          65,
          66,
          67,
          68,
          69,
          70,
          71,
          72,
          73,
          74,
          75,
          76,
          77,
          78,
          79,
          80,
          81,
          82,
          83,
          84,
          85,
          86,
          87,
          88,
          89,
          90,
          91,
          92,
          93,
          94,
          95,
          96,
          97,
          98,
          99,
          100,
          101,
          102,
          103,
          104,
          105,
          106,
          107,
          108,
          109,
          110,
          111,
          112,
          113,
          114,
          115,
          116,
          117,
          118,
          119,
          120
         ],
         "xaxis": "x",
         "y": [
          1,
          0.993327773144287,
          0.9499582985821519,
          0.9132610508757298,
          0.8824020016680568,
          0.8607172643869893,
          0.8306922435362804,
          0.8056713928273562,
          0.7773144286905755,
          0.7531276063386155,
          0.7322768974145121,
          0.7097581317764804,
          0.6880733944954128,
          0.6672226855713094,
          0.6505421184320266,
          0.6305254378648874,
          0.6113427856547122,
          0.5996663886572143,
          0.5863219349457881,
          0.5738115095913261,
          0.5629691409507923,
          0.554628857381151,
          0.542118432026689,
          0.5279399499582986,
          0.5187656380316931,
          0.5104253544620517,
          0.4987489574645538,
          0.49124270225187655,
          0.48123436196830693,
          0.4737281067556297,
          0.46872393661384487,
          0.4628857381150959,
          0.4537114261884904,
          0.4487072560467056,
          0.44370308590492075,
          0.44203502919099247,
          0.4378648874061718,
          0.4361968306922435,
          0.4295246038365304,
          0.4220183486238532,
          0.41701417848206834,
          0.40867389491242695,
          0.4053377814845704,
          0.396997497914929,
          0.3903252710592159,
          0.3878231859883235,
          0.38448707256046694,
          0.3778148457047538,
          0.37447873227689726,
          0.3686405337781483,
          0.36280233527939937,
          0.3586321934945787,
          0.35362802335279386,
          0.34695579649708075,
          0.3411175979983318,
          0.33778148457047524,
          0.33611342785654696,
          0.3344453711426187,
          0.33110925771476213,
          0.32693911592994146,
          0.3236030025020849,
          0.3227689741451208,
          0.31943286071726423,
          0.3185988323603001,
          0.31526271893244356,
          0.3127606338615512,
          0.3094245204336946,
          0.3069224353628022,
          0.30358632193494567,
          0.3010842368640533,
          0.299416180150125,
          0.2985821517931609,
          0.2960800667222685,
          0.2944120100083402,
          0.29190992493744783,
          0.29024186822351955,
          0.28857381150959127,
          0.286905754795663,
          0.2844036697247706,
          0.2827356130108423,
          0.28023352793994993,
          0.27856547122602165,
          0.27773144286905754,
          0.27689741451209343,
          0.27522935779816515,
          0.2735613010842369,
          0.27272727272727276,
          0.2702251876563804,
          0.2660550458715597,
          0.2652210175145956,
          0.2635529608006673,
          0.26021684737281076,
          0.25771476230191837,
          0.2560467055879901,
          0.25271059216013353,
          0.2518765638031694,
          0.24854045037531286,
          0.24687239366138458,
          0.24437030859049216,
          0.24270225187656388,
          0.24186822351959975,
          0.24020016680567147,
          0.23936613844870733,
          0.23936613844870733,
          0.2385321100917432,
          0.23769808173477905,
          0.23603002502085077,
          0.23519599666388663,
          0.23352793994995835,
          0.2326939115929942,
          0.23102585487906593,
          0.22935779816513766,
          0.22768974145120938,
          0.22768974145120938,
          0.2260216847372811,
          0.2260216847372811,
          0.2260216847372811,
          0.22435362802335282,
          0.22435362802335282,
          0.22351959966638868,
          0.22018348623853212
         ],
         "yaxis": "y"
        }
       ],
       "layout": {
        "height": 750,
        "legend": {
         "title": {
          "text": "variable"
         },
         "tracegroupgap": 0
        },
        "template": {
         "data": {
          "bar": [
           {
            "error_x": {
             "color": "#2a3f5f"
            },
            "error_y": {
             "color": "#2a3f5f"
            },
            "marker": {
             "line": {
              "color": "#E5ECF6",
              "width": 0.5
             },
             "pattern": {
              "fillmode": "overlay",
              "size": 10,
              "solidity": 0.2
             }
            },
            "type": "bar"
           }
          ],
          "barpolar": [
           {
            "marker": {
             "line": {
              "color": "#E5ECF6",
              "width": 0.5
             },
             "pattern": {
              "fillmode": "overlay",
              "size": 10,
              "solidity": 0.2
             }
            },
            "type": "barpolar"
           }
          ],
          "carpet": [
           {
            "aaxis": {
             "endlinecolor": "#2a3f5f",
             "gridcolor": "white",
             "linecolor": "white",
             "minorgridcolor": "white",
             "startlinecolor": "#2a3f5f"
            },
            "baxis": {
             "endlinecolor": "#2a3f5f",
             "gridcolor": "white",
             "linecolor": "white",
             "minorgridcolor": "white",
             "startlinecolor": "#2a3f5f"
            },
            "type": "carpet"
           }
          ],
          "choropleth": [
           {
            "colorbar": {
             "outlinewidth": 0,
             "ticks": ""
            },
            "type": "choropleth"
           }
          ],
          "contour": [
           {
            "colorbar": {
             "outlinewidth": 0,
             "ticks": ""
            },
            "colorscale": [
             [
              0,
              "#0d0887"
             ],
             [
              0.1111111111111111,
              "#46039f"
             ],
             [
              0.2222222222222222,
              "#7201a8"
             ],
             [
              0.3333333333333333,
              "#9c179e"
             ],
             [
              0.4444444444444444,
              "#bd3786"
             ],
             [
              0.5555555555555556,
              "#d8576b"
             ],
             [
              0.6666666666666666,
              "#ed7953"
             ],
             [
              0.7777777777777778,
              "#fb9f3a"
             ],
             [
              0.8888888888888888,
              "#fdca26"
             ],
             [
              1,
              "#f0f921"
             ]
            ],
            "type": "contour"
           }
          ],
          "contourcarpet": [
           {
            "colorbar": {
             "outlinewidth": 0,
             "ticks": ""
            },
            "type": "contourcarpet"
           }
          ],
          "heatmap": [
           {
            "colorbar": {
             "outlinewidth": 0,
             "ticks": ""
            },
            "colorscale": [
             [
              0,
              "#0d0887"
             ],
             [
              0.1111111111111111,
              "#46039f"
             ],
             [
              0.2222222222222222,
              "#7201a8"
             ],
             [
              0.3333333333333333,
              "#9c179e"
             ],
             [
              0.4444444444444444,
              "#bd3786"
             ],
             [
              0.5555555555555556,
              "#d8576b"
             ],
             [
              0.6666666666666666,
              "#ed7953"
             ],
             [
              0.7777777777777778,
              "#fb9f3a"
             ],
             [
              0.8888888888888888,
              "#fdca26"
             ],
             [
              1,
              "#f0f921"
             ]
            ],
            "type": "heatmap"
           }
          ],
          "heatmapgl": [
           {
            "colorbar": {
             "outlinewidth": 0,
             "ticks": ""
            },
            "colorscale": [
             [
              0,
              "#0d0887"
             ],
             [
              0.1111111111111111,
              "#46039f"
             ],
             [
              0.2222222222222222,
              "#7201a8"
             ],
             [
              0.3333333333333333,
              "#9c179e"
             ],
             [
              0.4444444444444444,
              "#bd3786"
             ],
             [
              0.5555555555555556,
              "#d8576b"
             ],
             [
              0.6666666666666666,
              "#ed7953"
             ],
             [
              0.7777777777777778,
              "#fb9f3a"
             ],
             [
              0.8888888888888888,
              "#fdca26"
             ],
             [
              1,
              "#f0f921"
             ]
            ],
            "type": "heatmapgl"
           }
          ],
          "histogram": [
           {
            "marker": {
             "pattern": {
              "fillmode": "overlay",
              "size": 10,
              "solidity": 0.2
             }
            },
            "type": "histogram"
           }
          ],
          "histogram2d": [
           {
            "colorbar": {
             "outlinewidth": 0,
             "ticks": ""
            },
            "colorscale": [
             [
              0,
              "#0d0887"
             ],
             [
              0.1111111111111111,
              "#46039f"
             ],
             [
              0.2222222222222222,
              "#7201a8"
             ],
             [
              0.3333333333333333,
              "#9c179e"
             ],
             [
              0.4444444444444444,
              "#bd3786"
             ],
             [
              0.5555555555555556,
              "#d8576b"
             ],
             [
              0.6666666666666666,
              "#ed7953"
             ],
             [
              0.7777777777777778,
              "#fb9f3a"
             ],
             [
              0.8888888888888888,
              "#fdca26"
             ],
             [
              1,
              "#f0f921"
             ]
            ],
            "type": "histogram2d"
           }
          ],
          "histogram2dcontour": [
           {
            "colorbar": {
             "outlinewidth": 0,
             "ticks": ""
            },
            "colorscale": [
             [
              0,
              "#0d0887"
             ],
             [
              0.1111111111111111,
              "#46039f"
             ],
             [
              0.2222222222222222,
              "#7201a8"
             ],
             [
              0.3333333333333333,
              "#9c179e"
             ],
             [
              0.4444444444444444,
              "#bd3786"
             ],
             [
              0.5555555555555556,
              "#d8576b"
             ],
             [
              0.6666666666666666,
              "#ed7953"
             ],
             [
              0.7777777777777778,
              "#fb9f3a"
             ],
             [
              0.8888888888888888,
              "#fdca26"
             ],
             [
              1,
              "#f0f921"
             ]
            ],
            "type": "histogram2dcontour"
           }
          ],
          "mesh3d": [
           {
            "colorbar": {
             "outlinewidth": 0,
             "ticks": ""
            },
            "type": "mesh3d"
           }
          ],
          "parcoords": [
           {
            "line": {
             "colorbar": {
              "outlinewidth": 0,
              "ticks": ""
             }
            },
            "type": "parcoords"
           }
          ],
          "pie": [
           {
            "automargin": true,
            "type": "pie"
           }
          ],
          "scatter": [
           {
            "marker": {
             "colorbar": {
              "outlinewidth": 0,
              "ticks": ""
             }
            },
            "type": "scatter"
           }
          ],
          "scatter3d": [
           {
            "line": {
             "colorbar": {
              "outlinewidth": 0,
              "ticks": ""
             }
            },
            "marker": {
             "colorbar": {
              "outlinewidth": 0,
              "ticks": ""
             }
            },
            "type": "scatter3d"
           }
          ],
          "scattercarpet": [
           {
            "marker": {
             "colorbar": {
              "outlinewidth": 0,
              "ticks": ""
             }
            },
            "type": "scattercarpet"
           }
          ],
          "scattergeo": [
           {
            "marker": {
             "colorbar": {
              "outlinewidth": 0,
              "ticks": ""
             }
            },
            "type": "scattergeo"
           }
          ],
          "scattergl": [
           {
            "marker": {
             "colorbar": {
              "outlinewidth": 0,
              "ticks": ""
             }
            },
            "type": "scattergl"
           }
          ],
          "scattermapbox": [
           {
            "marker": {
             "colorbar": {
              "outlinewidth": 0,
              "ticks": ""
             }
            },
            "type": "scattermapbox"
           }
          ],
          "scatterpolar": [
           {
            "marker": {
             "colorbar": {
              "outlinewidth": 0,
              "ticks": ""
             }
            },
            "type": "scatterpolar"
           }
          ],
          "scatterpolargl": [
           {
            "marker": {
             "colorbar": {
              "outlinewidth": 0,
              "ticks": ""
             }
            },
            "type": "scatterpolargl"
           }
          ],
          "scatterternary": [
           {
            "marker": {
             "colorbar": {
              "outlinewidth": 0,
              "ticks": ""
             }
            },
            "type": "scatterternary"
           }
          ],
          "surface": [
           {
            "colorbar": {
             "outlinewidth": 0,
             "ticks": ""
            },
            "colorscale": [
             [
              0,
              "#0d0887"
             ],
             [
              0.1111111111111111,
              "#46039f"
             ],
             [
              0.2222222222222222,
              "#7201a8"
             ],
             [
              0.3333333333333333,
              "#9c179e"
             ],
             [
              0.4444444444444444,
              "#bd3786"
             ],
             [
              0.5555555555555556,
              "#d8576b"
             ],
             [
              0.6666666666666666,
              "#ed7953"
             ],
             [
              0.7777777777777778,
              "#fb9f3a"
             ],
             [
              0.8888888888888888,
              "#fdca26"
             ],
             [
              1,
              "#f0f921"
             ]
            ],
            "type": "surface"
           }
          ],
          "table": [
           {
            "cells": {
             "fill": {
              "color": "#EBF0F8"
             },
             "line": {
              "color": "white"
             }
            },
            "header": {
             "fill": {
              "color": "#C8D4E3"
             },
             "line": {
              "color": "white"
             }
            },
            "type": "table"
           }
          ]
         },
         "layout": {
          "annotationdefaults": {
           "arrowcolor": "#2a3f5f",
           "arrowhead": 0,
           "arrowwidth": 1
          },
          "autotypenumbers": "strict",
          "coloraxis": {
           "colorbar": {
            "outlinewidth": 0,
            "ticks": ""
           }
          },
          "colorscale": {
           "diverging": [
            [
             0,
             "#8e0152"
            ],
            [
             0.1,
             "#c51b7d"
            ],
            [
             0.2,
             "#de77ae"
            ],
            [
             0.3,
             "#f1b6da"
            ],
            [
             0.4,
             "#fde0ef"
            ],
            [
             0.5,
             "#f7f7f7"
            ],
            [
             0.6,
             "#e6f5d0"
            ],
            [
             0.7,
             "#b8e186"
            ],
            [
             0.8,
             "#7fbc41"
            ],
            [
             0.9,
             "#4d9221"
            ],
            [
             1,
             "#276419"
            ]
           ],
           "sequential": [
            [
             0,
             "#0d0887"
            ],
            [
             0.1111111111111111,
             "#46039f"
            ],
            [
             0.2222222222222222,
             "#7201a8"
            ],
            [
             0.3333333333333333,
             "#9c179e"
            ],
            [
             0.4444444444444444,
             "#bd3786"
            ],
            [
             0.5555555555555556,
             "#d8576b"
            ],
            [
             0.6666666666666666,
             "#ed7953"
            ],
            [
             0.7777777777777778,
             "#fb9f3a"
            ],
            [
             0.8888888888888888,
             "#fdca26"
            ],
            [
             1,
             "#f0f921"
            ]
           ],
           "sequentialminus": [
            [
             0,
             "#0d0887"
            ],
            [
             0.1111111111111111,
             "#46039f"
            ],
            [
             0.2222222222222222,
             "#7201a8"
            ],
            [
             0.3333333333333333,
             "#9c179e"
            ],
            [
             0.4444444444444444,
             "#bd3786"
            ],
            [
             0.5555555555555556,
             "#d8576b"
            ],
            [
             0.6666666666666666,
             "#ed7953"
            ],
            [
             0.7777777777777778,
             "#fb9f3a"
            ],
            [
             0.8888888888888888,
             "#fdca26"
            ],
            [
             1,
             "#f0f921"
            ]
           ]
          },
          "colorway": [
           "#636efa",
           "#EF553B",
           "#00cc96",
           "#ab63fa",
           "#FFA15A",
           "#19d3f3",
           "#FF6692",
           "#B6E880",
           "#FF97FF",
           "#FECB52"
          ],
          "font": {
           "color": "#2a3f5f"
          },
          "geo": {
           "bgcolor": "white",
           "lakecolor": "white",
           "landcolor": "#E5ECF6",
           "showlakes": true,
           "showland": true,
           "subunitcolor": "white"
          },
          "hoverlabel": {
           "align": "left"
          },
          "hovermode": "closest",
          "mapbox": {
           "style": "light"
          },
          "paper_bgcolor": "white",
          "plot_bgcolor": "#E5ECF6",
          "polar": {
           "angularaxis": {
            "gridcolor": "white",
            "linecolor": "white",
            "ticks": ""
           },
           "bgcolor": "#E5ECF6",
           "radialaxis": {
            "gridcolor": "white",
            "linecolor": "white",
            "ticks": ""
           }
          },
          "scene": {
           "xaxis": {
            "backgroundcolor": "#E5ECF6",
            "gridcolor": "white",
            "gridwidth": 2,
            "linecolor": "white",
            "showbackground": true,
            "ticks": "",
            "zerolinecolor": "white"
           },
           "yaxis": {
            "backgroundcolor": "#E5ECF6",
            "gridcolor": "white",
            "gridwidth": 2,
            "linecolor": "white",
            "showbackground": true,
            "ticks": "",
            "zerolinecolor": "white"
           },
           "zaxis": {
            "backgroundcolor": "#E5ECF6",
            "gridcolor": "white",
            "gridwidth": 2,
            "linecolor": "white",
            "showbackground": true,
            "ticks": "",
            "zerolinecolor": "white"
           }
          },
          "shapedefaults": {
           "line": {
            "color": "#2a3f5f"
           }
          },
          "ternary": {
           "aaxis": {
            "gridcolor": "white",
            "linecolor": "white",
            "ticks": ""
           },
           "baxis": {
            "gridcolor": "white",
            "linecolor": "white",
            "ticks": ""
           },
           "bgcolor": "#E5ECF6",
           "caxis": {
            "gridcolor": "white",
            "linecolor": "white",
            "ticks": ""
           }
          },
          "title": {
           "x": 0.05
          },
          "xaxis": {
           "automargin": true,
           "gridcolor": "white",
           "linecolor": "white",
           "ticks": "",
           "title": {
            "standoff": 15
           },
           "zerolinecolor": "white",
           "zerolinewidth": 2
          },
          "yaxis": {
           "automargin": true,
           "gridcolor": "white",
           "linecolor": "white",
           "ticks": "",
           "title": {
            "standoff": 15
           },
           "zerolinecolor": "white",
           "zerolinewidth": 2
          }
         }
        },
        "title": {
         "text": "Cumulative RTH Percentage in avante all facilities, 2021-01-15 to 2021-10-15"
        },
        "xaxis": {
         "anchor": "y",
         "domain": [
          0,
          1
         ],
         "title": {
          "text": "Length Of Stay"
         }
        },
        "yaxis": {
         "anchor": "x",
         "domain": [
          0,
          1
         ],
         "range": [
          0,
          1
         ],
         "tickformat": ",.0%",
         "title": {
          "text": "RTH Percentage"
         }
        }
       }
      },
      "text/html": [
       "<div>                            <div id=\"d4736e52-ebeb-4472-b570-304df4f76956\" class=\"plotly-graph-div\" style=\"height:750px; width:100%;\"></div>            <script type=\"text/javascript\">                require([\"plotly\"], function(Plotly) {                    window.PLOTLYENV=window.PLOTLYENV || {};                                    if (document.getElementById(\"d4736e52-ebeb-4472-b570-304df4f76956\")) {                    Plotly.newPlot(                        \"d4736e52-ebeb-4472-b570-304df4f76956\",                        [{\"hovertemplate\":\"variable=rth_p_cumsum<br>Length Of Stay=%{x}<br>value=%{y}<extra></extra>\",\"legendgroup\":\"rth_p_cumsum\",\"line\":{\"color\":\"#636efa\",\"dash\":\"solid\"},\"marker\":{\"symbol\":\"circle\"},\"mode\":\"lines\",\"name\":\"RTH Percentage at LOS <= x axis\",\"orientation\":\"v\",\"showlegend\":true,\"type\":\"scatter\",\"x\":[0,1,2,3,4,5,6,7,8,9,10,11,12,13,14,15,16,17,18,19,20,21,22,23,24,25,26,27,28,29,30,31,32,33,34,35,36,37,38,39,40,41,42,43,44,45,46,47,48,49,50,51,52,53,54,55,56,57,58,59,60,61,62,63,64,65,66,67,68,69,70,71,72,73,74,75,76,77,78,79,80,81,82,83,84,85,86,87,88,89,90,91,92,93,94,95,96,97,98,99,100,101,102,103,104,105,106,107,108,109,110,111,112,113,114,115,116,117,118,119,120],\"xaxis\":\"x\",\"y\":[0.006672226855713094,0.05004170141784821,0.08673894912427023,0.11759799833194329,0.13928273561301086,0.1693077564637198,0.19432860717264389,0.22268557130942454,0.2468723936613845,0.2677231025854879,0.2902418682235196,0.3119266055045872,0.3327773144286906,0.3494578815679733,0.3694745621351126,0.3886572143452877,0.4003336113427856,0.4136780650542118,0.42618849040867385,0.43703085904920763,0.445371142618849,0.4578815679733111,0.47206005004170143,0.48123436196830693,0.4895746455379483,0.5012510425354463,0.5087572977481235,0.5187656380316932,0.5262718932443704,0.5312760633861552,0.5371142618849042,0.5462885738115097,0.5512927439532945,0.5562969140950793,0.5579649708090075,0.5621351125938282,0.5638031693077564,0.5704753961634695,0.5779816513761468,0.5829858215179315,0.5913261050875729,0.5946622185154294,0.6030025020850708,0.6096747289407839,0.6121768140116763,0.6155129274395329,0.622185154295246,0.6255212677231026,0.6313594662218516,0.6371976647206006,0.6413678065054212,0.646371976647206,0.6530442035029191,0.6588824020016681,0.6622185154295247,0.6638865721434529,0.6655546288573811,0.6688907422852377,0.6730608840700584,0.6763969974979149,0.677231025854879,0.6805671392827356,0.6814011676396997,0.6847372810675563,0.6872393661384487,0.6905754795663053,0.6930775646371977,0.6964136780650543,0.6989157631359467,0.700583819849875,0.7014178482068391,0.7039199332777315,0.7055879899916597,0.7080900750625522,0.7097581317764804,0.7114261884904086,0.7130942452043368,0.7155963302752293,0.7172643869891575,0.71976647206005,0.7214345287739782,0.7222685571309423,0.7231025854879064,0.7247706422018346,0.7264386989157628,0.727272727272727,0.7297748123436194,0.7339449541284401,0.7347789824854042,0.7364470391993324,0.739783152627189,0.7422852376980814,0.7439532944120096,0.7472894078398662,0.7481234361968303,0.7514595496246869,0.7531276063386151,0.7556296914095075,0.7572977481234358,0.7581317764803999,0.7597998331943281,0.7606338615512922,0.7606338615512922,0.7614678899082563,0.7623019182652204,0.7639699749791486,0.7648040033361128,0.766472060050041,0.7673060884070051,0.7689741451209333,0.7706422018348615,0.7723102585487898,0.7723102585487898,0.773978315262718,0.773978315262718,0.773978315262718,0.7756463719766462,0.7756463719766462,0.7764804003336103,0.7798165137614669,0.999999999999999],\"yaxis\":\"y\"},{\"hovertemplate\":\"variable=rth_p_reverse_cumsum<br>Length Of Stay=%{x}<br>value=%{y}<extra></extra>\",\"legendgroup\":\"rth_p_reverse_cumsum\",\"line\":{\"color\":\"#EF553B\",\"dash\":\"solid\"},\"marker\":{\"symbol\":\"circle\"},\"mode\":\"lines\",\"name\":\"RTH Percentage at LOS >= x axis\",\"orientation\":\"v\",\"showlegend\":true,\"type\":\"scatter\",\"x\":[0,1,2,3,4,5,6,7,8,9,10,11,12,13,14,15,16,17,18,19,20,21,22,23,24,25,26,27,28,29,30,31,32,33,34,35,36,37,38,39,40,41,42,43,44,45,46,47,48,49,50,51,52,53,54,55,56,57,58,59,60,61,62,63,64,65,66,67,68,69,70,71,72,73,74,75,76,77,78,79,80,81,82,83,84,85,86,87,88,89,90,91,92,93,94,95,96,97,98,99,100,101,102,103,104,105,106,107,108,109,110,111,112,113,114,115,116,117,118,119,120],\"xaxis\":\"x\",\"y\":[1.0,0.993327773144287,0.9499582985821519,0.9132610508757298,0.8824020016680568,0.8607172643869893,0.8306922435362804,0.8056713928273562,0.7773144286905755,0.7531276063386155,0.7322768974145121,0.7097581317764804,0.6880733944954128,0.6672226855713094,0.6505421184320266,0.6305254378648874,0.6113427856547122,0.5996663886572143,0.5863219349457881,0.5738115095913261,0.5629691409507923,0.554628857381151,0.542118432026689,0.5279399499582986,0.5187656380316931,0.5104253544620517,0.4987489574645538,0.49124270225187655,0.48123436196830693,0.4737281067556297,0.46872393661384487,0.4628857381150959,0.4537114261884904,0.4487072560467056,0.44370308590492075,0.44203502919099247,0.4378648874061718,0.4361968306922435,0.4295246038365304,0.4220183486238532,0.41701417848206834,0.40867389491242695,0.4053377814845704,0.396997497914929,0.3903252710592159,0.3878231859883235,0.38448707256046694,0.3778148457047538,0.37447873227689726,0.3686405337781483,0.36280233527939937,0.3586321934945787,0.35362802335279386,0.34695579649708075,0.3411175979983318,0.33778148457047524,0.33611342785654696,0.3344453711426187,0.33110925771476213,0.32693911592994146,0.3236030025020849,0.3227689741451208,0.31943286071726423,0.3185988323603001,0.31526271893244356,0.3127606338615512,0.3094245204336946,0.3069224353628022,0.30358632193494567,0.3010842368640533,0.299416180150125,0.2985821517931609,0.2960800667222685,0.2944120100083402,0.29190992493744783,0.29024186822351955,0.28857381150959127,0.286905754795663,0.2844036697247706,0.2827356130108423,0.28023352793994993,0.27856547122602165,0.27773144286905754,0.27689741451209343,0.27522935779816515,0.2735613010842369,0.27272727272727276,0.2702251876563804,0.2660550458715597,0.2652210175145956,0.2635529608006673,0.26021684737281076,0.25771476230191837,0.2560467055879901,0.25271059216013353,0.2518765638031694,0.24854045037531286,0.24687239366138458,0.24437030859049216,0.24270225187656388,0.24186822351959975,0.24020016680567147,0.23936613844870733,0.23936613844870733,0.2385321100917432,0.23769808173477905,0.23603002502085077,0.23519599666388663,0.23352793994995835,0.2326939115929942,0.23102585487906593,0.22935779816513766,0.22768974145120938,0.22768974145120938,0.2260216847372811,0.2260216847372811,0.2260216847372811,0.22435362802335282,0.22435362802335282,0.22351959966638868,0.22018348623853212],\"yaxis\":\"y\"}],                        {\"height\":750,\"legend\":{\"title\":{\"text\":\"variable\"},\"tracegroupgap\":0},\"template\":{\"data\":{\"bar\":[{\"error_x\":{\"color\":\"#2a3f5f\"},\"error_y\":{\"color\":\"#2a3f5f\"},\"marker\":{\"line\":{\"color\":\"#E5ECF6\",\"width\":0.5},\"pattern\":{\"fillmode\":\"overlay\",\"size\":10,\"solidity\":0.2}},\"type\":\"bar\"}],\"barpolar\":[{\"marker\":{\"line\":{\"color\":\"#E5ECF6\",\"width\":0.5},\"pattern\":{\"fillmode\":\"overlay\",\"size\":10,\"solidity\":0.2}},\"type\":\"barpolar\"}],\"carpet\":[{\"aaxis\":{\"endlinecolor\":\"#2a3f5f\",\"gridcolor\":\"white\",\"linecolor\":\"white\",\"minorgridcolor\":\"white\",\"startlinecolor\":\"#2a3f5f\"},\"baxis\":{\"endlinecolor\":\"#2a3f5f\",\"gridcolor\":\"white\",\"linecolor\":\"white\",\"minorgridcolor\":\"white\",\"startlinecolor\":\"#2a3f5f\"},\"type\":\"carpet\"}],\"choropleth\":[{\"colorbar\":{\"outlinewidth\":0,\"ticks\":\"\"},\"type\":\"choropleth\"}],\"contour\":[{\"colorbar\":{\"outlinewidth\":0,\"ticks\":\"\"},\"colorscale\":[[0.0,\"#0d0887\"],[0.1111111111111111,\"#46039f\"],[0.2222222222222222,\"#7201a8\"],[0.3333333333333333,\"#9c179e\"],[0.4444444444444444,\"#bd3786\"],[0.5555555555555556,\"#d8576b\"],[0.6666666666666666,\"#ed7953\"],[0.7777777777777778,\"#fb9f3a\"],[0.8888888888888888,\"#fdca26\"],[1.0,\"#f0f921\"]],\"type\":\"contour\"}],\"contourcarpet\":[{\"colorbar\":{\"outlinewidth\":0,\"ticks\":\"\"},\"type\":\"contourcarpet\"}],\"heatmap\":[{\"colorbar\":{\"outlinewidth\":0,\"ticks\":\"\"},\"colorscale\":[[0.0,\"#0d0887\"],[0.1111111111111111,\"#46039f\"],[0.2222222222222222,\"#7201a8\"],[0.3333333333333333,\"#9c179e\"],[0.4444444444444444,\"#bd3786\"],[0.5555555555555556,\"#d8576b\"],[0.6666666666666666,\"#ed7953\"],[0.7777777777777778,\"#fb9f3a\"],[0.8888888888888888,\"#fdca26\"],[1.0,\"#f0f921\"]],\"type\":\"heatmap\"}],\"heatmapgl\":[{\"colorbar\":{\"outlinewidth\":0,\"ticks\":\"\"},\"colorscale\":[[0.0,\"#0d0887\"],[0.1111111111111111,\"#46039f\"],[0.2222222222222222,\"#7201a8\"],[0.3333333333333333,\"#9c179e\"],[0.4444444444444444,\"#bd3786\"],[0.5555555555555556,\"#d8576b\"],[0.6666666666666666,\"#ed7953\"],[0.7777777777777778,\"#fb9f3a\"],[0.8888888888888888,\"#fdca26\"],[1.0,\"#f0f921\"]],\"type\":\"heatmapgl\"}],\"histogram\":[{\"marker\":{\"pattern\":{\"fillmode\":\"overlay\",\"size\":10,\"solidity\":0.2}},\"type\":\"histogram\"}],\"histogram2d\":[{\"colorbar\":{\"outlinewidth\":0,\"ticks\":\"\"},\"colorscale\":[[0.0,\"#0d0887\"],[0.1111111111111111,\"#46039f\"],[0.2222222222222222,\"#7201a8\"],[0.3333333333333333,\"#9c179e\"],[0.4444444444444444,\"#bd3786\"],[0.5555555555555556,\"#d8576b\"],[0.6666666666666666,\"#ed7953\"],[0.7777777777777778,\"#fb9f3a\"],[0.8888888888888888,\"#fdca26\"],[1.0,\"#f0f921\"]],\"type\":\"histogram2d\"}],\"histogram2dcontour\":[{\"colorbar\":{\"outlinewidth\":0,\"ticks\":\"\"},\"colorscale\":[[0.0,\"#0d0887\"],[0.1111111111111111,\"#46039f\"],[0.2222222222222222,\"#7201a8\"],[0.3333333333333333,\"#9c179e\"],[0.4444444444444444,\"#bd3786\"],[0.5555555555555556,\"#d8576b\"],[0.6666666666666666,\"#ed7953\"],[0.7777777777777778,\"#fb9f3a\"],[0.8888888888888888,\"#fdca26\"],[1.0,\"#f0f921\"]],\"type\":\"histogram2dcontour\"}],\"mesh3d\":[{\"colorbar\":{\"outlinewidth\":0,\"ticks\":\"\"},\"type\":\"mesh3d\"}],\"parcoords\":[{\"line\":{\"colorbar\":{\"outlinewidth\":0,\"ticks\":\"\"}},\"type\":\"parcoords\"}],\"pie\":[{\"automargin\":true,\"type\":\"pie\"}],\"scatter\":[{\"marker\":{\"colorbar\":{\"outlinewidth\":0,\"ticks\":\"\"}},\"type\":\"scatter\"}],\"scatter3d\":[{\"line\":{\"colorbar\":{\"outlinewidth\":0,\"ticks\":\"\"}},\"marker\":{\"colorbar\":{\"outlinewidth\":0,\"ticks\":\"\"}},\"type\":\"scatter3d\"}],\"scattercarpet\":[{\"marker\":{\"colorbar\":{\"outlinewidth\":0,\"ticks\":\"\"}},\"type\":\"scattercarpet\"}],\"scattergeo\":[{\"marker\":{\"colorbar\":{\"outlinewidth\":0,\"ticks\":\"\"}},\"type\":\"scattergeo\"}],\"scattergl\":[{\"marker\":{\"colorbar\":{\"outlinewidth\":0,\"ticks\":\"\"}},\"type\":\"scattergl\"}],\"scattermapbox\":[{\"marker\":{\"colorbar\":{\"outlinewidth\":0,\"ticks\":\"\"}},\"type\":\"scattermapbox\"}],\"scatterpolar\":[{\"marker\":{\"colorbar\":{\"outlinewidth\":0,\"ticks\":\"\"}},\"type\":\"scatterpolar\"}],\"scatterpolargl\":[{\"marker\":{\"colorbar\":{\"outlinewidth\":0,\"ticks\":\"\"}},\"type\":\"scatterpolargl\"}],\"scatterternary\":[{\"marker\":{\"colorbar\":{\"outlinewidth\":0,\"ticks\":\"\"}},\"type\":\"scatterternary\"}],\"surface\":[{\"colorbar\":{\"outlinewidth\":0,\"ticks\":\"\"},\"colorscale\":[[0.0,\"#0d0887\"],[0.1111111111111111,\"#46039f\"],[0.2222222222222222,\"#7201a8\"],[0.3333333333333333,\"#9c179e\"],[0.4444444444444444,\"#bd3786\"],[0.5555555555555556,\"#d8576b\"],[0.6666666666666666,\"#ed7953\"],[0.7777777777777778,\"#fb9f3a\"],[0.8888888888888888,\"#fdca26\"],[1.0,\"#f0f921\"]],\"type\":\"surface\"}],\"table\":[{\"cells\":{\"fill\":{\"color\":\"#EBF0F8\"},\"line\":{\"color\":\"white\"}},\"header\":{\"fill\":{\"color\":\"#C8D4E3\"},\"line\":{\"color\":\"white\"}},\"type\":\"table\"}]},\"layout\":{\"annotationdefaults\":{\"arrowcolor\":\"#2a3f5f\",\"arrowhead\":0,\"arrowwidth\":1},\"autotypenumbers\":\"strict\",\"coloraxis\":{\"colorbar\":{\"outlinewidth\":0,\"ticks\":\"\"}},\"colorscale\":{\"diverging\":[[0,\"#8e0152\"],[0.1,\"#c51b7d\"],[0.2,\"#de77ae\"],[0.3,\"#f1b6da\"],[0.4,\"#fde0ef\"],[0.5,\"#f7f7f7\"],[0.6,\"#e6f5d0\"],[0.7,\"#b8e186\"],[0.8,\"#7fbc41\"],[0.9,\"#4d9221\"],[1,\"#276419\"]],\"sequential\":[[0.0,\"#0d0887\"],[0.1111111111111111,\"#46039f\"],[0.2222222222222222,\"#7201a8\"],[0.3333333333333333,\"#9c179e\"],[0.4444444444444444,\"#bd3786\"],[0.5555555555555556,\"#d8576b\"],[0.6666666666666666,\"#ed7953\"],[0.7777777777777778,\"#fb9f3a\"],[0.8888888888888888,\"#fdca26\"],[1.0,\"#f0f921\"]],\"sequentialminus\":[[0.0,\"#0d0887\"],[0.1111111111111111,\"#46039f\"],[0.2222222222222222,\"#7201a8\"],[0.3333333333333333,\"#9c179e\"],[0.4444444444444444,\"#bd3786\"],[0.5555555555555556,\"#d8576b\"],[0.6666666666666666,\"#ed7953\"],[0.7777777777777778,\"#fb9f3a\"],[0.8888888888888888,\"#fdca26\"],[1.0,\"#f0f921\"]]},\"colorway\":[\"#636efa\",\"#EF553B\",\"#00cc96\",\"#ab63fa\",\"#FFA15A\",\"#19d3f3\",\"#FF6692\",\"#B6E880\",\"#FF97FF\",\"#FECB52\"],\"font\":{\"color\":\"#2a3f5f\"},\"geo\":{\"bgcolor\":\"white\",\"lakecolor\":\"white\",\"landcolor\":\"#E5ECF6\",\"showlakes\":true,\"showland\":true,\"subunitcolor\":\"white\"},\"hoverlabel\":{\"align\":\"left\"},\"hovermode\":\"closest\",\"mapbox\":{\"style\":\"light\"},\"paper_bgcolor\":\"white\",\"plot_bgcolor\":\"#E5ECF6\",\"polar\":{\"angularaxis\":{\"gridcolor\":\"white\",\"linecolor\":\"white\",\"ticks\":\"\"},\"bgcolor\":\"#E5ECF6\",\"radialaxis\":{\"gridcolor\":\"white\",\"linecolor\":\"white\",\"ticks\":\"\"}},\"scene\":{\"xaxis\":{\"backgroundcolor\":\"#E5ECF6\",\"gridcolor\":\"white\",\"gridwidth\":2,\"linecolor\":\"white\",\"showbackground\":true,\"ticks\":\"\",\"zerolinecolor\":\"white\"},\"yaxis\":{\"backgroundcolor\":\"#E5ECF6\",\"gridcolor\":\"white\",\"gridwidth\":2,\"linecolor\":\"white\",\"showbackground\":true,\"ticks\":\"\",\"zerolinecolor\":\"white\"},\"zaxis\":{\"backgroundcolor\":\"#E5ECF6\",\"gridcolor\":\"white\",\"gridwidth\":2,\"linecolor\":\"white\",\"showbackground\":true,\"ticks\":\"\",\"zerolinecolor\":\"white\"}},\"shapedefaults\":{\"line\":{\"color\":\"#2a3f5f\"}},\"ternary\":{\"aaxis\":{\"gridcolor\":\"white\",\"linecolor\":\"white\",\"ticks\":\"\"},\"baxis\":{\"gridcolor\":\"white\",\"linecolor\":\"white\",\"ticks\":\"\"},\"bgcolor\":\"#E5ECF6\",\"caxis\":{\"gridcolor\":\"white\",\"linecolor\":\"white\",\"ticks\":\"\"}},\"title\":{\"x\":0.05},\"xaxis\":{\"automargin\":true,\"gridcolor\":\"white\",\"linecolor\":\"white\",\"ticks\":\"\",\"title\":{\"standoff\":15},\"zerolinecolor\":\"white\",\"zerolinewidth\":2},\"yaxis\":{\"automargin\":true,\"gridcolor\":\"white\",\"linecolor\":\"white\",\"ticks\":\"\",\"title\":{\"standoff\":15},\"zerolinecolor\":\"white\",\"zerolinewidth\":2}}},\"title\":{\"text\":\"Cumulative RTH Percentage in avante all facilities, 2021-01-15 to 2021-10-15\"},\"xaxis\":{\"anchor\":\"y\",\"domain\":[0.0,1.0],\"title\":{\"text\":\"Length Of Stay\"}},\"yaxis\":{\"anchor\":\"x\",\"domain\":[0.0,1.0],\"range\":[0,1],\"tickformat\":\",.0%\",\"title\":{\"text\":\"RTH Percentage\"}}},                        {\"responsive\": true}                    ).then(function(){\n",
       "                            \n",
       "var gd = document.getElementById('d4736e52-ebeb-4472-b570-304df4f76956');\n",
       "var x = new MutationObserver(function (mutations, observer) {{\n",
       "        var display = window.getComputedStyle(gd).display;\n",
       "        if (!display || display === 'none') {{\n",
       "            console.log([gd, 'removed!']);\n",
       "            Plotly.purge(gd);\n",
       "            observer.disconnect();\n",
       "        }}\n",
       "}});\n",
       "\n",
       "// Listen for the removal of the full notebook cells\n",
       "var notebookContainer = gd.closest('#notebook-container');\n",
       "if (notebookContainer) {{\n",
       "    x.observe(notebookContainer, {childList: true});\n",
       "}}\n",
       "\n",
       "// Listen for the clearing of the current output cell\n",
       "var outputEl = gd.closest('.output');\n",
       "if (outputEl) {{\n",
       "    x.observe(outputEl, {childList: true});\n",
       "}}\n",
       "\n",
       "                        })                };                });            </script>        </div>"
      ]
     },
     "metadata": {},
     "output_type": "display_data"
    }
   ],
   "source": [
    "fig = px.line(\n",
    "    df, y=[\"rth_p_cumsum\", \"rth_p_reverse_cumsum\"], x=list(df.index), \n",
    "    labels={\n",
    "        'x':'Length Of Stay', \n",
    "    }, \n",
    "    height=750, \n",
    "    title=f\"Cumulative RTH Percentage in {CLIENT} all facilities, {date_range}\"\n",
    ")\n",
    "fig['layout']['yaxis']['title'] = \"RTH Percentage\"\n",
    "fig['layout']['yaxis']['tickformat'] = ',.0%'\n",
    "fig['layout']['yaxis']['range'] = [0,1]\n",
    "\n",
    "\n",
    "new_names= ['RTH Percentage at LOS <= x axis', 'RTH Percentage at LOS >= x axis']\n",
    "for i, new_name in enumerate(new_names):\n",
    "    fig.data[i].name = new_name\n",
    "\n",
    "fig.show()"
   ]
  },
  {
   "cell_type": "markdown",
   "id": "6fa48785",
   "metadata": {},
   "source": [
    "## Caught RTH"
   ]
  },
  {
   "cell_type": "code",
   "execution_count": 40,
   "id": "1b5308b2",
   "metadata": {
    "scrolled": true
   },
   "outputs": [
    {
     "data": {
      "application/vnd.plotly.v1+json": {
       "config": {
        "plotlyServerURL": "https://plot.ly"
       },
       "data": [
        {
         "alignmentgroup": "True",
         "hovertemplate": "Caught RTH=%{x}<br>Length Of Stay=%{y}<extra></extra>",
         "legendgroup": "",
         "marker": {
          "color": "green",
          "pattern": {
           "shape": ""
          }
         },
         "name": "",
         "offsetgroup": "",
         "orientation": "h",
         "showlegend": false,
         "textposition": "auto",
         "type": "bar",
         "x": [
          1,
          3,
          10,
          23,
          21,
          25,
          22,
          27,
          20,
          18,
          20,
          19,
          17,
          14,
          17,
          17,
          9,
          12,
          11,
          10,
          5,
          8,
          10,
          9,
          8,
          6,
          6,
          6,
          3,
          3,
          4,
          6,
          3,
          5,
          2,
          3,
          2,
          4,
          5,
          3,
          2,
          1,
          4,
          4,
          2,
          2,
          2,
          2,
          5,
          7,
          1,
          2,
          1,
          3,
          3,
          1,
          1,
          2,
          2,
          2,
          1,
          2,
          0,
          2,
          1,
          0,
          1,
          2,
          0,
          2,
          0,
          1,
          1,
          0,
          2,
          0,
          1,
          3,
          2,
          0,
          1,
          1,
          0,
          1,
          0,
          0,
          1,
          1,
          0,
          0,
          0,
          0,
          0,
          0,
          0,
          2,
          1,
          0,
          0,
          1,
          0,
          1,
          0,
          0,
          0,
          1,
          1,
          1,
          0,
          0,
          1,
          0,
          0,
          1,
          0,
          0,
          0,
          0,
          0,
          2
         ],
         "xaxis": "x",
         "y": [
          0,
          1,
          2,
          3,
          4,
          5,
          6,
          7,
          8,
          9,
          10,
          11,
          12,
          13,
          14,
          15,
          16,
          17,
          18,
          19,
          20,
          21,
          22,
          23,
          24,
          25,
          26,
          27,
          28,
          29,
          30,
          31,
          32,
          33,
          34,
          35,
          36,
          37,
          38,
          39,
          40,
          41,
          42,
          43,
          44,
          45,
          46,
          47,
          48,
          49,
          50,
          51,
          52,
          53,
          54,
          55,
          56,
          57,
          58,
          59,
          60,
          61,
          62,
          63,
          64,
          65,
          66,
          67,
          68,
          69,
          70,
          71,
          72,
          73,
          74,
          75,
          76,
          77,
          78,
          79,
          80,
          81,
          82,
          83,
          84,
          85,
          86,
          87,
          88,
          89,
          90,
          91,
          92,
          93,
          94,
          95,
          96,
          97,
          98,
          99,
          100,
          101,
          102,
          103,
          104,
          105,
          106,
          107,
          108,
          109,
          110,
          111,
          112,
          113,
          114,
          115,
          116,
          117,
          118,
          119
         ],
         "yaxis": "y"
        }
       ],
       "layout": {
        "barmode": "relative",
        "height": 750,
        "legend": {
         "tracegroupgap": 0
        },
        "template": {
         "data": {
          "bar": [
           {
            "error_x": {
             "color": "#2a3f5f"
            },
            "error_y": {
             "color": "#2a3f5f"
            },
            "marker": {
             "line": {
              "color": "#E5ECF6",
              "width": 0.5
             },
             "pattern": {
              "fillmode": "overlay",
              "size": 10,
              "solidity": 0.2
             }
            },
            "type": "bar"
           }
          ],
          "barpolar": [
           {
            "marker": {
             "line": {
              "color": "#E5ECF6",
              "width": 0.5
             },
             "pattern": {
              "fillmode": "overlay",
              "size": 10,
              "solidity": 0.2
             }
            },
            "type": "barpolar"
           }
          ],
          "carpet": [
           {
            "aaxis": {
             "endlinecolor": "#2a3f5f",
             "gridcolor": "white",
             "linecolor": "white",
             "minorgridcolor": "white",
             "startlinecolor": "#2a3f5f"
            },
            "baxis": {
             "endlinecolor": "#2a3f5f",
             "gridcolor": "white",
             "linecolor": "white",
             "minorgridcolor": "white",
             "startlinecolor": "#2a3f5f"
            },
            "type": "carpet"
           }
          ],
          "choropleth": [
           {
            "colorbar": {
             "outlinewidth": 0,
             "ticks": ""
            },
            "type": "choropleth"
           }
          ],
          "contour": [
           {
            "colorbar": {
             "outlinewidth": 0,
             "ticks": ""
            },
            "colorscale": [
             [
              0,
              "#0d0887"
             ],
             [
              0.1111111111111111,
              "#46039f"
             ],
             [
              0.2222222222222222,
              "#7201a8"
             ],
             [
              0.3333333333333333,
              "#9c179e"
             ],
             [
              0.4444444444444444,
              "#bd3786"
             ],
             [
              0.5555555555555556,
              "#d8576b"
             ],
             [
              0.6666666666666666,
              "#ed7953"
             ],
             [
              0.7777777777777778,
              "#fb9f3a"
             ],
             [
              0.8888888888888888,
              "#fdca26"
             ],
             [
              1,
              "#f0f921"
             ]
            ],
            "type": "contour"
           }
          ],
          "contourcarpet": [
           {
            "colorbar": {
             "outlinewidth": 0,
             "ticks": ""
            },
            "type": "contourcarpet"
           }
          ],
          "heatmap": [
           {
            "colorbar": {
             "outlinewidth": 0,
             "ticks": ""
            },
            "colorscale": [
             [
              0,
              "#0d0887"
             ],
             [
              0.1111111111111111,
              "#46039f"
             ],
             [
              0.2222222222222222,
              "#7201a8"
             ],
             [
              0.3333333333333333,
              "#9c179e"
             ],
             [
              0.4444444444444444,
              "#bd3786"
             ],
             [
              0.5555555555555556,
              "#d8576b"
             ],
             [
              0.6666666666666666,
              "#ed7953"
             ],
             [
              0.7777777777777778,
              "#fb9f3a"
             ],
             [
              0.8888888888888888,
              "#fdca26"
             ],
             [
              1,
              "#f0f921"
             ]
            ],
            "type": "heatmap"
           }
          ],
          "heatmapgl": [
           {
            "colorbar": {
             "outlinewidth": 0,
             "ticks": ""
            },
            "colorscale": [
             [
              0,
              "#0d0887"
             ],
             [
              0.1111111111111111,
              "#46039f"
             ],
             [
              0.2222222222222222,
              "#7201a8"
             ],
             [
              0.3333333333333333,
              "#9c179e"
             ],
             [
              0.4444444444444444,
              "#bd3786"
             ],
             [
              0.5555555555555556,
              "#d8576b"
             ],
             [
              0.6666666666666666,
              "#ed7953"
             ],
             [
              0.7777777777777778,
              "#fb9f3a"
             ],
             [
              0.8888888888888888,
              "#fdca26"
             ],
             [
              1,
              "#f0f921"
             ]
            ],
            "type": "heatmapgl"
           }
          ],
          "histogram": [
           {
            "marker": {
             "pattern": {
              "fillmode": "overlay",
              "size": 10,
              "solidity": 0.2
             }
            },
            "type": "histogram"
           }
          ],
          "histogram2d": [
           {
            "colorbar": {
             "outlinewidth": 0,
             "ticks": ""
            },
            "colorscale": [
             [
              0,
              "#0d0887"
             ],
             [
              0.1111111111111111,
              "#46039f"
             ],
             [
              0.2222222222222222,
              "#7201a8"
             ],
             [
              0.3333333333333333,
              "#9c179e"
             ],
             [
              0.4444444444444444,
              "#bd3786"
             ],
             [
              0.5555555555555556,
              "#d8576b"
             ],
             [
              0.6666666666666666,
              "#ed7953"
             ],
             [
              0.7777777777777778,
              "#fb9f3a"
             ],
             [
              0.8888888888888888,
              "#fdca26"
             ],
             [
              1,
              "#f0f921"
             ]
            ],
            "type": "histogram2d"
           }
          ],
          "histogram2dcontour": [
           {
            "colorbar": {
             "outlinewidth": 0,
             "ticks": ""
            },
            "colorscale": [
             [
              0,
              "#0d0887"
             ],
             [
              0.1111111111111111,
              "#46039f"
             ],
             [
              0.2222222222222222,
              "#7201a8"
             ],
             [
              0.3333333333333333,
              "#9c179e"
             ],
             [
              0.4444444444444444,
              "#bd3786"
             ],
             [
              0.5555555555555556,
              "#d8576b"
             ],
             [
              0.6666666666666666,
              "#ed7953"
             ],
             [
              0.7777777777777778,
              "#fb9f3a"
             ],
             [
              0.8888888888888888,
              "#fdca26"
             ],
             [
              1,
              "#f0f921"
             ]
            ],
            "type": "histogram2dcontour"
           }
          ],
          "mesh3d": [
           {
            "colorbar": {
             "outlinewidth": 0,
             "ticks": ""
            },
            "type": "mesh3d"
           }
          ],
          "parcoords": [
           {
            "line": {
             "colorbar": {
              "outlinewidth": 0,
              "ticks": ""
             }
            },
            "type": "parcoords"
           }
          ],
          "pie": [
           {
            "automargin": true,
            "type": "pie"
           }
          ],
          "scatter": [
           {
            "marker": {
             "colorbar": {
              "outlinewidth": 0,
              "ticks": ""
             }
            },
            "type": "scatter"
           }
          ],
          "scatter3d": [
           {
            "line": {
             "colorbar": {
              "outlinewidth": 0,
              "ticks": ""
             }
            },
            "marker": {
             "colorbar": {
              "outlinewidth": 0,
              "ticks": ""
             }
            },
            "type": "scatter3d"
           }
          ],
          "scattercarpet": [
           {
            "marker": {
             "colorbar": {
              "outlinewidth": 0,
              "ticks": ""
             }
            },
            "type": "scattercarpet"
           }
          ],
          "scattergeo": [
           {
            "marker": {
             "colorbar": {
              "outlinewidth": 0,
              "ticks": ""
             }
            },
            "type": "scattergeo"
           }
          ],
          "scattergl": [
           {
            "marker": {
             "colorbar": {
              "outlinewidth": 0,
              "ticks": ""
             }
            },
            "type": "scattergl"
           }
          ],
          "scattermapbox": [
           {
            "marker": {
             "colorbar": {
              "outlinewidth": 0,
              "ticks": ""
             }
            },
            "type": "scattermapbox"
           }
          ],
          "scatterpolar": [
           {
            "marker": {
             "colorbar": {
              "outlinewidth": 0,
              "ticks": ""
             }
            },
            "type": "scatterpolar"
           }
          ],
          "scatterpolargl": [
           {
            "marker": {
             "colorbar": {
              "outlinewidth": 0,
              "ticks": ""
             }
            },
            "type": "scatterpolargl"
           }
          ],
          "scatterternary": [
           {
            "marker": {
             "colorbar": {
              "outlinewidth": 0,
              "ticks": ""
             }
            },
            "type": "scatterternary"
           }
          ],
          "surface": [
           {
            "colorbar": {
             "outlinewidth": 0,
             "ticks": ""
            },
            "colorscale": [
             [
              0,
              "#0d0887"
             ],
             [
              0.1111111111111111,
              "#46039f"
             ],
             [
              0.2222222222222222,
              "#7201a8"
             ],
             [
              0.3333333333333333,
              "#9c179e"
             ],
             [
              0.4444444444444444,
              "#bd3786"
             ],
             [
              0.5555555555555556,
              "#d8576b"
             ],
             [
              0.6666666666666666,
              "#ed7953"
             ],
             [
              0.7777777777777778,
              "#fb9f3a"
             ],
             [
              0.8888888888888888,
              "#fdca26"
             ],
             [
              1,
              "#f0f921"
             ]
            ],
            "type": "surface"
           }
          ],
          "table": [
           {
            "cells": {
             "fill": {
              "color": "#EBF0F8"
             },
             "line": {
              "color": "white"
             }
            },
            "header": {
             "fill": {
              "color": "#C8D4E3"
             },
             "line": {
              "color": "white"
             }
            },
            "type": "table"
           }
          ]
         },
         "layout": {
          "annotationdefaults": {
           "arrowcolor": "#2a3f5f",
           "arrowhead": 0,
           "arrowwidth": 1
          },
          "autotypenumbers": "strict",
          "coloraxis": {
           "colorbar": {
            "outlinewidth": 0,
            "ticks": ""
           }
          },
          "colorscale": {
           "diverging": [
            [
             0,
             "#8e0152"
            ],
            [
             0.1,
             "#c51b7d"
            ],
            [
             0.2,
             "#de77ae"
            ],
            [
             0.3,
             "#f1b6da"
            ],
            [
             0.4,
             "#fde0ef"
            ],
            [
             0.5,
             "#f7f7f7"
            ],
            [
             0.6,
             "#e6f5d0"
            ],
            [
             0.7,
             "#b8e186"
            ],
            [
             0.8,
             "#7fbc41"
            ],
            [
             0.9,
             "#4d9221"
            ],
            [
             1,
             "#276419"
            ]
           ],
           "sequential": [
            [
             0,
             "#0d0887"
            ],
            [
             0.1111111111111111,
             "#46039f"
            ],
            [
             0.2222222222222222,
             "#7201a8"
            ],
            [
             0.3333333333333333,
             "#9c179e"
            ],
            [
             0.4444444444444444,
             "#bd3786"
            ],
            [
             0.5555555555555556,
             "#d8576b"
            ],
            [
             0.6666666666666666,
             "#ed7953"
            ],
            [
             0.7777777777777778,
             "#fb9f3a"
            ],
            [
             0.8888888888888888,
             "#fdca26"
            ],
            [
             1,
             "#f0f921"
            ]
           ],
           "sequentialminus": [
            [
             0,
             "#0d0887"
            ],
            [
             0.1111111111111111,
             "#46039f"
            ],
            [
             0.2222222222222222,
             "#7201a8"
            ],
            [
             0.3333333333333333,
             "#9c179e"
            ],
            [
             0.4444444444444444,
             "#bd3786"
            ],
            [
             0.5555555555555556,
             "#d8576b"
            ],
            [
             0.6666666666666666,
             "#ed7953"
            ],
            [
             0.7777777777777778,
             "#fb9f3a"
            ],
            [
             0.8888888888888888,
             "#fdca26"
            ],
            [
             1,
             "#f0f921"
            ]
           ]
          },
          "colorway": [
           "#636efa",
           "#EF553B",
           "#00cc96",
           "#ab63fa",
           "#FFA15A",
           "#19d3f3",
           "#FF6692",
           "#B6E880",
           "#FF97FF",
           "#FECB52"
          ],
          "font": {
           "color": "#2a3f5f"
          },
          "geo": {
           "bgcolor": "white",
           "lakecolor": "white",
           "landcolor": "#E5ECF6",
           "showlakes": true,
           "showland": true,
           "subunitcolor": "white"
          },
          "hoverlabel": {
           "align": "left"
          },
          "hovermode": "closest",
          "mapbox": {
           "style": "light"
          },
          "paper_bgcolor": "white",
          "plot_bgcolor": "#E5ECF6",
          "polar": {
           "angularaxis": {
            "gridcolor": "white",
            "linecolor": "white",
            "ticks": ""
           },
           "bgcolor": "#E5ECF6",
           "radialaxis": {
            "gridcolor": "white",
            "linecolor": "white",
            "ticks": ""
           }
          },
          "scene": {
           "xaxis": {
            "backgroundcolor": "#E5ECF6",
            "gridcolor": "white",
            "gridwidth": 2,
            "linecolor": "white",
            "showbackground": true,
            "ticks": "",
            "zerolinecolor": "white"
           },
           "yaxis": {
            "backgroundcolor": "#E5ECF6",
            "gridcolor": "white",
            "gridwidth": 2,
            "linecolor": "white",
            "showbackground": true,
            "ticks": "",
            "zerolinecolor": "white"
           },
           "zaxis": {
            "backgroundcolor": "#E5ECF6",
            "gridcolor": "white",
            "gridwidth": 2,
            "linecolor": "white",
            "showbackground": true,
            "ticks": "",
            "zerolinecolor": "white"
           }
          },
          "shapedefaults": {
           "line": {
            "color": "#2a3f5f"
           }
          },
          "ternary": {
           "aaxis": {
            "gridcolor": "white",
            "linecolor": "white",
            "ticks": ""
           },
           "baxis": {
            "gridcolor": "white",
            "linecolor": "white",
            "ticks": ""
           },
           "bgcolor": "#E5ECF6",
           "caxis": {
            "gridcolor": "white",
            "linecolor": "white",
            "ticks": ""
           }
          },
          "title": {
           "x": 0.05
          },
          "xaxis": {
           "automargin": true,
           "gridcolor": "white",
           "linecolor": "white",
           "ticks": "",
           "title": {
            "standoff": 15
           },
           "zerolinecolor": "white",
           "zerolinewidth": 2
          },
          "yaxis": {
           "automargin": true,
           "gridcolor": "white",
           "linecolor": "white",
           "ticks": "",
           "title": {
            "standoff": 15
           },
           "zerolinecolor": "white",
           "zerolinewidth": 2
          }
         }
        },
        "title": {
         "text": "Caught RTHs in avante all facilities, 2021-01-15 to 2021-10-15"
        },
        "xaxis": {
         "anchor": "y",
         "domain": [
          0,
          1
         ],
         "title": {
          "text": "Caught RTH"
         }
        },
        "yaxis": {
         "anchor": "x",
         "autorange": "reversed",
         "domain": [
          0,
          1
         ],
         "title": {
          "text": "Length Of Stay"
         }
        }
       }
      },
      "text/html": [
       "<div>                            <div id=\"af27c38a-63b7-47a7-804f-85bc9a1b57e3\" class=\"plotly-graph-div\" style=\"height:750px; width:100%;\"></div>            <script type=\"text/javascript\">                require([\"plotly\"], function(Plotly) {                    window.PLOTLYENV=window.PLOTLYENV || {};                                    if (document.getElementById(\"af27c38a-63b7-47a7-804f-85bc9a1b57e3\")) {                    Plotly.newPlot(                        \"af27c38a-63b7-47a7-804f-85bc9a1b57e3\",                        [{\"alignmentgroup\":\"True\",\"hovertemplate\":\"Caught RTH=%{x}<br>Length Of Stay=%{y}<extra></extra>\",\"legendgroup\":\"\",\"marker\":{\"color\":\"green\",\"pattern\":{\"shape\":\"\"}},\"name\":\"\",\"offsetgroup\":\"\",\"orientation\":\"h\",\"showlegend\":false,\"textposition\":\"auto\",\"type\":\"bar\",\"x\":[1,3,10,23,21,25,22,27,20,18,20,19,17,14,17,17,9,12,11,10,5,8,10,9,8,6,6,6,3,3,4,6,3,5,2,3,2,4,5,3,2,1,4,4,2,2,2,2,5,7,1,2,1,3,3,1,1,2,2,2,1,2,0,2,1,0,1,2,0,2,0,1,1,0,2,0,1,3,2,0,1,1,0,1,0,0,1,1,0,0,0,0,0,0,0,2,1,0,0,1,0,1,0,0,0,1,1,1,0,0,1,0,0,1,0,0,0,0,0,2],\"xaxis\":\"x\",\"y\":[0,1,2,3,4,5,6,7,8,9,10,11,12,13,14,15,16,17,18,19,20,21,22,23,24,25,26,27,28,29,30,31,32,33,34,35,36,37,38,39,40,41,42,43,44,45,46,47,48,49,50,51,52,53,54,55,56,57,58,59,60,61,62,63,64,65,66,67,68,69,70,71,72,73,74,75,76,77,78,79,80,81,82,83,84,85,86,87,88,89,90,91,92,93,94,95,96,97,98,99,100,101,102,103,104,105,106,107,108,109,110,111,112,113,114,115,116,117,118,119],\"yaxis\":\"y\"}],                        {\"barmode\":\"relative\",\"height\":750,\"legend\":{\"tracegroupgap\":0},\"template\":{\"data\":{\"bar\":[{\"error_x\":{\"color\":\"#2a3f5f\"},\"error_y\":{\"color\":\"#2a3f5f\"},\"marker\":{\"line\":{\"color\":\"#E5ECF6\",\"width\":0.5},\"pattern\":{\"fillmode\":\"overlay\",\"size\":10,\"solidity\":0.2}},\"type\":\"bar\"}],\"barpolar\":[{\"marker\":{\"line\":{\"color\":\"#E5ECF6\",\"width\":0.5},\"pattern\":{\"fillmode\":\"overlay\",\"size\":10,\"solidity\":0.2}},\"type\":\"barpolar\"}],\"carpet\":[{\"aaxis\":{\"endlinecolor\":\"#2a3f5f\",\"gridcolor\":\"white\",\"linecolor\":\"white\",\"minorgridcolor\":\"white\",\"startlinecolor\":\"#2a3f5f\"},\"baxis\":{\"endlinecolor\":\"#2a3f5f\",\"gridcolor\":\"white\",\"linecolor\":\"white\",\"minorgridcolor\":\"white\",\"startlinecolor\":\"#2a3f5f\"},\"type\":\"carpet\"}],\"choropleth\":[{\"colorbar\":{\"outlinewidth\":0,\"ticks\":\"\"},\"type\":\"choropleth\"}],\"contour\":[{\"colorbar\":{\"outlinewidth\":0,\"ticks\":\"\"},\"colorscale\":[[0.0,\"#0d0887\"],[0.1111111111111111,\"#46039f\"],[0.2222222222222222,\"#7201a8\"],[0.3333333333333333,\"#9c179e\"],[0.4444444444444444,\"#bd3786\"],[0.5555555555555556,\"#d8576b\"],[0.6666666666666666,\"#ed7953\"],[0.7777777777777778,\"#fb9f3a\"],[0.8888888888888888,\"#fdca26\"],[1.0,\"#f0f921\"]],\"type\":\"contour\"}],\"contourcarpet\":[{\"colorbar\":{\"outlinewidth\":0,\"ticks\":\"\"},\"type\":\"contourcarpet\"}],\"heatmap\":[{\"colorbar\":{\"outlinewidth\":0,\"ticks\":\"\"},\"colorscale\":[[0.0,\"#0d0887\"],[0.1111111111111111,\"#46039f\"],[0.2222222222222222,\"#7201a8\"],[0.3333333333333333,\"#9c179e\"],[0.4444444444444444,\"#bd3786\"],[0.5555555555555556,\"#d8576b\"],[0.6666666666666666,\"#ed7953\"],[0.7777777777777778,\"#fb9f3a\"],[0.8888888888888888,\"#fdca26\"],[1.0,\"#f0f921\"]],\"type\":\"heatmap\"}],\"heatmapgl\":[{\"colorbar\":{\"outlinewidth\":0,\"ticks\":\"\"},\"colorscale\":[[0.0,\"#0d0887\"],[0.1111111111111111,\"#46039f\"],[0.2222222222222222,\"#7201a8\"],[0.3333333333333333,\"#9c179e\"],[0.4444444444444444,\"#bd3786\"],[0.5555555555555556,\"#d8576b\"],[0.6666666666666666,\"#ed7953\"],[0.7777777777777778,\"#fb9f3a\"],[0.8888888888888888,\"#fdca26\"],[1.0,\"#f0f921\"]],\"type\":\"heatmapgl\"}],\"histogram\":[{\"marker\":{\"pattern\":{\"fillmode\":\"overlay\",\"size\":10,\"solidity\":0.2}},\"type\":\"histogram\"}],\"histogram2d\":[{\"colorbar\":{\"outlinewidth\":0,\"ticks\":\"\"},\"colorscale\":[[0.0,\"#0d0887\"],[0.1111111111111111,\"#46039f\"],[0.2222222222222222,\"#7201a8\"],[0.3333333333333333,\"#9c179e\"],[0.4444444444444444,\"#bd3786\"],[0.5555555555555556,\"#d8576b\"],[0.6666666666666666,\"#ed7953\"],[0.7777777777777778,\"#fb9f3a\"],[0.8888888888888888,\"#fdca26\"],[1.0,\"#f0f921\"]],\"type\":\"histogram2d\"}],\"histogram2dcontour\":[{\"colorbar\":{\"outlinewidth\":0,\"ticks\":\"\"},\"colorscale\":[[0.0,\"#0d0887\"],[0.1111111111111111,\"#46039f\"],[0.2222222222222222,\"#7201a8\"],[0.3333333333333333,\"#9c179e\"],[0.4444444444444444,\"#bd3786\"],[0.5555555555555556,\"#d8576b\"],[0.6666666666666666,\"#ed7953\"],[0.7777777777777778,\"#fb9f3a\"],[0.8888888888888888,\"#fdca26\"],[1.0,\"#f0f921\"]],\"type\":\"histogram2dcontour\"}],\"mesh3d\":[{\"colorbar\":{\"outlinewidth\":0,\"ticks\":\"\"},\"type\":\"mesh3d\"}],\"parcoords\":[{\"line\":{\"colorbar\":{\"outlinewidth\":0,\"ticks\":\"\"}},\"type\":\"parcoords\"}],\"pie\":[{\"automargin\":true,\"type\":\"pie\"}],\"scatter\":[{\"marker\":{\"colorbar\":{\"outlinewidth\":0,\"ticks\":\"\"}},\"type\":\"scatter\"}],\"scatter3d\":[{\"line\":{\"colorbar\":{\"outlinewidth\":0,\"ticks\":\"\"}},\"marker\":{\"colorbar\":{\"outlinewidth\":0,\"ticks\":\"\"}},\"type\":\"scatter3d\"}],\"scattercarpet\":[{\"marker\":{\"colorbar\":{\"outlinewidth\":0,\"ticks\":\"\"}},\"type\":\"scattercarpet\"}],\"scattergeo\":[{\"marker\":{\"colorbar\":{\"outlinewidth\":0,\"ticks\":\"\"}},\"type\":\"scattergeo\"}],\"scattergl\":[{\"marker\":{\"colorbar\":{\"outlinewidth\":0,\"ticks\":\"\"}},\"type\":\"scattergl\"}],\"scattermapbox\":[{\"marker\":{\"colorbar\":{\"outlinewidth\":0,\"ticks\":\"\"}},\"type\":\"scattermapbox\"}],\"scatterpolar\":[{\"marker\":{\"colorbar\":{\"outlinewidth\":0,\"ticks\":\"\"}},\"type\":\"scatterpolar\"}],\"scatterpolargl\":[{\"marker\":{\"colorbar\":{\"outlinewidth\":0,\"ticks\":\"\"}},\"type\":\"scatterpolargl\"}],\"scatterternary\":[{\"marker\":{\"colorbar\":{\"outlinewidth\":0,\"ticks\":\"\"}},\"type\":\"scatterternary\"}],\"surface\":[{\"colorbar\":{\"outlinewidth\":0,\"ticks\":\"\"},\"colorscale\":[[0.0,\"#0d0887\"],[0.1111111111111111,\"#46039f\"],[0.2222222222222222,\"#7201a8\"],[0.3333333333333333,\"#9c179e\"],[0.4444444444444444,\"#bd3786\"],[0.5555555555555556,\"#d8576b\"],[0.6666666666666666,\"#ed7953\"],[0.7777777777777778,\"#fb9f3a\"],[0.8888888888888888,\"#fdca26\"],[1.0,\"#f0f921\"]],\"type\":\"surface\"}],\"table\":[{\"cells\":{\"fill\":{\"color\":\"#EBF0F8\"},\"line\":{\"color\":\"white\"}},\"header\":{\"fill\":{\"color\":\"#C8D4E3\"},\"line\":{\"color\":\"white\"}},\"type\":\"table\"}]},\"layout\":{\"annotationdefaults\":{\"arrowcolor\":\"#2a3f5f\",\"arrowhead\":0,\"arrowwidth\":1},\"autotypenumbers\":\"strict\",\"coloraxis\":{\"colorbar\":{\"outlinewidth\":0,\"ticks\":\"\"}},\"colorscale\":{\"diverging\":[[0,\"#8e0152\"],[0.1,\"#c51b7d\"],[0.2,\"#de77ae\"],[0.3,\"#f1b6da\"],[0.4,\"#fde0ef\"],[0.5,\"#f7f7f7\"],[0.6,\"#e6f5d0\"],[0.7,\"#b8e186\"],[0.8,\"#7fbc41\"],[0.9,\"#4d9221\"],[1,\"#276419\"]],\"sequential\":[[0.0,\"#0d0887\"],[0.1111111111111111,\"#46039f\"],[0.2222222222222222,\"#7201a8\"],[0.3333333333333333,\"#9c179e\"],[0.4444444444444444,\"#bd3786\"],[0.5555555555555556,\"#d8576b\"],[0.6666666666666666,\"#ed7953\"],[0.7777777777777778,\"#fb9f3a\"],[0.8888888888888888,\"#fdca26\"],[1.0,\"#f0f921\"]],\"sequentialminus\":[[0.0,\"#0d0887\"],[0.1111111111111111,\"#46039f\"],[0.2222222222222222,\"#7201a8\"],[0.3333333333333333,\"#9c179e\"],[0.4444444444444444,\"#bd3786\"],[0.5555555555555556,\"#d8576b\"],[0.6666666666666666,\"#ed7953\"],[0.7777777777777778,\"#fb9f3a\"],[0.8888888888888888,\"#fdca26\"],[1.0,\"#f0f921\"]]},\"colorway\":[\"#636efa\",\"#EF553B\",\"#00cc96\",\"#ab63fa\",\"#FFA15A\",\"#19d3f3\",\"#FF6692\",\"#B6E880\",\"#FF97FF\",\"#FECB52\"],\"font\":{\"color\":\"#2a3f5f\"},\"geo\":{\"bgcolor\":\"white\",\"lakecolor\":\"white\",\"landcolor\":\"#E5ECF6\",\"showlakes\":true,\"showland\":true,\"subunitcolor\":\"white\"},\"hoverlabel\":{\"align\":\"left\"},\"hovermode\":\"closest\",\"mapbox\":{\"style\":\"light\"},\"paper_bgcolor\":\"white\",\"plot_bgcolor\":\"#E5ECF6\",\"polar\":{\"angularaxis\":{\"gridcolor\":\"white\",\"linecolor\":\"white\",\"ticks\":\"\"},\"bgcolor\":\"#E5ECF6\",\"radialaxis\":{\"gridcolor\":\"white\",\"linecolor\":\"white\",\"ticks\":\"\"}},\"scene\":{\"xaxis\":{\"backgroundcolor\":\"#E5ECF6\",\"gridcolor\":\"white\",\"gridwidth\":2,\"linecolor\":\"white\",\"showbackground\":true,\"ticks\":\"\",\"zerolinecolor\":\"white\"},\"yaxis\":{\"backgroundcolor\":\"#E5ECF6\",\"gridcolor\":\"white\",\"gridwidth\":2,\"linecolor\":\"white\",\"showbackground\":true,\"ticks\":\"\",\"zerolinecolor\":\"white\"},\"zaxis\":{\"backgroundcolor\":\"#E5ECF6\",\"gridcolor\":\"white\",\"gridwidth\":2,\"linecolor\":\"white\",\"showbackground\":true,\"ticks\":\"\",\"zerolinecolor\":\"white\"}},\"shapedefaults\":{\"line\":{\"color\":\"#2a3f5f\"}},\"ternary\":{\"aaxis\":{\"gridcolor\":\"white\",\"linecolor\":\"white\",\"ticks\":\"\"},\"baxis\":{\"gridcolor\":\"white\",\"linecolor\":\"white\",\"ticks\":\"\"},\"bgcolor\":\"#E5ECF6\",\"caxis\":{\"gridcolor\":\"white\",\"linecolor\":\"white\",\"ticks\":\"\"}},\"title\":{\"x\":0.05},\"xaxis\":{\"automargin\":true,\"gridcolor\":\"white\",\"linecolor\":\"white\",\"ticks\":\"\",\"title\":{\"standoff\":15},\"zerolinecolor\":\"white\",\"zerolinewidth\":2},\"yaxis\":{\"automargin\":true,\"gridcolor\":\"white\",\"linecolor\":\"white\",\"ticks\":\"\",\"title\":{\"standoff\":15},\"zerolinecolor\":\"white\",\"zerolinewidth\":2}}},\"title\":{\"text\":\"Caught RTHs in avante all facilities, 2021-01-15 to 2021-10-15\"},\"xaxis\":{\"anchor\":\"y\",\"domain\":[0.0,1.0],\"title\":{\"text\":\"Caught RTH\"}},\"yaxis\":{\"anchor\":\"x\",\"autorange\":\"reversed\",\"domain\":[0.0,1.0],\"title\":{\"text\":\"Length Of Stay\"}}},                        {\"responsive\": true}                    ).then(function(){\n",
       "                            \n",
       "var gd = document.getElementById('af27c38a-63b7-47a7-804f-85bc9a1b57e3');\n",
       "var x = new MutationObserver(function (mutations, observer) {{\n",
       "        var display = window.getComputedStyle(gd).display;\n",
       "        if (!display || display === 'none') {{\n",
       "            console.log([gd, 'removed!']);\n",
       "            Plotly.purge(gd);\n",
       "            observer.disconnect();\n",
       "        }}\n",
       "}});\n",
       "\n",
       "// Listen for the removal of the full notebook cells\n",
       "var notebookContainer = gd.closest('#notebook-container');\n",
       "if (notebookContainer) {{\n",
       "    x.observe(notebookContainer, {childList: true});\n",
       "}}\n",
       "\n",
       "// Listen for the clearing of the current output cell\n",
       "var outputEl = gd.closest('.output');\n",
       "if (outputEl) {{\n",
       "    x.observe(outputEl, {childList: true});\n",
       "}}\n",
       "\n",
       "                        })                };                });            </script>        </div>"
      ]
     },
     "metadata": {},
     "output_type": "display_data"
    }
   ],
   "source": [
    "fig = px.bar(\n",
    "    temp_df, \n",
    "    x='caught_rth', \n",
    "    y=list(temp_df.index),\n",
    "    height=graph_height, orientation='h',\n",
    "    title=f'Caught RTHs in {CLIENT} all facilities, {date_range}',\n",
    "    labels={\n",
    "        'y':'Length Of Stay', \n",
    "        'caught_rth': 'Caught RTH'\n",
    "    }, \n",
    "    color_discrete_sequence=['green']\n",
    ")\n",
    "fig['layout']['yaxis']['autorange'] = \"reversed\"\n",
    "fig.show()"
   ]
  },
  {
   "cell_type": "markdown",
   "id": "791954b0",
   "metadata": {},
   "source": [
    "## Missed RTH"
   ]
  },
  {
   "cell_type": "code",
   "execution_count": 41,
   "id": "b8f95d12",
   "metadata": {
    "scrolled": true
   },
   "outputs": [
    {
     "data": {
      "application/vnd.plotly.v1+json": {
       "config": {
        "plotlyServerURL": "https://plot.ly"
       },
       "data": [
        {
         "alignmentgroup": "True",
         "hovertemplate": "Missed RTH=%{x}<br>Length Of Stay=%{y}<extra></extra>",
         "legendgroup": "",
         "marker": {
          "color": "yellow",
          "pattern": {
           "shape": ""
          }
         },
         "name": "",
         "offsetgroup": "",
         "orientation": "h",
         "showlegend": false,
         "textposition": "auto",
         "type": "bar",
         "x": [
          2,
          5,
          17,
          12,
          5,
          11,
          8,
          6,
          7,
          6,
          7,
          7,
          7,
          6,
          6,
          5,
          5,
          4,
          3,
          3,
          5,
          6,
          7,
          0,
          2,
          8,
          2,
          6,
          6,
          3,
          3,
          4,
          3,
          1,
          0,
          2,
          0,
          3,
          4,
          3,
          8,
          2,
          5,
          4,
          1,
          2,
          5,
          2,
          2,
          0,
          4,
          3,
          7,
          4,
          1,
          0,
          1,
          2,
          2,
          2,
          0,
          2,
          0,
          1,
          2,
          4,
          2,
          1,
          3,
          0,
          1,
          2,
          1,
          3,
          0,
          2,
          1,
          0,
          0,
          3,
          0,
          0,
          1,
          1,
          2,
          1,
          2,
          4,
          1,
          1,
          4,
          3,
          2,
          3,
          1,
          2,
          1,
          3,
          2,
          0,
          2,
          0,
          0,
          1,
          1,
          0,
          0,
          1,
          1,
          2,
          1,
          2,
          0,
          1,
          0,
          0,
          2,
          0,
          1,
          2
         ],
         "xaxis": "x",
         "y": [
          0,
          1,
          2,
          3,
          4,
          5,
          6,
          7,
          8,
          9,
          10,
          11,
          12,
          13,
          14,
          15,
          16,
          17,
          18,
          19,
          20,
          21,
          22,
          23,
          24,
          25,
          26,
          27,
          28,
          29,
          30,
          31,
          32,
          33,
          34,
          35,
          36,
          37,
          38,
          39,
          40,
          41,
          42,
          43,
          44,
          45,
          46,
          47,
          48,
          49,
          50,
          51,
          52,
          53,
          54,
          55,
          56,
          57,
          58,
          59,
          60,
          61,
          62,
          63,
          64,
          65,
          66,
          67,
          68,
          69,
          70,
          71,
          72,
          73,
          74,
          75,
          76,
          77,
          78,
          79,
          80,
          81,
          82,
          83,
          84,
          85,
          86,
          87,
          88,
          89,
          90,
          91,
          92,
          93,
          94,
          95,
          96,
          97,
          98,
          99,
          100,
          101,
          102,
          103,
          104,
          105,
          106,
          107,
          108,
          109,
          110,
          111,
          112,
          113,
          114,
          115,
          116,
          117,
          118,
          119
         ],
         "yaxis": "y"
        }
       ],
       "layout": {
        "barmode": "relative",
        "height": 750,
        "legend": {
         "tracegroupgap": 0
        },
        "template": {
         "data": {
          "bar": [
           {
            "error_x": {
             "color": "#2a3f5f"
            },
            "error_y": {
             "color": "#2a3f5f"
            },
            "marker": {
             "line": {
              "color": "#E5ECF6",
              "width": 0.5
             },
             "pattern": {
              "fillmode": "overlay",
              "size": 10,
              "solidity": 0.2
             }
            },
            "type": "bar"
           }
          ],
          "barpolar": [
           {
            "marker": {
             "line": {
              "color": "#E5ECF6",
              "width": 0.5
             },
             "pattern": {
              "fillmode": "overlay",
              "size": 10,
              "solidity": 0.2
             }
            },
            "type": "barpolar"
           }
          ],
          "carpet": [
           {
            "aaxis": {
             "endlinecolor": "#2a3f5f",
             "gridcolor": "white",
             "linecolor": "white",
             "minorgridcolor": "white",
             "startlinecolor": "#2a3f5f"
            },
            "baxis": {
             "endlinecolor": "#2a3f5f",
             "gridcolor": "white",
             "linecolor": "white",
             "minorgridcolor": "white",
             "startlinecolor": "#2a3f5f"
            },
            "type": "carpet"
           }
          ],
          "choropleth": [
           {
            "colorbar": {
             "outlinewidth": 0,
             "ticks": ""
            },
            "type": "choropleth"
           }
          ],
          "contour": [
           {
            "colorbar": {
             "outlinewidth": 0,
             "ticks": ""
            },
            "colorscale": [
             [
              0,
              "#0d0887"
             ],
             [
              0.1111111111111111,
              "#46039f"
             ],
             [
              0.2222222222222222,
              "#7201a8"
             ],
             [
              0.3333333333333333,
              "#9c179e"
             ],
             [
              0.4444444444444444,
              "#bd3786"
             ],
             [
              0.5555555555555556,
              "#d8576b"
             ],
             [
              0.6666666666666666,
              "#ed7953"
             ],
             [
              0.7777777777777778,
              "#fb9f3a"
             ],
             [
              0.8888888888888888,
              "#fdca26"
             ],
             [
              1,
              "#f0f921"
             ]
            ],
            "type": "contour"
           }
          ],
          "contourcarpet": [
           {
            "colorbar": {
             "outlinewidth": 0,
             "ticks": ""
            },
            "type": "contourcarpet"
           }
          ],
          "heatmap": [
           {
            "colorbar": {
             "outlinewidth": 0,
             "ticks": ""
            },
            "colorscale": [
             [
              0,
              "#0d0887"
             ],
             [
              0.1111111111111111,
              "#46039f"
             ],
             [
              0.2222222222222222,
              "#7201a8"
             ],
             [
              0.3333333333333333,
              "#9c179e"
             ],
             [
              0.4444444444444444,
              "#bd3786"
             ],
             [
              0.5555555555555556,
              "#d8576b"
             ],
             [
              0.6666666666666666,
              "#ed7953"
             ],
             [
              0.7777777777777778,
              "#fb9f3a"
             ],
             [
              0.8888888888888888,
              "#fdca26"
             ],
             [
              1,
              "#f0f921"
             ]
            ],
            "type": "heatmap"
           }
          ],
          "heatmapgl": [
           {
            "colorbar": {
             "outlinewidth": 0,
             "ticks": ""
            },
            "colorscale": [
             [
              0,
              "#0d0887"
             ],
             [
              0.1111111111111111,
              "#46039f"
             ],
             [
              0.2222222222222222,
              "#7201a8"
             ],
             [
              0.3333333333333333,
              "#9c179e"
             ],
             [
              0.4444444444444444,
              "#bd3786"
             ],
             [
              0.5555555555555556,
              "#d8576b"
             ],
             [
              0.6666666666666666,
              "#ed7953"
             ],
             [
              0.7777777777777778,
              "#fb9f3a"
             ],
             [
              0.8888888888888888,
              "#fdca26"
             ],
             [
              1,
              "#f0f921"
             ]
            ],
            "type": "heatmapgl"
           }
          ],
          "histogram": [
           {
            "marker": {
             "pattern": {
              "fillmode": "overlay",
              "size": 10,
              "solidity": 0.2
             }
            },
            "type": "histogram"
           }
          ],
          "histogram2d": [
           {
            "colorbar": {
             "outlinewidth": 0,
             "ticks": ""
            },
            "colorscale": [
             [
              0,
              "#0d0887"
             ],
             [
              0.1111111111111111,
              "#46039f"
             ],
             [
              0.2222222222222222,
              "#7201a8"
             ],
             [
              0.3333333333333333,
              "#9c179e"
             ],
             [
              0.4444444444444444,
              "#bd3786"
             ],
             [
              0.5555555555555556,
              "#d8576b"
             ],
             [
              0.6666666666666666,
              "#ed7953"
             ],
             [
              0.7777777777777778,
              "#fb9f3a"
             ],
             [
              0.8888888888888888,
              "#fdca26"
             ],
             [
              1,
              "#f0f921"
             ]
            ],
            "type": "histogram2d"
           }
          ],
          "histogram2dcontour": [
           {
            "colorbar": {
             "outlinewidth": 0,
             "ticks": ""
            },
            "colorscale": [
             [
              0,
              "#0d0887"
             ],
             [
              0.1111111111111111,
              "#46039f"
             ],
             [
              0.2222222222222222,
              "#7201a8"
             ],
             [
              0.3333333333333333,
              "#9c179e"
             ],
             [
              0.4444444444444444,
              "#bd3786"
             ],
             [
              0.5555555555555556,
              "#d8576b"
             ],
             [
              0.6666666666666666,
              "#ed7953"
             ],
             [
              0.7777777777777778,
              "#fb9f3a"
             ],
             [
              0.8888888888888888,
              "#fdca26"
             ],
             [
              1,
              "#f0f921"
             ]
            ],
            "type": "histogram2dcontour"
           }
          ],
          "mesh3d": [
           {
            "colorbar": {
             "outlinewidth": 0,
             "ticks": ""
            },
            "type": "mesh3d"
           }
          ],
          "parcoords": [
           {
            "line": {
             "colorbar": {
              "outlinewidth": 0,
              "ticks": ""
             }
            },
            "type": "parcoords"
           }
          ],
          "pie": [
           {
            "automargin": true,
            "type": "pie"
           }
          ],
          "scatter": [
           {
            "marker": {
             "colorbar": {
              "outlinewidth": 0,
              "ticks": ""
             }
            },
            "type": "scatter"
           }
          ],
          "scatter3d": [
           {
            "line": {
             "colorbar": {
              "outlinewidth": 0,
              "ticks": ""
             }
            },
            "marker": {
             "colorbar": {
              "outlinewidth": 0,
              "ticks": ""
             }
            },
            "type": "scatter3d"
           }
          ],
          "scattercarpet": [
           {
            "marker": {
             "colorbar": {
              "outlinewidth": 0,
              "ticks": ""
             }
            },
            "type": "scattercarpet"
           }
          ],
          "scattergeo": [
           {
            "marker": {
             "colorbar": {
              "outlinewidth": 0,
              "ticks": ""
             }
            },
            "type": "scattergeo"
           }
          ],
          "scattergl": [
           {
            "marker": {
             "colorbar": {
              "outlinewidth": 0,
              "ticks": ""
             }
            },
            "type": "scattergl"
           }
          ],
          "scattermapbox": [
           {
            "marker": {
             "colorbar": {
              "outlinewidth": 0,
              "ticks": ""
             }
            },
            "type": "scattermapbox"
           }
          ],
          "scatterpolar": [
           {
            "marker": {
             "colorbar": {
              "outlinewidth": 0,
              "ticks": ""
             }
            },
            "type": "scatterpolar"
           }
          ],
          "scatterpolargl": [
           {
            "marker": {
             "colorbar": {
              "outlinewidth": 0,
              "ticks": ""
             }
            },
            "type": "scatterpolargl"
           }
          ],
          "scatterternary": [
           {
            "marker": {
             "colorbar": {
              "outlinewidth": 0,
              "ticks": ""
             }
            },
            "type": "scatterternary"
           }
          ],
          "surface": [
           {
            "colorbar": {
             "outlinewidth": 0,
             "ticks": ""
            },
            "colorscale": [
             [
              0,
              "#0d0887"
             ],
             [
              0.1111111111111111,
              "#46039f"
             ],
             [
              0.2222222222222222,
              "#7201a8"
             ],
             [
              0.3333333333333333,
              "#9c179e"
             ],
             [
              0.4444444444444444,
              "#bd3786"
             ],
             [
              0.5555555555555556,
              "#d8576b"
             ],
             [
              0.6666666666666666,
              "#ed7953"
             ],
             [
              0.7777777777777778,
              "#fb9f3a"
             ],
             [
              0.8888888888888888,
              "#fdca26"
             ],
             [
              1,
              "#f0f921"
             ]
            ],
            "type": "surface"
           }
          ],
          "table": [
           {
            "cells": {
             "fill": {
              "color": "#EBF0F8"
             },
             "line": {
              "color": "white"
             }
            },
            "header": {
             "fill": {
              "color": "#C8D4E3"
             },
             "line": {
              "color": "white"
             }
            },
            "type": "table"
           }
          ]
         },
         "layout": {
          "annotationdefaults": {
           "arrowcolor": "#2a3f5f",
           "arrowhead": 0,
           "arrowwidth": 1
          },
          "autotypenumbers": "strict",
          "coloraxis": {
           "colorbar": {
            "outlinewidth": 0,
            "ticks": ""
           }
          },
          "colorscale": {
           "diverging": [
            [
             0,
             "#8e0152"
            ],
            [
             0.1,
             "#c51b7d"
            ],
            [
             0.2,
             "#de77ae"
            ],
            [
             0.3,
             "#f1b6da"
            ],
            [
             0.4,
             "#fde0ef"
            ],
            [
             0.5,
             "#f7f7f7"
            ],
            [
             0.6,
             "#e6f5d0"
            ],
            [
             0.7,
             "#b8e186"
            ],
            [
             0.8,
             "#7fbc41"
            ],
            [
             0.9,
             "#4d9221"
            ],
            [
             1,
             "#276419"
            ]
           ],
           "sequential": [
            [
             0,
             "#0d0887"
            ],
            [
             0.1111111111111111,
             "#46039f"
            ],
            [
             0.2222222222222222,
             "#7201a8"
            ],
            [
             0.3333333333333333,
             "#9c179e"
            ],
            [
             0.4444444444444444,
             "#bd3786"
            ],
            [
             0.5555555555555556,
             "#d8576b"
            ],
            [
             0.6666666666666666,
             "#ed7953"
            ],
            [
             0.7777777777777778,
             "#fb9f3a"
            ],
            [
             0.8888888888888888,
             "#fdca26"
            ],
            [
             1,
             "#f0f921"
            ]
           ],
           "sequentialminus": [
            [
             0,
             "#0d0887"
            ],
            [
             0.1111111111111111,
             "#46039f"
            ],
            [
             0.2222222222222222,
             "#7201a8"
            ],
            [
             0.3333333333333333,
             "#9c179e"
            ],
            [
             0.4444444444444444,
             "#bd3786"
            ],
            [
             0.5555555555555556,
             "#d8576b"
            ],
            [
             0.6666666666666666,
             "#ed7953"
            ],
            [
             0.7777777777777778,
             "#fb9f3a"
            ],
            [
             0.8888888888888888,
             "#fdca26"
            ],
            [
             1,
             "#f0f921"
            ]
           ]
          },
          "colorway": [
           "#636efa",
           "#EF553B",
           "#00cc96",
           "#ab63fa",
           "#FFA15A",
           "#19d3f3",
           "#FF6692",
           "#B6E880",
           "#FF97FF",
           "#FECB52"
          ],
          "font": {
           "color": "#2a3f5f"
          },
          "geo": {
           "bgcolor": "white",
           "lakecolor": "white",
           "landcolor": "#E5ECF6",
           "showlakes": true,
           "showland": true,
           "subunitcolor": "white"
          },
          "hoverlabel": {
           "align": "left"
          },
          "hovermode": "closest",
          "mapbox": {
           "style": "light"
          },
          "paper_bgcolor": "white",
          "plot_bgcolor": "#E5ECF6",
          "polar": {
           "angularaxis": {
            "gridcolor": "white",
            "linecolor": "white",
            "ticks": ""
           },
           "bgcolor": "#E5ECF6",
           "radialaxis": {
            "gridcolor": "white",
            "linecolor": "white",
            "ticks": ""
           }
          },
          "scene": {
           "xaxis": {
            "backgroundcolor": "#E5ECF6",
            "gridcolor": "white",
            "gridwidth": 2,
            "linecolor": "white",
            "showbackground": true,
            "ticks": "",
            "zerolinecolor": "white"
           },
           "yaxis": {
            "backgroundcolor": "#E5ECF6",
            "gridcolor": "white",
            "gridwidth": 2,
            "linecolor": "white",
            "showbackground": true,
            "ticks": "",
            "zerolinecolor": "white"
           },
           "zaxis": {
            "backgroundcolor": "#E5ECF6",
            "gridcolor": "white",
            "gridwidth": 2,
            "linecolor": "white",
            "showbackground": true,
            "ticks": "",
            "zerolinecolor": "white"
           }
          },
          "shapedefaults": {
           "line": {
            "color": "#2a3f5f"
           }
          },
          "ternary": {
           "aaxis": {
            "gridcolor": "white",
            "linecolor": "white",
            "ticks": ""
           },
           "baxis": {
            "gridcolor": "white",
            "linecolor": "white",
            "ticks": ""
           },
           "bgcolor": "#E5ECF6",
           "caxis": {
            "gridcolor": "white",
            "linecolor": "white",
            "ticks": ""
           }
          },
          "title": {
           "x": 0.05
          },
          "xaxis": {
           "automargin": true,
           "gridcolor": "white",
           "linecolor": "white",
           "ticks": "",
           "title": {
            "standoff": 15
           },
           "zerolinecolor": "white",
           "zerolinewidth": 2
          },
          "yaxis": {
           "automargin": true,
           "gridcolor": "white",
           "linecolor": "white",
           "ticks": "",
           "title": {
            "standoff": 15
           },
           "zerolinecolor": "white",
           "zerolinewidth": 2
          }
         }
        },
        "title": {
         "text": "Missed RTHs in avante all facilities, 2021-01-15 to 2021-10-15"
        },
        "xaxis": {
         "anchor": "y",
         "domain": [
          0,
          1
         ],
         "title": {
          "text": "Missed RTH"
         }
        },
        "yaxis": {
         "anchor": "x",
         "autorange": "reversed",
         "domain": [
          0,
          1
         ],
         "title": {
          "text": "Length Of Stay"
         }
        }
       }
      },
      "text/html": [
       "<div>                            <div id=\"d661773a-217a-4270-a13a-c359e4ed21b0\" class=\"plotly-graph-div\" style=\"height:750px; width:100%;\"></div>            <script type=\"text/javascript\">                require([\"plotly\"], function(Plotly) {                    window.PLOTLYENV=window.PLOTLYENV || {};                                    if (document.getElementById(\"d661773a-217a-4270-a13a-c359e4ed21b0\")) {                    Plotly.newPlot(                        \"d661773a-217a-4270-a13a-c359e4ed21b0\",                        [{\"alignmentgroup\":\"True\",\"hovertemplate\":\"Missed RTH=%{x}<br>Length Of Stay=%{y}<extra></extra>\",\"legendgroup\":\"\",\"marker\":{\"color\":\"yellow\",\"pattern\":{\"shape\":\"\"}},\"name\":\"\",\"offsetgroup\":\"\",\"orientation\":\"h\",\"showlegend\":false,\"textposition\":\"auto\",\"type\":\"bar\",\"x\":[2,5,17,12,5,11,8,6,7,6,7,7,7,6,6,5,5,4,3,3,5,6,7,0,2,8,2,6,6,3,3,4,3,1,0,2,0,3,4,3,8,2,5,4,1,2,5,2,2,0,4,3,7,4,1,0,1,2,2,2,0,2,0,1,2,4,2,1,3,0,1,2,1,3,0,2,1,0,0,3,0,0,1,1,2,1,2,4,1,1,4,3,2,3,1,2,1,3,2,0,2,0,0,1,1,0,0,1,1,2,1,2,0,1,0,0,2,0,1,2],\"xaxis\":\"x\",\"y\":[0,1,2,3,4,5,6,7,8,9,10,11,12,13,14,15,16,17,18,19,20,21,22,23,24,25,26,27,28,29,30,31,32,33,34,35,36,37,38,39,40,41,42,43,44,45,46,47,48,49,50,51,52,53,54,55,56,57,58,59,60,61,62,63,64,65,66,67,68,69,70,71,72,73,74,75,76,77,78,79,80,81,82,83,84,85,86,87,88,89,90,91,92,93,94,95,96,97,98,99,100,101,102,103,104,105,106,107,108,109,110,111,112,113,114,115,116,117,118,119],\"yaxis\":\"y\"}],                        {\"barmode\":\"relative\",\"height\":750,\"legend\":{\"tracegroupgap\":0},\"template\":{\"data\":{\"bar\":[{\"error_x\":{\"color\":\"#2a3f5f\"},\"error_y\":{\"color\":\"#2a3f5f\"},\"marker\":{\"line\":{\"color\":\"#E5ECF6\",\"width\":0.5},\"pattern\":{\"fillmode\":\"overlay\",\"size\":10,\"solidity\":0.2}},\"type\":\"bar\"}],\"barpolar\":[{\"marker\":{\"line\":{\"color\":\"#E5ECF6\",\"width\":0.5},\"pattern\":{\"fillmode\":\"overlay\",\"size\":10,\"solidity\":0.2}},\"type\":\"barpolar\"}],\"carpet\":[{\"aaxis\":{\"endlinecolor\":\"#2a3f5f\",\"gridcolor\":\"white\",\"linecolor\":\"white\",\"minorgridcolor\":\"white\",\"startlinecolor\":\"#2a3f5f\"},\"baxis\":{\"endlinecolor\":\"#2a3f5f\",\"gridcolor\":\"white\",\"linecolor\":\"white\",\"minorgridcolor\":\"white\",\"startlinecolor\":\"#2a3f5f\"},\"type\":\"carpet\"}],\"choropleth\":[{\"colorbar\":{\"outlinewidth\":0,\"ticks\":\"\"},\"type\":\"choropleth\"}],\"contour\":[{\"colorbar\":{\"outlinewidth\":0,\"ticks\":\"\"},\"colorscale\":[[0.0,\"#0d0887\"],[0.1111111111111111,\"#46039f\"],[0.2222222222222222,\"#7201a8\"],[0.3333333333333333,\"#9c179e\"],[0.4444444444444444,\"#bd3786\"],[0.5555555555555556,\"#d8576b\"],[0.6666666666666666,\"#ed7953\"],[0.7777777777777778,\"#fb9f3a\"],[0.8888888888888888,\"#fdca26\"],[1.0,\"#f0f921\"]],\"type\":\"contour\"}],\"contourcarpet\":[{\"colorbar\":{\"outlinewidth\":0,\"ticks\":\"\"},\"type\":\"contourcarpet\"}],\"heatmap\":[{\"colorbar\":{\"outlinewidth\":0,\"ticks\":\"\"},\"colorscale\":[[0.0,\"#0d0887\"],[0.1111111111111111,\"#46039f\"],[0.2222222222222222,\"#7201a8\"],[0.3333333333333333,\"#9c179e\"],[0.4444444444444444,\"#bd3786\"],[0.5555555555555556,\"#d8576b\"],[0.6666666666666666,\"#ed7953\"],[0.7777777777777778,\"#fb9f3a\"],[0.8888888888888888,\"#fdca26\"],[1.0,\"#f0f921\"]],\"type\":\"heatmap\"}],\"heatmapgl\":[{\"colorbar\":{\"outlinewidth\":0,\"ticks\":\"\"},\"colorscale\":[[0.0,\"#0d0887\"],[0.1111111111111111,\"#46039f\"],[0.2222222222222222,\"#7201a8\"],[0.3333333333333333,\"#9c179e\"],[0.4444444444444444,\"#bd3786\"],[0.5555555555555556,\"#d8576b\"],[0.6666666666666666,\"#ed7953\"],[0.7777777777777778,\"#fb9f3a\"],[0.8888888888888888,\"#fdca26\"],[1.0,\"#f0f921\"]],\"type\":\"heatmapgl\"}],\"histogram\":[{\"marker\":{\"pattern\":{\"fillmode\":\"overlay\",\"size\":10,\"solidity\":0.2}},\"type\":\"histogram\"}],\"histogram2d\":[{\"colorbar\":{\"outlinewidth\":0,\"ticks\":\"\"},\"colorscale\":[[0.0,\"#0d0887\"],[0.1111111111111111,\"#46039f\"],[0.2222222222222222,\"#7201a8\"],[0.3333333333333333,\"#9c179e\"],[0.4444444444444444,\"#bd3786\"],[0.5555555555555556,\"#d8576b\"],[0.6666666666666666,\"#ed7953\"],[0.7777777777777778,\"#fb9f3a\"],[0.8888888888888888,\"#fdca26\"],[1.0,\"#f0f921\"]],\"type\":\"histogram2d\"}],\"histogram2dcontour\":[{\"colorbar\":{\"outlinewidth\":0,\"ticks\":\"\"},\"colorscale\":[[0.0,\"#0d0887\"],[0.1111111111111111,\"#46039f\"],[0.2222222222222222,\"#7201a8\"],[0.3333333333333333,\"#9c179e\"],[0.4444444444444444,\"#bd3786\"],[0.5555555555555556,\"#d8576b\"],[0.6666666666666666,\"#ed7953\"],[0.7777777777777778,\"#fb9f3a\"],[0.8888888888888888,\"#fdca26\"],[1.0,\"#f0f921\"]],\"type\":\"histogram2dcontour\"}],\"mesh3d\":[{\"colorbar\":{\"outlinewidth\":0,\"ticks\":\"\"},\"type\":\"mesh3d\"}],\"parcoords\":[{\"line\":{\"colorbar\":{\"outlinewidth\":0,\"ticks\":\"\"}},\"type\":\"parcoords\"}],\"pie\":[{\"automargin\":true,\"type\":\"pie\"}],\"scatter\":[{\"marker\":{\"colorbar\":{\"outlinewidth\":0,\"ticks\":\"\"}},\"type\":\"scatter\"}],\"scatter3d\":[{\"line\":{\"colorbar\":{\"outlinewidth\":0,\"ticks\":\"\"}},\"marker\":{\"colorbar\":{\"outlinewidth\":0,\"ticks\":\"\"}},\"type\":\"scatter3d\"}],\"scattercarpet\":[{\"marker\":{\"colorbar\":{\"outlinewidth\":0,\"ticks\":\"\"}},\"type\":\"scattercarpet\"}],\"scattergeo\":[{\"marker\":{\"colorbar\":{\"outlinewidth\":0,\"ticks\":\"\"}},\"type\":\"scattergeo\"}],\"scattergl\":[{\"marker\":{\"colorbar\":{\"outlinewidth\":0,\"ticks\":\"\"}},\"type\":\"scattergl\"}],\"scattermapbox\":[{\"marker\":{\"colorbar\":{\"outlinewidth\":0,\"ticks\":\"\"}},\"type\":\"scattermapbox\"}],\"scatterpolar\":[{\"marker\":{\"colorbar\":{\"outlinewidth\":0,\"ticks\":\"\"}},\"type\":\"scatterpolar\"}],\"scatterpolargl\":[{\"marker\":{\"colorbar\":{\"outlinewidth\":0,\"ticks\":\"\"}},\"type\":\"scatterpolargl\"}],\"scatterternary\":[{\"marker\":{\"colorbar\":{\"outlinewidth\":0,\"ticks\":\"\"}},\"type\":\"scatterternary\"}],\"surface\":[{\"colorbar\":{\"outlinewidth\":0,\"ticks\":\"\"},\"colorscale\":[[0.0,\"#0d0887\"],[0.1111111111111111,\"#46039f\"],[0.2222222222222222,\"#7201a8\"],[0.3333333333333333,\"#9c179e\"],[0.4444444444444444,\"#bd3786\"],[0.5555555555555556,\"#d8576b\"],[0.6666666666666666,\"#ed7953\"],[0.7777777777777778,\"#fb9f3a\"],[0.8888888888888888,\"#fdca26\"],[1.0,\"#f0f921\"]],\"type\":\"surface\"}],\"table\":[{\"cells\":{\"fill\":{\"color\":\"#EBF0F8\"},\"line\":{\"color\":\"white\"}},\"header\":{\"fill\":{\"color\":\"#C8D4E3\"},\"line\":{\"color\":\"white\"}},\"type\":\"table\"}]},\"layout\":{\"annotationdefaults\":{\"arrowcolor\":\"#2a3f5f\",\"arrowhead\":0,\"arrowwidth\":1},\"autotypenumbers\":\"strict\",\"coloraxis\":{\"colorbar\":{\"outlinewidth\":0,\"ticks\":\"\"}},\"colorscale\":{\"diverging\":[[0,\"#8e0152\"],[0.1,\"#c51b7d\"],[0.2,\"#de77ae\"],[0.3,\"#f1b6da\"],[0.4,\"#fde0ef\"],[0.5,\"#f7f7f7\"],[0.6,\"#e6f5d0\"],[0.7,\"#b8e186\"],[0.8,\"#7fbc41\"],[0.9,\"#4d9221\"],[1,\"#276419\"]],\"sequential\":[[0.0,\"#0d0887\"],[0.1111111111111111,\"#46039f\"],[0.2222222222222222,\"#7201a8\"],[0.3333333333333333,\"#9c179e\"],[0.4444444444444444,\"#bd3786\"],[0.5555555555555556,\"#d8576b\"],[0.6666666666666666,\"#ed7953\"],[0.7777777777777778,\"#fb9f3a\"],[0.8888888888888888,\"#fdca26\"],[1.0,\"#f0f921\"]],\"sequentialminus\":[[0.0,\"#0d0887\"],[0.1111111111111111,\"#46039f\"],[0.2222222222222222,\"#7201a8\"],[0.3333333333333333,\"#9c179e\"],[0.4444444444444444,\"#bd3786\"],[0.5555555555555556,\"#d8576b\"],[0.6666666666666666,\"#ed7953\"],[0.7777777777777778,\"#fb9f3a\"],[0.8888888888888888,\"#fdca26\"],[1.0,\"#f0f921\"]]},\"colorway\":[\"#636efa\",\"#EF553B\",\"#00cc96\",\"#ab63fa\",\"#FFA15A\",\"#19d3f3\",\"#FF6692\",\"#B6E880\",\"#FF97FF\",\"#FECB52\"],\"font\":{\"color\":\"#2a3f5f\"},\"geo\":{\"bgcolor\":\"white\",\"lakecolor\":\"white\",\"landcolor\":\"#E5ECF6\",\"showlakes\":true,\"showland\":true,\"subunitcolor\":\"white\"},\"hoverlabel\":{\"align\":\"left\"},\"hovermode\":\"closest\",\"mapbox\":{\"style\":\"light\"},\"paper_bgcolor\":\"white\",\"plot_bgcolor\":\"#E5ECF6\",\"polar\":{\"angularaxis\":{\"gridcolor\":\"white\",\"linecolor\":\"white\",\"ticks\":\"\"},\"bgcolor\":\"#E5ECF6\",\"radialaxis\":{\"gridcolor\":\"white\",\"linecolor\":\"white\",\"ticks\":\"\"}},\"scene\":{\"xaxis\":{\"backgroundcolor\":\"#E5ECF6\",\"gridcolor\":\"white\",\"gridwidth\":2,\"linecolor\":\"white\",\"showbackground\":true,\"ticks\":\"\",\"zerolinecolor\":\"white\"},\"yaxis\":{\"backgroundcolor\":\"#E5ECF6\",\"gridcolor\":\"white\",\"gridwidth\":2,\"linecolor\":\"white\",\"showbackground\":true,\"ticks\":\"\",\"zerolinecolor\":\"white\"},\"zaxis\":{\"backgroundcolor\":\"#E5ECF6\",\"gridcolor\":\"white\",\"gridwidth\":2,\"linecolor\":\"white\",\"showbackground\":true,\"ticks\":\"\",\"zerolinecolor\":\"white\"}},\"shapedefaults\":{\"line\":{\"color\":\"#2a3f5f\"}},\"ternary\":{\"aaxis\":{\"gridcolor\":\"white\",\"linecolor\":\"white\",\"ticks\":\"\"},\"baxis\":{\"gridcolor\":\"white\",\"linecolor\":\"white\",\"ticks\":\"\"},\"bgcolor\":\"#E5ECF6\",\"caxis\":{\"gridcolor\":\"white\",\"linecolor\":\"white\",\"ticks\":\"\"}},\"title\":{\"x\":0.05},\"xaxis\":{\"automargin\":true,\"gridcolor\":\"white\",\"linecolor\":\"white\",\"ticks\":\"\",\"title\":{\"standoff\":15},\"zerolinecolor\":\"white\",\"zerolinewidth\":2},\"yaxis\":{\"automargin\":true,\"gridcolor\":\"white\",\"linecolor\":\"white\",\"ticks\":\"\",\"title\":{\"standoff\":15},\"zerolinecolor\":\"white\",\"zerolinewidth\":2}}},\"title\":{\"text\":\"Missed RTHs in avante all facilities, 2021-01-15 to 2021-10-15\"},\"xaxis\":{\"anchor\":\"y\",\"domain\":[0.0,1.0],\"title\":{\"text\":\"Missed RTH\"}},\"yaxis\":{\"anchor\":\"x\",\"autorange\":\"reversed\",\"domain\":[0.0,1.0],\"title\":{\"text\":\"Length Of Stay\"}}},                        {\"responsive\": true}                    ).then(function(){\n",
       "                            \n",
       "var gd = document.getElementById('d661773a-217a-4270-a13a-c359e4ed21b0');\n",
       "var x = new MutationObserver(function (mutations, observer) {{\n",
       "        var display = window.getComputedStyle(gd).display;\n",
       "        if (!display || display === 'none') {{\n",
       "            console.log([gd, 'removed!']);\n",
       "            Plotly.purge(gd);\n",
       "            observer.disconnect();\n",
       "        }}\n",
       "}});\n",
       "\n",
       "// Listen for the removal of the full notebook cells\n",
       "var notebookContainer = gd.closest('#notebook-container');\n",
       "if (notebookContainer) {{\n",
       "    x.observe(notebookContainer, {childList: true});\n",
       "}}\n",
       "\n",
       "// Listen for the clearing of the current output cell\n",
       "var outputEl = gd.closest('.output');\n",
       "if (outputEl) {{\n",
       "    x.observe(outputEl, {childList: true});\n",
       "}}\n",
       "\n",
       "                        })                };                });            </script>        </div>"
      ]
     },
     "metadata": {},
     "output_type": "display_data"
    }
   ],
   "source": [
    "fig = px.bar(\n",
    "    temp_df, \n",
    "    x='missed_rth', \n",
    "    y=list(temp_df.index),\n",
    "    height=graph_height, orientation='h',\n",
    "    title=f'Missed RTHs in {CLIENT} all facilities, {date_range}',\n",
    "    labels={\n",
    "        'y':'Length Of Stay', \n",
    "        'missed_rth': 'Missed RTH'\n",
    "    }, \n",
    "    color_discrete_sequence=['yellow']\n",
    ")\n",
    "fig['layout']['yaxis']['autorange'] = \"reversed\"\n",
    "fig.show()"
   ]
  },
  {
   "cell_type": "markdown",
   "id": "556f4622",
   "metadata": {},
   "source": [
    "## UnRanked RTH"
   ]
  },
  {
   "cell_type": "code",
   "execution_count": 28,
   "id": "2785d224",
   "metadata": {
    "scrolled": true
   },
   "outputs": [
    {
     "data": {
      "application/vnd.plotly.v1+json": {
       "config": {
        "plotlyServerURL": "https://plot.ly"
       },
       "data": [
        {
         "alignmentgroup": "True",
         "hovertemplate": "Unranked RTH=%{x}<br>Length Of Stay=%{y}<extra></extra>",
         "legendgroup": "",
         "marker": {
          "color": "red",
          "pattern": {
           "shape": ""
          }
         },
         "name": "",
         "offsetgroup": "",
         "orientation": "h",
         "showlegend": false,
         "textposition": "auto",
         "type": "bar",
         "x": [
          5,
          44,
          17,
          2,
          0,
          0,
          0,
          1,
          2,
          1,
          0,
          0,
          1,
          0,
          1,
          1,
          0,
          0,
          1,
          0,
          0,
          1,
          0,
          2,
          0,
          0,
          1,
          0,
          0,
          0,
          0,
          1,
          0,
          0,
          0,
          0,
          0,
          1,
          0,
          0,
          0,
          1,
          1,
          0,
          0,
          0,
          1,
          0,
          0,
          0,
          0,
          1,
          0,
          0,
          0,
          1,
          0,
          0,
          1,
          0,
          0,
          0,
          1,
          1,
          0,
          0,
          0,
          1,
          0,
          0,
          0,
          0,
          0,
          0,
          0,
          0,
          0,
          0,
          0,
          0,
          1,
          0,
          0,
          0,
          0,
          0,
          0,
          0,
          0,
          1,
          0,
          0,
          0,
          1,
          0,
          0,
          0,
          0,
          0,
          0,
          0,
          0,
          0,
          0,
          0,
          1,
          0,
          0,
          0,
          0,
          0,
          0,
          0,
          0,
          0,
          0,
          0,
          0,
          0,
          0,
          24
         ],
         "xaxis": "x",
         "y": [
          0,
          1,
          2,
          3,
          4,
          5,
          6,
          7,
          8,
          9,
          10,
          11,
          12,
          13,
          14,
          15,
          16,
          17,
          18,
          19,
          20,
          21,
          22,
          23,
          24,
          25,
          26,
          27,
          28,
          29,
          30,
          31,
          32,
          33,
          34,
          35,
          36,
          37,
          38,
          39,
          40,
          41,
          42,
          43,
          44,
          45,
          46,
          47,
          48,
          49,
          50,
          51,
          52,
          53,
          54,
          55,
          56,
          57,
          58,
          59,
          60,
          61,
          62,
          63,
          64,
          65,
          66,
          67,
          68,
          69,
          70,
          71,
          72,
          73,
          74,
          75,
          76,
          77,
          78,
          79,
          80,
          81,
          82,
          83,
          84,
          85,
          86,
          87,
          88,
          89,
          90,
          91,
          92,
          93,
          94,
          95,
          96,
          97,
          98,
          99,
          100,
          101,
          102,
          103,
          104,
          105,
          106,
          107,
          108,
          109,
          110,
          111,
          112,
          113,
          114,
          115,
          116,
          117,
          118,
          119,
          120
         ],
         "yaxis": "y"
        }
       ],
       "layout": {
        "barmode": "relative",
        "height": 750,
        "legend": {
         "tracegroupgap": 0
        },
        "template": {
         "data": {
          "bar": [
           {
            "error_x": {
             "color": "#2a3f5f"
            },
            "error_y": {
             "color": "#2a3f5f"
            },
            "marker": {
             "line": {
              "color": "#E5ECF6",
              "width": 0.5
             },
             "pattern": {
              "fillmode": "overlay",
              "size": 10,
              "solidity": 0.2
             }
            },
            "type": "bar"
           }
          ],
          "barpolar": [
           {
            "marker": {
             "line": {
              "color": "#E5ECF6",
              "width": 0.5
             },
             "pattern": {
              "fillmode": "overlay",
              "size": 10,
              "solidity": 0.2
             }
            },
            "type": "barpolar"
           }
          ],
          "carpet": [
           {
            "aaxis": {
             "endlinecolor": "#2a3f5f",
             "gridcolor": "white",
             "linecolor": "white",
             "minorgridcolor": "white",
             "startlinecolor": "#2a3f5f"
            },
            "baxis": {
             "endlinecolor": "#2a3f5f",
             "gridcolor": "white",
             "linecolor": "white",
             "minorgridcolor": "white",
             "startlinecolor": "#2a3f5f"
            },
            "type": "carpet"
           }
          ],
          "choropleth": [
           {
            "colorbar": {
             "outlinewidth": 0,
             "ticks": ""
            },
            "type": "choropleth"
           }
          ],
          "contour": [
           {
            "colorbar": {
             "outlinewidth": 0,
             "ticks": ""
            },
            "colorscale": [
             [
              0,
              "#0d0887"
             ],
             [
              0.1111111111111111,
              "#46039f"
             ],
             [
              0.2222222222222222,
              "#7201a8"
             ],
             [
              0.3333333333333333,
              "#9c179e"
             ],
             [
              0.4444444444444444,
              "#bd3786"
             ],
             [
              0.5555555555555556,
              "#d8576b"
             ],
             [
              0.6666666666666666,
              "#ed7953"
             ],
             [
              0.7777777777777778,
              "#fb9f3a"
             ],
             [
              0.8888888888888888,
              "#fdca26"
             ],
             [
              1,
              "#f0f921"
             ]
            ],
            "type": "contour"
           }
          ],
          "contourcarpet": [
           {
            "colorbar": {
             "outlinewidth": 0,
             "ticks": ""
            },
            "type": "contourcarpet"
           }
          ],
          "heatmap": [
           {
            "colorbar": {
             "outlinewidth": 0,
             "ticks": ""
            },
            "colorscale": [
             [
              0,
              "#0d0887"
             ],
             [
              0.1111111111111111,
              "#46039f"
             ],
             [
              0.2222222222222222,
              "#7201a8"
             ],
             [
              0.3333333333333333,
              "#9c179e"
             ],
             [
              0.4444444444444444,
              "#bd3786"
             ],
             [
              0.5555555555555556,
              "#d8576b"
             ],
             [
              0.6666666666666666,
              "#ed7953"
             ],
             [
              0.7777777777777778,
              "#fb9f3a"
             ],
             [
              0.8888888888888888,
              "#fdca26"
             ],
             [
              1,
              "#f0f921"
             ]
            ],
            "type": "heatmap"
           }
          ],
          "heatmapgl": [
           {
            "colorbar": {
             "outlinewidth": 0,
             "ticks": ""
            },
            "colorscale": [
             [
              0,
              "#0d0887"
             ],
             [
              0.1111111111111111,
              "#46039f"
             ],
             [
              0.2222222222222222,
              "#7201a8"
             ],
             [
              0.3333333333333333,
              "#9c179e"
             ],
             [
              0.4444444444444444,
              "#bd3786"
             ],
             [
              0.5555555555555556,
              "#d8576b"
             ],
             [
              0.6666666666666666,
              "#ed7953"
             ],
             [
              0.7777777777777778,
              "#fb9f3a"
             ],
             [
              0.8888888888888888,
              "#fdca26"
             ],
             [
              1,
              "#f0f921"
             ]
            ],
            "type": "heatmapgl"
           }
          ],
          "histogram": [
           {
            "marker": {
             "pattern": {
              "fillmode": "overlay",
              "size": 10,
              "solidity": 0.2
             }
            },
            "type": "histogram"
           }
          ],
          "histogram2d": [
           {
            "colorbar": {
             "outlinewidth": 0,
             "ticks": ""
            },
            "colorscale": [
             [
              0,
              "#0d0887"
             ],
             [
              0.1111111111111111,
              "#46039f"
             ],
             [
              0.2222222222222222,
              "#7201a8"
             ],
             [
              0.3333333333333333,
              "#9c179e"
             ],
             [
              0.4444444444444444,
              "#bd3786"
             ],
             [
              0.5555555555555556,
              "#d8576b"
             ],
             [
              0.6666666666666666,
              "#ed7953"
             ],
             [
              0.7777777777777778,
              "#fb9f3a"
             ],
             [
              0.8888888888888888,
              "#fdca26"
             ],
             [
              1,
              "#f0f921"
             ]
            ],
            "type": "histogram2d"
           }
          ],
          "histogram2dcontour": [
           {
            "colorbar": {
             "outlinewidth": 0,
             "ticks": ""
            },
            "colorscale": [
             [
              0,
              "#0d0887"
             ],
             [
              0.1111111111111111,
              "#46039f"
             ],
             [
              0.2222222222222222,
              "#7201a8"
             ],
             [
              0.3333333333333333,
              "#9c179e"
             ],
             [
              0.4444444444444444,
              "#bd3786"
             ],
             [
              0.5555555555555556,
              "#d8576b"
             ],
             [
              0.6666666666666666,
              "#ed7953"
             ],
             [
              0.7777777777777778,
              "#fb9f3a"
             ],
             [
              0.8888888888888888,
              "#fdca26"
             ],
             [
              1,
              "#f0f921"
             ]
            ],
            "type": "histogram2dcontour"
           }
          ],
          "mesh3d": [
           {
            "colorbar": {
             "outlinewidth": 0,
             "ticks": ""
            },
            "type": "mesh3d"
           }
          ],
          "parcoords": [
           {
            "line": {
             "colorbar": {
              "outlinewidth": 0,
              "ticks": ""
             }
            },
            "type": "parcoords"
           }
          ],
          "pie": [
           {
            "automargin": true,
            "type": "pie"
           }
          ],
          "scatter": [
           {
            "marker": {
             "colorbar": {
              "outlinewidth": 0,
              "ticks": ""
             }
            },
            "type": "scatter"
           }
          ],
          "scatter3d": [
           {
            "line": {
             "colorbar": {
              "outlinewidth": 0,
              "ticks": ""
             }
            },
            "marker": {
             "colorbar": {
              "outlinewidth": 0,
              "ticks": ""
             }
            },
            "type": "scatter3d"
           }
          ],
          "scattercarpet": [
           {
            "marker": {
             "colorbar": {
              "outlinewidth": 0,
              "ticks": ""
             }
            },
            "type": "scattercarpet"
           }
          ],
          "scattergeo": [
           {
            "marker": {
             "colorbar": {
              "outlinewidth": 0,
              "ticks": ""
             }
            },
            "type": "scattergeo"
           }
          ],
          "scattergl": [
           {
            "marker": {
             "colorbar": {
              "outlinewidth": 0,
              "ticks": ""
             }
            },
            "type": "scattergl"
           }
          ],
          "scattermapbox": [
           {
            "marker": {
             "colorbar": {
              "outlinewidth": 0,
              "ticks": ""
             }
            },
            "type": "scattermapbox"
           }
          ],
          "scatterpolar": [
           {
            "marker": {
             "colorbar": {
              "outlinewidth": 0,
              "ticks": ""
             }
            },
            "type": "scatterpolar"
           }
          ],
          "scatterpolargl": [
           {
            "marker": {
             "colorbar": {
              "outlinewidth": 0,
              "ticks": ""
             }
            },
            "type": "scatterpolargl"
           }
          ],
          "scatterternary": [
           {
            "marker": {
             "colorbar": {
              "outlinewidth": 0,
              "ticks": ""
             }
            },
            "type": "scatterternary"
           }
          ],
          "surface": [
           {
            "colorbar": {
             "outlinewidth": 0,
             "ticks": ""
            },
            "colorscale": [
             [
              0,
              "#0d0887"
             ],
             [
              0.1111111111111111,
              "#46039f"
             ],
             [
              0.2222222222222222,
              "#7201a8"
             ],
             [
              0.3333333333333333,
              "#9c179e"
             ],
             [
              0.4444444444444444,
              "#bd3786"
             ],
             [
              0.5555555555555556,
              "#d8576b"
             ],
             [
              0.6666666666666666,
              "#ed7953"
             ],
             [
              0.7777777777777778,
              "#fb9f3a"
             ],
             [
              0.8888888888888888,
              "#fdca26"
             ],
             [
              1,
              "#f0f921"
             ]
            ],
            "type": "surface"
           }
          ],
          "table": [
           {
            "cells": {
             "fill": {
              "color": "#EBF0F8"
             },
             "line": {
              "color": "white"
             }
            },
            "header": {
             "fill": {
              "color": "#C8D4E3"
             },
             "line": {
              "color": "white"
             }
            },
            "type": "table"
           }
          ]
         },
         "layout": {
          "annotationdefaults": {
           "arrowcolor": "#2a3f5f",
           "arrowhead": 0,
           "arrowwidth": 1
          },
          "autotypenumbers": "strict",
          "coloraxis": {
           "colorbar": {
            "outlinewidth": 0,
            "ticks": ""
           }
          },
          "colorscale": {
           "diverging": [
            [
             0,
             "#8e0152"
            ],
            [
             0.1,
             "#c51b7d"
            ],
            [
             0.2,
             "#de77ae"
            ],
            [
             0.3,
             "#f1b6da"
            ],
            [
             0.4,
             "#fde0ef"
            ],
            [
             0.5,
             "#f7f7f7"
            ],
            [
             0.6,
             "#e6f5d0"
            ],
            [
             0.7,
             "#b8e186"
            ],
            [
             0.8,
             "#7fbc41"
            ],
            [
             0.9,
             "#4d9221"
            ],
            [
             1,
             "#276419"
            ]
           ],
           "sequential": [
            [
             0,
             "#0d0887"
            ],
            [
             0.1111111111111111,
             "#46039f"
            ],
            [
             0.2222222222222222,
             "#7201a8"
            ],
            [
             0.3333333333333333,
             "#9c179e"
            ],
            [
             0.4444444444444444,
             "#bd3786"
            ],
            [
             0.5555555555555556,
             "#d8576b"
            ],
            [
             0.6666666666666666,
             "#ed7953"
            ],
            [
             0.7777777777777778,
             "#fb9f3a"
            ],
            [
             0.8888888888888888,
             "#fdca26"
            ],
            [
             1,
             "#f0f921"
            ]
           ],
           "sequentialminus": [
            [
             0,
             "#0d0887"
            ],
            [
             0.1111111111111111,
             "#46039f"
            ],
            [
             0.2222222222222222,
             "#7201a8"
            ],
            [
             0.3333333333333333,
             "#9c179e"
            ],
            [
             0.4444444444444444,
             "#bd3786"
            ],
            [
             0.5555555555555556,
             "#d8576b"
            ],
            [
             0.6666666666666666,
             "#ed7953"
            ],
            [
             0.7777777777777778,
             "#fb9f3a"
            ],
            [
             0.8888888888888888,
             "#fdca26"
            ],
            [
             1,
             "#f0f921"
            ]
           ]
          },
          "colorway": [
           "#636efa",
           "#EF553B",
           "#00cc96",
           "#ab63fa",
           "#FFA15A",
           "#19d3f3",
           "#FF6692",
           "#B6E880",
           "#FF97FF",
           "#FECB52"
          ],
          "font": {
           "color": "#2a3f5f"
          },
          "geo": {
           "bgcolor": "white",
           "lakecolor": "white",
           "landcolor": "#E5ECF6",
           "showlakes": true,
           "showland": true,
           "subunitcolor": "white"
          },
          "hoverlabel": {
           "align": "left"
          },
          "hovermode": "closest",
          "mapbox": {
           "style": "light"
          },
          "paper_bgcolor": "white",
          "plot_bgcolor": "#E5ECF6",
          "polar": {
           "angularaxis": {
            "gridcolor": "white",
            "linecolor": "white",
            "ticks": ""
           },
           "bgcolor": "#E5ECF6",
           "radialaxis": {
            "gridcolor": "white",
            "linecolor": "white",
            "ticks": ""
           }
          },
          "scene": {
           "xaxis": {
            "backgroundcolor": "#E5ECF6",
            "gridcolor": "white",
            "gridwidth": 2,
            "linecolor": "white",
            "showbackground": true,
            "ticks": "",
            "zerolinecolor": "white"
           },
           "yaxis": {
            "backgroundcolor": "#E5ECF6",
            "gridcolor": "white",
            "gridwidth": 2,
            "linecolor": "white",
            "showbackground": true,
            "ticks": "",
            "zerolinecolor": "white"
           },
           "zaxis": {
            "backgroundcolor": "#E5ECF6",
            "gridcolor": "white",
            "gridwidth": 2,
            "linecolor": "white",
            "showbackground": true,
            "ticks": "",
            "zerolinecolor": "white"
           }
          },
          "shapedefaults": {
           "line": {
            "color": "#2a3f5f"
           }
          },
          "ternary": {
           "aaxis": {
            "gridcolor": "white",
            "linecolor": "white",
            "ticks": ""
           },
           "baxis": {
            "gridcolor": "white",
            "linecolor": "white",
            "ticks": ""
           },
           "bgcolor": "#E5ECF6",
           "caxis": {
            "gridcolor": "white",
            "linecolor": "white",
            "ticks": ""
           }
          },
          "title": {
           "x": 0.05
          },
          "xaxis": {
           "automargin": true,
           "gridcolor": "white",
           "linecolor": "white",
           "ticks": "",
           "title": {
            "standoff": 15
           },
           "zerolinecolor": "white",
           "zerolinewidth": 2
          },
          "yaxis": {
           "automargin": true,
           "gridcolor": "white",
           "linecolor": "white",
           "ticks": "",
           "title": {
            "standoff": 15
           },
           "zerolinecolor": "white",
           "zerolinewidth": 2
          }
         }
        },
        "title": {
         "text": "Unranked RTHs in avante all facilities, 2021-01-15 to 2021-10-15"
        },
        "xaxis": {
         "anchor": "y",
         "domain": [
          0,
          1
         ],
         "title": {
          "text": "Unranked RTH"
         }
        },
        "yaxis": {
         "anchor": "x",
         "autorange": "reversed",
         "domain": [
          0,
          1
         ],
         "title": {
          "text": "Length Of Stay"
         }
        }
       }
      },
      "text/html": [
       "<div>                            <div id=\"ec70ba8e-aef8-452d-94e0-4ad16549c139\" class=\"plotly-graph-div\" style=\"height:750px; width:100%;\"></div>            <script type=\"text/javascript\">                require([\"plotly\"], function(Plotly) {                    window.PLOTLYENV=window.PLOTLYENV || {};                                    if (document.getElementById(\"ec70ba8e-aef8-452d-94e0-4ad16549c139\")) {                    Plotly.newPlot(                        \"ec70ba8e-aef8-452d-94e0-4ad16549c139\",                        [{\"alignmentgroup\":\"True\",\"hovertemplate\":\"Unranked RTH=%{x}<br>Length Of Stay=%{y}<extra></extra>\",\"legendgroup\":\"\",\"marker\":{\"color\":\"red\",\"pattern\":{\"shape\":\"\"}},\"name\":\"\",\"offsetgroup\":\"\",\"orientation\":\"h\",\"showlegend\":false,\"textposition\":\"auto\",\"type\":\"bar\",\"x\":[5,44,17,2,0,0,0,1,2,1,0,0,1,0,1,1,0,0,1,0,0,1,0,2,0,0,1,0,0,0,0,1,0,0,0,0,0,1,0,0,0,1,1,0,0,0,1,0,0,0,0,1,0,0,0,1,0,0,1,0,0,0,1,1,0,0,0,1,0,0,0,0,0,0,0,0,0,0,0,0,1,0,0,0,0,0,0,0,0,1,0,0,0,1,0,0,0,0,0,0,0,0,0,0,0,1,0,0,0,0,0,0,0,0,0,0,0,0,0,0,24],\"xaxis\":\"x\",\"y\":[0,1,2,3,4,5,6,7,8,9,10,11,12,13,14,15,16,17,18,19,20,21,22,23,24,25,26,27,28,29,30,31,32,33,34,35,36,37,38,39,40,41,42,43,44,45,46,47,48,49,50,51,52,53,54,55,56,57,58,59,60,61,62,63,64,65,66,67,68,69,70,71,72,73,74,75,76,77,78,79,80,81,82,83,84,85,86,87,88,89,90,91,92,93,94,95,96,97,98,99,100,101,102,103,104,105,106,107,108,109,110,111,112,113,114,115,116,117,118,119,120],\"yaxis\":\"y\"}],                        {\"barmode\":\"relative\",\"height\":750,\"legend\":{\"tracegroupgap\":0},\"template\":{\"data\":{\"bar\":[{\"error_x\":{\"color\":\"#2a3f5f\"},\"error_y\":{\"color\":\"#2a3f5f\"},\"marker\":{\"line\":{\"color\":\"#E5ECF6\",\"width\":0.5},\"pattern\":{\"fillmode\":\"overlay\",\"size\":10,\"solidity\":0.2}},\"type\":\"bar\"}],\"barpolar\":[{\"marker\":{\"line\":{\"color\":\"#E5ECF6\",\"width\":0.5},\"pattern\":{\"fillmode\":\"overlay\",\"size\":10,\"solidity\":0.2}},\"type\":\"barpolar\"}],\"carpet\":[{\"aaxis\":{\"endlinecolor\":\"#2a3f5f\",\"gridcolor\":\"white\",\"linecolor\":\"white\",\"minorgridcolor\":\"white\",\"startlinecolor\":\"#2a3f5f\"},\"baxis\":{\"endlinecolor\":\"#2a3f5f\",\"gridcolor\":\"white\",\"linecolor\":\"white\",\"minorgridcolor\":\"white\",\"startlinecolor\":\"#2a3f5f\"},\"type\":\"carpet\"}],\"choropleth\":[{\"colorbar\":{\"outlinewidth\":0,\"ticks\":\"\"},\"type\":\"choropleth\"}],\"contour\":[{\"colorbar\":{\"outlinewidth\":0,\"ticks\":\"\"},\"colorscale\":[[0.0,\"#0d0887\"],[0.1111111111111111,\"#46039f\"],[0.2222222222222222,\"#7201a8\"],[0.3333333333333333,\"#9c179e\"],[0.4444444444444444,\"#bd3786\"],[0.5555555555555556,\"#d8576b\"],[0.6666666666666666,\"#ed7953\"],[0.7777777777777778,\"#fb9f3a\"],[0.8888888888888888,\"#fdca26\"],[1.0,\"#f0f921\"]],\"type\":\"contour\"}],\"contourcarpet\":[{\"colorbar\":{\"outlinewidth\":0,\"ticks\":\"\"},\"type\":\"contourcarpet\"}],\"heatmap\":[{\"colorbar\":{\"outlinewidth\":0,\"ticks\":\"\"},\"colorscale\":[[0.0,\"#0d0887\"],[0.1111111111111111,\"#46039f\"],[0.2222222222222222,\"#7201a8\"],[0.3333333333333333,\"#9c179e\"],[0.4444444444444444,\"#bd3786\"],[0.5555555555555556,\"#d8576b\"],[0.6666666666666666,\"#ed7953\"],[0.7777777777777778,\"#fb9f3a\"],[0.8888888888888888,\"#fdca26\"],[1.0,\"#f0f921\"]],\"type\":\"heatmap\"}],\"heatmapgl\":[{\"colorbar\":{\"outlinewidth\":0,\"ticks\":\"\"},\"colorscale\":[[0.0,\"#0d0887\"],[0.1111111111111111,\"#46039f\"],[0.2222222222222222,\"#7201a8\"],[0.3333333333333333,\"#9c179e\"],[0.4444444444444444,\"#bd3786\"],[0.5555555555555556,\"#d8576b\"],[0.6666666666666666,\"#ed7953\"],[0.7777777777777778,\"#fb9f3a\"],[0.8888888888888888,\"#fdca26\"],[1.0,\"#f0f921\"]],\"type\":\"heatmapgl\"}],\"histogram\":[{\"marker\":{\"pattern\":{\"fillmode\":\"overlay\",\"size\":10,\"solidity\":0.2}},\"type\":\"histogram\"}],\"histogram2d\":[{\"colorbar\":{\"outlinewidth\":0,\"ticks\":\"\"},\"colorscale\":[[0.0,\"#0d0887\"],[0.1111111111111111,\"#46039f\"],[0.2222222222222222,\"#7201a8\"],[0.3333333333333333,\"#9c179e\"],[0.4444444444444444,\"#bd3786\"],[0.5555555555555556,\"#d8576b\"],[0.6666666666666666,\"#ed7953\"],[0.7777777777777778,\"#fb9f3a\"],[0.8888888888888888,\"#fdca26\"],[1.0,\"#f0f921\"]],\"type\":\"histogram2d\"}],\"histogram2dcontour\":[{\"colorbar\":{\"outlinewidth\":0,\"ticks\":\"\"},\"colorscale\":[[0.0,\"#0d0887\"],[0.1111111111111111,\"#46039f\"],[0.2222222222222222,\"#7201a8\"],[0.3333333333333333,\"#9c179e\"],[0.4444444444444444,\"#bd3786\"],[0.5555555555555556,\"#d8576b\"],[0.6666666666666666,\"#ed7953\"],[0.7777777777777778,\"#fb9f3a\"],[0.8888888888888888,\"#fdca26\"],[1.0,\"#f0f921\"]],\"type\":\"histogram2dcontour\"}],\"mesh3d\":[{\"colorbar\":{\"outlinewidth\":0,\"ticks\":\"\"},\"type\":\"mesh3d\"}],\"parcoords\":[{\"line\":{\"colorbar\":{\"outlinewidth\":0,\"ticks\":\"\"}},\"type\":\"parcoords\"}],\"pie\":[{\"automargin\":true,\"type\":\"pie\"}],\"scatter\":[{\"marker\":{\"colorbar\":{\"outlinewidth\":0,\"ticks\":\"\"}},\"type\":\"scatter\"}],\"scatter3d\":[{\"line\":{\"colorbar\":{\"outlinewidth\":0,\"ticks\":\"\"}},\"marker\":{\"colorbar\":{\"outlinewidth\":0,\"ticks\":\"\"}},\"type\":\"scatter3d\"}],\"scattercarpet\":[{\"marker\":{\"colorbar\":{\"outlinewidth\":0,\"ticks\":\"\"}},\"type\":\"scattercarpet\"}],\"scattergeo\":[{\"marker\":{\"colorbar\":{\"outlinewidth\":0,\"ticks\":\"\"}},\"type\":\"scattergeo\"}],\"scattergl\":[{\"marker\":{\"colorbar\":{\"outlinewidth\":0,\"ticks\":\"\"}},\"type\":\"scattergl\"}],\"scattermapbox\":[{\"marker\":{\"colorbar\":{\"outlinewidth\":0,\"ticks\":\"\"}},\"type\":\"scattermapbox\"}],\"scatterpolar\":[{\"marker\":{\"colorbar\":{\"outlinewidth\":0,\"ticks\":\"\"}},\"type\":\"scatterpolar\"}],\"scatterpolargl\":[{\"marker\":{\"colorbar\":{\"outlinewidth\":0,\"ticks\":\"\"}},\"type\":\"scatterpolargl\"}],\"scatterternary\":[{\"marker\":{\"colorbar\":{\"outlinewidth\":0,\"ticks\":\"\"}},\"type\":\"scatterternary\"}],\"surface\":[{\"colorbar\":{\"outlinewidth\":0,\"ticks\":\"\"},\"colorscale\":[[0.0,\"#0d0887\"],[0.1111111111111111,\"#46039f\"],[0.2222222222222222,\"#7201a8\"],[0.3333333333333333,\"#9c179e\"],[0.4444444444444444,\"#bd3786\"],[0.5555555555555556,\"#d8576b\"],[0.6666666666666666,\"#ed7953\"],[0.7777777777777778,\"#fb9f3a\"],[0.8888888888888888,\"#fdca26\"],[1.0,\"#f0f921\"]],\"type\":\"surface\"}],\"table\":[{\"cells\":{\"fill\":{\"color\":\"#EBF0F8\"},\"line\":{\"color\":\"white\"}},\"header\":{\"fill\":{\"color\":\"#C8D4E3\"},\"line\":{\"color\":\"white\"}},\"type\":\"table\"}]},\"layout\":{\"annotationdefaults\":{\"arrowcolor\":\"#2a3f5f\",\"arrowhead\":0,\"arrowwidth\":1},\"autotypenumbers\":\"strict\",\"coloraxis\":{\"colorbar\":{\"outlinewidth\":0,\"ticks\":\"\"}},\"colorscale\":{\"diverging\":[[0,\"#8e0152\"],[0.1,\"#c51b7d\"],[0.2,\"#de77ae\"],[0.3,\"#f1b6da\"],[0.4,\"#fde0ef\"],[0.5,\"#f7f7f7\"],[0.6,\"#e6f5d0\"],[0.7,\"#b8e186\"],[0.8,\"#7fbc41\"],[0.9,\"#4d9221\"],[1,\"#276419\"]],\"sequential\":[[0.0,\"#0d0887\"],[0.1111111111111111,\"#46039f\"],[0.2222222222222222,\"#7201a8\"],[0.3333333333333333,\"#9c179e\"],[0.4444444444444444,\"#bd3786\"],[0.5555555555555556,\"#d8576b\"],[0.6666666666666666,\"#ed7953\"],[0.7777777777777778,\"#fb9f3a\"],[0.8888888888888888,\"#fdca26\"],[1.0,\"#f0f921\"]],\"sequentialminus\":[[0.0,\"#0d0887\"],[0.1111111111111111,\"#46039f\"],[0.2222222222222222,\"#7201a8\"],[0.3333333333333333,\"#9c179e\"],[0.4444444444444444,\"#bd3786\"],[0.5555555555555556,\"#d8576b\"],[0.6666666666666666,\"#ed7953\"],[0.7777777777777778,\"#fb9f3a\"],[0.8888888888888888,\"#fdca26\"],[1.0,\"#f0f921\"]]},\"colorway\":[\"#636efa\",\"#EF553B\",\"#00cc96\",\"#ab63fa\",\"#FFA15A\",\"#19d3f3\",\"#FF6692\",\"#B6E880\",\"#FF97FF\",\"#FECB52\"],\"font\":{\"color\":\"#2a3f5f\"},\"geo\":{\"bgcolor\":\"white\",\"lakecolor\":\"white\",\"landcolor\":\"#E5ECF6\",\"showlakes\":true,\"showland\":true,\"subunitcolor\":\"white\"},\"hoverlabel\":{\"align\":\"left\"},\"hovermode\":\"closest\",\"mapbox\":{\"style\":\"light\"},\"paper_bgcolor\":\"white\",\"plot_bgcolor\":\"#E5ECF6\",\"polar\":{\"angularaxis\":{\"gridcolor\":\"white\",\"linecolor\":\"white\",\"ticks\":\"\"},\"bgcolor\":\"#E5ECF6\",\"radialaxis\":{\"gridcolor\":\"white\",\"linecolor\":\"white\",\"ticks\":\"\"}},\"scene\":{\"xaxis\":{\"backgroundcolor\":\"#E5ECF6\",\"gridcolor\":\"white\",\"gridwidth\":2,\"linecolor\":\"white\",\"showbackground\":true,\"ticks\":\"\",\"zerolinecolor\":\"white\"},\"yaxis\":{\"backgroundcolor\":\"#E5ECF6\",\"gridcolor\":\"white\",\"gridwidth\":2,\"linecolor\":\"white\",\"showbackground\":true,\"ticks\":\"\",\"zerolinecolor\":\"white\"},\"zaxis\":{\"backgroundcolor\":\"#E5ECF6\",\"gridcolor\":\"white\",\"gridwidth\":2,\"linecolor\":\"white\",\"showbackground\":true,\"ticks\":\"\",\"zerolinecolor\":\"white\"}},\"shapedefaults\":{\"line\":{\"color\":\"#2a3f5f\"}},\"ternary\":{\"aaxis\":{\"gridcolor\":\"white\",\"linecolor\":\"white\",\"ticks\":\"\"},\"baxis\":{\"gridcolor\":\"white\",\"linecolor\":\"white\",\"ticks\":\"\"},\"bgcolor\":\"#E5ECF6\",\"caxis\":{\"gridcolor\":\"white\",\"linecolor\":\"white\",\"ticks\":\"\"}},\"title\":{\"x\":0.05},\"xaxis\":{\"automargin\":true,\"gridcolor\":\"white\",\"linecolor\":\"white\",\"ticks\":\"\",\"title\":{\"standoff\":15},\"zerolinecolor\":\"white\",\"zerolinewidth\":2},\"yaxis\":{\"automargin\":true,\"gridcolor\":\"white\",\"linecolor\":\"white\",\"ticks\":\"\",\"title\":{\"standoff\":15},\"zerolinecolor\":\"white\",\"zerolinewidth\":2}}},\"title\":{\"text\":\"Unranked RTHs in avante all facilities, 2021-01-15 to 2021-10-15\"},\"xaxis\":{\"anchor\":\"y\",\"domain\":[0.0,1.0],\"title\":{\"text\":\"Unranked RTH\"}},\"yaxis\":{\"anchor\":\"x\",\"autorange\":\"reversed\",\"domain\":[0.0,1.0],\"title\":{\"text\":\"Length Of Stay\"}}},                        {\"responsive\": true}                    ).then(function(){\n",
       "                            \n",
       "var gd = document.getElementById('ec70ba8e-aef8-452d-94e0-4ad16549c139');\n",
       "var x = new MutationObserver(function (mutations, observer) {{\n",
       "        var display = window.getComputedStyle(gd).display;\n",
       "        if (!display || display === 'none') {{\n",
       "            console.log([gd, 'removed!']);\n",
       "            Plotly.purge(gd);\n",
       "            observer.disconnect();\n",
       "        }}\n",
       "}});\n",
       "\n",
       "// Listen for the removal of the full notebook cells\n",
       "var notebookContainer = gd.closest('#notebook-container');\n",
       "if (notebookContainer) {{\n",
       "    x.observe(notebookContainer, {childList: true});\n",
       "}}\n",
       "\n",
       "// Listen for the clearing of the current output cell\n",
       "var outputEl = gd.closest('.output');\n",
       "if (outputEl) {{\n",
       "    x.observe(outputEl, {childList: true});\n",
       "}}\n",
       "\n",
       "                        })                };                });            </script>        </div>"
      ]
     },
     "metadata": {},
     "output_type": "display_data"
    }
   ],
   "source": [
    "fig = px.bar(\n",
    "    df, \n",
    "    x='unranked_rth', \n",
    "    y=list(df.index),\n",
    "    height=graph_height, orientation='h',\n",
    "    title=f'Unranked RTHs in {CLIENT} all facilities, {date_range}',\n",
    "    labels={\n",
    "        'y':'Length Of Stay', \n",
    "        'unranked_rth': 'Unranked RTH'\n",
    "    }, \n",
    "    color_discrete_sequence=['red']\n",
    ")\n",
    "fig['layout']['yaxis']['autorange'] = \"reversed\"\n",
    "fig.show()"
   ]
  },
  {
   "cell_type": "markdown",
   "id": "5880eed5",
   "metadata": {},
   "source": [
    "## Harsh Recall \"<=0” “<=1”, “<=2”, …, “<=119\""
   ]
  },
  {
   "cell_type": "code",
   "execution_count": 29,
   "id": "d36f65e1",
   "metadata": {
    "scrolled": true
   },
   "outputs": [
    {
     "data": {
      "application/vnd.plotly.v1+json": {
       "config": {
        "plotlyServerURL": "https://plot.ly"
       },
       "data": [
        {
         "alignmentgroup": "True",
         "hovertemplate": "Recall=%{x}<br>Length Of Stay=%{y}<extra></extra>",
         "legendgroup": "",
         "marker": {
          "color": "#636efa",
          "pattern": {
           "shape": ""
          }
         },
         "name": "",
         "offsetgroup": "",
         "orientation": "h",
         "showlegend": false,
         "textposition": "outside",
         "type": "bar",
         "x": [
          0.125,
          0.06666666666666667,
          0.1346153846153846,
          0.2624113475177305,
          0.3473053892215569,
          0.4088669950738916,
          0.45064377682403434,
          0.4943820224719101,
          0.5135135135135135,
          0.5295950155763239,
          0.5459770114942529,
          0.5588235294117647,
          0.5664160401002506,
          0.5727923627684964,
          0.5801354401805869,
          0.5879828326180258,
          0.5895833333333333,
          0.594758064516129,
          0.598825831702544,
          0.6030534351145038,
          0.601123595505618,
          0.599271402550091,
          0.598939929328622,
          0.6031195840554593,
          0.606473594548552,
          0.6023294509151415,
          0.6032786885245902,
          0.6012861736334405,
          0.5974643423137876,
          0.5965463108320251,
          0.5962732919254659,
          0.5954198473282443,
          0.594553706505295,
          0.5967016491754122,
          0.5979073243647235,
          0.5979228486646885,
          0.599112426035503,
          0.597953216374269,
          0.5974025974025974,
          0.5965665236051502,
          0.5909732016925247,
          0.5890603085553997,
          0.5864453665283541,
          0.585499316005472,
          0.5858310626702997,
          0.5853658536585366,
          0.5817694369973191,
          0.5813333333333334,
          0.582562747688243,
          0.5863874345549738,
          0.5838751625487646,
          0.5819354838709677,
          0.5772669220945083,
          0.5759493670886076,
          0.5768261964735516,
          0.5766331658291457,
          0.5764411027568922,
          0.5760598503740648,
          0.5749690210656754,
          0.5745992601726264,
          0.5751231527093597,
          0.5747549019607843,
          0.5740514075887393,
          0.5736906211936662,
          0.5728155339805825,
          0.5700483091787439,
          0.5691937424789411,
          0.5688622754491018,
          0.5668257756563246,
          0.5678571428571428,
          0.5671819262782402,
          0.566350710900474,
          0.566193853427896,
          0.5641931684334511,
          0.5652173913043478,
          0.5638921453692849,
          0.5637426900584795,
          0.5652680652680653,
          0.5662790697674419,
          0.5643105446118193,
          0.5641618497109827,
          0.5646651270207852,
          0.5640138408304498,
          0.5638665132336018,
          0.5625717566016073,
          0.5619266055045872,
          0.5611428571428572,
          0.5590909090909091,
          0.5584562996594779,
          0.5571913929784824,
          0.5546786922209695,
          0.5528089887640449,
          0.5515695067264574,
          0.5491071428571429,
          0.5484949832775919,
          0.5482796892341842,
          0.5481727574750831,
          0.5463576158940397,
          0.5451541850220264,
          0.5456545654565457,
          0.544456641053787,
          0.5449561403508771,
          0.5449561403508771,
          0.5443592552026287,
          0.5437636761487965,
          0.5436681222707423,
          0.5441657579062159,
          0.544069640914037,
          0.5434782608695652,
          0.5422993492407809,
          0.5422077922077922,
          0.541036717062635,
          0.541036717062635,
          0.540948275862069,
          0.540948275862069,
          0.540948275862069,
          0.5397849462365591,
          0.5397849462365591,
          0.5392051557465092,
          0.5390374331550802,
          0.4662218515429525
         ],
         "xaxis": "x",
         "y": [
          "<=0",
          "<=1",
          "<=2",
          "<=3",
          "<=4",
          "<=5",
          "<=6",
          "<=7",
          "<=8",
          "<=9",
          "<=10",
          "<=11",
          "<=12",
          "<=13",
          "<=14",
          "<=15",
          "<=16",
          "<=17",
          "<=18",
          "<=19",
          "<=20",
          "<=21",
          "<=22",
          "<=23",
          "<=24",
          "<=25",
          "<=26",
          "<=27",
          "<=28",
          "<=29",
          "<=30",
          "<=31",
          "<=32",
          "<=33",
          "<=34",
          "<=35",
          "<=36",
          "<=37",
          "<=38",
          "<=39",
          "<=40",
          "<=41",
          "<=42",
          "<=43",
          "<=44",
          "<=45",
          "<=46",
          "<=47",
          "<=48",
          "<=49",
          "<=50",
          "<=51",
          "<=52",
          "<=53",
          "<=54",
          "<=55",
          "<=56",
          "<=57",
          "<=58",
          "<=59",
          "<=60",
          "<=61",
          "<=62",
          "<=63",
          "<=64",
          "<=65",
          "<=66",
          "<=67",
          "<=68",
          "<=69",
          "<=70",
          "<=71",
          "<=72",
          "<=73",
          "<=74",
          "<=75",
          "<=76",
          "<=77",
          "<=78",
          "<=79",
          "<=80",
          "<=81",
          "<=82",
          "<=83",
          "<=84",
          "<=85",
          "<=86",
          "<=87",
          "<=88",
          "<=89",
          "<=90",
          "<=91",
          "<=92",
          "<=93",
          "<=94",
          "<=95",
          "<=96",
          "<=97",
          "<=98",
          "<=99",
          "<=100",
          "<=101",
          "<=102",
          "<=103",
          "<=104",
          "<=105",
          "<=106",
          "<=107",
          "<=108",
          "<=109",
          "<=110",
          "<=111",
          "<=112",
          "<=113",
          "<=114",
          "<=115",
          "<=116",
          "<=117",
          "<=118",
          "<=119",
          "All"
         ],
         "yaxis": "y"
        }
       ],
       "layout": {
        "barmode": "relative",
        "height": 750,
        "legend": {
         "tracegroupgap": 0
        },
        "template": {
         "data": {
          "bar": [
           {
            "error_x": {
             "color": "#2a3f5f"
            },
            "error_y": {
             "color": "#2a3f5f"
            },
            "marker": {
             "line": {
              "color": "#E5ECF6",
              "width": 0.5
             },
             "pattern": {
              "fillmode": "overlay",
              "size": 10,
              "solidity": 0.2
             }
            },
            "type": "bar"
           }
          ],
          "barpolar": [
           {
            "marker": {
             "line": {
              "color": "#E5ECF6",
              "width": 0.5
             },
             "pattern": {
              "fillmode": "overlay",
              "size": 10,
              "solidity": 0.2
             }
            },
            "type": "barpolar"
           }
          ],
          "carpet": [
           {
            "aaxis": {
             "endlinecolor": "#2a3f5f",
             "gridcolor": "white",
             "linecolor": "white",
             "minorgridcolor": "white",
             "startlinecolor": "#2a3f5f"
            },
            "baxis": {
             "endlinecolor": "#2a3f5f",
             "gridcolor": "white",
             "linecolor": "white",
             "minorgridcolor": "white",
             "startlinecolor": "#2a3f5f"
            },
            "type": "carpet"
           }
          ],
          "choropleth": [
           {
            "colorbar": {
             "outlinewidth": 0,
             "ticks": ""
            },
            "type": "choropleth"
           }
          ],
          "contour": [
           {
            "colorbar": {
             "outlinewidth": 0,
             "ticks": ""
            },
            "colorscale": [
             [
              0,
              "#0d0887"
             ],
             [
              0.1111111111111111,
              "#46039f"
             ],
             [
              0.2222222222222222,
              "#7201a8"
             ],
             [
              0.3333333333333333,
              "#9c179e"
             ],
             [
              0.4444444444444444,
              "#bd3786"
             ],
             [
              0.5555555555555556,
              "#d8576b"
             ],
             [
              0.6666666666666666,
              "#ed7953"
             ],
             [
              0.7777777777777778,
              "#fb9f3a"
             ],
             [
              0.8888888888888888,
              "#fdca26"
             ],
             [
              1,
              "#f0f921"
             ]
            ],
            "type": "contour"
           }
          ],
          "contourcarpet": [
           {
            "colorbar": {
             "outlinewidth": 0,
             "ticks": ""
            },
            "type": "contourcarpet"
           }
          ],
          "heatmap": [
           {
            "colorbar": {
             "outlinewidth": 0,
             "ticks": ""
            },
            "colorscale": [
             [
              0,
              "#0d0887"
             ],
             [
              0.1111111111111111,
              "#46039f"
             ],
             [
              0.2222222222222222,
              "#7201a8"
             ],
             [
              0.3333333333333333,
              "#9c179e"
             ],
             [
              0.4444444444444444,
              "#bd3786"
             ],
             [
              0.5555555555555556,
              "#d8576b"
             ],
             [
              0.6666666666666666,
              "#ed7953"
             ],
             [
              0.7777777777777778,
              "#fb9f3a"
             ],
             [
              0.8888888888888888,
              "#fdca26"
             ],
             [
              1,
              "#f0f921"
             ]
            ],
            "type": "heatmap"
           }
          ],
          "heatmapgl": [
           {
            "colorbar": {
             "outlinewidth": 0,
             "ticks": ""
            },
            "colorscale": [
             [
              0,
              "#0d0887"
             ],
             [
              0.1111111111111111,
              "#46039f"
             ],
             [
              0.2222222222222222,
              "#7201a8"
             ],
             [
              0.3333333333333333,
              "#9c179e"
             ],
             [
              0.4444444444444444,
              "#bd3786"
             ],
             [
              0.5555555555555556,
              "#d8576b"
             ],
             [
              0.6666666666666666,
              "#ed7953"
             ],
             [
              0.7777777777777778,
              "#fb9f3a"
             ],
             [
              0.8888888888888888,
              "#fdca26"
             ],
             [
              1,
              "#f0f921"
             ]
            ],
            "type": "heatmapgl"
           }
          ],
          "histogram": [
           {
            "marker": {
             "pattern": {
              "fillmode": "overlay",
              "size": 10,
              "solidity": 0.2
             }
            },
            "type": "histogram"
           }
          ],
          "histogram2d": [
           {
            "colorbar": {
             "outlinewidth": 0,
             "ticks": ""
            },
            "colorscale": [
             [
              0,
              "#0d0887"
             ],
             [
              0.1111111111111111,
              "#46039f"
             ],
             [
              0.2222222222222222,
              "#7201a8"
             ],
             [
              0.3333333333333333,
              "#9c179e"
             ],
             [
              0.4444444444444444,
              "#bd3786"
             ],
             [
              0.5555555555555556,
              "#d8576b"
             ],
             [
              0.6666666666666666,
              "#ed7953"
             ],
             [
              0.7777777777777778,
              "#fb9f3a"
             ],
             [
              0.8888888888888888,
              "#fdca26"
             ],
             [
              1,
              "#f0f921"
             ]
            ],
            "type": "histogram2d"
           }
          ],
          "histogram2dcontour": [
           {
            "colorbar": {
             "outlinewidth": 0,
             "ticks": ""
            },
            "colorscale": [
             [
              0,
              "#0d0887"
             ],
             [
              0.1111111111111111,
              "#46039f"
             ],
             [
              0.2222222222222222,
              "#7201a8"
             ],
             [
              0.3333333333333333,
              "#9c179e"
             ],
             [
              0.4444444444444444,
              "#bd3786"
             ],
             [
              0.5555555555555556,
              "#d8576b"
             ],
             [
              0.6666666666666666,
              "#ed7953"
             ],
             [
              0.7777777777777778,
              "#fb9f3a"
             ],
             [
              0.8888888888888888,
              "#fdca26"
             ],
             [
              1,
              "#f0f921"
             ]
            ],
            "type": "histogram2dcontour"
           }
          ],
          "mesh3d": [
           {
            "colorbar": {
             "outlinewidth": 0,
             "ticks": ""
            },
            "type": "mesh3d"
           }
          ],
          "parcoords": [
           {
            "line": {
             "colorbar": {
              "outlinewidth": 0,
              "ticks": ""
             }
            },
            "type": "parcoords"
           }
          ],
          "pie": [
           {
            "automargin": true,
            "type": "pie"
           }
          ],
          "scatter": [
           {
            "marker": {
             "colorbar": {
              "outlinewidth": 0,
              "ticks": ""
             }
            },
            "type": "scatter"
           }
          ],
          "scatter3d": [
           {
            "line": {
             "colorbar": {
              "outlinewidth": 0,
              "ticks": ""
             }
            },
            "marker": {
             "colorbar": {
              "outlinewidth": 0,
              "ticks": ""
             }
            },
            "type": "scatter3d"
           }
          ],
          "scattercarpet": [
           {
            "marker": {
             "colorbar": {
              "outlinewidth": 0,
              "ticks": ""
             }
            },
            "type": "scattercarpet"
           }
          ],
          "scattergeo": [
           {
            "marker": {
             "colorbar": {
              "outlinewidth": 0,
              "ticks": ""
             }
            },
            "type": "scattergeo"
           }
          ],
          "scattergl": [
           {
            "marker": {
             "colorbar": {
              "outlinewidth": 0,
              "ticks": ""
             }
            },
            "type": "scattergl"
           }
          ],
          "scattermapbox": [
           {
            "marker": {
             "colorbar": {
              "outlinewidth": 0,
              "ticks": ""
             }
            },
            "type": "scattermapbox"
           }
          ],
          "scatterpolar": [
           {
            "marker": {
             "colorbar": {
              "outlinewidth": 0,
              "ticks": ""
             }
            },
            "type": "scatterpolar"
           }
          ],
          "scatterpolargl": [
           {
            "marker": {
             "colorbar": {
              "outlinewidth": 0,
              "ticks": ""
             }
            },
            "type": "scatterpolargl"
           }
          ],
          "scatterternary": [
           {
            "marker": {
             "colorbar": {
              "outlinewidth": 0,
              "ticks": ""
             }
            },
            "type": "scatterternary"
           }
          ],
          "surface": [
           {
            "colorbar": {
             "outlinewidth": 0,
             "ticks": ""
            },
            "colorscale": [
             [
              0,
              "#0d0887"
             ],
             [
              0.1111111111111111,
              "#46039f"
             ],
             [
              0.2222222222222222,
              "#7201a8"
             ],
             [
              0.3333333333333333,
              "#9c179e"
             ],
             [
              0.4444444444444444,
              "#bd3786"
             ],
             [
              0.5555555555555556,
              "#d8576b"
             ],
             [
              0.6666666666666666,
              "#ed7953"
             ],
             [
              0.7777777777777778,
              "#fb9f3a"
             ],
             [
              0.8888888888888888,
              "#fdca26"
             ],
             [
              1,
              "#f0f921"
             ]
            ],
            "type": "surface"
           }
          ],
          "table": [
           {
            "cells": {
             "fill": {
              "color": "#EBF0F8"
             },
             "line": {
              "color": "white"
             }
            },
            "header": {
             "fill": {
              "color": "#C8D4E3"
             },
             "line": {
              "color": "white"
             }
            },
            "type": "table"
           }
          ]
         },
         "layout": {
          "annotationdefaults": {
           "arrowcolor": "#2a3f5f",
           "arrowhead": 0,
           "arrowwidth": 1
          },
          "autotypenumbers": "strict",
          "coloraxis": {
           "colorbar": {
            "outlinewidth": 0,
            "ticks": ""
           }
          },
          "colorscale": {
           "diverging": [
            [
             0,
             "#8e0152"
            ],
            [
             0.1,
             "#c51b7d"
            ],
            [
             0.2,
             "#de77ae"
            ],
            [
             0.3,
             "#f1b6da"
            ],
            [
             0.4,
             "#fde0ef"
            ],
            [
             0.5,
             "#f7f7f7"
            ],
            [
             0.6,
             "#e6f5d0"
            ],
            [
             0.7,
             "#b8e186"
            ],
            [
             0.8,
             "#7fbc41"
            ],
            [
             0.9,
             "#4d9221"
            ],
            [
             1,
             "#276419"
            ]
           ],
           "sequential": [
            [
             0,
             "#0d0887"
            ],
            [
             0.1111111111111111,
             "#46039f"
            ],
            [
             0.2222222222222222,
             "#7201a8"
            ],
            [
             0.3333333333333333,
             "#9c179e"
            ],
            [
             0.4444444444444444,
             "#bd3786"
            ],
            [
             0.5555555555555556,
             "#d8576b"
            ],
            [
             0.6666666666666666,
             "#ed7953"
            ],
            [
             0.7777777777777778,
             "#fb9f3a"
            ],
            [
             0.8888888888888888,
             "#fdca26"
            ],
            [
             1,
             "#f0f921"
            ]
           ],
           "sequentialminus": [
            [
             0,
             "#0d0887"
            ],
            [
             0.1111111111111111,
             "#46039f"
            ],
            [
             0.2222222222222222,
             "#7201a8"
            ],
            [
             0.3333333333333333,
             "#9c179e"
            ],
            [
             0.4444444444444444,
             "#bd3786"
            ],
            [
             0.5555555555555556,
             "#d8576b"
            ],
            [
             0.6666666666666666,
             "#ed7953"
            ],
            [
             0.7777777777777778,
             "#fb9f3a"
            ],
            [
             0.8888888888888888,
             "#fdca26"
            ],
            [
             1,
             "#f0f921"
            ]
           ]
          },
          "colorway": [
           "#636efa",
           "#EF553B",
           "#00cc96",
           "#ab63fa",
           "#FFA15A",
           "#19d3f3",
           "#FF6692",
           "#B6E880",
           "#FF97FF",
           "#FECB52"
          ],
          "font": {
           "color": "#2a3f5f"
          },
          "geo": {
           "bgcolor": "white",
           "lakecolor": "white",
           "landcolor": "#E5ECF6",
           "showlakes": true,
           "showland": true,
           "subunitcolor": "white"
          },
          "hoverlabel": {
           "align": "left"
          },
          "hovermode": "closest",
          "mapbox": {
           "style": "light"
          },
          "paper_bgcolor": "white",
          "plot_bgcolor": "#E5ECF6",
          "polar": {
           "angularaxis": {
            "gridcolor": "white",
            "linecolor": "white",
            "ticks": ""
           },
           "bgcolor": "#E5ECF6",
           "radialaxis": {
            "gridcolor": "white",
            "linecolor": "white",
            "ticks": ""
           }
          },
          "scene": {
           "xaxis": {
            "backgroundcolor": "#E5ECF6",
            "gridcolor": "white",
            "gridwidth": 2,
            "linecolor": "white",
            "showbackground": true,
            "ticks": "",
            "zerolinecolor": "white"
           },
           "yaxis": {
            "backgroundcolor": "#E5ECF6",
            "gridcolor": "white",
            "gridwidth": 2,
            "linecolor": "white",
            "showbackground": true,
            "ticks": "",
            "zerolinecolor": "white"
           },
           "zaxis": {
            "backgroundcolor": "#E5ECF6",
            "gridcolor": "white",
            "gridwidth": 2,
            "linecolor": "white",
            "showbackground": true,
            "ticks": "",
            "zerolinecolor": "white"
           }
          },
          "shapedefaults": {
           "line": {
            "color": "#2a3f5f"
           }
          },
          "ternary": {
           "aaxis": {
            "gridcolor": "white",
            "linecolor": "white",
            "ticks": ""
           },
           "baxis": {
            "gridcolor": "white",
            "linecolor": "white",
            "ticks": ""
           },
           "bgcolor": "#E5ECF6",
           "caxis": {
            "gridcolor": "white",
            "linecolor": "white",
            "ticks": ""
           }
          },
          "title": {
           "x": 0.05
          },
          "xaxis": {
           "automargin": true,
           "gridcolor": "white",
           "linecolor": "white",
           "ticks": "",
           "title": {
            "standoff": 15
           },
           "zerolinecolor": "white",
           "zerolinewidth": 2
          },
          "yaxis": {
           "automargin": true,
           "gridcolor": "white",
           "linecolor": "white",
           "ticks": "",
           "title": {
            "standoff": 15
           },
           "zerolinecolor": "white",
           "zerolinewidth": 2
          }
         }
        },
        "title": {
         "text": "Recall (harsh def) in avante all facilities, 2021-01-15 to 2021-10-15"
        },
        "xaxis": {
         "anchor": "y",
         "domain": [
          0,
          1
         ],
         "range": [
          0,
          1
         ],
         "tickformat": ",.0%",
         "title": {
          "text": "Recall"
         }
        },
        "yaxis": {
         "anchor": "x",
         "autorange": "reversed",
         "domain": [
          0,
          1
         ],
         "title": {
          "text": "Length Of Stay"
         }
        }
       }
      },
      "text/html": [
       "<div>                            <div id=\"36da5047-2a03-4557-9468-b285baa915ca\" class=\"plotly-graph-div\" style=\"height:750px; width:100%;\"></div>            <script type=\"text/javascript\">                require([\"plotly\"], function(Plotly) {                    window.PLOTLYENV=window.PLOTLYENV || {};                                    if (document.getElementById(\"36da5047-2a03-4557-9468-b285baa915ca\")) {                    Plotly.newPlot(                        \"36da5047-2a03-4557-9468-b285baa915ca\",                        [{\"alignmentgroup\":\"True\",\"hovertemplate\":\"Recall=%{x}<br>Length Of Stay=%{y}<extra></extra>\",\"legendgroup\":\"\",\"marker\":{\"color\":\"#636efa\",\"pattern\":{\"shape\":\"\"}},\"name\":\"\",\"offsetgroup\":\"\",\"orientation\":\"h\",\"showlegend\":false,\"textposition\":\"outside\",\"type\":\"bar\",\"x\":[0.125,0.06666666666666667,0.1346153846153846,0.2624113475177305,0.3473053892215569,0.4088669950738916,0.45064377682403434,0.4943820224719101,0.5135135135135135,0.5295950155763239,0.5459770114942529,0.5588235294117647,0.5664160401002506,0.5727923627684964,0.5801354401805869,0.5879828326180258,0.5895833333333333,0.594758064516129,0.598825831702544,0.6030534351145038,0.601123595505618,0.599271402550091,0.598939929328622,0.6031195840554593,0.606473594548552,0.6023294509151415,0.6032786885245902,0.6012861736334405,0.5974643423137876,0.5965463108320251,0.5962732919254659,0.5954198473282443,0.594553706505295,0.5967016491754122,0.5979073243647235,0.5979228486646885,0.599112426035503,0.597953216374269,0.5974025974025974,0.5965665236051502,0.5909732016925247,0.5890603085553997,0.5864453665283541,0.585499316005472,0.5858310626702997,0.5853658536585366,0.5817694369973191,0.5813333333333334,0.582562747688243,0.5863874345549738,0.5838751625487646,0.5819354838709677,0.5772669220945083,0.5759493670886076,0.5768261964735516,0.5766331658291457,0.5764411027568922,0.5760598503740648,0.5749690210656754,0.5745992601726264,0.5751231527093597,0.5747549019607843,0.5740514075887393,0.5736906211936662,0.5728155339805825,0.5700483091787439,0.5691937424789411,0.5688622754491018,0.5668257756563246,0.5678571428571428,0.5671819262782402,0.566350710900474,0.566193853427896,0.5641931684334511,0.5652173913043478,0.5638921453692849,0.5637426900584795,0.5652680652680653,0.5662790697674419,0.5643105446118193,0.5641618497109827,0.5646651270207852,0.5640138408304498,0.5638665132336018,0.5625717566016073,0.5619266055045872,0.5611428571428572,0.5590909090909091,0.5584562996594779,0.5571913929784824,0.5546786922209695,0.5528089887640449,0.5515695067264574,0.5491071428571429,0.5484949832775919,0.5482796892341842,0.5481727574750831,0.5463576158940397,0.5451541850220264,0.5456545654565457,0.544456641053787,0.5449561403508771,0.5449561403508771,0.5443592552026287,0.5437636761487965,0.5436681222707423,0.5441657579062159,0.544069640914037,0.5434782608695652,0.5422993492407809,0.5422077922077922,0.541036717062635,0.541036717062635,0.540948275862069,0.540948275862069,0.540948275862069,0.5397849462365591,0.5397849462365591,0.5392051557465092,0.5390374331550802,0.4662218515429525],\"xaxis\":\"x\",\"y\":[\"<=0\",\"<=1\",\"<=2\",\"<=3\",\"<=4\",\"<=5\",\"<=6\",\"<=7\",\"<=8\",\"<=9\",\"<=10\",\"<=11\",\"<=12\",\"<=13\",\"<=14\",\"<=15\",\"<=16\",\"<=17\",\"<=18\",\"<=19\",\"<=20\",\"<=21\",\"<=22\",\"<=23\",\"<=24\",\"<=25\",\"<=26\",\"<=27\",\"<=28\",\"<=29\",\"<=30\",\"<=31\",\"<=32\",\"<=33\",\"<=34\",\"<=35\",\"<=36\",\"<=37\",\"<=38\",\"<=39\",\"<=40\",\"<=41\",\"<=42\",\"<=43\",\"<=44\",\"<=45\",\"<=46\",\"<=47\",\"<=48\",\"<=49\",\"<=50\",\"<=51\",\"<=52\",\"<=53\",\"<=54\",\"<=55\",\"<=56\",\"<=57\",\"<=58\",\"<=59\",\"<=60\",\"<=61\",\"<=62\",\"<=63\",\"<=64\",\"<=65\",\"<=66\",\"<=67\",\"<=68\",\"<=69\",\"<=70\",\"<=71\",\"<=72\",\"<=73\",\"<=74\",\"<=75\",\"<=76\",\"<=77\",\"<=78\",\"<=79\",\"<=80\",\"<=81\",\"<=82\",\"<=83\",\"<=84\",\"<=85\",\"<=86\",\"<=87\",\"<=88\",\"<=89\",\"<=90\",\"<=91\",\"<=92\",\"<=93\",\"<=94\",\"<=95\",\"<=96\",\"<=97\",\"<=98\",\"<=99\",\"<=100\",\"<=101\",\"<=102\",\"<=103\",\"<=104\",\"<=105\",\"<=106\",\"<=107\",\"<=108\",\"<=109\",\"<=110\",\"<=111\",\"<=112\",\"<=113\",\"<=114\",\"<=115\",\"<=116\",\"<=117\",\"<=118\",\"<=119\",\"All\"],\"yaxis\":\"y\"}],                        {\"barmode\":\"relative\",\"height\":750,\"legend\":{\"tracegroupgap\":0},\"template\":{\"data\":{\"bar\":[{\"error_x\":{\"color\":\"#2a3f5f\"},\"error_y\":{\"color\":\"#2a3f5f\"},\"marker\":{\"line\":{\"color\":\"#E5ECF6\",\"width\":0.5},\"pattern\":{\"fillmode\":\"overlay\",\"size\":10,\"solidity\":0.2}},\"type\":\"bar\"}],\"barpolar\":[{\"marker\":{\"line\":{\"color\":\"#E5ECF6\",\"width\":0.5},\"pattern\":{\"fillmode\":\"overlay\",\"size\":10,\"solidity\":0.2}},\"type\":\"barpolar\"}],\"carpet\":[{\"aaxis\":{\"endlinecolor\":\"#2a3f5f\",\"gridcolor\":\"white\",\"linecolor\":\"white\",\"minorgridcolor\":\"white\",\"startlinecolor\":\"#2a3f5f\"},\"baxis\":{\"endlinecolor\":\"#2a3f5f\",\"gridcolor\":\"white\",\"linecolor\":\"white\",\"minorgridcolor\":\"white\",\"startlinecolor\":\"#2a3f5f\"},\"type\":\"carpet\"}],\"choropleth\":[{\"colorbar\":{\"outlinewidth\":0,\"ticks\":\"\"},\"type\":\"choropleth\"}],\"contour\":[{\"colorbar\":{\"outlinewidth\":0,\"ticks\":\"\"},\"colorscale\":[[0.0,\"#0d0887\"],[0.1111111111111111,\"#46039f\"],[0.2222222222222222,\"#7201a8\"],[0.3333333333333333,\"#9c179e\"],[0.4444444444444444,\"#bd3786\"],[0.5555555555555556,\"#d8576b\"],[0.6666666666666666,\"#ed7953\"],[0.7777777777777778,\"#fb9f3a\"],[0.8888888888888888,\"#fdca26\"],[1.0,\"#f0f921\"]],\"type\":\"contour\"}],\"contourcarpet\":[{\"colorbar\":{\"outlinewidth\":0,\"ticks\":\"\"},\"type\":\"contourcarpet\"}],\"heatmap\":[{\"colorbar\":{\"outlinewidth\":0,\"ticks\":\"\"},\"colorscale\":[[0.0,\"#0d0887\"],[0.1111111111111111,\"#46039f\"],[0.2222222222222222,\"#7201a8\"],[0.3333333333333333,\"#9c179e\"],[0.4444444444444444,\"#bd3786\"],[0.5555555555555556,\"#d8576b\"],[0.6666666666666666,\"#ed7953\"],[0.7777777777777778,\"#fb9f3a\"],[0.8888888888888888,\"#fdca26\"],[1.0,\"#f0f921\"]],\"type\":\"heatmap\"}],\"heatmapgl\":[{\"colorbar\":{\"outlinewidth\":0,\"ticks\":\"\"},\"colorscale\":[[0.0,\"#0d0887\"],[0.1111111111111111,\"#46039f\"],[0.2222222222222222,\"#7201a8\"],[0.3333333333333333,\"#9c179e\"],[0.4444444444444444,\"#bd3786\"],[0.5555555555555556,\"#d8576b\"],[0.6666666666666666,\"#ed7953\"],[0.7777777777777778,\"#fb9f3a\"],[0.8888888888888888,\"#fdca26\"],[1.0,\"#f0f921\"]],\"type\":\"heatmapgl\"}],\"histogram\":[{\"marker\":{\"pattern\":{\"fillmode\":\"overlay\",\"size\":10,\"solidity\":0.2}},\"type\":\"histogram\"}],\"histogram2d\":[{\"colorbar\":{\"outlinewidth\":0,\"ticks\":\"\"},\"colorscale\":[[0.0,\"#0d0887\"],[0.1111111111111111,\"#46039f\"],[0.2222222222222222,\"#7201a8\"],[0.3333333333333333,\"#9c179e\"],[0.4444444444444444,\"#bd3786\"],[0.5555555555555556,\"#d8576b\"],[0.6666666666666666,\"#ed7953\"],[0.7777777777777778,\"#fb9f3a\"],[0.8888888888888888,\"#fdca26\"],[1.0,\"#f0f921\"]],\"type\":\"histogram2d\"}],\"histogram2dcontour\":[{\"colorbar\":{\"outlinewidth\":0,\"ticks\":\"\"},\"colorscale\":[[0.0,\"#0d0887\"],[0.1111111111111111,\"#46039f\"],[0.2222222222222222,\"#7201a8\"],[0.3333333333333333,\"#9c179e\"],[0.4444444444444444,\"#bd3786\"],[0.5555555555555556,\"#d8576b\"],[0.6666666666666666,\"#ed7953\"],[0.7777777777777778,\"#fb9f3a\"],[0.8888888888888888,\"#fdca26\"],[1.0,\"#f0f921\"]],\"type\":\"histogram2dcontour\"}],\"mesh3d\":[{\"colorbar\":{\"outlinewidth\":0,\"ticks\":\"\"},\"type\":\"mesh3d\"}],\"parcoords\":[{\"line\":{\"colorbar\":{\"outlinewidth\":0,\"ticks\":\"\"}},\"type\":\"parcoords\"}],\"pie\":[{\"automargin\":true,\"type\":\"pie\"}],\"scatter\":[{\"marker\":{\"colorbar\":{\"outlinewidth\":0,\"ticks\":\"\"}},\"type\":\"scatter\"}],\"scatter3d\":[{\"line\":{\"colorbar\":{\"outlinewidth\":0,\"ticks\":\"\"}},\"marker\":{\"colorbar\":{\"outlinewidth\":0,\"ticks\":\"\"}},\"type\":\"scatter3d\"}],\"scattercarpet\":[{\"marker\":{\"colorbar\":{\"outlinewidth\":0,\"ticks\":\"\"}},\"type\":\"scattercarpet\"}],\"scattergeo\":[{\"marker\":{\"colorbar\":{\"outlinewidth\":0,\"ticks\":\"\"}},\"type\":\"scattergeo\"}],\"scattergl\":[{\"marker\":{\"colorbar\":{\"outlinewidth\":0,\"ticks\":\"\"}},\"type\":\"scattergl\"}],\"scattermapbox\":[{\"marker\":{\"colorbar\":{\"outlinewidth\":0,\"ticks\":\"\"}},\"type\":\"scattermapbox\"}],\"scatterpolar\":[{\"marker\":{\"colorbar\":{\"outlinewidth\":0,\"ticks\":\"\"}},\"type\":\"scatterpolar\"}],\"scatterpolargl\":[{\"marker\":{\"colorbar\":{\"outlinewidth\":0,\"ticks\":\"\"}},\"type\":\"scatterpolargl\"}],\"scatterternary\":[{\"marker\":{\"colorbar\":{\"outlinewidth\":0,\"ticks\":\"\"}},\"type\":\"scatterternary\"}],\"surface\":[{\"colorbar\":{\"outlinewidth\":0,\"ticks\":\"\"},\"colorscale\":[[0.0,\"#0d0887\"],[0.1111111111111111,\"#46039f\"],[0.2222222222222222,\"#7201a8\"],[0.3333333333333333,\"#9c179e\"],[0.4444444444444444,\"#bd3786\"],[0.5555555555555556,\"#d8576b\"],[0.6666666666666666,\"#ed7953\"],[0.7777777777777778,\"#fb9f3a\"],[0.8888888888888888,\"#fdca26\"],[1.0,\"#f0f921\"]],\"type\":\"surface\"}],\"table\":[{\"cells\":{\"fill\":{\"color\":\"#EBF0F8\"},\"line\":{\"color\":\"white\"}},\"header\":{\"fill\":{\"color\":\"#C8D4E3\"},\"line\":{\"color\":\"white\"}},\"type\":\"table\"}]},\"layout\":{\"annotationdefaults\":{\"arrowcolor\":\"#2a3f5f\",\"arrowhead\":0,\"arrowwidth\":1},\"autotypenumbers\":\"strict\",\"coloraxis\":{\"colorbar\":{\"outlinewidth\":0,\"ticks\":\"\"}},\"colorscale\":{\"diverging\":[[0,\"#8e0152\"],[0.1,\"#c51b7d\"],[0.2,\"#de77ae\"],[0.3,\"#f1b6da\"],[0.4,\"#fde0ef\"],[0.5,\"#f7f7f7\"],[0.6,\"#e6f5d0\"],[0.7,\"#b8e186\"],[0.8,\"#7fbc41\"],[0.9,\"#4d9221\"],[1,\"#276419\"]],\"sequential\":[[0.0,\"#0d0887\"],[0.1111111111111111,\"#46039f\"],[0.2222222222222222,\"#7201a8\"],[0.3333333333333333,\"#9c179e\"],[0.4444444444444444,\"#bd3786\"],[0.5555555555555556,\"#d8576b\"],[0.6666666666666666,\"#ed7953\"],[0.7777777777777778,\"#fb9f3a\"],[0.8888888888888888,\"#fdca26\"],[1.0,\"#f0f921\"]],\"sequentialminus\":[[0.0,\"#0d0887\"],[0.1111111111111111,\"#46039f\"],[0.2222222222222222,\"#7201a8\"],[0.3333333333333333,\"#9c179e\"],[0.4444444444444444,\"#bd3786\"],[0.5555555555555556,\"#d8576b\"],[0.6666666666666666,\"#ed7953\"],[0.7777777777777778,\"#fb9f3a\"],[0.8888888888888888,\"#fdca26\"],[1.0,\"#f0f921\"]]},\"colorway\":[\"#636efa\",\"#EF553B\",\"#00cc96\",\"#ab63fa\",\"#FFA15A\",\"#19d3f3\",\"#FF6692\",\"#B6E880\",\"#FF97FF\",\"#FECB52\"],\"font\":{\"color\":\"#2a3f5f\"},\"geo\":{\"bgcolor\":\"white\",\"lakecolor\":\"white\",\"landcolor\":\"#E5ECF6\",\"showlakes\":true,\"showland\":true,\"subunitcolor\":\"white\"},\"hoverlabel\":{\"align\":\"left\"},\"hovermode\":\"closest\",\"mapbox\":{\"style\":\"light\"},\"paper_bgcolor\":\"white\",\"plot_bgcolor\":\"#E5ECF6\",\"polar\":{\"angularaxis\":{\"gridcolor\":\"white\",\"linecolor\":\"white\",\"ticks\":\"\"},\"bgcolor\":\"#E5ECF6\",\"radialaxis\":{\"gridcolor\":\"white\",\"linecolor\":\"white\",\"ticks\":\"\"}},\"scene\":{\"xaxis\":{\"backgroundcolor\":\"#E5ECF6\",\"gridcolor\":\"white\",\"gridwidth\":2,\"linecolor\":\"white\",\"showbackground\":true,\"ticks\":\"\",\"zerolinecolor\":\"white\"},\"yaxis\":{\"backgroundcolor\":\"#E5ECF6\",\"gridcolor\":\"white\",\"gridwidth\":2,\"linecolor\":\"white\",\"showbackground\":true,\"ticks\":\"\",\"zerolinecolor\":\"white\"},\"zaxis\":{\"backgroundcolor\":\"#E5ECF6\",\"gridcolor\":\"white\",\"gridwidth\":2,\"linecolor\":\"white\",\"showbackground\":true,\"ticks\":\"\",\"zerolinecolor\":\"white\"}},\"shapedefaults\":{\"line\":{\"color\":\"#2a3f5f\"}},\"ternary\":{\"aaxis\":{\"gridcolor\":\"white\",\"linecolor\":\"white\",\"ticks\":\"\"},\"baxis\":{\"gridcolor\":\"white\",\"linecolor\":\"white\",\"ticks\":\"\"},\"bgcolor\":\"#E5ECF6\",\"caxis\":{\"gridcolor\":\"white\",\"linecolor\":\"white\",\"ticks\":\"\"}},\"title\":{\"x\":0.05},\"xaxis\":{\"automargin\":true,\"gridcolor\":\"white\",\"linecolor\":\"white\",\"ticks\":\"\",\"title\":{\"standoff\":15},\"zerolinecolor\":\"white\",\"zerolinewidth\":2},\"yaxis\":{\"automargin\":true,\"gridcolor\":\"white\",\"linecolor\":\"white\",\"ticks\":\"\",\"title\":{\"standoff\":15},\"zerolinecolor\":\"white\",\"zerolinewidth\":2}}},\"title\":{\"text\":\"Recall (harsh def) in avante all facilities, 2021-01-15 to 2021-10-15\"},\"xaxis\":{\"anchor\":\"y\",\"domain\":[0.0,1.0],\"range\":[0,1],\"tickformat\":\",.0%\",\"title\":{\"text\":\"Recall\"}},\"yaxis\":{\"anchor\":\"x\",\"autorange\":\"reversed\",\"domain\":[0.0,1.0],\"title\":{\"text\":\"Length Of Stay\"}}},                        {\"responsive\": true}                    ).then(function(){\n",
       "                            \n",
       "var gd = document.getElementById('36da5047-2a03-4557-9468-b285baa915ca');\n",
       "var x = new MutationObserver(function (mutations, observer) {{\n",
       "        var display = window.getComputedStyle(gd).display;\n",
       "        if (!display || display === 'none') {{\n",
       "            console.log([gd, 'removed!']);\n",
       "            Plotly.purge(gd);\n",
       "            observer.disconnect();\n",
       "        }}\n",
       "}});\n",
       "\n",
       "// Listen for the removal of the full notebook cells\n",
       "var notebookContainer = gd.closest('#notebook-container');\n",
       "if (notebookContainer) {{\n",
       "    x.observe(notebookContainer, {childList: true});\n",
       "}}\n",
       "\n",
       "// Listen for the clearing of the current output cell\n",
       "var outputEl = gd.closest('.output');\n",
       "if (outputEl) {{\n",
       "    x.observe(outputEl, {childList: true});\n",
       "}}\n",
       "\n",
       "                        })                };                });            </script>        </div>"
      ]
     },
     "metadata": {},
     "output_type": "display_data"
    }
   ],
   "source": [
    "y = [f'<={i}' for i in range(0,121)]\n",
    "y[120] = 'All'\n",
    "\n",
    "fig = px.bar(\n",
    "    df, x=\"fraction_rth\", y=y, \n",
    "    labels={\n",
    "        'y':'Length Of Stay', \n",
    "        'fraction_rth': 'Recall'\n",
    "    }, \n",
    "    height=graph_height, orientation='h',\n",
    "    title=f\"Recall (harsh def) in {CLIENT} all facilities, {date_range}\"\n",
    ")\n",
    "fig['layout']['yaxis']['autorange'] = \"reversed\"\n",
    "fig['layout']['xaxis']['tickformat'] = ',.0%'\n",
    "fig['layout']['xaxis']['range'] = [0,1]\n",
    "fig.update_traces( textposition='outside')\n",
    "\n",
    "fig.show()\n"
   ]
  },
  {
   "cell_type": "markdown",
   "id": "88ce335e",
   "metadata": {},
   "source": [
    "## Harsh recall \">=1”, “>=2”, “>=3”, … “>=119”, “>=120”"
   ]
  },
  {
   "cell_type": "code",
   "execution_count": 30,
   "id": "4f90d1be",
   "metadata": {
    "scrolled": true
   },
   "outputs": [
    {
     "data": {
      "application/vnd.plotly.v1+json": {
       "config": {
        "plotlyServerURL": "https://plot.ly"
       },
       "data": [
        {
         "alignmentgroup": "True",
         "hovertemplate": "Recall=%{x}<br>Length Of Stay=%{y}<extra></extra>",
         "legendgroup": "",
         "marker": {
          "color": "#636efa",
          "pattern": {
           "shape": ""
          }
         },
         "name": "",
         "offsetgroup": "",
         "orientation": "h",
         "showlegend": false,
         "textposition": "outside",
         "type": "bar",
         "x": [
          0.4662218515429525,
          0.46851385390428213,
          0.4872695346795435,
          0.4977168949771689,
          0.4933837429111531,
          0.48546511627906974,
          0.4779116465863454,
          0.4699792960662526,
          0.4581545064377682,
          0.45071982281284606,
          0.4430523917995444,
          0.4336075205640423,
          0.42424242424242425,
          0.41625,
          0.40897435897435896,
          0.3994708994708995,
          0.3888130968622101,
          0.38386648122392214,
          0.3755334281650071,
          0.36773255813953487,
          0.36,
          0.35789473684210527,
          0.35384615384615387,
          0.34755134281200634,
          0.3392282958199357,
          0.33169934640522875,
          0.3294314381270903,
          0.3242784380305603,
          0.32062391681109187,
          0.3204225352112676,
          0.3185053380782918,
          0.3153153153153153,
          0.31066176470588236,
          0.30855018587360594,
          0.3026315789473684,
          0.3,
          0.29714285714285715,
          0.2944550669216061,
          0.2912621359223301,
          0.2865612648221344,
          0.284,
          0.2857142857142857,
          0.28600823045267487,
          0.28361344537815125,
          0.2799145299145299,
          0.27741935483870966,
          0.2754880694143167,
          0.27593818984547464,
          0.2739420935412027,
          0.2669683257918552,
          0.25517241379310346,
          0.2558139534883721,
          0.25471698113207547,
          0.25721153846153844,
          0.254278728606357,
          0.24938271604938272,
          0.24813895781637718,
          0.24688279301745636,
          0.24433249370277077,
          0.2423469387755102,
          0.23969072164948454,
          0.23772609819121446,
          0.2349869451697128,
          0.2356020942408377,
          0.2328042328042328,
          0.232,
          0.23450134770889489,
          0.23369565217391305,
          0.23076923076923078,
          0.23268698060941828,
          0.22841225626740946,
          0.22905027932960895,
          0.22816901408450704,
          0.22662889518413598,
          0.22857142857142856,
          0.22413793103448276,
          0.2254335260115607,
          0.2238372093023256,
          0.21700879765395895,
          0.21238938053097345,
          0.21428571428571427,
          0.2125748502994012,
          0.21021021021021022,
          0.21084337349397592,
          0.20909090909090908,
          0.21036585365853658,
          0.21100917431192662,
          0.20987654320987653,
          0.21003134796238246,
          0.21069182389937108,
          0.2120253164556962,
          0.21474358974358973,
          0.2168284789644013,
          0.2182410423452769,
          0.22112211221122113,
          0.22185430463576158,
          0.2181208053691275,
          0.21621621621621623,
          0.21843003412969283,
          0.21993127147766323,
          0.21724137931034482,
          0.21875,
          0.21602787456445993,
          0.21602787456445993,
          0.21678321678321677,
          0.21754385964912282,
          0.21554770318021202,
          0.2127659574468085,
          0.21071428571428572,
          0.2114695340501792,
          0.21299638989169675,
          0.2109090909090909,
          0.21245421245421245,
          0.21245421245421245,
          0.21033210332103322,
          0.21033210332103322,
          0.21033210332103322,
          0.21189591078066913,
          0.21189591078066913,
          0.2126865671641791,
          0.20833333333333334
         ],
         "xaxis": "x",
         "y": [
          "All",
          ">=1",
          ">=2",
          ">=3",
          ">=4",
          ">=5",
          ">=6",
          ">=7",
          ">=8",
          ">=9",
          ">=10",
          ">=11",
          ">=12",
          ">=13",
          ">=14",
          ">=15",
          ">=16",
          ">=17",
          ">=18",
          ">=19",
          ">=20",
          ">=21",
          ">=22",
          ">=23",
          ">=24",
          ">=25",
          ">=26",
          ">=27",
          ">=28",
          ">=29",
          ">=30",
          ">=31",
          ">=32",
          ">=33",
          ">=34",
          ">=35",
          ">=36",
          ">=37",
          ">=38",
          ">=39",
          ">=40",
          ">=41",
          ">=42",
          ">=43",
          ">=44",
          ">=45",
          ">=46",
          ">=47",
          ">=48",
          ">=49",
          ">=50",
          ">=51",
          ">=52",
          ">=53",
          ">=54",
          ">=55",
          ">=56",
          ">=57",
          ">=58",
          ">=59",
          ">=60",
          ">=61",
          ">=62",
          ">=63",
          ">=64",
          ">=65",
          ">=66",
          ">=67",
          ">=68",
          ">=69",
          ">=70",
          ">=71",
          ">=72",
          ">=73",
          ">=74",
          ">=75",
          ">=76",
          ">=77",
          ">=78",
          ">=79",
          ">=80",
          ">=81",
          ">=82",
          ">=83",
          ">=84",
          ">=85",
          ">=86",
          ">=87",
          ">=88",
          ">=89",
          ">=90",
          ">=91",
          ">=92",
          ">=93",
          ">=94",
          ">=95",
          ">=96",
          ">=97",
          ">=98",
          ">=99",
          ">=100",
          ">=101",
          ">=102",
          ">=103",
          ">=104",
          ">=105",
          ">=106",
          ">=107",
          ">=108",
          ">=109",
          ">=110",
          ">=111",
          ">=112",
          ">=113",
          ">=114",
          ">=115",
          ">=116",
          ">=117",
          ">=118",
          ">=119",
          ">=120"
         ],
         "yaxis": "y"
        }
       ],
       "layout": {
        "barmode": "relative",
        "height": 750,
        "legend": {
         "tracegroupgap": 0
        },
        "template": {
         "data": {
          "bar": [
           {
            "error_x": {
             "color": "#2a3f5f"
            },
            "error_y": {
             "color": "#2a3f5f"
            },
            "marker": {
             "line": {
              "color": "#E5ECF6",
              "width": 0.5
             },
             "pattern": {
              "fillmode": "overlay",
              "size": 10,
              "solidity": 0.2
             }
            },
            "type": "bar"
           }
          ],
          "barpolar": [
           {
            "marker": {
             "line": {
              "color": "#E5ECF6",
              "width": 0.5
             },
             "pattern": {
              "fillmode": "overlay",
              "size": 10,
              "solidity": 0.2
             }
            },
            "type": "barpolar"
           }
          ],
          "carpet": [
           {
            "aaxis": {
             "endlinecolor": "#2a3f5f",
             "gridcolor": "white",
             "linecolor": "white",
             "minorgridcolor": "white",
             "startlinecolor": "#2a3f5f"
            },
            "baxis": {
             "endlinecolor": "#2a3f5f",
             "gridcolor": "white",
             "linecolor": "white",
             "minorgridcolor": "white",
             "startlinecolor": "#2a3f5f"
            },
            "type": "carpet"
           }
          ],
          "choropleth": [
           {
            "colorbar": {
             "outlinewidth": 0,
             "ticks": ""
            },
            "type": "choropleth"
           }
          ],
          "contour": [
           {
            "colorbar": {
             "outlinewidth": 0,
             "ticks": ""
            },
            "colorscale": [
             [
              0,
              "#0d0887"
             ],
             [
              0.1111111111111111,
              "#46039f"
             ],
             [
              0.2222222222222222,
              "#7201a8"
             ],
             [
              0.3333333333333333,
              "#9c179e"
             ],
             [
              0.4444444444444444,
              "#bd3786"
             ],
             [
              0.5555555555555556,
              "#d8576b"
             ],
             [
              0.6666666666666666,
              "#ed7953"
             ],
             [
              0.7777777777777778,
              "#fb9f3a"
             ],
             [
              0.8888888888888888,
              "#fdca26"
             ],
             [
              1,
              "#f0f921"
             ]
            ],
            "type": "contour"
           }
          ],
          "contourcarpet": [
           {
            "colorbar": {
             "outlinewidth": 0,
             "ticks": ""
            },
            "type": "contourcarpet"
           }
          ],
          "heatmap": [
           {
            "colorbar": {
             "outlinewidth": 0,
             "ticks": ""
            },
            "colorscale": [
             [
              0,
              "#0d0887"
             ],
             [
              0.1111111111111111,
              "#46039f"
             ],
             [
              0.2222222222222222,
              "#7201a8"
             ],
             [
              0.3333333333333333,
              "#9c179e"
             ],
             [
              0.4444444444444444,
              "#bd3786"
             ],
             [
              0.5555555555555556,
              "#d8576b"
             ],
             [
              0.6666666666666666,
              "#ed7953"
             ],
             [
              0.7777777777777778,
              "#fb9f3a"
             ],
             [
              0.8888888888888888,
              "#fdca26"
             ],
             [
              1,
              "#f0f921"
             ]
            ],
            "type": "heatmap"
           }
          ],
          "heatmapgl": [
           {
            "colorbar": {
             "outlinewidth": 0,
             "ticks": ""
            },
            "colorscale": [
             [
              0,
              "#0d0887"
             ],
             [
              0.1111111111111111,
              "#46039f"
             ],
             [
              0.2222222222222222,
              "#7201a8"
             ],
             [
              0.3333333333333333,
              "#9c179e"
             ],
             [
              0.4444444444444444,
              "#bd3786"
             ],
             [
              0.5555555555555556,
              "#d8576b"
             ],
             [
              0.6666666666666666,
              "#ed7953"
             ],
             [
              0.7777777777777778,
              "#fb9f3a"
             ],
             [
              0.8888888888888888,
              "#fdca26"
             ],
             [
              1,
              "#f0f921"
             ]
            ],
            "type": "heatmapgl"
           }
          ],
          "histogram": [
           {
            "marker": {
             "pattern": {
              "fillmode": "overlay",
              "size": 10,
              "solidity": 0.2
             }
            },
            "type": "histogram"
           }
          ],
          "histogram2d": [
           {
            "colorbar": {
             "outlinewidth": 0,
             "ticks": ""
            },
            "colorscale": [
             [
              0,
              "#0d0887"
             ],
             [
              0.1111111111111111,
              "#46039f"
             ],
             [
              0.2222222222222222,
              "#7201a8"
             ],
             [
              0.3333333333333333,
              "#9c179e"
             ],
             [
              0.4444444444444444,
              "#bd3786"
             ],
             [
              0.5555555555555556,
              "#d8576b"
             ],
             [
              0.6666666666666666,
              "#ed7953"
             ],
             [
              0.7777777777777778,
              "#fb9f3a"
             ],
             [
              0.8888888888888888,
              "#fdca26"
             ],
             [
              1,
              "#f0f921"
             ]
            ],
            "type": "histogram2d"
           }
          ],
          "histogram2dcontour": [
           {
            "colorbar": {
             "outlinewidth": 0,
             "ticks": ""
            },
            "colorscale": [
             [
              0,
              "#0d0887"
             ],
             [
              0.1111111111111111,
              "#46039f"
             ],
             [
              0.2222222222222222,
              "#7201a8"
             ],
             [
              0.3333333333333333,
              "#9c179e"
             ],
             [
              0.4444444444444444,
              "#bd3786"
             ],
             [
              0.5555555555555556,
              "#d8576b"
             ],
             [
              0.6666666666666666,
              "#ed7953"
             ],
             [
              0.7777777777777778,
              "#fb9f3a"
             ],
             [
              0.8888888888888888,
              "#fdca26"
             ],
             [
              1,
              "#f0f921"
             ]
            ],
            "type": "histogram2dcontour"
           }
          ],
          "mesh3d": [
           {
            "colorbar": {
             "outlinewidth": 0,
             "ticks": ""
            },
            "type": "mesh3d"
           }
          ],
          "parcoords": [
           {
            "line": {
             "colorbar": {
              "outlinewidth": 0,
              "ticks": ""
             }
            },
            "type": "parcoords"
           }
          ],
          "pie": [
           {
            "automargin": true,
            "type": "pie"
           }
          ],
          "scatter": [
           {
            "marker": {
             "colorbar": {
              "outlinewidth": 0,
              "ticks": ""
             }
            },
            "type": "scatter"
           }
          ],
          "scatter3d": [
           {
            "line": {
             "colorbar": {
              "outlinewidth": 0,
              "ticks": ""
             }
            },
            "marker": {
             "colorbar": {
              "outlinewidth": 0,
              "ticks": ""
             }
            },
            "type": "scatter3d"
           }
          ],
          "scattercarpet": [
           {
            "marker": {
             "colorbar": {
              "outlinewidth": 0,
              "ticks": ""
             }
            },
            "type": "scattercarpet"
           }
          ],
          "scattergeo": [
           {
            "marker": {
             "colorbar": {
              "outlinewidth": 0,
              "ticks": ""
             }
            },
            "type": "scattergeo"
           }
          ],
          "scattergl": [
           {
            "marker": {
             "colorbar": {
              "outlinewidth": 0,
              "ticks": ""
             }
            },
            "type": "scattergl"
           }
          ],
          "scattermapbox": [
           {
            "marker": {
             "colorbar": {
              "outlinewidth": 0,
              "ticks": ""
             }
            },
            "type": "scattermapbox"
           }
          ],
          "scatterpolar": [
           {
            "marker": {
             "colorbar": {
              "outlinewidth": 0,
              "ticks": ""
             }
            },
            "type": "scatterpolar"
           }
          ],
          "scatterpolargl": [
           {
            "marker": {
             "colorbar": {
              "outlinewidth": 0,
              "ticks": ""
             }
            },
            "type": "scatterpolargl"
           }
          ],
          "scatterternary": [
           {
            "marker": {
             "colorbar": {
              "outlinewidth": 0,
              "ticks": ""
             }
            },
            "type": "scatterternary"
           }
          ],
          "surface": [
           {
            "colorbar": {
             "outlinewidth": 0,
             "ticks": ""
            },
            "colorscale": [
             [
              0,
              "#0d0887"
             ],
             [
              0.1111111111111111,
              "#46039f"
             ],
             [
              0.2222222222222222,
              "#7201a8"
             ],
             [
              0.3333333333333333,
              "#9c179e"
             ],
             [
              0.4444444444444444,
              "#bd3786"
             ],
             [
              0.5555555555555556,
              "#d8576b"
             ],
             [
              0.6666666666666666,
              "#ed7953"
             ],
             [
              0.7777777777777778,
              "#fb9f3a"
             ],
             [
              0.8888888888888888,
              "#fdca26"
             ],
             [
              1,
              "#f0f921"
             ]
            ],
            "type": "surface"
           }
          ],
          "table": [
           {
            "cells": {
             "fill": {
              "color": "#EBF0F8"
             },
             "line": {
              "color": "white"
             }
            },
            "header": {
             "fill": {
              "color": "#C8D4E3"
             },
             "line": {
              "color": "white"
             }
            },
            "type": "table"
           }
          ]
         },
         "layout": {
          "annotationdefaults": {
           "arrowcolor": "#2a3f5f",
           "arrowhead": 0,
           "arrowwidth": 1
          },
          "autotypenumbers": "strict",
          "coloraxis": {
           "colorbar": {
            "outlinewidth": 0,
            "ticks": ""
           }
          },
          "colorscale": {
           "diverging": [
            [
             0,
             "#8e0152"
            ],
            [
             0.1,
             "#c51b7d"
            ],
            [
             0.2,
             "#de77ae"
            ],
            [
             0.3,
             "#f1b6da"
            ],
            [
             0.4,
             "#fde0ef"
            ],
            [
             0.5,
             "#f7f7f7"
            ],
            [
             0.6,
             "#e6f5d0"
            ],
            [
             0.7,
             "#b8e186"
            ],
            [
             0.8,
             "#7fbc41"
            ],
            [
             0.9,
             "#4d9221"
            ],
            [
             1,
             "#276419"
            ]
           ],
           "sequential": [
            [
             0,
             "#0d0887"
            ],
            [
             0.1111111111111111,
             "#46039f"
            ],
            [
             0.2222222222222222,
             "#7201a8"
            ],
            [
             0.3333333333333333,
             "#9c179e"
            ],
            [
             0.4444444444444444,
             "#bd3786"
            ],
            [
             0.5555555555555556,
             "#d8576b"
            ],
            [
             0.6666666666666666,
             "#ed7953"
            ],
            [
             0.7777777777777778,
             "#fb9f3a"
            ],
            [
             0.8888888888888888,
             "#fdca26"
            ],
            [
             1,
             "#f0f921"
            ]
           ],
           "sequentialminus": [
            [
             0,
             "#0d0887"
            ],
            [
             0.1111111111111111,
             "#46039f"
            ],
            [
             0.2222222222222222,
             "#7201a8"
            ],
            [
             0.3333333333333333,
             "#9c179e"
            ],
            [
             0.4444444444444444,
             "#bd3786"
            ],
            [
             0.5555555555555556,
             "#d8576b"
            ],
            [
             0.6666666666666666,
             "#ed7953"
            ],
            [
             0.7777777777777778,
             "#fb9f3a"
            ],
            [
             0.8888888888888888,
             "#fdca26"
            ],
            [
             1,
             "#f0f921"
            ]
           ]
          },
          "colorway": [
           "#636efa",
           "#EF553B",
           "#00cc96",
           "#ab63fa",
           "#FFA15A",
           "#19d3f3",
           "#FF6692",
           "#B6E880",
           "#FF97FF",
           "#FECB52"
          ],
          "font": {
           "color": "#2a3f5f"
          },
          "geo": {
           "bgcolor": "white",
           "lakecolor": "white",
           "landcolor": "#E5ECF6",
           "showlakes": true,
           "showland": true,
           "subunitcolor": "white"
          },
          "hoverlabel": {
           "align": "left"
          },
          "hovermode": "closest",
          "mapbox": {
           "style": "light"
          },
          "paper_bgcolor": "white",
          "plot_bgcolor": "#E5ECF6",
          "polar": {
           "angularaxis": {
            "gridcolor": "white",
            "linecolor": "white",
            "ticks": ""
           },
           "bgcolor": "#E5ECF6",
           "radialaxis": {
            "gridcolor": "white",
            "linecolor": "white",
            "ticks": ""
           }
          },
          "scene": {
           "xaxis": {
            "backgroundcolor": "#E5ECF6",
            "gridcolor": "white",
            "gridwidth": 2,
            "linecolor": "white",
            "showbackground": true,
            "ticks": "",
            "zerolinecolor": "white"
           },
           "yaxis": {
            "backgroundcolor": "#E5ECF6",
            "gridcolor": "white",
            "gridwidth": 2,
            "linecolor": "white",
            "showbackground": true,
            "ticks": "",
            "zerolinecolor": "white"
           },
           "zaxis": {
            "backgroundcolor": "#E5ECF6",
            "gridcolor": "white",
            "gridwidth": 2,
            "linecolor": "white",
            "showbackground": true,
            "ticks": "",
            "zerolinecolor": "white"
           }
          },
          "shapedefaults": {
           "line": {
            "color": "#2a3f5f"
           }
          },
          "ternary": {
           "aaxis": {
            "gridcolor": "white",
            "linecolor": "white",
            "ticks": ""
           },
           "baxis": {
            "gridcolor": "white",
            "linecolor": "white",
            "ticks": ""
           },
           "bgcolor": "#E5ECF6",
           "caxis": {
            "gridcolor": "white",
            "linecolor": "white",
            "ticks": ""
           }
          },
          "title": {
           "x": 0.05
          },
          "xaxis": {
           "automargin": true,
           "gridcolor": "white",
           "linecolor": "white",
           "ticks": "",
           "title": {
            "standoff": 15
           },
           "zerolinecolor": "white",
           "zerolinewidth": 2
          },
          "yaxis": {
           "automargin": true,
           "gridcolor": "white",
           "linecolor": "white",
           "ticks": "",
           "title": {
            "standoff": 15
           },
           "zerolinecolor": "white",
           "zerolinewidth": 2
          }
         }
        },
        "title": {
         "text": "Recall (harsh def) in avante all facilities, 2021-01-15 to 2021-10-15"
        },
        "xaxis": {
         "anchor": "y",
         "domain": [
          0,
          1
         ],
         "range": [
          0,
          1
         ],
         "tickformat": ",.0%",
         "title": {
          "text": "Recall"
         }
        },
        "yaxis": {
         "anchor": "x",
         "autorange": "reversed",
         "domain": [
          0,
          1
         ],
         "title": {
          "text": "Length Of Stay"
         }
        }
       }
      },
      "text/html": [
       "<div>                            <div id=\"1fa4c138-227f-42a9-9b63-0cfe280f7ae7\" class=\"plotly-graph-div\" style=\"height:750px; width:100%;\"></div>            <script type=\"text/javascript\">                require([\"plotly\"], function(Plotly) {                    window.PLOTLYENV=window.PLOTLYENV || {};                                    if (document.getElementById(\"1fa4c138-227f-42a9-9b63-0cfe280f7ae7\")) {                    Plotly.newPlot(                        \"1fa4c138-227f-42a9-9b63-0cfe280f7ae7\",                        [{\"alignmentgroup\":\"True\",\"hovertemplate\":\"Recall=%{x}<br>Length Of Stay=%{y}<extra></extra>\",\"legendgroup\":\"\",\"marker\":{\"color\":\"#636efa\",\"pattern\":{\"shape\":\"\"}},\"name\":\"\",\"offsetgroup\":\"\",\"orientation\":\"h\",\"showlegend\":false,\"textposition\":\"outside\",\"type\":\"bar\",\"x\":[0.4662218515429525,0.46851385390428213,0.4872695346795435,0.4977168949771689,0.4933837429111531,0.48546511627906974,0.4779116465863454,0.4699792960662526,0.4581545064377682,0.45071982281284606,0.4430523917995444,0.4336075205640423,0.42424242424242425,0.41625,0.40897435897435896,0.3994708994708995,0.3888130968622101,0.38386648122392214,0.3755334281650071,0.36773255813953487,0.36,0.35789473684210527,0.35384615384615387,0.34755134281200634,0.3392282958199357,0.33169934640522875,0.3294314381270903,0.3242784380305603,0.32062391681109187,0.3204225352112676,0.3185053380782918,0.3153153153153153,0.31066176470588236,0.30855018587360594,0.3026315789473684,0.3,0.29714285714285715,0.2944550669216061,0.2912621359223301,0.2865612648221344,0.284,0.2857142857142857,0.28600823045267487,0.28361344537815125,0.2799145299145299,0.27741935483870966,0.2754880694143167,0.27593818984547464,0.2739420935412027,0.2669683257918552,0.25517241379310346,0.2558139534883721,0.25471698113207547,0.25721153846153844,0.254278728606357,0.24938271604938272,0.24813895781637718,0.24688279301745636,0.24433249370277077,0.2423469387755102,0.23969072164948454,0.23772609819121446,0.2349869451697128,0.2356020942408377,0.2328042328042328,0.232,0.23450134770889489,0.23369565217391305,0.23076923076923078,0.23268698060941828,0.22841225626740946,0.22905027932960895,0.22816901408450704,0.22662889518413598,0.22857142857142856,0.22413793103448276,0.2254335260115607,0.2238372093023256,0.21700879765395895,0.21238938053097345,0.21428571428571427,0.2125748502994012,0.21021021021021022,0.21084337349397592,0.20909090909090908,0.21036585365853658,0.21100917431192662,0.20987654320987653,0.21003134796238246,0.21069182389937108,0.2120253164556962,0.21474358974358973,0.2168284789644013,0.2182410423452769,0.22112211221122113,0.22185430463576158,0.2181208053691275,0.21621621621621623,0.21843003412969283,0.21993127147766323,0.21724137931034482,0.21875,0.21602787456445993,0.21602787456445993,0.21678321678321677,0.21754385964912282,0.21554770318021202,0.2127659574468085,0.21071428571428572,0.2114695340501792,0.21299638989169675,0.2109090909090909,0.21245421245421245,0.21245421245421245,0.21033210332103322,0.21033210332103322,0.21033210332103322,0.21189591078066913,0.21189591078066913,0.2126865671641791,0.20833333333333334],\"xaxis\":\"x\",\"y\":[\"All\",\">=1\",\">=2\",\">=3\",\">=4\",\">=5\",\">=6\",\">=7\",\">=8\",\">=9\",\">=10\",\">=11\",\">=12\",\">=13\",\">=14\",\">=15\",\">=16\",\">=17\",\">=18\",\">=19\",\">=20\",\">=21\",\">=22\",\">=23\",\">=24\",\">=25\",\">=26\",\">=27\",\">=28\",\">=29\",\">=30\",\">=31\",\">=32\",\">=33\",\">=34\",\">=35\",\">=36\",\">=37\",\">=38\",\">=39\",\">=40\",\">=41\",\">=42\",\">=43\",\">=44\",\">=45\",\">=46\",\">=47\",\">=48\",\">=49\",\">=50\",\">=51\",\">=52\",\">=53\",\">=54\",\">=55\",\">=56\",\">=57\",\">=58\",\">=59\",\">=60\",\">=61\",\">=62\",\">=63\",\">=64\",\">=65\",\">=66\",\">=67\",\">=68\",\">=69\",\">=70\",\">=71\",\">=72\",\">=73\",\">=74\",\">=75\",\">=76\",\">=77\",\">=78\",\">=79\",\">=80\",\">=81\",\">=82\",\">=83\",\">=84\",\">=85\",\">=86\",\">=87\",\">=88\",\">=89\",\">=90\",\">=91\",\">=92\",\">=93\",\">=94\",\">=95\",\">=96\",\">=97\",\">=98\",\">=99\",\">=100\",\">=101\",\">=102\",\">=103\",\">=104\",\">=105\",\">=106\",\">=107\",\">=108\",\">=109\",\">=110\",\">=111\",\">=112\",\">=113\",\">=114\",\">=115\",\">=116\",\">=117\",\">=118\",\">=119\",\">=120\"],\"yaxis\":\"y\"}],                        {\"barmode\":\"relative\",\"height\":750,\"legend\":{\"tracegroupgap\":0},\"template\":{\"data\":{\"bar\":[{\"error_x\":{\"color\":\"#2a3f5f\"},\"error_y\":{\"color\":\"#2a3f5f\"},\"marker\":{\"line\":{\"color\":\"#E5ECF6\",\"width\":0.5},\"pattern\":{\"fillmode\":\"overlay\",\"size\":10,\"solidity\":0.2}},\"type\":\"bar\"}],\"barpolar\":[{\"marker\":{\"line\":{\"color\":\"#E5ECF6\",\"width\":0.5},\"pattern\":{\"fillmode\":\"overlay\",\"size\":10,\"solidity\":0.2}},\"type\":\"barpolar\"}],\"carpet\":[{\"aaxis\":{\"endlinecolor\":\"#2a3f5f\",\"gridcolor\":\"white\",\"linecolor\":\"white\",\"minorgridcolor\":\"white\",\"startlinecolor\":\"#2a3f5f\"},\"baxis\":{\"endlinecolor\":\"#2a3f5f\",\"gridcolor\":\"white\",\"linecolor\":\"white\",\"minorgridcolor\":\"white\",\"startlinecolor\":\"#2a3f5f\"},\"type\":\"carpet\"}],\"choropleth\":[{\"colorbar\":{\"outlinewidth\":0,\"ticks\":\"\"},\"type\":\"choropleth\"}],\"contour\":[{\"colorbar\":{\"outlinewidth\":0,\"ticks\":\"\"},\"colorscale\":[[0.0,\"#0d0887\"],[0.1111111111111111,\"#46039f\"],[0.2222222222222222,\"#7201a8\"],[0.3333333333333333,\"#9c179e\"],[0.4444444444444444,\"#bd3786\"],[0.5555555555555556,\"#d8576b\"],[0.6666666666666666,\"#ed7953\"],[0.7777777777777778,\"#fb9f3a\"],[0.8888888888888888,\"#fdca26\"],[1.0,\"#f0f921\"]],\"type\":\"contour\"}],\"contourcarpet\":[{\"colorbar\":{\"outlinewidth\":0,\"ticks\":\"\"},\"type\":\"contourcarpet\"}],\"heatmap\":[{\"colorbar\":{\"outlinewidth\":0,\"ticks\":\"\"},\"colorscale\":[[0.0,\"#0d0887\"],[0.1111111111111111,\"#46039f\"],[0.2222222222222222,\"#7201a8\"],[0.3333333333333333,\"#9c179e\"],[0.4444444444444444,\"#bd3786\"],[0.5555555555555556,\"#d8576b\"],[0.6666666666666666,\"#ed7953\"],[0.7777777777777778,\"#fb9f3a\"],[0.8888888888888888,\"#fdca26\"],[1.0,\"#f0f921\"]],\"type\":\"heatmap\"}],\"heatmapgl\":[{\"colorbar\":{\"outlinewidth\":0,\"ticks\":\"\"},\"colorscale\":[[0.0,\"#0d0887\"],[0.1111111111111111,\"#46039f\"],[0.2222222222222222,\"#7201a8\"],[0.3333333333333333,\"#9c179e\"],[0.4444444444444444,\"#bd3786\"],[0.5555555555555556,\"#d8576b\"],[0.6666666666666666,\"#ed7953\"],[0.7777777777777778,\"#fb9f3a\"],[0.8888888888888888,\"#fdca26\"],[1.0,\"#f0f921\"]],\"type\":\"heatmapgl\"}],\"histogram\":[{\"marker\":{\"pattern\":{\"fillmode\":\"overlay\",\"size\":10,\"solidity\":0.2}},\"type\":\"histogram\"}],\"histogram2d\":[{\"colorbar\":{\"outlinewidth\":0,\"ticks\":\"\"},\"colorscale\":[[0.0,\"#0d0887\"],[0.1111111111111111,\"#46039f\"],[0.2222222222222222,\"#7201a8\"],[0.3333333333333333,\"#9c179e\"],[0.4444444444444444,\"#bd3786\"],[0.5555555555555556,\"#d8576b\"],[0.6666666666666666,\"#ed7953\"],[0.7777777777777778,\"#fb9f3a\"],[0.8888888888888888,\"#fdca26\"],[1.0,\"#f0f921\"]],\"type\":\"histogram2d\"}],\"histogram2dcontour\":[{\"colorbar\":{\"outlinewidth\":0,\"ticks\":\"\"},\"colorscale\":[[0.0,\"#0d0887\"],[0.1111111111111111,\"#46039f\"],[0.2222222222222222,\"#7201a8\"],[0.3333333333333333,\"#9c179e\"],[0.4444444444444444,\"#bd3786\"],[0.5555555555555556,\"#d8576b\"],[0.6666666666666666,\"#ed7953\"],[0.7777777777777778,\"#fb9f3a\"],[0.8888888888888888,\"#fdca26\"],[1.0,\"#f0f921\"]],\"type\":\"histogram2dcontour\"}],\"mesh3d\":[{\"colorbar\":{\"outlinewidth\":0,\"ticks\":\"\"},\"type\":\"mesh3d\"}],\"parcoords\":[{\"line\":{\"colorbar\":{\"outlinewidth\":0,\"ticks\":\"\"}},\"type\":\"parcoords\"}],\"pie\":[{\"automargin\":true,\"type\":\"pie\"}],\"scatter\":[{\"marker\":{\"colorbar\":{\"outlinewidth\":0,\"ticks\":\"\"}},\"type\":\"scatter\"}],\"scatter3d\":[{\"line\":{\"colorbar\":{\"outlinewidth\":0,\"ticks\":\"\"}},\"marker\":{\"colorbar\":{\"outlinewidth\":0,\"ticks\":\"\"}},\"type\":\"scatter3d\"}],\"scattercarpet\":[{\"marker\":{\"colorbar\":{\"outlinewidth\":0,\"ticks\":\"\"}},\"type\":\"scattercarpet\"}],\"scattergeo\":[{\"marker\":{\"colorbar\":{\"outlinewidth\":0,\"ticks\":\"\"}},\"type\":\"scattergeo\"}],\"scattergl\":[{\"marker\":{\"colorbar\":{\"outlinewidth\":0,\"ticks\":\"\"}},\"type\":\"scattergl\"}],\"scattermapbox\":[{\"marker\":{\"colorbar\":{\"outlinewidth\":0,\"ticks\":\"\"}},\"type\":\"scattermapbox\"}],\"scatterpolar\":[{\"marker\":{\"colorbar\":{\"outlinewidth\":0,\"ticks\":\"\"}},\"type\":\"scatterpolar\"}],\"scatterpolargl\":[{\"marker\":{\"colorbar\":{\"outlinewidth\":0,\"ticks\":\"\"}},\"type\":\"scatterpolargl\"}],\"scatterternary\":[{\"marker\":{\"colorbar\":{\"outlinewidth\":0,\"ticks\":\"\"}},\"type\":\"scatterternary\"}],\"surface\":[{\"colorbar\":{\"outlinewidth\":0,\"ticks\":\"\"},\"colorscale\":[[0.0,\"#0d0887\"],[0.1111111111111111,\"#46039f\"],[0.2222222222222222,\"#7201a8\"],[0.3333333333333333,\"#9c179e\"],[0.4444444444444444,\"#bd3786\"],[0.5555555555555556,\"#d8576b\"],[0.6666666666666666,\"#ed7953\"],[0.7777777777777778,\"#fb9f3a\"],[0.8888888888888888,\"#fdca26\"],[1.0,\"#f0f921\"]],\"type\":\"surface\"}],\"table\":[{\"cells\":{\"fill\":{\"color\":\"#EBF0F8\"},\"line\":{\"color\":\"white\"}},\"header\":{\"fill\":{\"color\":\"#C8D4E3\"},\"line\":{\"color\":\"white\"}},\"type\":\"table\"}]},\"layout\":{\"annotationdefaults\":{\"arrowcolor\":\"#2a3f5f\",\"arrowhead\":0,\"arrowwidth\":1},\"autotypenumbers\":\"strict\",\"coloraxis\":{\"colorbar\":{\"outlinewidth\":0,\"ticks\":\"\"}},\"colorscale\":{\"diverging\":[[0,\"#8e0152\"],[0.1,\"#c51b7d\"],[0.2,\"#de77ae\"],[0.3,\"#f1b6da\"],[0.4,\"#fde0ef\"],[0.5,\"#f7f7f7\"],[0.6,\"#e6f5d0\"],[0.7,\"#b8e186\"],[0.8,\"#7fbc41\"],[0.9,\"#4d9221\"],[1,\"#276419\"]],\"sequential\":[[0.0,\"#0d0887\"],[0.1111111111111111,\"#46039f\"],[0.2222222222222222,\"#7201a8\"],[0.3333333333333333,\"#9c179e\"],[0.4444444444444444,\"#bd3786\"],[0.5555555555555556,\"#d8576b\"],[0.6666666666666666,\"#ed7953\"],[0.7777777777777778,\"#fb9f3a\"],[0.8888888888888888,\"#fdca26\"],[1.0,\"#f0f921\"]],\"sequentialminus\":[[0.0,\"#0d0887\"],[0.1111111111111111,\"#46039f\"],[0.2222222222222222,\"#7201a8\"],[0.3333333333333333,\"#9c179e\"],[0.4444444444444444,\"#bd3786\"],[0.5555555555555556,\"#d8576b\"],[0.6666666666666666,\"#ed7953\"],[0.7777777777777778,\"#fb9f3a\"],[0.8888888888888888,\"#fdca26\"],[1.0,\"#f0f921\"]]},\"colorway\":[\"#636efa\",\"#EF553B\",\"#00cc96\",\"#ab63fa\",\"#FFA15A\",\"#19d3f3\",\"#FF6692\",\"#B6E880\",\"#FF97FF\",\"#FECB52\"],\"font\":{\"color\":\"#2a3f5f\"},\"geo\":{\"bgcolor\":\"white\",\"lakecolor\":\"white\",\"landcolor\":\"#E5ECF6\",\"showlakes\":true,\"showland\":true,\"subunitcolor\":\"white\"},\"hoverlabel\":{\"align\":\"left\"},\"hovermode\":\"closest\",\"mapbox\":{\"style\":\"light\"},\"paper_bgcolor\":\"white\",\"plot_bgcolor\":\"#E5ECF6\",\"polar\":{\"angularaxis\":{\"gridcolor\":\"white\",\"linecolor\":\"white\",\"ticks\":\"\"},\"bgcolor\":\"#E5ECF6\",\"radialaxis\":{\"gridcolor\":\"white\",\"linecolor\":\"white\",\"ticks\":\"\"}},\"scene\":{\"xaxis\":{\"backgroundcolor\":\"#E5ECF6\",\"gridcolor\":\"white\",\"gridwidth\":2,\"linecolor\":\"white\",\"showbackground\":true,\"ticks\":\"\",\"zerolinecolor\":\"white\"},\"yaxis\":{\"backgroundcolor\":\"#E5ECF6\",\"gridcolor\":\"white\",\"gridwidth\":2,\"linecolor\":\"white\",\"showbackground\":true,\"ticks\":\"\",\"zerolinecolor\":\"white\"},\"zaxis\":{\"backgroundcolor\":\"#E5ECF6\",\"gridcolor\":\"white\",\"gridwidth\":2,\"linecolor\":\"white\",\"showbackground\":true,\"ticks\":\"\",\"zerolinecolor\":\"white\"}},\"shapedefaults\":{\"line\":{\"color\":\"#2a3f5f\"}},\"ternary\":{\"aaxis\":{\"gridcolor\":\"white\",\"linecolor\":\"white\",\"ticks\":\"\"},\"baxis\":{\"gridcolor\":\"white\",\"linecolor\":\"white\",\"ticks\":\"\"},\"bgcolor\":\"#E5ECF6\",\"caxis\":{\"gridcolor\":\"white\",\"linecolor\":\"white\",\"ticks\":\"\"}},\"title\":{\"x\":0.05},\"xaxis\":{\"automargin\":true,\"gridcolor\":\"white\",\"linecolor\":\"white\",\"ticks\":\"\",\"title\":{\"standoff\":15},\"zerolinecolor\":\"white\",\"zerolinewidth\":2},\"yaxis\":{\"automargin\":true,\"gridcolor\":\"white\",\"linecolor\":\"white\",\"ticks\":\"\",\"title\":{\"standoff\":15},\"zerolinecolor\":\"white\",\"zerolinewidth\":2}}},\"title\":{\"text\":\"Recall (harsh def) in avante all facilities, 2021-01-15 to 2021-10-15\"},\"xaxis\":{\"anchor\":\"y\",\"domain\":[0.0,1.0],\"range\":[0,1],\"tickformat\":\",.0%\",\"title\":{\"text\":\"Recall\"}},\"yaxis\":{\"anchor\":\"x\",\"autorange\":\"reversed\",\"domain\":[0.0,1.0],\"title\":{\"text\":\"Length Of Stay\"}}},                        {\"responsive\": true}                    ).then(function(){\n",
       "                            \n",
       "var gd = document.getElementById('1fa4c138-227f-42a9-9b63-0cfe280f7ae7');\n",
       "var x = new MutationObserver(function (mutations, observer) {{\n",
       "        var display = window.getComputedStyle(gd).display;\n",
       "        if (!display || display === 'none') {{\n",
       "            console.log([gd, 'removed!']);\n",
       "            Plotly.purge(gd);\n",
       "            observer.disconnect();\n",
       "        }}\n",
       "}});\n",
       "\n",
       "// Listen for the removal of the full notebook cells\n",
       "var notebookContainer = gd.closest('#notebook-container');\n",
       "if (notebookContainer) {{\n",
       "    x.observe(notebookContainer, {childList: true});\n",
       "}}\n",
       "\n",
       "// Listen for the clearing of the current output cell\n",
       "var outputEl = gd.closest('.output');\n",
       "if (outputEl) {{\n",
       "    x.observe(outputEl, {childList: true});\n",
       "}}\n",
       "\n",
       "                        })                };                });            </script>        </div>"
      ]
     },
     "metadata": {},
     "output_type": "display_data"
    }
   ],
   "source": [
    "y = [f'>={i}' for i in range(0,121)]\n",
    "y[0] = 'All'\n",
    "\n",
    "plt.show()\n",
    "\n",
    "fig = px.bar(\n",
    "    df, x=\"reverse_fraction_rth\", y=y, \n",
    "    labels={\n",
    "        'y':'Length Of Stay', \n",
    "        'reverse_fraction_rth': 'Recall'\n",
    "    }, \n",
    "    height=graph_height, orientation='h',\n",
    "    title=f\"Recall (harsh def) in {CLIENT} all facilities, {date_range}\"\n",
    ")\n",
    "fig['layout']['yaxis']['autorange'] = \"reversed\"\n",
    "fig['layout']['xaxis']['tickformat'] = ',.0%'\n",
    "fig['layout']['xaxis']['range'] = [0,1]\n",
    "fig.update_traces( textposition='outside')\n",
    "\n",
    "fig.show()"
   ]
  },
  {
   "cell_type": "markdown",
   "id": "f8e5c2c3",
   "metadata": {},
   "source": [
    "## Combined Cumulative Recall"
   ]
  },
  {
   "cell_type": "code",
   "execution_count": 31,
   "id": "62ac677c",
   "metadata": {
    "scrolled": true
   },
   "outputs": [
    {
     "data": {
      "application/vnd.plotly.v1+json": {
       "config": {
        "plotlyServerURL": "https://plot.ly"
       },
       "data": [
        {
         "hovertemplate": "variable=fraction_rth<br>Length Of Stay=%{x}<br>value=%{y}<extra></extra>",
         "legendgroup": "fraction_rth",
         "line": {
          "color": "#636efa",
          "dash": "solid"
         },
         "marker": {
          "symbol": "circle"
         },
         "mode": "lines",
         "name": "Recall at LOS <= x axis",
         "orientation": "v",
         "showlegend": true,
         "type": "scatter",
         "x": [
          0,
          1,
          2,
          3,
          4,
          5,
          6,
          7,
          8,
          9,
          10,
          11,
          12,
          13,
          14,
          15,
          16,
          17,
          18,
          19,
          20,
          21,
          22,
          23,
          24,
          25,
          26,
          27,
          28,
          29,
          30,
          31,
          32,
          33,
          34,
          35,
          36,
          37,
          38,
          39,
          40,
          41,
          42,
          43,
          44,
          45,
          46,
          47,
          48,
          49,
          50,
          51,
          52,
          53,
          54,
          55,
          56,
          57,
          58,
          59,
          60,
          61,
          62,
          63,
          64,
          65,
          66,
          67,
          68,
          69,
          70,
          71,
          72,
          73,
          74,
          75,
          76,
          77,
          78,
          79,
          80,
          81,
          82,
          83,
          84,
          85,
          86,
          87,
          88,
          89,
          90,
          91,
          92,
          93,
          94,
          95,
          96,
          97,
          98,
          99,
          100,
          101,
          102,
          103,
          104,
          105,
          106,
          107,
          108,
          109,
          110,
          111,
          112,
          113,
          114,
          115,
          116,
          117,
          118,
          119,
          120
         ],
         "xaxis": "x",
         "y": [
          0.125,
          0.06666666666666667,
          0.1346153846153846,
          0.2624113475177305,
          0.3473053892215569,
          0.4088669950738916,
          0.45064377682403434,
          0.4943820224719101,
          0.5135135135135135,
          0.5295950155763239,
          0.5459770114942529,
          0.5588235294117647,
          0.5664160401002506,
          0.5727923627684964,
          0.5801354401805869,
          0.5879828326180258,
          0.5895833333333333,
          0.594758064516129,
          0.598825831702544,
          0.6030534351145038,
          0.601123595505618,
          0.599271402550091,
          0.598939929328622,
          0.6031195840554593,
          0.606473594548552,
          0.6023294509151415,
          0.6032786885245902,
          0.6012861736334405,
          0.5974643423137876,
          0.5965463108320251,
          0.5962732919254659,
          0.5954198473282443,
          0.594553706505295,
          0.5967016491754122,
          0.5979073243647235,
          0.5979228486646885,
          0.599112426035503,
          0.597953216374269,
          0.5974025974025974,
          0.5965665236051502,
          0.5909732016925247,
          0.5890603085553997,
          0.5864453665283541,
          0.585499316005472,
          0.5858310626702997,
          0.5853658536585366,
          0.5817694369973191,
          0.5813333333333334,
          0.582562747688243,
          0.5863874345549738,
          0.5838751625487646,
          0.5819354838709677,
          0.5772669220945083,
          0.5759493670886076,
          0.5768261964735516,
          0.5766331658291457,
          0.5764411027568922,
          0.5760598503740648,
          0.5749690210656754,
          0.5745992601726264,
          0.5751231527093597,
          0.5747549019607843,
          0.5740514075887393,
          0.5736906211936662,
          0.5728155339805825,
          0.5700483091787439,
          0.5691937424789411,
          0.5688622754491018,
          0.5668257756563246,
          0.5678571428571428,
          0.5671819262782402,
          0.566350710900474,
          0.566193853427896,
          0.5641931684334511,
          0.5652173913043478,
          0.5638921453692849,
          0.5637426900584795,
          0.5652680652680653,
          0.5662790697674419,
          0.5643105446118193,
          0.5641618497109827,
          0.5646651270207852,
          0.5640138408304498,
          0.5638665132336018,
          0.5625717566016073,
          0.5619266055045872,
          0.5611428571428572,
          0.5590909090909091,
          0.5584562996594779,
          0.5571913929784824,
          0.5546786922209695,
          0.5528089887640449,
          0.5515695067264574,
          0.5491071428571429,
          0.5484949832775919,
          0.5482796892341842,
          0.5481727574750831,
          0.5463576158940397,
          0.5451541850220264,
          0.5456545654565457,
          0.544456641053787,
          0.5449561403508771,
          0.5449561403508771,
          0.5443592552026287,
          0.5437636761487965,
          0.5436681222707423,
          0.5441657579062159,
          0.544069640914037,
          0.5434782608695652,
          0.5422993492407809,
          0.5422077922077922,
          0.541036717062635,
          0.541036717062635,
          0.540948275862069,
          0.540948275862069,
          0.540948275862069,
          0.5397849462365591,
          0.5397849462365591,
          0.5392051557465092,
          0.5390374331550802,
          0.4662218515429525
         ],
         "yaxis": "y"
        },
        {
         "hovertemplate": "variable=reverse_fraction_rth<br>Length Of Stay=%{x}<br>value=%{y}<extra></extra>",
         "legendgroup": "reverse_fraction_rth",
         "line": {
          "color": "#EF553B",
          "dash": "solid"
         },
         "marker": {
          "symbol": "circle"
         },
         "mode": "lines",
         "name": "Recall at LOS >= x axis",
         "orientation": "v",
         "showlegend": true,
         "type": "scatter",
         "x": [
          0,
          1,
          2,
          3,
          4,
          5,
          6,
          7,
          8,
          9,
          10,
          11,
          12,
          13,
          14,
          15,
          16,
          17,
          18,
          19,
          20,
          21,
          22,
          23,
          24,
          25,
          26,
          27,
          28,
          29,
          30,
          31,
          32,
          33,
          34,
          35,
          36,
          37,
          38,
          39,
          40,
          41,
          42,
          43,
          44,
          45,
          46,
          47,
          48,
          49,
          50,
          51,
          52,
          53,
          54,
          55,
          56,
          57,
          58,
          59,
          60,
          61,
          62,
          63,
          64,
          65,
          66,
          67,
          68,
          69,
          70,
          71,
          72,
          73,
          74,
          75,
          76,
          77,
          78,
          79,
          80,
          81,
          82,
          83,
          84,
          85,
          86,
          87,
          88,
          89,
          90,
          91,
          92,
          93,
          94,
          95,
          96,
          97,
          98,
          99,
          100,
          101,
          102,
          103,
          104,
          105,
          106,
          107,
          108,
          109,
          110,
          111,
          112,
          113,
          114,
          115,
          116,
          117,
          118,
          119,
          120
         ],
         "xaxis": "x",
         "y": [
          0.4662218515429525,
          0.46851385390428213,
          0.4872695346795435,
          0.4977168949771689,
          0.4933837429111531,
          0.48546511627906974,
          0.4779116465863454,
          0.4699792960662526,
          0.4581545064377682,
          0.45071982281284606,
          0.4430523917995444,
          0.4336075205640423,
          0.42424242424242425,
          0.41625,
          0.40897435897435896,
          0.3994708994708995,
          0.3888130968622101,
          0.38386648122392214,
          0.3755334281650071,
          0.36773255813953487,
          0.36,
          0.35789473684210527,
          0.35384615384615387,
          0.34755134281200634,
          0.3392282958199357,
          0.33169934640522875,
          0.3294314381270903,
          0.3242784380305603,
          0.32062391681109187,
          0.3204225352112676,
          0.3185053380782918,
          0.3153153153153153,
          0.31066176470588236,
          0.30855018587360594,
          0.3026315789473684,
          0.3,
          0.29714285714285715,
          0.2944550669216061,
          0.2912621359223301,
          0.2865612648221344,
          0.284,
          0.2857142857142857,
          0.28600823045267487,
          0.28361344537815125,
          0.2799145299145299,
          0.27741935483870966,
          0.2754880694143167,
          0.27593818984547464,
          0.2739420935412027,
          0.2669683257918552,
          0.25517241379310346,
          0.2558139534883721,
          0.25471698113207547,
          0.25721153846153844,
          0.254278728606357,
          0.24938271604938272,
          0.24813895781637718,
          0.24688279301745636,
          0.24433249370277077,
          0.2423469387755102,
          0.23969072164948454,
          0.23772609819121446,
          0.2349869451697128,
          0.2356020942408377,
          0.2328042328042328,
          0.232,
          0.23450134770889489,
          0.23369565217391305,
          0.23076923076923078,
          0.23268698060941828,
          0.22841225626740946,
          0.22905027932960895,
          0.22816901408450704,
          0.22662889518413598,
          0.22857142857142856,
          0.22413793103448276,
          0.2254335260115607,
          0.2238372093023256,
          0.21700879765395895,
          0.21238938053097345,
          0.21428571428571427,
          0.2125748502994012,
          0.21021021021021022,
          0.21084337349397592,
          0.20909090909090908,
          0.21036585365853658,
          0.21100917431192662,
          0.20987654320987653,
          0.21003134796238246,
          0.21069182389937108,
          0.2120253164556962,
          0.21474358974358973,
          0.2168284789644013,
          0.2182410423452769,
          0.22112211221122113,
          0.22185430463576158,
          0.2181208053691275,
          0.21621621621621623,
          0.21843003412969283,
          0.21993127147766323,
          0.21724137931034482,
          0.21875,
          0.21602787456445993,
          0.21602787456445993,
          0.21678321678321677,
          0.21754385964912282,
          0.21554770318021202,
          0.2127659574468085,
          0.21071428571428572,
          0.2114695340501792,
          0.21299638989169675,
          0.2109090909090909,
          0.21245421245421245,
          0.21245421245421245,
          0.21033210332103322,
          0.21033210332103322,
          0.21033210332103322,
          0.21189591078066913,
          0.21189591078066913,
          0.2126865671641791,
          0.20833333333333334
         ],
         "yaxis": "y"
        }
       ],
       "layout": {
        "height": 750,
        "legend": {
         "title": {
          "text": "variable"
         },
         "tracegroupgap": 0
        },
        "template": {
         "data": {
          "bar": [
           {
            "error_x": {
             "color": "#2a3f5f"
            },
            "error_y": {
             "color": "#2a3f5f"
            },
            "marker": {
             "line": {
              "color": "#E5ECF6",
              "width": 0.5
             },
             "pattern": {
              "fillmode": "overlay",
              "size": 10,
              "solidity": 0.2
             }
            },
            "type": "bar"
           }
          ],
          "barpolar": [
           {
            "marker": {
             "line": {
              "color": "#E5ECF6",
              "width": 0.5
             },
             "pattern": {
              "fillmode": "overlay",
              "size": 10,
              "solidity": 0.2
             }
            },
            "type": "barpolar"
           }
          ],
          "carpet": [
           {
            "aaxis": {
             "endlinecolor": "#2a3f5f",
             "gridcolor": "white",
             "linecolor": "white",
             "minorgridcolor": "white",
             "startlinecolor": "#2a3f5f"
            },
            "baxis": {
             "endlinecolor": "#2a3f5f",
             "gridcolor": "white",
             "linecolor": "white",
             "minorgridcolor": "white",
             "startlinecolor": "#2a3f5f"
            },
            "type": "carpet"
           }
          ],
          "choropleth": [
           {
            "colorbar": {
             "outlinewidth": 0,
             "ticks": ""
            },
            "type": "choropleth"
           }
          ],
          "contour": [
           {
            "colorbar": {
             "outlinewidth": 0,
             "ticks": ""
            },
            "colorscale": [
             [
              0,
              "#0d0887"
             ],
             [
              0.1111111111111111,
              "#46039f"
             ],
             [
              0.2222222222222222,
              "#7201a8"
             ],
             [
              0.3333333333333333,
              "#9c179e"
             ],
             [
              0.4444444444444444,
              "#bd3786"
             ],
             [
              0.5555555555555556,
              "#d8576b"
             ],
             [
              0.6666666666666666,
              "#ed7953"
             ],
             [
              0.7777777777777778,
              "#fb9f3a"
             ],
             [
              0.8888888888888888,
              "#fdca26"
             ],
             [
              1,
              "#f0f921"
             ]
            ],
            "type": "contour"
           }
          ],
          "contourcarpet": [
           {
            "colorbar": {
             "outlinewidth": 0,
             "ticks": ""
            },
            "type": "contourcarpet"
           }
          ],
          "heatmap": [
           {
            "colorbar": {
             "outlinewidth": 0,
             "ticks": ""
            },
            "colorscale": [
             [
              0,
              "#0d0887"
             ],
             [
              0.1111111111111111,
              "#46039f"
             ],
             [
              0.2222222222222222,
              "#7201a8"
             ],
             [
              0.3333333333333333,
              "#9c179e"
             ],
             [
              0.4444444444444444,
              "#bd3786"
             ],
             [
              0.5555555555555556,
              "#d8576b"
             ],
             [
              0.6666666666666666,
              "#ed7953"
             ],
             [
              0.7777777777777778,
              "#fb9f3a"
             ],
             [
              0.8888888888888888,
              "#fdca26"
             ],
             [
              1,
              "#f0f921"
             ]
            ],
            "type": "heatmap"
           }
          ],
          "heatmapgl": [
           {
            "colorbar": {
             "outlinewidth": 0,
             "ticks": ""
            },
            "colorscale": [
             [
              0,
              "#0d0887"
             ],
             [
              0.1111111111111111,
              "#46039f"
             ],
             [
              0.2222222222222222,
              "#7201a8"
             ],
             [
              0.3333333333333333,
              "#9c179e"
             ],
             [
              0.4444444444444444,
              "#bd3786"
             ],
             [
              0.5555555555555556,
              "#d8576b"
             ],
             [
              0.6666666666666666,
              "#ed7953"
             ],
             [
              0.7777777777777778,
              "#fb9f3a"
             ],
             [
              0.8888888888888888,
              "#fdca26"
             ],
             [
              1,
              "#f0f921"
             ]
            ],
            "type": "heatmapgl"
           }
          ],
          "histogram": [
           {
            "marker": {
             "pattern": {
              "fillmode": "overlay",
              "size": 10,
              "solidity": 0.2
             }
            },
            "type": "histogram"
           }
          ],
          "histogram2d": [
           {
            "colorbar": {
             "outlinewidth": 0,
             "ticks": ""
            },
            "colorscale": [
             [
              0,
              "#0d0887"
             ],
             [
              0.1111111111111111,
              "#46039f"
             ],
             [
              0.2222222222222222,
              "#7201a8"
             ],
             [
              0.3333333333333333,
              "#9c179e"
             ],
             [
              0.4444444444444444,
              "#bd3786"
             ],
             [
              0.5555555555555556,
              "#d8576b"
             ],
             [
              0.6666666666666666,
              "#ed7953"
             ],
             [
              0.7777777777777778,
              "#fb9f3a"
             ],
             [
              0.8888888888888888,
              "#fdca26"
             ],
             [
              1,
              "#f0f921"
             ]
            ],
            "type": "histogram2d"
           }
          ],
          "histogram2dcontour": [
           {
            "colorbar": {
             "outlinewidth": 0,
             "ticks": ""
            },
            "colorscale": [
             [
              0,
              "#0d0887"
             ],
             [
              0.1111111111111111,
              "#46039f"
             ],
             [
              0.2222222222222222,
              "#7201a8"
             ],
             [
              0.3333333333333333,
              "#9c179e"
             ],
             [
              0.4444444444444444,
              "#bd3786"
             ],
             [
              0.5555555555555556,
              "#d8576b"
             ],
             [
              0.6666666666666666,
              "#ed7953"
             ],
             [
              0.7777777777777778,
              "#fb9f3a"
             ],
             [
              0.8888888888888888,
              "#fdca26"
             ],
             [
              1,
              "#f0f921"
             ]
            ],
            "type": "histogram2dcontour"
           }
          ],
          "mesh3d": [
           {
            "colorbar": {
             "outlinewidth": 0,
             "ticks": ""
            },
            "type": "mesh3d"
           }
          ],
          "parcoords": [
           {
            "line": {
             "colorbar": {
              "outlinewidth": 0,
              "ticks": ""
             }
            },
            "type": "parcoords"
           }
          ],
          "pie": [
           {
            "automargin": true,
            "type": "pie"
           }
          ],
          "scatter": [
           {
            "marker": {
             "colorbar": {
              "outlinewidth": 0,
              "ticks": ""
             }
            },
            "type": "scatter"
           }
          ],
          "scatter3d": [
           {
            "line": {
             "colorbar": {
              "outlinewidth": 0,
              "ticks": ""
             }
            },
            "marker": {
             "colorbar": {
              "outlinewidth": 0,
              "ticks": ""
             }
            },
            "type": "scatter3d"
           }
          ],
          "scattercarpet": [
           {
            "marker": {
             "colorbar": {
              "outlinewidth": 0,
              "ticks": ""
             }
            },
            "type": "scattercarpet"
           }
          ],
          "scattergeo": [
           {
            "marker": {
             "colorbar": {
              "outlinewidth": 0,
              "ticks": ""
             }
            },
            "type": "scattergeo"
           }
          ],
          "scattergl": [
           {
            "marker": {
             "colorbar": {
              "outlinewidth": 0,
              "ticks": ""
             }
            },
            "type": "scattergl"
           }
          ],
          "scattermapbox": [
           {
            "marker": {
             "colorbar": {
              "outlinewidth": 0,
              "ticks": ""
             }
            },
            "type": "scattermapbox"
           }
          ],
          "scatterpolar": [
           {
            "marker": {
             "colorbar": {
              "outlinewidth": 0,
              "ticks": ""
             }
            },
            "type": "scatterpolar"
           }
          ],
          "scatterpolargl": [
           {
            "marker": {
             "colorbar": {
              "outlinewidth": 0,
              "ticks": ""
             }
            },
            "type": "scatterpolargl"
           }
          ],
          "scatterternary": [
           {
            "marker": {
             "colorbar": {
              "outlinewidth": 0,
              "ticks": ""
             }
            },
            "type": "scatterternary"
           }
          ],
          "surface": [
           {
            "colorbar": {
             "outlinewidth": 0,
             "ticks": ""
            },
            "colorscale": [
             [
              0,
              "#0d0887"
             ],
             [
              0.1111111111111111,
              "#46039f"
             ],
             [
              0.2222222222222222,
              "#7201a8"
             ],
             [
              0.3333333333333333,
              "#9c179e"
             ],
             [
              0.4444444444444444,
              "#bd3786"
             ],
             [
              0.5555555555555556,
              "#d8576b"
             ],
             [
              0.6666666666666666,
              "#ed7953"
             ],
             [
              0.7777777777777778,
              "#fb9f3a"
             ],
             [
              0.8888888888888888,
              "#fdca26"
             ],
             [
              1,
              "#f0f921"
             ]
            ],
            "type": "surface"
           }
          ],
          "table": [
           {
            "cells": {
             "fill": {
              "color": "#EBF0F8"
             },
             "line": {
              "color": "white"
             }
            },
            "header": {
             "fill": {
              "color": "#C8D4E3"
             },
             "line": {
              "color": "white"
             }
            },
            "type": "table"
           }
          ]
         },
         "layout": {
          "annotationdefaults": {
           "arrowcolor": "#2a3f5f",
           "arrowhead": 0,
           "arrowwidth": 1
          },
          "autotypenumbers": "strict",
          "coloraxis": {
           "colorbar": {
            "outlinewidth": 0,
            "ticks": ""
           }
          },
          "colorscale": {
           "diverging": [
            [
             0,
             "#8e0152"
            ],
            [
             0.1,
             "#c51b7d"
            ],
            [
             0.2,
             "#de77ae"
            ],
            [
             0.3,
             "#f1b6da"
            ],
            [
             0.4,
             "#fde0ef"
            ],
            [
             0.5,
             "#f7f7f7"
            ],
            [
             0.6,
             "#e6f5d0"
            ],
            [
             0.7,
             "#b8e186"
            ],
            [
             0.8,
             "#7fbc41"
            ],
            [
             0.9,
             "#4d9221"
            ],
            [
             1,
             "#276419"
            ]
           ],
           "sequential": [
            [
             0,
             "#0d0887"
            ],
            [
             0.1111111111111111,
             "#46039f"
            ],
            [
             0.2222222222222222,
             "#7201a8"
            ],
            [
             0.3333333333333333,
             "#9c179e"
            ],
            [
             0.4444444444444444,
             "#bd3786"
            ],
            [
             0.5555555555555556,
             "#d8576b"
            ],
            [
             0.6666666666666666,
             "#ed7953"
            ],
            [
             0.7777777777777778,
             "#fb9f3a"
            ],
            [
             0.8888888888888888,
             "#fdca26"
            ],
            [
             1,
             "#f0f921"
            ]
           ],
           "sequentialminus": [
            [
             0,
             "#0d0887"
            ],
            [
             0.1111111111111111,
             "#46039f"
            ],
            [
             0.2222222222222222,
             "#7201a8"
            ],
            [
             0.3333333333333333,
             "#9c179e"
            ],
            [
             0.4444444444444444,
             "#bd3786"
            ],
            [
             0.5555555555555556,
             "#d8576b"
            ],
            [
             0.6666666666666666,
             "#ed7953"
            ],
            [
             0.7777777777777778,
             "#fb9f3a"
            ],
            [
             0.8888888888888888,
             "#fdca26"
            ],
            [
             1,
             "#f0f921"
            ]
           ]
          },
          "colorway": [
           "#636efa",
           "#EF553B",
           "#00cc96",
           "#ab63fa",
           "#FFA15A",
           "#19d3f3",
           "#FF6692",
           "#B6E880",
           "#FF97FF",
           "#FECB52"
          ],
          "font": {
           "color": "#2a3f5f"
          },
          "geo": {
           "bgcolor": "white",
           "lakecolor": "white",
           "landcolor": "#E5ECF6",
           "showlakes": true,
           "showland": true,
           "subunitcolor": "white"
          },
          "hoverlabel": {
           "align": "left"
          },
          "hovermode": "closest",
          "mapbox": {
           "style": "light"
          },
          "paper_bgcolor": "white",
          "plot_bgcolor": "#E5ECF6",
          "polar": {
           "angularaxis": {
            "gridcolor": "white",
            "linecolor": "white",
            "ticks": ""
           },
           "bgcolor": "#E5ECF6",
           "radialaxis": {
            "gridcolor": "white",
            "linecolor": "white",
            "ticks": ""
           }
          },
          "scene": {
           "xaxis": {
            "backgroundcolor": "#E5ECF6",
            "gridcolor": "white",
            "gridwidth": 2,
            "linecolor": "white",
            "showbackground": true,
            "ticks": "",
            "zerolinecolor": "white"
           },
           "yaxis": {
            "backgroundcolor": "#E5ECF6",
            "gridcolor": "white",
            "gridwidth": 2,
            "linecolor": "white",
            "showbackground": true,
            "ticks": "",
            "zerolinecolor": "white"
           },
           "zaxis": {
            "backgroundcolor": "#E5ECF6",
            "gridcolor": "white",
            "gridwidth": 2,
            "linecolor": "white",
            "showbackground": true,
            "ticks": "",
            "zerolinecolor": "white"
           }
          },
          "shapedefaults": {
           "line": {
            "color": "#2a3f5f"
           }
          },
          "ternary": {
           "aaxis": {
            "gridcolor": "white",
            "linecolor": "white",
            "ticks": ""
           },
           "baxis": {
            "gridcolor": "white",
            "linecolor": "white",
            "ticks": ""
           },
           "bgcolor": "#E5ECF6",
           "caxis": {
            "gridcolor": "white",
            "linecolor": "white",
            "ticks": ""
           }
          },
          "title": {
           "x": 0.05
          },
          "xaxis": {
           "automargin": true,
           "gridcolor": "white",
           "linecolor": "white",
           "ticks": "",
           "title": {
            "standoff": 15
           },
           "zerolinecolor": "white",
           "zerolinewidth": 2
          },
          "yaxis": {
           "automargin": true,
           "gridcolor": "white",
           "linecolor": "white",
           "ticks": "",
           "title": {
            "standoff": 15
           },
           "zerolinecolor": "white",
           "zerolinewidth": 2
          }
         }
        },
        "title": {
         "text": "Recall (harsh def) in avante all facilities, 2021-01-15 to 2021-10-15"
        },
        "xaxis": {
         "anchor": "y",
         "domain": [
          0,
          1
         ],
         "title": {
          "text": "Length Of Stay"
         }
        },
        "yaxis": {
         "anchor": "x",
         "domain": [
          0,
          1
         ],
         "range": [
          0,
          1
         ],
         "tickformat": ",.0%",
         "title": {
          "text": "Recall"
         }
        }
       }
      },
      "text/html": [
       "<div>                            <div id=\"d96cd4bc-eed8-4576-b460-b6043b3f5597\" class=\"plotly-graph-div\" style=\"height:750px; width:100%;\"></div>            <script type=\"text/javascript\">                require([\"plotly\"], function(Plotly) {                    window.PLOTLYENV=window.PLOTLYENV || {};                                    if (document.getElementById(\"d96cd4bc-eed8-4576-b460-b6043b3f5597\")) {                    Plotly.newPlot(                        \"d96cd4bc-eed8-4576-b460-b6043b3f5597\",                        [{\"hovertemplate\":\"variable=fraction_rth<br>Length Of Stay=%{x}<br>value=%{y}<extra></extra>\",\"legendgroup\":\"fraction_rth\",\"line\":{\"color\":\"#636efa\",\"dash\":\"solid\"},\"marker\":{\"symbol\":\"circle\"},\"mode\":\"lines\",\"name\":\"Recall at LOS <= x axis\",\"orientation\":\"v\",\"showlegend\":true,\"type\":\"scatter\",\"x\":[0,1,2,3,4,5,6,7,8,9,10,11,12,13,14,15,16,17,18,19,20,21,22,23,24,25,26,27,28,29,30,31,32,33,34,35,36,37,38,39,40,41,42,43,44,45,46,47,48,49,50,51,52,53,54,55,56,57,58,59,60,61,62,63,64,65,66,67,68,69,70,71,72,73,74,75,76,77,78,79,80,81,82,83,84,85,86,87,88,89,90,91,92,93,94,95,96,97,98,99,100,101,102,103,104,105,106,107,108,109,110,111,112,113,114,115,116,117,118,119,120],\"xaxis\":\"x\",\"y\":[0.125,0.06666666666666667,0.1346153846153846,0.2624113475177305,0.3473053892215569,0.4088669950738916,0.45064377682403434,0.4943820224719101,0.5135135135135135,0.5295950155763239,0.5459770114942529,0.5588235294117647,0.5664160401002506,0.5727923627684964,0.5801354401805869,0.5879828326180258,0.5895833333333333,0.594758064516129,0.598825831702544,0.6030534351145038,0.601123595505618,0.599271402550091,0.598939929328622,0.6031195840554593,0.606473594548552,0.6023294509151415,0.6032786885245902,0.6012861736334405,0.5974643423137876,0.5965463108320251,0.5962732919254659,0.5954198473282443,0.594553706505295,0.5967016491754122,0.5979073243647235,0.5979228486646885,0.599112426035503,0.597953216374269,0.5974025974025974,0.5965665236051502,0.5909732016925247,0.5890603085553997,0.5864453665283541,0.585499316005472,0.5858310626702997,0.5853658536585366,0.5817694369973191,0.5813333333333334,0.582562747688243,0.5863874345549738,0.5838751625487646,0.5819354838709677,0.5772669220945083,0.5759493670886076,0.5768261964735516,0.5766331658291457,0.5764411027568922,0.5760598503740648,0.5749690210656754,0.5745992601726264,0.5751231527093597,0.5747549019607843,0.5740514075887393,0.5736906211936662,0.5728155339805825,0.5700483091787439,0.5691937424789411,0.5688622754491018,0.5668257756563246,0.5678571428571428,0.5671819262782402,0.566350710900474,0.566193853427896,0.5641931684334511,0.5652173913043478,0.5638921453692849,0.5637426900584795,0.5652680652680653,0.5662790697674419,0.5643105446118193,0.5641618497109827,0.5646651270207852,0.5640138408304498,0.5638665132336018,0.5625717566016073,0.5619266055045872,0.5611428571428572,0.5590909090909091,0.5584562996594779,0.5571913929784824,0.5546786922209695,0.5528089887640449,0.5515695067264574,0.5491071428571429,0.5484949832775919,0.5482796892341842,0.5481727574750831,0.5463576158940397,0.5451541850220264,0.5456545654565457,0.544456641053787,0.5449561403508771,0.5449561403508771,0.5443592552026287,0.5437636761487965,0.5436681222707423,0.5441657579062159,0.544069640914037,0.5434782608695652,0.5422993492407809,0.5422077922077922,0.541036717062635,0.541036717062635,0.540948275862069,0.540948275862069,0.540948275862069,0.5397849462365591,0.5397849462365591,0.5392051557465092,0.5390374331550802,0.4662218515429525],\"yaxis\":\"y\"},{\"hovertemplate\":\"variable=reverse_fraction_rth<br>Length Of Stay=%{x}<br>value=%{y}<extra></extra>\",\"legendgroup\":\"reverse_fraction_rth\",\"line\":{\"color\":\"#EF553B\",\"dash\":\"solid\"},\"marker\":{\"symbol\":\"circle\"},\"mode\":\"lines\",\"name\":\"Recall at LOS >= x axis\",\"orientation\":\"v\",\"showlegend\":true,\"type\":\"scatter\",\"x\":[0,1,2,3,4,5,6,7,8,9,10,11,12,13,14,15,16,17,18,19,20,21,22,23,24,25,26,27,28,29,30,31,32,33,34,35,36,37,38,39,40,41,42,43,44,45,46,47,48,49,50,51,52,53,54,55,56,57,58,59,60,61,62,63,64,65,66,67,68,69,70,71,72,73,74,75,76,77,78,79,80,81,82,83,84,85,86,87,88,89,90,91,92,93,94,95,96,97,98,99,100,101,102,103,104,105,106,107,108,109,110,111,112,113,114,115,116,117,118,119,120],\"xaxis\":\"x\",\"y\":[0.4662218515429525,0.46851385390428213,0.4872695346795435,0.4977168949771689,0.4933837429111531,0.48546511627906974,0.4779116465863454,0.4699792960662526,0.4581545064377682,0.45071982281284606,0.4430523917995444,0.4336075205640423,0.42424242424242425,0.41625,0.40897435897435896,0.3994708994708995,0.3888130968622101,0.38386648122392214,0.3755334281650071,0.36773255813953487,0.36,0.35789473684210527,0.35384615384615387,0.34755134281200634,0.3392282958199357,0.33169934640522875,0.3294314381270903,0.3242784380305603,0.32062391681109187,0.3204225352112676,0.3185053380782918,0.3153153153153153,0.31066176470588236,0.30855018587360594,0.3026315789473684,0.3,0.29714285714285715,0.2944550669216061,0.2912621359223301,0.2865612648221344,0.284,0.2857142857142857,0.28600823045267487,0.28361344537815125,0.2799145299145299,0.27741935483870966,0.2754880694143167,0.27593818984547464,0.2739420935412027,0.2669683257918552,0.25517241379310346,0.2558139534883721,0.25471698113207547,0.25721153846153844,0.254278728606357,0.24938271604938272,0.24813895781637718,0.24688279301745636,0.24433249370277077,0.2423469387755102,0.23969072164948454,0.23772609819121446,0.2349869451697128,0.2356020942408377,0.2328042328042328,0.232,0.23450134770889489,0.23369565217391305,0.23076923076923078,0.23268698060941828,0.22841225626740946,0.22905027932960895,0.22816901408450704,0.22662889518413598,0.22857142857142856,0.22413793103448276,0.2254335260115607,0.2238372093023256,0.21700879765395895,0.21238938053097345,0.21428571428571427,0.2125748502994012,0.21021021021021022,0.21084337349397592,0.20909090909090908,0.21036585365853658,0.21100917431192662,0.20987654320987653,0.21003134796238246,0.21069182389937108,0.2120253164556962,0.21474358974358973,0.2168284789644013,0.2182410423452769,0.22112211221122113,0.22185430463576158,0.2181208053691275,0.21621621621621623,0.21843003412969283,0.21993127147766323,0.21724137931034482,0.21875,0.21602787456445993,0.21602787456445993,0.21678321678321677,0.21754385964912282,0.21554770318021202,0.2127659574468085,0.21071428571428572,0.2114695340501792,0.21299638989169675,0.2109090909090909,0.21245421245421245,0.21245421245421245,0.21033210332103322,0.21033210332103322,0.21033210332103322,0.21189591078066913,0.21189591078066913,0.2126865671641791,0.20833333333333334],\"yaxis\":\"y\"}],                        {\"height\":750,\"legend\":{\"title\":{\"text\":\"variable\"},\"tracegroupgap\":0},\"template\":{\"data\":{\"bar\":[{\"error_x\":{\"color\":\"#2a3f5f\"},\"error_y\":{\"color\":\"#2a3f5f\"},\"marker\":{\"line\":{\"color\":\"#E5ECF6\",\"width\":0.5},\"pattern\":{\"fillmode\":\"overlay\",\"size\":10,\"solidity\":0.2}},\"type\":\"bar\"}],\"barpolar\":[{\"marker\":{\"line\":{\"color\":\"#E5ECF6\",\"width\":0.5},\"pattern\":{\"fillmode\":\"overlay\",\"size\":10,\"solidity\":0.2}},\"type\":\"barpolar\"}],\"carpet\":[{\"aaxis\":{\"endlinecolor\":\"#2a3f5f\",\"gridcolor\":\"white\",\"linecolor\":\"white\",\"minorgridcolor\":\"white\",\"startlinecolor\":\"#2a3f5f\"},\"baxis\":{\"endlinecolor\":\"#2a3f5f\",\"gridcolor\":\"white\",\"linecolor\":\"white\",\"minorgridcolor\":\"white\",\"startlinecolor\":\"#2a3f5f\"},\"type\":\"carpet\"}],\"choropleth\":[{\"colorbar\":{\"outlinewidth\":0,\"ticks\":\"\"},\"type\":\"choropleth\"}],\"contour\":[{\"colorbar\":{\"outlinewidth\":0,\"ticks\":\"\"},\"colorscale\":[[0.0,\"#0d0887\"],[0.1111111111111111,\"#46039f\"],[0.2222222222222222,\"#7201a8\"],[0.3333333333333333,\"#9c179e\"],[0.4444444444444444,\"#bd3786\"],[0.5555555555555556,\"#d8576b\"],[0.6666666666666666,\"#ed7953\"],[0.7777777777777778,\"#fb9f3a\"],[0.8888888888888888,\"#fdca26\"],[1.0,\"#f0f921\"]],\"type\":\"contour\"}],\"contourcarpet\":[{\"colorbar\":{\"outlinewidth\":0,\"ticks\":\"\"},\"type\":\"contourcarpet\"}],\"heatmap\":[{\"colorbar\":{\"outlinewidth\":0,\"ticks\":\"\"},\"colorscale\":[[0.0,\"#0d0887\"],[0.1111111111111111,\"#46039f\"],[0.2222222222222222,\"#7201a8\"],[0.3333333333333333,\"#9c179e\"],[0.4444444444444444,\"#bd3786\"],[0.5555555555555556,\"#d8576b\"],[0.6666666666666666,\"#ed7953\"],[0.7777777777777778,\"#fb9f3a\"],[0.8888888888888888,\"#fdca26\"],[1.0,\"#f0f921\"]],\"type\":\"heatmap\"}],\"heatmapgl\":[{\"colorbar\":{\"outlinewidth\":0,\"ticks\":\"\"},\"colorscale\":[[0.0,\"#0d0887\"],[0.1111111111111111,\"#46039f\"],[0.2222222222222222,\"#7201a8\"],[0.3333333333333333,\"#9c179e\"],[0.4444444444444444,\"#bd3786\"],[0.5555555555555556,\"#d8576b\"],[0.6666666666666666,\"#ed7953\"],[0.7777777777777778,\"#fb9f3a\"],[0.8888888888888888,\"#fdca26\"],[1.0,\"#f0f921\"]],\"type\":\"heatmapgl\"}],\"histogram\":[{\"marker\":{\"pattern\":{\"fillmode\":\"overlay\",\"size\":10,\"solidity\":0.2}},\"type\":\"histogram\"}],\"histogram2d\":[{\"colorbar\":{\"outlinewidth\":0,\"ticks\":\"\"},\"colorscale\":[[0.0,\"#0d0887\"],[0.1111111111111111,\"#46039f\"],[0.2222222222222222,\"#7201a8\"],[0.3333333333333333,\"#9c179e\"],[0.4444444444444444,\"#bd3786\"],[0.5555555555555556,\"#d8576b\"],[0.6666666666666666,\"#ed7953\"],[0.7777777777777778,\"#fb9f3a\"],[0.8888888888888888,\"#fdca26\"],[1.0,\"#f0f921\"]],\"type\":\"histogram2d\"}],\"histogram2dcontour\":[{\"colorbar\":{\"outlinewidth\":0,\"ticks\":\"\"},\"colorscale\":[[0.0,\"#0d0887\"],[0.1111111111111111,\"#46039f\"],[0.2222222222222222,\"#7201a8\"],[0.3333333333333333,\"#9c179e\"],[0.4444444444444444,\"#bd3786\"],[0.5555555555555556,\"#d8576b\"],[0.6666666666666666,\"#ed7953\"],[0.7777777777777778,\"#fb9f3a\"],[0.8888888888888888,\"#fdca26\"],[1.0,\"#f0f921\"]],\"type\":\"histogram2dcontour\"}],\"mesh3d\":[{\"colorbar\":{\"outlinewidth\":0,\"ticks\":\"\"},\"type\":\"mesh3d\"}],\"parcoords\":[{\"line\":{\"colorbar\":{\"outlinewidth\":0,\"ticks\":\"\"}},\"type\":\"parcoords\"}],\"pie\":[{\"automargin\":true,\"type\":\"pie\"}],\"scatter\":[{\"marker\":{\"colorbar\":{\"outlinewidth\":0,\"ticks\":\"\"}},\"type\":\"scatter\"}],\"scatter3d\":[{\"line\":{\"colorbar\":{\"outlinewidth\":0,\"ticks\":\"\"}},\"marker\":{\"colorbar\":{\"outlinewidth\":0,\"ticks\":\"\"}},\"type\":\"scatter3d\"}],\"scattercarpet\":[{\"marker\":{\"colorbar\":{\"outlinewidth\":0,\"ticks\":\"\"}},\"type\":\"scattercarpet\"}],\"scattergeo\":[{\"marker\":{\"colorbar\":{\"outlinewidth\":0,\"ticks\":\"\"}},\"type\":\"scattergeo\"}],\"scattergl\":[{\"marker\":{\"colorbar\":{\"outlinewidth\":0,\"ticks\":\"\"}},\"type\":\"scattergl\"}],\"scattermapbox\":[{\"marker\":{\"colorbar\":{\"outlinewidth\":0,\"ticks\":\"\"}},\"type\":\"scattermapbox\"}],\"scatterpolar\":[{\"marker\":{\"colorbar\":{\"outlinewidth\":0,\"ticks\":\"\"}},\"type\":\"scatterpolar\"}],\"scatterpolargl\":[{\"marker\":{\"colorbar\":{\"outlinewidth\":0,\"ticks\":\"\"}},\"type\":\"scatterpolargl\"}],\"scatterternary\":[{\"marker\":{\"colorbar\":{\"outlinewidth\":0,\"ticks\":\"\"}},\"type\":\"scatterternary\"}],\"surface\":[{\"colorbar\":{\"outlinewidth\":0,\"ticks\":\"\"},\"colorscale\":[[0.0,\"#0d0887\"],[0.1111111111111111,\"#46039f\"],[0.2222222222222222,\"#7201a8\"],[0.3333333333333333,\"#9c179e\"],[0.4444444444444444,\"#bd3786\"],[0.5555555555555556,\"#d8576b\"],[0.6666666666666666,\"#ed7953\"],[0.7777777777777778,\"#fb9f3a\"],[0.8888888888888888,\"#fdca26\"],[1.0,\"#f0f921\"]],\"type\":\"surface\"}],\"table\":[{\"cells\":{\"fill\":{\"color\":\"#EBF0F8\"},\"line\":{\"color\":\"white\"}},\"header\":{\"fill\":{\"color\":\"#C8D4E3\"},\"line\":{\"color\":\"white\"}},\"type\":\"table\"}]},\"layout\":{\"annotationdefaults\":{\"arrowcolor\":\"#2a3f5f\",\"arrowhead\":0,\"arrowwidth\":1},\"autotypenumbers\":\"strict\",\"coloraxis\":{\"colorbar\":{\"outlinewidth\":0,\"ticks\":\"\"}},\"colorscale\":{\"diverging\":[[0,\"#8e0152\"],[0.1,\"#c51b7d\"],[0.2,\"#de77ae\"],[0.3,\"#f1b6da\"],[0.4,\"#fde0ef\"],[0.5,\"#f7f7f7\"],[0.6,\"#e6f5d0\"],[0.7,\"#b8e186\"],[0.8,\"#7fbc41\"],[0.9,\"#4d9221\"],[1,\"#276419\"]],\"sequential\":[[0.0,\"#0d0887\"],[0.1111111111111111,\"#46039f\"],[0.2222222222222222,\"#7201a8\"],[0.3333333333333333,\"#9c179e\"],[0.4444444444444444,\"#bd3786\"],[0.5555555555555556,\"#d8576b\"],[0.6666666666666666,\"#ed7953\"],[0.7777777777777778,\"#fb9f3a\"],[0.8888888888888888,\"#fdca26\"],[1.0,\"#f0f921\"]],\"sequentialminus\":[[0.0,\"#0d0887\"],[0.1111111111111111,\"#46039f\"],[0.2222222222222222,\"#7201a8\"],[0.3333333333333333,\"#9c179e\"],[0.4444444444444444,\"#bd3786\"],[0.5555555555555556,\"#d8576b\"],[0.6666666666666666,\"#ed7953\"],[0.7777777777777778,\"#fb9f3a\"],[0.8888888888888888,\"#fdca26\"],[1.0,\"#f0f921\"]]},\"colorway\":[\"#636efa\",\"#EF553B\",\"#00cc96\",\"#ab63fa\",\"#FFA15A\",\"#19d3f3\",\"#FF6692\",\"#B6E880\",\"#FF97FF\",\"#FECB52\"],\"font\":{\"color\":\"#2a3f5f\"},\"geo\":{\"bgcolor\":\"white\",\"lakecolor\":\"white\",\"landcolor\":\"#E5ECF6\",\"showlakes\":true,\"showland\":true,\"subunitcolor\":\"white\"},\"hoverlabel\":{\"align\":\"left\"},\"hovermode\":\"closest\",\"mapbox\":{\"style\":\"light\"},\"paper_bgcolor\":\"white\",\"plot_bgcolor\":\"#E5ECF6\",\"polar\":{\"angularaxis\":{\"gridcolor\":\"white\",\"linecolor\":\"white\",\"ticks\":\"\"},\"bgcolor\":\"#E5ECF6\",\"radialaxis\":{\"gridcolor\":\"white\",\"linecolor\":\"white\",\"ticks\":\"\"}},\"scene\":{\"xaxis\":{\"backgroundcolor\":\"#E5ECF6\",\"gridcolor\":\"white\",\"gridwidth\":2,\"linecolor\":\"white\",\"showbackground\":true,\"ticks\":\"\",\"zerolinecolor\":\"white\"},\"yaxis\":{\"backgroundcolor\":\"#E5ECF6\",\"gridcolor\":\"white\",\"gridwidth\":2,\"linecolor\":\"white\",\"showbackground\":true,\"ticks\":\"\",\"zerolinecolor\":\"white\"},\"zaxis\":{\"backgroundcolor\":\"#E5ECF6\",\"gridcolor\":\"white\",\"gridwidth\":2,\"linecolor\":\"white\",\"showbackground\":true,\"ticks\":\"\",\"zerolinecolor\":\"white\"}},\"shapedefaults\":{\"line\":{\"color\":\"#2a3f5f\"}},\"ternary\":{\"aaxis\":{\"gridcolor\":\"white\",\"linecolor\":\"white\",\"ticks\":\"\"},\"baxis\":{\"gridcolor\":\"white\",\"linecolor\":\"white\",\"ticks\":\"\"},\"bgcolor\":\"#E5ECF6\",\"caxis\":{\"gridcolor\":\"white\",\"linecolor\":\"white\",\"ticks\":\"\"}},\"title\":{\"x\":0.05},\"xaxis\":{\"automargin\":true,\"gridcolor\":\"white\",\"linecolor\":\"white\",\"ticks\":\"\",\"title\":{\"standoff\":15},\"zerolinecolor\":\"white\",\"zerolinewidth\":2},\"yaxis\":{\"automargin\":true,\"gridcolor\":\"white\",\"linecolor\":\"white\",\"ticks\":\"\",\"title\":{\"standoff\":15},\"zerolinecolor\":\"white\",\"zerolinewidth\":2}}},\"title\":{\"text\":\"Recall (harsh def) in avante all facilities, 2021-01-15 to 2021-10-15\"},\"xaxis\":{\"anchor\":\"y\",\"domain\":[0.0,1.0],\"title\":{\"text\":\"Length Of Stay\"}},\"yaxis\":{\"anchor\":\"x\",\"domain\":[0.0,1.0],\"range\":[0,1],\"tickformat\":\",.0%\",\"title\":{\"text\":\"Recall\"}}},                        {\"responsive\": true}                    ).then(function(){\n",
       "                            \n",
       "var gd = document.getElementById('d96cd4bc-eed8-4576-b460-b6043b3f5597');\n",
       "var x = new MutationObserver(function (mutations, observer) {{\n",
       "        var display = window.getComputedStyle(gd).display;\n",
       "        if (!display || display === 'none') {{\n",
       "            console.log([gd, 'removed!']);\n",
       "            Plotly.purge(gd);\n",
       "            observer.disconnect();\n",
       "        }}\n",
       "}});\n",
       "\n",
       "// Listen for the removal of the full notebook cells\n",
       "var notebookContainer = gd.closest('#notebook-container');\n",
       "if (notebookContainer) {{\n",
       "    x.observe(notebookContainer, {childList: true});\n",
       "}}\n",
       "\n",
       "// Listen for the clearing of the current output cell\n",
       "var outputEl = gd.closest('.output');\n",
       "if (outputEl) {{\n",
       "    x.observe(outputEl, {childList: true});\n",
       "}}\n",
       "\n",
       "                        })                };                });            </script>        </div>"
      ]
     },
     "metadata": {},
     "output_type": "display_data"
    }
   ],
   "source": [
    "fig = px.line(\n",
    "    df, y=[\"fraction_rth\", \"reverse_fraction_rth\"], x=list(df.index), \n",
    "    labels={\n",
    "        'x':'Length Of Stay', \n",
    "    }, \n",
    "    height=750, \n",
    "    title=f\"Recall (harsh def) in {CLIENT} all facilities, {date_range}\"\n",
    ")\n",
    "fig['layout']['yaxis']['title'] = \"Recall\"\n",
    "fig['layout']['yaxis']['tickformat'] = ',.0%'\n",
    "fig['layout']['yaxis']['range'] = [0,1]\n",
    "new_names= ['Recall at LOS <= x axis', 'Recall at LOS >= x axis']\n",
    "for i, new_name in enumerate(new_names):\n",
    "    fig.data[i].name = new_name\n",
    "\n",
    "fig.show()"
   ]
  },
  {
   "cell_type": "markdown",
   "id": "0c8d3696",
   "metadata": {},
   "source": [
    "##  Row with largest difference between Cumsum and Reverse Cumsum recall"
   ]
  },
  {
   "cell_type": "code",
   "execution_count": 32,
   "id": "bd26508a",
   "metadata": {
    "scrolled": false
   },
   "outputs": [
    {
     "name": "stdout",
     "output_type": "stream",
     "text": [
      "Index: 82\n"
     ]
    },
    {
     "data": {
      "text/plain": [
       "rth                     1          \n",
       "caught_rth              0          \n",
       "missed_rth              1          \n",
       "ranked_rth              1          \n",
       "unranked_rth            0          \n",
       "rth_p                   0.000834028\n",
       "caught_rth_p            0          \n",
       "missed_rth_p            0.191939   \n",
       "unranked_rth_p          0          \n",
       "reverse_fraction_rth    0.21021    \n",
       "fraction_rth            0.564014   \n",
       "rth_p_cumsum            0.723103   \n",
       "rth_p_reverse_cumsum    0.277731   \n",
       "rth_pct                 0.08%      \n",
       "rth_diff                0.353804   \n",
       "Name: 82, dtype: object"
      ]
     },
     "execution_count": 32,
     "metadata": {},
     "output_type": "execute_result"
    }
   ],
   "source": [
    "idx = df['rth_diff'].idxmax()\n",
    "print(f'Index: {idx}')\n",
    "df.loc[idx]"
   ]
  },
  {
   "cell_type": "markdown",
   "id": "e78e905c",
   "metadata": {},
   "source": [
    "## ==================== Lenient way for Recall ==================== "
   ]
  },
  {
   "cell_type": "code",
   "execution_count": 33,
   "id": "25fb0d06",
   "metadata": {
    "scrolled": false
   },
   "outputs": [
    {
     "name": "stdout",
     "output_type": "stream",
     "text": [
      "(1199, 22)\n"
     ]
    },
    {
     "data": {
      "text/html": [
       "<div>\n",
       "<style scoped>\n",
       "    .dataframe tbody tr th:only-of-type {\n",
       "        vertical-align: middle;\n",
       "    }\n",
       "\n",
       "    .dataframe tbody tr th {\n",
       "        vertical-align: top;\n",
       "    }\n",
       "\n",
       "    .dataframe thead th {\n",
       "        text-align: right;\n",
       "    }\n",
       "</style>\n",
       "<table border=\"1\" class=\"dataframe\">\n",
       "  <thead>\n",
       "    <tr style=\"text-align: right;\">\n",
       "      <th></th>\n",
       "      <th>client</th>\n",
       "      <th>facilityid</th>\n",
       "      <th>facilityname</th>\n",
       "      <th>patientid</th>\n",
       "      <th>masterpatientid</th>\n",
       "      <th>patientmrn</th>\n",
       "      <th>lastname</th>\n",
       "      <th>firstname</th>\n",
       "      <th>dateoftransfer</th>\n",
       "      <th>planned</th>\n",
       "      <th>transferreason</th>\n",
       "      <th>otherreasonfortransfer</th>\n",
       "      <th>outcome</th>\n",
       "      <th>transferredto</th>\n",
       "      <th>lengthofstay</th>\n",
       "      <th>lastadmissiondate</th>\n",
       "      <th>payertype</th>\n",
       "      <th>payerdescription</th>\n",
       "      <th>best_exp_rank</th>\n",
       "      <th>show_in_report</th>\n",
       "      <th>modelids</th>\n",
       "      <th>num_predictions</th>\n",
       "    </tr>\n",
       "  </thead>\n",
       "  <tbody>\n",
       "    <tr>\n",
       "      <th>0</th>\n",
       "      <td>avante</td>\n",
       "      <td>1</td>\n",
       "      <td>Avante at Boca Raton</td>\n",
       "      <td>177103</td>\n",
       "      <td>75244.0</td>\n",
       "      <td>7550</td>\n",
       "      <td>FRANK</td>\n",
       "      <td>JERROLD</td>\n",
       "      <td>2021-07-19</td>\n",
       "      <td>No</td>\n",
       "      <td>Other</td>\n",
       "      <td>Pacemaker</td>\n",
       "      <td>Admitted, Inpatient</td>\n",
       "      <td>Holy Cross Hospital</td>\n",
       "      <td>800.0</td>\n",
       "      <td>2019-05-11 18:58:00</td>\n",
       "      <td>Medicaid</td>\n",
       "      <td>MCD SUNSHINE</td>\n",
       "      <td>39.0</td>\n",
       "      <td>False</td>\n",
       "      <td>ebce6fa9bdcb4040be48b756d63e4c8a</td>\n",
       "      <td>4</td>\n",
       "    </tr>\n",
       "    <tr>\n",
       "      <th>1</th>\n",
       "      <td>avante</td>\n",
       "      <td>1</td>\n",
       "      <td>Avante at Boca Raton</td>\n",
       "      <td>330601</td>\n",
       "      <td>119814.0</td>\n",
       "      <td>8827</td>\n",
       "      <td>JEAM</td>\n",
       "      <td>ONEL</td>\n",
       "      <td>2021-02-02</td>\n",
       "      <td>No</td>\n",
       "      <td>Shortness of Breath (bronchitis, pneumonia)</td>\n",
       "      <td>None</td>\n",
       "      <td>Admitted, Inpatient</td>\n",
       "      <td>Boca Raton Hospital</td>\n",
       "      <td>57.0</td>\n",
       "      <td>2020-12-07 14:55:00</td>\n",
       "      <td>Medicaid</td>\n",
       "      <td>Medicaid Pending</td>\n",
       "      <td>7.0</td>\n",
       "      <td>True</td>\n",
       "      <td>d0c497c8b9b04f4d9e1e1e0c9297cc1f</td>\n",
       "      <td>4</td>\n",
       "    </tr>\n",
       "    <tr>\n",
       "      <th>2</th>\n",
       "      <td>avante</td>\n",
       "      <td>1</td>\n",
       "      <td>Avante at Boca Raton</td>\n",
       "      <td>330601</td>\n",
       "      <td>119814.0</td>\n",
       "      <td>8827</td>\n",
       "      <td>JEAM</td>\n",
       "      <td>ONEL</td>\n",
       "      <td>2021-02-10</td>\n",
       "      <td>No</td>\n",
       "      <td>Chest Pain</td>\n",
       "      <td>None</td>\n",
       "      <td>Admitted, Inpatient</td>\n",
       "      <td>Boca Raton Hospital</td>\n",
       "      <td>4.0</td>\n",
       "      <td>2021-02-06 17:30:00</td>\n",
       "      <td>Medicaid</td>\n",
       "      <td>Medicaid Pending</td>\n",
       "      <td>2.0</td>\n",
       "      <td>True</td>\n",
       "      <td>d0c497c8b9b04f4d9e1e1e0c9297cc1f</td>\n",
       "      <td>4</td>\n",
       "    </tr>\n",
       "    <tr>\n",
       "      <th>3</th>\n",
       "      <td>avante</td>\n",
       "      <td>1</td>\n",
       "      <td>Avante at Boca Raton</td>\n",
       "      <td>330601</td>\n",
       "      <td>119814.0</td>\n",
       "      <td>8827</td>\n",
       "      <td>JEAM</td>\n",
       "      <td>ONEL</td>\n",
       "      <td>2021-02-23</td>\n",
       "      <td>No</td>\n",
       "      <td>Other</td>\n",
       "      <td>Respiratory Distress</td>\n",
       "      <td>Admitted, Status Uncertain</td>\n",
       "      <td>Boca Raton Hospital</td>\n",
       "      <td>6.0</td>\n",
       "      <td>2021-02-17 17:00:00</td>\n",
       "      <td>Medicaid</td>\n",
       "      <td>Medicaid Pending</td>\n",
       "      <td>1.0</td>\n",
       "      <td>True</td>\n",
       "      <td>d0c497c8b9b04f4d9e1e1e0c9297cc1f</td>\n",
       "      <td>4</td>\n",
       "    </tr>\n",
       "    <tr>\n",
       "      <th>4</th>\n",
       "      <td>avante</td>\n",
       "      <td>1</td>\n",
       "      <td>Avante at Boca Raton</td>\n",
       "      <td>330601</td>\n",
       "      <td>119814.0</td>\n",
       "      <td>8827</td>\n",
       "      <td>JEAM</td>\n",
       "      <td>ONEL</td>\n",
       "      <td>2021-03-10</td>\n",
       "      <td>No</td>\n",
       "      <td>Shortness of Breath (bronchitis, pneumonia)</td>\n",
       "      <td>None</td>\n",
       "      <td>Admitted, Inpatient</td>\n",
       "      <td>Boca Raton Hospital</td>\n",
       "      <td>9.0</td>\n",
       "      <td>2021-03-01 15:14:00</td>\n",
       "      <td>Medicaid</td>\n",
       "      <td>Medicaid Pending</td>\n",
       "      <td>3.0</td>\n",
       "      <td>True</td>\n",
       "      <td>d0c497c8b9b04f4d9e1e1e0c9297cc1f</td>\n",
       "      <td>4</td>\n",
       "    </tr>\n",
       "  </tbody>\n",
       "</table>\n",
       "</div>"
      ],
      "text/plain": [
       "   client  facilityid          facilityname  patientid  masterpatientid  \\\n",
       "0  avante  1           Avante at Boca Raton  177103     75244.0           \n",
       "1  avante  1           Avante at Boca Raton  330601     119814.0          \n",
       "2  avante  1           Avante at Boca Raton  330601     119814.0          \n",
       "3  avante  1           Avante at Boca Raton  330601     119814.0          \n",
       "4  avante  1           Avante at Boca Raton  330601     119814.0          \n",
       "\n",
       "  patientmrn lastname firstname dateoftransfer planned  \\\n",
       "0  7550       FRANK    JERROLD  2021-07-19      No       \n",
       "1  8827       JEAM     ONEL     2021-02-02      No       \n",
       "2  8827       JEAM     ONEL     2021-02-10      No       \n",
       "3  8827       JEAM     ONEL     2021-02-23      No       \n",
       "4  8827       JEAM     ONEL     2021-03-10      No       \n",
       "\n",
       "                                transferreason otherreasonfortransfer  \\\n",
       "0  Other                                        Pacemaker               \n",
       "1  Shortness of Breath (bronchitis, pneumonia)  None                    \n",
       "2  Chest Pain                                   None                    \n",
       "3  Other                                        Respiratory Distress    \n",
       "4  Shortness of Breath (bronchitis, pneumonia)  None                    \n",
       "\n",
       "                      outcome        transferredto  lengthofstay  \\\n",
       "0  Admitted, Inpatient         Holy Cross Hospital  800.0          \n",
       "1  Admitted, Inpatient         Boca Raton Hospital  57.0           \n",
       "2  Admitted, Inpatient         Boca Raton Hospital  4.0            \n",
       "3  Admitted, Status Uncertain  Boca Raton Hospital  6.0            \n",
       "4  Admitted, Inpatient         Boca Raton Hospital  9.0            \n",
       "\n",
       "    lastadmissiondate payertype  payerdescription  best_exp_rank  \\\n",
       "0 2019-05-11 18:58:00  Medicaid  MCD SUNSHINE      39.0            \n",
       "1 2020-12-07 14:55:00  Medicaid  Medicaid Pending  7.0             \n",
       "2 2021-02-06 17:30:00  Medicaid  Medicaid Pending  2.0             \n",
       "3 2021-02-17 17:00:00  Medicaid  Medicaid Pending  1.0             \n",
       "4 2021-03-01 15:14:00  Medicaid  Medicaid Pending  3.0             \n",
       "\n",
       "  show_in_report                          modelids  num_predictions  \n",
       "0  False          ebce6fa9bdcb4040be48b756d63e4c8a  4                \n",
       "1  True           d0c497c8b9b04f4d9e1e1e0c9297cc1f  4                \n",
       "2  True           d0c497c8b9b04f4d9e1e1e0c9297cc1f  4                \n",
       "3  True           d0c497c8b9b04f4d9e1e1e0c9297cc1f  4                \n",
       "4  True           d0c497c8b9b04f4d9e1e1e0c9297cc1f  4                "
      ]
     },
     "execution_count": 33,
     "metadata": {},
     "output_type": "execute_result"
    }
   ],
   "source": [
    "query = f\"\"\"with rh as (\n",
    "    select ht.*,\n",
    "           fa.facilityname,\n",
    "           fp.masterpatientid,\n",
    "           dp.modelid,\n",
    "           dp.group_rank,\n",
    "           dp.show_in_report,\n",
    "           fp.patientmrn,\n",
    "           fp.firstname,\n",
    "           fp.lastname\n",
    "    from public.hospital_transfers ht\n",
    "             left join public.facility_patient fp\n",
    "                       on ht.client = fp.client\n",
    "                           and ht.facilityid = fp.facilityid\n",
    "                           and ht.patientid = fp.patientid\n",
    "             left join daily_predictions dp\n",
    "                       on ht.client = dp.client\n",
    "                           and ht.facilityid = dp.facilityid\n",
    "                           and (date(ht.dateoftransfer) - date(dp.censusdate)) <= 3\n",
    "                           and date(dp.censusdate) <= date(ht.dateoftransfer)\n",
    "                           and fp.masterpatientid = dp.masterpatientid\n",
    "             left join facility fa\n",
    "                       on fa.facilityid = ht.facilityid\n",
    "                           and fa.client = ht.client\n",
    "    where ht.client = '{CLIENT}'\n",
    "      and ht.dateoftransfer between '{TRAIN_START_DATE}' and '{TEST_END_DATE}'\n",
    "      and (lower(ht.payerdescription) NOT LIKE '%%hospice%%' or ht.payerdescription is null)\n",
    "      and (ht.outcome <> 'ED Visit Only' or ht.outcome is null)\n",
    "      and ht.planned = 'No'\n",
    "      and fa.is_active=True\n",
    "      and (ht.facilityid IN {FACILITYIDS} OR {ENABLE_ALL_FACILITIES})\n",
    ")\n",
    "SELECT rh.client,\n",
    "       rh.facilityid,\n",
    "       rh.facilityname,\n",
    "       rh.patientid,\n",
    "       rh.masterpatientid,\n",
    "       rh.patientmrn,\n",
    "       rh.lastname,\n",
    "       rh.firstname,\n",
    "       rh.dateoftransfer,\n",
    "       rh.planned,\n",
    "       rh.transferreason,\n",
    "       rh.otherreasonfortransfer,\n",
    "       rh.outcome,\n",
    "       rh.transferredto,\n",
    "       rh.lengthofstay,\n",
    "       rh.lastadmissiondate,\n",
    "       rh.payertype,\n",
    "       rh.payerdescription,\n",
    "       min(group_rank) as best_exp_rank,\n",
    "       bool_or(rh.show_in_report) as show_in_report,\n",
    "       string_agg(distinct rh.modelid, ',') as modelids,\n",
    "       -- count of how many predictions were made for that day (the number of rows that were grouped)\n",
    "       -- have to special case for when we made no predictions because there would be still be 1 row\n",
    "       (CASE\n",
    "            WHEN bool_or(rh.show_in_report) IS NULL\n",
    "                THEN 0\n",
    "            ELSE count(*)\n",
    "           END\n",
    "           )  as num_predictions\n",
    "FROM rh\n",
    "GROUP BY rh.client, rh.facilityid, rh.facilityname,\n",
    "         rh.patientid, rh.masterpatientid, rh.patientmrn, rh.lastname, rh.firstname, rh.dateoftransfer,\n",
    "         rh.planned, rh.transferreason, rh.otherreasonfortransfer, rh.outcome,\n",
    "         rh.transferredto, rh.lengthofstay, rh.payertype, rh.payerdescription, rh.lastadmissiondate\n",
    "\"\"\"\n",
    "\n",
    "l_rdf = pd.read_sql(query, con=saiva_engine)\n",
    "\n",
    "print(l_rdf.shape)\n",
    "l_rdf.head()"
   ]
  },
  {
   "cell_type": "code",
   "execution_count": 34,
   "id": "720a4949",
   "metadata": {
    "scrolled": true
   },
   "outputs": [
    {
     "name": "stdout",
     "output_type": "stream",
     "text": [
      "********************1\n"
     ]
    },
    {
     "data": {
      "text/html": [
       "<div>\n",
       "<style scoped>\n",
       "    .dataframe tbody tr th:only-of-type {\n",
       "        vertical-align: middle;\n",
       "    }\n",
       "\n",
       "    .dataframe tbody tr th {\n",
       "        vertical-align: top;\n",
       "    }\n",
       "\n",
       "    .dataframe thead th {\n",
       "        text-align: right;\n",
       "    }\n",
       "</style>\n",
       "<table border=\"1\" class=\"dataframe\">\n",
       "  <thead>\n",
       "    <tr style=\"text-align: right;\">\n",
       "      <th></th>\n",
       "      <th>rth</th>\n",
       "      <th>caught_rth</th>\n",
       "      <th>missed_rth</th>\n",
       "      <th>ranked_rth</th>\n",
       "      <th>unranked_rth</th>\n",
       "      <th>rth_p</th>\n",
       "      <th>caught_rth_p</th>\n",
       "      <th>missed_rth_p</th>\n",
       "      <th>unranked_rth_p</th>\n",
       "      <th>reverse_fraction_rth</th>\n",
       "      <th>fraction_rth</th>\n",
       "    </tr>\n",
       "  </thead>\n",
       "  <tbody>\n",
       "    <tr>\n",
       "      <th>0</th>\n",
       "      <td>8</td>\n",
       "      <td>1</td>\n",
       "      <td>2</td>\n",
       "      <td>3</td>\n",
       "      <td>5</td>\n",
       "      <td>0.006672</td>\n",
       "      <td>0.154799</td>\n",
       "      <td>0.420168</td>\n",
       "      <td>6.493506</td>\n",
       "      <td>0.575758</td>\n",
       "      <td>0.333333</td>\n",
       "    </tr>\n",
       "    <tr>\n",
       "      <th>1</th>\n",
       "      <td>52</td>\n",
       "      <td>11</td>\n",
       "      <td>21</td>\n",
       "      <td>32</td>\n",
       "      <td>20</td>\n",
       "      <td>0.043369</td>\n",
       "      <td>1.702786</td>\n",
       "      <td>4.411765</td>\n",
       "      <td>25.974026</td>\n",
       "      <td>0.576408</td>\n",
       "      <td>0.342857</td>\n",
       "    </tr>\n",
       "    <tr>\n",
       "      <th>2</th>\n",
       "      <td>44</td>\n",
       "      <td>25</td>\n",
       "      <td>18</td>\n",
       "      <td>43</td>\n",
       "      <td>1</td>\n",
       "      <td>0.036697</td>\n",
       "      <td>3.869969</td>\n",
       "      <td>3.781513</td>\n",
       "      <td>1.298701</td>\n",
       "      <td>0.583257</td>\n",
       "      <td>0.474359</td>\n",
       "    </tr>\n",
       "    <tr>\n",
       "      <th>3</th>\n",
       "      <td>37</td>\n",
       "      <td>30</td>\n",
       "      <td>6</td>\n",
       "      <td>36</td>\n",
       "      <td>1</td>\n",
       "      <td>0.030859</td>\n",
       "      <td>4.643963</td>\n",
       "      <td>1.260504</td>\n",
       "      <td>1.298701</td>\n",
       "      <td>0.583333</td>\n",
       "      <td>0.587719</td>\n",
       "    </tr>\n",
       "    <tr>\n",
       "      <th>4</th>\n",
       "      <td>26</td>\n",
       "      <td>21</td>\n",
       "      <td>5</td>\n",
       "      <td>26</td>\n",
       "      <td>0</td>\n",
       "      <td>0.021685</td>\n",
       "      <td>3.250774</td>\n",
       "      <td>1.050420</td>\n",
       "      <td>0.000000</td>\n",
       "      <td>0.574405</td>\n",
       "      <td>0.628571</td>\n",
       "    </tr>\n",
       "  </tbody>\n",
       "</table>\n",
       "</div>"
      ],
      "text/plain": [
       "   rth  caught_rth  missed_rth  ranked_rth  unranked_rth     rth_p  \\\n",
       "0  8    1           2           3           5             0.006672   \n",
       "1  52   11          21          32          20            0.043369   \n",
       "2  44   25          18          43          1             0.036697   \n",
       "3  37   30          6           36          1             0.030859   \n",
       "4  26   21          5           26          0             0.021685   \n",
       "\n",
       "   caught_rth_p  missed_rth_p  unranked_rth_p  reverse_fraction_rth  \\\n",
       "0  0.154799      0.420168      6.493506        0.575758               \n",
       "1  1.702786      4.411765      25.974026       0.576408               \n",
       "2  3.869969      3.781513      1.298701        0.583257               \n",
       "3  4.643963      1.260504      1.298701        0.583333               \n",
       "4  3.250774      1.050420      0.000000        0.574405               \n",
       "\n",
       "   fraction_rth  \n",
       "0  0.333333      \n",
       "1  0.342857      \n",
       "2  0.474359      \n",
       "3  0.587719      \n",
       "4  0.628571      "
      ]
     },
     "execution_count": 34,
     "metadata": {},
     "output_type": "execute_result"
    }
   ],
   "source": [
    "l_rdf = pre_process(l_rdf)\n",
    "l_df,l_rth,l_caught_rth, l_missed_rth, l_unranked_rth, l_ranked_rth  = get_metrics_df(l_rdf)\n",
    "\n",
    "# Compute Lenient recall \n",
    "l_cumsum_df = l_df[['caught_rth','ranked_rth']].cumsum()\n",
    "l_cumsum_df['fraction_rth'] = l_cumsum_df['caught_rth'] / l_cumsum_df['ranked_rth'] ## Lenient def for recall\n",
    "\n",
    "print('********************1')\n",
    "\n",
    "l_reverse_cumsum_df = pd.DataFrame()\n",
    "l_reverse_cumsum_df['caught_rth'] = l_df.loc[::-1, 'caught_rth'].cumsum()[::-1]\n",
    "l_reverse_cumsum_df['ranked_rth'] = l_df.loc[::-1, 'ranked_rth'].cumsum()[::-1]\n",
    "l_reverse_cumsum_df['reverse_fraction_rth'] = l_reverse_cumsum_df['caught_rth'] / l_reverse_cumsum_df['ranked_rth']  ## Lenient def\n",
    "\n",
    "l_df['reverse_fraction_rth'] = l_reverse_cumsum_df['reverse_fraction_rth']\n",
    "l_df['fraction_rth'] = l_cumsum_df['fraction_rth']\n",
    "\n",
    "l_df.head()"
   ]
  },
  {
   "cell_type": "markdown",
   "id": "e10696af",
   "metadata": {},
   "source": [
    "## Lenient Recall \"<=0” “<=1”, “<=2”, …, “<=119\""
   ]
  },
  {
   "cell_type": "code",
   "execution_count": 35,
   "id": "3fca9d10",
   "metadata": {
    "scrolled": true
   },
   "outputs": [
    {
     "data": {
      "application/vnd.plotly.v1+json": {
       "config": {
        "plotlyServerURL": "https://plot.ly"
       },
       "data": [
        {
         "alignmentgroup": "True",
         "hovertemplate": "Recall=%{x}<br>Length Of Stay=%{y}<extra></extra>",
         "legendgroup": "",
         "marker": {
          "color": "#636efa",
          "pattern": {
           "shape": ""
          }
         },
         "name": "",
         "offsetgroup": "",
         "orientation": "h",
         "showlegend": false,
         "textposition": "outside",
         "type": "bar",
         "x": [
          0.3333333333333333,
          0.34285714285714286,
          0.47435897435897434,
          0.5877192982456141,
          0.6285714285714286,
          0.6590909090909091,
          0.6796116504854369,
          0.7,
          0.7078651685393258,
          0.718213058419244,
          0.7264150943396226,
          0.7296511627906976,
          0.7309782608695652,
          0.7345360824742269,
          0.7396593673965937,
          0.7413394919168591,
          0.7404921700223713,
          0.7451403887688985,
          0.7463312368972747,
          0.7489795918367347,
          0.744,
          0.7392996108949417,
          0.736346516007533,
          0.7407407407407407,
          0.7436363636363637,
          0.7393617021276596,
          0.7395104895104895,
          0.7414383561643836,
          0.7403035413153457,
          0.7378964941569283,
          0.735973597359736,
          0.7337662337662337,
          0.7315112540192926,
          0.732484076433121,
          0.7333333333333333,
          0.7322834645669292,
          0.7331240188383046,
          0.7329192546583851,
          0.7320061255742726,
          0.7298937784522003,
          0.7234678624813154,
          0.7217261904761905,
          0.7180616740088106,
          0.7155297532656023,
          0.7153179190751445,
          0.7140804597701149,
          0.7098150782361309,
          0.71004243281471,
          0.7100840336134454,
          0.7128987517337032,
          0.709366391184573,
          0.707250341997264,
          0.7009472259810555,
          0.6983914209115282,
          0.6986666666666667,
          0.6990679094540613,
          0.6985391766268261,
          0.6974900924702774,
          0.6964520367936925,
          0.6954248366013072,
          0.695822454308094,
          0.6948051948051948,
          0.6948051948051948,
          0.6946959896507116,
          0.6932989690721649,
          0.6897435897435897,
          0.6883780332056194,
          0.688295165394402,
          0.6856780735107731,
          0.6864728192161821,
          0.6868686868686869,
          0.6855345911949685,
          0.685069008782936,
          0.6825,
          0.683291770573566,
          0.6828358208955224,
          0.6823821339950372,
          0.6835599505562423,
          0.6843403205918619,
          0.6818181818181818,
          0.6822085889570552,
          0.6825980392156863,
          0.6817625458996328,
          0.6813186813186813,
          0.679658952496955,
          0.6788321167883211,
          0.6775757575757576,
          0.6759036144578313,
          0.6750902527075813,
          0.6742788461538461,
          0.6710526315789473,
          0.6686531585220501,
          0.667063020214031,
          0.6646919431279621,
          0.663905325443787,
          0.6643109540636042,
          0.663924794359577,
          0.6615925058548009,
          0.6600467289719626,
          0.6604434072345391,
          0.6589057043073341,
          0.6593023255813953,
          0.6593023255813953,
          0.6585365853658537,
          0.6577726218097448,
          0.6581691772885284,
          0.6585648148148148,
          0.6581986143187067,
          0.657439446366782,
          0.6559263521288837,
          0.6555683122847302,
          0.6540664375715922,
          0.6540664375715922,
          0.6537142857142857,
          0.6537142857142857,
          0.6537142857142857,
          0.6522234891676169,
          0.6522234891676169,
          0.6514806378132119,
          0.6507936507936508,
          0.5757575757575758
         ],
         "xaxis": "x",
         "y": [
          "<=0",
          "<=1",
          "<=2",
          "<=3",
          "<=4",
          "<=5",
          "<=6",
          "<=7",
          "<=8",
          "<=9",
          "<=10",
          "<=11",
          "<=12",
          "<=13",
          "<=14",
          "<=15",
          "<=16",
          "<=17",
          "<=18",
          "<=19",
          "<=20",
          "<=21",
          "<=22",
          "<=23",
          "<=24",
          "<=25",
          "<=26",
          "<=27",
          "<=28",
          "<=29",
          "<=30",
          "<=31",
          "<=32",
          "<=33",
          "<=34",
          "<=35",
          "<=36",
          "<=37",
          "<=38",
          "<=39",
          "<=40",
          "<=41",
          "<=42",
          "<=43",
          "<=44",
          "<=45",
          "<=46",
          "<=47",
          "<=48",
          "<=49",
          "<=50",
          "<=51",
          "<=52",
          "<=53",
          "<=54",
          "<=55",
          "<=56",
          "<=57",
          "<=58",
          "<=59",
          "<=60",
          "<=61",
          "<=62",
          "<=63",
          "<=64",
          "<=65",
          "<=66",
          "<=67",
          "<=68",
          "<=69",
          "<=70",
          "<=71",
          "<=72",
          "<=73",
          "<=74",
          "<=75",
          "<=76",
          "<=77",
          "<=78",
          "<=79",
          "<=80",
          "<=81",
          "<=82",
          "<=83",
          "<=84",
          "<=85",
          "<=86",
          "<=87",
          "<=88",
          "<=89",
          "<=90",
          "<=91",
          "<=92",
          "<=93",
          "<=94",
          "<=95",
          "<=96",
          "<=97",
          "<=98",
          "<=99",
          "<=100",
          "<=101",
          "<=102",
          "<=103",
          "<=104",
          "<=105",
          "<=106",
          "<=107",
          "<=108",
          "<=109",
          "<=110",
          "<=111",
          "<=112",
          "<=113",
          "<=114",
          "<=115",
          "<=116",
          "<=117",
          "<=118",
          "<=119",
          "All"
         ],
         "yaxis": "y"
        }
       ],
       "layout": {
        "barmode": "relative",
        "height": 750,
        "legend": {
         "tracegroupgap": 0
        },
        "template": {
         "data": {
          "bar": [
           {
            "error_x": {
             "color": "#2a3f5f"
            },
            "error_y": {
             "color": "#2a3f5f"
            },
            "marker": {
             "line": {
              "color": "#E5ECF6",
              "width": 0.5
             },
             "pattern": {
              "fillmode": "overlay",
              "size": 10,
              "solidity": 0.2
             }
            },
            "type": "bar"
           }
          ],
          "barpolar": [
           {
            "marker": {
             "line": {
              "color": "#E5ECF6",
              "width": 0.5
             },
             "pattern": {
              "fillmode": "overlay",
              "size": 10,
              "solidity": 0.2
             }
            },
            "type": "barpolar"
           }
          ],
          "carpet": [
           {
            "aaxis": {
             "endlinecolor": "#2a3f5f",
             "gridcolor": "white",
             "linecolor": "white",
             "minorgridcolor": "white",
             "startlinecolor": "#2a3f5f"
            },
            "baxis": {
             "endlinecolor": "#2a3f5f",
             "gridcolor": "white",
             "linecolor": "white",
             "minorgridcolor": "white",
             "startlinecolor": "#2a3f5f"
            },
            "type": "carpet"
           }
          ],
          "choropleth": [
           {
            "colorbar": {
             "outlinewidth": 0,
             "ticks": ""
            },
            "type": "choropleth"
           }
          ],
          "contour": [
           {
            "colorbar": {
             "outlinewidth": 0,
             "ticks": ""
            },
            "colorscale": [
             [
              0,
              "#0d0887"
             ],
             [
              0.1111111111111111,
              "#46039f"
             ],
             [
              0.2222222222222222,
              "#7201a8"
             ],
             [
              0.3333333333333333,
              "#9c179e"
             ],
             [
              0.4444444444444444,
              "#bd3786"
             ],
             [
              0.5555555555555556,
              "#d8576b"
             ],
             [
              0.6666666666666666,
              "#ed7953"
             ],
             [
              0.7777777777777778,
              "#fb9f3a"
             ],
             [
              0.8888888888888888,
              "#fdca26"
             ],
             [
              1,
              "#f0f921"
             ]
            ],
            "type": "contour"
           }
          ],
          "contourcarpet": [
           {
            "colorbar": {
             "outlinewidth": 0,
             "ticks": ""
            },
            "type": "contourcarpet"
           }
          ],
          "heatmap": [
           {
            "colorbar": {
             "outlinewidth": 0,
             "ticks": ""
            },
            "colorscale": [
             [
              0,
              "#0d0887"
             ],
             [
              0.1111111111111111,
              "#46039f"
             ],
             [
              0.2222222222222222,
              "#7201a8"
             ],
             [
              0.3333333333333333,
              "#9c179e"
             ],
             [
              0.4444444444444444,
              "#bd3786"
             ],
             [
              0.5555555555555556,
              "#d8576b"
             ],
             [
              0.6666666666666666,
              "#ed7953"
             ],
             [
              0.7777777777777778,
              "#fb9f3a"
             ],
             [
              0.8888888888888888,
              "#fdca26"
             ],
             [
              1,
              "#f0f921"
             ]
            ],
            "type": "heatmap"
           }
          ],
          "heatmapgl": [
           {
            "colorbar": {
             "outlinewidth": 0,
             "ticks": ""
            },
            "colorscale": [
             [
              0,
              "#0d0887"
             ],
             [
              0.1111111111111111,
              "#46039f"
             ],
             [
              0.2222222222222222,
              "#7201a8"
             ],
             [
              0.3333333333333333,
              "#9c179e"
             ],
             [
              0.4444444444444444,
              "#bd3786"
             ],
             [
              0.5555555555555556,
              "#d8576b"
             ],
             [
              0.6666666666666666,
              "#ed7953"
             ],
             [
              0.7777777777777778,
              "#fb9f3a"
             ],
             [
              0.8888888888888888,
              "#fdca26"
             ],
             [
              1,
              "#f0f921"
             ]
            ],
            "type": "heatmapgl"
           }
          ],
          "histogram": [
           {
            "marker": {
             "pattern": {
              "fillmode": "overlay",
              "size": 10,
              "solidity": 0.2
             }
            },
            "type": "histogram"
           }
          ],
          "histogram2d": [
           {
            "colorbar": {
             "outlinewidth": 0,
             "ticks": ""
            },
            "colorscale": [
             [
              0,
              "#0d0887"
             ],
             [
              0.1111111111111111,
              "#46039f"
             ],
             [
              0.2222222222222222,
              "#7201a8"
             ],
             [
              0.3333333333333333,
              "#9c179e"
             ],
             [
              0.4444444444444444,
              "#bd3786"
             ],
             [
              0.5555555555555556,
              "#d8576b"
             ],
             [
              0.6666666666666666,
              "#ed7953"
             ],
             [
              0.7777777777777778,
              "#fb9f3a"
             ],
             [
              0.8888888888888888,
              "#fdca26"
             ],
             [
              1,
              "#f0f921"
             ]
            ],
            "type": "histogram2d"
           }
          ],
          "histogram2dcontour": [
           {
            "colorbar": {
             "outlinewidth": 0,
             "ticks": ""
            },
            "colorscale": [
             [
              0,
              "#0d0887"
             ],
             [
              0.1111111111111111,
              "#46039f"
             ],
             [
              0.2222222222222222,
              "#7201a8"
             ],
             [
              0.3333333333333333,
              "#9c179e"
             ],
             [
              0.4444444444444444,
              "#bd3786"
             ],
             [
              0.5555555555555556,
              "#d8576b"
             ],
             [
              0.6666666666666666,
              "#ed7953"
             ],
             [
              0.7777777777777778,
              "#fb9f3a"
             ],
             [
              0.8888888888888888,
              "#fdca26"
             ],
             [
              1,
              "#f0f921"
             ]
            ],
            "type": "histogram2dcontour"
           }
          ],
          "mesh3d": [
           {
            "colorbar": {
             "outlinewidth": 0,
             "ticks": ""
            },
            "type": "mesh3d"
           }
          ],
          "parcoords": [
           {
            "line": {
             "colorbar": {
              "outlinewidth": 0,
              "ticks": ""
             }
            },
            "type": "parcoords"
           }
          ],
          "pie": [
           {
            "automargin": true,
            "type": "pie"
           }
          ],
          "scatter": [
           {
            "marker": {
             "colorbar": {
              "outlinewidth": 0,
              "ticks": ""
             }
            },
            "type": "scatter"
           }
          ],
          "scatter3d": [
           {
            "line": {
             "colorbar": {
              "outlinewidth": 0,
              "ticks": ""
             }
            },
            "marker": {
             "colorbar": {
              "outlinewidth": 0,
              "ticks": ""
             }
            },
            "type": "scatter3d"
           }
          ],
          "scattercarpet": [
           {
            "marker": {
             "colorbar": {
              "outlinewidth": 0,
              "ticks": ""
             }
            },
            "type": "scattercarpet"
           }
          ],
          "scattergeo": [
           {
            "marker": {
             "colorbar": {
              "outlinewidth": 0,
              "ticks": ""
             }
            },
            "type": "scattergeo"
           }
          ],
          "scattergl": [
           {
            "marker": {
             "colorbar": {
              "outlinewidth": 0,
              "ticks": ""
             }
            },
            "type": "scattergl"
           }
          ],
          "scattermapbox": [
           {
            "marker": {
             "colorbar": {
              "outlinewidth": 0,
              "ticks": ""
             }
            },
            "type": "scattermapbox"
           }
          ],
          "scatterpolar": [
           {
            "marker": {
             "colorbar": {
              "outlinewidth": 0,
              "ticks": ""
             }
            },
            "type": "scatterpolar"
           }
          ],
          "scatterpolargl": [
           {
            "marker": {
             "colorbar": {
              "outlinewidth": 0,
              "ticks": ""
             }
            },
            "type": "scatterpolargl"
           }
          ],
          "scatterternary": [
           {
            "marker": {
             "colorbar": {
              "outlinewidth": 0,
              "ticks": ""
             }
            },
            "type": "scatterternary"
           }
          ],
          "surface": [
           {
            "colorbar": {
             "outlinewidth": 0,
             "ticks": ""
            },
            "colorscale": [
             [
              0,
              "#0d0887"
             ],
             [
              0.1111111111111111,
              "#46039f"
             ],
             [
              0.2222222222222222,
              "#7201a8"
             ],
             [
              0.3333333333333333,
              "#9c179e"
             ],
             [
              0.4444444444444444,
              "#bd3786"
             ],
             [
              0.5555555555555556,
              "#d8576b"
             ],
             [
              0.6666666666666666,
              "#ed7953"
             ],
             [
              0.7777777777777778,
              "#fb9f3a"
             ],
             [
              0.8888888888888888,
              "#fdca26"
             ],
             [
              1,
              "#f0f921"
             ]
            ],
            "type": "surface"
           }
          ],
          "table": [
           {
            "cells": {
             "fill": {
              "color": "#EBF0F8"
             },
             "line": {
              "color": "white"
             }
            },
            "header": {
             "fill": {
              "color": "#C8D4E3"
             },
             "line": {
              "color": "white"
             }
            },
            "type": "table"
           }
          ]
         },
         "layout": {
          "annotationdefaults": {
           "arrowcolor": "#2a3f5f",
           "arrowhead": 0,
           "arrowwidth": 1
          },
          "autotypenumbers": "strict",
          "coloraxis": {
           "colorbar": {
            "outlinewidth": 0,
            "ticks": ""
           }
          },
          "colorscale": {
           "diverging": [
            [
             0,
             "#8e0152"
            ],
            [
             0.1,
             "#c51b7d"
            ],
            [
             0.2,
             "#de77ae"
            ],
            [
             0.3,
             "#f1b6da"
            ],
            [
             0.4,
             "#fde0ef"
            ],
            [
             0.5,
             "#f7f7f7"
            ],
            [
             0.6,
             "#e6f5d0"
            ],
            [
             0.7,
             "#b8e186"
            ],
            [
             0.8,
             "#7fbc41"
            ],
            [
             0.9,
             "#4d9221"
            ],
            [
             1,
             "#276419"
            ]
           ],
           "sequential": [
            [
             0,
             "#0d0887"
            ],
            [
             0.1111111111111111,
             "#46039f"
            ],
            [
             0.2222222222222222,
             "#7201a8"
            ],
            [
             0.3333333333333333,
             "#9c179e"
            ],
            [
             0.4444444444444444,
             "#bd3786"
            ],
            [
             0.5555555555555556,
             "#d8576b"
            ],
            [
             0.6666666666666666,
             "#ed7953"
            ],
            [
             0.7777777777777778,
             "#fb9f3a"
            ],
            [
             0.8888888888888888,
             "#fdca26"
            ],
            [
             1,
             "#f0f921"
            ]
           ],
           "sequentialminus": [
            [
             0,
             "#0d0887"
            ],
            [
             0.1111111111111111,
             "#46039f"
            ],
            [
             0.2222222222222222,
             "#7201a8"
            ],
            [
             0.3333333333333333,
             "#9c179e"
            ],
            [
             0.4444444444444444,
             "#bd3786"
            ],
            [
             0.5555555555555556,
             "#d8576b"
            ],
            [
             0.6666666666666666,
             "#ed7953"
            ],
            [
             0.7777777777777778,
             "#fb9f3a"
            ],
            [
             0.8888888888888888,
             "#fdca26"
            ],
            [
             1,
             "#f0f921"
            ]
           ]
          },
          "colorway": [
           "#636efa",
           "#EF553B",
           "#00cc96",
           "#ab63fa",
           "#FFA15A",
           "#19d3f3",
           "#FF6692",
           "#B6E880",
           "#FF97FF",
           "#FECB52"
          ],
          "font": {
           "color": "#2a3f5f"
          },
          "geo": {
           "bgcolor": "white",
           "lakecolor": "white",
           "landcolor": "#E5ECF6",
           "showlakes": true,
           "showland": true,
           "subunitcolor": "white"
          },
          "hoverlabel": {
           "align": "left"
          },
          "hovermode": "closest",
          "mapbox": {
           "style": "light"
          },
          "paper_bgcolor": "white",
          "plot_bgcolor": "#E5ECF6",
          "polar": {
           "angularaxis": {
            "gridcolor": "white",
            "linecolor": "white",
            "ticks": ""
           },
           "bgcolor": "#E5ECF6",
           "radialaxis": {
            "gridcolor": "white",
            "linecolor": "white",
            "ticks": ""
           }
          },
          "scene": {
           "xaxis": {
            "backgroundcolor": "#E5ECF6",
            "gridcolor": "white",
            "gridwidth": 2,
            "linecolor": "white",
            "showbackground": true,
            "ticks": "",
            "zerolinecolor": "white"
           },
           "yaxis": {
            "backgroundcolor": "#E5ECF6",
            "gridcolor": "white",
            "gridwidth": 2,
            "linecolor": "white",
            "showbackground": true,
            "ticks": "",
            "zerolinecolor": "white"
           },
           "zaxis": {
            "backgroundcolor": "#E5ECF6",
            "gridcolor": "white",
            "gridwidth": 2,
            "linecolor": "white",
            "showbackground": true,
            "ticks": "",
            "zerolinecolor": "white"
           }
          },
          "shapedefaults": {
           "line": {
            "color": "#2a3f5f"
           }
          },
          "ternary": {
           "aaxis": {
            "gridcolor": "white",
            "linecolor": "white",
            "ticks": ""
           },
           "baxis": {
            "gridcolor": "white",
            "linecolor": "white",
            "ticks": ""
           },
           "bgcolor": "#E5ECF6",
           "caxis": {
            "gridcolor": "white",
            "linecolor": "white",
            "ticks": ""
           }
          },
          "title": {
           "x": 0.05
          },
          "xaxis": {
           "automargin": true,
           "gridcolor": "white",
           "linecolor": "white",
           "ticks": "",
           "title": {
            "standoff": 15
           },
           "zerolinecolor": "white",
           "zerolinewidth": 2
          },
          "yaxis": {
           "automargin": true,
           "gridcolor": "white",
           "linecolor": "white",
           "ticks": "",
           "title": {
            "standoff": 15
           },
           "zerolinecolor": "white",
           "zerolinewidth": 2
          }
         }
        },
        "title": {
         "text": "Recall (lenient def) in avante all facilities, 2021-01-15 to 2021-10-15"
        },
        "xaxis": {
         "anchor": "y",
         "domain": [
          0,
          1
         ],
         "range": [
          0,
          1
         ],
         "tickformat": ",.0%",
         "title": {
          "text": "Recall"
         }
        },
        "yaxis": {
         "anchor": "x",
         "autorange": "reversed",
         "domain": [
          0,
          1
         ],
         "title": {
          "text": "Length Of Stay"
         }
        }
       }
      },
      "text/html": [
       "<div>                            <div id=\"5ba20bb6-c9d2-45a2-b55d-183bd1c815e4\" class=\"plotly-graph-div\" style=\"height:750px; width:100%;\"></div>            <script type=\"text/javascript\">                require([\"plotly\"], function(Plotly) {                    window.PLOTLYENV=window.PLOTLYENV || {};                                    if (document.getElementById(\"5ba20bb6-c9d2-45a2-b55d-183bd1c815e4\")) {                    Plotly.newPlot(                        \"5ba20bb6-c9d2-45a2-b55d-183bd1c815e4\",                        [{\"alignmentgroup\":\"True\",\"hovertemplate\":\"Recall=%{x}<br>Length Of Stay=%{y}<extra></extra>\",\"legendgroup\":\"\",\"marker\":{\"color\":\"#636efa\",\"pattern\":{\"shape\":\"\"}},\"name\":\"\",\"offsetgroup\":\"\",\"orientation\":\"h\",\"showlegend\":false,\"textposition\":\"outside\",\"type\":\"bar\",\"x\":[0.3333333333333333,0.34285714285714286,0.47435897435897434,0.5877192982456141,0.6285714285714286,0.6590909090909091,0.6796116504854369,0.7,0.7078651685393258,0.718213058419244,0.7264150943396226,0.7296511627906976,0.7309782608695652,0.7345360824742269,0.7396593673965937,0.7413394919168591,0.7404921700223713,0.7451403887688985,0.7463312368972747,0.7489795918367347,0.744,0.7392996108949417,0.736346516007533,0.7407407407407407,0.7436363636363637,0.7393617021276596,0.7395104895104895,0.7414383561643836,0.7403035413153457,0.7378964941569283,0.735973597359736,0.7337662337662337,0.7315112540192926,0.732484076433121,0.7333333333333333,0.7322834645669292,0.7331240188383046,0.7329192546583851,0.7320061255742726,0.7298937784522003,0.7234678624813154,0.7217261904761905,0.7180616740088106,0.7155297532656023,0.7153179190751445,0.7140804597701149,0.7098150782361309,0.71004243281471,0.7100840336134454,0.7128987517337032,0.709366391184573,0.707250341997264,0.7009472259810555,0.6983914209115282,0.6986666666666667,0.6990679094540613,0.6985391766268261,0.6974900924702774,0.6964520367936925,0.6954248366013072,0.695822454308094,0.6948051948051948,0.6948051948051948,0.6946959896507116,0.6932989690721649,0.6897435897435897,0.6883780332056194,0.688295165394402,0.6856780735107731,0.6864728192161821,0.6868686868686869,0.6855345911949685,0.685069008782936,0.6825,0.683291770573566,0.6828358208955224,0.6823821339950372,0.6835599505562423,0.6843403205918619,0.6818181818181818,0.6822085889570552,0.6825980392156863,0.6817625458996328,0.6813186813186813,0.679658952496955,0.6788321167883211,0.6775757575757576,0.6759036144578313,0.6750902527075813,0.6742788461538461,0.6710526315789473,0.6686531585220501,0.667063020214031,0.6646919431279621,0.663905325443787,0.6643109540636042,0.663924794359577,0.6615925058548009,0.6600467289719626,0.6604434072345391,0.6589057043073341,0.6593023255813953,0.6593023255813953,0.6585365853658537,0.6577726218097448,0.6581691772885284,0.6585648148148148,0.6581986143187067,0.657439446366782,0.6559263521288837,0.6555683122847302,0.6540664375715922,0.6540664375715922,0.6537142857142857,0.6537142857142857,0.6537142857142857,0.6522234891676169,0.6522234891676169,0.6514806378132119,0.6507936507936508,0.5757575757575758],\"xaxis\":\"x\",\"y\":[\"<=0\",\"<=1\",\"<=2\",\"<=3\",\"<=4\",\"<=5\",\"<=6\",\"<=7\",\"<=8\",\"<=9\",\"<=10\",\"<=11\",\"<=12\",\"<=13\",\"<=14\",\"<=15\",\"<=16\",\"<=17\",\"<=18\",\"<=19\",\"<=20\",\"<=21\",\"<=22\",\"<=23\",\"<=24\",\"<=25\",\"<=26\",\"<=27\",\"<=28\",\"<=29\",\"<=30\",\"<=31\",\"<=32\",\"<=33\",\"<=34\",\"<=35\",\"<=36\",\"<=37\",\"<=38\",\"<=39\",\"<=40\",\"<=41\",\"<=42\",\"<=43\",\"<=44\",\"<=45\",\"<=46\",\"<=47\",\"<=48\",\"<=49\",\"<=50\",\"<=51\",\"<=52\",\"<=53\",\"<=54\",\"<=55\",\"<=56\",\"<=57\",\"<=58\",\"<=59\",\"<=60\",\"<=61\",\"<=62\",\"<=63\",\"<=64\",\"<=65\",\"<=66\",\"<=67\",\"<=68\",\"<=69\",\"<=70\",\"<=71\",\"<=72\",\"<=73\",\"<=74\",\"<=75\",\"<=76\",\"<=77\",\"<=78\",\"<=79\",\"<=80\",\"<=81\",\"<=82\",\"<=83\",\"<=84\",\"<=85\",\"<=86\",\"<=87\",\"<=88\",\"<=89\",\"<=90\",\"<=91\",\"<=92\",\"<=93\",\"<=94\",\"<=95\",\"<=96\",\"<=97\",\"<=98\",\"<=99\",\"<=100\",\"<=101\",\"<=102\",\"<=103\",\"<=104\",\"<=105\",\"<=106\",\"<=107\",\"<=108\",\"<=109\",\"<=110\",\"<=111\",\"<=112\",\"<=113\",\"<=114\",\"<=115\",\"<=116\",\"<=117\",\"<=118\",\"<=119\",\"All\"],\"yaxis\":\"y\"}],                        {\"barmode\":\"relative\",\"height\":750,\"legend\":{\"tracegroupgap\":0},\"template\":{\"data\":{\"bar\":[{\"error_x\":{\"color\":\"#2a3f5f\"},\"error_y\":{\"color\":\"#2a3f5f\"},\"marker\":{\"line\":{\"color\":\"#E5ECF6\",\"width\":0.5},\"pattern\":{\"fillmode\":\"overlay\",\"size\":10,\"solidity\":0.2}},\"type\":\"bar\"}],\"barpolar\":[{\"marker\":{\"line\":{\"color\":\"#E5ECF6\",\"width\":0.5},\"pattern\":{\"fillmode\":\"overlay\",\"size\":10,\"solidity\":0.2}},\"type\":\"barpolar\"}],\"carpet\":[{\"aaxis\":{\"endlinecolor\":\"#2a3f5f\",\"gridcolor\":\"white\",\"linecolor\":\"white\",\"minorgridcolor\":\"white\",\"startlinecolor\":\"#2a3f5f\"},\"baxis\":{\"endlinecolor\":\"#2a3f5f\",\"gridcolor\":\"white\",\"linecolor\":\"white\",\"minorgridcolor\":\"white\",\"startlinecolor\":\"#2a3f5f\"},\"type\":\"carpet\"}],\"choropleth\":[{\"colorbar\":{\"outlinewidth\":0,\"ticks\":\"\"},\"type\":\"choropleth\"}],\"contour\":[{\"colorbar\":{\"outlinewidth\":0,\"ticks\":\"\"},\"colorscale\":[[0.0,\"#0d0887\"],[0.1111111111111111,\"#46039f\"],[0.2222222222222222,\"#7201a8\"],[0.3333333333333333,\"#9c179e\"],[0.4444444444444444,\"#bd3786\"],[0.5555555555555556,\"#d8576b\"],[0.6666666666666666,\"#ed7953\"],[0.7777777777777778,\"#fb9f3a\"],[0.8888888888888888,\"#fdca26\"],[1.0,\"#f0f921\"]],\"type\":\"contour\"}],\"contourcarpet\":[{\"colorbar\":{\"outlinewidth\":0,\"ticks\":\"\"},\"type\":\"contourcarpet\"}],\"heatmap\":[{\"colorbar\":{\"outlinewidth\":0,\"ticks\":\"\"},\"colorscale\":[[0.0,\"#0d0887\"],[0.1111111111111111,\"#46039f\"],[0.2222222222222222,\"#7201a8\"],[0.3333333333333333,\"#9c179e\"],[0.4444444444444444,\"#bd3786\"],[0.5555555555555556,\"#d8576b\"],[0.6666666666666666,\"#ed7953\"],[0.7777777777777778,\"#fb9f3a\"],[0.8888888888888888,\"#fdca26\"],[1.0,\"#f0f921\"]],\"type\":\"heatmap\"}],\"heatmapgl\":[{\"colorbar\":{\"outlinewidth\":0,\"ticks\":\"\"},\"colorscale\":[[0.0,\"#0d0887\"],[0.1111111111111111,\"#46039f\"],[0.2222222222222222,\"#7201a8\"],[0.3333333333333333,\"#9c179e\"],[0.4444444444444444,\"#bd3786\"],[0.5555555555555556,\"#d8576b\"],[0.6666666666666666,\"#ed7953\"],[0.7777777777777778,\"#fb9f3a\"],[0.8888888888888888,\"#fdca26\"],[1.0,\"#f0f921\"]],\"type\":\"heatmapgl\"}],\"histogram\":[{\"marker\":{\"pattern\":{\"fillmode\":\"overlay\",\"size\":10,\"solidity\":0.2}},\"type\":\"histogram\"}],\"histogram2d\":[{\"colorbar\":{\"outlinewidth\":0,\"ticks\":\"\"},\"colorscale\":[[0.0,\"#0d0887\"],[0.1111111111111111,\"#46039f\"],[0.2222222222222222,\"#7201a8\"],[0.3333333333333333,\"#9c179e\"],[0.4444444444444444,\"#bd3786\"],[0.5555555555555556,\"#d8576b\"],[0.6666666666666666,\"#ed7953\"],[0.7777777777777778,\"#fb9f3a\"],[0.8888888888888888,\"#fdca26\"],[1.0,\"#f0f921\"]],\"type\":\"histogram2d\"}],\"histogram2dcontour\":[{\"colorbar\":{\"outlinewidth\":0,\"ticks\":\"\"},\"colorscale\":[[0.0,\"#0d0887\"],[0.1111111111111111,\"#46039f\"],[0.2222222222222222,\"#7201a8\"],[0.3333333333333333,\"#9c179e\"],[0.4444444444444444,\"#bd3786\"],[0.5555555555555556,\"#d8576b\"],[0.6666666666666666,\"#ed7953\"],[0.7777777777777778,\"#fb9f3a\"],[0.8888888888888888,\"#fdca26\"],[1.0,\"#f0f921\"]],\"type\":\"histogram2dcontour\"}],\"mesh3d\":[{\"colorbar\":{\"outlinewidth\":0,\"ticks\":\"\"},\"type\":\"mesh3d\"}],\"parcoords\":[{\"line\":{\"colorbar\":{\"outlinewidth\":0,\"ticks\":\"\"}},\"type\":\"parcoords\"}],\"pie\":[{\"automargin\":true,\"type\":\"pie\"}],\"scatter\":[{\"marker\":{\"colorbar\":{\"outlinewidth\":0,\"ticks\":\"\"}},\"type\":\"scatter\"}],\"scatter3d\":[{\"line\":{\"colorbar\":{\"outlinewidth\":0,\"ticks\":\"\"}},\"marker\":{\"colorbar\":{\"outlinewidth\":0,\"ticks\":\"\"}},\"type\":\"scatter3d\"}],\"scattercarpet\":[{\"marker\":{\"colorbar\":{\"outlinewidth\":0,\"ticks\":\"\"}},\"type\":\"scattercarpet\"}],\"scattergeo\":[{\"marker\":{\"colorbar\":{\"outlinewidth\":0,\"ticks\":\"\"}},\"type\":\"scattergeo\"}],\"scattergl\":[{\"marker\":{\"colorbar\":{\"outlinewidth\":0,\"ticks\":\"\"}},\"type\":\"scattergl\"}],\"scattermapbox\":[{\"marker\":{\"colorbar\":{\"outlinewidth\":0,\"ticks\":\"\"}},\"type\":\"scattermapbox\"}],\"scatterpolar\":[{\"marker\":{\"colorbar\":{\"outlinewidth\":0,\"ticks\":\"\"}},\"type\":\"scatterpolar\"}],\"scatterpolargl\":[{\"marker\":{\"colorbar\":{\"outlinewidth\":0,\"ticks\":\"\"}},\"type\":\"scatterpolargl\"}],\"scatterternary\":[{\"marker\":{\"colorbar\":{\"outlinewidth\":0,\"ticks\":\"\"}},\"type\":\"scatterternary\"}],\"surface\":[{\"colorbar\":{\"outlinewidth\":0,\"ticks\":\"\"},\"colorscale\":[[0.0,\"#0d0887\"],[0.1111111111111111,\"#46039f\"],[0.2222222222222222,\"#7201a8\"],[0.3333333333333333,\"#9c179e\"],[0.4444444444444444,\"#bd3786\"],[0.5555555555555556,\"#d8576b\"],[0.6666666666666666,\"#ed7953\"],[0.7777777777777778,\"#fb9f3a\"],[0.8888888888888888,\"#fdca26\"],[1.0,\"#f0f921\"]],\"type\":\"surface\"}],\"table\":[{\"cells\":{\"fill\":{\"color\":\"#EBF0F8\"},\"line\":{\"color\":\"white\"}},\"header\":{\"fill\":{\"color\":\"#C8D4E3\"},\"line\":{\"color\":\"white\"}},\"type\":\"table\"}]},\"layout\":{\"annotationdefaults\":{\"arrowcolor\":\"#2a3f5f\",\"arrowhead\":0,\"arrowwidth\":1},\"autotypenumbers\":\"strict\",\"coloraxis\":{\"colorbar\":{\"outlinewidth\":0,\"ticks\":\"\"}},\"colorscale\":{\"diverging\":[[0,\"#8e0152\"],[0.1,\"#c51b7d\"],[0.2,\"#de77ae\"],[0.3,\"#f1b6da\"],[0.4,\"#fde0ef\"],[0.5,\"#f7f7f7\"],[0.6,\"#e6f5d0\"],[0.7,\"#b8e186\"],[0.8,\"#7fbc41\"],[0.9,\"#4d9221\"],[1,\"#276419\"]],\"sequential\":[[0.0,\"#0d0887\"],[0.1111111111111111,\"#46039f\"],[0.2222222222222222,\"#7201a8\"],[0.3333333333333333,\"#9c179e\"],[0.4444444444444444,\"#bd3786\"],[0.5555555555555556,\"#d8576b\"],[0.6666666666666666,\"#ed7953\"],[0.7777777777777778,\"#fb9f3a\"],[0.8888888888888888,\"#fdca26\"],[1.0,\"#f0f921\"]],\"sequentialminus\":[[0.0,\"#0d0887\"],[0.1111111111111111,\"#46039f\"],[0.2222222222222222,\"#7201a8\"],[0.3333333333333333,\"#9c179e\"],[0.4444444444444444,\"#bd3786\"],[0.5555555555555556,\"#d8576b\"],[0.6666666666666666,\"#ed7953\"],[0.7777777777777778,\"#fb9f3a\"],[0.8888888888888888,\"#fdca26\"],[1.0,\"#f0f921\"]]},\"colorway\":[\"#636efa\",\"#EF553B\",\"#00cc96\",\"#ab63fa\",\"#FFA15A\",\"#19d3f3\",\"#FF6692\",\"#B6E880\",\"#FF97FF\",\"#FECB52\"],\"font\":{\"color\":\"#2a3f5f\"},\"geo\":{\"bgcolor\":\"white\",\"lakecolor\":\"white\",\"landcolor\":\"#E5ECF6\",\"showlakes\":true,\"showland\":true,\"subunitcolor\":\"white\"},\"hoverlabel\":{\"align\":\"left\"},\"hovermode\":\"closest\",\"mapbox\":{\"style\":\"light\"},\"paper_bgcolor\":\"white\",\"plot_bgcolor\":\"#E5ECF6\",\"polar\":{\"angularaxis\":{\"gridcolor\":\"white\",\"linecolor\":\"white\",\"ticks\":\"\"},\"bgcolor\":\"#E5ECF6\",\"radialaxis\":{\"gridcolor\":\"white\",\"linecolor\":\"white\",\"ticks\":\"\"}},\"scene\":{\"xaxis\":{\"backgroundcolor\":\"#E5ECF6\",\"gridcolor\":\"white\",\"gridwidth\":2,\"linecolor\":\"white\",\"showbackground\":true,\"ticks\":\"\",\"zerolinecolor\":\"white\"},\"yaxis\":{\"backgroundcolor\":\"#E5ECF6\",\"gridcolor\":\"white\",\"gridwidth\":2,\"linecolor\":\"white\",\"showbackground\":true,\"ticks\":\"\",\"zerolinecolor\":\"white\"},\"zaxis\":{\"backgroundcolor\":\"#E5ECF6\",\"gridcolor\":\"white\",\"gridwidth\":2,\"linecolor\":\"white\",\"showbackground\":true,\"ticks\":\"\",\"zerolinecolor\":\"white\"}},\"shapedefaults\":{\"line\":{\"color\":\"#2a3f5f\"}},\"ternary\":{\"aaxis\":{\"gridcolor\":\"white\",\"linecolor\":\"white\",\"ticks\":\"\"},\"baxis\":{\"gridcolor\":\"white\",\"linecolor\":\"white\",\"ticks\":\"\"},\"bgcolor\":\"#E5ECF6\",\"caxis\":{\"gridcolor\":\"white\",\"linecolor\":\"white\",\"ticks\":\"\"}},\"title\":{\"x\":0.05},\"xaxis\":{\"automargin\":true,\"gridcolor\":\"white\",\"linecolor\":\"white\",\"ticks\":\"\",\"title\":{\"standoff\":15},\"zerolinecolor\":\"white\",\"zerolinewidth\":2},\"yaxis\":{\"automargin\":true,\"gridcolor\":\"white\",\"linecolor\":\"white\",\"ticks\":\"\",\"title\":{\"standoff\":15},\"zerolinecolor\":\"white\",\"zerolinewidth\":2}}},\"title\":{\"text\":\"Recall (lenient def) in avante all facilities, 2021-01-15 to 2021-10-15\"},\"xaxis\":{\"anchor\":\"y\",\"domain\":[0.0,1.0],\"range\":[0,1],\"tickformat\":\",.0%\",\"title\":{\"text\":\"Recall\"}},\"yaxis\":{\"anchor\":\"x\",\"autorange\":\"reversed\",\"domain\":[0.0,1.0],\"title\":{\"text\":\"Length Of Stay\"}}},                        {\"responsive\": true}                    ).then(function(){\n",
       "                            \n",
       "var gd = document.getElementById('5ba20bb6-c9d2-45a2-b55d-183bd1c815e4');\n",
       "var x = new MutationObserver(function (mutations, observer) {{\n",
       "        var display = window.getComputedStyle(gd).display;\n",
       "        if (!display || display === 'none') {{\n",
       "            console.log([gd, 'removed!']);\n",
       "            Plotly.purge(gd);\n",
       "            observer.disconnect();\n",
       "        }}\n",
       "}});\n",
       "\n",
       "// Listen for the removal of the full notebook cells\n",
       "var notebookContainer = gd.closest('#notebook-container');\n",
       "if (notebookContainer) {{\n",
       "    x.observe(notebookContainer, {childList: true});\n",
       "}}\n",
       "\n",
       "// Listen for the clearing of the current output cell\n",
       "var outputEl = gd.closest('.output');\n",
       "if (outputEl) {{\n",
       "    x.observe(outputEl, {childList: true});\n",
       "}}\n",
       "\n",
       "                        })                };                });            </script>        </div>"
      ]
     },
     "metadata": {},
     "output_type": "display_data"
    }
   ],
   "source": [
    "y = [f'<={i}' for i in range(0,121)]\n",
    "y[120] = 'All'\n",
    "\n",
    "fig = px.bar(\n",
    "    l_df, x=\"fraction_rth\", y=y, \n",
    "    labels={\n",
    "        'y':'Length Of Stay', \n",
    "        'fraction_rth': 'Recall'\n",
    "    }, \n",
    "    height=750, orientation='h',\n",
    "    title=f\"Recall (lenient def) in {CLIENT} all facilities, {date_range}\"\n",
    ")\n",
    "fig['layout']['yaxis']['autorange'] = \"reversed\"\n",
    "fig['layout']['xaxis']['tickformat'] = ',.0%'\n",
    "fig['layout']['xaxis']['range'] = [0,1]\n",
    "fig.update_traces( textposition='outside')\n",
    "\n",
    "fig.show()\n"
   ]
  },
  {
   "cell_type": "markdown",
   "id": "9ba0f23e",
   "metadata": {},
   "source": [
    "## Lenient Recall \">=1”, “>=2”, “>=3”, … “>=119”, “>=120”"
   ]
  },
  {
   "cell_type": "code",
   "execution_count": 36,
   "id": "4db50f82",
   "metadata": {
    "scrolled": false
   },
   "outputs": [
    {
     "data": {
      "application/vnd.plotly.v1+json": {
       "config": {
        "plotlyServerURL": "https://plot.ly"
       },
       "data": [
        {
         "alignmentgroup": "True",
         "hovertemplate": "Recall=%{x}<br>Length Of Stay=%{y}<extra></extra>",
         "legendgroup": "",
         "marker": {
          "color": "#636efa",
          "pattern": {
           "shape": ""
          }
         },
         "name": "",
         "offsetgroup": "",
         "orientation": "h",
         "showlegend": false,
         "textposition": "outside",
         "type": "bar",
         "x": [
          0.5757575757575758,
          0.5764075067024129,
          0.5832566697332107,
          0.5833333333333334,
          0.5744047619047619,
          0.5682281059063137,
          0.5602536997885835,
          0.5524017467248908,
          0.5419501133786848,
          0.5345029239766081,
          0.5258724428399518,
          0.5161691542288557,
          0.5077120822622108,
          0.5,
          0.49182561307901906,
          0.4810126582278481,
          0.4716981132075472,
          0.4666666666666667,
          0.456752655538695,
          0.4496124031007752,
          0.44145569620253167,
          0.4405144694533762,
          0.4375,
          0.43147208121827413,
          0.422680412371134,
          0.4143356643356643,
          0.4103942652329749,
          0.40545454545454546,
          0.395910780669145,
          0.391304347826087,
          0.390057361376673,
          0.3875968992248062,
          0.383399209486166,
          0.382,
          0.3765182186234818,
          0.37398373983739835,
          0.37166324435318276,
          0.36907216494845363,
          0.36401673640167365,
          0.3582089552238806,
          0.3563714902807775,
          0.3576158940397351,
          0.35777777777777775,
          0.35600907029478457,
          0.3533487297921478,
          0.3511627906976744,
          0.34976525821596244,
          0.35083532219570407,
          0.3469879518072289,
          0.34068627450980393,
          0.32917705735660846,
          0.33080808080808083,
          0.329923273657289,
          0.3342036553524804,
          0.3324468085106383,
          0.3279569892473118,
          0.3261455525606469,
          0.3252032520325203,
          0.3232876712328767,
          0.32132963988919666,
          0.31932773109243695,
          0.31741573033707865,
          0.3153409090909091,
          0.3153409090909091,
          0.3123209169054441,
          0.31213872832369943,
          0.3157894736842105,
          0.31563421828908556,
          0.3125,
          0.3153153153153153,
          0.311178247734139,
          0.3090909090909091,
          0.308868501529052,
          0.3076923076923077,
          0.3105590062111801,
          0.30625,
          0.3050314465408805,
          0.3037974683544304,
          0.2971246006389776,
          0.29260450160771706,
          0.29545454545454547,
          0.2931596091205212,
          0.2908496732026144,
          0.29180327868852457,
          0.29042904290429045,
          0.292358803986711,
          0.29333333333333333,
          0.29292929292929293,
          0.2910958904109589,
          0.2920962199312715,
          0.29310344827586204,
          0.2972027972027972,
          0.3003533568904594,
          0.302491103202847,
          0.3057553956834532,
          0.30685920577617326,
          0.30036630036630035,
          0.2988929889298893,
          0.30223880597014924,
          0.30451127819548873,
          0.3018867924528302,
          0.3041825095057034,
          0.3015267175572519,
          0.3015267175572519,
          0.30268199233716475,
          0.3038461538461538,
          0.30115830115830117,
          0.29844961240310075,
          0.296875,
          0.2980392156862745,
          0.30039525691699603,
          0.29880478087649404,
          0.30120481927710846,
          0.30120481927710846,
          0.29959514170040485,
          0.29959514170040485,
          0.29959514170040485,
          0.3020408163265306,
          0.3020408163265306,
          0.30327868852459017,
          0.3
         ],
         "xaxis": "x",
         "y": [
          "All",
          ">=1",
          ">=2",
          ">=3",
          ">=4",
          ">=5",
          ">=6",
          ">=7",
          ">=8",
          ">=9",
          ">=10",
          ">=11",
          ">=12",
          ">=13",
          ">=14",
          ">=15",
          ">=16",
          ">=17",
          ">=18",
          ">=19",
          ">=20",
          ">=21",
          ">=22",
          ">=23",
          ">=24",
          ">=25",
          ">=26",
          ">=27",
          ">=28",
          ">=29",
          ">=30",
          ">=31",
          ">=32",
          ">=33",
          ">=34",
          ">=35",
          ">=36",
          ">=37",
          ">=38",
          ">=39",
          ">=40",
          ">=41",
          ">=42",
          ">=43",
          ">=44",
          ">=45",
          ">=46",
          ">=47",
          ">=48",
          ">=49",
          ">=50",
          ">=51",
          ">=52",
          ">=53",
          ">=54",
          ">=55",
          ">=56",
          ">=57",
          ">=58",
          ">=59",
          ">=60",
          ">=61",
          ">=62",
          ">=63",
          ">=64",
          ">=65",
          ">=66",
          ">=67",
          ">=68",
          ">=69",
          ">=70",
          ">=71",
          ">=72",
          ">=73",
          ">=74",
          ">=75",
          ">=76",
          ">=77",
          ">=78",
          ">=79",
          ">=80",
          ">=81",
          ">=82",
          ">=83",
          ">=84",
          ">=85",
          ">=86",
          ">=87",
          ">=88",
          ">=89",
          ">=90",
          ">=91",
          ">=92",
          ">=93",
          ">=94",
          ">=95",
          ">=96",
          ">=97",
          ">=98",
          ">=99",
          ">=100",
          ">=101",
          ">=102",
          ">=103",
          ">=104",
          ">=105",
          ">=106",
          ">=107",
          ">=108",
          ">=109",
          ">=110",
          ">=111",
          ">=112",
          ">=113",
          ">=114",
          ">=115",
          ">=116",
          ">=117",
          ">=118",
          ">=119",
          ">=120"
         ],
         "yaxis": "y"
        }
       ],
       "layout": {
        "barmode": "relative",
        "height": 750,
        "legend": {
         "tracegroupgap": 0
        },
        "template": {
         "data": {
          "bar": [
           {
            "error_x": {
             "color": "#2a3f5f"
            },
            "error_y": {
             "color": "#2a3f5f"
            },
            "marker": {
             "line": {
              "color": "#E5ECF6",
              "width": 0.5
             },
             "pattern": {
              "fillmode": "overlay",
              "size": 10,
              "solidity": 0.2
             }
            },
            "type": "bar"
           }
          ],
          "barpolar": [
           {
            "marker": {
             "line": {
              "color": "#E5ECF6",
              "width": 0.5
             },
             "pattern": {
              "fillmode": "overlay",
              "size": 10,
              "solidity": 0.2
             }
            },
            "type": "barpolar"
           }
          ],
          "carpet": [
           {
            "aaxis": {
             "endlinecolor": "#2a3f5f",
             "gridcolor": "white",
             "linecolor": "white",
             "minorgridcolor": "white",
             "startlinecolor": "#2a3f5f"
            },
            "baxis": {
             "endlinecolor": "#2a3f5f",
             "gridcolor": "white",
             "linecolor": "white",
             "minorgridcolor": "white",
             "startlinecolor": "#2a3f5f"
            },
            "type": "carpet"
           }
          ],
          "choropleth": [
           {
            "colorbar": {
             "outlinewidth": 0,
             "ticks": ""
            },
            "type": "choropleth"
           }
          ],
          "contour": [
           {
            "colorbar": {
             "outlinewidth": 0,
             "ticks": ""
            },
            "colorscale": [
             [
              0,
              "#0d0887"
             ],
             [
              0.1111111111111111,
              "#46039f"
             ],
             [
              0.2222222222222222,
              "#7201a8"
             ],
             [
              0.3333333333333333,
              "#9c179e"
             ],
             [
              0.4444444444444444,
              "#bd3786"
             ],
             [
              0.5555555555555556,
              "#d8576b"
             ],
             [
              0.6666666666666666,
              "#ed7953"
             ],
             [
              0.7777777777777778,
              "#fb9f3a"
             ],
             [
              0.8888888888888888,
              "#fdca26"
             ],
             [
              1,
              "#f0f921"
             ]
            ],
            "type": "contour"
           }
          ],
          "contourcarpet": [
           {
            "colorbar": {
             "outlinewidth": 0,
             "ticks": ""
            },
            "type": "contourcarpet"
           }
          ],
          "heatmap": [
           {
            "colorbar": {
             "outlinewidth": 0,
             "ticks": ""
            },
            "colorscale": [
             [
              0,
              "#0d0887"
             ],
             [
              0.1111111111111111,
              "#46039f"
             ],
             [
              0.2222222222222222,
              "#7201a8"
             ],
             [
              0.3333333333333333,
              "#9c179e"
             ],
             [
              0.4444444444444444,
              "#bd3786"
             ],
             [
              0.5555555555555556,
              "#d8576b"
             ],
             [
              0.6666666666666666,
              "#ed7953"
             ],
             [
              0.7777777777777778,
              "#fb9f3a"
             ],
             [
              0.8888888888888888,
              "#fdca26"
             ],
             [
              1,
              "#f0f921"
             ]
            ],
            "type": "heatmap"
           }
          ],
          "heatmapgl": [
           {
            "colorbar": {
             "outlinewidth": 0,
             "ticks": ""
            },
            "colorscale": [
             [
              0,
              "#0d0887"
             ],
             [
              0.1111111111111111,
              "#46039f"
             ],
             [
              0.2222222222222222,
              "#7201a8"
             ],
             [
              0.3333333333333333,
              "#9c179e"
             ],
             [
              0.4444444444444444,
              "#bd3786"
             ],
             [
              0.5555555555555556,
              "#d8576b"
             ],
             [
              0.6666666666666666,
              "#ed7953"
             ],
             [
              0.7777777777777778,
              "#fb9f3a"
             ],
             [
              0.8888888888888888,
              "#fdca26"
             ],
             [
              1,
              "#f0f921"
             ]
            ],
            "type": "heatmapgl"
           }
          ],
          "histogram": [
           {
            "marker": {
             "pattern": {
              "fillmode": "overlay",
              "size": 10,
              "solidity": 0.2
             }
            },
            "type": "histogram"
           }
          ],
          "histogram2d": [
           {
            "colorbar": {
             "outlinewidth": 0,
             "ticks": ""
            },
            "colorscale": [
             [
              0,
              "#0d0887"
             ],
             [
              0.1111111111111111,
              "#46039f"
             ],
             [
              0.2222222222222222,
              "#7201a8"
             ],
             [
              0.3333333333333333,
              "#9c179e"
             ],
             [
              0.4444444444444444,
              "#bd3786"
             ],
             [
              0.5555555555555556,
              "#d8576b"
             ],
             [
              0.6666666666666666,
              "#ed7953"
             ],
             [
              0.7777777777777778,
              "#fb9f3a"
             ],
             [
              0.8888888888888888,
              "#fdca26"
             ],
             [
              1,
              "#f0f921"
             ]
            ],
            "type": "histogram2d"
           }
          ],
          "histogram2dcontour": [
           {
            "colorbar": {
             "outlinewidth": 0,
             "ticks": ""
            },
            "colorscale": [
             [
              0,
              "#0d0887"
             ],
             [
              0.1111111111111111,
              "#46039f"
             ],
             [
              0.2222222222222222,
              "#7201a8"
             ],
             [
              0.3333333333333333,
              "#9c179e"
             ],
             [
              0.4444444444444444,
              "#bd3786"
             ],
             [
              0.5555555555555556,
              "#d8576b"
             ],
             [
              0.6666666666666666,
              "#ed7953"
             ],
             [
              0.7777777777777778,
              "#fb9f3a"
             ],
             [
              0.8888888888888888,
              "#fdca26"
             ],
             [
              1,
              "#f0f921"
             ]
            ],
            "type": "histogram2dcontour"
           }
          ],
          "mesh3d": [
           {
            "colorbar": {
             "outlinewidth": 0,
             "ticks": ""
            },
            "type": "mesh3d"
           }
          ],
          "parcoords": [
           {
            "line": {
             "colorbar": {
              "outlinewidth": 0,
              "ticks": ""
             }
            },
            "type": "parcoords"
           }
          ],
          "pie": [
           {
            "automargin": true,
            "type": "pie"
           }
          ],
          "scatter": [
           {
            "marker": {
             "colorbar": {
              "outlinewidth": 0,
              "ticks": ""
             }
            },
            "type": "scatter"
           }
          ],
          "scatter3d": [
           {
            "line": {
             "colorbar": {
              "outlinewidth": 0,
              "ticks": ""
             }
            },
            "marker": {
             "colorbar": {
              "outlinewidth": 0,
              "ticks": ""
             }
            },
            "type": "scatter3d"
           }
          ],
          "scattercarpet": [
           {
            "marker": {
             "colorbar": {
              "outlinewidth": 0,
              "ticks": ""
             }
            },
            "type": "scattercarpet"
           }
          ],
          "scattergeo": [
           {
            "marker": {
             "colorbar": {
              "outlinewidth": 0,
              "ticks": ""
             }
            },
            "type": "scattergeo"
           }
          ],
          "scattergl": [
           {
            "marker": {
             "colorbar": {
              "outlinewidth": 0,
              "ticks": ""
             }
            },
            "type": "scattergl"
           }
          ],
          "scattermapbox": [
           {
            "marker": {
             "colorbar": {
              "outlinewidth": 0,
              "ticks": ""
             }
            },
            "type": "scattermapbox"
           }
          ],
          "scatterpolar": [
           {
            "marker": {
             "colorbar": {
              "outlinewidth": 0,
              "ticks": ""
             }
            },
            "type": "scatterpolar"
           }
          ],
          "scatterpolargl": [
           {
            "marker": {
             "colorbar": {
              "outlinewidth": 0,
              "ticks": ""
             }
            },
            "type": "scatterpolargl"
           }
          ],
          "scatterternary": [
           {
            "marker": {
             "colorbar": {
              "outlinewidth": 0,
              "ticks": ""
             }
            },
            "type": "scatterternary"
           }
          ],
          "surface": [
           {
            "colorbar": {
             "outlinewidth": 0,
             "ticks": ""
            },
            "colorscale": [
             [
              0,
              "#0d0887"
             ],
             [
              0.1111111111111111,
              "#46039f"
             ],
             [
              0.2222222222222222,
              "#7201a8"
             ],
             [
              0.3333333333333333,
              "#9c179e"
             ],
             [
              0.4444444444444444,
              "#bd3786"
             ],
             [
              0.5555555555555556,
              "#d8576b"
             ],
             [
              0.6666666666666666,
              "#ed7953"
             ],
             [
              0.7777777777777778,
              "#fb9f3a"
             ],
             [
              0.8888888888888888,
              "#fdca26"
             ],
             [
              1,
              "#f0f921"
             ]
            ],
            "type": "surface"
           }
          ],
          "table": [
           {
            "cells": {
             "fill": {
              "color": "#EBF0F8"
             },
             "line": {
              "color": "white"
             }
            },
            "header": {
             "fill": {
              "color": "#C8D4E3"
             },
             "line": {
              "color": "white"
             }
            },
            "type": "table"
           }
          ]
         },
         "layout": {
          "annotationdefaults": {
           "arrowcolor": "#2a3f5f",
           "arrowhead": 0,
           "arrowwidth": 1
          },
          "autotypenumbers": "strict",
          "coloraxis": {
           "colorbar": {
            "outlinewidth": 0,
            "ticks": ""
           }
          },
          "colorscale": {
           "diverging": [
            [
             0,
             "#8e0152"
            ],
            [
             0.1,
             "#c51b7d"
            ],
            [
             0.2,
             "#de77ae"
            ],
            [
             0.3,
             "#f1b6da"
            ],
            [
             0.4,
             "#fde0ef"
            ],
            [
             0.5,
             "#f7f7f7"
            ],
            [
             0.6,
             "#e6f5d0"
            ],
            [
             0.7,
             "#b8e186"
            ],
            [
             0.8,
             "#7fbc41"
            ],
            [
             0.9,
             "#4d9221"
            ],
            [
             1,
             "#276419"
            ]
           ],
           "sequential": [
            [
             0,
             "#0d0887"
            ],
            [
             0.1111111111111111,
             "#46039f"
            ],
            [
             0.2222222222222222,
             "#7201a8"
            ],
            [
             0.3333333333333333,
             "#9c179e"
            ],
            [
             0.4444444444444444,
             "#bd3786"
            ],
            [
             0.5555555555555556,
             "#d8576b"
            ],
            [
             0.6666666666666666,
             "#ed7953"
            ],
            [
             0.7777777777777778,
             "#fb9f3a"
            ],
            [
             0.8888888888888888,
             "#fdca26"
            ],
            [
             1,
             "#f0f921"
            ]
           ],
           "sequentialminus": [
            [
             0,
             "#0d0887"
            ],
            [
             0.1111111111111111,
             "#46039f"
            ],
            [
             0.2222222222222222,
             "#7201a8"
            ],
            [
             0.3333333333333333,
             "#9c179e"
            ],
            [
             0.4444444444444444,
             "#bd3786"
            ],
            [
             0.5555555555555556,
             "#d8576b"
            ],
            [
             0.6666666666666666,
             "#ed7953"
            ],
            [
             0.7777777777777778,
             "#fb9f3a"
            ],
            [
             0.8888888888888888,
             "#fdca26"
            ],
            [
             1,
             "#f0f921"
            ]
           ]
          },
          "colorway": [
           "#636efa",
           "#EF553B",
           "#00cc96",
           "#ab63fa",
           "#FFA15A",
           "#19d3f3",
           "#FF6692",
           "#B6E880",
           "#FF97FF",
           "#FECB52"
          ],
          "font": {
           "color": "#2a3f5f"
          },
          "geo": {
           "bgcolor": "white",
           "lakecolor": "white",
           "landcolor": "#E5ECF6",
           "showlakes": true,
           "showland": true,
           "subunitcolor": "white"
          },
          "hoverlabel": {
           "align": "left"
          },
          "hovermode": "closest",
          "mapbox": {
           "style": "light"
          },
          "paper_bgcolor": "white",
          "plot_bgcolor": "#E5ECF6",
          "polar": {
           "angularaxis": {
            "gridcolor": "white",
            "linecolor": "white",
            "ticks": ""
           },
           "bgcolor": "#E5ECF6",
           "radialaxis": {
            "gridcolor": "white",
            "linecolor": "white",
            "ticks": ""
           }
          },
          "scene": {
           "xaxis": {
            "backgroundcolor": "#E5ECF6",
            "gridcolor": "white",
            "gridwidth": 2,
            "linecolor": "white",
            "showbackground": true,
            "ticks": "",
            "zerolinecolor": "white"
           },
           "yaxis": {
            "backgroundcolor": "#E5ECF6",
            "gridcolor": "white",
            "gridwidth": 2,
            "linecolor": "white",
            "showbackground": true,
            "ticks": "",
            "zerolinecolor": "white"
           },
           "zaxis": {
            "backgroundcolor": "#E5ECF6",
            "gridcolor": "white",
            "gridwidth": 2,
            "linecolor": "white",
            "showbackground": true,
            "ticks": "",
            "zerolinecolor": "white"
           }
          },
          "shapedefaults": {
           "line": {
            "color": "#2a3f5f"
           }
          },
          "ternary": {
           "aaxis": {
            "gridcolor": "white",
            "linecolor": "white",
            "ticks": ""
           },
           "baxis": {
            "gridcolor": "white",
            "linecolor": "white",
            "ticks": ""
           },
           "bgcolor": "#E5ECF6",
           "caxis": {
            "gridcolor": "white",
            "linecolor": "white",
            "ticks": ""
           }
          },
          "title": {
           "x": 0.05
          },
          "xaxis": {
           "automargin": true,
           "gridcolor": "white",
           "linecolor": "white",
           "ticks": "",
           "title": {
            "standoff": 15
           },
           "zerolinecolor": "white",
           "zerolinewidth": 2
          },
          "yaxis": {
           "automargin": true,
           "gridcolor": "white",
           "linecolor": "white",
           "ticks": "",
           "title": {
            "standoff": 15
           },
           "zerolinecolor": "white",
           "zerolinewidth": 2
          }
         }
        },
        "title": {
         "text": "Recall(lenient def) in avante all facilities, 2021-01-15 to 2021-10-15"
        },
        "xaxis": {
         "anchor": "y",
         "domain": [
          0,
          1
         ],
         "range": [
          0,
          1
         ],
         "tickformat": ",.0%",
         "title": {
          "text": "Recall"
         }
        },
        "yaxis": {
         "anchor": "x",
         "autorange": "reversed",
         "domain": [
          0,
          1
         ],
         "title": {
          "text": "Length Of Stay"
         }
        }
       }
      },
      "text/html": [
       "<div>                            <div id=\"8ed70b23-ff0e-483e-80e7-0e403ff02adc\" class=\"plotly-graph-div\" style=\"height:750px; width:100%;\"></div>            <script type=\"text/javascript\">                require([\"plotly\"], function(Plotly) {                    window.PLOTLYENV=window.PLOTLYENV || {};                                    if (document.getElementById(\"8ed70b23-ff0e-483e-80e7-0e403ff02adc\")) {                    Plotly.newPlot(                        \"8ed70b23-ff0e-483e-80e7-0e403ff02adc\",                        [{\"alignmentgroup\":\"True\",\"hovertemplate\":\"Recall=%{x}<br>Length Of Stay=%{y}<extra></extra>\",\"legendgroup\":\"\",\"marker\":{\"color\":\"#636efa\",\"pattern\":{\"shape\":\"\"}},\"name\":\"\",\"offsetgroup\":\"\",\"orientation\":\"h\",\"showlegend\":false,\"textposition\":\"outside\",\"type\":\"bar\",\"x\":[0.5757575757575758,0.5764075067024129,0.5832566697332107,0.5833333333333334,0.5744047619047619,0.5682281059063137,0.5602536997885835,0.5524017467248908,0.5419501133786848,0.5345029239766081,0.5258724428399518,0.5161691542288557,0.5077120822622108,0.5,0.49182561307901906,0.4810126582278481,0.4716981132075472,0.4666666666666667,0.456752655538695,0.4496124031007752,0.44145569620253167,0.4405144694533762,0.4375,0.43147208121827413,0.422680412371134,0.4143356643356643,0.4103942652329749,0.40545454545454546,0.395910780669145,0.391304347826087,0.390057361376673,0.3875968992248062,0.383399209486166,0.382,0.3765182186234818,0.37398373983739835,0.37166324435318276,0.36907216494845363,0.36401673640167365,0.3582089552238806,0.3563714902807775,0.3576158940397351,0.35777777777777775,0.35600907029478457,0.3533487297921478,0.3511627906976744,0.34976525821596244,0.35083532219570407,0.3469879518072289,0.34068627450980393,0.32917705735660846,0.33080808080808083,0.329923273657289,0.3342036553524804,0.3324468085106383,0.3279569892473118,0.3261455525606469,0.3252032520325203,0.3232876712328767,0.32132963988919666,0.31932773109243695,0.31741573033707865,0.3153409090909091,0.3153409090909091,0.3123209169054441,0.31213872832369943,0.3157894736842105,0.31563421828908556,0.3125,0.3153153153153153,0.311178247734139,0.3090909090909091,0.308868501529052,0.3076923076923077,0.3105590062111801,0.30625,0.3050314465408805,0.3037974683544304,0.2971246006389776,0.29260450160771706,0.29545454545454547,0.2931596091205212,0.2908496732026144,0.29180327868852457,0.29042904290429045,0.292358803986711,0.29333333333333333,0.29292929292929293,0.2910958904109589,0.2920962199312715,0.29310344827586204,0.2972027972027972,0.3003533568904594,0.302491103202847,0.3057553956834532,0.30685920577617326,0.30036630036630035,0.2988929889298893,0.30223880597014924,0.30451127819548873,0.3018867924528302,0.3041825095057034,0.3015267175572519,0.3015267175572519,0.30268199233716475,0.3038461538461538,0.30115830115830117,0.29844961240310075,0.296875,0.2980392156862745,0.30039525691699603,0.29880478087649404,0.30120481927710846,0.30120481927710846,0.29959514170040485,0.29959514170040485,0.29959514170040485,0.3020408163265306,0.3020408163265306,0.30327868852459017,0.3],\"xaxis\":\"x\",\"y\":[\"All\",\">=1\",\">=2\",\">=3\",\">=4\",\">=5\",\">=6\",\">=7\",\">=8\",\">=9\",\">=10\",\">=11\",\">=12\",\">=13\",\">=14\",\">=15\",\">=16\",\">=17\",\">=18\",\">=19\",\">=20\",\">=21\",\">=22\",\">=23\",\">=24\",\">=25\",\">=26\",\">=27\",\">=28\",\">=29\",\">=30\",\">=31\",\">=32\",\">=33\",\">=34\",\">=35\",\">=36\",\">=37\",\">=38\",\">=39\",\">=40\",\">=41\",\">=42\",\">=43\",\">=44\",\">=45\",\">=46\",\">=47\",\">=48\",\">=49\",\">=50\",\">=51\",\">=52\",\">=53\",\">=54\",\">=55\",\">=56\",\">=57\",\">=58\",\">=59\",\">=60\",\">=61\",\">=62\",\">=63\",\">=64\",\">=65\",\">=66\",\">=67\",\">=68\",\">=69\",\">=70\",\">=71\",\">=72\",\">=73\",\">=74\",\">=75\",\">=76\",\">=77\",\">=78\",\">=79\",\">=80\",\">=81\",\">=82\",\">=83\",\">=84\",\">=85\",\">=86\",\">=87\",\">=88\",\">=89\",\">=90\",\">=91\",\">=92\",\">=93\",\">=94\",\">=95\",\">=96\",\">=97\",\">=98\",\">=99\",\">=100\",\">=101\",\">=102\",\">=103\",\">=104\",\">=105\",\">=106\",\">=107\",\">=108\",\">=109\",\">=110\",\">=111\",\">=112\",\">=113\",\">=114\",\">=115\",\">=116\",\">=117\",\">=118\",\">=119\",\">=120\"],\"yaxis\":\"y\"}],                        {\"barmode\":\"relative\",\"height\":750,\"legend\":{\"tracegroupgap\":0},\"template\":{\"data\":{\"bar\":[{\"error_x\":{\"color\":\"#2a3f5f\"},\"error_y\":{\"color\":\"#2a3f5f\"},\"marker\":{\"line\":{\"color\":\"#E5ECF6\",\"width\":0.5},\"pattern\":{\"fillmode\":\"overlay\",\"size\":10,\"solidity\":0.2}},\"type\":\"bar\"}],\"barpolar\":[{\"marker\":{\"line\":{\"color\":\"#E5ECF6\",\"width\":0.5},\"pattern\":{\"fillmode\":\"overlay\",\"size\":10,\"solidity\":0.2}},\"type\":\"barpolar\"}],\"carpet\":[{\"aaxis\":{\"endlinecolor\":\"#2a3f5f\",\"gridcolor\":\"white\",\"linecolor\":\"white\",\"minorgridcolor\":\"white\",\"startlinecolor\":\"#2a3f5f\"},\"baxis\":{\"endlinecolor\":\"#2a3f5f\",\"gridcolor\":\"white\",\"linecolor\":\"white\",\"minorgridcolor\":\"white\",\"startlinecolor\":\"#2a3f5f\"},\"type\":\"carpet\"}],\"choropleth\":[{\"colorbar\":{\"outlinewidth\":0,\"ticks\":\"\"},\"type\":\"choropleth\"}],\"contour\":[{\"colorbar\":{\"outlinewidth\":0,\"ticks\":\"\"},\"colorscale\":[[0.0,\"#0d0887\"],[0.1111111111111111,\"#46039f\"],[0.2222222222222222,\"#7201a8\"],[0.3333333333333333,\"#9c179e\"],[0.4444444444444444,\"#bd3786\"],[0.5555555555555556,\"#d8576b\"],[0.6666666666666666,\"#ed7953\"],[0.7777777777777778,\"#fb9f3a\"],[0.8888888888888888,\"#fdca26\"],[1.0,\"#f0f921\"]],\"type\":\"contour\"}],\"contourcarpet\":[{\"colorbar\":{\"outlinewidth\":0,\"ticks\":\"\"},\"type\":\"contourcarpet\"}],\"heatmap\":[{\"colorbar\":{\"outlinewidth\":0,\"ticks\":\"\"},\"colorscale\":[[0.0,\"#0d0887\"],[0.1111111111111111,\"#46039f\"],[0.2222222222222222,\"#7201a8\"],[0.3333333333333333,\"#9c179e\"],[0.4444444444444444,\"#bd3786\"],[0.5555555555555556,\"#d8576b\"],[0.6666666666666666,\"#ed7953\"],[0.7777777777777778,\"#fb9f3a\"],[0.8888888888888888,\"#fdca26\"],[1.0,\"#f0f921\"]],\"type\":\"heatmap\"}],\"heatmapgl\":[{\"colorbar\":{\"outlinewidth\":0,\"ticks\":\"\"},\"colorscale\":[[0.0,\"#0d0887\"],[0.1111111111111111,\"#46039f\"],[0.2222222222222222,\"#7201a8\"],[0.3333333333333333,\"#9c179e\"],[0.4444444444444444,\"#bd3786\"],[0.5555555555555556,\"#d8576b\"],[0.6666666666666666,\"#ed7953\"],[0.7777777777777778,\"#fb9f3a\"],[0.8888888888888888,\"#fdca26\"],[1.0,\"#f0f921\"]],\"type\":\"heatmapgl\"}],\"histogram\":[{\"marker\":{\"pattern\":{\"fillmode\":\"overlay\",\"size\":10,\"solidity\":0.2}},\"type\":\"histogram\"}],\"histogram2d\":[{\"colorbar\":{\"outlinewidth\":0,\"ticks\":\"\"},\"colorscale\":[[0.0,\"#0d0887\"],[0.1111111111111111,\"#46039f\"],[0.2222222222222222,\"#7201a8\"],[0.3333333333333333,\"#9c179e\"],[0.4444444444444444,\"#bd3786\"],[0.5555555555555556,\"#d8576b\"],[0.6666666666666666,\"#ed7953\"],[0.7777777777777778,\"#fb9f3a\"],[0.8888888888888888,\"#fdca26\"],[1.0,\"#f0f921\"]],\"type\":\"histogram2d\"}],\"histogram2dcontour\":[{\"colorbar\":{\"outlinewidth\":0,\"ticks\":\"\"},\"colorscale\":[[0.0,\"#0d0887\"],[0.1111111111111111,\"#46039f\"],[0.2222222222222222,\"#7201a8\"],[0.3333333333333333,\"#9c179e\"],[0.4444444444444444,\"#bd3786\"],[0.5555555555555556,\"#d8576b\"],[0.6666666666666666,\"#ed7953\"],[0.7777777777777778,\"#fb9f3a\"],[0.8888888888888888,\"#fdca26\"],[1.0,\"#f0f921\"]],\"type\":\"histogram2dcontour\"}],\"mesh3d\":[{\"colorbar\":{\"outlinewidth\":0,\"ticks\":\"\"},\"type\":\"mesh3d\"}],\"parcoords\":[{\"line\":{\"colorbar\":{\"outlinewidth\":0,\"ticks\":\"\"}},\"type\":\"parcoords\"}],\"pie\":[{\"automargin\":true,\"type\":\"pie\"}],\"scatter\":[{\"marker\":{\"colorbar\":{\"outlinewidth\":0,\"ticks\":\"\"}},\"type\":\"scatter\"}],\"scatter3d\":[{\"line\":{\"colorbar\":{\"outlinewidth\":0,\"ticks\":\"\"}},\"marker\":{\"colorbar\":{\"outlinewidth\":0,\"ticks\":\"\"}},\"type\":\"scatter3d\"}],\"scattercarpet\":[{\"marker\":{\"colorbar\":{\"outlinewidth\":0,\"ticks\":\"\"}},\"type\":\"scattercarpet\"}],\"scattergeo\":[{\"marker\":{\"colorbar\":{\"outlinewidth\":0,\"ticks\":\"\"}},\"type\":\"scattergeo\"}],\"scattergl\":[{\"marker\":{\"colorbar\":{\"outlinewidth\":0,\"ticks\":\"\"}},\"type\":\"scattergl\"}],\"scattermapbox\":[{\"marker\":{\"colorbar\":{\"outlinewidth\":0,\"ticks\":\"\"}},\"type\":\"scattermapbox\"}],\"scatterpolar\":[{\"marker\":{\"colorbar\":{\"outlinewidth\":0,\"ticks\":\"\"}},\"type\":\"scatterpolar\"}],\"scatterpolargl\":[{\"marker\":{\"colorbar\":{\"outlinewidth\":0,\"ticks\":\"\"}},\"type\":\"scatterpolargl\"}],\"scatterternary\":[{\"marker\":{\"colorbar\":{\"outlinewidth\":0,\"ticks\":\"\"}},\"type\":\"scatterternary\"}],\"surface\":[{\"colorbar\":{\"outlinewidth\":0,\"ticks\":\"\"},\"colorscale\":[[0.0,\"#0d0887\"],[0.1111111111111111,\"#46039f\"],[0.2222222222222222,\"#7201a8\"],[0.3333333333333333,\"#9c179e\"],[0.4444444444444444,\"#bd3786\"],[0.5555555555555556,\"#d8576b\"],[0.6666666666666666,\"#ed7953\"],[0.7777777777777778,\"#fb9f3a\"],[0.8888888888888888,\"#fdca26\"],[1.0,\"#f0f921\"]],\"type\":\"surface\"}],\"table\":[{\"cells\":{\"fill\":{\"color\":\"#EBF0F8\"},\"line\":{\"color\":\"white\"}},\"header\":{\"fill\":{\"color\":\"#C8D4E3\"},\"line\":{\"color\":\"white\"}},\"type\":\"table\"}]},\"layout\":{\"annotationdefaults\":{\"arrowcolor\":\"#2a3f5f\",\"arrowhead\":0,\"arrowwidth\":1},\"autotypenumbers\":\"strict\",\"coloraxis\":{\"colorbar\":{\"outlinewidth\":0,\"ticks\":\"\"}},\"colorscale\":{\"diverging\":[[0,\"#8e0152\"],[0.1,\"#c51b7d\"],[0.2,\"#de77ae\"],[0.3,\"#f1b6da\"],[0.4,\"#fde0ef\"],[0.5,\"#f7f7f7\"],[0.6,\"#e6f5d0\"],[0.7,\"#b8e186\"],[0.8,\"#7fbc41\"],[0.9,\"#4d9221\"],[1,\"#276419\"]],\"sequential\":[[0.0,\"#0d0887\"],[0.1111111111111111,\"#46039f\"],[0.2222222222222222,\"#7201a8\"],[0.3333333333333333,\"#9c179e\"],[0.4444444444444444,\"#bd3786\"],[0.5555555555555556,\"#d8576b\"],[0.6666666666666666,\"#ed7953\"],[0.7777777777777778,\"#fb9f3a\"],[0.8888888888888888,\"#fdca26\"],[1.0,\"#f0f921\"]],\"sequentialminus\":[[0.0,\"#0d0887\"],[0.1111111111111111,\"#46039f\"],[0.2222222222222222,\"#7201a8\"],[0.3333333333333333,\"#9c179e\"],[0.4444444444444444,\"#bd3786\"],[0.5555555555555556,\"#d8576b\"],[0.6666666666666666,\"#ed7953\"],[0.7777777777777778,\"#fb9f3a\"],[0.8888888888888888,\"#fdca26\"],[1.0,\"#f0f921\"]]},\"colorway\":[\"#636efa\",\"#EF553B\",\"#00cc96\",\"#ab63fa\",\"#FFA15A\",\"#19d3f3\",\"#FF6692\",\"#B6E880\",\"#FF97FF\",\"#FECB52\"],\"font\":{\"color\":\"#2a3f5f\"},\"geo\":{\"bgcolor\":\"white\",\"lakecolor\":\"white\",\"landcolor\":\"#E5ECF6\",\"showlakes\":true,\"showland\":true,\"subunitcolor\":\"white\"},\"hoverlabel\":{\"align\":\"left\"},\"hovermode\":\"closest\",\"mapbox\":{\"style\":\"light\"},\"paper_bgcolor\":\"white\",\"plot_bgcolor\":\"#E5ECF6\",\"polar\":{\"angularaxis\":{\"gridcolor\":\"white\",\"linecolor\":\"white\",\"ticks\":\"\"},\"bgcolor\":\"#E5ECF6\",\"radialaxis\":{\"gridcolor\":\"white\",\"linecolor\":\"white\",\"ticks\":\"\"}},\"scene\":{\"xaxis\":{\"backgroundcolor\":\"#E5ECF6\",\"gridcolor\":\"white\",\"gridwidth\":2,\"linecolor\":\"white\",\"showbackground\":true,\"ticks\":\"\",\"zerolinecolor\":\"white\"},\"yaxis\":{\"backgroundcolor\":\"#E5ECF6\",\"gridcolor\":\"white\",\"gridwidth\":2,\"linecolor\":\"white\",\"showbackground\":true,\"ticks\":\"\",\"zerolinecolor\":\"white\"},\"zaxis\":{\"backgroundcolor\":\"#E5ECF6\",\"gridcolor\":\"white\",\"gridwidth\":2,\"linecolor\":\"white\",\"showbackground\":true,\"ticks\":\"\",\"zerolinecolor\":\"white\"}},\"shapedefaults\":{\"line\":{\"color\":\"#2a3f5f\"}},\"ternary\":{\"aaxis\":{\"gridcolor\":\"white\",\"linecolor\":\"white\",\"ticks\":\"\"},\"baxis\":{\"gridcolor\":\"white\",\"linecolor\":\"white\",\"ticks\":\"\"},\"bgcolor\":\"#E5ECF6\",\"caxis\":{\"gridcolor\":\"white\",\"linecolor\":\"white\",\"ticks\":\"\"}},\"title\":{\"x\":0.05},\"xaxis\":{\"automargin\":true,\"gridcolor\":\"white\",\"linecolor\":\"white\",\"ticks\":\"\",\"title\":{\"standoff\":15},\"zerolinecolor\":\"white\",\"zerolinewidth\":2},\"yaxis\":{\"automargin\":true,\"gridcolor\":\"white\",\"linecolor\":\"white\",\"ticks\":\"\",\"title\":{\"standoff\":15},\"zerolinecolor\":\"white\",\"zerolinewidth\":2}}},\"title\":{\"text\":\"Recall(lenient def) in avante all facilities, 2021-01-15 to 2021-10-15\"},\"xaxis\":{\"anchor\":\"y\",\"domain\":[0.0,1.0],\"range\":[0,1],\"tickformat\":\",.0%\",\"title\":{\"text\":\"Recall\"}},\"yaxis\":{\"anchor\":\"x\",\"autorange\":\"reversed\",\"domain\":[0.0,1.0],\"title\":{\"text\":\"Length Of Stay\"}}},                        {\"responsive\": true}                    ).then(function(){\n",
       "                            \n",
       "var gd = document.getElementById('8ed70b23-ff0e-483e-80e7-0e403ff02adc');\n",
       "var x = new MutationObserver(function (mutations, observer) {{\n",
       "        var display = window.getComputedStyle(gd).display;\n",
       "        if (!display || display === 'none') {{\n",
       "            console.log([gd, 'removed!']);\n",
       "            Plotly.purge(gd);\n",
       "            observer.disconnect();\n",
       "        }}\n",
       "}});\n",
       "\n",
       "// Listen for the removal of the full notebook cells\n",
       "var notebookContainer = gd.closest('#notebook-container');\n",
       "if (notebookContainer) {{\n",
       "    x.observe(notebookContainer, {childList: true});\n",
       "}}\n",
       "\n",
       "// Listen for the clearing of the current output cell\n",
       "var outputEl = gd.closest('.output');\n",
       "if (outputEl) {{\n",
       "    x.observe(outputEl, {childList: true});\n",
       "}}\n",
       "\n",
       "                        })                };                });            </script>        </div>"
      ]
     },
     "metadata": {},
     "output_type": "display_data"
    }
   ],
   "source": [
    "y = [f'>={i}' for i in range(0,121)]\n",
    "y[0] = 'All'\n",
    "\n",
    "y = [f'>={i}' for i in range(0,121)]\n",
    "y[0] = 'All'\n",
    "\n",
    "plt.show()\n",
    "\n",
    "fig = px.bar(\n",
    "    l_df, x=\"reverse_fraction_rth\", y=y, \n",
    "    labels={\n",
    "        'y':'Length Of Stay', \n",
    "        'reverse_fraction_rth': 'Recall'\n",
    "    }, \n",
    "    height=750, orientation='h',\n",
    "    title=f\"Recall(lenient def) in {CLIENT} all facilities, {date_range}\"\n",
    ")\n",
    "fig['layout']['yaxis']['autorange'] = \"reversed\"\n",
    "fig['layout']['xaxis']['tickformat'] = ',.0%'\n",
    "fig['layout']['xaxis']['range'] = [0,1]\n",
    "fig.update_traces( textposition='outside')\n",
    "\n",
    "fig.show()"
   ]
  },
  {
   "cell_type": "markdown",
   "id": "f83ba709",
   "metadata": {},
   "source": [
    "## Cumulative Combined Recall"
   ]
  },
  {
   "cell_type": "code",
   "execution_count": 37,
   "id": "187c5de8",
   "metadata": {
    "scrolled": true
   },
   "outputs": [
    {
     "data": {
      "application/vnd.plotly.v1+json": {
       "config": {
        "plotlyServerURL": "https://plot.ly"
       },
       "data": [
        {
         "hovertemplate": "variable=fraction_rth<br>Length Of Stay=%{x}<br>value=%{y}<extra></extra>",
         "legendgroup": "fraction_rth",
         "line": {
          "color": "#636efa",
          "dash": "solid"
         },
         "marker": {
          "symbol": "circle"
         },
         "mode": "lines",
         "name": "Recall at LOS <= x axis",
         "orientation": "v",
         "showlegend": true,
         "type": "scatter",
         "x": [
          0,
          1,
          2,
          3,
          4,
          5,
          6,
          7,
          8,
          9,
          10,
          11,
          12,
          13,
          14,
          15,
          16,
          17,
          18,
          19,
          20,
          21,
          22,
          23,
          24,
          25,
          26,
          27,
          28,
          29,
          30,
          31,
          32,
          33,
          34,
          35,
          36,
          37,
          38,
          39,
          40,
          41,
          42,
          43,
          44,
          45,
          46,
          47,
          48,
          49,
          50,
          51,
          52,
          53,
          54,
          55,
          56,
          57,
          58,
          59,
          60,
          61,
          62,
          63,
          64,
          65,
          66,
          67,
          68,
          69,
          70,
          71,
          72,
          73,
          74,
          75,
          76,
          77,
          78,
          79,
          80,
          81,
          82,
          83,
          84,
          85,
          86,
          87,
          88,
          89,
          90,
          91,
          92,
          93,
          94,
          95,
          96,
          97,
          98,
          99,
          100,
          101,
          102,
          103,
          104,
          105,
          106,
          107,
          108,
          109,
          110,
          111,
          112,
          113,
          114,
          115,
          116,
          117,
          118,
          119,
          120
         ],
         "xaxis": "x",
         "y": [
          0.3333333333333333,
          0.34285714285714286,
          0.47435897435897434,
          0.5877192982456141,
          0.6285714285714286,
          0.6590909090909091,
          0.6796116504854369,
          0.7,
          0.7078651685393258,
          0.718213058419244,
          0.7264150943396226,
          0.7296511627906976,
          0.7309782608695652,
          0.7345360824742269,
          0.7396593673965937,
          0.7413394919168591,
          0.7404921700223713,
          0.7451403887688985,
          0.7463312368972747,
          0.7489795918367347,
          0.744,
          0.7392996108949417,
          0.736346516007533,
          0.7407407407407407,
          0.7436363636363637,
          0.7393617021276596,
          0.7395104895104895,
          0.7414383561643836,
          0.7403035413153457,
          0.7378964941569283,
          0.735973597359736,
          0.7337662337662337,
          0.7315112540192926,
          0.732484076433121,
          0.7333333333333333,
          0.7322834645669292,
          0.7331240188383046,
          0.7329192546583851,
          0.7320061255742726,
          0.7298937784522003,
          0.7234678624813154,
          0.7217261904761905,
          0.7180616740088106,
          0.7155297532656023,
          0.7153179190751445,
          0.7140804597701149,
          0.7098150782361309,
          0.71004243281471,
          0.7100840336134454,
          0.7128987517337032,
          0.709366391184573,
          0.707250341997264,
          0.7009472259810555,
          0.6983914209115282,
          0.6986666666666667,
          0.6990679094540613,
          0.6985391766268261,
          0.6974900924702774,
          0.6964520367936925,
          0.6954248366013072,
          0.695822454308094,
          0.6948051948051948,
          0.6948051948051948,
          0.6946959896507116,
          0.6932989690721649,
          0.6897435897435897,
          0.6883780332056194,
          0.688295165394402,
          0.6856780735107731,
          0.6864728192161821,
          0.6868686868686869,
          0.6855345911949685,
          0.685069008782936,
          0.6825,
          0.683291770573566,
          0.6828358208955224,
          0.6823821339950372,
          0.6835599505562423,
          0.6843403205918619,
          0.6818181818181818,
          0.6822085889570552,
          0.6825980392156863,
          0.6817625458996328,
          0.6813186813186813,
          0.679658952496955,
          0.6788321167883211,
          0.6775757575757576,
          0.6759036144578313,
          0.6750902527075813,
          0.6742788461538461,
          0.6710526315789473,
          0.6686531585220501,
          0.667063020214031,
          0.6646919431279621,
          0.663905325443787,
          0.6643109540636042,
          0.663924794359577,
          0.6615925058548009,
          0.6600467289719626,
          0.6604434072345391,
          0.6589057043073341,
          0.6593023255813953,
          0.6593023255813953,
          0.6585365853658537,
          0.6577726218097448,
          0.6581691772885284,
          0.6585648148148148,
          0.6581986143187067,
          0.657439446366782,
          0.6559263521288837,
          0.6555683122847302,
          0.6540664375715922,
          0.6540664375715922,
          0.6537142857142857,
          0.6537142857142857,
          0.6537142857142857,
          0.6522234891676169,
          0.6522234891676169,
          0.6514806378132119,
          0.6507936507936508,
          0.5757575757575758
         ],
         "yaxis": "y"
        },
        {
         "hovertemplate": "variable=reverse_fraction_rth<br>Length Of Stay=%{x}<br>value=%{y}<extra></extra>",
         "legendgroup": "reverse_fraction_rth",
         "line": {
          "color": "#EF553B",
          "dash": "solid"
         },
         "marker": {
          "symbol": "circle"
         },
         "mode": "lines",
         "name": "Recall at LOS >= x axis",
         "orientation": "v",
         "showlegend": true,
         "type": "scatter",
         "x": [
          0,
          1,
          2,
          3,
          4,
          5,
          6,
          7,
          8,
          9,
          10,
          11,
          12,
          13,
          14,
          15,
          16,
          17,
          18,
          19,
          20,
          21,
          22,
          23,
          24,
          25,
          26,
          27,
          28,
          29,
          30,
          31,
          32,
          33,
          34,
          35,
          36,
          37,
          38,
          39,
          40,
          41,
          42,
          43,
          44,
          45,
          46,
          47,
          48,
          49,
          50,
          51,
          52,
          53,
          54,
          55,
          56,
          57,
          58,
          59,
          60,
          61,
          62,
          63,
          64,
          65,
          66,
          67,
          68,
          69,
          70,
          71,
          72,
          73,
          74,
          75,
          76,
          77,
          78,
          79,
          80,
          81,
          82,
          83,
          84,
          85,
          86,
          87,
          88,
          89,
          90,
          91,
          92,
          93,
          94,
          95,
          96,
          97,
          98,
          99,
          100,
          101,
          102,
          103,
          104,
          105,
          106,
          107,
          108,
          109,
          110,
          111,
          112,
          113,
          114,
          115,
          116,
          117,
          118,
          119,
          120
         ],
         "xaxis": "x",
         "y": [
          0.5757575757575758,
          0.5764075067024129,
          0.5832566697332107,
          0.5833333333333334,
          0.5744047619047619,
          0.5682281059063137,
          0.5602536997885835,
          0.5524017467248908,
          0.5419501133786848,
          0.5345029239766081,
          0.5258724428399518,
          0.5161691542288557,
          0.5077120822622108,
          0.5,
          0.49182561307901906,
          0.4810126582278481,
          0.4716981132075472,
          0.4666666666666667,
          0.456752655538695,
          0.4496124031007752,
          0.44145569620253167,
          0.4405144694533762,
          0.4375,
          0.43147208121827413,
          0.422680412371134,
          0.4143356643356643,
          0.4103942652329749,
          0.40545454545454546,
          0.395910780669145,
          0.391304347826087,
          0.390057361376673,
          0.3875968992248062,
          0.383399209486166,
          0.382,
          0.3765182186234818,
          0.37398373983739835,
          0.37166324435318276,
          0.36907216494845363,
          0.36401673640167365,
          0.3582089552238806,
          0.3563714902807775,
          0.3576158940397351,
          0.35777777777777775,
          0.35600907029478457,
          0.3533487297921478,
          0.3511627906976744,
          0.34976525821596244,
          0.35083532219570407,
          0.3469879518072289,
          0.34068627450980393,
          0.32917705735660846,
          0.33080808080808083,
          0.329923273657289,
          0.3342036553524804,
          0.3324468085106383,
          0.3279569892473118,
          0.3261455525606469,
          0.3252032520325203,
          0.3232876712328767,
          0.32132963988919666,
          0.31932773109243695,
          0.31741573033707865,
          0.3153409090909091,
          0.3153409090909091,
          0.3123209169054441,
          0.31213872832369943,
          0.3157894736842105,
          0.31563421828908556,
          0.3125,
          0.3153153153153153,
          0.311178247734139,
          0.3090909090909091,
          0.308868501529052,
          0.3076923076923077,
          0.3105590062111801,
          0.30625,
          0.3050314465408805,
          0.3037974683544304,
          0.2971246006389776,
          0.29260450160771706,
          0.29545454545454547,
          0.2931596091205212,
          0.2908496732026144,
          0.29180327868852457,
          0.29042904290429045,
          0.292358803986711,
          0.29333333333333333,
          0.29292929292929293,
          0.2910958904109589,
          0.2920962199312715,
          0.29310344827586204,
          0.2972027972027972,
          0.3003533568904594,
          0.302491103202847,
          0.3057553956834532,
          0.30685920577617326,
          0.30036630036630035,
          0.2988929889298893,
          0.30223880597014924,
          0.30451127819548873,
          0.3018867924528302,
          0.3041825095057034,
          0.3015267175572519,
          0.3015267175572519,
          0.30268199233716475,
          0.3038461538461538,
          0.30115830115830117,
          0.29844961240310075,
          0.296875,
          0.2980392156862745,
          0.30039525691699603,
          0.29880478087649404,
          0.30120481927710846,
          0.30120481927710846,
          0.29959514170040485,
          0.29959514170040485,
          0.29959514170040485,
          0.3020408163265306,
          0.3020408163265306,
          0.30327868852459017,
          0.3
         ],
         "yaxis": "y"
        }
       ],
       "layout": {
        "height": 750,
        "legend": {
         "title": {
          "text": "variable"
         },
         "tracegroupgap": 0
        },
        "template": {
         "data": {
          "bar": [
           {
            "error_x": {
             "color": "#2a3f5f"
            },
            "error_y": {
             "color": "#2a3f5f"
            },
            "marker": {
             "line": {
              "color": "#E5ECF6",
              "width": 0.5
             },
             "pattern": {
              "fillmode": "overlay",
              "size": 10,
              "solidity": 0.2
             }
            },
            "type": "bar"
           }
          ],
          "barpolar": [
           {
            "marker": {
             "line": {
              "color": "#E5ECF6",
              "width": 0.5
             },
             "pattern": {
              "fillmode": "overlay",
              "size": 10,
              "solidity": 0.2
             }
            },
            "type": "barpolar"
           }
          ],
          "carpet": [
           {
            "aaxis": {
             "endlinecolor": "#2a3f5f",
             "gridcolor": "white",
             "linecolor": "white",
             "minorgridcolor": "white",
             "startlinecolor": "#2a3f5f"
            },
            "baxis": {
             "endlinecolor": "#2a3f5f",
             "gridcolor": "white",
             "linecolor": "white",
             "minorgridcolor": "white",
             "startlinecolor": "#2a3f5f"
            },
            "type": "carpet"
           }
          ],
          "choropleth": [
           {
            "colorbar": {
             "outlinewidth": 0,
             "ticks": ""
            },
            "type": "choropleth"
           }
          ],
          "contour": [
           {
            "colorbar": {
             "outlinewidth": 0,
             "ticks": ""
            },
            "colorscale": [
             [
              0,
              "#0d0887"
             ],
             [
              0.1111111111111111,
              "#46039f"
             ],
             [
              0.2222222222222222,
              "#7201a8"
             ],
             [
              0.3333333333333333,
              "#9c179e"
             ],
             [
              0.4444444444444444,
              "#bd3786"
             ],
             [
              0.5555555555555556,
              "#d8576b"
             ],
             [
              0.6666666666666666,
              "#ed7953"
             ],
             [
              0.7777777777777778,
              "#fb9f3a"
             ],
             [
              0.8888888888888888,
              "#fdca26"
             ],
             [
              1,
              "#f0f921"
             ]
            ],
            "type": "contour"
           }
          ],
          "contourcarpet": [
           {
            "colorbar": {
             "outlinewidth": 0,
             "ticks": ""
            },
            "type": "contourcarpet"
           }
          ],
          "heatmap": [
           {
            "colorbar": {
             "outlinewidth": 0,
             "ticks": ""
            },
            "colorscale": [
             [
              0,
              "#0d0887"
             ],
             [
              0.1111111111111111,
              "#46039f"
             ],
             [
              0.2222222222222222,
              "#7201a8"
             ],
             [
              0.3333333333333333,
              "#9c179e"
             ],
             [
              0.4444444444444444,
              "#bd3786"
             ],
             [
              0.5555555555555556,
              "#d8576b"
             ],
             [
              0.6666666666666666,
              "#ed7953"
             ],
             [
              0.7777777777777778,
              "#fb9f3a"
             ],
             [
              0.8888888888888888,
              "#fdca26"
             ],
             [
              1,
              "#f0f921"
             ]
            ],
            "type": "heatmap"
           }
          ],
          "heatmapgl": [
           {
            "colorbar": {
             "outlinewidth": 0,
             "ticks": ""
            },
            "colorscale": [
             [
              0,
              "#0d0887"
             ],
             [
              0.1111111111111111,
              "#46039f"
             ],
             [
              0.2222222222222222,
              "#7201a8"
             ],
             [
              0.3333333333333333,
              "#9c179e"
             ],
             [
              0.4444444444444444,
              "#bd3786"
             ],
             [
              0.5555555555555556,
              "#d8576b"
             ],
             [
              0.6666666666666666,
              "#ed7953"
             ],
             [
              0.7777777777777778,
              "#fb9f3a"
             ],
             [
              0.8888888888888888,
              "#fdca26"
             ],
             [
              1,
              "#f0f921"
             ]
            ],
            "type": "heatmapgl"
           }
          ],
          "histogram": [
           {
            "marker": {
             "pattern": {
              "fillmode": "overlay",
              "size": 10,
              "solidity": 0.2
             }
            },
            "type": "histogram"
           }
          ],
          "histogram2d": [
           {
            "colorbar": {
             "outlinewidth": 0,
             "ticks": ""
            },
            "colorscale": [
             [
              0,
              "#0d0887"
             ],
             [
              0.1111111111111111,
              "#46039f"
             ],
             [
              0.2222222222222222,
              "#7201a8"
             ],
             [
              0.3333333333333333,
              "#9c179e"
             ],
             [
              0.4444444444444444,
              "#bd3786"
             ],
             [
              0.5555555555555556,
              "#d8576b"
             ],
             [
              0.6666666666666666,
              "#ed7953"
             ],
             [
              0.7777777777777778,
              "#fb9f3a"
             ],
             [
              0.8888888888888888,
              "#fdca26"
             ],
             [
              1,
              "#f0f921"
             ]
            ],
            "type": "histogram2d"
           }
          ],
          "histogram2dcontour": [
           {
            "colorbar": {
             "outlinewidth": 0,
             "ticks": ""
            },
            "colorscale": [
             [
              0,
              "#0d0887"
             ],
             [
              0.1111111111111111,
              "#46039f"
             ],
             [
              0.2222222222222222,
              "#7201a8"
             ],
             [
              0.3333333333333333,
              "#9c179e"
             ],
             [
              0.4444444444444444,
              "#bd3786"
             ],
             [
              0.5555555555555556,
              "#d8576b"
             ],
             [
              0.6666666666666666,
              "#ed7953"
             ],
             [
              0.7777777777777778,
              "#fb9f3a"
             ],
             [
              0.8888888888888888,
              "#fdca26"
             ],
             [
              1,
              "#f0f921"
             ]
            ],
            "type": "histogram2dcontour"
           }
          ],
          "mesh3d": [
           {
            "colorbar": {
             "outlinewidth": 0,
             "ticks": ""
            },
            "type": "mesh3d"
           }
          ],
          "parcoords": [
           {
            "line": {
             "colorbar": {
              "outlinewidth": 0,
              "ticks": ""
             }
            },
            "type": "parcoords"
           }
          ],
          "pie": [
           {
            "automargin": true,
            "type": "pie"
           }
          ],
          "scatter": [
           {
            "marker": {
             "colorbar": {
              "outlinewidth": 0,
              "ticks": ""
             }
            },
            "type": "scatter"
           }
          ],
          "scatter3d": [
           {
            "line": {
             "colorbar": {
              "outlinewidth": 0,
              "ticks": ""
             }
            },
            "marker": {
             "colorbar": {
              "outlinewidth": 0,
              "ticks": ""
             }
            },
            "type": "scatter3d"
           }
          ],
          "scattercarpet": [
           {
            "marker": {
             "colorbar": {
              "outlinewidth": 0,
              "ticks": ""
             }
            },
            "type": "scattercarpet"
           }
          ],
          "scattergeo": [
           {
            "marker": {
             "colorbar": {
              "outlinewidth": 0,
              "ticks": ""
             }
            },
            "type": "scattergeo"
           }
          ],
          "scattergl": [
           {
            "marker": {
             "colorbar": {
              "outlinewidth": 0,
              "ticks": ""
             }
            },
            "type": "scattergl"
           }
          ],
          "scattermapbox": [
           {
            "marker": {
             "colorbar": {
              "outlinewidth": 0,
              "ticks": ""
             }
            },
            "type": "scattermapbox"
           }
          ],
          "scatterpolar": [
           {
            "marker": {
             "colorbar": {
              "outlinewidth": 0,
              "ticks": ""
             }
            },
            "type": "scatterpolar"
           }
          ],
          "scatterpolargl": [
           {
            "marker": {
             "colorbar": {
              "outlinewidth": 0,
              "ticks": ""
             }
            },
            "type": "scatterpolargl"
           }
          ],
          "scatterternary": [
           {
            "marker": {
             "colorbar": {
              "outlinewidth": 0,
              "ticks": ""
             }
            },
            "type": "scatterternary"
           }
          ],
          "surface": [
           {
            "colorbar": {
             "outlinewidth": 0,
             "ticks": ""
            },
            "colorscale": [
             [
              0,
              "#0d0887"
             ],
             [
              0.1111111111111111,
              "#46039f"
             ],
             [
              0.2222222222222222,
              "#7201a8"
             ],
             [
              0.3333333333333333,
              "#9c179e"
             ],
             [
              0.4444444444444444,
              "#bd3786"
             ],
             [
              0.5555555555555556,
              "#d8576b"
             ],
             [
              0.6666666666666666,
              "#ed7953"
             ],
             [
              0.7777777777777778,
              "#fb9f3a"
             ],
             [
              0.8888888888888888,
              "#fdca26"
             ],
             [
              1,
              "#f0f921"
             ]
            ],
            "type": "surface"
           }
          ],
          "table": [
           {
            "cells": {
             "fill": {
              "color": "#EBF0F8"
             },
             "line": {
              "color": "white"
             }
            },
            "header": {
             "fill": {
              "color": "#C8D4E3"
             },
             "line": {
              "color": "white"
             }
            },
            "type": "table"
           }
          ]
         },
         "layout": {
          "annotationdefaults": {
           "arrowcolor": "#2a3f5f",
           "arrowhead": 0,
           "arrowwidth": 1
          },
          "autotypenumbers": "strict",
          "coloraxis": {
           "colorbar": {
            "outlinewidth": 0,
            "ticks": ""
           }
          },
          "colorscale": {
           "diverging": [
            [
             0,
             "#8e0152"
            ],
            [
             0.1,
             "#c51b7d"
            ],
            [
             0.2,
             "#de77ae"
            ],
            [
             0.3,
             "#f1b6da"
            ],
            [
             0.4,
             "#fde0ef"
            ],
            [
             0.5,
             "#f7f7f7"
            ],
            [
             0.6,
             "#e6f5d0"
            ],
            [
             0.7,
             "#b8e186"
            ],
            [
             0.8,
             "#7fbc41"
            ],
            [
             0.9,
             "#4d9221"
            ],
            [
             1,
             "#276419"
            ]
           ],
           "sequential": [
            [
             0,
             "#0d0887"
            ],
            [
             0.1111111111111111,
             "#46039f"
            ],
            [
             0.2222222222222222,
             "#7201a8"
            ],
            [
             0.3333333333333333,
             "#9c179e"
            ],
            [
             0.4444444444444444,
             "#bd3786"
            ],
            [
             0.5555555555555556,
             "#d8576b"
            ],
            [
             0.6666666666666666,
             "#ed7953"
            ],
            [
             0.7777777777777778,
             "#fb9f3a"
            ],
            [
             0.8888888888888888,
             "#fdca26"
            ],
            [
             1,
             "#f0f921"
            ]
           ],
           "sequentialminus": [
            [
             0,
             "#0d0887"
            ],
            [
             0.1111111111111111,
             "#46039f"
            ],
            [
             0.2222222222222222,
             "#7201a8"
            ],
            [
             0.3333333333333333,
             "#9c179e"
            ],
            [
             0.4444444444444444,
             "#bd3786"
            ],
            [
             0.5555555555555556,
             "#d8576b"
            ],
            [
             0.6666666666666666,
             "#ed7953"
            ],
            [
             0.7777777777777778,
             "#fb9f3a"
            ],
            [
             0.8888888888888888,
             "#fdca26"
            ],
            [
             1,
             "#f0f921"
            ]
           ]
          },
          "colorway": [
           "#636efa",
           "#EF553B",
           "#00cc96",
           "#ab63fa",
           "#FFA15A",
           "#19d3f3",
           "#FF6692",
           "#B6E880",
           "#FF97FF",
           "#FECB52"
          ],
          "font": {
           "color": "#2a3f5f"
          },
          "geo": {
           "bgcolor": "white",
           "lakecolor": "white",
           "landcolor": "#E5ECF6",
           "showlakes": true,
           "showland": true,
           "subunitcolor": "white"
          },
          "hoverlabel": {
           "align": "left"
          },
          "hovermode": "closest",
          "mapbox": {
           "style": "light"
          },
          "paper_bgcolor": "white",
          "plot_bgcolor": "#E5ECF6",
          "polar": {
           "angularaxis": {
            "gridcolor": "white",
            "linecolor": "white",
            "ticks": ""
           },
           "bgcolor": "#E5ECF6",
           "radialaxis": {
            "gridcolor": "white",
            "linecolor": "white",
            "ticks": ""
           }
          },
          "scene": {
           "xaxis": {
            "backgroundcolor": "#E5ECF6",
            "gridcolor": "white",
            "gridwidth": 2,
            "linecolor": "white",
            "showbackground": true,
            "ticks": "",
            "zerolinecolor": "white"
           },
           "yaxis": {
            "backgroundcolor": "#E5ECF6",
            "gridcolor": "white",
            "gridwidth": 2,
            "linecolor": "white",
            "showbackground": true,
            "ticks": "",
            "zerolinecolor": "white"
           },
           "zaxis": {
            "backgroundcolor": "#E5ECF6",
            "gridcolor": "white",
            "gridwidth": 2,
            "linecolor": "white",
            "showbackground": true,
            "ticks": "",
            "zerolinecolor": "white"
           }
          },
          "shapedefaults": {
           "line": {
            "color": "#2a3f5f"
           }
          },
          "ternary": {
           "aaxis": {
            "gridcolor": "white",
            "linecolor": "white",
            "ticks": ""
           },
           "baxis": {
            "gridcolor": "white",
            "linecolor": "white",
            "ticks": ""
           },
           "bgcolor": "#E5ECF6",
           "caxis": {
            "gridcolor": "white",
            "linecolor": "white",
            "ticks": ""
           }
          },
          "title": {
           "x": 0.05
          },
          "xaxis": {
           "automargin": true,
           "gridcolor": "white",
           "linecolor": "white",
           "ticks": "",
           "title": {
            "standoff": 15
           },
           "zerolinecolor": "white",
           "zerolinewidth": 2
          },
          "yaxis": {
           "automargin": true,
           "gridcolor": "white",
           "linecolor": "white",
           "ticks": "",
           "title": {
            "standoff": 15
           },
           "zerolinecolor": "white",
           "zerolinewidth": 2
          }
         }
        },
        "title": {
         "text": "Recall (lenient def) in avante all facilities, 2021-01-15 to 2021-10-15"
        },
        "xaxis": {
         "anchor": "y",
         "domain": [
          0,
          1
         ],
         "title": {
          "text": "Length Of Stay"
         }
        },
        "yaxis": {
         "anchor": "x",
         "domain": [
          0,
          1
         ],
         "range": [
          0,
          1
         ],
         "tickformat": ",.0%",
         "title": {
          "text": "Recall"
         }
        }
       }
      },
      "text/html": [
       "<div>                            <div id=\"6696a5be-ea9e-43d5-8af3-6f5317da6210\" class=\"plotly-graph-div\" style=\"height:750px; width:100%;\"></div>            <script type=\"text/javascript\">                require([\"plotly\"], function(Plotly) {                    window.PLOTLYENV=window.PLOTLYENV || {};                                    if (document.getElementById(\"6696a5be-ea9e-43d5-8af3-6f5317da6210\")) {                    Plotly.newPlot(                        \"6696a5be-ea9e-43d5-8af3-6f5317da6210\",                        [{\"hovertemplate\":\"variable=fraction_rth<br>Length Of Stay=%{x}<br>value=%{y}<extra></extra>\",\"legendgroup\":\"fraction_rth\",\"line\":{\"color\":\"#636efa\",\"dash\":\"solid\"},\"marker\":{\"symbol\":\"circle\"},\"mode\":\"lines\",\"name\":\"Recall at LOS <= x axis\",\"orientation\":\"v\",\"showlegend\":true,\"type\":\"scatter\",\"x\":[0,1,2,3,4,5,6,7,8,9,10,11,12,13,14,15,16,17,18,19,20,21,22,23,24,25,26,27,28,29,30,31,32,33,34,35,36,37,38,39,40,41,42,43,44,45,46,47,48,49,50,51,52,53,54,55,56,57,58,59,60,61,62,63,64,65,66,67,68,69,70,71,72,73,74,75,76,77,78,79,80,81,82,83,84,85,86,87,88,89,90,91,92,93,94,95,96,97,98,99,100,101,102,103,104,105,106,107,108,109,110,111,112,113,114,115,116,117,118,119,120],\"xaxis\":\"x\",\"y\":[0.3333333333333333,0.34285714285714286,0.47435897435897434,0.5877192982456141,0.6285714285714286,0.6590909090909091,0.6796116504854369,0.7,0.7078651685393258,0.718213058419244,0.7264150943396226,0.7296511627906976,0.7309782608695652,0.7345360824742269,0.7396593673965937,0.7413394919168591,0.7404921700223713,0.7451403887688985,0.7463312368972747,0.7489795918367347,0.744,0.7392996108949417,0.736346516007533,0.7407407407407407,0.7436363636363637,0.7393617021276596,0.7395104895104895,0.7414383561643836,0.7403035413153457,0.7378964941569283,0.735973597359736,0.7337662337662337,0.7315112540192926,0.732484076433121,0.7333333333333333,0.7322834645669292,0.7331240188383046,0.7329192546583851,0.7320061255742726,0.7298937784522003,0.7234678624813154,0.7217261904761905,0.7180616740088106,0.7155297532656023,0.7153179190751445,0.7140804597701149,0.7098150782361309,0.71004243281471,0.7100840336134454,0.7128987517337032,0.709366391184573,0.707250341997264,0.7009472259810555,0.6983914209115282,0.6986666666666667,0.6990679094540613,0.6985391766268261,0.6974900924702774,0.6964520367936925,0.6954248366013072,0.695822454308094,0.6948051948051948,0.6948051948051948,0.6946959896507116,0.6932989690721649,0.6897435897435897,0.6883780332056194,0.688295165394402,0.6856780735107731,0.6864728192161821,0.6868686868686869,0.6855345911949685,0.685069008782936,0.6825,0.683291770573566,0.6828358208955224,0.6823821339950372,0.6835599505562423,0.6843403205918619,0.6818181818181818,0.6822085889570552,0.6825980392156863,0.6817625458996328,0.6813186813186813,0.679658952496955,0.6788321167883211,0.6775757575757576,0.6759036144578313,0.6750902527075813,0.6742788461538461,0.6710526315789473,0.6686531585220501,0.667063020214031,0.6646919431279621,0.663905325443787,0.6643109540636042,0.663924794359577,0.6615925058548009,0.6600467289719626,0.6604434072345391,0.6589057043073341,0.6593023255813953,0.6593023255813953,0.6585365853658537,0.6577726218097448,0.6581691772885284,0.6585648148148148,0.6581986143187067,0.657439446366782,0.6559263521288837,0.6555683122847302,0.6540664375715922,0.6540664375715922,0.6537142857142857,0.6537142857142857,0.6537142857142857,0.6522234891676169,0.6522234891676169,0.6514806378132119,0.6507936507936508,0.5757575757575758],\"yaxis\":\"y\"},{\"hovertemplate\":\"variable=reverse_fraction_rth<br>Length Of Stay=%{x}<br>value=%{y}<extra></extra>\",\"legendgroup\":\"reverse_fraction_rth\",\"line\":{\"color\":\"#EF553B\",\"dash\":\"solid\"},\"marker\":{\"symbol\":\"circle\"},\"mode\":\"lines\",\"name\":\"Recall at LOS >= x axis\",\"orientation\":\"v\",\"showlegend\":true,\"type\":\"scatter\",\"x\":[0,1,2,3,4,5,6,7,8,9,10,11,12,13,14,15,16,17,18,19,20,21,22,23,24,25,26,27,28,29,30,31,32,33,34,35,36,37,38,39,40,41,42,43,44,45,46,47,48,49,50,51,52,53,54,55,56,57,58,59,60,61,62,63,64,65,66,67,68,69,70,71,72,73,74,75,76,77,78,79,80,81,82,83,84,85,86,87,88,89,90,91,92,93,94,95,96,97,98,99,100,101,102,103,104,105,106,107,108,109,110,111,112,113,114,115,116,117,118,119,120],\"xaxis\":\"x\",\"y\":[0.5757575757575758,0.5764075067024129,0.5832566697332107,0.5833333333333334,0.5744047619047619,0.5682281059063137,0.5602536997885835,0.5524017467248908,0.5419501133786848,0.5345029239766081,0.5258724428399518,0.5161691542288557,0.5077120822622108,0.5,0.49182561307901906,0.4810126582278481,0.4716981132075472,0.4666666666666667,0.456752655538695,0.4496124031007752,0.44145569620253167,0.4405144694533762,0.4375,0.43147208121827413,0.422680412371134,0.4143356643356643,0.4103942652329749,0.40545454545454546,0.395910780669145,0.391304347826087,0.390057361376673,0.3875968992248062,0.383399209486166,0.382,0.3765182186234818,0.37398373983739835,0.37166324435318276,0.36907216494845363,0.36401673640167365,0.3582089552238806,0.3563714902807775,0.3576158940397351,0.35777777777777775,0.35600907029478457,0.3533487297921478,0.3511627906976744,0.34976525821596244,0.35083532219570407,0.3469879518072289,0.34068627450980393,0.32917705735660846,0.33080808080808083,0.329923273657289,0.3342036553524804,0.3324468085106383,0.3279569892473118,0.3261455525606469,0.3252032520325203,0.3232876712328767,0.32132963988919666,0.31932773109243695,0.31741573033707865,0.3153409090909091,0.3153409090909091,0.3123209169054441,0.31213872832369943,0.3157894736842105,0.31563421828908556,0.3125,0.3153153153153153,0.311178247734139,0.3090909090909091,0.308868501529052,0.3076923076923077,0.3105590062111801,0.30625,0.3050314465408805,0.3037974683544304,0.2971246006389776,0.29260450160771706,0.29545454545454547,0.2931596091205212,0.2908496732026144,0.29180327868852457,0.29042904290429045,0.292358803986711,0.29333333333333333,0.29292929292929293,0.2910958904109589,0.2920962199312715,0.29310344827586204,0.2972027972027972,0.3003533568904594,0.302491103202847,0.3057553956834532,0.30685920577617326,0.30036630036630035,0.2988929889298893,0.30223880597014924,0.30451127819548873,0.3018867924528302,0.3041825095057034,0.3015267175572519,0.3015267175572519,0.30268199233716475,0.3038461538461538,0.30115830115830117,0.29844961240310075,0.296875,0.2980392156862745,0.30039525691699603,0.29880478087649404,0.30120481927710846,0.30120481927710846,0.29959514170040485,0.29959514170040485,0.29959514170040485,0.3020408163265306,0.3020408163265306,0.30327868852459017,0.3],\"yaxis\":\"y\"}],                        {\"height\":750,\"legend\":{\"title\":{\"text\":\"variable\"},\"tracegroupgap\":0},\"template\":{\"data\":{\"bar\":[{\"error_x\":{\"color\":\"#2a3f5f\"},\"error_y\":{\"color\":\"#2a3f5f\"},\"marker\":{\"line\":{\"color\":\"#E5ECF6\",\"width\":0.5},\"pattern\":{\"fillmode\":\"overlay\",\"size\":10,\"solidity\":0.2}},\"type\":\"bar\"}],\"barpolar\":[{\"marker\":{\"line\":{\"color\":\"#E5ECF6\",\"width\":0.5},\"pattern\":{\"fillmode\":\"overlay\",\"size\":10,\"solidity\":0.2}},\"type\":\"barpolar\"}],\"carpet\":[{\"aaxis\":{\"endlinecolor\":\"#2a3f5f\",\"gridcolor\":\"white\",\"linecolor\":\"white\",\"minorgridcolor\":\"white\",\"startlinecolor\":\"#2a3f5f\"},\"baxis\":{\"endlinecolor\":\"#2a3f5f\",\"gridcolor\":\"white\",\"linecolor\":\"white\",\"minorgridcolor\":\"white\",\"startlinecolor\":\"#2a3f5f\"},\"type\":\"carpet\"}],\"choropleth\":[{\"colorbar\":{\"outlinewidth\":0,\"ticks\":\"\"},\"type\":\"choropleth\"}],\"contour\":[{\"colorbar\":{\"outlinewidth\":0,\"ticks\":\"\"},\"colorscale\":[[0.0,\"#0d0887\"],[0.1111111111111111,\"#46039f\"],[0.2222222222222222,\"#7201a8\"],[0.3333333333333333,\"#9c179e\"],[0.4444444444444444,\"#bd3786\"],[0.5555555555555556,\"#d8576b\"],[0.6666666666666666,\"#ed7953\"],[0.7777777777777778,\"#fb9f3a\"],[0.8888888888888888,\"#fdca26\"],[1.0,\"#f0f921\"]],\"type\":\"contour\"}],\"contourcarpet\":[{\"colorbar\":{\"outlinewidth\":0,\"ticks\":\"\"},\"type\":\"contourcarpet\"}],\"heatmap\":[{\"colorbar\":{\"outlinewidth\":0,\"ticks\":\"\"},\"colorscale\":[[0.0,\"#0d0887\"],[0.1111111111111111,\"#46039f\"],[0.2222222222222222,\"#7201a8\"],[0.3333333333333333,\"#9c179e\"],[0.4444444444444444,\"#bd3786\"],[0.5555555555555556,\"#d8576b\"],[0.6666666666666666,\"#ed7953\"],[0.7777777777777778,\"#fb9f3a\"],[0.8888888888888888,\"#fdca26\"],[1.0,\"#f0f921\"]],\"type\":\"heatmap\"}],\"heatmapgl\":[{\"colorbar\":{\"outlinewidth\":0,\"ticks\":\"\"},\"colorscale\":[[0.0,\"#0d0887\"],[0.1111111111111111,\"#46039f\"],[0.2222222222222222,\"#7201a8\"],[0.3333333333333333,\"#9c179e\"],[0.4444444444444444,\"#bd3786\"],[0.5555555555555556,\"#d8576b\"],[0.6666666666666666,\"#ed7953\"],[0.7777777777777778,\"#fb9f3a\"],[0.8888888888888888,\"#fdca26\"],[1.0,\"#f0f921\"]],\"type\":\"heatmapgl\"}],\"histogram\":[{\"marker\":{\"pattern\":{\"fillmode\":\"overlay\",\"size\":10,\"solidity\":0.2}},\"type\":\"histogram\"}],\"histogram2d\":[{\"colorbar\":{\"outlinewidth\":0,\"ticks\":\"\"},\"colorscale\":[[0.0,\"#0d0887\"],[0.1111111111111111,\"#46039f\"],[0.2222222222222222,\"#7201a8\"],[0.3333333333333333,\"#9c179e\"],[0.4444444444444444,\"#bd3786\"],[0.5555555555555556,\"#d8576b\"],[0.6666666666666666,\"#ed7953\"],[0.7777777777777778,\"#fb9f3a\"],[0.8888888888888888,\"#fdca26\"],[1.0,\"#f0f921\"]],\"type\":\"histogram2d\"}],\"histogram2dcontour\":[{\"colorbar\":{\"outlinewidth\":0,\"ticks\":\"\"},\"colorscale\":[[0.0,\"#0d0887\"],[0.1111111111111111,\"#46039f\"],[0.2222222222222222,\"#7201a8\"],[0.3333333333333333,\"#9c179e\"],[0.4444444444444444,\"#bd3786\"],[0.5555555555555556,\"#d8576b\"],[0.6666666666666666,\"#ed7953\"],[0.7777777777777778,\"#fb9f3a\"],[0.8888888888888888,\"#fdca26\"],[1.0,\"#f0f921\"]],\"type\":\"histogram2dcontour\"}],\"mesh3d\":[{\"colorbar\":{\"outlinewidth\":0,\"ticks\":\"\"},\"type\":\"mesh3d\"}],\"parcoords\":[{\"line\":{\"colorbar\":{\"outlinewidth\":0,\"ticks\":\"\"}},\"type\":\"parcoords\"}],\"pie\":[{\"automargin\":true,\"type\":\"pie\"}],\"scatter\":[{\"marker\":{\"colorbar\":{\"outlinewidth\":0,\"ticks\":\"\"}},\"type\":\"scatter\"}],\"scatter3d\":[{\"line\":{\"colorbar\":{\"outlinewidth\":0,\"ticks\":\"\"}},\"marker\":{\"colorbar\":{\"outlinewidth\":0,\"ticks\":\"\"}},\"type\":\"scatter3d\"}],\"scattercarpet\":[{\"marker\":{\"colorbar\":{\"outlinewidth\":0,\"ticks\":\"\"}},\"type\":\"scattercarpet\"}],\"scattergeo\":[{\"marker\":{\"colorbar\":{\"outlinewidth\":0,\"ticks\":\"\"}},\"type\":\"scattergeo\"}],\"scattergl\":[{\"marker\":{\"colorbar\":{\"outlinewidth\":0,\"ticks\":\"\"}},\"type\":\"scattergl\"}],\"scattermapbox\":[{\"marker\":{\"colorbar\":{\"outlinewidth\":0,\"ticks\":\"\"}},\"type\":\"scattermapbox\"}],\"scatterpolar\":[{\"marker\":{\"colorbar\":{\"outlinewidth\":0,\"ticks\":\"\"}},\"type\":\"scatterpolar\"}],\"scatterpolargl\":[{\"marker\":{\"colorbar\":{\"outlinewidth\":0,\"ticks\":\"\"}},\"type\":\"scatterpolargl\"}],\"scatterternary\":[{\"marker\":{\"colorbar\":{\"outlinewidth\":0,\"ticks\":\"\"}},\"type\":\"scatterternary\"}],\"surface\":[{\"colorbar\":{\"outlinewidth\":0,\"ticks\":\"\"},\"colorscale\":[[0.0,\"#0d0887\"],[0.1111111111111111,\"#46039f\"],[0.2222222222222222,\"#7201a8\"],[0.3333333333333333,\"#9c179e\"],[0.4444444444444444,\"#bd3786\"],[0.5555555555555556,\"#d8576b\"],[0.6666666666666666,\"#ed7953\"],[0.7777777777777778,\"#fb9f3a\"],[0.8888888888888888,\"#fdca26\"],[1.0,\"#f0f921\"]],\"type\":\"surface\"}],\"table\":[{\"cells\":{\"fill\":{\"color\":\"#EBF0F8\"},\"line\":{\"color\":\"white\"}},\"header\":{\"fill\":{\"color\":\"#C8D4E3\"},\"line\":{\"color\":\"white\"}},\"type\":\"table\"}]},\"layout\":{\"annotationdefaults\":{\"arrowcolor\":\"#2a3f5f\",\"arrowhead\":0,\"arrowwidth\":1},\"autotypenumbers\":\"strict\",\"coloraxis\":{\"colorbar\":{\"outlinewidth\":0,\"ticks\":\"\"}},\"colorscale\":{\"diverging\":[[0,\"#8e0152\"],[0.1,\"#c51b7d\"],[0.2,\"#de77ae\"],[0.3,\"#f1b6da\"],[0.4,\"#fde0ef\"],[0.5,\"#f7f7f7\"],[0.6,\"#e6f5d0\"],[0.7,\"#b8e186\"],[0.8,\"#7fbc41\"],[0.9,\"#4d9221\"],[1,\"#276419\"]],\"sequential\":[[0.0,\"#0d0887\"],[0.1111111111111111,\"#46039f\"],[0.2222222222222222,\"#7201a8\"],[0.3333333333333333,\"#9c179e\"],[0.4444444444444444,\"#bd3786\"],[0.5555555555555556,\"#d8576b\"],[0.6666666666666666,\"#ed7953\"],[0.7777777777777778,\"#fb9f3a\"],[0.8888888888888888,\"#fdca26\"],[1.0,\"#f0f921\"]],\"sequentialminus\":[[0.0,\"#0d0887\"],[0.1111111111111111,\"#46039f\"],[0.2222222222222222,\"#7201a8\"],[0.3333333333333333,\"#9c179e\"],[0.4444444444444444,\"#bd3786\"],[0.5555555555555556,\"#d8576b\"],[0.6666666666666666,\"#ed7953\"],[0.7777777777777778,\"#fb9f3a\"],[0.8888888888888888,\"#fdca26\"],[1.0,\"#f0f921\"]]},\"colorway\":[\"#636efa\",\"#EF553B\",\"#00cc96\",\"#ab63fa\",\"#FFA15A\",\"#19d3f3\",\"#FF6692\",\"#B6E880\",\"#FF97FF\",\"#FECB52\"],\"font\":{\"color\":\"#2a3f5f\"},\"geo\":{\"bgcolor\":\"white\",\"lakecolor\":\"white\",\"landcolor\":\"#E5ECF6\",\"showlakes\":true,\"showland\":true,\"subunitcolor\":\"white\"},\"hoverlabel\":{\"align\":\"left\"},\"hovermode\":\"closest\",\"mapbox\":{\"style\":\"light\"},\"paper_bgcolor\":\"white\",\"plot_bgcolor\":\"#E5ECF6\",\"polar\":{\"angularaxis\":{\"gridcolor\":\"white\",\"linecolor\":\"white\",\"ticks\":\"\"},\"bgcolor\":\"#E5ECF6\",\"radialaxis\":{\"gridcolor\":\"white\",\"linecolor\":\"white\",\"ticks\":\"\"}},\"scene\":{\"xaxis\":{\"backgroundcolor\":\"#E5ECF6\",\"gridcolor\":\"white\",\"gridwidth\":2,\"linecolor\":\"white\",\"showbackground\":true,\"ticks\":\"\",\"zerolinecolor\":\"white\"},\"yaxis\":{\"backgroundcolor\":\"#E5ECF6\",\"gridcolor\":\"white\",\"gridwidth\":2,\"linecolor\":\"white\",\"showbackground\":true,\"ticks\":\"\",\"zerolinecolor\":\"white\"},\"zaxis\":{\"backgroundcolor\":\"#E5ECF6\",\"gridcolor\":\"white\",\"gridwidth\":2,\"linecolor\":\"white\",\"showbackground\":true,\"ticks\":\"\",\"zerolinecolor\":\"white\"}},\"shapedefaults\":{\"line\":{\"color\":\"#2a3f5f\"}},\"ternary\":{\"aaxis\":{\"gridcolor\":\"white\",\"linecolor\":\"white\",\"ticks\":\"\"},\"baxis\":{\"gridcolor\":\"white\",\"linecolor\":\"white\",\"ticks\":\"\"},\"bgcolor\":\"#E5ECF6\",\"caxis\":{\"gridcolor\":\"white\",\"linecolor\":\"white\",\"ticks\":\"\"}},\"title\":{\"x\":0.05},\"xaxis\":{\"automargin\":true,\"gridcolor\":\"white\",\"linecolor\":\"white\",\"ticks\":\"\",\"title\":{\"standoff\":15},\"zerolinecolor\":\"white\",\"zerolinewidth\":2},\"yaxis\":{\"automargin\":true,\"gridcolor\":\"white\",\"linecolor\":\"white\",\"ticks\":\"\",\"title\":{\"standoff\":15},\"zerolinecolor\":\"white\",\"zerolinewidth\":2}}},\"title\":{\"text\":\"Recall (lenient def) in avante all facilities, 2021-01-15 to 2021-10-15\"},\"xaxis\":{\"anchor\":\"y\",\"domain\":[0.0,1.0],\"title\":{\"text\":\"Length Of Stay\"}},\"yaxis\":{\"anchor\":\"x\",\"domain\":[0.0,1.0],\"range\":[0,1],\"tickformat\":\",.0%\",\"title\":{\"text\":\"Recall\"}}},                        {\"responsive\": true}                    ).then(function(){\n",
       "                            \n",
       "var gd = document.getElementById('6696a5be-ea9e-43d5-8af3-6f5317da6210');\n",
       "var x = new MutationObserver(function (mutations, observer) {{\n",
       "        var display = window.getComputedStyle(gd).display;\n",
       "        if (!display || display === 'none') {{\n",
       "            console.log([gd, 'removed!']);\n",
       "            Plotly.purge(gd);\n",
       "            observer.disconnect();\n",
       "        }}\n",
       "}});\n",
       "\n",
       "// Listen for the removal of the full notebook cells\n",
       "var notebookContainer = gd.closest('#notebook-container');\n",
       "if (notebookContainer) {{\n",
       "    x.observe(notebookContainer, {childList: true});\n",
       "}}\n",
       "\n",
       "// Listen for the clearing of the current output cell\n",
       "var outputEl = gd.closest('.output');\n",
       "if (outputEl) {{\n",
       "    x.observe(outputEl, {childList: true});\n",
       "}}\n",
       "\n",
       "                        })                };                });            </script>        </div>"
      ]
     },
     "metadata": {},
     "output_type": "display_data"
    }
   ],
   "source": [
    "fig = px.line(\n",
    "    l_df, y=[\"fraction_rth\", \"reverse_fraction_rth\"], x=list(l_df.index), \n",
    "    labels={\n",
    "        'x':'Length Of Stay', \n",
    "    }, \n",
    "    height=750, \n",
    "    title=f\"Recall (lenient def) in {CLIENT} all facilities, {date_range}\"\n",
    ")\n",
    "fig['layout']['yaxis']['title'] = \"Recall\"\n",
    "fig['layout']['yaxis']['tickformat'] = ',.0%'\n",
    "fig['layout']['yaxis']['range'] = [0,1]\n",
    "new_names= ['Recall at LOS <= x axis', 'Recall at LOS >= x axis']\n",
    "for i, new_name in enumerate(new_names):\n",
    "    fig.data[i].name = new_name\n",
    "\n",
    "fig.show()"
   ]
  },
  {
   "cell_type": "code",
   "execution_count": null,
   "id": "945094cc",
   "metadata": {
    "scrolled": false
   },
   "outputs": [],
   "source": []
  }
 ],
 "metadata": {
  "kernelspec": {
   "display_name": "Python 3 (ipykernel)",
   "language": "python",
   "name": "python3"
  },
  "language_info": {
   "codemirror_mode": {
    "name": "ipython",
    "version": 3
   },
   "file_extension": ".py",
   "mimetype": "text/x-python",
   "name": "python",
   "nbconvert_exporter": "python",
   "pygments_lexer": "ipython3",
   "version": "3.8.10"
  }
 },
 "nbformat": 4,
 "nbformat_minor": 5
}
