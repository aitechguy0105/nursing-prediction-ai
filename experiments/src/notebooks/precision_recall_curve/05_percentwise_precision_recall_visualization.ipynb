{
 "cells": [
  {
   "cell_type": "code",
   "execution_count": null,
   "metadata": {},
   "outputs": [],
   "source": [
    "!pip install plotly-express --quiet\n"
   ]
  },
  {
   "cell_type": "code",
   "execution_count": null,
   "metadata": {},
   "outputs": [],
   "source": [
    "import pandas as pd\n",
    "import numpy as np\n",
    "import plotly.express as px\n",
    "import os\n",
    "import plotly\n"
   ]
  },
  {
   "cell_type": "code",
   "execution_count": null,
   "metadata": {},
   "outputs": [],
   "source": [
    "folder_path = '.'"
   ]
  },
  {
   "cell_type": "code",
   "execution_count": null,
   "metadata": {},
   "outputs": [],
   "source": [
    "precision_recall_filepath = [filename for filename in os.listdir() if filename.startswith('percentwise_precision') and filename.endswith('csv')][0]\n",
    "clientwise_precision_recall_filepath = [filename for filename in os.listdir() if filename.startswith('percentwise_clientwise_')and filename.endswith('csv')][0]\n",
    "print('precision_recall_filepath',precision_recall_filepath)\n",
    "print('clientwise_precision_recall_filepath',clientwise_precision_recall_filepath)"
   ]
  },
  {
   "cell_type": "code",
   "execution_count": null,
   "metadata": {},
   "outputs": [],
   "source": [
    "metadata_df = pd.read_csv('s3://saiva-playground/gill/facility_model_config.csv')\n",
    "metadata_df.rename(columns={'rank_cutoff': 'cutoff'}, inplace=True)\n",
    "metadata_df = metadata_df[['client','facilityid','model_golive_date','facility_golive_date','cutoff']]\n",
    "metadata_df.head()"
   ]
  },
  {
   "cell_type": "code",
   "execution_count": null,
   "metadata": {},
   "outputs": [],
   "source": [
    "precision_recall_filepath"
   ]
  },
  {
   "cell_type": "code",
   "execution_count": null,
   "metadata": {},
   "outputs": [],
   "source": [
    "final_df = pd.read_csv(precision_recall_filepath)\n",
    "final_df = final_df.merge(metadata_df,how='left',on=['client','facilityid'])\n",
    "final_df.head()"
   ]
  },
  {
   "cell_type": "code",
   "execution_count": null,
   "metadata": {
    "scrolled": true
   },
   "outputs": [],
   "source": [
    "# unique client-facility pairs\n",
    "client_facility_unique_pairs = final_df[['client', 'facilityname']].drop_duplicates()\n",
    "client_facility_unique_pairs.to_dict('records')"
   ]
  },
  {
   "cell_type": "markdown",
   "metadata": {},
   "source": [
    "### graph knobs"
   ]
  },
  {
   "cell_type": "code",
   "execution_count": null,
   "metadata": {},
   "outputs": [],
   "source": [
    "client = ['trio','avante','marquis']\n",
    "# facilityname = [ 'Avante at Ormond Beach']#,'BeaverCreek Health and Rehab']\n",
    "x_axis = 'recall_at_k%'\n",
    "y_axis = 'precision_at_k%'\n",
    "color_group='facilityname'\n",
    "graph_width = 1200\n",
    "graph_height = 600\n",
    "marker_size = 7\n",
    "cutoff_marker_size = 18\n",
    "symbol_group='rank'\n",
    "text = 'info'"
   ]
  },
  {
   "cell_type": "markdown",
   "metadata": {},
   "source": [
    "## graph plot"
   ]
  },
  {
   "cell_type": "code",
   "execution_count": null,
   "metadata": {
    "scrolled": true
   },
   "outputs": [],
   "source": [
    "plot_df = final_df[(final_df['client'].isin(client))]\n",
    "\n",
    "plot_df.loc[:,'info'] = plot_df.loc[:,'rank'].astype(str)+'(rank%)__'\n",
    "plot_df.loc[:,'info'] += plot_df.loc[:,'rth_predicted'].astype(int).astype(str)+'/'+plot_df.loc[:,'total_residents_transferred'].astype(int).astype(str)+'(r)__'\n",
    "plot_df.loc[:,'info'] += plot_df.loc[:,'num_precision'].astype(int).astype(str)+'/'+plot_df.loc[:,'denom_precision'].astype(int).astype(str)+'(p)'\n",
    "plot_df.head()"
   ]
  },
  {
   "cell_type": "code",
   "execution_count": null,
   "metadata": {},
   "outputs": [],
   "source": [
    "title=\"percentwise precision-recall curve_\"+'_to_'.join(precision_recall_filepath.split('_')[-2:]).replace('.csv','')\n",
    "\n",
    "fig = px.scatter(\n",
    "    plot_df, \n",
    "    x=x_axis, \n",
    "    y=y_axis,\n",
    "    color=color_group,\n",
    "    title=title,\n",
    "    width=graph_width, \n",
    "    height=graph_height,\n",
    "    text=text\n",
    ")\n",
    "fig.update_traces(marker={'size': marker_size, 'line':{'width':2, 'color':'DarkSlateGrey'}},textfont_size=1)\n",
    "\n",
    "fig.update_yaxes(rangemode=\"tozero\")\n",
    "fig.update_xaxes(rangemode=\"tozero\")\n",
    "\n",
    "fig.show()\n"
   ]
  },
  {
   "cell_type": "code",
   "execution_count": null,
   "metadata": {},
   "outputs": [],
   "source": [
    "# save dynamic plot as html file\n",
    "plotly.offline.plot(fig, filename=os.path.join(folder_path,f'{title}.html'))"
   ]
  },
  {
   "cell_type": "markdown",
   "metadata": {},
   "source": [
    "## clientwise"
   ]
  },
  {
   "cell_type": "code",
   "execution_count": null,
   "metadata": {},
   "outputs": [],
   "source": [
    "clientwise_final_df = pd.read_csv(clientwise_precision_recall_filepath)\n"
   ]
  },
  {
   "cell_type": "code",
   "execution_count": null,
   "metadata": {},
   "outputs": [],
   "source": [
    "client = ['trio', 'avante', 'marquis']\n",
    "x_axis = 'recall_at_k%'\n",
    "y_axis = 'precision_at_k%'\n",
    "color_group='client'\n",
    "graph_width = 1200\n",
    "graph_height = 600\n",
    "marker_size = 10\n",
    "# symbol_group='rank_cutoff'"
   ]
  },
  {
   "cell_type": "code",
   "execution_count": null,
   "metadata": {},
   "outputs": [],
   "source": [
    "clientwise_final_df['rank'] = clientwise_final_df['rank'].astype('int') \n",
    "clientwise_final_df.sort_values(by=['client','rank'],inplace=True)\n",
    "clientwise_final_df.head()"
   ]
  },
  {
   "cell_type": "code",
   "execution_count": null,
   "metadata": {},
   "outputs": [],
   "source": [
    "clientwise_plot_df = clientwise_final_df[(clientwise_final_df['client'].isin(client))]\n",
    "clientwise_plot_df.loc[:,'info'] = clientwise_plot_df.loc[:,'rank'].astype(str)+'(rank%)__'\n",
    "clientwise_plot_df.loc[:,'info'] += clientwise_plot_df.loc[:,'rth_predicted'].astype(int).astype(str)+'/' + clientwise_plot_df.loc[:,'total_residents_transferred'].astype(int).astype(str)+'(r)__'\n",
    "clientwise_plot_df.loc[:,'info'] += clientwise_plot_df.loc[:,'num_precision'].astype(int).astype(str)+'/' + clientwise_plot_df.loc[:,'denom_precision'].astype(int).astype(str)+'(p)'\n"
   ]
  },
  {
   "cell_type": "code",
   "execution_count": null,
   "metadata": {},
   "outputs": [],
   "source": [
    "client_title = \"percentwise clientwise precision-recall curve_\"+'_to_'.join(clientwise_precision_recall_filepath.split('_')[-2:]).replace('.csv','')\n",
    "fig = px.scatter(\n",
    "    clientwise_plot_df, \n",
    "    x=x_axis, \n",
    "    y=y_axis,\n",
    "    color=color_group,\n",
    "    title=client_title,\n",
    "    width=graph_width, \n",
    "    height=graph_height,\n",
    "    text=text\n",
    ")\n",
    "fig.update_traces(marker={'size': marker_size},textfont_size=1)\n",
    "\n",
    "fig.update_yaxes(rangemode=\"tozero\")\n",
    "fig.update_xaxes(rangemode=\"tozero\")\n",
    "\n",
    "fig.show()"
   ]
  },
  {
   "cell_type": "code",
   "execution_count": null,
   "metadata": {},
   "outputs": [],
   "source": [
    "# save dynamic plot as html file\n",
    "plotly.offline.plot(fig, filename=os.path.join(folder_path,f'{client_title}.html'))"
   ]
  }
 ],
 "metadata": {
  "kernelspec": {
   "display_name": "Python 3 (ipykernel)",
   "language": "python",
   "name": "python3"
  },
  "language_info": {
   "codemirror_mode": {
    "name": "ipython",
    "version": 3
   },
   "file_extension": ".py",
   "mimetype": "text/x-python",
   "name": "python",
   "nbconvert_exporter": "python",
   "pygments_lexer": "ipython3",
   "version": "3.8.10"
  }
 },
 "nbformat": 4,
 "nbformat_minor": 2
}
