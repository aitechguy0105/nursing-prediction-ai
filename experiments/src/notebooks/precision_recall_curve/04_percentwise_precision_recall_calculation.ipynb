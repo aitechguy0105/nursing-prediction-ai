{
 "cells": [
  {
   "cell_type": "code",
   "execution_count": null,
   "id": "276f0e4d",
   "metadata": {},
   "outputs": [],
   "source": [
    "import pandas as pd\n",
    "import numpy as np\n",
    "pd.set_option('display.max_columns', 500)"
   ]
  },
  {
   "cell_type": "code",
   "execution_count": null,
   "id": "3ee6c391",
   "metadata": {},
   "outputs": [],
   "source": [
    "# CLIENT_LIST = ['avante', 'hsm', 'marquis', 'midwest', 'mmh','trio', 'uch', 'vintage']\n",
    "\n",
    "CLIENT_LIST = ['avante', 'marquis','trio']\n",
    "START_DATE = '2021-01-01'\n",
    "END_DATE = '2021-08-31'\n",
    "STEP = 1\n",
    "\n",
    "percent_range = [i for i in range(STEP,101,STEP)]"
   ]
  },
  {
   "cell_type": "code",
   "execution_count": null,
   "id": "c1dc34f0",
   "metadata": {},
   "outputs": [],
   "source": [
    "ranked_d = pd.read_csv('s3://saiva-playground/gill/ranked_d.csv')\n",
    "ranked_d['censusdate'] = pd.to_datetime(ranked_d['censusdate'])\n",
    "ranked_d = ranked_d[(ranked_d['client'].isin(CLIENT_LIST))&(ranked_d['censusdate']>=START_DATE)&(ranked_d['censusdate']<=END_DATE)]\n",
    "for pct in percent_range:\n",
    "    ranked_d[f'rank_at_{pct}'] = round((ranked_d['ranked_d']*pct)/100.0)\n",
    "    \n",
    "ranked_d.head()"
   ]
  },
  {
   "cell_type": "code",
   "execution_count": null,
   "id": "fddce566",
   "metadata": {
    "scrolled": true
   },
   "outputs": [],
   "source": [
    "base_df = pd.read_csv('s3://saiva-playground/gill/RTH_data.csv')\n",
    "base_df['dateoftransfer'] = pd.to_datetime(base_df['dateoftransfer'])\n",
    "base_df['censusdate'] = pd.to_datetime(base_df['censusdate'])\n",
    "base_df = base_df[\n",
    "    (base_df['client'].isin(CLIENT_LIST)) &\n",
    "    (base_df['dateoftransfer']>=START_DATE) &\n",
    "    (base_df['dateoftransfer']<=END_DATE)\n",
    "]\n",
    "base_df.head()"
   ]
  },
  {
   "cell_type": "code",
   "execution_count": null,
   "id": "111ea7c3",
   "metadata": {},
   "outputs": [],
   "source": [
    "unranked_base_df = base_df[base_df['rank_cutoff'].isna()]\n",
    "base_df = base_df[~base_df['rank_cutoff'].isna()]\n",
    "unranked_base_df = unranked_base_df.groupby(['client','facilityname','facilityid'])['resident_transferred'].count().reset_index()\n",
    "unranked_base_df"
   ]
  },
  {
   "cell_type": "markdown",
   "id": "17f215a2",
   "metadata": {},
   "source": [
    "## Calculating precision"
   ]
  },
  {
   "cell_type": "markdown",
   "id": "9315364c",
   "metadata": {},
   "source": [
    "###### <center>calculating precision numerator"
   ]
  },
  {
   "cell_type": "code",
   "execution_count": null,
   "id": "51f86309",
   "metadata": {
    "scrolled": true
   },
   "outputs": [],
   "source": [
    "precision_numerator = base_df.merge(ranked_d,how='left', on = ['censusdate', 'client', 'facilityid'])\n",
    "precision_numerator = precision_numerator[~precision_numerator['ranked_d'].isna()]\n",
    "\n",
    "def precision_numerator_lambda(row):\n",
    "    for pct in percent_range:\n",
    "        row[f'rank_at_{pct}'] = np.where(row[f'rank_at_{pct}']>=row['rank_cutoff'],1,0)\n",
    "    return row\n",
    "precision_numerator = precision_numerator.apply(precision_numerator_lambda,axis=1)\n",
    "\n",
    "groupby_sum_cols = [col for col in ranked_d.columns if 'rank_at' in col]\n",
    "grouped_precision_numerator = precision_numerator.groupby(['client','facilityid'])[groupby_sum_cols].sum().reset_index()\n",
    "for col in grouped_precision_numerator.columns:\n",
    "    if 'rank_at_' in col: \n",
    "        grouped_precision_numerator.rename(columns= {col:'num_'+col},inplace=True)\n",
    "        \n",
    "final_precision_numerator = pd.melt(grouped_precision_numerator, id_vars=['client', 'facilityid'], \n",
    "                                                 value_vars=grouped_precision_numerator.columns[2:].tolist(),\n",
    "                                                var_name='rank', value_name='num_precision')\n",
    "\n",
    "final_precision_numerator.sort_values(['client','facilityid'],inplace=True)\n",
    "final_precision_numerator['rank'] = final_precision_numerator['rank'].str.replace('num_rank_at_','')\n",
    "# final_precision_numerator['rank'] = final_precision_numerator['rank'].str.replace('%','')\n",
    "\n",
    "final_precision_numerator.head()"
   ]
  },
  {
   "cell_type": "markdown",
   "id": "4d60cd9e",
   "metadata": {},
   "source": [
    "##### <center>calculating clientwise precision numerator"
   ]
  },
  {
   "cell_type": "code",
   "execution_count": null,
   "id": "50689dec",
   "metadata": {},
   "outputs": [],
   "source": [
    "clientwise_grouped_precision_numerator = precision_numerator.groupby(['client'])[groupby_sum_cols].sum().reset_index()\n",
    "for col in clientwise_grouped_precision_numerator.columns:\n",
    "    if 'rank_at_' in col: \n",
    "        clientwise_grouped_precision_numerator.rename(columns= {col:'num_'+col},inplace=True)\n",
    "\n",
    "final_clientwise_precision_numerator = pd.melt(clientwise_grouped_precision_numerator, id_vars=['client'], \n",
    "                                                 value_vars=clientwise_grouped_precision_numerator.columns[1:].tolist(),\n",
    "                                                var_name='rank', value_name='num_precision')\n",
    "\n",
    "final_clientwise_precision_numerator.sort_values(['client'],inplace=True)\n",
    "final_clientwise_precision_numerator['rank'] = final_clientwise_precision_numerator['rank'].str.replace('num_rank_at_','')\n",
    "# final_clientwise_precision_numerator['rank'] = final_clientwise_precision_numerator['rank'].str.replace('%','')\n",
    "final_clientwise_precision_numerator.head()"
   ]
  },
  {
   "cell_type": "markdown",
   "id": "b84a84a5",
   "metadata": {},
   "source": [
    "###### <center>calculating precision denominator"
   ]
  },
  {
   "cell_type": "code",
   "execution_count": null,
   "id": "4a05fa98",
   "metadata": {},
   "outputs": [],
   "source": [
    "groupby_sum_cols = [col for col in ranked_d.columns if 'rank_at' in col]\n",
    "precision_denominator = ranked_d.groupby(['client', 'facilityid'])[groupby_sum_cols].sum().reset_index()\n",
    "for col in precision_denominator.columns:\n",
    "    if 'rank_at_' in col: \n",
    "        precision_denominator.rename(columns= {col:'denom_'+col},inplace=True)\n",
    "        \n",
    "final_precision_denominator = pd.melt(precision_denominator, id_vars=['client', 'facilityid'], \n",
    "                                                 value_vars=precision_denominator.columns[2:].tolist(),\n",
    "                                                var_name='rank', value_name='denom_precision')\n",
    "\n",
    "final_precision_denominator.sort_values(['client','facilityid'],inplace=True)\n",
    "final_precision_denominator['rank'] = final_precision_denominator['rank'].str.replace('denom_rank_at_','')\n",
    "# final_precision_denominator['rank'] = final_precision_denominator['rank'].str.replace('%','')\n",
    "\n",
    "final_precision_denominator.head()"
   ]
  },
  {
   "cell_type": "markdown",
   "id": "43f2472c",
   "metadata": {},
   "source": [
    "###### <center>calculating clientwise precision denominator"
   ]
  },
  {
   "cell_type": "code",
   "execution_count": null,
   "id": "ca2e90ee",
   "metadata": {},
   "outputs": [],
   "source": [
    "groupby_sum_cols = [col for col in ranked_d.columns if 'rank_at' in col]\n",
    "clientwise_precision_denominator = ranked_d.groupby(['client'])[groupby_sum_cols].sum().reset_index()\n",
    "for col in clientwise_precision_denominator.columns:\n",
    "    if 'rank_at_' in col: \n",
    "        clientwise_precision_denominator.rename(columns= {col:'denom_'+col},inplace=True)\n",
    "\n",
    "\n",
    "final_clientwise_precision_denominator = pd.melt(clientwise_precision_denominator, id_vars=['client'], \n",
    "                                                 value_vars=clientwise_precision_denominator.columns[1:].tolist(),\n",
    "                                                var_name='rank', value_name='denom_precision')\n",
    "\n",
    "final_clientwise_precision_denominator.sort_values(['client'],inplace=True)\n",
    "final_clientwise_precision_denominator['rank'] = final_clientwise_precision_denominator['rank'].str.replace('denom_rank_at_','')\n",
    "# final_clientwise_precision_denominator['rank'] = final_clientwise_precision_denominator['rank'].str.replace('%','')\n",
    "final_clientwise_precision_denominator.head()"
   ]
  },
  {
   "cell_type": "markdown",
   "id": "31267016",
   "metadata": {},
   "source": [
    "### <center> merging precision numerator and denominator"
   ]
  },
  {
   "cell_type": "code",
   "execution_count": null,
   "id": "e0e8d3af",
   "metadata": {},
   "outputs": [],
   "source": [
    "precision_df = final_precision_numerator.merge(final_precision_denominator,how='inner', on = ['client', 'facilityid','rank'])\n",
    "precision_df.head()"
   ]
  },
  {
   "cell_type": "code",
   "execution_count": null,
   "id": "677b11c8",
   "metadata": {},
   "outputs": [],
   "source": [
    "clientwise_precision_df = final_clientwise_precision_numerator.merge(final_clientwise_precision_denominator,how='inner', on = ['client','rank'])\n",
    "clientwise_precision_df.head()"
   ]
  },
  {
   "cell_type": "markdown",
   "id": "095320e2",
   "metadata": {},
   "source": [
    "## Calculating recall"
   ]
  },
  {
   "cell_type": "markdown",
   "id": "874e7339",
   "metadata": {},
   "source": [
    "##### <center> calculating recall denominator"
   ]
  },
  {
   "cell_type": "code",
   "execution_count": null,
   "id": "148bb9ba",
   "metadata": {},
   "outputs": [],
   "source": [
    "base_recall_df = base_df.groupby(['client','facilityid','facilityname','masterpatientid', 'dateoftransfer','resident_transferred'])['rank_cutoff'].min().reset_index(name='min_rank')\n"
   ]
  },
  {
   "cell_type": "code",
   "execution_count": null,
   "id": "66b962d6",
   "metadata": {},
   "outputs": [],
   "source": [
    "combined_list =[]\n",
    "facilitynames = base_recall_df.facilityname.unique().tolist()\n",
    "for date in pd.date_range(start=START_DATE, end=END_DATE):\n",
    "    for facilityname in facilitynames:\n",
    "        one_to_max = pd.Series(range(1, base_recall_df[base_recall_df['facilityname']==facilityname]['min_rank'].max().astype(int)+1))\n",
    "        one_to_max = pd.DataFrame({'rank':one_to_max})\n",
    "        \n",
    "        specific_date_facility_df = base_recall_df[(base_recall_df['dateoftransfer']==date) & (base_recall_df['facilityname']==facilityname)]\n",
    "        \n",
    "        if len(specific_date_facility_df):\n",
    "            specific_date_facility_df = specific_date_facility_df.merge(one_to_max,left_on='min_rank', right_on='rank', how='right')\n",
    "            specific_date_facility_df.loc[:,['client', 'facilityname', 'facilityid','dateoftransfer']] = specific_date_facility_df.loc[:,['client', 'facilityname', 'facilityid','dateoftransfer']].ffill()\n",
    "            specific_date_facility_df['resident_transferred'].fillna(0,inplace=True)\n",
    "            specific_date_facility_df['min_rank'] = specific_date_facility_df['rank']\n",
    "            specific_date_facility_df = specific_date_facility_df.drop('rank',axis=1)\n",
    "            specific_date_facility_df = specific_date_facility_df.sort_values(by=['dateoftransfer','client','facilityname', 'facilityid','min_rank'])\n",
    "            combined_list.append(specific_date_facility_df)\n",
    "            \n",
    "combined_base_recall_df = pd.concat(combined_list)\n",
    "combined_base_recall_df = combined_base_recall_df.sort_values(by=['client','dateoftransfer','facilityname', 'facilityid','min_rank'])\n",
    "combined_base_recall_df = combined_base_recall_df.reset_index(drop=True)\n",
    "combined_base_recall_df.head()"
   ]
  },
  {
   "cell_type": "code",
   "execution_count": null,
   "id": "bb23d6fb",
   "metadata": {},
   "outputs": [],
   "source": [
    "def recall_at_k(group):\n",
    "    group.loc[:, \"hospitalized_cumsum\"] = group.resident_transferred.cumsum()\n",
    "    group.loc[:, \"total_relevant\"] = group.resident_transferred.sum()\n",
    "    return group.reset_index(drop=True)\n",
    "\n",
    "performance_base = (\n",
    "            combined_base_recall_df.groupby([\"client\", \"facilityname\", \"facilityid\", \"dateoftransfer\"])\n",
    "            .apply(recall_at_k)\n",
    "            .reset_index(drop=True)\n",
    "        )\n",
    "\n",
    "\n",
    "transferred_df = performance_base.groupby(['client', 'facilityname', 'facilityid','min_rank']).total_relevant.sum().reset_index(name='total_residents_transferred')\n",
    "if len(unranked_base_df):\n",
    "    transferred_df = transferred_df.merge(unranked_base_df,how='inner', on=['client','facilityname','facilityid'])\n",
    "    transferred_df['total_residents_transferred']+= transferred_df['resident_transferred']\n",
    "    del transferred_df['resident_transferred']\n",
    "del transferred_df['min_rank']\n",
    "transferred_df.drop_duplicates(['client', 'facilityname', 'facilityid'],inplace=True)\n",
    "transferred_df.head()"
   ]
  },
  {
   "cell_type": "markdown",
   "id": "79747976",
   "metadata": {},
   "source": [
    "##### <center> calculating clientwise recall denominator"
   ]
  },
  {
   "cell_type": "code",
   "execution_count": null,
   "id": "a84219d6",
   "metadata": {},
   "outputs": [],
   "source": [
    "clientwise_transferred_df = performance_base.groupby(['client']).total_relevant.sum().reset_index(name='total_residents_transferred')\n",
    "clientwise_transferred_df.head()"
   ]
  },
  {
   "cell_type": "markdown",
   "id": "1e5a4fc3",
   "metadata": {},
   "source": [
    "###### <center> calculating recall numerator"
   ]
  },
  {
   "cell_type": "code",
   "execution_count": null,
   "id": "4f712854",
   "metadata": {},
   "outputs": [],
   "source": [
    "recall_numerator_df = base_df.merge(ranked_d, how='inner', on=['censusdate','client','facilityid'])\n",
    "\n",
    "def recall_numerator_lambda(row):\n",
    "    for pct in percent_range:\n",
    "        row[f'rank_at_{pct}'] = np.where(row[f'rank_at_{pct}']>=row['rank_cutoff'],1,0)\n",
    "    return row\n",
    "recall_numerator_df = recall_numerator_df.apply(recall_numerator_lambda,axis=1)\n",
    "recall_numerator_df.head()"
   ]
  },
  {
   "cell_type": "code",
   "execution_count": null,
   "id": "8ddfca77",
   "metadata": {},
   "outputs": [],
   "source": [
    "groupby_sum_cols = [col for col in recall_numerator_df.columns if 'rank_at_' in col]\n",
    "recall_numerator_df = recall_numerator_df.groupby(['client','facilityname','facilityid','dateoftransfer','masterpatientid'])[groupby_sum_cols].max().reset_index()\n",
    "grouped_recall_numerator_df = recall_numerator_df.groupby(['client','facilityname','facilityid'])[groupby_sum_cols].sum().reset_index()\n",
    "\n",
    "\n",
    "final_recall_numerator_df = pd.melt(grouped_recall_numerator_df, id_vars=['client', 'facilityname', 'facilityid'], \n",
    "                                                 value_vars=grouped_recall_numerator_df.columns[3:].tolist(),\n",
    "                                                var_name='rank', value_name='rth_predicted')\n",
    "\n",
    "final_recall_numerator_df.sort_values(['client','facilityid', 'facilityname'],inplace=True)\n",
    "final_recall_numerator_df['rank'] = final_precision_numerator['rank'].str.replace('rank_at_','')\n",
    "# final_recall_numerator_df['rank'] = final_recall_numerator_df['rank'].str.replace('%','')\n",
    "\n",
    "final_recall_numerator_df.head()"
   ]
  },
  {
   "cell_type": "markdown",
   "id": "9f7bc850",
   "metadata": {},
   "source": [
    "###### <center>calculating clientwise recall numerator"
   ]
  },
  {
   "cell_type": "code",
   "execution_count": null,
   "id": "c0f58b5e",
   "metadata": {},
   "outputs": [],
   "source": [
    "clientwise_recall_numerator_df = recall_numerator_df.groupby(['client'])[groupby_sum_cols].sum().reset_index()\n",
    "\n",
    "final_clientwise_recall_numerator_df = pd.melt(clientwise_recall_numerator_df, id_vars=['client'], \n",
    "                                                 value_vars=clientwise_recall_numerator_df.columns[1:].tolist(),\n",
    "                                                var_name='rank', value_name='rth_predicted')\n",
    "\n",
    "final_clientwise_recall_numerator_df.sort_values(['client'],inplace=True)\n",
    "final_clientwise_recall_numerator_df['rank'] = final_clientwise_recall_numerator_df['rank'].str.replace('rank_at_','')\n",
    "# final_clientwise_recall_numerator_df['rank'] = final_clientwise_recall_numerator_df['rank'].str.replace('%','')\n",
    "final_clientwise_recall_numerator_df.head()"
   ]
  },
  {
   "cell_type": "markdown",
   "id": "62f56dbb",
   "metadata": {},
   "source": [
    "### <center> merging recall numerator and denominator"
   ]
  },
  {
   "cell_type": "code",
   "execution_count": null,
   "id": "592433d8",
   "metadata": {},
   "outputs": [],
   "source": [
    "recall_df = final_recall_numerator_df.merge(transferred_df,how='inner', on = ['client', 'facilityname', 'facilityid'])\n",
    "recall_df.head()"
   ]
  },
  {
   "cell_type": "code",
   "execution_count": null,
   "id": "1fbbf780",
   "metadata": {},
   "outputs": [],
   "source": [
    "clientwise_recall_df = final_clientwise_recall_numerator_df.merge(clientwise_transferred_df, how='inner', on = ['client'])\n",
    "clientwise_recall_df.head()"
   ]
  },
  {
   "cell_type": "markdown",
   "id": "6dc2895c",
   "metadata": {},
   "source": [
    "### <center> Calculating Precision-Recall"
   ]
  },
  {
   "cell_type": "code",
   "execution_count": null,
   "id": "944e56db",
   "metadata": {},
   "outputs": [],
   "source": [
    "precision_recall_df = precision_df.merge(recall_df,how='inner', on=['client', 'facilityid', 'rank'])\n",
    "precision_recall_df['precision_at_k%'] = precision_recall_df['num_precision']/precision_recall_df['denom_precision']\n",
    "precision_recall_df['recall_at_k%'] = precision_recall_df['rth_predicted']/precision_recall_df['total_residents_transferred']\n",
    "precision_recall_df.to_csv(f'percentwise_precision_recall_at_k_{START_DATE}_{END_DATE}.csv',index=False)\n",
    "precision_recall_df.head()"
   ]
  },
  {
   "cell_type": "code",
   "execution_count": null,
   "id": "8af3ed16",
   "metadata": {},
   "outputs": [],
   "source": [
    "clientwise_precision_recall_df = clientwise_precision_df.merge(clientwise_recall_df,how='inner', on=['client', 'rank'])\n",
    "clientwise_precision_recall_df.head()"
   ]
  },
  {
   "cell_type": "code",
   "execution_count": null,
   "id": "d6908a3d",
   "metadata": {},
   "outputs": [],
   "source": [
    "clientwise_precision_recall_df['precision_at_k%'] = precision_recall_df['num_precision']/precision_recall_df['denom_precision']\n",
    "clientwise_precision_recall_df['recall_at_k%'] = precision_recall_df['rth_predicted']/precision_recall_df['total_residents_transferred']\n",
    "clientwise_precision_recall_df.to_csv(f'percentwise_clientwise_precision_recall_at_k_{START_DATE}_{END_DATE}.csv',index=False)\n",
    "\n",
    "clientwise_precision_recall_df.head()"
   ]
  }
 ],
 "metadata": {
  "kernelspec": {
   "display_name": "Python 3 (ipykernel)",
   "language": "python",
   "name": "python3"
  },
  "language_info": {
   "codemirror_mode": {
    "name": "ipython",
    "version": 3
   },
   "file_extension": ".py",
   "mimetype": "text/x-python",
   "name": "python",
   "nbconvert_exporter": "python",
   "pygments_lexer": "ipython3",
   "version": "3.8.10"
  }
 },
 "nbformat": 4,
 "nbformat_minor": 5
}
