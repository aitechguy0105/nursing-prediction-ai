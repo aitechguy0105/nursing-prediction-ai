{
 "cells": [
  {
   "cell_type": "code",
   "execution_count": null,
   "metadata": {},
   "outputs": [],
   "source": [
    "import pandas as pd\n",
    "import json\n",
    "import boto3\n",
    "from eliot import log_message\n",
    "pd.set_option('display.max_colwidth', -1)\n",
    "import itertools\n",
    "import numpy as np"
   ]
  },
  {
   "cell_type": "markdown",
   "metadata": {},
   "source": [
    "## Experiment Knobs\n",
    "\n",
    "* CLIENT_LIST = [ 'avante', 'champion', 'hsm', 'marquis', 'midwest', 'mmh', 'trio', 'uch', 'vintage' ]\n",
    "* NOTE: lengthofstay filters rth events with duration less than equal to 'LENGTHOFSTAY'.\n",
    "* To keep all rth events, make LENGTHOFSTAY=None"
   ]
  },
  {
   "cell_type": "code",
   "execution_count": null,
   "metadata": {},
   "outputs": [],
   "source": [
    "CLIENT_LIST = ['trio']\n",
    "START_DATE = '2021-06-01'\n",
    "END_DATE = '2021-08-31'\n",
    "LENGTHOFSTAY = None\n",
    "# LENGTHOFSTAY = 30\n"
   ]
  },
  {
   "cell_type": "markdown",
   "metadata": {},
   "source": [
    "* Below dataframe provides information for transferevent and its reported event within the last 3 days.\n",
    "* query resides in 01 notebook.\n"
   ]
  },
  {
   "cell_type": "code",
   "execution_count": null,
   "metadata": {
    "scrolled": true
   },
   "outputs": [],
   "source": [
    "base_df = pd.read_csv('s3://saiva-playground/gill/RTH_data.csv')\n",
    "base_df['dateoftransfer'] = pd.to_datetime(base_df['dateoftransfer'])\n",
    "base_df['censusdate'] = pd.to_datetime(base_df['censusdate'])\n",
    "base_df['lastadmissiondate'] = pd.to_datetime(base_df['lastadmissiondate'])\n",
    "base_df['lengthofstay'] = (base_df['dateoftransfer'] - base_df['lastadmissiondate']).dt.days + 1\n",
    "if LENGTHOFSTAY:\n",
    "    base_df = base_df[base_df['lengthofstay']<=LENGTHOFSTAY]\n",
    "base_df = base_df[\n",
    "    (base_df['client'].isin(CLIENT_LIST)) &\n",
    "    (base_df['dateoftransfer']>=START_DATE) &\n",
    "    (base_df['dateoftransfer']<=END_DATE) \n",
    "]\n",
    "base_df = base_df[['client','facilityname','facilityid','censusdate','dateoftransfer','masterpatientid','rank_cutoff','resident_transferred']]\n",
    "base_df.head()"
   ]
  },
  {
   "cell_type": "markdown",
   "metadata": {},
   "source": [
    "* dividing the dataframe to two dataframes on the basis of ranked and unranked transfers"
   ]
  },
  {
   "cell_type": "code",
   "execution_count": null,
   "metadata": {},
   "outputs": [],
   "source": [
    "unranked_base_df = base_df[base_df['rank_cutoff'].isna()]\n",
    "base_df = base_df[~base_df['rank_cutoff'].isna()]\n",
    "unranked_base_df = unranked_base_df.groupby(['client','facilityname','facilityid'])['resident_transferred'].count().reset_index()\n",
    "unranked_base_df.head()"
   ]
  },
  {
   "cell_type": "markdown",
   "metadata": {},
   "source": [
    "## Calculating Recall"
   ]
  },
  {
   "cell_type": "code",
   "execution_count": null,
   "metadata": {
    "scrolled": true
   },
   "outputs": [],
   "source": [
    "base_recall_df = base_df.groupby(['client','facilityid','facilityname','masterpatientid', 'dateoftransfer','resident_transferred'])['rank_cutoff'].agg(['max','min']).reset_index()\n",
    "base_recall_df.rename(columns={'max':'max_rank', 'min':'min_rank'},inplace=True)\n",
    "base_recall_df.head()"
   ]
  },
  {
   "cell_type": "code",
   "execution_count": null,
   "metadata": {},
   "outputs": [],
   "source": [
    "\"\"\"\n",
    "following code snippet perform the below operation for each date and each facilityid - \n",
    "1) It merges(right join) the dataframe slice(each date, each facilityid) \n",
    "with another dataframe 'one_to_max' which contains single column of 1 to max rank for that facility during the whole timeperiod.\n",
    "2) 'client','facilityid','dateoftransfer' is filled by ffill.\n",
    "3) 'rank' is copied on 'rank_cutoff' and all the null values are filled by 0.\n",
    "All the dataframe slices are appended together to form a single dataframe.\n",
    "\"\"\"\n",
    "\n",
    "combined_list =[]\n",
    "facilitynames = base_recall_df.facilityname.unique().tolist()\n",
    "for date in pd.date_range(start=START_DATE, end=END_DATE):\n",
    "    for facilityname in facilitynames:\n",
    "        one_to_max = pd.Series(range(1, base_recall_df[base_recall_df['facilityname']==facilityname]['max_rank'].max().astype(int)+1))\n",
    "        one_to_max = pd.DataFrame({'rank':one_to_max})\n",
    "        \n",
    "        specific_date_facility_df = base_recall_df[(base_recall_df['dateoftransfer']==date) & (base_recall_df['facilityname']==facilityname)]\n",
    "        \n",
    "        if len(specific_date_facility_df):\n",
    "            specific_date_facility_df = specific_date_facility_df.merge(one_to_max,left_on='min_rank', right_on='rank', how='right')\n",
    "            specific_date_facility_df.loc[:,['client', 'facilityname', 'facilityid','dateoftransfer']] = specific_date_facility_df.loc[:,['client', 'facilityname', 'facilityid','dateoftransfer']].ffill()\n",
    "            specific_date_facility_df['resident_transferred'].fillna(0,inplace=True)\n",
    "            specific_date_facility_df['min_rank'] = specific_date_facility_df['rank']\n",
    "            specific_date_facility_df = specific_date_facility_df.drop('rank',axis=1)\n",
    "            specific_date_facility_df = specific_date_facility_df.sort_values(by=['dateoftransfer','client','facilityname', 'facilityid','min_rank'])\n",
    "            combined_list.append(specific_date_facility_df)\n",
    "            \n",
    "combined_base_recall_df = pd.concat(combined_list)\n",
    "combined_base_recall_df = combined_base_recall_df.sort_values(by=['client','dateoftransfer','facilityname', 'facilityid','min_rank'])\n",
    "combined_base_recall_df = combined_base_recall_df.reset_index(drop=True)\n",
    "combined_base_recall_df = combined_base_recall_df[~combined_base_recall_df['client'].isna()]\n",
    "combined_base_recall_df.head()"
   ]
  },
  {
   "cell_type": "markdown",
   "metadata": {},
   "source": [
    "* hospitalized_cumsum signifies whether an event occured on or before that particular rank or not (on a particular date and facility).\n",
    "* total_relevant signifies the total events that occurent on a particular date and facility."
   ]
  },
  {
   "cell_type": "code",
   "execution_count": null,
   "metadata": {
    "scrolled": false
   },
   "outputs": [],
   "source": [
    "def recall_at_k(group):\n",
    "    group.loc[:, \"hospitalized_cumsum\"] = group.resident_transferred.cumsum()\n",
    "    group.loc[:, \"total_relevant\"] = group.resident_transferred.sum()\n",
    "    return group.reset_index(drop=True)\n",
    "\n",
    "performance_base = (\n",
    "            combined_base_recall_df.groupby([\"client\", \"facilityname\", \"facilityid\", \"dateoftransfer\"])\n",
    "            .apply(recall_at_k)\n",
    "            .reset_index(drop=True)\n",
    "        )\n",
    "\n",
    "performance_base.head()"
   ]
  },
  {
   "cell_type": "code",
   "execution_count": null,
   "metadata": {},
   "outputs": [],
   "source": [
    "\"\"\"\n",
    "'hospitalized_cumsum' signifies the cumulative summation of the patients transferred per facility per date\n",
    "'total_relevant' signifies the total residents transferred to the hospital per facility per date\n",
    "\"\"\"\n",
    "def recall_at_k(group):\n",
    "    group.loc[:, \"hospitalized_cumsum\"] = group.resident_transferred.cumsum()\n",
    "    group.loc[:, \"total_relevant\"] = group.resident_transferred.sum()\n",
    "    return group.reset_index(drop=True)\n",
    "\n",
    "performance_base = (\n",
    "            combined_base_recall_df.groupby([\"client\", \"facilityname\", \"facilityid\", \"dateoftransfer\"])\n",
    "            .apply(recall_at_k)\n",
    "            .reset_index(drop=True)\n",
    "        )\n",
    "\n",
    "\n",
    "predicted_df = performance_base.groupby(['client','facilityname', 'facilityid','min_rank']).hospitalized_cumsum.sum().reset_index(name='total_residents_predicted')\n",
    "\n",
    "transferred_df = performance_base.groupby(['client', 'facilityname', 'facilityid','min_rank']).total_relevant.sum().reset_index(name='total_residents_transferred')\n",
    "\n",
    "if len(unranked_base_df):\n",
    "    transferred_df = transferred_df.merge(unranked_base_df,how='inner', on=['client','facilityname','facilityid'])\n",
    "    transferred_df['total_residents_transferred']+= transferred_df['resident_transferred']\n",
    "    del transferred_df['resident_transferred']\n",
    "    \n",
    "recall_df = predicted_df.merge(transferred_df,how='inner',on=['client', 'facilityname', 'facilityid','min_rank'])\n",
    "recall_df['recall_at_k'] = recall_df['total_residents_predicted']/recall_df['total_residents_transferred']\n",
    "recall_df.head()"
   ]
  },
  {
   "cell_type": "code",
   "execution_count": null,
   "metadata": {},
   "outputs": [],
   "source": [
    "clientwise_recall_df = recall_df.groupby(['client','min_rank'])['total_residents_predicted','total_residents_transferred'].sum().reset_index()\n",
    "clientwise_recall_df['recall_at_k'] = clientwise_recall_df['total_residents_predicted']/clientwise_recall_df['total_residents_transferred']\n",
    "clientwise_recall_df.head(5)"
   ]
  },
  {
   "cell_type": "markdown",
   "metadata": {},
   "source": [
    "## Calculating Precision"
   ]
  },
  {
   "cell_type": "markdown",
   "metadata": {},
   "source": [
    "\n",
    "###### Calculating precision numerator"
   ]
  },
  {
   "cell_type": "code",
   "execution_count": null,
   "metadata": {
    "scrolled": true
   },
   "outputs": [],
   "source": [
    "numerator_precision_df = base_df.groupby([\"client\", \"facilityname\", \"facilityid\",'rank_cutoff'])['rank_cutoff'].count().reset_index(name='rank_count')\n",
    "numerator_precision_df.head()"
   ]
  },
  {
   "cell_type": "code",
   "execution_count": null,
   "metadata": {
    "scrolled": true
   },
   "outputs": [],
   "source": [
    "combined_list = []\n",
    "facilitynames = numerator_precision_df.facilityname.unique().tolist()\n",
    "for date in pd.date_range(start=START_DATE, end=END_DATE):\n",
    "    for facilityname in facilitynames:\n",
    "        one_to_max = pd.Series(range(1, numerator_precision_df[numerator_precision_df['facilityname']==facilityname]['rank_cutoff'].max().astype(int)+1))\n",
    "        one_to_max = pd.DataFrame({'rank':one_to_max})\n",
    "        \n",
    "        specific_date_facility_df = numerator_precision_df[(numerator_precision_df['facilityname']==facilityname)]\n",
    "        \n",
    "        if len(specific_date_facility_df):\n",
    "            specific_date_facility_df = specific_date_facility_df.merge(one_to_max,left_on='rank_cutoff', right_on='rank', how='right')\n",
    "            specific_date_facility_df.loc[:,['client', 'facilityname', 'facilityid']] = specific_date_facility_df.loc[:,['client', 'facilityname', 'facilityid',]].ffill()\n",
    "            specific_date_facility_df['rank_count'].fillna(0,inplace=True)\n",
    "            specific_date_facility_df['rank_cutoff'] = specific_date_facility_df['rank']\n",
    "            specific_date_facility_df = specific_date_facility_df.drop('rank',axis=1)\n",
    "            specific_date_facility_df = specific_date_facility_df.sort_values(by=['client','facilityname', 'facilityid','rank_cutoff'])\n",
    "            combined_list.append(specific_date_facility_df)\n",
    "\n",
    "concat_numerator_precision_df = pd.concat(combined_list)\n",
    "concat_numerator_precision_df = concat_numerator_precision_df.sort_values(by=['client','facilityname', 'facilityid','rank_cutoff'])\n",
    "concat_numerator_precision_df = concat_numerator_precision_df.drop_duplicates(subset=concat_numerator_precision_df.columns)\n",
    "concat_numerator_precision_df = concat_numerator_precision_df.reset_index(drop=True).reset_index()\n",
    "\n",
    "\n",
    "temp_rank_sum = concat_numerator_precision_df.groupby(['client','facilityname','facilityid'])['rank_count'].cumsum().reset_index(name='rank_lessthan_equalto_k')\n",
    "numerator_precision_df = concat_numerator_precision_df.merge(temp_rank_sum,on='index').drop('index',axis=1)\n",
    "numerator_precision_df['facilityid'] = numerator_precision_df['facilityid'].astype(int)\n",
    "numerator_precision_df.head()"
   ]
  },
  {
   "cell_type": "markdown",
   "metadata": {},
   "source": [
    "#### calculating clientwise precision numerator "
   ]
  },
  {
   "cell_type": "code",
   "execution_count": null,
   "metadata": {},
   "outputs": [],
   "source": [
    "clientwise_numerator_precision_df = base_df.groupby([\"client\", \"rank_cutoff\"])['rank_cutoff'].count().reset_index(name='rank_count')\n",
    "\n",
    "combined_list = []\n",
    "clients = clientwise_numerator_precision_df.client.unique().tolist()\n",
    "for date in pd.date_range(start=START_DATE, end=END_DATE):\n",
    "    for client in clients:\n",
    "        one_to_max = pd.Series(range(1, clientwise_numerator_precision_df[clientwise_numerator_precision_df['client']==client]['rank_cutoff'].max().astype(int)+1))\n",
    "        one_to_max = pd.DataFrame({'rank':one_to_max})\n",
    "\n",
    "        specific_date_facility_df = clientwise_numerator_precision_df[(clientwise_numerator_precision_df['client']==client)]\n",
    "\n",
    "        if len(specific_date_facility_df):\n",
    "            specific_date_facility_df = specific_date_facility_df.merge(one_to_max,left_on='rank_cutoff', right_on='rank', how='right')\n",
    "            specific_date_facility_df.loc[:,['client']] = specific_date_facility_df.loc[:,['client']].ffill()\n",
    "            specific_date_facility_df['rank_count'].fillna(0,inplace=True)\n",
    "            specific_date_facility_df['rank_cutoff'] = specific_date_facility_df['rank']\n",
    "            specific_date_facility_df = specific_date_facility_df.drop('rank',axis=1)\n",
    "            specific_date_facility_df = specific_date_facility_df.sort_values(by=['client', 'rank_cutoff'])\n",
    "            combined_list.append(specific_date_facility_df)\n",
    "\n",
    "concat_clientwise_numerator_precision_df = pd.concat(combined_list)\n",
    "concat_clientwise_numerator_precision_df = concat_clientwise_numerator_precision_df.sort_values(by=['client', 'rank_cutoff'])\n",
    "concat_clientwise_numerator_precision_df = concat_clientwise_numerator_precision_df.drop_duplicates(subset=concat_clientwise_numerator_precision_df.columns)\n",
    "concat_clientwise_numerator_precision_df = concat_clientwise_numerator_precision_df.reset_index(drop=True).reset_index()\n",
    "\n",
    "\n",
    "temp_rank_sum = concat_clientwise_numerator_precision_df.groupby(['client'])['rank_count'].cumsum().reset_index(name='rank_lessthan_equalto_k')\n",
    "clientwise_numerator_precision_df = concat_clientwise_numerator_precision_df.merge(temp_rank_sum,on='index').drop('index',axis=1)\n",
    "clientwise_numerator_precision_df.head()"
   ]
  },
  {
   "cell_type": "markdown",
   "metadata": {},
   "source": [
    "###### Calculating precision denominator"
   ]
  },
  {
   "cell_type": "code",
   "execution_count": null,
   "metadata": {},
   "outputs": [],
   "source": [
    "ranked_d = pd.read_csv('s3://saiva-playground/gill/ranked_d.csv')\n",
    "ranked_d['censusdate'] = pd.to_datetime(ranked_d['censusdate'])\n",
    "ranked_d = ranked_d[(ranked_d['client'].isin(CLIENT_LIST))&(ranked_d['censusdate']>=START_DATE)&(ranked_d['censusdate']<=END_DATE)]\n",
    "ranked_d['max_ranked_d'] = ranked_d.groupby(['client','facilityid'])['ranked_d'].transform('max')\n",
    "ranked_d.head()"
   ]
  },
  {
   "cell_type": "code",
   "execution_count": null,
   "metadata": {},
   "outputs": [],
   "source": [
    "def lambda_func(row):\n",
    "    row['rank_per_day'] = list(range(1,row['ranked_d']+1)) + list([row['ranked_d']]*(row['max_ranked_d']-row['ranked_d']))\n",
    "    return row\n",
    "\n",
    "grouped_ranked_d = ranked_d.apply(lambda_func, axis=1)\n",
    "grouped_ranked_d = grouped_ranked_d.groupby(['client','facilityid']).apply(lambda x: [sum(a) for a in zip(*x['rank_per_day'])]).reset_index(name='rank_per_day')\n",
    "grouped_ranked_d.head()\n"
   ]
  },
  {
   "cell_type": "markdown",
   "metadata": {},
   "source": [
    "##### calculating clientwise precision denominator"
   ]
  },
  {
   "cell_type": "code",
   "execution_count": null,
   "metadata": {},
   "outputs": [],
   "source": [
    "\n",
    "def lambda_func(row):\n",
    "    row['clientwise_rank_per_day'] = list(range(1,row['ranked_d']+1)) + list([row['ranked_d']]*(row['clientwise_max_ranked_d']-row['ranked_d']))\n",
    "    return row\n",
    "\n",
    "ranked_d['clientwise_max_ranked_d'] = ranked_d.groupby(['client'])['ranked_d'].transform('max')\n",
    "ranked_d = ranked_d.apply(lambda_func, axis=1)\n",
    "clientwise_grouped_ranked_d = ranked_d.groupby(['client']).apply(lambda x: [sum(a) for a in zip(*x['clientwise_rank_per_day'])]).reset_index(name='clientwise_rank_per_day')\n",
    "clientwise_grouped_ranked_d.head()\n"
   ]
  },
  {
   "cell_type": "markdown",
   "metadata": {},
   "source": [
    "##### calculating precision"
   ]
  },
  {
   "cell_type": "code",
   "execution_count": null,
   "metadata": {},
   "outputs": [],
   "source": [
    "def func(row):\n",
    "    row['min_k_ranked_d'] = grouped_ranked_d.loc[(grouped_ranked_d['client']==row['client'])&(grouped_ranked_d['facilityid']==row['facilityid'])]['rank_per_day'].values[0][row['rank_cutoff']-1]    \n",
    "    return row\n",
    "\n",
    "\n",
    "precision_df = numerator_precision_df.apply(func, axis=1)\n",
    "precision_df['precision_at_k'] = precision_df['rank_lessthan_equalto_k']/precision_df['min_k_ranked_d']\n",
    "precision_df.head()"
   ]
  },
  {
   "cell_type": "markdown",
   "metadata": {},
   "source": [
    "##### calculating clientwise precision"
   ]
  },
  {
   "cell_type": "code",
   "execution_count": null,
   "metadata": {
    "scrolled": true
   },
   "outputs": [],
   "source": [
    "def func(row):\n",
    "    try:\n",
    "        row['min_k_ranked_d'] = clientwise_grouped_ranked_d.loc[(clientwise_grouped_ranked_d['client']==row['client'])]['clientwise_rank_per_day'].values[0][row['rank_cutoff']-1]    \n",
    "    except:\n",
    "        row['min_k_ranked_d'] = np.nan\n",
    "    return row\n",
    "\n",
    "\n",
    "clientwise_precision_df = clientwise_numerator_precision_df.apply(func, axis=1)\n",
    "clientwise_precision_df['precision_at_k'] = clientwise_precision_df['rank_lessthan_equalto_k']/clientwise_precision_df['min_k_ranked_d']\n",
    "# clientwise_precision_df = clientwise_precision_df[~clientwise_precision_df['min_k_ranked_d'].isna()]\n",
    "clientwise_precision_df.head()"
   ]
  },
  {
   "cell_type": "code",
   "execution_count": null,
   "metadata": {},
   "outputs": [],
   "source": [
    "recall_df.shape, precision_df.shape"
   ]
  },
  {
   "cell_type": "code",
   "execution_count": null,
   "metadata": {},
   "outputs": [],
   "source": [
    "precision_recall_at_k = recall_df.merge(precision_df, how='inner', left_on = ['client', 'facilityname', 'facilityid', 'min_rank'], right_on=['client', 'facilityname', 'facilityid','rank_cutoff'])\n",
    "precision_recall_at_k.to_csv(f'precision_recall_at_k_{START_DATE}_{END_DATE}.csv',index=False)\n",
    "precision_recall_at_k.head()"
   ]
  },
  {
   "cell_type": "code",
   "execution_count": null,
   "metadata": {},
   "outputs": [],
   "source": [
    "clientwise_precision_recall_at_k = clientwise_recall_df.merge(clientwise_precision_df, how='inner', left_on = ['client', 'min_rank'], right_on=['client', 'rank_cutoff'])\n",
    "clientwise_precision_recall_at_k.to_csv(f'clientwise_precision_recall_at_k_{START_DATE}_{END_DATE}.csv',index=False)\n",
    "clientwise_precision_recall_at_k.head()"
   ]
  }
 ],
 "metadata": {
  "kernelspec": {
   "display_name": "Python 3 (ipykernel)",
   "language": "python",
   "name": "python3"
  },
  "language_info": {
   "codemirror_mode": {
    "name": "ipython",
    "version": 3
   },
   "file_extension": ".py",
   "mimetype": "text/x-python",
   "name": "python",
   "nbconvert_exporter": "python",
   "pygments_lexer": "ipython3",
   "version": "3.8.10"
  }
 },
 "nbformat": 4,
 "nbformat_minor": 2
}
