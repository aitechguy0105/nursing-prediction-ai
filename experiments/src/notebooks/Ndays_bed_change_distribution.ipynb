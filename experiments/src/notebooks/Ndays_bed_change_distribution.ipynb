{
 "cells": [
  {
   "cell_type": "code",
   "execution_count": null,
   "id": "cce91ce0",
   "metadata": {},
   "outputs": [],
   "source": [
    "!pip install matplotlib"
   ]
  },
  {
   "cell_type": "code",
   "execution_count": null,
   "id": "e7be1ff6",
   "metadata": {},
   "outputs": [],
   "source": [
    "!pip install seaborn"
   ]
  },
  {
   "cell_type": "code",
   "execution_count": null,
   "id": "98200899",
   "metadata": {},
   "outputs": [],
   "source": [
    "import os\n",
    "import pandas as pd\n",
    "\n",
    "from shared.utils import get_client_class\n",
    "from shared.constants import CLIENT\n",
    "\n",
    "import numpy as np\n",
    "import seaborn as sns\n",
    "import matplotlib.pyplot as plt"
   ]
  },
  {
   "cell_type": "markdown",
   "id": "4249eb23",
   "metadata": {},
   "source": [
    "# Get Client Info"
   ]
  },
  {
   "cell_type": "code",
   "execution_count": null,
   "id": "297208a8",
   "metadata": {},
   "outputs": [],
   "source": [
    "clientClass = get_client_class(client=CLIENT)\n",
    "EXPERIMENT_DATES = getattr(clientClass(), 'get_experiment_dates')()\n",
    "TRAIN_START_DATE, TRAIN_END_DATE = EXPERIMENT_DATES['train_start_date'], EXPERIMENT_DATES['train_end_date']\n",
    "VAL_START_DATE, VAL_END_DATE = EXPERIMENT_DATES['validation_start_date'], EXPERIMENT_DATES['validation_end_date']\n",
    "TEST_START_DATE, TEST_END_DATE = EXPERIMENT_DATES['test_start_date'], EXPERIMENT_DATES['test_end_date']\n",
    "\n",
    "print(CLIENT)\n",
    "print(os.environ.get('SAIVA_ENV','dev'))\n",
    "print(TRAIN_START_DATE, TRAIN_END_DATE)\n",
    "print(VAL_START_DATE, VAL_END_DATE)\n",
    "print(TEST_START_DATE, TEST_END_DATE)"
   ]
  },
  {
   "cell_type": "markdown",
   "id": "a162a928",
   "metadata": {},
   "source": [
    "# Loading"
   ]
  },
  {
   "cell_type": "code",
   "execution_count": null,
   "id": "019edde6",
   "metadata": {},
   "outputs": [],
   "source": [
    "path = '/data/processed/final_df.parquet'\n",
    "census_rehosp_df = pd.read_parquet(path)\n",
    "census_rehosp_df.head()\n",
    "census_rehosp_df.to_parquet(path, index=False)"
   ]
  },
  {
   "cell_type": "code",
   "execution_count": null,
   "id": "a5c37ea0",
   "metadata": {},
   "outputs": [],
   "source": [
    "census_rehosp_df.shape"
   ]
  },
  {
   "cell_type": "markdown",
   "id": "7092b307",
   "metadata": {},
   "source": [
    "# Data Wrangling"
   ]
  },
  {
   "cell_type": "code",
   "execution_count": null,
   "id": "6bd381a5",
   "metadata": {},
   "outputs": [],
   "source": [
    "census_rehosp_df.drop('client_y', axis=1, inplace=True)\n",
    "census_rehosp_df.drop('day_since_RC_y', axis=1, inplace=True)\n",
    "census_rehosp_df.rename(columns={'client_x':'client', 'day_since_RC_x':\"day_since_RC\"}, inplace=True)\n",
    "census_rehosp_df.head()"
   ]
  },
  {
   "cell_type": "code",
   "execution_count": null,
   "id": "fa6c58a7",
   "metadata": {},
   "outputs": [],
   "source": [
    "census_rehosp_df.info()"
   ]
  },
  {
   "cell_type": "code",
   "execution_count": null,
   "id": "b663371e",
   "metadata": {},
   "outputs": [],
   "source": [
    "colNames = ['facilityid', 'masterpatientid','bedid', 'censusdate','day_since_RC','date_of_transfer','hosp_target_3_day_hosp']\n",
    "sub_df = census_rehosp_df.loc[:,colNames]\n",
    "sub_df['hosp_target_3_day_hosp'] = sub_df.hosp_target_3_day_hosp.fillna(False)"
   ]
  },
  {
   "cell_type": "code",
   "execution_count": null,
   "id": "077d1b49",
   "metadata": {},
   "outputs": [],
   "source": [
    "sub_df['hosp_target_3_day_hosp'] = sub_df['hosp_target_3_day_hosp'].fillna(False).astype(int)"
   ]
  },
  {
   "cell_type": "code",
   "execution_count": null,
   "id": "b46a66d9",
   "metadata": {},
   "outputs": [],
   "source": [
    "sub_df.head()"
   ]
  },
  {
   "cell_type": "markdown",
   "id": "0c05f861",
   "metadata": {},
   "source": [
    "# Split Data into Train, Validation, Test set"
   ]
  },
  {
   "cell_type": "code",
   "execution_count": null,
   "id": "72855a89",
   "metadata": {},
   "outputs": [],
   "source": [
    "train_df= sub_df.loc[sub_df.censusdate<=TRAIN_END_DATE].reset_index(drop=True)\n",
    "val_df= sub_df.loc[(sub_df.censusdate>=VAL_START_DATE) & (sub_df.censusdate<=VAL_END_DATE)].reset_index(drop=True)\n",
    "test_df= sub_df.loc[(sub_df.censusdate>=TEST_START_DATE) & (sub_df.censusdate<=TEST_END_DATE)].reset_index(drop=True)\n",
    "print(\"Train Set:\", train_df.shape)\n",
    "print(\"Validation Set:\", val_df.shape)\n",
    "print(\"Test Set:\", test_df.shape)"
   ]
  },
  {
   "cell_type": "markdown",
   "id": "2a1ff34f",
   "metadata": {},
   "source": [
    "# Get Pos and Neg sets"
   ]
  },
  {
   "cell_type": "markdown",
   "id": "6244cbcd",
   "metadata": {},
   "source": [
    "### Training Set"
   ]
  },
  {
   "cell_type": "code",
   "execution_count": null,
   "id": "f166b78f",
   "metadata": {},
   "outputs": [],
   "source": [
    "train_neg_df = train_df.loc[train_df.hosp_target_3_day_hosp==0]\n",
    "print(train_neg_df.shape)"
   ]
  },
  {
   "cell_type": "code",
   "execution_count": null,
   "id": "b7439921",
   "metadata": {},
   "outputs": [],
   "source": [
    "train_pos_df = train_df.loc[train_df.hosp_target_3_day_hosp==1&train_df.date_of_transfer.isnull()]\n",
    "print(train_pos_df.shape)"
   ]
  },
  {
   "cell_type": "code",
   "execution_count": null,
   "id": "a9f6b92c",
   "metadata": {},
   "outputs": [],
   "source": [
    "idx = train_df.loc[~train_df.date_of_transfer.isnull()].index\n",
    "train_rth_df = train_df.iloc[idx-1,:]\n",
    "train_rth_df = train_rth_df.loc[train_rth_df.date_of_transfer.isnull()]\n",
    "print(train_rth_df.shape)"
   ]
  },
  {
   "cell_type": "markdown",
   "id": "f2182161",
   "metadata": {},
   "source": [
    "### Validation Set"
   ]
  },
  {
   "cell_type": "code",
   "execution_count": null,
   "id": "904eec84",
   "metadata": {},
   "outputs": [],
   "source": [
    "val_neg_df = val_df.loc[val_df.hosp_target_3_day_hosp==0]\n",
    "print(val_neg_df.shape)"
   ]
  },
  {
   "cell_type": "code",
   "execution_count": null,
   "id": "a32ec371",
   "metadata": {},
   "outputs": [],
   "source": [
    "val_pos_df = val_df.loc[val_df.hosp_target_3_day_hosp==1&val_df.date_of_transfer.isnull()]\n",
    "print(val_pos_df.shape)"
   ]
  },
  {
   "cell_type": "code",
   "execution_count": null,
   "id": "8ef652d9",
   "metadata": {},
   "outputs": [],
   "source": [
    "idx = val_df.loc[~val_df.date_of_transfer.isnull()].index-1\n",
    "val_rth_df = val_df.iloc[idx,:]\n",
    "val_rth_df = val_rth_df.loc[val_rth_df.date_of_transfer.isnull()]\n",
    "print(val_rth_df.shape)"
   ]
  },
  {
   "cell_type": "markdown",
   "id": "b39de49f",
   "metadata": {},
   "source": [
    "### Test Set"
   ]
  },
  {
   "cell_type": "code",
   "execution_count": null,
   "id": "1d548f93",
   "metadata": {},
   "outputs": [],
   "source": [
    "test_neg_df = test_df.loc[test_df.hosp_target_3_day_hosp==0]\n",
    "print(test_neg_df.shape)"
   ]
  },
  {
   "cell_type": "code",
   "execution_count": null,
   "id": "17a1821b",
   "metadata": {},
   "outputs": [],
   "source": [
    "test_pos_df = test_df.loc[test_df.hosp_target_3_day_hosp==1&test_df.date_of_transfer.isnull()]\n",
    "print(test_pos_df.shape)"
   ]
  },
  {
   "cell_type": "code",
   "execution_count": null,
   "id": "a4a81749",
   "metadata": {},
   "outputs": [],
   "source": [
    "idx = test_df.loc[~test_df.date_of_transfer.isnull()].index-1\n",
    "test_rth_df = test_df.iloc[idx,:]\n",
    "test_rth_df = test_rth_df.loc[test_rth_df.date_of_transfer.isnull()]\n",
    "print(test_rth_df.shape)"
   ]
  },
  {
   "cell_type": "markdown",
   "id": "77e02e79",
   "metadata": {},
   "source": [
    "# Statistic"
   ]
  },
  {
   "cell_type": "code",
   "execution_count": null,
   "id": "98f51473",
   "metadata": {},
   "outputs": [],
   "source": [
    "print('Train Neg Num day since Last Bed Change')\n",
    "train_neg_df[['day_since_RC']].describe()"
   ]
  },
  {
   "cell_type": "code",
   "execution_count": null,
   "id": "b9b1da73",
   "metadata": {},
   "outputs": [],
   "source": [
    "print('Val Neg Num day since Last Bed Change')\n",
    "val_neg_df[['day_since_RC']].describe()"
   ]
  },
  {
   "cell_type": "code",
   "execution_count": null,
   "id": "6f40e829",
   "metadata": {},
   "outputs": [],
   "source": [
    "print('Test Neg Num day since Last Bed Change')\n",
    "test_neg_df[['day_since_RC']].describe()"
   ]
  },
  {
   "cell_type": "code",
   "execution_count": null,
   "id": "0eac1d31",
   "metadata": {},
   "outputs": [],
   "source": [
    "print('Train Pos Num day since Last Bed Change')\n",
    "train_pos_df[['day_since_RC']].describe()"
   ]
  },
  {
   "cell_type": "code",
   "execution_count": null,
   "id": "18cad751",
   "metadata": {},
   "outputs": [],
   "source": [
    "print('Val Pos Num day since Last Bed Change')\n",
    "val_pos_df[['day_since_RC']].describe()"
   ]
  },
  {
   "cell_type": "code",
   "execution_count": null,
   "id": "7c2f189d",
   "metadata": {},
   "outputs": [],
   "source": [
    "print('Test Pos Num day since Last Bed Change')\n",
    "test_pos_df[['day_since_RC']].describe()"
   ]
  },
  {
   "cell_type": "markdown",
   "id": "49a07109",
   "metadata": {},
   "source": [
    "# Plot"
   ]
  },
  {
   "cell_type": "code",
   "execution_count": null,
   "id": "553b66f7",
   "metadata": {},
   "outputs": [],
   "source": [
    "def helper(df, cut_off=200):\n",
    "    df_=df[['day_since_RC','hosp_target_3_day_hosp']].copy()\n",
    "    df_.loc[df_.day_since_RC>cut_off, 'day_since_RC']=cut_off\n",
    "    return df_"
   ]
  },
  {
   "cell_type": "code",
   "execution_count": null,
   "id": "7413f6de",
   "metadata": {},
   "outputs": [],
   "source": [
    "def get_stat(df):\n",
    "    stat_idx = ['mean', 'std', 'min', '25%', '50%', '75%', 'max']\n",
    "    stat_df = pd.DataFrame(df.day_since_RC.describe()[stat_idx]).round(1)\n",
    "    stat_df.columns = ['statistic']\n",
    "    return stat_df"
   ]
  },
  {
   "cell_type": "code",
   "execution_count": null,
   "id": "16ab3333",
   "metadata": {},
   "outputs": [],
   "source": [
    "n_x_bins = 100\n",
    "\n",
    "fig,((ax11, ax12, ax13, ax14), (ax21, ax22, ax23, ax24), (ax31, ax32, ax33, ax34), (ax41, ax42, ax43, ax44)) =\\\n",
    "                                        plt.subplots(nrows=4, ncols=4, figsize=(25, 25), sharey='row')\n",
    "#11\n",
    "train_neg_BC_df, train_neg_stat = helper(train_neg_df), get_stat(train_neg_df)\n",
    "sns.histplot(train_neg_BC_df.day_since_RC, bins=n_x_bins, ax=ax11, stat='percent', color='blue', label=train_neg_stat)\n",

 saiv1162_Featurization_Experiment_Days_Since_Last_RC:experiments/src/notebooks/Ndays_bed_change_distribution.ipynb
    "num_days = (train_neg_df.censusdate.max()-train_neg_df.censusdate.min()).days\n",
    "ax11.legend(fontsize=15, loc ='upper center')\n",
    "ax11.grid()\n",
    "ax11.set_title(f'Train Neg BC ({len(train_neg_df)} data points, {num_days} days)', fontsize=15)\n",
    "ax11.set_xlabel('days since last BC', fontsize=10)\n",
 saiv1162_Featurization_Experiment_Days_Since_Last_RC:experiments/src/notebooks/Ndays_bed_change_distribution.ipynb
    "#12\n",
    "val_neg_BC_df, val_neg_stat = helper(val_neg_df), get_stat(val_neg_df)\n",
    "sns.histplot(val_neg_BC_df.day_since_RC, bins=n_x_bins, ax=ax12, stat='percent', color='tan', label=val_neg_stat)\n",
saiv1162_Featurization_Experiment_Days_Since_Last_RC:experiments/src/notebooks/Ndays_bed_change_distribution.ipynb
    "num_days = (val_neg_df.censusdate.max()-val_neg_df.censusdate.min()).days\n",
    "ax12.legend(fontsize=15, loc ='upper center')\n",
    "ax12.grid()\n",
    "ax12.set_title(f'Validation Neg BC ({len(val_neg_df)} data points, {num_days} days)', fontsize=15)\n",
    "ax12.set_xlabel('days since last BC', fontsize=10)\n",
saiv1162_Featurization_Experiment_Days_Since_Last_RC:experiments/src/notebooks/Ndays_bed_change_distribution.ipynb
    "#13\n",
    "test_neg_BC_df ,test_neg_stat = helper(test_neg_df), get_stat(test_neg_df)\n",
    "sns.histplot(test_neg_BC_df.day_since_RC, bins=n_x_bins, ax=ax13, stat='percent', color='lime', label=test_neg_stat)\n",
saiv1162_Featurization_Experiment_Days_Since_Last_RC:experiments/src/notebooks/Ndays_bed_change_distribution.ipynb
    "num_days = (test_neg_df.censusdate.max()-test_neg_df.censusdate.min()).days\n",
    "ax13.legend(fontsize=15, loc ='upper center')\n",
    "ax13.grid()\n",
    "ax13.set_title(f'Test Neg BC ({len(test_neg_df)} data points, {num_days} days)', fontsize=15)\n",
    "ax13.set_xlabel('days since last BC', fontsize=10)\n",
    "#14\n",
    "sns.histplot(train_neg_BC_df.day_since_RC, bins=n_x_bins, ax=ax14, stat='percent', color='blue', element=\"poly\", fill=False, label = 'train_neg')\n",
    "sns.histplot(val_neg_BC_df.day_since_RC, bins=n_x_bins, ax=ax14, stat='percent', color='tan', element=\"poly\", fill=False, label = 'val_neg')\n",
    "sns.histplot(test_neg_BC_df.day_since_RC, bins=n_x_bins, ax=ax14, stat='percent', color='lime', element=\"poly\", fill=False, label = 'test_neg')\n",
    "ax14.legend(fontsize=15, loc ='upper center')\n",
    "ax14.grid()\n",
    "ax14.set_title('Normalized Neg Days BC', fontsize=15)\n",
    "ax14.set_xlabel('days since last BC', fontsize=10)\n",
    "#21\n",
    "train_pos_BC_df, train_pos_stat = helper(train_pos_df), get_stat(train_pos_df)\n",
    "sns.histplot(train_pos_BC_df.day_since_RC, bins=n_x_bins, ax=ax21, stat='percent', color='blue', label=train_pos_stat)\n",
saiv1162_Featurization_Experiment_Days_Since_Last_RC:experiments/src/notebooks/Ndays_bed_change_distribution.ipynb
    "num_days = (train_pos_df.censusdate.max()-train_pos_df.censusdate.min()).days\n",
    "ax21.legend(fontsize=15, loc ='upper center')\n",
    "ax21.grid()\n",
    "ax21.set_title(f'Train Pos BC ({len(train_pos_df)} data points, {num_days} days)', fontsize=15)\n",
    "ax21.set_xlabel('days since last BC',fontsize=10)\n",
 saiv1162_Featurization_Experiment_Days_Since_Last_RC:experiments/src/notebooks/Ndays_bed_change_distribution.ipynb
    "#22\n",
    "val_pos_BC_df, val_pos_stat = helper(val_pos_df), get_stat(val_pos_df)\n",
    "sns.histplot(val_pos_BC_df.day_since_RC, bins=n_x_bins, ax=ax22, stat='percent', color='tan', label=val_pos_stat)\n",
saiv1162_Featurization_Experiment_Days_Since_Last_RC:experiments/src/notebooks/Ndays_bed_change_distribution.ipynb
    "num_days = (val_pos_df.censusdate.max()-val_pos_df.censusdate.min()).days\n",
    "ax22.legend(fontsize=15, loc ='upper center')\n",
    "ax22.grid()\n",
    "ax22.set_title(f'Validation Pos BC ({len(val_pos_df)} data points, {num_days} days)', fontsize=15)\n",
    "ax22.set_xlabel('days since last BC', fontsize=10)\n",
saiv1162_Featurization_Experiment_Days_Since_Last_RC:experiments/src/notebooks/Ndays_bed_change_distribution.ipynb
    "#23\n",
    "test_pos_BC_df, test_pos_stat = helper(test_pos_df), get_stat(test_pos_df)\n",
    "sns.histplot(test_pos_BC_df.day_since_RC, bins=n_x_bins, ax=ax23, stat='percent', color='lime', label=test_pos_stat)\n",
saiv1162_Featurization_Experiment_Days_Since_Last_RC:experiments/src/notebooks/Ndays_bed_change_distribution.ipynb
    "num_days = (test_pos_df.censusdate.max()-test_pos_df.censusdate.min()).days\n",
    "ax23.legend(fontsize=15, loc ='upper center')\n",
    "ax23.grid()\n",
    "ax23.set_title(f'Test Pos BC ({len(test_pos_df)} data points, {num_days} days)', fontsize=15)\n",
    "ax23.set_xlabel('days since last BC', fontsize=10)\n",
    "#24\n",
    "sns.histplot(train_pos_BC_df.day_since_RC, bins=n_x_bins, ax=ax24, stat='percent', color='blue', element=\"poly\", fill=False, label = 'train_pos')\n",
    "sns.histplot(val_pos_BC_df.day_since_RC, bins=n_x_bins, ax=ax24, stat='percent', color='tan', element=\"poly\", fill=False, label = 'val_pos')\n",
    "sns.histplot(test_pos_BC_df.day_since_RC, bins=n_x_bins, ax=ax24, stat='percent', color='lime', element=\"poly\", fill=False, label = 'test_pos')\n",
    "ax24.legend(fontsize=15, loc ='upper center')\n",
    "ax24.grid()\n",
    "ax24.set_title('Normalized Pos Days BC', fontsize=15)\n",
    "ax24.set_xlabel('days since last BC', fontsize=10)\n",
    "#31\n",
    "sns.histplot(train_neg_BC_df.day_since_RC, bins=n_x_bins, ax=ax31, stat='percent', color='blue', element=\"poly\", fill=False, label = 'train_neg')\n",
    "sns.histplot(train_pos_BC_df.day_since_RC, bins=n_x_bins, ax=ax31, stat='percent', color='red', element=\"poly\", fill=False, label = 'train_pos')\n",
    "ax31.legend(fontsize=15, loc ='upper center')\n",
saiv1162_Featurization_Experiment_Days_Since_Last_RC:experiments/src/notebooks/Ndays_bed_change_distribution.ipynb
    "ax31.grid()\n",
    "ax31.set_title('Normalized Train Days BC Pos vs. Neg', fontsize=15)\n",
    "ax31.set_xlabel('days since last BC', fontsize=10)\n",
    "#32\n",
    "sns.histplot(val_neg_BC_df.day_since_RC, bins=n_x_bins, ax=ax32, stat='percent', color='tan', element=\"poly\", fill=False, label = 'val_neg')\n",
    "sns.histplot(val_pos_BC_df.day_since_RC, bins=n_x_bins, ax=ax32, stat='percent', color='red', element=\"poly\", fill=False, label = 'val_pos')\n",
    "ax32.legend(fontsize=15, loc ='upper center')\n",
    "ax32.grid()\n",
    "ax32.set_title('Normalized Validation Days BC Pos vs. Neg', fontsize=15)\n",
    "ax32.set_xlabel('days since last BC', fontsize=10)\n",
    "#33\n",
    "sns.histplot(test_neg_BC_df.day_since_RC, bins=n_x_bins, ax=ax33, stat='percent', color='lime', element=\"poly\", fill=False, label = 'test_neg')\n",
    "sns.histplot(test_pos_BC_df.day_since_RC, bins=n_x_bins, ax=ax33, stat='percent', color='red', element=\"poly\", fill=False, label = 'test_pos')\n",
    "ax33.legend(fontsize=15, loc ='upper center')\n",
    "ax33.grid()\n",
    "ax33.set_title('Normalized Test Days BC Pos vs. Neg', fontsize=15)\n",
    "ax33.set_xlabel('days since last BC',fontsize=10)\n",
    "#34\n",
    "sns.histplot(train_neg_BC_df.day_since_RC, bins=n_x_bins, ax=ax34, stat='percent', color='blue', element=\"poly\", fill=False, label = 'train_neg')\n",
    "sns.histplot(train_pos_BC_df.day_since_RC, bins=n_x_bins, ax=ax34, stat='percent', color='purple', element=\"poly\", fill=False, label = 'train_pos')\n",
    "sns.histplot(val_neg_BC_df.day_since_RC, bins=n_x_bins, ax=ax34, stat='percent', color='tan', element=\"poly\", fill=False, label = 'val_neg')\n",
    "sns.histplot(val_pos_BC_df.day_since_RC, bins=n_x_bins, ax=ax34, stat='percent', color='yellow', element=\"poly\", fill=False, label = 'val_pos')\n",
    "sns.histplot(test_neg_BC_df.day_since_RC, bins=n_x_bins, ax=ax34, stat='percent', color='lime', element=\"poly\", fill=False, label = 'test_neg')\n",
    "sns.histplot(test_pos_BC_df.day_since_RC, bins=n_x_bins, ax=ax34, stat='percent', color='black', element=\"poly\", fill=False, label = 'test_pos')\n",
    "ax34.grid()\n",
    "ax34.legend(fontsize=15, loc ='upper center')\n",
    "ax34.set_title('Normalized Days BC')\n",
    "ax34.set_xlabel('days since last BC')\n",
    "\n",
    "#41\n",
    "train_rth_df_, train_rth_stat = helper(train_rth_df), get_stat(train_rth_df)\n",
    "sns.histplot(train_rth_df_.day_since_RC, bins=n_x_bins, ax=ax41, stat='percent', color='blue', label=train_rth_stat)\n",
saiv1162_Featurization_Experiment_Days_Since_Last_RC:experiments/src/notebooks/Ndays_bed_change_distribution.ipynb
    "ax41.legend(fontsize=15, loc ='upper center')\n",
    "ax41.grid()\n",
    "ax41.set_title(f'Train RTH ({len(train_rth_df)} data points)', fontsize=15)\n",
    "ax41.set_xlabel('days since last BC', fontsize=10)\n",
saiv1162_Featurization_Experiment_Days_Since_Last_RC:experiments/src/notebooks/Ndays_bed_change_distribution.ipynb
    "#42\n",
    "val_rth_df_, val_rth_stat = helper(val_rth_df), get_stat(val_rth_df)\n",
    "sns.histplot(val_rth_df_.day_since_RC, bins=n_x_bins, ax=ax42, stat='percent', color='tan', label=val_rth_stat)\n",
saiv1162_Featurization_Experiment_Days_Since_Last_RC:experiments/src/notebooks/Ndays_bed_change_distribution.ipynb
    "ax42.legend(fontsize=15, loc ='upper center')\n",
    "ax42.grid()\n",
    "ax42.set_title(f'Validation RTH ({len(val_rth_df)} data points)', fontsize=15)\n",
    "ax42.set_xlabel('days since last BC', fontsize=10)\n",
saiv1162_Featurization_Experiment_Days_Since_Last_RC:experiments/src/notebooks/Ndays_bed_change_distribution.ipynb
    "#43\n",
    "test_rth_df_, test_rth_stat = helper(test_rth_df), get_stat(test_rth_df)\n",
    "sns.histplot(test_rth_df_.day_since_RC, bins=n_x_bins, ax=ax43, stat='percent', color='lime', label=test_rth_stat)\n",
saiv1162_Featurization_Experiment_Days_Since_Last_RC:experiments/src/notebooks/Ndays_bed_change_distribution.ipynb
    "ax43.legend(fontsize=15, loc ='upper center')\n",
    "ax43.grid()\n",
    "ax43.set_title(f'Test RTH ({len(test_rth_df)} data points)', fontsize=15)\n",
    "ax43.set_xlabel('days since last BC', fontsize=10)\n",
    "#44\n",
    "sns.histplot(train_rth_df_.day_since_RC, bins=n_x_bins, ax=ax44, stat='percent', color='blue', element=\"poly\", fill=False, label = 'train_rth')\n",
    "sns.histplot(val_rth_df_.day_since_RC, bins=n_x_bins, ax=ax44, stat='percent', color='tan', element=\"poly\", fill=False, label = 'val_rth')\n",
    "sns.histplot(test_rth_df_.day_since_RC, bins=n_x_bins, ax=ax44, stat='percent', color='lime', element=\"poly\", fill=False, label = 'test_rth')\n",
    "ax44.legend(fontsize=15, loc ='upper center')\n",
    "ax44.grid()\n",
    "ax44.set_title('Normalized RTH', fontsize=15)\n",
    "ax44.set_xlabel('days since last BC', fontsize=10)\n",
    "\n",

    "#Set right y aixs\n",
    "ax11.set_ylim(0,30)\n",
    "ax11_ = ax11.twinx()\n",
    "ax11_.set_yticks(ax11.get_yticks()*train_neg_BC_df.shape[0]/100)\n",
    "ax11_.set_ylabel(ylabel='')\n",
    "\n",
    "ax12_ = ax12.twinx()\n",
    "ax12_.set_yticks(ax12.get_yticks()*val_neg_BC_df.shape[0]/100)\n",
    "ax12_.set_ylabel(ylabel='')\n",
    "\n",
    "ax13_ = ax13.twinx()\n",
    "ax13_.set_yticks(ax13.get_yticks()*test_neg_BC_df.shape[0]/100)\n",
    "ax13_.set_ylabel(ylabel='count')\n",
    "\n",
    "ax21.set_ylim(0,12)\n",
    "ax21_ = ax21.twinx()\n",
    "ax21_.set_yticks((ax21.get_yticks()*train_pos_BC_df.shape[0]/100).round(0).astype(int))\n",
    "ax21_.set_ylabel(ylabel='')\n",
    "\n",
    "ax22_ = ax22.twinx()\n",
    "ax22_.set_yticks((ax22.get_yticks()*val_pos_BC_df.shape[0]/100).round(0).astype(int))\n",
    "ax22_.set_ylabel(ylabel='')\n",
    "\n",
    "ax23_ = ax23.twinx()\n",
    "ax23_.set_yticks((ax23.get_yticks()*test_pos_BC_df.shape[0]/100).round(0).astype(int))\n",
    "ax23_.set_ylabel(ylabel='count')\n",
    "\n",
    "ax41.set_ylim(0,12)\n",
    "ax41_ = ax41.twinx()\n",
    "ax41_.set_yticks((ax41.get_yticks()*train_rth_df_.shape[0]/100).round(0).astype(int))\n",
    "ax41_.set_ylabel(ylabel='')\n",
    "\n",
    "ax42_ = ax42.twinx()\n",
    "ax42_.set_yticks((ax42.get_yticks()*val_rth_df_.shape[0]/100).round(0).astype(int))\n",
    "ax42_.set_ylabel(ylabel='')\n",
    "\n",
    "ax43_ = ax43.twinx()\n",
    "ax43_.set_yticks((ax43.get_yticks()*test_rth_df_.shape[0]/100).round(0).astype(int))\n",
    "ax43_.set_ylabel(ylabel='count')\n",
    "\n",
saiv1162_Featurization_Experiment_Days_Since_Last_RC:experiments/src/notebooks/Ndays_bed_change_distribution.ipynb
    "fig.tight_layout()\n",
    "plt.show()"
   ]
  },
  {
   "cell_type": "code",
   "execution_count": null,
   "id": "eb4dddb1",
   "metadata": {},
   "outputs": [],
   "source": [
    "fig.savefig('BC_distribution(200)v2.pdf')"
   ]
  },
  {
   "cell_type": "code",
   "execution_count": null,
saiv1162_Featurization_Experiment_Days_Since_Last_RC:experiments/src/notebooks/Ndays_bed_change_distribution.ipynb
   "metadata": {},
   "outputs": [],
   "source": []
  }
 ],
 "metadata": {
  "kernelspec": {
   "display_name": "Python 3 (ipykernel)",
   "language": "python",
   "name": "python3"
  },
  "language_info": {
   "codemirror_mode": {
    "name": "ipython",
    "version": 3
   },
   "file_extension": ".py",
   "mimetype": "text/x-python",
   "name": "python",
   "nbconvert_exporter": "python",
   "pygments_lexer": "ipython3",
   "version": "3.8.10"
  }
 },
 "nbformat": 4,
 "nbformat_minor": 5
}
