{
 "cells": [
  {
   "cell_type": "code",
   "execution_count": null,
   "id": "80c92f9c",
   "metadata": {},
   "outputs": [],
   "source": [
    "!pip install matplotlib seaborn"
   ]
  },
  {
   "cell_type": "code",
   "execution_count": null,
   "id": "598329c3",
   "metadata": {},
   "outputs": [],
   "source": [
    "import pandas as pd\n",
    "import numpy as np\n",
    "import gc\n",
    "import sys\n",
    "from pathlib import Path\n",
    "sys.path.insert(0, '/src')\n",
    "\n",
    "from utils.database import DbEngine\n",
    "from utils.load_data import DataLoader, PatientCensus\n",
    "from datetime import timedelta\n",
    "import timeit\n",
    "import matplotlib.pyplot as plt\n",
    "%matplotlib inline\n",
    "import seaborn as sns\n",
    "import random\n",
    "import plotly.express as px\n",
    "import plotly.figure_factory as ff\n",
    "\n",
    "from pylab import *\n",
    "from sklearn.cluster import KMeans\n",
    "from scipy.stats import gaussian_kde\n",
    "from sklearn.neighbors import KernelDensity\n",
    "\n",
    "pd.set_option('display.max_rows', None)\n",
    "pd.set_option('display.max_columns', None)\n",
    "pd.set_option('display.width', None)\n",
    "pd.set_option('display.max_colwidth', -1)"
   ]
  },
  {
   "cell_type": "code",
   "execution_count": null,
   "id": "696ae1a7",
   "metadata": {},
   "outputs": [],
   "source": [
    "import os\n",
    "\n",
    "CLIENT = 'trio'\n",
    "clientClass = get_client_class(client=CLIENT)\n",
    "START_DATE, END_DATE = '2021-01-01', '2021-05-18'\n",
    "\n",
    "print(CLIENT)\n",
    "print(os.environ.get('SAIVA_ENV','dev'))\n",
    "print(START_DATE, END_DATE)"
   ]
  },
  {
   "cell_type": "code",
   "execution_count": null,
   "id": "9e5dc574",
   "metadata": {},
   "outputs": [],
   "source": [
    "engine = DbEngine()\n",
    "saiva_engine = engine.get_postgresdb_engine()\n",
    "client_sql_engine = engine.get_sqldb_engine(clientdb_name=CLIENT)"
   ]
  },
  {
   "cell_type": "code",
   "execution_count": null,
   "id": "b24b7de2",
   "metadata": {},
   "outputs": [],
   "source": [
    "# verify connectivity\n",
    "engine.verify_connectivity(client_sql_engine)"
   ]
  },
  {
   "cell_type": "code",
   "execution_count": null,
   "id": "b7b3af74",
   "metadata": {},
   "outputs": [],
   "source": [
    "\n",
    "query=f\"\"\"\n",
    "        select fp.masterpatientid,ht.* from hospital_transfers ht\n",
    "        left join public.facility_patient fp\n",
    "                       on ht.client = fp.client\n",
    "                           and ht.facilityid = fp.facilityid\n",
    "                           and ht.patientid = fp.patientid\n",
    "            where ht.dateoftransfer between '{START_DATE}' and '{END_DATE}'\n",
    "            and ht.client='{CLIENT}'\n",
    "        \"\"\"\n",
    "\n",
    "transfer_df = pd.read_sql(query, con=saiva_engine)\n",
    "\n",
    "transfered_masterpatient_ids = tuple(transfer_df['masterpatientid'].unique())\n",
    "print(transfer_df.shape)\n",
    "print(f'Unique Masterpatients: {len(transfered_masterpatient_ids)}')\n",
    "transfer_df.head(2)"
   ]
  },
  {
   "cell_type": "code",
   "execution_count": null,
   "id": "af30c44b",
   "metadata": {},
   "outputs": [],
   "source": [
    "\"\"\"\n",
    "NON-TRANSFERED PATIENTS\n",
    "\"\"\"\n",
    "\n",
    "transfered_masterpatient_ids = tuple(transfer_df['masterpatientid'])\n",
    "\n",
    "query=f\"\"\"\n",
    "        select dc.censusdate,fp.* from view_ods_daily_census_v2 dc \n",
    "        JOIN view_ods_facility_patient fp \n",
    "        ON (fp.patientid = dc.patientid and fp.facilityid = dc.facilityid)\n",
    "            where dc.censusdate between '{START_DATE}' and '{END_DATE}'\n",
    "            and fp.masterpatientid not in {transfered_masterpatient_ids}\n",
    "        \"\"\"\n",
    "\n",
    "safe_df = pd.read_sql(query, con=client_sql_engine)\n",
    "\n",
    "safe_masterpatient_ids = tuple(safe_df['masterpatientid'].unique())\n",
    "print(f'Unique Masterpatients: {len(safe_masterpatient_ids)}')\n",
    "\n",
    "print(safe_df.shape)\n",
    "safe_df.head(2)"
   ]
  },
  {
   "cell_type": "markdown",
   "id": "8cada0fa",
   "metadata": {},
   "source": [
    "### ========================================================================"
   ]
  },
  {
   "cell_type": "code",
   "execution_count": null,
   "id": "6e587f7d",
   "metadata": {},
   "outputs": [],
   "source": [
    "query=f\"\"\"\n",
    "with rh as (\n",
    "    select ht.*,\n",
    "           fa.facilityname,\n",
    "           fp.masterpatientid,\n",
    "           dp.modelid,\n",
    "           mm.modeldescription,\n",
    "           dp.group_rank,\n",
    "           dp.show_in_report,\n",
    "           fp.patientmrn,\n",
    "           fp.firstname,\n",
    "           fp.lastname\n",
    "    from public.hospital_transfers ht\n",
    "             left join public.facility_patient fp\n",
    "                       on ht.client = fp.client\n",
    "                           and ht.facilityid = fp.facilityid\n",
    "                           and ht.patientid = fp.patientid\n",
    "             left join daily_predictions dp\n",
    "                       on ht.client = dp.client\n",
    "                           and ht.facilityid = dp.facilityid\n",
    "                           and (date(ht.dateoftransfer) - date(dp.censusdate)) <= 3\n",
    "                           and date(dp.censusdate) <= date(ht.dateoftransfer)\n",
    "                           and fp.masterpatientid = dp.masterpatientid\n",
    "             left join model_metadata mm\n",
    "                       on dp.modelid = mm.modelid\n",
    "             left join facility fa\n",
    "                       on fa.facilityid = ht.facilityid\n",
    "                           and fa.client = ht.client\n",
    "    where (dp.published = True or dp.published is null)\n",
    "      and ht.dateoftransfer >= '{START_DATE}'\n",
    "      and (dp.experiment_group = True or dp.experiment_group is null)\n",
    "      and (lower(ht.payerdescription) NOT LIKE '%%hospice%%' or ht.payerdescription is null)\n",
    "      and ht.client = '{CLIENT}'\n",
    ")\n",
    "SELECT \n",
    "       rh.facilityid,\n",
    "       rh.facilityname,\n",
    "       rh.dateoftransfer,\n",
    "       rh.masterpatientid,\n",
    "       rh.patientmrn,\n",
    "       rh.lengthofstay,      \n",
    "       rh.transferreason,\n",
    "       rh.otherreasonfortransfer,\n",
    "       rh.lastname,\n",
    "       rh.firstname,\n",
    "       rh.planned,\n",
    "       rh.modeldescription,\n",
    "       rh.outcome,\n",
    "       rh.patientid,\n",
    "       rh.transferredto,\n",
    "       rh.client,\n",
    "       rh.payertype,\n",
    "       rh.payerdescription,\n",
    "       min(group_rank) as best_exp_rank,        \n",
    "       bool_or(rh.show_in_report) as show_in_report,\n",
    "       -- count of how many predictions were made for that day (the number of rows that were grouped)\n",
    "       -- have to special case for when we made no predictions because there would be still be 1 row\n",
    "       (CASE\n",
    "            WHEN bool_or(rh.show_in_report) IS NULL\n",
    "                THEN 0\n",
    "            ELSE count(*)\n",
    "           END\n",
    "           ) as num_predictions \n",
    "FROM rh\n",
    "GROUP BY rh.client, rh.facilityid, rh.facilityname, rh.modelid, rh.modeldescription,\n",
    "         rh.patientid, rh.masterpatientid, rh.patientmrn, rh.lastname, rh.firstname, rh.dateoftransfer,\n",
    "         rh.planned, rh.transferreason, rh.otherreasonfortransfer, rh.outcome,\n",
    "         rh.transferredto, rh.lengthofstay, rh.payertype, rh.payerdescription\n",
    "        \"\"\"\n",
    "\n",
    "df = pd.read_sql(query, con=saiva_engine)\n",
    "df = df[~df['facilityname'].isna()]\n",
    "\n",
    "print(f'Unique Masterpatients: {len(df[\"masterpatientid\"].unique())}')\n",
    "print(df.shape)"
   ]
  },
  {
   "cell_type": "code",
   "execution_count": null,
   "id": "7dfe5ccf",
   "metadata": {},
   "outputs": [],
   "source": [
    "missed_df = df[df['num_predictions'] == 0]\n",
    "print(missed_df.shape)\n",
    "\n",
    "missed_masterpatientids = tuple(dict(missed_df['masterpatientid'].value_counts( normalize=False, sort=True, ascending=False, dropna=True)).keys())\n",
    "\n",
    "predicted_df = df[df['num_predictions'] > 0]\n",
    "print(predicted_df.shape)\n",
    "\n",
    "predicted_masterpatientids = tuple(dict(predicted_df['masterpatientid'].value_counts( normalize=False, sort=True, ascending=False, dropna=True)).keys())\n"
   ]
  },
  {
   "cell_type": "code",
   "execution_count": null,
   "id": "0516bc78",
   "metadata": {},
   "outputs": [],
   "source": [
    "missed_df['transferreason'].value_counts( normalize=False, sort=True, ascending=False, bins=None, dropna=True).nlargest(10)"
   ]
  },
  {
   "cell_type": "code",
   "execution_count": null,
   "id": "e7b5bfb6",
   "metadata": {},
   "outputs": [],
   "source": [
    "predicted_df['transferreason'].value_counts( normalize=False, sort=True, ascending=False, bins=None, dropna=True).nlargest(10)"
   ]
  },
  {
   "cell_type": "code",
   "execution_count": null,
   "id": "b62256d0",
   "metadata": {},
   "outputs": [],
   "source": [
    "missed_df['transferreason'].unique()"
   ]
  },
  {
   "cell_type": "code",
   "execution_count": null,
   "id": "33919ced",
   "metadata": {},
   "outputs": [],
   "source": [
    "predicted_df['transferreason'].unique()"
   ]
  },
  {
   "cell_type": "markdown",
   "id": "4c8de5d5",
   "metadata": {},
   "source": [
    "## ==========================================================="
   ]
  },
  {
   "cell_type": "code",
   "execution_count": null,
   "id": "61cf091b",
   "metadata": {},
   "outputs": [],
   "source": [
    "condition = (missed_df['dateoftransfer'] == '2021-04-07')\n",
    "\n",
    "_df = missed_df[condition].sort_values(by=['dateoftransfer'], ascending=False)\n",
    "missed_masterpatientids = tuple(_df['masterpatientid'])\n",
    "_df.head(5)"
   ]
  },
  {
   "cell_type": "code",
   "execution_count": null,
   "id": "228c73d6",
   "metadata": {},
   "outputs": [],
   "source": [
    "condition = (predicted_df['dateoftransfer'] == '2021-04-07') \n",
    "\n",
    "_df = predicted_df[condition].sort_values(by=['dateoftransfer'], ascending=False)\n",
    "predicted_masterpatientids = tuple(_df['masterpatientid'])\n",
    "_df.head(5)"
   ]
  },
  {
   "cell_type": "markdown",
   "id": "a1afbd8c",
   "metadata": {},
   "source": [
    "### ================================================================="
   ]
  },
  {
   "cell_type": "code",
   "execution_count": null,
   "id": "158fccf4",
   "metadata": {},
   "outputs": [],
   "source": [
    "tp_data = DataLoader(client_sql_engine=client_sql_engine, \n",
    "                     masterpatientid_list=transfered_masterpatient_ids)\n",
    "sf_data = DataLoader(client_sql_engine=client_sql_engine, \n",
    "                     masterpatientid_list=safe_masterpatient_ids)\n"
   ]
  },
  {
   "cell_type": "code",
   "execution_count": null,
   "id": "0c3079c2",
   "metadata": {},
   "outputs": [],
   "source": [
    "census_date = pd.to_datetime('2021-01-14')\n",
    "\n",
    "tp_data.demo_df['age'] = tp_data.demo_df['dateofbirth'].apply(\n",
    "    lambda born: census_date.year - born.year - ((census_date.month, census_date.day) < (born.month, born.day))\n",
    ")\n",
    "sf_data.demo_df['age'] = sf_data.demo_df['dateofbirth'].apply(\n",
    "    lambda born: census_date.year - born.year - ((census_date.month, census_date.day) < (born.month, born.day))\n",
    ")"
   ]
  },
  {
   "cell_type": "markdown",
   "id": "6c2d8414",
   "metadata": {},
   "source": [
    "## Safe / transfered people ratio from different states "
   ]
  },
  {
   "cell_type": "code",
   "execution_count": null,
   "id": "79fcfe71",
   "metadata": {},
   "outputs": [],
   "source": [
    "# tp_data.demo_df['state'].value_counts( normalize=False, sort=True, ascending=False, bins=None, dropna=True).plot(kind='barh')\n",
    "\n",
    "total_rows = tp_data.demo_df.shape[0]\n",
    "tp_data.demo_df.groupby('state')['state'].count().apply(lambda x: (x*100)/total_rows).plot(kind='barh')"
   ]
  },
  {
   "cell_type": "code",
   "execution_count": null,
   "id": "83fff924",
   "metadata": {},
   "outputs": [],
   "source": [
    "# sf_data.demo_df['state'].value_counts( normalize=False, sort=True, ascending=False, bins=None, dropna=True).plot(kind='barh')\n",
    "\n",
    "total_rows = sf_data.demo_df.shape[0]\n",
    "sf_data.demo_df.groupby('state')['state'].count().apply(lambda x: (x*100)/total_rows).plot(kind='barh')"
   ]
  },
  {
   "cell_type": "markdown",
   "id": "f1f950d3",
   "metadata": {},
   "source": [
    "## Avg age of patients facility wise"
   ]
  },
  {
   "cell_type": "code",
   "execution_count": null,
   "id": "50b59f23",
   "metadata": {},
   "outputs": [],
   "source": [
    "tp_data.demo_df.groupby('facilityid')['age'].mean().plot(kind='barh')"
   ]
  },
  {
   "cell_type": "code",
   "execution_count": null,
   "id": "04f8aa65",
   "metadata": {},
   "outputs": [],
   "source": [
    "sf_data.demo_df.groupby('facilityid')['age'].mean().plot(kind='barh',figsize=(10, 8))"
   ]
  },
  {
   "cell_type": "markdown",
   "id": "1f7e64ae",
   "metadata": {},
   "source": [
    "## Ratio of transfers state wise"
   ]
  },
  {
   "cell_type": "code",
   "execution_count": null,
   "id": "2dd1d31d",
   "metadata": {},
   "outputs": [],
   "source": [
    "# Dict of total tranfers state wise\n",
    "total_count = dict(tp_data.demo_df.groupby('state')['state'].count())\n",
    "\n",
    "# combine safe and transfered patients\n",
    "_df = pd.concat([tp_data.demo_df, sf_data.demo_df])\n",
    "\n",
    "# get ratio of transfered patients state wise\n",
    "_df.groupby('state').apply(lambda x: (100*total_count.get(x.name,0)) / x['state'].count()).plot(kind='barh')\n"
   ]
  },
  {
   "cell_type": "markdown",
   "id": "3048b01d",
   "metadata": {},
   "source": [
    "## % of alerts for safe & transfered patients"
   ]
  },
  {
   "cell_type": "code",
   "execution_count": null,
   "id": "0630d93c",
   "metadata": {},
   "outputs": [],
   "source": [
    "total_rows = sf_data.alt_df.shape[0]\n",
    "sf_data.alt_df['alertdescription'].value_counts( \n",
    "    normalize=False, \n",
    "    sort=True, \n",
    "    ascending=False, \n",
    "    bins=None, \n",
    "    dropna=True\n",
    "   ).nlargest(20).apply(lambda x: (x*100)/total_rows).plot(kind='barh')"
   ]
  },
  {
   "cell_type": "code",
   "execution_count": null,
   "id": "a1bd3611",
   "metadata": {},
   "outputs": [],
   "source": [
    "total_rows = tp_data.alt_df.shape[0]\n",
    "tp_data.alt_df['alertdescription'].value_counts( \n",
    "    normalize=False, \n",
    "    sort=True, \n",
    "    ascending=False, \n",
    "    bins=None, \n",
    "    dropna=True\n",
    "   ).nlargest(20).apply(lambda x: (x*100)/total_rows).plot(kind='barh')"
   ]
  },
  {
   "cell_type": "code",
   "execution_count": null,
   "id": "54924bb9",
   "metadata": {},
   "outputs": [],
   "source": [
    "total_rows = tp_data.dg_df.shape[0]\n",
    "print(total_rows)\n",
    "tp_data.dg_df['diagnosisdesc'].value_counts( \n",
    "    normalize=False, \n",
    "    sort=True, \n",
    "    ascending=False, \n",
    "    bins=None, \n",
    "    dropna=True\n",
    "   ).nlargest(20).apply(lambda x: (x*100)/total_rows).plot(kind='barh',figsize=(15, 10))\n"
   ]
  },
  {
   "cell_type": "code",
   "execution_count": null,
   "id": "c0595d29",
   "metadata": {},
   "outputs": [],
   "source": [
    "total_rows = sf_data.dg_df.shape[0]\n",
    "print(total_rows)\n",
    "sf_data.dg_df['diagnosisdesc'].value_counts( \n",
    "    normalize=False, \n",
    "    sort=True, \n",
    "    ascending=False, \n",
    "    bins=None, \n",
    "    dropna=True\n",
    "   ).nlargest(20).apply(lambda x: (x*100)/total_rows).plot(kind='barh',figsize=(15, 10))\n"
   ]
  },
  {
   "cell_type": "markdown",
   "id": "9c2947b9",
   "metadata": {},
   "source": [
    "## =================Compare data for a specific date =================="
   ]
  },
  {
   "cell_type": "code",
   "execution_count": null,
   "id": "5c30f234",
   "metadata": {},
   "outputs": [],
   "source": [
    "census_date = '2021-01-14'\n",
    "sample_size = 25\n",
    "month_back_date = pd.to_datetime(census_date) - timedelta(days=30)\n",
    "fortnight_back_date = pd.to_datetime(census_date) - timedelta(days=15)\n",
    "week_back_date = pd.to_datetime(census_date) - timedelta(days=7)\n",
    "day3_back_date = pd.to_datetime(census_date) - timedelta(days=3)\n",
    "\n",
    "_df = transfer_df[transfer_df['dateoftransfer'] == census_date].sort_values(by=['dateoftransfer'], ascending=False)\n",
    "_transfered_masterpatient_ids = tuple(_df['masterpatientid'].unique())\n",
    "print(f'Unique Masterpatients in Transfer patients: {len(_transfered_masterpatient_ids)}')\n",
    "\n",
    "_df = safe_df[safe_df['censusdate'] == census_date].sort_values(by=['censusdate'], ascending=False)\n",
    "_safe_masterpatient_ids = tuple(_df['masterpatientid'].unique())\n",
    "_safe_masterpatient_ids = random.sample(_safe_masterpatient_ids, sample_size)\n",
    "print(f'Unique Masterpatients in Safe patients: {len(_safe_masterpatient_ids)}')\n"
   ]
  },
  {
   "cell_type": "code",
   "execution_count": null,
   "id": "8366cab6",
   "metadata": {},
   "outputs": [],
   "source": [
    "tp_data = DataLoader(masterpatientid_list=_transfered_masterpatient_ids, census_date=census_date)\n",
    "sf_data = DataLoader(masterpatientid_list=_safe_masterpatient_ids, census_date=census_date)"
   ]
  },
  {
   "cell_type": "code",
   "execution_count": null,
   "id": "49b48838",
   "metadata": {},
   "outputs": [],
   "source": [
    "# Count of diagnosis per patient for last 1 week for a given date\n",
    "\n",
    "condition = sf_data.dg_df['onsetdate'] > week_back_date\n",
    "\n",
    "# sf_data.dg_df[condition].groupby(['masterpatientid'])['diagnosisdesc'].count().plot(kind='bar',figsize=(10, 6))\n",
    "    \n",
    "sf_data.dg_df[condition].groupby(['masterpatientid','diagnosisdesc'])['diagnosisdesc'].count().plot(kind='barh',figsize=(15,15))    \n"
   ]
  },
  {
   "cell_type": "code",
   "execution_count": null,
   "id": "def55735",
   "metadata": {},
   "outputs": [],
   "source": [
    "# Count of diagnosis per patient for last 1 week before the transfered date\n",
    "\n",
    "condition = tp_data.dg_df['onsetdate'] > week_back_date\n",
    "\n",
    "# sf_data.dg_df[condition].groupby(['masterpatientid'])['diagnosisdesc'].count().plot(kind='bar',figsize=(10, 6))\n",
    "    \n",
    "tp_data.dg_df[condition].groupby(['masterpatientid','diagnosisdesc'])['diagnosisdesc'].count().plot(kind='barh',figsize=(15,15))    \n"
   ]
  },
  {
   "cell_type": "code",
   "execution_count": null,
   "id": "1017b143",
   "metadata": {},
   "outputs": [],
   "source": [
    "# Count of alerts per patient for last 1 week before transfer\n",
    "\n",
    "condition = tp_data.alt_df['createddate'] > day3_back_date\n",
    "\n",
    "tp_data.alt_df[condition].groupby(['masterpatientid'])['alertdescription'].count().plot(kind='bar',figsize=(10, 6))\n",
    "    "
   ]
  },
  {
   "cell_type": "code",
   "execution_count": null,
   "id": "b347fd1d",
   "metadata": {},
   "outputs": [],
   "source": [
    "# Count of alerts per patient for last 1 week before transfer\n",
    "\n",
    "condition = sf_data.alt_df['createddate'] > day3_back_date\n",
    "\n",
    "sf_data.alt_df[condition].groupby(['masterpatientid'])['alertdescription'].count().plot(kind='bar',figsize=(15, 15))\n",
    "    "
   ]
  },
  {
   "cell_type": "code",
   "execution_count": null,
   "id": "4d06da8a",
   "metadata": {},
   "outputs": [],
   "source": [
    "# Last one week alerts for all safe patients for a given day\n",
    "\n",
    "condition = sf_data.alt_df['createddate'] > week_back_date\n",
    "\n",
    "sf_data.alt_df[condition]['alertdescription'].value_counts( \n",
    "    normalize=False, \n",
    "    sort=True, \n",
    "    ascending=False, \n",
    "    bins=None, \n",
    "    dropna=True\n",
    "   ).nlargest(20).plot(kind='barh',figsize=(15, 15))\n"
   ]
  },
  {
   "cell_type": "code",
   "execution_count": null,
   "id": "6e86d4df",
   "metadata": {},
   "outputs": [],
   "source": [
    "# Last one week alerts for all transfered patients for a given day\n",
    "\n",
    "condition = tp_data.alt_df['createddate'] > week_back_date\n",
    "\n",
    "tp_data.alt_df[condition]['alertdescription'].value_counts( \n",
    "    normalize=False, \n",
    "    sort=True, \n",
    "    ascending=False, \n",
    "    bins=None, \n",
    "    dropna=True\n",
    "   ).nlargest(20).plot(kind='barh',figsize=(15, 15))\n"
   ]
  },
  {
   "cell_type": "code",
   "execution_count": null,
   "id": "cfd42097",
   "metadata": {},
   "outputs": [],
   "source": [
    "# Count of order per patient for last 1 week before transfer\n",
    "\n",
    "condition = tp_data.ord_df['orderdate'] > day3_back_date\n",
    "\n",
    "tp_data.ord_df[condition].groupby(['masterpatientid','orderdescription'])['orderdescription'].count().plot(kind='barh',figsize=(15, 10))\n"
   ]
  },
  {
   "cell_type": "code",
   "execution_count": null,
   "id": "57607ccf",
   "metadata": {},
   "outputs": [],
   "source": [
    "# Count of order per patient for last 1 week before transfer\n",
    "\n",
    "condition = sf_data.ord_df['orderdate'] > day3_back_date\n",
    "\n",
    "sf_data.ord_df[condition].groupby(['masterpatientid','orderdescription'])['orderdescription'].count().plot(kind='barh',figsize=(15, 10))\n"
   ]
  },
  {
   "cell_type": "code",
   "execution_count": null,
   "id": "4a06d10c",
   "metadata": {},
   "outputs": [],
   "source": [
    "# Count of alerts per patient for last 1 week before transfer\n",
    "\n",
    "condition = tp_data.vital_df['date'] > day3_back_date\n",
    "\n",
    "tp_data.vital_df[condition].groupby(['masterpatientid','vitalsdescription'])['value'].mean().plot(kind='barh',figsize=(15,15))\n",
    "    \n",
    "    "
   ]
  },
  {
   "cell_type": "code",
   "execution_count": null,
   "id": "bc5806ea",
   "metadata": {},
   "outputs": [],
   "source": [
    "_df = transfer_df[transfer_df['dateoftransfer'] == census_date].sort_values(by=['dateoftransfer'], ascending=False)\n",
    "\n",
    "_df.head(20)"
   ]
  },
  {
   "cell_type": "code",
   "execution_count": null,
   "id": "a6da1846",
   "metadata": {},
   "outputs": [],
   "source": []
  }
 ],
 "metadata": {
  "kernelspec": {
   "display_name": "Python 3",
   "language": "python",
   "name": "python3"
  },
  "language_info": {
   "codemirror_mode": {
    "name": "ipython",
    "version": 3
   },
   "file_extension": ".py",
   "mimetype": "text/x-python",
   "name": "python",
   "nbconvert_exporter": "python",
   "pygments_lexer": "ipython3",
   "version": "3.8.5"
  }
 },
 "nbformat": 4,
 "nbformat_minor": 5
}
