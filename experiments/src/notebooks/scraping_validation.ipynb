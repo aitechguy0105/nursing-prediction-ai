{
 "cells": [
  {
   "cell_type": "code",
   "execution_count": 1,
   "id": "9d20de53",
   "metadata": {},
   "outputs": [],
   "source": [
    "import sys\n",
    "import os\n",
    "import pandas as pd\n",
    "sys.path.insert(0, '/src')\n",
    "from eliot import to_file\n",
    "\n",
    "import json\n",
    "\n",
    "import boto3\n",
    "from eliot import log_message\n",
    "from sqlalchemy import create_engine\n",
    "from sqlalchemy.engine.url import URL\n",
    "\n",
    "import numpy as np\n",
    "from s3fs import S3FileSystem\n",
    "to_file(sys.stdout)\n",
    "\n",
    "S3FS = S3FileSystem()"
   ]
  },
  {
   "cell_type": "code",
   "execution_count": 2,
   "id": "a3dc8be9",
   "metadata": {},
   "outputs": [],
   "source": [
    "\n",
    "pd.set_option('display.max_rows', None)\n",
    "pd.set_option('display.max_columns', None)\n",
    "pd.set_option('display.width', None)\n",
    "pd.set_option('display.max_colwidth', -1)\n"
   ]
  },
  {
   "cell_type": "code",
   "execution_count": 3,
   "id": "ef44ff3d",
   "metadata": {},
   "outputs": [
    {
     "name": "stdout",
     "output_type": "stream",
     "text": [
      "trio\n",
      "dev\n",
      "2021-01-15 2021-10-15\n",
      "(1, 3, 4, 5, 7, 13, 16, 19, 20, 21, 23, 26, 29, 31, 32, 33, 36)\n"
     ]
    }
   ],
   "source": [
    "\n",
    "CLIENT = 'trio'\n",
    "TRAIN_START_DATE = '2021-01-15'\n",
    "TEST_END_DATE = '2021-10-15'\n",
    "FACILITYIDS = (1, 3, 4, 5, 7, 13, 16, 19, 20, 21, 23, 26, 29, 31, 32, 33, 36)\n",
    "ENABLE_ALL_FACILITIES = \"true\"\n",
    "env = os.environ.get('SAIVA_ENV','dev')\n",
    "date_range = f'{TRAIN_START_DATE} to {TEST_END_DATE}'\n",
    "\n",
    "print(CLIENT)\n",
    "print(env)\n",
    "print(TRAIN_START_DATE, TEST_END_DATE)\n",
    "print(FACILITYIDS)"
   ]
  },
  {
   "cell_type": "code",
   "execution_count": 4,
   "id": "d95eea2d",
   "metadata": {},
   "outputs": [],
   "source": [
    "class DbEngine(object):\n",
    "    \"\"\"\n",
    "    Fetch the credentials from AWS Secrets Manager.\n",
    "    :return: DB connection to the respective database\n",
    "    \"\"\"\n",
    "\n",
    "    def __init__(self, region_name='us-east-1'):\n",
    "        self.session = boto3.session.Session()\n",
    "        self.secrets_client = self.session.client(\n",
    "            service_name='secretsmanager',\n",
    "            region_name=region_name\n",
    "        )\n",
    "\n",
    "    def get_secrets(self, secret_name):\n",
    "        \"\"\"\n",
    "        :return: Based on the environment get secrets for\n",
    "        Client SQL db & Postgres Saivadb\n",
    "        \"\"\"\n",
    "        log_message(message_type='info', action_type='get_secrets', secret_name=secret_name)\n",
    "        db_info = json.loads(\n",
    "            self.secrets_client.get_secret_value(SecretId=secret_name)[\n",
    "                'SecretString'\n",
    "            ]\n",
    "        )\n",
    "        return db_info\n",
    "\n",
    "    def get_postgresdb_engine(self):\n",
    "        \"\"\"\n",
    "        Based on the environment connects to the respective database\n",
    "        :param client: client name\n",
    "        :return: Saivadb Postgres engine\n",
    "        \"\"\"\n",
    "        log_message(message_type='info', action_type='connect_to_postgresdb', client='SaivaDB')\n",
    "        # Fetch credentials from AWS Secrets Manager\n",
    "        postgresdb_info = self.get_secrets(secret_name=f'{env}-saivadb')\n",
    "        # Create DB URL\n",
    "        saivadb_url = URL(\n",
    "            drivername='postgresql',\n",
    "            username=postgresdb_info['username'],\n",
    "            password=postgresdb_info['password'],\n",
    "            host=postgresdb_info['host'],\n",
    "            port=postgresdb_info['port'],\n",
    "            database=postgresdb_info['dbname'],\n",
    "        )\n",
    "        # Return Postgres Engine\n",
    "        return create_engine(saivadb_url, echo=False)\n",
    "    \n",
    "    def get_sqldb_engine(self, clientdb_name):\n",
    "        \"\"\"\n",
    "        Based on the environment connects to the respective database.\n",
    "        Avante db is in client VPN hence we use different credentials.\n",
    "        :param client: client name\n",
    "        :return: Client SQL engine\n",
    "        \"\"\"\n",
    "        log_message(message_type='info', action_type='connect_to_sqldb', client=clientdb_name)\n",
    "        # Fetch credentials from AWS Secrets Manager\n",
    "        if clientdb_name == 'avante':\n",
    "            sqldb_info = self.get_secrets(secret_name=f'avantedb')\n",
    "        else:\n",
    "            sqldb_info = self.get_secrets(secret_name=f'{env}-sqlserver')\n",
    "            sqldb_info['dbname'] = clientdb_name\n",
    "\n",
    "        # Create DB URL\n",
    "        client_sqldb_url = URL(\n",
    "            drivername='mssql+pyodbc',\n",
    "            username=sqldb_info['username'],\n",
    "            password=sqldb_info['password'],\n",
    "            host=sqldb_info['host'],\n",
    "            port=sqldb_info['port'],\n",
    "            database=sqldb_info['dbname'],\n",
    "            query={'driver': 'ODBC Driver 17 for SQL Server'},\n",
    "        )\n",
    "        # Return Sql Engine\n",
    "        return create_engine(client_sqldb_url, echo=False)\n",
    "    \n",
    "    def verify_connectivity(self, engine):\n",
    "        assert engine.execute('select 1').fetchall() is not None  # verify connectivity\n",
    "\n"
   ]
  },
  {
   "cell_type": "code",
   "execution_count": 5,
   "id": "ae06ae77",
   "metadata": {},
   "outputs": [
    {
     "name": "stdout",
     "output_type": "stream",
     "text": [
      "{\"action_type\": \"connect_to_postgresdb\", \"client\": \"SaivaDB\", \"timestamp\": 1647313227.5807683, \"task_uuid\": \"9ab4a311-5dee-434d-899f-aeb1f34004c7\", \"task_level\": [1], \"message_type\": \"info\"}\n",
      "{\"action_type\": \"get_secrets\", \"secret_name\": \"dev-saivadb\", \"timestamp\": 1647313227.581505, \"task_uuid\": \"460fe05f-d65d-4b70-9c0e-b3f6cff2fea5\", \"task_level\": [1], \"message_type\": \"info\"}\n",
      "{\"action_type\": \"connect_to_sqldb\", \"client\": \"avante\", \"timestamp\": 1647313227.7864904, \"task_uuid\": \"aee25189-0a48-4e16-bacf-3adf7bdf3e62\", \"task_level\": [1], \"message_type\": \"info\"}\n",
      "{\"action_type\": \"get_secrets\", \"secret_name\": \"avantedb\", \"timestamp\": 1647313227.7871437, \"task_uuid\": \"c3fa1e87-3fd5-4e65-b0dd-93550241d494\", \"task_level\": [1], \"message_type\": \"info\"}\n",
      "{\"action_type\": \"connect_to_sqldb\", \"client\": \"avante_scrape\", \"timestamp\": 1647313227.856264, \"task_uuid\": \"461ecfe3-57b0-4e56-8ec1-6bb383aafc59\", \"task_level\": [1], \"message_type\": \"info\"}\n",
      "{\"action_type\": \"get_secrets\", \"secret_name\": \"dev-sqlserver\", \"timestamp\": 1647313227.856922, \"task_uuid\": \"e91dd7a1-5f68-4484-8b47-93c732ca477e\", \"task_level\": [1], \"message_type\": \"info\"}\n"
     ]
    }
   ],
   "source": [
    "engine = DbEngine()\n",
    "saiva_engine = engine.get_postgresdb_engine()\n",
    "pcc_db_engine = engine.get_sqldb_engine(clientdb_name='avante')\n",
    "scrape_db_engine = engine.get_sqldb_engine(clientdb_name='avante_scrape')"
   ]
  },
  {
   "cell_type": "code",
   "execution_count": null,
   "id": "9713407e",
   "metadata": {},
   "outputs": [],
   "source": [
    "query = f\"\"\"select clientid as patientid\n",
    "                        from view_ods_daily_census_v2 where censusdate = '2022-02-24'\n",
    "                        and facilityid = 21                   \n",
    "\"\"\"\n",
    "df1 = pd.read_sql(query, con=pcc_db_engine)\n",
    "df1.shape"
   ]
  },
  {
   "cell_type": "code",
   "execution_count": null,
   "id": "7b77472a",
   "metadata": {},
   "outputs": [],
   "source": [
    "df2 = pd.read_sql(query, con=scrape_db_engine)\n",
    "df2.shape"
   ]
  },
  {
   "cell_type": "code",
   "execution_count": null,
   "id": "163c3267",
   "metadata": {},
   "outputs": [],
   "source": [
    "df = pd.merge(df1, df2, how='inner', on=['patientid'])\n",
    "patientids = tuple(df['patientid'].tolist())"
   ]
  },
  {
   "cell_type": "code",
   "execution_count": 9,
   "id": "9c36625d",
   "metadata": {},
   "outputs": [
    {
     "data": {
      "text/html": [
       "<div>\n",
       "<style scoped>\n",
       "    .dataframe tbody tr th:only-of-type {\n",
       "        vertical-align: middle;\n",
       "    }\n",
       "\n",
       "    .dataframe tbody tr th {\n",
       "        vertical-align: top;\n",
       "    }\n",
       "\n",
       "    .dataframe thead th {\n",
       "        text-align: right;\n",
       "    }\n",
       "</style>\n",
       "<table border=\"1\" class=\"dataframe\">\n",
       "  <thead>\n",
       "    <tr style=\"text-align: right;\">\n",
       "      <th></th>\n",
       "      <th>patientid</th>\n",
       "    </tr>\n",
       "  </thead>\n",
       "  <tbody>\n",
       "    <tr>\n",
       "      <th>38</th>\n",
       "      <td>4406446</td>\n",
       "    </tr>\n",
       "    <tr>\n",
       "      <th>73</th>\n",
       "      <td>4405564</td>\n",
       "    </tr>\n",
       "    <tr>\n",
       "      <th>14</th>\n",
       "      <td>1894244</td>\n",
       "    </tr>\n",
       "    <tr>\n",
       "      <th>31</th>\n",
       "      <td>3958121</td>\n",
       "    </tr>\n",
       "    <tr>\n",
       "      <th>98</th>\n",
       "      <td>388833</td>\n",
       "    </tr>\n",
       "  </tbody>\n",
       "</table>\n",
       "</div>"
      ],
      "text/plain": [
       "    patientid\n",
       "38  4406446  \n",
       "73  4405564  \n",
       "14  1894244  \n",
       "31  3958121  \n",
       "98  388833   "
      ]
     },
     "execution_count": 9,
     "metadata": {},
     "output_type": "execute_result"
    }
   ],
   "source": [
    "pd.concat([df1,df2]).drop_duplicates(keep=False)"
   ]
  },
  {
   "cell_type": "markdown",
   "id": "01b3abb4",
   "metadata": {},
   "source": [
    "### Compare Admissions"
   ]
  },
  {
   "cell_type": "code",
   "execution_count": null,
   "id": "2f6ba696",
   "metadata": {},
   "outputs": [],
   "source": [
    "query = f\"\"\"SELECT PatientId, DateOfAdmission from view_ods_hospital_transfers_admission_log \n",
    "where DateOfAdmission BETWEEN '2021-01-01' and '2022-02-14' and FacilityID=21\n",
    "\"\"\"\n",
    "df1 = pd.read_sql(query, con=pcc_db_engine)\n",
    "df1.shape"
   ]
  },
  {
   "cell_type": "code",
   "execution_count": null,
   "id": "879be33b",
   "metadata": {},
   "outputs": [],
   "source": [
    "df2 = pd.read_sql(query, con=scrape_db_engine)\n",
    "df2.shape"
   ]
  },
  {
   "cell_type": "code",
   "execution_count": null,
   "id": "178e7b61",
   "metadata": {},
   "outputs": [],
   "source": [
    "pd.concat([df1,df2]).drop_duplicates(keep=False)"
   ]
  },
  {
   "cell_type": "markdown",
   "id": "b9c4ae8b",
   "metadata": {},
   "source": [
    "### Compare Transfers"
   ]
  },
  {
   "cell_type": "code",
   "execution_count": null,
   "id": "93aa17b1",
   "metadata": {},
   "outputs": [],
   "source": [
    "query = f\"\"\"SELECT PatientId, DateOfTransfer from view_ods_hospital_transfers_transfer_log_v2 \n",
    "where DateOfTransfer BETWEEN '2021-01-01' and '2022-02-14' and FacilityID=21\n",
    "\"\"\"\n",
    "df1 = pd.read_sql(query, con=pcc_db_engine)\n",
    "df1.shape"
   ]
  },
  {
   "cell_type": "code",
   "execution_count": null,
   "id": "6b7c2f4c",
   "metadata": {},
   "outputs": [],
   "source": [
    "df2 = pd.read_sql(query, con=scrape_db_engine)\n",
    "df2.shape"
   ]
  },
  {
   "cell_type": "code",
   "execution_count": null,
   "id": "f0f070cd",
   "metadata": {},
   "outputs": [],
   "source": [
    "pd.concat([df1,df2]).drop_duplicates(keep=False)"
   ]
  },
  {
   "cell_type": "markdown",
   "id": "b55e53d5",
   "metadata": {},
   "source": [
    "### Compare Diagnoses"
   ]
  },
  {
   "cell_type": "code",
   "execution_count": null,
   "id": "788db4d8",
   "metadata": {},
   "outputs": [],
   "source": [
    "query = f\"\"\"\n",
    "select  onsetdate, diagnosiscode,resolveddate, patientid\n",
    "                        from view_ods_patient_diagnosis where patientid in {patientids}\n",
    "                        and (StruckOut is NULL or StruckOut = 'N') \n",
    "                        and (Deleted is NULL or Deleted = 'N')\n",
    "\t\t\t\t\t\tand OnSetDate between '2021-01-01' and '2022-02-14'\n",
    "                        order by diagnosiscode desc\"\"\"\n",
    "df1 = pd.read_sql(query, con=pcc_db_engine)\n",
    "df1.shape"
   ]
  },
  {
   "cell_type": "code",
   "execution_count": null,
   "id": "77ad155c",
   "metadata": {},
   "outputs": [],
   "source": [
    "df2 = pd.read_sql(query, con=scrape_db_engine)\n",
    "df2.shape"
   ]
  },
  {
   "cell_type": "code",
   "execution_count": null,
   "id": "d9ccc72b",
   "metadata": {},
   "outputs": [],
   "source": [
    "sym_diff = pd.concat([df1,df2]).drop_duplicates(keep=False)\n",
    "print(sym_diff.sort_values(ascending=False, by=['patientid', 'onsetdate']))\n",
    "print('==============================')\n",
    "print(sym_diff.shape)"
   ]
  },
  {
   "cell_type": "markdown",
   "id": "88d72f88",
   "metadata": {},
   "source": [
    "### Compare Vitals"
   ]
  },
  {
   "cell_type": "code",
   "execution_count": null,
   "id": "d526c328",
   "metadata": {},
   "outputs": [],
   "source": [
    "query = f\"\"\"\n",
    "select cast(date As Date), vitalsdescription, value, diastolicvalue, clientid\n",
    "                            from view_ods_Patient_weights_vitals\n",
    "                            where clientid IN {patientids}\n",
    "                            and date between '2021-01-01' and '2022-02-14'\n",
    "                            order by date, vitalsdescription\n",
    "\"\"\"\n",
    "df1 = pd.read_sql(query, con=pcc_db_engine)\n",
    "df1.drop_duplicates(inplace=True)\n",
    "df1.shape"
   ]
  },
  {
   "cell_type": "code",
   "execution_count": null,
   "id": "a3e283ca",
   "metadata": {},
   "outputs": [],
   "source": [
    "df2 = pd.read_sql(query, con=scrape_db_engine)\n",
    "df2.drop_duplicates(inplace=True)\n",
    "df2.shape"
   ]
  },
  {
   "cell_type": "code",
   "execution_count": null,
   "id": "36a28e71",
   "metadata": {},
   "outputs": [],
   "source": [
    "sym_diff = pd.concat([df1,df2]).drop_duplicates(keep=False)\n",
    "print(sym_diff.shape)\n",
    "print('==============================')\n",
    "print(sym_diff.groupby(['clientid']).size().sort_values(ascending=False))"
   ]
  },
  {
   "cell_type": "markdown",
   "id": "bde07391",
   "metadata": {},
   "source": [
    "### Compare lab_results"
   ]
  },
  {
   "cell_type": "code",
   "execution_count": null,
   "id": "ecd3aee0",
   "metadata": {},
   "outputs": [],
   "source": [
    "query = f\"\"\"\n",
    "with latest_labs as (\n",
    "select c.patientid, c.FacilityID, b.MasterLabReportID, a.ProfileDescription, max(b.VersionNumber) as VersionNumber\n",
    "\t\t\t\t\t\tfrom view_ods_result_lab_report_detail a\n",
    "                        left join view_ods_result_lab_report b on a.LabReportID = b.LabReportID\n",
    "                        left join view_ods_result_order_source c on b.ResultOrderSourceID = c.ResultOrderSourceID\n",
    "                        WHERE a.resultdate BETWEEN '2021-01-01' and '2022-02-14' \n",
    "                        and c.patientid IN {patientids} and c.FacilityID = 21\n",
    "\t\t\t\t\t\tgroup by c.patientid, c.FacilityID,  b.MasterLabReportID, a.profiledescription\n",
    ")\n",
    "select distinct c.patientid , c.ResultOrderSourceID as ResultOrderSourceID, a.ProfileDescription,\n",
    "                        a.result\n",
    "\t\t\t\t\t\tfrom view_ods_result_lab_report_detail a\n",
    "                        left join view_ods_result_lab_report b on a.LabReportID = b.LabReportID\n",
    "                        left join view_ods_result_order_source c on b.ResultOrderSourceID = c.ResultOrderSourceID\n",
    "\t\t\t\t\t\tinner join latest_labs ll \n",
    "\t\t\t\t\t\ton b.MasterLabReportID = ll.MasterLabReportID\n",
    "\t\t\t\t\t\tand c.PatientID = ll.PatientID\n",
    "\t\t\t\t\t\tand c.FacilityID = ll.FacilityID\n",
    "\t\t\t\t\t\tand a.ProfileDescription = ll.ProfileDescription\n",
    "\t\t\t\t\t\tand b.VersionNumber = ll.VersionNumber\n",
    "                \n",
    "                        WHERE a.resultdate BETWEEN '2021-01-01' and '2022-02-14' \n",
    "                        AND c.facilityid =21\n",
    "\t\t\t\t\t\tand c.patientid IN {patientids} order by c.patientid, c.ResultOrderSourceID\n",
    "\"\"\"\n",
    "df1 = pd.read_sql(query, con=pcc_db_engine)\n",
    "df1.drop_duplicates(inplace=True)\n",
    "df1.shape"
   ]
  },
  {
   "cell_type": "code",
   "execution_count": null,
   "id": "6c95b22a",
   "metadata": {},
   "outputs": [],
   "source": [
    "query2 = f\"\"\"\n",
    "select distinct b.patientid , b.ResultOrderSourceId as ResultOrderSourceID, b.ProfileDescription, \n",
    "                        b.result\n",
    "                        from view_ods_result_lab_report b \n",
    "                        WHERE b.ReportedDate BETWEEN '2021-01-01' and '2022-02-14' \n",
    "                        AND b.facilityid =21\n",
    "\t\t\t\t\t\tand b.patientid IN {patientids}\n",
    "                        order by b.patientid, b.ResultOrderSourceId\n",
    "\"\"\"\n",
    "df2 = pd.read_sql(query2, con=scrape_db_engine)\n",
    "df2.drop_duplicates(inplace=True)\n",
    "df2.shape"
   ]
  },
  {
   "cell_type": "code",
   "execution_count": null,
   "id": "6483e6ea",
   "metadata": {},
   "outputs": [],
   "source": [
    "sym_diff = pd.concat([df1,df2]).drop_duplicates(keep=False)\n",
    "print(sym_diff.shape)\n",
    "print(sym_diff.groupby(['patientid']).size().sort_values(ascending=False))"
   ]
  },
  {
   "cell_type": "markdown",
   "id": "042d0d0d",
   "metadata": {},
   "source": [
    "### Compare orders"
   ]
  },
  {
   "cell_type": "code",
   "execution_count": 18,
   "id": "7e062902",
   "metadata": {},
   "outputs": [
    {
     "data": {
      "text/plain": [
       "(2032, 3)"
      ]
     },
     "execution_count": 18,
     "metadata": {},
     "output_type": "execute_result"
    }
   ],
   "source": [
    "query = f\"\"\"\n",
    "select distinct patientid, PhysicianOrderID, cast(orderdate as date)\n",
    "                        from view_ods_physician_order_list_v2\n",
    "                        where patientid in {patientids}\n",
    "                        and ordercategory in ('Diagnostic', 'Enteral - Feeding', 'Dietary - Diet', 'Dietary - Supplements','Laboratory')\n",
    "                        and orderdate BETWEEN '2021-01-18' and '2022-02-14'\n",
    "                        order by patientid, PhysicianOrderID\n",
    "\"\"\"\n",
    "df1 = pd.read_sql(query, con=pcc_db_engine)\n",
    "df1.drop_duplicates(inplace=True)\n",
    "df1.shape"
   ]
  },
  {
   "cell_type": "code",
   "execution_count": 19,
   "id": "7a9326cf",
   "metadata": {},
   "outputs": [
    {
     "data": {
      "text/plain": [
       "(2025, 3)"
      ]
     },
     "execution_count": 19,
     "metadata": {},
     "output_type": "execute_result"
    }
   ],
   "source": [
    "df2 = pd.read_sql(query, con=scrape_db_engine)\n",
    "df2.drop_duplicates(inplace=True)\n",
    "df2.shape"
   ]
  },
  {
   "cell_type": "code",
   "execution_count": 20,
   "id": "2045d0cd",
   "metadata": {},
   "outputs": [
    {
     "name": "stdout",
     "output_type": "stream",
     "text": [
      "(63, 3)\n",
      "patientid\n",
      "365093     6\n",
      "1151885    6\n",
      "4193968    5\n",
      "1026758    4\n",
      "4231437    4\n",
      "4225640    4\n",
      "3227256    4\n",
      "4264745    3\n",
      "4060852    3\n",
      "4349529    3\n",
      "3076407    2\n",
      "520036     2\n",
      "547386     2\n",
      "727292     2\n",
      "208929     2\n",
      "1097672    2\n",
      "1201988    2\n",
      "1411594    2\n",
      "3704806    2\n",
      "4157630    2\n",
      "4352007    1\n",
      "dtype: int64\n"
     ]
    }
   ],
   "source": [
    "\n",
    "sym_diff = pd.concat([df1,df2]).drop_duplicates(keep=False)\n",
    "print(sym_diff.shape)\n",
    "print(sym_diff.groupby(['patientid']).size().sort_values(ascending=False))"
   ]
  },
  {
   "cell_type": "code",
   "execution_count": 17,
   "id": "f370c1ee",
   "metadata": {},
   "outputs": [
    {
     "data": {
      "text/html": [
       "<div>\n",
       "<style scoped>\n",
       "    .dataframe tbody tr th:only-of-type {\n",
       "        vertical-align: middle;\n",
       "    }\n",
       "\n",
       "    .dataframe tbody tr th {\n",
       "        vertical-align: top;\n",
       "    }\n",
       "\n",
       "    .dataframe thead th {\n",
       "        text-align: right;\n",
       "    }\n",
       "</style>\n",
       "<table border=\"1\" class=\"dataframe\">\n",
       "  <thead>\n",
       "    <tr style=\"text-align: right;\">\n",
       "      <th></th>\n",
       "      <th>patientid</th>\n",
       "      <th>PhysicianOrderID</th>\n",
       "      <th></th>\n",
       "    </tr>\n",
       "  </thead>\n",
       "  <tbody>\n",
       "    <tr>\n",
       "      <th>152</th>\n",
       "      <td>316763</td>\n",
       "      <td>7546512</td>\n",
       "      <td>2021-01-05</td>\n",
       "    </tr>\n",
       "    <tr>\n",
       "      <th>153</th>\n",
       "      <td>316763</td>\n",
       "      <td>7546587</td>\n",
       "      <td>2021-01-06</td>\n",
       "    </tr>\n",
       "    <tr>\n",
       "      <th>154</th>\n",
       "      <td>316763</td>\n",
       "      <td>7548141</td>\n",
       "      <td>2021-01-06</td>\n",
       "    </tr>\n",
       "    <tr>\n",
       "      <th>155</th>\n",
       "      <td>316763</td>\n",
       "      <td>7548200</td>\n",
       "      <td>2021-01-06</td>\n",
       "    </tr>\n",
       "    <tr>\n",
       "      <th>156</th>\n",
       "      <td>316763</td>\n",
       "      <td>7548263</td>\n",
       "      <td>2021-01-06</td>\n",
       "    </tr>\n",
       "    <tr>\n",
       "      <th>157</th>\n",
       "      <td>316763</td>\n",
       "      <td>7548273</td>\n",
       "      <td>2021-01-06</td>\n",
       "    </tr>\n",
       "    <tr>\n",
       "      <th>158</th>\n",
       "      <td>316763</td>\n",
       "      <td>7552908</td>\n",
       "      <td>2021-01-07</td>\n",
       "    </tr>\n",
       "    <tr>\n",
       "      <th>159</th>\n",
       "      <td>316763</td>\n",
       "      <td>7552967</td>\n",
       "      <td>2021-01-07</td>\n",
       "    </tr>\n",
       "    <tr>\n",
       "      <th>160</th>\n",
       "      <td>316763</td>\n",
       "      <td>7553075</td>\n",
       "      <td>2021-01-07</td>\n",
       "    </tr>\n",
       "    <tr>\n",
       "      <th>161</th>\n",
       "      <td>316763</td>\n",
       "      <td>7560774</td>\n",
       "      <td>2021-01-11</td>\n",
       "    </tr>\n",
       "  </tbody>\n",
       "</table>\n",
       "</div>"
      ],
      "text/plain": [
       "     patientid  PhysicianOrderID            \n",
       "152  316763     7546512           2021-01-05\n",
       "153  316763     7546587           2021-01-06\n",
       "154  316763     7548141           2021-01-06\n",
       "155  316763     7548200           2021-01-06\n",
       "156  316763     7548263           2021-01-06\n",
       "157  316763     7548273           2021-01-06\n",
       "158  316763     7552908           2021-01-07\n",
       "159  316763     7552967           2021-01-07\n",
       "160  316763     7553075           2021-01-07\n",
       "161  316763     7560774           2021-01-11"
      ]
     },
     "execution_count": 17,
     "metadata": {},
     "output_type": "execute_result"
    }
   ],
   "source": [
    "sym_diff[sym_diff.patientid==316763]"
   ]
  },
  {
   "cell_type": "markdown",
   "id": "8322bbc9",
   "metadata": {},
   "source": [
    "### Compare meds"
   ]
  },
  {
   "cell_type": "code",
   "execution_count": 25,
   "id": "0f4890e9",
   "metadata": {},
   "outputs": [
    {
     "data": {
      "text/plain": [
       "(5373, 5)"
      ]
     },
     "execution_count": 25,
     "metadata": {},
     "output_type": "execute_result"
    }
   ],
   "source": [
    "query = f\"\"\"\n",
    "select distinct patientid, gpiclass, \n",
    "                        gpiclassdescription, gpisubclassdescription, orderdescription\n",
    "                        from view_ods_physician_order_list_v2 a inner join view_ods_physician_order_list_med b\n",
    "                        on a.PhysicianOrderID = b.PhysiciansOrderID\n",
    "                        where patientid in {patientids}\n",
    "                        and facilityid = 21\n",
    "                        and orderdate BETWEEN '2021-01-01' and '2022-02-14'\n",
    "\"\"\"\n",
    "df1 = pd.read_sql(query, con=pcc_db_engine)\n",
    "df1.drop_duplicates(inplace=True)\n",
    "df1.shape"
   ]
  },
  {
   "cell_type": "code",
   "execution_count": 26,
   "id": "648fe6d8",
   "metadata": {},
   "outputs": [
    {
     "data": {
      "text/plain": [
       "(3185, 5)"
      ]
     },
     "execution_count": 26,
     "metadata": {},
     "output_type": "execute_result"
    }
   ],
   "source": [
    "query2 = f\"\"\"\n",
    "select distinct patientid, gpiclass, \n",
    "                        gpiclassdescription, gpisubclassdescription, orderdescription\n",
    "                        from view_ods_physician_order_list_v2 a inner join view_ods_physician_order_list_med b\n",
    "                        on a.med_id = b.med_id\n",
    "                        where patientid in {patientids}\n",
    "                        and facilityid = 21\n",
    "                        and orderdate BETWEEN '2021-01-01' and '2022-02-14'\n",
    "\"\"\"\n",
    "df2 = pd.read_sql(query2, con=scrape_db_engine)\n",
    "df2.drop_duplicates(inplace=True)\n",
    "df2.shape"
   ]
  },
  {
   "cell_type": "code",
   "execution_count": 27,
   "id": "8cf33c6a",
   "metadata": {},
   "outputs": [
    {
     "name": "stdout",
     "output_type": "stream",
     "text": [
      "(2298, 5)\n",
      "patientid\n",
      "727292     86\n",
      "3704806    85\n",
      "1695224    77\n",
      "316763     63\n",
      "2818652    62\n",
      "2393602    61\n",
      "1072404    59\n",
      "617267     54\n",
      "560461     52\n",
      "1576667    50\n",
      "540452     48\n",
      "3717121    48\n",
      "2530658    48\n",
      "2382771    47\n",
      "1945345    46\n",
      "3227256    46\n",
      "1201988    46\n",
      "3880691    45\n",
      "554672     44\n",
      "1097672    41\n",
      "298159     38\n",
      "2500968    36\n",
      "539682     35\n",
      "1811540    35\n",
      "531685     32\n",
      "1151885    31\n",
      "3081878    30\n",
      "547386     28\n",
      "1759245    27\n",
      "3235517    27\n",
      "774508     27\n",
      "494603     26\n",
      "520036     26\n",
      "304612     25\n",
      "3234439    24\n",
      "1007676    24\n",
      "2434264    24\n",
      "545123     23\n",
      "3262877    23\n",
      "3950272    23\n",
      "480595     22\n",
      "732111     22\n",
      "514522     22\n",
      "3518224    21\n",
      "3766590    20\n",
      "1102194    20\n",
      "304737     19\n",
      "3076407    19\n",
      "1411594    19\n",
      "2577343    19\n",
      "853235     19\n",
      "1065735    17\n",
      "219059     17\n",
      "550493     15\n",
      "4291183    14\n",
      "4349529    14\n",
      "435727     14\n",
      "541313     14\n",
      "1101643    14\n",
      "1026758    13\n",
      "510316     13\n",
      "1251202    13\n",
      "4352835    13\n",
      "684844     12\n",
      "3719958    12\n",
      "208929     12\n",
      "4231437    11\n",
      "365093     11\n",
      "3970907    11\n",
      "4360824    11\n",
      "1254376    10\n",
      "4225640    10\n",
      "4274452    10\n",
      "4274409    10\n",
      "483157     9 \n",
      "551622     9 \n",
      "4060852    8 \n",
      "405273     8 \n",
      "4264745    8 \n",
      "4247341    7 \n",
      "212663     7 \n",
      "4352007    6 \n",
      "4193968    6 \n",
      "4343290    6 \n",
      "461874     6 \n",
      "2518701    6 \n",
      "2391655    6 \n",
      "4348178    5 \n",
      "415757     5 \n",
      "130256     5 \n",
      "4157630    4 \n",
      "4340707    1 \n",
      "1170383    1 \n",
      "dtype: int64\n"
     ]
    }
   ],
   "source": [
    "\n",
    "sym_diff = pd.concat([df1,df2]).drop_duplicates(keep=False)\n",
    "print(sym_diff.shape)\n",
    "print(sym_diff.groupby(['patientid']).size().sort_values(ascending=False))"
   ]
  },
  {
   "cell_type": "markdown",
   "id": "76588fc0",
   "metadata": {},
   "source": [
    "### Compare Progress Notes"
   ]
  },
  {
   "cell_type": "code",
   "execution_count": null,
   "id": "3f3932ce",
   "metadata": {},
   "outputs": [],
   "source": [
    "query = f\"\"\"\n",
    "select distinct patientid, progressnoteid from view_ods_progress_note\n",
    "                        where patientid in {patientids} and\n",
    "                        createddate BETWEEN '2021-01-01' and '2022-02-14'\n",
    "\"\"\"\n",
    "df1 = pd.read_sql(query, con=pcc_db_engine)\n",
    "df1.drop_duplicates(inplace=True)\n",
    "df1.shape\n"
   ]
  },
  {
   "cell_type": "code",
   "execution_count": null,
   "id": "036b97f9",
   "metadata": {},
   "outputs": [],
   "source": [
    "df2 = pd.read_sql(query, con=scrape_db_engine)\n",
    "df2.drop_duplicates(inplace=True)\n",
    "df2.shape"
   ]
  },
  {
   "cell_type": "code",
   "execution_count": null,
   "id": "06162d3c",
   "metadata": {},
   "outputs": [],
   "source": [
    "\n",
    "sym_diff = pd.concat([df1,df2]).drop_duplicates(keep=False)\n",
    "print(sym_diff.shape)"
   ]
  },
  {
   "cell_type": "markdown",
   "id": "2c0cc199",
   "metadata": {},
   "source": [
    "## Compare reports generated from scrape and pcc data relay "
   ]
  },
  {
   "cell_type": "code",
   "execution_count": null,
   "id": "942ae18a",
   "metadata": {},
   "outputs": [],
   "source": [
    "!pip install fuzzywuzzy==0.18.0\n",
    "!pip install python-Levenshtein==0.12.0"
   ]
  },
  {
   "cell_type": "code",
   "execution_count": null,
   "id": "ff6eb05f",
   "metadata": {},
   "outputs": [],
   "source": [
    "from fuzzywuzzy import fuzz"
   ]
  },
  {
   "cell_type": "code",
   "execution_count": null,
   "id": "cd63d9c2",
   "metadata": {},
   "outputs": [],
   "source": [
    "pcc_path = f's3://saiva-dev-data-bucket/data/avante/2022-02-16/21/risk_report_2022-02-16.json'\n",
    "scrape_path = f's3://saiva-dev-data-bucket/data/avante_scrape/2022-02-16/21/risk_report_2022-02-16.json'\n",
    "with S3FS.open(pcc_path, 'rb') as f:\n",
    "     pcc_report = json.load(f)\n",
    "with S3FS.open(scrape_path, 'rb') as f:\n",
    "     scrape_report = json.load(f)"
   ]
  },
  {
   "cell_type": "code",
   "execution_count": null,
   "id": "d9000afd",
   "metadata": {},
   "outputs": [],
   "source": [
    "pcc_report, scrape_report"
   ]
  },
  {
   "cell_type": "code",
   "execution_count": null,
   "id": "b869ccb7",
   "metadata": {},
   "outputs": [],
   "source": [
    "pcc_reported = [x['masterpatientid'] for x in pcc_report['patient_list']]\n",
    "scrape_reported = [x['masterpatientid'] for x in scrape_report['patient_list']]\n",
    "common_reported = list(set(pcc_reported) & set(scrape_reported))\n",
    "len(common_reported)"
   ]
  },
  {
   "cell_type": "code",
   "execution_count": null,
   "id": "8dbf73f0",
   "metadata": {},
   "outputs": [],
   "source": [
    "def intersection(lst1, lst2):\n",
    "    matches = 0\n",
    "    for x in lst1:\n",
    "        found_match = False\n",
    "        for y in lst2:\n",
    "            if fuzz.ratio(x, y) >= 90:\n",
    "                matches += 1\n",
    "                break\n",
    "    return matches"
   ]
  },
  {
   "cell_type": "code",
   "execution_count": null,
   "id": "7a766eab",
   "metadata": {},
   "outputs": [],
   "source": [
    "common_highlights = 0\n",
    "total_highlights = 0\n",
    "\n",
    "common_vitals = 0\n",
    "total_vitals = 0\n",
    "\n",
    "common_conditions = 0\n",
    "total_conditions = 0\n",
    "\n",
    "common_diagnoses = 0\n",
    "total_diagnoses = 0\n",
    "\n",
    "common_meds = 0\n",
    "total_meds = 0\n",
    "\n",
    "common_orders = 0\n",
    "total_orders = 0\n",
    "\n",
    "for m_id in common_reported:\n",
    "    pcc_r = next(x for x in pcc_report['patient_detail_list'] if x['masterpatientid'] == m_id)\n",
    "    scrape_r = next(x for x in scrape_report['patient_detail_list'] if x['masterpatientid'] == m_id)\n",
    "    pcc_r_highlights = [x.replace('\\r', '') for x in pcc_r['highlights']]\n",
    "    scrape_r_highlights = [x.replace('\\r', '') for x in scrape_r['highlights']]\n",
    "        \n",
    "    total_highlights += len(pcc_r_highlights) + len(scrape_r_highlights)\n",
    "    common_highlights += intersection(pcc_r_highlights, scrape_r_highlights) * 2\n",
    "    \n",
    "    pcc_r_vitals = [x['value'] for x in pcc_r['vitals']]\n",
    "    scrape_r_vitals = [x['value'] for x in scrape_r['vitals']]\n",
    "\n",
    "    total_vitals += len(pcc_r_vitals) + len(scrape_r_vitals)\n",
    "    common_vitals += (len(set(pcc_r_vitals) & set(scrape_r_vitals)))*2\n",
    "    \n",
    "    pcc_r_conditions = [x['name'] for x in pcc_r['conditions']]\n",
    "    scrape_r_conditions = [x['name'] for x in scrape_r['conditions']]\n",
    "\n",
    "    total_conditions += len(pcc_r_conditions) + len(scrape_r_conditions)\n",
    "    common_conditions += (len(set(pcc_r_conditions) & set(scrape_r_conditions)))*2\n",
    "    \n",
    "    pcc_r_diagnoses = [x['name'] for x in pcc_r['diagnoses']]\n",
    "    scrape_r_diagnoses = [x['name'] for x in scrape_r['diagnoses']]\n",
    "\n",
    "    total_diagnoses += len(pcc_r_diagnoses) + len(scrape_r_diagnoses)\n",
    "    common_diagnoses += (len(set(pcc_r_diagnoses) & set(scrape_r_diagnoses)))*2\n",
    "    \n",
    "    \n",
    "    pcc_r_meds = [x['name'] for x in pcc_r['meds']]\n",
    "    scrape_r_meds = [x['name'] for x in scrape_r['meds']]\n",
    "\n",
    "    total_meds += len(pcc_r_meds) + len(scrape_r_meds)\n",
    "    common_meds += (len(set(pcc_r_meds) & set(scrape_r_meds)))*2\n",
    "    \n",
    "    pcc_r_orders = [x['name'] for x in pcc_r['orders']]\n",
    "    scrape_r_orders = [x['name'] for x in scrape_r['orders']]\n",
    "\n",
    "    total_orders += len(pcc_r_orders) + len(scrape_r_orders)\n",
    "    common_orders += intersection(pcc_r_orders, scrape_r_orders) * 2\n",
    "    \n",
    "    \n",
    "    \n",
    "print(\"{0:.0%}\".format(common_highlights/total_highlights))\n",
    "print(\"{0:.0%}\".format(common_vitals/total_vitals))\n",
    "print(\"{0:.0%}\".format(common_conditions/total_conditions))\n",
    "print(\"{0:.0%}\".format(common_diagnoses/total_diagnoses))\n",
    "print(\"{0:.0%}\".format(common_meds/total_meds))\n",
    "print(\"{0:.0%}\".format(common_orders/total_orders))\n",
    "\n",
    "\n"
   ]
  },
  {
   "cell_type": "code",
   "execution_count": null,
   "id": "5222929b",
   "metadata": {},
   "outputs": [],
   "source": [
    "query1 = f\"\"\"select censusdate, clientid \n",
    "            from view_ods_daily_census_v2 \n",
    "            where censusdate between '2021-01-01' and '2022-02-18'\n",
    "            and facilityid = 42\n",
    "            and censusactioncode not in ('DAMA', 'DD', 'DE', 'DH', 'E', 'HU', 'L', 'LV', 'MO', 'TO', 'TP', 'TU')\n",
    "\"\"\"\n",
    "query2 = f\"\"\"select censusdate, patientid as clientid \n",
    "            from view_ods_daily_census_v2 \n",
    "            where censusdate between '2021-01-01' and '2022-02-18'\n",
    "            and facilityid = 42\n",
    "            and censusactioncode not in ('DAMA', 'DD', 'DE', 'DH', 'E', 'HU', 'L', 'LV', 'MO', 'TO', 'TP', 'TU')\n",
    "\"\"\"\n",
    "df1 = pd.read_sql(query1, con=scrape_db_engine)\n",
    "df2 = pd.read_sql(query2, con=pcc_db_engine)\n",
    "df1.shape, df2.shape"
   ]
  },
  {
   "cell_type": "code",
   "execution_count": null,
   "id": "961ee3af",
   "metadata": {},
   "outputs": [],
   "source": [
    "sym_diff = pd.concat([df1,df2]).drop_duplicates(keep=False)\n",
    "diff_series = sym_diff.groupby(['censusdate']).size()\n",
    "print(diff_series)\n",
    "print(diff_series.size)\n",
    "print(sym_diff.size)"
   ]
  },
  {
   "cell_type": "code",
   "execution_count": null,
   "id": "bafeed46",
   "metadata": {},
   "outputs": [],
   "source": [
    "sym_diff[sym_diff.censusdate == '2021-09-02']"
   ]
  },
  {
   "cell_type": "code",
   "execution_count": null,
   "id": "5cd517d5",
   "metadata": {},
   "outputs": [],
   "source": []
  }
 ],
 "metadata": {
  "kernelspec": {
   "display_name": "Python 3 (ipykernel)",
   "language": "python",
   "name": "python3"
  },
  "language_info": {
   "codemirror_mode": {
    "name": "ipython",
    "version": 3
   },
   "file_extension": ".py",
   "mimetype": "text/x-python",
   "name": "python",
   "nbconvert_exporter": "python",
   "pygments_lexer": "ipython3",
   "version": "3.8.10"
  }
 },
 "nbformat": 4,
 "nbformat_minor": 5
}
