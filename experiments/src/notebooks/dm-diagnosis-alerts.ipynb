{
 "cells": [
  {
   "cell_type": "code",
   "execution_count": 1,
   "id": "a8cadff1",
   "metadata": {},
   "outputs": [
    {
     "name": "stdout",
     "output_type": "stream",
     "text": [
      "Collecting matplotlib\n",
      "  Downloading matplotlib-3.4.2-cp38-cp38-manylinux1_x86_64.whl (10.3 MB)\n",
      "\u001b[K     |████████████████████████████████| 10.3 MB 12.7 MB/s eta 0:00:01\n",
      "\u001b[?25hCollecting seaborn\n",
      "  Downloading seaborn-0.11.1-py3-none-any.whl (285 kB)\n",
      "\u001b[K     |████████████████████████████████| 285 kB 63.6 MB/s eta 0:00:01\n",
      "\u001b[?25hCollecting pillow>=6.2.0\n",
      "  Downloading Pillow-8.2.0-cp38-cp38-manylinux1_x86_64.whl (3.0 MB)\n",
      "\u001b[K     |████████████████████████████████| 3.0 MB 61.9 MB/s eta 0:00:01\n",
      "\u001b[?25hRequirement already satisfied: numpy>=1.16 in /usr/local/lib/python3.8/dist-packages (from matplotlib) (1.20.3)\n",
      "Collecting kiwisolver>=1.0.1\n",
      "  Downloading kiwisolver-1.3.1-cp38-cp38-manylinux1_x86_64.whl (1.2 MB)\n",
      "\u001b[K     |████████████████████████████████| 1.2 MB 62.2 MB/s eta 0:00:01\n",
      "\u001b[?25hCollecting cycler>=0.10\n",
      "  Downloading cycler-0.10.0-py2.py3-none-any.whl (6.5 kB)\n",
      "Requirement already satisfied: python-dateutil>=2.7 in /usr/local/lib/python3.8/dist-packages (from matplotlib) (2.8.1)\n",
      "Requirement already satisfied: pyparsing>=2.2.1 in /usr/local/lib/python3.8/dist-packages (from matplotlib) (2.4.7)\n",
      "Requirement already satisfied: scipy>=1.0 in /usr/local/lib/python3.8/dist-packages (from seaborn) (1.6.3)\n",
      "Requirement already satisfied: pandas>=0.23 in /usr/local/lib/python3.8/dist-packages (from seaborn) (0.25.3)\n",
      "Requirement already satisfied: six in /usr/local/lib/python3.8/dist-packages (from cycler>=0.10->matplotlib) (1.16.0)\n",
      "Requirement already satisfied: pytz>=2017.2 in /usr/local/lib/python3.8/dist-packages (from pandas>=0.23->seaborn) (2021.1)\n",
      "Installing collected packages: pillow, kiwisolver, cycler, matplotlib, seaborn\n",
      "Successfully installed cycler-0.10.0 kiwisolver-1.3.1 matplotlib-3.4.2 pillow-8.2.0 seaborn-0.11.1\n"
     ]
    }
   ],
   "source": [
    "!pip install matplotlib seaborn"
   ]
  },
  {
   "cell_type": "code",
   "execution_count": null,
   "id": "66243128",
   "metadata": {},
   "outputs": [],
   "source": [
    "!jupyter labextension install @jupyterlab/plotly-extension"
   ]
  },
  {
   "cell_type": "code",
   "execution_count": 3,
   "id": "3255d4a7",
   "metadata": {},
   "outputs": [],
   "source": [
    "!pip install plotly --quiet"
   ]
  },
  {
   "cell_type": "code",
   "execution_count": null,
   "id": "af946827",
   "metadata": {},
   "outputs": [],
   "source": [
    "import pandas as pd\n",
    "import numpy as np\n",
    "import gc\n",
    "import sys\n",
    "from pathlib import Path\n",
    "sys.path.insert(0, '/src')\n",
    "\n",
    "from utils.database import DbEngine\n",
    "from utils.load_data import DataLoader, PatientCensus\n",
    "from datetime import timedelta\n",
    "import timeit\n",
    "import matplotlib.pyplot as plt\n",
    "%matplotlib inline\n",
    "import seaborn as sns\n",
    "import random\n",
    "import plotly.express as px\n",
    "import plotly.figure_factory as ff\n",
    "\n",
    "from pylab import *\n",
    "from sklearn.cluster import KMeans\n",
    "from scipy.stats import gaussian_kde\n",
    "from sklearn.neighbors import KernelDensity\n",
    "\n",
    "pd.set_option('display.max_rows', None)\n",
    "pd.set_option('display.max_columns', None)\n",
    "pd.set_option('display.width', None)\n",
    "pd.set_option('display.max_colwidth', -1)"
   ]
  },
  {
   "cell_type": "code",
   "execution_count": null,
   "id": "f5fc2e65",
   "metadata": {},
   "outputs": [],
   "source": [
    "import os\n",
    "\n",
    "CLIENT = 'trio'\n",
    "START_DATE, END_DATE = pd.to_datetime('2020-01-01'), pd.to_datetime('2021-05-18')\n",
    "\n",
    "print(CLIENT)\n",
    "print(os.environ.get('SAIVA_ENV','dev'))\n",
    "print(START_DATE, END_DATE)"
   ]
  },
  {
   "cell_type": "code",
   "execution_count": null,
   "id": "d6797eab",
   "metadata": {},
   "outputs": [],
   "source": [
    "engine = DbEngine()\n",
    "saiva_engine = engine.get_postgresdb_engine()\n",
    "client_sql_engine = engine.get_sqldb_engine(clientdb_name=CLIENT)"
   ]
  },
  {
   "cell_type": "code",
   "execution_count": null,
   "id": "df213d82",
   "metadata": {},
   "outputs": [],
   "source": [
    "# verify connectivity\n",
    "engine.verify_connectivity(client_sql_engine)"
   ]
  },
  {
   "cell_type": "markdown",
   "id": "e6e4e731",
   "metadata": {},
   "source": [
    "### Load patient data"
   ]
  },
  {
   "cell_type": "code",
   "execution_count": null,
   "id": "6ff7f801",
   "metadata": {},
   "outputs": [],
   "source": [
    "census = PatientCensus(\n",
    "    client_sql_engine=client_sql_engine, \n",
    "    start_date=START_DATE, \n",
    "    end_date=END_DATE\n",
    ")\n",
    "df = census.get_patient_census()\n",
    "masterpatient_ids = df['masterpatientid']"
   ]
  },
  {
   "cell_type": "code",
   "execution_count": null,
   "id": "fdc4de54",
   "metadata": {},
   "outputs": [],
   "source": [
    "data = DataLoader(\n",
    "    client_sql_engine=client_sql_engine, \n",
    "    masterpatientid_list=masterpatient_ids, \n",
    "    census_date=END_DATE\n",
    ")\n",
    "\n",
    "alerts_df = data.load_alerts()\n",
    "diagnosis_df = data.load_diagnosis()\n"
   ]
  },
  {
   "cell_type": "markdown",
   "id": "a81ab8ae",
   "metadata": {},
   "source": [
    "### Calculate Alerts count"
   ]
  },
  {
   "cell_type": "code",
   "execution_count": null,
   "id": "dfd9d7fb",
   "metadata": {},
   "outputs": [],
   "source": [
    "%%time \n",
    "\n",
    "_alerts_df = alerts_df.merge(df, on=['masterpatientid'])\n",
    "\n",
    "# Filter for alerts less than census_date & greater than last 3 days from census_date\n",
    "condition = (_alerts_df.createddate < _alerts_df.censusdate) & (\n",
    "        _alerts_df.createddate >= (_alerts_df.censusdate - timedelta(days=3)))\n",
    "\n",
    "last_alerts_df = _alerts_df[condition]\n",
    "\n",
    "# Do Cumulative summation and pick the last row to get the overall alerts count for last 3 days\n",
    "last_alerts_df['alerts_count'] = last_alerts_df.groupby(\n",
    "    ['masterpatientid', 'censusdate']).createddate.cumcount() + 1\n",
    "last_alerts_df.drop_duplicates(subset=['masterpatientid', 'censusdate'], keep='last', inplace=True)\n",
    "\n",
    "last_alerts_df = last_alerts_df[['masterpatientid', 'censusdate','alerts_count']]\n",
    "\n",
    "final_df = df.merge(\n",
    "            last_alerts_df,\n",
    "            how='left',\n",
    "            left_on=['masterpatientid', 'censusdate'],\n",
    "            right_on=['masterpatientid', 'censusdate']\n",
    "        )\n",
    "final_df['alerts_count'].fillna(0, inplace=True)\n",
    "\n",
    "print(final_df.shape)\n",
    "final_df.head(3)"
   ]
  },
  {
   "cell_type": "markdown",
   "id": "97e428f7",
   "metadata": {},
   "source": [
    "### Calculate Diagnosis count"
   ]
  },
  {
   "cell_type": "code",
   "execution_count": null,
   "id": "2c2c4e8f",
   "metadata": {},
   "outputs": [],
   "source": [
    "%%time \n",
    "\n",
    "_diagnosis_df = diagnosis_df.merge(df, on=['masterpatientid'])\n",
    "\n",
    "# Filter for diagnosis less than census_date & greater than last 7 days from census_date\n",
    "condition = (_diagnosis_df.onsetdate < _diagnosis_df.censusdate) & (\n",
    "        _diagnosis_df.onsetdate >= (_diagnosis_df.censusdate - timedelta(days=7)))\n",
    "\n",
    "last_diagnosis_df = _diagnosis_df[condition]\n",
    "\n",
    "# Do Cumulative summation and pick the last row to get the overall alerts count for last 7 days\n",
    "last_diagnosis_df['diagnosis_count'] = last_diagnosis_df.groupby(\n",
    "    ['masterpatientid', 'censusdate']).onsetdate.cumcount() + 1\n",
    "last_diagnosis_df.drop_duplicates(subset=['masterpatientid', 'censusdate'], keep='last', inplace=True)\n",
    "\n",
    "last_diagnosis_df = last_diagnosis_df[['masterpatientid', 'censusdate','diagnosis_count']]\n",
    "\n",
    "final_df = final_df.merge(\n",
    "            last_diagnosis_df,\n",
    "            how='left',\n",
    "            left_on=['masterpatientid', 'censusdate'],\n",
    "            right_on=['masterpatientid', 'censusdate']\n",
    "        )\n",
    "final_df['diagnosis_count'].fillna(0, inplace=True)\n",
    "\n",
    "print(final_df.shape)\n",
    "final_df.head(3)"
   ]
  },
  {
   "cell_type": "code",
   "execution_count": null,
   "id": "dc1fcd03",
   "metadata": {},
   "outputs": [],
   "source": [
    "final_df[final_df['diagnosis_count'] > 39].head(5)"
   ]
  },
  {
   "cell_type": "code",
   "execution_count": null,
   "id": "5a1d832e",
   "metadata": {},
   "outputs": [],
   "source": [
    "# verify whether the alerts_count is correct \n",
    "\n",
    "alerts_df[(alerts_df['masterpatientid'] == 602992) & (alerts_df['createddate'] <= '2021-01-02') & (alerts_df['createddate'] > '2020-12-25')]\n",
    "\n"
   ]
  },
  {
   "cell_type": "code",
   "execution_count": null,
   "id": "d8937621",
   "metadata": {},
   "outputs": [],
   "source": [
    "# verify whether the diagnosis_count is correct \n",
    "\n",
    "diagnosis_df[(diagnosis_df['masterpatientid'] == 414983) & (diagnosis_df['onsetdate'] <= '2021-03-03') & (diagnosis_df['onsetdate'] > '2021-02-27')]\n",
    "\n"
   ]
  },
  {
   "cell_type": "code",
   "execution_count": null,
   "id": "0e08a2a4",
   "metadata": {},
   "outputs": [],
   "source": [
    "final_df.to_parquet('final_df.parquet')"
   ]
  },
  {
   "cell_type": "code",
   "execution_count": null,
   "id": "a6dabbee",
   "metadata": {},
   "outputs": [],
   "source": [
    "final_df = pd.read_parquet('final_df.parquet')\n",
    "final_df.shape"
   ]
  },
  {
   "cell_type": "code",
   "execution_count": null,
   "id": "c12a15e1",
   "metadata": {},
   "outputs": [],
   "source": [
    "final_df.sort_values(by=['masterpatientid', 'censusdate'], inplace=True)"
   ]
  },
  {
   "cell_type": "code",
   "execution_count": null,
   "id": "8c559c27",
   "metadata": {},
   "outputs": [],
   "source": [
    "X = final_df[['alerts_count','diagnosis_count']]\n",
    "Y = final_df['transfered']"
   ]
  },
  {
   "cell_type": "code",
   "execution_count": null,
   "id": "6eda1d6c",
   "metadata": {},
   "outputs": [],
   "source": [
    "transfered_x = final_df[final_df['transfered'] == 1][['diagnosis_count','alerts_count']]\n",
    "safe_x = final_df[final_df['transfered'] == 0][['diagnosis_count','alerts_count']]"
   ]
  },
  {
   "cell_type": "code",
   "execution_count": null,
   "id": "70d080cf",
   "metadata": {},
   "outputs": [],
   "source": [
    "transfered_x.describe()"
   ]
  },
  {
   "cell_type": "code",
   "execution_count": null,
   "id": "e7db1890",
   "metadata": {},
   "outputs": [],
   "source": [
    "safe_x.describe()"
   ]
  },
  {
   "cell_type": "markdown",
   "id": "c4eedc26",
   "metadata": {},
   "source": [
    "### +++++++++++++++++++++++++++++ Plot graphs ++++++++++++++++++++++++++++++"
   ]
  },
  {
   "cell_type": "markdown",
   "id": "f033fe56",
   "metadata": {},
   "source": [
    "### Distribution & density"
   ]
  },
  {
   "cell_type": "code",
   "execution_count": null,
   "id": "fbf1edf7",
   "metadata": {},
   "outputs": [],
   "source": [
    "x = transfered_x['diagnosis_count']\n",
    "\n",
    "sns.set(rc={\"figure.figsize\": (13, 8)})\n",
    "\n",
    "subplot(2,2,1)\n",
    "ax = sns.distplot(x)\n",
    "\n",
    "subplot(2,2,2)\n",
    "ax = sns.distplot(x, rug=False, hist=False)\n",
    "\n",
    "subplot(2,2,3)\n",
    "ax = sns.distplot(x, kde=False)\n",
    "\n",
    "plt.show()"
   ]
  },
  {
   "cell_type": "code",
   "execution_count": null,
   "id": "596239eb",
   "metadata": {},
   "outputs": [],
   "source": [
    "x = safe_x['diagnosis_count']\n",
    "\n",
    "sns.set(rc={\"figure.figsize\": (13, 8)})\n",
    "\n",
    "subplot(2,2,1)\n",
    "ax = sns.distplot(x)\n",
    "\n",
    "subplot(2,2,2)\n",
    "ax = sns.distplot(x, rug=False, hist=False)\n",
    "\n",
    "subplot(2,2,3)\n",
    "ax = sns.distplot(x, kde=False)\n",
    "\n",
    "plt.show()"
   ]
  },
  {
   "cell_type": "code",
   "execution_count": null,
   "id": "c53eef1a",
   "metadata": {},
   "outputs": [],
   "source": [
    "x = transfered_x['alerts_count']\n",
    "\n",
    "sns.set(rc={\"figure.figsize\": (13, 8)})\n",
    "\n",
    "subplot(2,2,1)\n",
    "ax = sns.distplot(x)\n",
    "\n",
    "subplot(2,2,2)\n",
    "ax = sns.distplot(x, rug=False, hist=False)\n",
    "\n",
    "subplot(2,2,3)\n",
    "ax = sns.distplot(x, kde=False)\n",
    "\n",
    "plt.show()"
   ]
  },
  {
   "cell_type": "code",
   "execution_count": null,
   "id": "bf4451d6",
   "metadata": {},
   "outputs": [],
   "source": [
    "x = safe_x['alerts_count']\n",
    "\n",
    "sns.set(rc={\"figure.figsize\": (13, 7)})\n",
    "\n",
    "subplot(2,2,1)\n",
    "ax = sns.distplot(x)\n",
    "\n",
    "subplot(2,2,2)\n",
    "ax = sns.distplot(x, rug=False, hist=False)\n",
    "\n",
    "subplot(2,2,3)\n",
    "ax = sns.distplot(x, kde=False)\n",
    "\n",
    "plt.show()"
   ]
  },
  {
   "cell_type": "code",
   "execution_count": null,
   "id": "33fa9d47",
   "metadata": {},
   "outputs": [],
   "source": [
    "fig = px.scatter(final_df, x=\"carelevelcode\", y=\"diagnosis_count\", color=\"transfered\")\n",
    "fig.show()\n",
    "#kde density plot"
   ]
  },
  {
   "cell_type": "code",
   "execution_count": null,
   "id": "6e90b60b",
   "metadata": {},
   "outputs": [],
   "source": [
    "fig = px.scatter(final_df, x=\"carelevelcode\", y=\"alerts_count\", color=\"transfered\")\n",
    "fig.show()"
   ]
  },
  {
   "cell_type": "markdown",
   "id": "291cfb22",
   "metadata": {},
   "source": [
    "## Clustering "
   ]
  },
  {
   "cell_type": "code",
   "execution_count": null,
   "id": "394ecdde",
   "metadata": {},
   "outputs": [],
   "source": [
    "\"\"\" \n",
    "- select random centroids\n",
    "- we take each point and find the nearest centroid. We measure distance using Euclidean distance\n",
    "- K-means is the most frequently used form of clustering due to its speed and simplicity. \n",
    "\"\"\"\n",
    "#create kmeans object.\n",
    "kmeans = KMeans(n_clusters=2)\n",
    "\n",
    "# fit kmeans object to data\n",
    "kmeans.fit(X)\n",
    "\n",
    "# print location of clusters learned by kmeans object\n",
    "print(kmeans.cluster_centers_)\n",
    "\n",
    "# save new clusters for chart\n",
    "y_km = kmeans.fit_predict(X)"
   ]
  },
  {
   "cell_type": "code",
   "execution_count": null,
   "id": "f6034cb1",
   "metadata": {},
   "outputs": [],
   "source": [
    "_final_df = final_df.copy()\n",
    "_final_df['transfered'] = y_km\n",
    "fig = px.scatter(_final_df, x=\"diagnosis_count\", y=\"alerts_count\",  color=\"transfered\")\n",
    "fig.show()"
   ]
  },
  {
   "cell_type": "code",
   "execution_count": null,
   "id": "85fee472",
   "metadata": {},
   "outputs": [],
   "source": [
    "fig = px.scatter(final_df, x=\"diagnosis_count\", y=\"alerts_count\", color=\"transfered\")\n",
    "fig.show()"
   ]
  },
  {
   "cell_type": "markdown",
   "id": "0fe75d90",
   "metadata": {},
   "source": [
    "### kernel density estimation (KDE)"
   ]
  },
  {
   "cell_type": "code",
   "execution_count": null,
   "id": "752baa38",
   "metadata": {},
   "outputs": [],
   "source": [
    "\n",
    "colorscale = ['#7A4579', '#D56073']\n",
    "\n",
    "fig = ff.create_2d_density(\n",
    "    X['alerts_count'], Y, colorscale=colorscale,\n",
    "    hist_color='rgb(255, 237, 222)', point_size=3\n",
    ")\n",
    "\n",
    "fig.show()\n",
    "# py.iplot(fig, filename='histogram_subplots')"
   ]
  },
  {
   "cell_type": "code",
   "execution_count": null,
   "id": "f2c40346",
   "metadata": {},
   "outputs": [],
   "source": [
    "\n",
    "colorscale = ['#7A4579', '#D56073']\n",
    "\n",
    "fig = ff.create_2d_density(\n",
    "    X['diagnosis_count'], Y, colorscale=colorscale,\n",
    "    hist_color='rgb(255, 237, 222)', point_size=3\n",
    ")\n",
    "\n",
    "fig.show()\n",
    "# py.iplot(fig, filename='histogram_subplots')"
   ]
  },
  {
   "cell_type": "markdown",
   "id": "2d7561e5",
   "metadata": {},
   "source": [
    "### SEABORN\n",
    "https://seaborn.pydata.org/generated/seaborn.kdeplot.html"
   ]
  },
  {
   "cell_type": "code",
   "execution_count": null,
   "id": "f2a937f9",
   "metadata": {},
   "outputs": [],
   "source": [
    "data = safe_x['diagnosis_count']\n",
    "sns.set_style('whitegrid')\n",
    "sns.kdeplot(np.array(data), bw=0.5)"
   ]
  },
  {
   "cell_type": "code",
   "execution_count": null,
   "id": "91e05d9a",
   "metadata": {},
   "outputs": [],
   "source": [
    "sns.set_style('whitegrid')\n",
    "sns.kdeplot(data=transfered_x)"
   ]
  },
  {
   "cell_type": "code",
   "execution_count": null,
   "id": "49c7d3c6",
   "metadata": {},
   "outputs": [],
   "source": [
    "sns.set_style('whitegrid')\n",
    "sns.kdeplot(data=safe_x)"
   ]
  },
  {
   "cell_type": "code",
   "execution_count": null,
   "id": "038b31b8",
   "metadata": {},
   "outputs": [],
   "source": []
  }
 ],
 "metadata": {
  "kernelspec": {
   "display_name": "Python 3",
   "language": "python",
   "name": "python3"
  },
  "language_info": {
   "codemirror_mode": {
    "name": "ipython",
    "version": 3
   },
   "file_extension": ".py",
   "mimetype": "text/x-python",
   "name": "python",
   "nbconvert_exporter": "python",
   "pygments_lexer": "ipython3",
   "version": "3.8.5"
  }
 },
 "nbformat": 4,
 "nbformat_minor": 5
}
