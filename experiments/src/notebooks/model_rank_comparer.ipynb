{
 "cells": [
  {
   "cell_type": "code",
   "execution_count": null,
   "id": "da8eb358",
   "metadata": {},
   "outputs": [],
   "source": [
    "import pandas as pd"
   ]
  },
  {
   "cell_type": "code",
   "execution_count": null,
   "id": "0e7e2062",
   "metadata": {},
   "outputs": [],
   "source": [
    "experiment_model_df = pd.read_excel('experiment_test_output.xlsx')\n",
    "baseline_model_df = pd.read_excel('baseline_test_output.xlsx')"
   ]
  },
  {
   "cell_type": "code",
   "execution_count": null,
   "id": "d6f4e70b",
   "metadata": {},
   "outputs": [],
   "source": [
    "experiment_model_df.shape, baseline_model_df.shape"
   ]
  },
  {
   "cell_type": "code",
   "execution_count": null,
   "id": "87fc6905",
   "metadata": {},
   "outputs": [],
   "source": [
    "baseline_model_df = baseline_model_df[(baseline_model_df['LFS']>30)&(baseline_model_df['predictionrank'] ==baseline_model_df['min_predictionrank'])]\n",
    "baseline_model_df['facilityid'] = baseline_model_df['facilityid'].apply(lambda x : x.split('_')[1])\n",
    "baseline_model_df['facilityid'] = baseline_model_df['facilityid'].astype('int64')\n",
    "baseline_model_df['masterpatientid'] = baseline_model_df['masterpatientid'].apply(lambda x : x.split('_')[1])\n",
    "baseline_model_df['masterpatientid'] = baseline_model_df['masterpatientid'].astype('int64')\n",
    "baseline_model_df['rth_censusdate'] = pd.to_datetime(baseline_model_df['rth_censusdate'])"
   ]
  },
  {
   "cell_type": "code",
   "execution_count": null,
   "id": "06c2fe79",
   "metadata": {},
   "outputs": [],
   "source": [
    "experiment_model_df = experiment_model_df[(experiment_model_df['LFS']>30)&(experiment_model_df['predictionrank'] ==experiment_model_df['min_predictionrank'])]\n",
    "experiment_model_df['facilityid'] = experiment_model_df['facilityid'].apply(lambda x : x.split('_')[1])\n",
    "experiment_model_df['facilityid'] = experiment_model_df['facilityid'].astype('int64')\n",
    "experiment_model_df['masterpatientid'] = experiment_model_df['masterpatientid'].apply(lambda x : x.split('_')[1])\n",
    "experiment_model_df['masterpatientid'] = experiment_model_df['masterpatientid'].astype('int64')\n",
    "experiment_model_df['rth_censusdate'] = pd.to_datetime(experiment_model_df['rth_censusdate'])\n",
    "\n",
    "experiment_model_df.shape, "
   ]
  },
  {
   "cell_type": "code",
   "execution_count": null,
   "id": "5c0a6976",
   "metadata": {},
   "outputs": [],
   "source": [
    "baseline_df_missed = baseline_model_df[(baseline_model_df['predictionrank']>15)]\n",
    "baseline_df_caught = baseline_model_df[(baseline_model_df['predictionrank']<=15)]\n",
    "\n",
    "experiment_df_caught = experiment_model_df[experiment_model_df['predictionrank']<=15]\n",
    "experiment_df_missed = experiment_model_df[experiment_model_df['predictionrank']>15]\n",
    "\n",
    "experiment_df_caught.shape, experiment_df_missed.shape, baseline_df_missed.shape, baseline_df_caught.shape"
   ]
  },
  {
   "cell_type": "code",
   "execution_count": null,
   "id": "17c833b2",
   "metadata": {},
   "outputs": [],
   "source": [
    "experiment_df_caught['name'] = 'experiment_caught'\n",
    "experiment_df_missed['name'] = 'experiment_missed'\n",
    "baseline_df_caught['name'] = 'baseline_caught'\n",
    "baseline_df_missed['name'] = 'baseline_missed'"
   ]
  },
  {
   "cell_type": "code",
   "execution_count": null,
   "id": "ef03913a",
   "metadata": {},
   "outputs": [],
   "source": [
    "baseline_df_missed.drop_duplicates(subset=['facilityid', 'masterpatientid','min_predictionrank','dateoftransfer'],inplace=True)\n",
    "experiment_df_missed.drop_duplicates(subset=['facilityid', 'masterpatientid','min_predictionrank','rth_censusdate'],inplace=True)\n",
    "baseline_df_missed['dateoftransfer'] = pd.to_datetime(baseline_df_missed['dateoftransfer'])\n",
    "baseline_df_missed.shape, experiment_df_missed.shape"
   ]
  },
  {
   "cell_type": "code",
   "execution_count": null,
   "id": "47c8771d",
   "metadata": {},
   "outputs": [],
   "source": [
    "both_missed_merged_df = experiment_df_missed.merge(baseline_df_missed,\n",
    "                            how='inner', \n",
    "                            left_on=['facilityid', 'masterpatientid','rth_censusdate'],\n",
    "                            right_on=['facilityid', 'masterpatientid','dateoftransfer'],\n",
    "                            suffixes = ('_experiment', '_baseline'))\n",
    "both_missed_merged_df.head()"
   ]
  },
  {
   "cell_type": "code",
   "execution_count": null,
   "id": "e089f531",
   "metadata": {},
   "outputs": [],
   "source": [
    "both_missed_merged_df.shape, experiment_df_missed.shape, baseline_df_missed.shape"
   ]
  },
  {
   "cell_type": "code",
   "execution_count": null,
   "id": "8fb66239",
   "metadata": {},
   "outputs": [],
   "source": [
    "experiment_caught_baseline_missed_merged_df = experiment_df_caught.merge(baseline_df_missed,\n",
    "                            how='inner', \n",
    "                            left_on=['facilityid', 'masterpatientid','rth_censusdate'],\n",
    "                            right_on=['facilityid', 'masterpatientid','dateoftransfer'],\n",
    "                            suffixes = ('_experiment', '_baseline'))\n",
    "experiment_caught_baseline_missed_merged_df.head()"
   ]
  },
  {
   "cell_type": "code",
   "execution_count": null,
   "id": "498813f5",
   "metadata": {},
   "outputs": [],
   "source": [
    "baseline_df_caught['dateoftransfer'] = pd.to_datetime(baseline_df_caught['dateoftransfer'])\n",
    "baseline_caught_experiment_missed_merged_df = experiment_df_missed.merge(baseline_df_caught,\n",
    "                            how='inner', \n",
    "                            left_on=['facilityid', 'masterpatientid','rth_censusdate'],\n",
    "                            right_on=['facilityid', 'masterpatientid','dateoftransfer'],\n",
    "                            suffixes = ('_experiment', '_baseline'))\n",
    "baseline_caught_experiment_missed_merged_df.head()"
   ]
  },
  {
   "cell_type": "code",
   "execution_count": null,
   "id": "d7fdc57f",
   "metadata": {},
   "outputs": [],
   "source": [
    "experiment_caught_baseline_missed_merged_df.shape, baseline_caught_experiment_missed_merged_df.shape"
   ]
  },
  {
   "cell_type": "code",
   "execution_count": null,
   "id": "553dd137",
   "metadata": {},
   "outputs": [],
   "source": [
    "baseline_caught_experiment_caught_merged_df = experiment_df_caught.merge(baseline_df_caught,\n",
    "                            how='inner', \n",
    "                            left_on=['facilityid', 'masterpatientid','rth_censusdate'],\n",
    "                            right_on=['facilityid', 'masterpatientid','dateoftransfer'],\n",
    "                            suffixes = ('_experiment', '_baseline'))\n",
    "baseline_caught_experiment_caught_merged_df.head()"
   ]
  },
  {
   "cell_type": "code",
   "execution_count": null,
   "id": "3a991f26",
   "metadata": {},
   "outputs": [],
   "source": [
    "baseline_caught_experiment_caught_merged_df.shape"
   ]
  },
  {
   "cell_type": "code",
   "execution_count": null,
   "id": "47aca406",
   "metadata": {},
   "outputs": [],
   "source": [
    "combined_df = pd.concat([baseline_caught_experiment_missed_merged_df,\n",
    "                         experiment_caught_baseline_missed_merged_df,\n",
    "                         both_missed_merged_df],axis=0)\n",
    "\n",
    "combined_df.shape"
   ]
  },
  {
   "cell_type": "code",
   "execution_count": null,
   "id": "6f23fa2f",
   "metadata": {},
   "outputs": [],
   "source": [
    "combined_df = pd.concat([combined_df, \n",
    "                         baseline_caught_experiment_caught_merged_df],axis=0)"
   ]
  },
  {
   "cell_type": "code",
   "execution_count": null,
   "id": "c7488b45",
   "metadata": {},
   "outputs": [],
   "source": [
    "combined_df['name'] = 'both missed'\n",
    "combined_df.loc[(combined_df['min_predictionrank_experiment']<=15)&(combined_df['min_predictionrank_baseline']<=15),'name']='both caught'\n",
    "combined_df.loc[(combined_df['min_predictionrank_experiment']<=15)&(combined_df['min_predictionrank_baseline']>15),'name']='Exp < Bl'\n",
    "combined_df.loc[(combined_df['min_predictionrank_experiment']>15)&(combined_df['min_predictionrank_baseline']<=15),'name']='Bl < Exp'"
   ]
  },
  {
   "cell_type": "code",
   "execution_count": null,
   "id": "5c10c9e9",
   "metadata": {},
   "outputs": [],
   "source": [
    "name_group = combined_df['name'].value_counts().reset_index(name='count')\n",
    "name_group"
   ]
  },
  {
   "cell_type": "code",
   "execution_count": null,
   "id": "82beef36",
   "metadata": {},
   "outputs": [],
   "source": [
    "name_group.iloc[0].to_dict(), name_group.iloc[1].to_dict(), name_group.iloc[2].to_dict(),name_group.iloc[3].to_dict()"
   ]
  },
  {
   "cell_type": "code",
   "execution_count": null,
   "id": "664f7281",
   "metadata": {},
   "outputs": [],
   "source": [
    "import plotly.express as px\n",
    "fig = px.scatter(combined_df, x=\"min_predictionrank_baseline\", y=\"min_predictionrank_experiment\", color=\"name\",\n",
    "                title=\"\"\"\"\"\")\n",
    "fig.update_layout(\n",
    "    title=f\"\"\"Avante | LOS>30 | Rank comparison between experiment(optuna) and baseline(hyperopt) experiment. {name_group.iloc[0].values[0]} - {name_group.iloc[0].values[1]} | {name_group.iloc[1].values[0]} - {name_group.iloc[1].values[1]} | {name_group.iloc[2].values[0]} - {name_group.iloc[2].values[1]} | {name_group.iloc[3].values[0]} - {name_group.iloc[3].values[1]}\"\"\",\n",
    "    font=dict(\n",
    "        family=\"Courier New, monospace\",\n",
    "        size=8,\n",
    "        color=\"RebeccaPurple\"\n",
    "    )\n",
    ")\n",
    "\n",
    "fig.show()"
   ]
  },
  {
   "cell_type": "code",
   "execution_count": null,
   "id": "164a21bf",
   "metadata": {},
   "outputs": [],
   "source": [
    "# import os,plotly\n",
    "# plotly.offline.plot(fig, filename=os.path.join('.',f'avante_los30_rank comparison between baseline and experiment.html'))"
   ]
  },
  {
   "cell_type": "code",
   "execution_count": null,
   "id": "5d2f714a",
   "metadata": {},
   "outputs": [],
   "source": []
  }
 ],
 "metadata": {
  "kernelspec": {
   "display_name": "Python 3 (ipykernel)",
   "language": "python",
   "name": "python3"
  },
  "language_info": {
   "codemirror_mode": {
    "name": "ipython",
    "version": 3
   },
   "file_extension": ".py",
   "mimetype": "text/x-python",
   "name": "python",
   "nbconvert_exporter": "python",
   "pygments_lexer": "ipython3",
   "version": "3.8.10"
  }
 },
 "nbformat": 4,
 "nbformat_minor": 5
}
