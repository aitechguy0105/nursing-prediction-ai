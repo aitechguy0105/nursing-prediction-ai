{
 "cells": [
  {
   "cell_type": "code",
   "execution_count": null,
   "metadata": {},
   "outputs": [],
   "source": [
    "# !pip install plotly-express"
   ]
  },
  {
   "cell_type": "code",
   "execution_count": null,
   "metadata": {},
   "outputs": [],
   "source": [
    "import pandas as pd\n",
    "import plotly.express as px\n"
   ]
  },
  {
   "cell_type": "code",
   "execution_count": null,
   "metadata": {},
   "outputs": [],
   "source": [
    "# facilityid = [5, 13, 20, 21, 26, 32, 33, 3, 4, 31, 7, 1, 16, 23, 19, 29, 36, 8, 11, 15, 17, \n",
    "#               24, 25, 37, 22, 27, 34, 18, 38, 2, 14, 28, 39, 6]\n",
    "\n",
    "facilityid = [19,33,1,38]"
   ]
  },
  {
   "cell_type": "code",
   "execution_count": null,
   "metadata": {},
   "outputs": [],
   "source": [
    "recall_census_df = pd.read_csv('recall_at_every_rank.csv')\n",
    "recall_census_df.head()"
   ]
  },
  {
   "cell_type": "code",
   "execution_count": null,
   "metadata": {},
   "outputs": [],
   "source": [
    "plot_df = recall_census_df[recall_census_df['facilityid'].isin(facilityid)]\n",
    "fig = px.line(plot_df, x=\"rank_cutoff\", y=\"recall_at_k\",color='fac_id__census__res_transferred', title='AVERAGE RECALL PER CUTOFF RANK')\n",
    "fig.show()"
   ]
  },
  {
   "cell_type": "code",
   "execution_count": null,
   "metadata": {},
   "outputs": [],
   "source": [
    "# save dynamic plot as html file\n",
    "import plotly\n",
    "import os\n",
    "folder_path = '.'\n",
    "plotly.offline.plot(fig, filename=os.path.join(folder_path,'marquis_recall_cutoff_analysis.html'))"
   ]
  },
  {
   "cell_type": "code",
   "execution_count": null,
   "metadata": {},
   "outputs": [],
   "source": []
  }
 ],
 "metadata": {
  "kernelspec": {
   "display_name": "Python 3",
   "language": "python",
   "name": "python3"
  },
  "language_info": {
   "codemirror_mode": {
    "name": "ipython",
    "version": 3
   },
   "file_extension": ".py",
   "mimetype": "text/x-python",
   "name": "python",
   "nbconvert_exporter": "python",
   "pygments_lexer": "ipython3",
   "version": "3.7.3"
  }
 },
 "nbformat": 4,
 "nbformat_minor": 2
}
