{
 "cells": [
  {
   "cell_type": "code",
   "execution_count": null,
   "id": "b90792f4",
   "metadata": {},
   "outputs": [],
   "source": [
    "import pandas as pd\n",
    "import numpy as np\n",
    "pd.set_option('display.max_columns',None)\n",
    "import json\n",
    "\n",
    "import boto3\n",
    "from eliot import log_message\n",
    "from sqlalchemy import create_engine\n",
    "from sqlalchemy.engine.url import URL\n",
    "from sqlalchemy import text"
   ]
  },
  {
   "cell_type": "code",
   "execution_count": null,
   "id": "27780cc5",
   "metadata": {},
   "outputs": [],
   "source": [
    "!pip install plotly-express --quiet\n",
    "!pip install matplotlib --quiet\n",
    "!pip install seaborn --quiet\n",
    "import plotly.express as px\n",
    "import plotly\n",
    "import matplotlib.pyplot as plt\n",
    "import seaborn as sns"
   ]
  },
  {
   "cell_type": "code",
   "execution_count": null,
   "id": "9404916a",
   "metadata": {},
   "outputs": [],
   "source": [
    "class DbEngine(object):\n",
    "    \"\"\"\n",
    "    Fetch the credentials from AWS Secrets Manager.\n",
    "    :return: DB connection to the respective database\n",
    "    \"\"\"\n",
    "\n",
    "    def __init__(self, region_name='us-east-1'):\n",
    "        self.session = boto3.session.Session()\n",
    "        self.secrets_client = self.session.client(\n",
    "            service_name='secretsmanager',\n",
    "            region_name=region_name\n",
    "        )\n",
    "\n",
    "    def get_secrets(self, secret_name):\n",
    "        \"\"\"\n",
    "        :return: Based on the environment get secrets for\n",
    "        Client SQL db & Postgres Saivadb\n",
    "        \"\"\"\n",
    "        log_message(message_type='info', action_type='get_secrets', secret_name=secret_name)\n",
    "        db_info = json.loads(\n",
    "            self.secrets_client.get_secret_value(SecretId=secret_name)[\n",
    "                'SecretString'\n",
    "            ]\n",
    "        )\n",
    "        return db_info\n",
    "\n",
    "    def get_postgresdb_engine(self):\n",
    "        \"\"\"\n",
    "        Based on the environment connects to the respective database\n",
    "        :param client: client name\n",
    "        :return: Saivadb Postgres engine\n",
    "        \"\"\"\n",
    "        log_message(message_type='info', action_type='connect_to_postgresdb', client='SaivaDB')\n",
    "        # Fetch credentials from AWS Secrets Manager\n",
    "        postgresdb_info = self.get_secrets(secret_name=f'prod-saivadb')\n",
    "        # Create DB URL\n",
    "        saivadb_url = URL(\n",
    "            drivername='postgresql',\n",
    "            username=postgresdb_info['username'],\n",
    "            password=postgresdb_info['password'],\n",
    "            host=postgresdb_info['host'],\n",
    "            port=postgresdb_info['port'],\n",
    "            database=postgresdb_info['dbname'],\n",
    "        )\n",
    "        # Return Postgres Engine\n",
    "        return create_engine(saivadb_url, echo=False)\n",
    "    \n",
    "    def get_sqldb_engine(self, clientdb_name):\n",
    "        \"\"\"\n",
    "        Based on the environment connects to the respective database.\n",
    "        Avante db is in client VPN hence we use different credentials.\n",
    "        :param client: client name\n",
    "        :return: Client SQL engine\n",
    "        \"\"\"\n",
    "        log_message(message_type='info', action_type='connect_to_sqldb', client=clientdb_name)\n",
    "        # Fetch credentials from AWS Secrets Manager\n",
    "        if clientdb_name == 'avante':\n",
    "            sqldb_info = self.get_secrets(secret_name=f'avantedb')\n",
    "        else:\n",
    "            sqldb_info = self.get_secrets(secret_name=f'dev-sqlserver')\n",
    "            sqldb_info['dbname'] = clientdb_name\n",
    "\n",
    "        # Create DB URL\n",
    "        client_sqldb_url = URL(\n",
    "            drivername='mssql+pyodbc',\n",
    "            username=sqldb_info['username'],\n",
    "            password=sqldb_info['password'],\n",
    "            host=sqldb_info['host'],\n",
    "            port=sqldb_info['port'],\n",
    "            database=sqldb_info['dbname'],\n",
    "            query={'driver': 'ODBC Driver 17 for SQL Server'},\n",
    "        )\n",
    "        # Return Sql Engine\n",
    "        return create_engine(client_sqldb_url, echo=False)\n",
    "    \n",
    "    def verify_connectivity(self, engine):\n",
    "        assert engine.execute('select 1').fetchall() is not None  # verify connectivity\n",
    "\n",
    "\n"
   ]
  },
  {
   "cell_type": "code",
   "execution_count": null,
   "id": "ce182c0b",
   "metadata": {},
   "outputs": [],
   "source": [
    "engine = DbEngine()\n",
    "client_engine =  engine.get_postgresdb_engine()"
   ]
  },
  {
   "cell_type": "code",
   "execution_count": null,
   "id": "99a68dac",
   "metadata": {},
   "outputs": [],
   "source": [
    "client_info_dict = {\n",
    "#     'avante':['2021-06-24', '2022-01-23'],\n",
    "    'champion':['2021-07-29', '2022-01-23'],\n",
    "    'marquis':['2021-10-14', '2022-01-23'],\n",
    "    'midwest':['2021-06-24', '2022-01-23'],\n",
    "    'mmh':['2021-06-24', '2022-01-23'],\n",
    "    'phcp':['2021-10-14', '2022-01-23'],\n",
    "    'trio':['2021-10-05', '2022-02-15'],\n",
    "    'uch':['2021-06-24', '2022-01-23'],\n",
    "    'vintage':['2021-10-14', '2022-01-23'],\n",
    "    'coxsunshine':['2021-09-24', '2022-01-23'],\n",
    "    'mmi':['2021-09-27', '2022-01-23']\n",
    "    \n",
    "}\n",
    "\n",
    "# client_info_dict = {\n",
    "#     'marquis':['2021-10-01', '2022-03-31'],\n",
    "    \n",
    "# }"
   ]
  },
  {
   "cell_type": "code",
   "execution_count": null,
   "id": "25c9964e",
   "metadata": {},
   "outputs": [],
   "source": [
    "def query_generator(client,deploy_v3_start_date,deploy_v3_end_date):\n",
    "    query = f\"\"\"\n",
    "    with rh as (\n",
    "        select ht.*,\n",
    "        fa.facilityname,\n",
    "        fp.masterpatientid,\n",
    "        dp.modelid,\n",
    "        dp.predictionrank,\n",
    "        dp.censusdate,\n",
    "        dp.show_in_report,\n",
    "        fp.patientmrn,\n",
    "        fp.firstname,\n",
    "        fp.lastname\n",
    "        from public.hospital_transfers ht\n",
    "            left join public.facility_patient fp\n",
    "            on ht.client = fp.client\n",
    "            and ht.facilityid = fp.facilityid\n",
    "            and ht.patientid = fp.patientid\n",
    "                left join daily_predictions dp\n",
    "                on ht.client = dp.client\n",
    "                and ht.facilityid = dp.facilityid\n",
    "                and (date(ht.dateoftransfer) - date(dp.censusdate)) <= 10\n",
    "                and date(dp.censusdate) <= date(ht.dateoftransfer)\n",
    "                and fp.masterpatientid = dp.masterpatientid\n",
    "                left join facility fa\n",
    "                on fa.facilityid = ht.facilityid\n",
    "                and fa.client = ht.client\n",
    "        where (dp.published = True or dp.published is null)\n",
    "          and ht.dateoftransfer >= '2020-01-01 00:00:00'\n",
    "          and (dp.experiment_group = True or dp.experiment_group is null)\n",
    "          and fa.is_active=true\n",
    "          and ht.planned='No'\n",
    "          and ht.client='{client}'\n",
    "          and dp.censusdate between '{deploy_v3_start_date}' and '{deploy_v3_end_date}'\n",
    "          and (ht.outcome !='ED Visit Only' or ht.outcome is null)\n",
    "          and (lower(ht.payerdescription) NOT LIKE '%hospice%' \n",
    "          or ht.payerdescription is null)\n",
    "\n",
    "        )\n",
    "        SELECT rh.client,\n",
    "               rh.facilityid,\n",
    "               rh.facilityname,\n",
    "               rh.modelid,\n",
    "               rh.patientid,\n",
    "               rh.masterpatientid,\n",
    "               rh.patientmrn,\n",
    "               rh.lastname,\n",
    "               rh.firstname,\n",
    "               rh.censusdate,\n",
    "               rh.dateoftransfer,\n",
    "               rh.lastadmissiondate,\n",
    "               rh.planned,\n",
    "               rh.transferreason,\n",
    "               rh.otherreasonfortransfer,\n",
    "               rh.outcome,\n",
    "               rh.transferredto,\n",
    "               rh.lengthofstay,\n",
    "               rh.transferredwithin30daysofadmission,\n",
    "               rh.payertype,\n",
    "               rh.payerdescription,\n",
    "               rh.predictionrank as rank_cutoff,\n",
    "               bool_or(rh.show_in_report) as show_in_report,\n",
    "               (CASE\n",
    "                    WHEN bool_or(rh.show_in_report) IS NULL\n",
    "                        THEN 0\n",
    "                    ELSE count(*)\n",
    "                   END\n",
    "                   ) as num_predictions\n",
    "        FROM rh\n",
    "        GROUP BY rh.client, rh.facilityid, rh.facilityname, rh.modelid,\n",
    "                 rh.patientid, rh.masterpatientid, rh.patientmrn, rh.lastname, rh.firstname, rh.censusdate, rh.dateoftransfer, \n",
    "                 rh.lastadmissiondate, rh.planned, rh.transferreason, rh.otherreasonfortransfer, rh.outcome,\n",
    "                 rh.transferredto, rh.lengthofstay, rh.transferredwithin30daysofadmission, rh.payertype, rh.payerdescription,rh.predictionrank\n",
    "    \"\"\"\n",
    "    return query"
   ]
  },
  {
   "cell_type": "code",
   "execution_count": null,
   "id": "e1d9d59f",
   "metadata": {},
   "outputs": [],
   "source": [
    "combined_list = []\n",
    "for client in client_info_dict.keys():\n",
    "    deploy_v3_start_date = client_info_dict[client][0]\n",
    "    deploy_v3_end_date = client_info_dict[client][1]\n",
    "    query = query_generator(client, deploy_v3_start_date, deploy_v3_end_date)\n",
    "    base_df = pd.read_sql(text(query), con = client_engine)\n",
    "    base_df = base_df.sort_values(by=['client', 'facilityid', 'facilityname', 'masterpatientid', 'censusdate', 'dateoftransfer', 'rank_cutoff'])\n",
    "    base_df['days_difference'] = (base_df['dateoftransfer'] - base_df['censusdate']).dt.days\n",
    "    print(f'processed for client {client} --> dataframe shape {base_df.shape}')\n",
    "    combined_list.append(base_df)\n",
    "    \n"
   ]
  },
  {
   "cell_type": "code",
   "execution_count": null,
   "id": "94cc650f",
   "metadata": {},
   "outputs": [],
   "source": [
    "combined_df = pd.concat(combined_list)\n",
    "combined_df.head()"
   ]
  },
  {
   "cell_type": "code",
   "execution_count": null,
   "id": "d5d6cc7b",
   "metadata": {},
   "outputs": [],
   "source": [
    "combined_df.facilityid.nunique()"
   ]
  },
  {
   "cell_type": "code",
   "execution_count": null,
   "id": "67e9c906",
   "metadata": {},
   "outputs": [],
   "source": [
    "combined_df.shape"
   ]
  },
  {
   "cell_type": "code",
   "execution_count": null,
   "id": "46569794",
   "metadata": {},
   "outputs": [],
   "source": [
    "combined_df['days_difference'].value_counts()"
   ]
  },
  {
   "cell_type": "code",
   "execution_count": null,
   "id": "9b26d5b4",
   "metadata": {},
   "outputs": [],
   "source": [
    "#uncomment the below line for recall where LOS<=30.\n",
    "# combined_df = combined_df[combined_df['transferredwithin30daysofadmission']==1]"
   ]
  },
  {
   "cell_type": "code",
   "execution_count": null,
   "id": "cd302f7d",
   "metadata": {},
   "outputs": [],
   "source": [
    "df = combined_df.groupby(['client','show_in_report','days_difference']).size().reset_index(name='value')\n",
    "df"
   ]
  },
  {
   "cell_type": "code",
   "execution_count": null,
   "id": "7da17bbf",
   "metadata": {},
   "outputs": [],
   "source": [
    "final_list = []\n",
    "day_range = [i for i in range(10,-1,-1)]\n",
    "for client in df['client'].unique():\n",
    "    day_wise_stats = []\n",
    "    for day in day_range:\n",
    "        patient_ranked = df.loc[(df['client']==client)&(df['days_difference']==day)]['value'].sum()\n",
    "        patient_reported = df.loc[(df['client']==client)&\n",
    "           (df['days_difference']==day)&\n",
    "           (df['show_in_report']==True)]['value'].sum()\n",
    "        recall = round(((100*patient_reported)/patient_ranked),2)\n",
    "        day_wise_stats.extend([patient_reported, patient_ranked, recall])\n",
    "    final_list.append([client]+day_wise_stats)\n"
   ]
  },
  {
   "cell_type": "code",
   "execution_count": null,
   "id": "3c077a05",
   "metadata": {},
   "outputs": [],
   "source": [
    "stat_columns = []\n",
    "for day in day_range:\n",
    "    stat_columns.extend([f'd{day}_patient_reported', f'd{day}_patient_ranked',f'd{day}_recall'])\n",
    "\n"
   ]
  },
  {
   "cell_type": "code",
   "execution_count": null,
   "id": "6b0827de",
   "metadata": {},
   "outputs": [],
   "source": [
    "final_df = pd.DataFrame(final_list,columns=['client']+stat_columns)\n",
    "final_df"
   ]
  },
  {
   "cell_type": "code",
   "execution_count": null,
   "id": "a24b5056",
   "metadata": {},
   "outputs": [],
   "source": [
    "final_df = final_df[['client']+[col for col in final_df.columns if 'recall' in col]]\n",
    "transposed_df = final_df.T\n",
    "header = transposed_df.iloc[0]\n",
    "transposed_df.reset_index(drop=True)\n",
    "transposed_df.columns = header\n",
    "transposed_df.columns.name = None\n",
    "transposed_df = transposed_df.iloc[1:]\n",
    "transposed_df "
   ]
  },
  {
   "cell_type": "code",
   "execution_count": null,
   "id": "1006228f",
   "metadata": {},
   "outputs": [],
   "source": [
    "fig = px.line(transposed_df,  x = transposed_df.index, y=transposed_df.columns, markers=True)\n",
    "fig.update_layout(\n",
    "    title=f\"Recall at d-X days.\",\n",
    "    xaxis_title=\"d-X days\",\n",
    "    yaxis_title=\"Recall\",\n",
    "    legend_title=\"Clients\",   \n",
    ")\n",
    "fig.update_yaxes(rangemode=\"tozero\")\n",
    "fig.show()"
   ]
  },
  {
   "cell_type": "code",
   "execution_count": null,
   "id": "b6502fe8",
   "metadata": {},
   "outputs": [],
   "source": [
    "import os\n",
    "plotly.offline.plot(fig, filename=os.path.join('.','Recall_at_dminusX_days.html'))\n"
   ]
  }
 ],
 "metadata": {
  "kernelspec": {
   "display_name": "Python 3 (ipykernel)",
   "language": "python",
   "name": "python3"
  },
  "language_info": {
   "codemirror_mode": {
    "name": "ipython",
    "version": 3
   },
   "file_extension": ".py",
   "mimetype": "text/x-python",
   "name": "python",
   "nbconvert_exporter": "python",
   "pygments_lexer": "ipython3",
   "version": "3.8.10"
  }
 },
 "nbformat": 4,
 "nbformat_minor": 5
}
