{
 "cells": [
  {
   "cell_type": "code",
   "execution_count": 3,
   "id": "886b39e1",
   "metadata": {},
   "outputs": [],
   "source": [
    "import boto3\n",
    "from datetime import datetime\n",
    "import pandas as pd"
   ]
  },
  {
   "cell_type": "code",
   "execution_count": 14,
   "id": "0d32c9e2",
   "metadata": {},
   "outputs": [],
   "source": [
    "client = 'trio'\n",
    "env = 'dev'\n",
    "# facilities = [1,3,4,5,6,7,8,9,10,13,21] avante\n",
    "facilities = [279]  # trio\n",
    "CACHED_S3_BUCKET = 'saiva-dev-data-bucket'\n",
    "task_name = 'saiva-3-day-hosp-v2'\n",
    "prediction_start_date = '2020-12-01'\n",
    "prediction_end_date = '2021-01-31'\n",
    "\n",
    "JOB_QUEUE = 'dev-batch-queue'\n",
    "JOB_DEFINITION = 'dev-saiva-3-day-hosp-v3'\n",
    "\n",
    "saiva = boto3.session.Session()\n",
    "boto3.setup_default_session()"
   ]
  },
  {
   "cell_type": "code",
   "execution_count": 4,
   "id": "913e1a26",
   "metadata": {},
   "outputs": [],
   "source": [
    "vpn_instance = {\n",
    "    \"dev\": \"i-07197a52885c34d68\",\n",
    "    \"staging\": \"i-07d9c5587e7637960\",\n",
    "    \"prod\": \"i-0e5f01117bb50fdb1\"\n",
    "}\n",
    "\n",
    "AutoScalingGroupName = {\n",
    "    \"dev\": \"dev-Internal-ASG\",\n",
    "    \"staging\": \"staging-Internal-ASG\",\n",
    "    \"prod\": \"prod-Internal-ASG\"\n",
    "}\n",
    "\n",
    "ClusterName = {\n",
    "    \"dev\": \"dev-Internal\",\n",
    "    \"staging\": \"staging-Internal\",\n",
    "    \"prod\": \"prod-Internal\"  \n",
    "}\n",
    "\n",
    "networkConfiguration = {\n",
    "    \"dev\": {\n",
    "        'awsvpcConfiguration': {\n",
    "            'securityGroups': ['sg-008159c0210f49f96'], \n",
    "            'subnets': ['subnet-0eb41526eff222cab', 'subnet-04b6e7f553bd31909'], \n",
    "            'assignPublicIp': 'DISABLED'}},\n",
    "    \"staging\": {\n",
    "        'awsvpcConfiguration': {\n",
    "            'securityGroups': ['sg-0f8d382201750604e'], \n",
    "            'subnets': ['subnet-0b9343ae7c5712608', 'subnet-01d3901613027f4d9'], \n",
    "            'assignPublicIp': 'DISABLED'}},\n",
    "    \"prod\": {\n",
    "            \"awsvpcConfiguration\": {\n",
    "                \"securityGroups\": [\"sg-041a9f4c8e2f4fd56\"],\n",
    "                \"subnets\": [\"subnet-0c87ee56c3e4e27d1\", \"subnet-065f42df2509bd9f5\"],\n",
    "                \"assignPublicIp\": \"DISABLED\",\n",
    "            }\n",
    "        }\n",
    "}"
   ]
  },
  {
   "cell_type": "code",
   "execution_count": 5,
   "id": "062d7fa9",
   "metadata": {},
   "outputs": [],
   "source": [
    "aws_batch_client = boto3.client('batch', region_name='us-east-1')"
   ]
  },
  {
   "cell_type": "code",
   "execution_count": 18,
   "id": "dcc13d73",
   "metadata": {},
   "outputs": [
    {
     "data": {
      "text/plain": [
       "{'ResponseMetadata': {'RequestId': 'c9111e57-b1ae-4bc5-8bcd-993929c50923',\n",
       "  'HTTPStatusCode': 200,\n",
       "  'HTTPHeaders': {'date': 'Mon, 10 May 2021 09:11:42 GMT',\n",
       "   'content-type': 'application/json',\n",
       "   'content-length': '21',\n",
       "   'connection': 'keep-alive',\n",
       "   'x-amzn-requestid': 'c9111e57-b1ae-4bc5-8bcd-993929c50923',\n",
       "   'access-control-allow-origin': '*',\n",
       "   'x-amz-apigw-id': 'fGvQOGiBIAMFStg=',\n",
       "   'access-control-expose-headers': 'X-amzn-errortype,X-amzn-requestid,X-amzn-errormessage,X-amzn-trace-id,X-amz-apigw-id,date',\n",
       "   'x-amzn-trace-id': 'Root=1-6098f8ce-18f365fe570dbe2369004e91'},\n",
       "  'RetryAttempts': 0},\n",
       " 'jobSummaryList': []}"
      ]
     },
     "execution_count": 18,
     "metadata": {},
     "output_type": "execute_result"
    }
   ],
   "source": [
    "response = aws_batch_client.list_jobs(\n",
    "    jobQueue=JOB_QUEUE,\n",
    "    maxResults=100,\n",
    ")\n",
    "response"
   ]
  },
  {
   "cell_type": "code",
   "execution_count": 17,
   "id": "3e942f97",
   "metadata": {},
   "outputs": [],
   "source": [
    "def start_backfill(facility_id, prediction_start_date,prediction_end_date):\n",
    "    response = aws_batch_client.submit_job(\n",
    "        jobName='job1',\n",
    "        jobQueue=JOB_QUEUE,\n",
    "        jobDefinition=JOB_DEFINITION,\n",
    "        containerOverrides={\n",
    "            'command': [\n",
    "                \"/bin/bash\",\n",
    "                \"-c\",\n",
    "                f\"python /src/run_backfill.py --client {client} --facilityids '[{facility_id}]' --prediction_start_date '{prediction_start_date}' --prediction_end_date '{prediction_end_date}' --s3-bucket {CACHED_S3_BUCKET} --replace_existing_predictions True \",    \n",
    "            ],\n",
    "        }\n",
    "    )\n",
    "    return response"
   ]
  },
  {
   "cell_type": "code",
   "execution_count": 19,
   "id": "9dfe2f77",
   "metadata": {},
   "outputs": [
    {
     "name": "stdout",
     "output_type": "stream",
     "text": [
      "2021-05-10 09:11:46.785693\n"
     ]
    },
    {
     "data": {
      "text/plain": [
       "[{'ResponseMetadata': {'RequestId': '332b0399-130e-4ff2-95cc-aa1a750af38c',\n",
       "   'HTTPStatusCode': 200,\n",
       "   'HTTPHeaders': {'date': 'Mon, 10 May 2021 09:11:46 GMT',\n",
       "    'content-type': 'application/json',\n",
       "    'content-length': '154',\n",
       "    'connection': 'keep-alive',\n",
       "    'x-amzn-requestid': '332b0399-130e-4ff2-95cc-aa1a750af38c',\n",
       "    'access-control-allow-origin': '*',\n",
       "    'x-amz-apigw-id': 'fGvQ8FkcIAMFwIw=',\n",
       "    'access-control-expose-headers': 'X-amzn-errortype,X-amzn-requestid,X-amzn-errormessage,X-amzn-trace-id,X-amz-apigw-id,date',\n",
       "    'x-amzn-trace-id': 'Root=1-6098f8d2-64ea98ce49d0595b3a885f51'},\n",
       "   'RetryAttempts': 0},\n",
       "  'jobName': 'job1',\n",
       "  'jobId': '75db229a-d100-4077-8174-621f32a33200'}]"
      ]
     },
     "execution_count": 19,
     "metadata": {},
     "output_type": "execute_result"
    }
   ],
   "source": [
    "print(datetime.now())\n",
    "results = [start_backfill(\n",
    "    facility_id=facility, \n",
    "    prediction_start_date=prediction_start_date, \n",
    "    prediction_end_date=prediction_end_date) for facility in facilities]\n",
    "results"
   ]
  },
  {
   "cell_type": "code",
   "execution_count": null,
   "id": "c8581773",
   "metadata": {},
   "outputs": [],
   "source": []
  }
 ],
 "metadata": {
  "kernelspec": {
   "display_name": "Python 3",
   "language": "python",
   "name": "python3"
  },
  "language_info": {
   "codemirror_mode": {
    "name": "ipython",
    "version": 3
   },
   "file_extension": ".py",
   "mimetype": "text/x-python",
   "name": "python",
   "nbconvert_exporter": "python",
   "pygments_lexer": "ipython3",
   "version": "3.7.9"
  }
 },
 "nbformat": 4,
 "nbformat_minor": 5
}
