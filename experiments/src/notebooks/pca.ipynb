{
 "cells": [
  {
   "cell_type": "code",
   "execution_count": null,
   "id": "0e8e7eb7",
   "metadata": {},
   "outputs": [],
   "source": [
    "import pandas as pd\n",
    "from pathlib import Path\n",
    "from sklearn.preprocessing import StandardScaler\n",
    "scalar = StandardScaler()\n",
    "from sklearn.decomposition import PCA\n",
    "\n",
    "!pip install matplotlib --quiet\n",
    "import matplotlib.pyplot as plt\n",
    "%matplotlib inline\n",
    "\n",
    "!pip install plotly --quiet\n",
    "import plotly.express as px"
   ]
  },
  {
   "cell_type": "code",
   "execution_count": null,
   "id": "0a6dbc93",
   "metadata": {},
   "outputs": [],
   "source": [
    "notetypes = ['eMAR-Medication Administration Note',\n",
    " 'General Note',\n",
    " 'Pharmacy Review',\n",
    " 'COVID-19 Screening note',\n",
    " 'SBAR - Change of Condition',\n",
    " 'Physician Note',\n",
    " 'Behavior Charting',\n",
    " 'Admission Note',\n",
    " 'eMar - Shift Level Administration Note',\n",
    " 'Weight Note',\n",
    " 'Alert Note',\n",
    " 'Care Plan Note',\n",
    " 'Care Management Strategy',\n",
    " 'Weekly Care Management Meeting']"
   ]
  },
  {
   "cell_type": "code",
   "execution_count": null,
   "id": "4722ebfa",
   "metadata": {},
   "outputs": [],
   "source": [
    "processed_path = Path('/data/processed')\n",
    "processed_path.mkdir(parents=True, exist_ok=True)\n",
    "\n"
   ]
  },
  {
   "cell_type": "code",
   "execution_count": null,
   "id": "8bb71679",
   "metadata": {},
   "outputs": [],
   "source": [
    "for notetype in notetypes:\n",
    "    final = pd.read_parquet(processed_path/f'02a-result_{notetype}.parquet')\n",
    "    output_hosp_cols = [col for col in final.columns if 'hosp_target_3_day_hosp' in col and '_target_' in col]\n",
    "    final[output_hosp_cols] = final[output_hosp_cols].fillna(False)\n",
    "\n",
    "    notes_col = [ col for col in final.columns if 'scispacy_' in col]\n",
    "    final = final.dropna(subset=notes_col)\n",
    "    print('notes_col length--> ',len(notes_col))\n",
    "\n",
    "    embeddings_col = [ col for col in final.columns if 'scispacy_' in col and '_ewm' not in col and '_unit_' not in col]\n",
    "    print('embeddings_col length--> ',len(embeddings_col))\n",
    "\n",
    "    ewm_col = [ col for col in final.columns if '_ewm' in col]\n",
    "    print('ewm_col length--> ',len(ewm_col))\n",
    "\n",
    "    unit_col = [ col for col in final.columns if '_unit_' in col]\n",
    "    print('unit_col length--> ',len(ewm_col))\n",
    "    df = final[embeddings_col+output_hosp_cols]\n",
    "    print('df.shape--> ',df.shape)\n",
    "    print('===sampling===')\n",
    "    df_sample = df.sample(n=10000, random_state=1)\n",
    "    print('df shape after sampling--> ',df_sample.shape)\n",
    "    print('====sampled hosp_target_3_day_hosp value_counts====')\n",
    "    print(df_sample['hosp_target_3_day_hosp'].value_counts())\n",
    "    X = df_sample.drop('hosp_target_3_day_hosp',axis=1)\n",
    "    Y = df_sample['hosp_target_3_day_hosp']\n",
    "    # scaled_data = scalar.fit_transform(X)\n",
    "    pca = PCA(n_components = 3)\n",
    "    x_pca = pca.fit_transform(X)\n",
    "    x_pca = pd.DataFrame(x_pca)\n",
    "    x_pca.columns = ['x_pca_'+str(col) for col in x_pca.columns]\n",
    "    fig = px.scatter_3d(x=x_pca['x_pca_0'], y=x_pca['x_pca_1'], z=x_pca['x_pca_2'],\n",
    "              color=Y,title=notetype)\n",
    "    fig.show()"
   ]
  },
  {
   "cell_type": "code",
   "execution_count": null,
   "id": "8746da7c",
   "metadata": {},
   "outputs": [],
   "source": [
    "# !pip install seaborn --quiet\n",
    "# import matplotlib.pyplot as plt\n",
    "# import pandas as pd\n",
    "# import seaborn as sns\n",
    "# from mpl_toolkits.mplot3d import Axes3D\n",
    "\n",
    "# sns.set(style = \"darkgrid\")\n",
    "\n",
    "# fig = plt.figure()\n",
    "# ax = fig.add_subplot(111, projection = '3d')\n",
    "\n",
    "# x = x_pca['x_pca_0']\n",
    "# y = x_pca['x_pca_1']\n",
    "# z = x_pca['x_pca_2']\n",
    "\n",
    "# ax.set_xlabel(\"x_pca_0\")\n",
    "# ax.set_ylabel(\"x_pca_1\")\n",
    "# ax.set_zlabel(\"x_pca_2\")\n",
    "\n",
    "# ax.scatter(x, y, z, c=Y)\n",
    "\n",
    "# plt.show()"
   ]
  },
  {
   "cell_type": "code",
   "execution_count": null,
   "id": "ed32348e",
   "metadata": {},
   "outputs": [],
   "source": [
    "# # giving a larger plot\n",
    "# plt.figure(figsize =(8, 6))\n",
    "  \n",
    "# plt.scatter(x_pca['x_pca_0'], x_pca['x_pca_1'], c = Y)\n",
    "  \n",
    "# # labeling x and y axes\n",
    "# plt.xlabel('First Principal Component')\n",
    "# plt.ylabel('Second Principal Component')"
   ]
  }
 ],
 "metadata": {
  "kernelspec": {
   "display_name": "Python 3",
   "language": "python",
   "name": "python3"
  },
  "language_info": {
   "codemirror_mode": {
    "name": "ipython",
    "version": 3
   },
   "file_extension": ".py",
   "mimetype": "text/x-python",
   "name": "python",
   "nbconvert_exporter": "python",
   "pygments_lexer": "ipython3",
   "version": "3.7.9"
  }
 },
 "nbformat": 4,
 "nbformat_minor": 5
}
