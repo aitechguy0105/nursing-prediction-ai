{
 "cells": [
  {
   "cell_type": "code",
   "execution_count": 1,
   "id": "714b545e",
   "metadata": {},
   "outputs": [],
   "source": [
    "import sys\n",
    "import os\n",
    "import pandas as pd\n",
    "sys.path.insert(0, '/src')\n",
    "from eliot import to_file\n",
    "\n",
    "import json\n",
    "\n",
    "import boto3\n",
    "from eliot import log_message\n",
    "from sqlalchemy import create_engine\n",
    "from sqlalchemy.engine.url import URL\n",
    "\n",
    "import numpy as np\n",
    "to_file(sys.stdout)"
   ]
  },
  {
   "cell_type": "code",
   "execution_count": 2,
   "id": "31da4bc0",
   "metadata": {},
   "outputs": [],
   "source": [
    "pd.set_option('display.max_rows', None)\n",
    "pd.set_option('display.max_columns', None)\n",
    "pd.set_option('display.width', None)\n",
    "pd.set_option('display.max_colwidth', -1)"
   ]
  },
  {
   "cell_type": "code",
   "execution_count": 3,
   "id": "59f68e14",
   "metadata": {},
   "outputs": [],
   "source": [
    "!pip install plotly-express --quiet\n",
    "!pip install matplotlib --quiet\n",
    "!pip install seaborn --quiet"
   ]
  },
  {
   "cell_type": "code",
   "execution_count": 4,
   "id": "e198cb0a",
   "metadata": {},
   "outputs": [],
   "source": [
    "import matplotlib.patches as mpatches\n",
    "import plotly.express as px\n",
    "import plotly\n",
    "import matplotlib.pyplot as plt\n",
    "import seaborn as sns"
   ]
  },
  {
   "cell_type": "code",
   "execution_count": 5,
   "id": "4ffa3e31",
   "metadata": {},
   "outputs": [],
   "source": [
    "env = 'prod'"
   ]
  },
  {
   "cell_type": "code",
   "execution_count": 6,
   "id": "14587daf",
   "metadata": {},
   "outputs": [],
   "source": [
    "class DbEngine(object):\n",
    "    \"\"\"\n",
    "    Fetch the credentials from AWS Secrets Manager.\n",
    "    :return: DB connection to the respective database\n",
    "    \"\"\"\n",
    "\n",
    "    def __init__(self, region_name='us-east-1'):\n",
    "        self.session = boto3.session.Session()\n",
    "        self.secrets_client = self.session.client(\n",
    "            service_name='secretsmanager',\n",
    "            region_name=region_name\n",
    "        )\n",
    "\n",
    "    def get_secrets(self, secret_name):\n",
    "        \"\"\"\n",
    "        :return: Based on the environment get secrets for\n",
    "        Client SQL db & Postgres Saivadb\n",
    "        \"\"\"\n",
    "        log_message(message_type='info', action_type='get_secrets', secret_name=secret_name)\n",
    "        db_info = json.loads(\n",
    "            self.secrets_client.get_secret_value(SecretId=secret_name)[\n",
    "                'SecretString'\n",
    "            ]\n",
    "        )\n",
    "        return db_info\n",
    "\n",
    "    def get_postgresdb_engine(self):\n",
    "        \"\"\"\n",
    "        Based on the environment connects to the respective database\n",
    "        :param client: client name\n",
    "        :return: Saivadb Postgres engine\n",
    "        \"\"\"\n",
    "        log_message(message_type='info', action_type='connect_to_postgresdb', client='SaivaDB')\n",
    "        # Fetch credentials from AWS Secrets Manager\n",
    "        postgresdb_info = self.get_secrets(secret_name=f'{env}-saivadb')\n",
    "        # Create DB URL\n",
    "        saivadb_url = URL(\n",
    "            drivername='postgresql',\n",
    "            username=postgresdb_info['username'],\n",
    "            password=postgresdb_info['password'],\n",
    "            host=postgresdb_info['host'],\n",
    "            port=postgresdb_info['port'],\n",
    "            database=postgresdb_info['dbname'],\n",
    "        )\n",
    "        # Return Postgres Engine\n",
    "        return create_engine(saivadb_url, echo=False)\n",
    "    \n",
    "    def get_sqldb_engine(self, clientdb_name):\n",
    "        \"\"\"\n",
    "        Based on the environment connects to the respective database.\n",
    "        Avante db is in client VPN hence we use different credentials.\n",
    "        :param client: client name\n",
    "        :return: Client SQL engine\n",
    "        \"\"\"\n",
    "        log_message(message_type='info', action_type='connect_to_sqldb', client=clientdb_name)\n",
    "        # Fetch credentials from AWS Secrets Manager\n",
    "        if clientdb_name == 'avante':\n",
    "            sqldb_info = self.get_secrets(secret_name=f'avantedb')\n",
    "        else:\n",
    "            sqldb_info = self.get_secrets(secret_name=f'{env}-sqlserver')\n",
    "            sqldb_info['dbname'] = clientdb_name\n",
    "\n",
    "        # Create DB URL\n",
    "        client_sqldb_url = URL(\n",
    "            drivername='mssql+pyodbc',\n",
    "            username=sqldb_info['username'],\n",
    "            password=sqldb_info['password'],\n",
    "            host=sqldb_info['host'],\n",
    "            port=sqldb_info['port'],\n",
    "            database=sqldb_info['dbname'],\n",
    "            query={'driver': 'ODBC Driver 17 for SQL Server'},\n",
    "        )\n",
    "        # Return Sql Engine\n",
    "        return create_engine(client_sqldb_url, echo=False)\n",
    "    \n",
    "    def verify_connectivity(self, engine):\n",
    "        assert engine.execute('select 1').fetchall() is not None  # verify connectivity\n",
    "\n"
   ]
  },
  {
   "cell_type": "code",
   "execution_count": 7,
   "id": "226108fd",
   "metadata": {},
   "outputs": [
    {
     "name": "stdout",
     "output_type": "stream",
     "text": [
      "{\"action_type\": \"connect_to_postgresdb\", \"client\": \"SaivaDB\", \"timestamp\": 1639904619.44818, \"task_uuid\": \"ec31aa5b-1eb6-4e8a-8ee4-4e437cc09714\", \"task_level\": [1], \"message_type\": \"info\"}\n",
      "{\"action_type\": \"get_secrets\", \"secret_name\": \"prod-saivadb\", \"timestamp\": 1639904619.4490638, \"task_uuid\": \"4ae64cf2-57f6-40b9-90ed-68104cc4ca8d\", \"task_level\": [1], \"message_type\": \"info\"}\n"
     ]
    }
   ],
   "source": [
    "engine = DbEngine()\n",
    "saiva_engine = engine.get_postgresdb_engine()"
   ]
  },
  {
   "cell_type": "code",
   "execution_count": 8,
   "id": "50c102d1",
   "metadata": {},
   "outputs": [
    {
     "data": {
      "text/html": [
       "<div>\n",
       "<style scoped>\n",
       "    .dataframe tbody tr th:only-of-type {\n",
       "        vertical-align: middle;\n",
       "    }\n",
       "\n",
       "    .dataframe tbody tr th {\n",
       "        vertical-align: top;\n",
       "    }\n",
       "\n",
       "    .dataframe thead th {\n",
       "        text-align: right;\n",
       "    }\n",
       "</style>\n",
       "<table border=\"1\" class=\"dataframe\">\n",
       "  <thead>\n",
       "    <tr style=\"text-align: right;\">\n",
       "      <th></th>\n",
       "      <th>client</th>\n",
       "      <th>traintune_start_date</th>\n",
       "      <th>traintune_end_date</th>\n",
       "      <th>v1_deploy_date</th>\n",
       "      <th>v1_rollback_date</th>\n",
       "      <th>v3_deploy_date</th>\n",
       "      <th>testable_start_date</th>\n",
       "      <th>testable_end_date</th>\n",
       "    </tr>\n",
       "  </thead>\n",
       "  <tbody>\n",
       "    <tr>\n",
       "      <th>0</th>\n",
       "      <td>avante</td>\n",
       "      <td>2018-11-01</td>\n",
       "      <td>2021-04-30</td>\n",
       "      <td>2019-06-26</td>\n",
       "      <td>2021-06-23</td>\n",
       "      <td>2021-06-24</td>\n",
       "      <td>2018-01-01</td>\n",
       "      <td>2018-10-31</td>\n",
       "    </tr>\n",
       "    <tr>\n",
       "      <th>1</th>\n",
       "      <td>champion</td>\n",
       "      <td>2018-05-01</td>\n",
       "      <td>2021-04-30</td>\n",
       "      <td>2021-07-19</td>\n",
       "      <td>2021-07-28</td>\n",
       "      <td>2021-07-29</td>\n",
       "      <td>2018-01-01</td>\n",
       "      <td>2018-04-30</td>\n",
       "    </tr>\n",
       "    <tr>\n",
       "      <th>2</th>\n",
       "      <td>marquis</td>\n",
       "      <td>2020-07-01</td>\n",
       "      <td>2021-09-30</td>\n",
       "      <td>2020-11-25</td>\n",
       "      <td>2021-10-13</td>\n",
       "      <td>2021-10-14</td>\n",
       "      <td>2018-01-01</td>\n",
       "      <td>2020-06-30</td>\n",
       "    </tr>\n",
       "    <tr>\n",
       "      <th>3</th>\n",
       "      <td>midwest</td>\n",
       "      <td>2018-01-01</td>\n",
       "      <td>2021-04-30</td>\n",
       "      <td>2021-04-22</td>\n",
       "      <td>2021-06-23</td>\n",
       "      <td>2021-06-24</td>\n",
       "      <td>2018-01-01</td>\n",
       "      <td>2017-12-31</td>\n",
       "    </tr>\n",
       "    <tr>\n",
       "      <th>4</th>\n",
       "      <td>mmh</td>\n",
       "      <td>2019-09-01</td>\n",
       "      <td>2021-09-15</td>\n",
       "      <td>2020-11-22</td>\n",
       "      <td>2021-10-06</td>\n",
       "      <td>2021-10-07</td>\n",
       "      <td>2018-01-01</td>\n",
       "      <td>2019-08-31</td>\n",
       "    </tr>\n",
       "    <tr>\n",
       "      <th>5</th>\n",
       "      <td>phcp</td>\n",
       "      <td>2018-09-01</td>\n",
       "      <td>2021-09-30</td>\n",
       "      <td>2020-12-31</td>\n",
       "      <td>2021-10-13</td>\n",
       "      <td>2021-10-14</td>\n",
       "      <td>2018-01-01</td>\n",
       "      <td>2018-08-31</td>\n",
       "    </tr>\n",
       "    <tr>\n",
       "      <th>6</th>\n",
       "      <td>trio</td>\n",
       "      <td>2019-09-01</td>\n",
       "      <td>2021-09-15</td>\n",
       "      <td>2020-05-08</td>\n",
       "      <td>2021-10-04</td>\n",
       "      <td>2021-10-05</td>\n",
       "      <td>2018-01-01</td>\n",
       "      <td>2019-08-31</td>\n",
       "    </tr>\n",
       "    <tr>\n",
       "      <th>7</th>\n",
       "      <td>uch</td>\n",
       "      <td>2018-05-01</td>\n",
       "      <td>2021-04-30</td>\n",
       "      <td>2021-06-14</td>\n",
       "      <td>2021-06-23</td>\n",
       "      <td>2021-06-24</td>\n",
       "      <td>2018-01-01</td>\n",
       "      <td>2018-04-30</td>\n",
       "    </tr>\n",
       "    <tr>\n",
       "      <th>8</th>\n",
       "      <td>vintage</td>\n",
       "      <td>2018-09-01</td>\n",
       "      <td>2021-09-30</td>\n",
       "      <td>2020-12-31</td>\n",
       "      <td>2021-10-13</td>\n",
       "      <td>2021-10-14</td>\n",
       "      <td>2018-01-01</td>\n",
       "      <td>2018-08-31</td>\n",
       "    </tr>\n",
       "  </tbody>\n",
       "</table>\n",
       "</div>"
      ],
      "text/plain": [
       "     client traintune_start_date traintune_end_date v1_deploy_date  \\\n",
       "0  avante    2018-11-01           2021-04-30         2019-06-26      \n",
       "1  champion  2018-05-01           2021-04-30         2021-07-19      \n",
       "2  marquis   2020-07-01           2021-09-30         2020-11-25      \n",
       "3  midwest   2018-01-01           2021-04-30         2021-04-22      \n",
       "4  mmh       2019-09-01           2021-09-15         2020-11-22      \n",
       "5  phcp      2018-09-01           2021-09-30         2020-12-31      \n",
       "6  trio      2019-09-01           2021-09-15         2020-05-08      \n",
       "7  uch       2018-05-01           2021-04-30         2021-06-14      \n",
       "8  vintage   2018-09-01           2021-09-30         2020-12-31      \n",
       "\n",
       "  v1_rollback_date v3_deploy_date testable_start_date testable_end_date  \n",
       "0  2021-06-23       2021-06-24     2018-01-01          2018-10-31        \n",
       "1  2021-07-28       2021-07-29     2018-01-01          2018-04-30        \n",
       "2  2021-10-13       2021-10-14     2018-01-01          2020-06-30        \n",
       "3  2021-06-23       2021-06-24     2018-01-01          2017-12-31        \n",
       "4  2021-10-06       2021-10-07     2018-01-01          2019-08-31        \n",
       "5  2021-10-13       2021-10-14     2018-01-01          2018-08-31        \n",
       "6  2021-10-04       2021-10-05     2018-01-01          2019-08-31        \n",
       "7  2021-06-23       2021-06-24     2018-01-01          2018-04-30        \n",
       "8  2021-10-13       2021-10-14     2018-01-01          2018-08-31        "
      ]
     },
     "execution_count": 8,
     "metadata": {},
     "output_type": "execute_result"
    }
   ],
   "source": [
    "query = f\"\"\"\n",
    "SELECT\n",
    "\tfc.client,\n",
    "\tmin(mm.training_start_date) AS traintune_start_date,\n",
    "\tGREATEST(max(mm.validation_end_date), max(mm.test_end_date)) AS traintune_end_date,\n",
    "\tmin(facility_golive_date) AS v1_deploy_date,\n",
    "\tmin(model_golive_date) - INTERVAL '1 DAY' AS v1_rollback_date,\n",
    "\tmin(model_golive_date) AS v3_deploy_date,\n",
    "    TO_DATE('20180101','YYYYMMDD') as testable_start_date,\n",
    "    min(mm.training_start_date) - INTERVAL '1 DAY' AS testable_end_date\n",
    "FROM\n",
    "\tfacility_model_config fc\n",
    "\tJOIN model_metadata mm ON fc.modelid = mm.modelid\n",
    "WHERE\n",
    "\tfc.deleted_at IS NULL\n",
    "\tAND fc.active_facility = TRUE\n",
    "    AND fc.client NOT IN ('kopa', 'mmi', 'coxsunshine')\n",
    "GROUP BY\n",
    "\tfc.client\n",
    "    order by fc.client\n",
    "\"\"\"\n",
    "df = pd.read_sql(query, con=saiva_engine)\n",
    "df.testable_end_date = df.testable_end_date.apply(lambda x: x.date())\n",
    "df.v1_rollback_date = df.v1_rollback_date.apply(lambda x: x.date())\n",
    "df"
   ]
  },
  {
   "cell_type": "code",
   "execution_count": 41,
   "id": "0c5c3d52",
   "metadata": {},
   "outputs": [
    {
     "data": {
      "text/html": [
       "<div>\n",
       "<style scoped>\n",
       "    .dataframe tbody tr th:only-of-type {\n",
       "        vertical-align: middle;\n",
       "    }\n",
       "\n",
       "    .dataframe tbody tr th {\n",
       "        vertical-align: top;\n",
       "    }\n",
       "\n",
       "    .dataframe thead th {\n",
       "        text-align: right;\n",
       "    }\n",
       "</style>\n",
       "<table border=\"1\" class=\"dataframe\">\n",
       "  <thead>\n",
       "    <tr style=\"text-align: right;\">\n",
       "      <th></th>\n",
       "      <th>client</th>\n",
       "      <th>traintune_start_date</th>\n",
       "      <th>traintune_end_date</th>\n",
       "      <th>v4_deploy_date</th>\n",
       "      <th>testable_start_date</th>\n",
       "      <th>testable_end_date</th>\n",
       "    </tr>\n",
       "  </thead>\n",
       "  <tbody>\n",
       "    <tr>\n",
       "      <th>0</th>\n",
       "      <td>coxsunshine</td>\n",
       "      <td>2020-07-01</td>\n",
       "      <td>2021-07-31</td>\n",
       "      <td>2021-09-24</td>\n",
       "      <td>2020-07-01</td>\n",
       "      <td>2020-06-30</td>\n",
       "    </tr>\n",
       "    <tr>\n",
       "      <th>1</th>\n",
       "      <td>mmi</td>\n",
       "      <td>2020-07-01</td>\n",
       "      <td>2021-07-31</td>\n",
       "      <td>2021-09-27</td>\n",
       "      <td>2020-07-01</td>\n",
       "      <td>2020-06-30</td>\n",
       "    </tr>\n",
       "  </tbody>\n",
       "</table>\n",
       "</div>"
      ],
      "text/plain": [
       "        client traintune_start_date traintune_end_date v4_deploy_date  \\\n",
       "0  coxsunshine  2020-07-01           2021-07-31         2021-09-24      \n",
       "1  mmi          2020-07-01           2021-07-31         2021-09-27      \n",
       "\n",
       "  testable_start_date testable_end_date  \n",
       "0  2020-07-01          2020-06-30        \n",
       "1  2020-07-01          2020-06-30        "
      ]
     },
     "execution_count": 41,
     "metadata": {},
     "output_type": "execute_result"
    }
   ],
   "source": [
    "query = f\"\"\"\n",
    "SELECT\n",
    "\tfc.client,\n",
    "\tmin(mm.training_start_date) AS traintune_start_date,\n",
    "\tGREATEST(max(mm.validation_end_date), max(mm.test_end_date)) AS traintune_end_date,\n",
    "\tmin(model_golive_date) AS v4_deploy_date,\n",
    "    TO_DATE('20200701','YYYYMMDD') as testable_start_date,\n",
    "    min(mm.training_start_date) - INTERVAL '1 DAY' AS testable_end_date\n",
    "FROM\n",
    "\tfacility_model_config fc\n",
    "\tJOIN model_metadata mm ON fc.modelid = mm.modelid\n",
    "WHERE\n",
    "\tfc.deleted_at IS NULL\n",
    "\tAND fc.active_facility = TRUE\n",
    "    AND fc.client IN ('mmi', 'coxsunshine')\n",
    "GROUP BY\n",
    "\tfc.client\n",
    "    order by fc.client\n",
    "\"\"\"\n",
    "scraped_df = pd.read_sql(query, con=saiva_engine)\n",
    "scraped_df.testable_end_date = scraped_df.testable_end_date.apply(lambda x: x.date())\n",
    "scraped_df"
   ]
  },
  {
   "cell_type": "code",
   "execution_count": 42,
   "id": "5257287a",
   "metadata": {},
   "outputs": [],
   "source": [
    "traintune_df = df[['client', 'traintune_start_date', 'traintune_end_date']].copy()\n",
    "traintune_df.rename(columns = {'traintune_start_date':'Start', 'traintune_end_date':'Finish'}, inplace = True)\n",
    "traintune_df['Task'] = traintune_df['client'] + '-v3-traintune'"
   ]
  },
  {
   "cell_type": "code",
   "execution_count": 43,
   "id": "4b294e6a",
   "metadata": {},
   "outputs": [],
   "source": [
    "v1_deploy_df = df[['client', 'v1_deploy_date', 'v1_rollback_date']].copy()\n",
    "v1_deploy_df.rename(columns = {'v1_deploy_date':'Start', 'v1_rollback_date':'Finish'}, inplace = True)\n",
    "v1_deploy_df['Task'] = v1_deploy_df['client'] + '-v1-deploy'"
   ]
  },
  {
   "cell_type": "code",
   "execution_count": 44,
   "id": "bc43a48f",
   "metadata": {},
   "outputs": [],
   "source": [
    "v3_deploy_df = df[['client', 'v3_deploy_date']].copy()\n",
    "v3_deploy_df['v3_rollback_date'] = pd.datetime.now().date()\n",
    "v3_deploy_df.rename(columns = {'v3_deploy_date':'Start', 'v3_rollback_date':'Finish'}, inplace = True)\n",
    "v3_deploy_df['Task'] = v3_deploy_df['client'] + '-v3-deploy'"
   ]
  },
  {
   "cell_type": "code",
   "execution_count": 45,
   "id": "e516e7fb",
   "metadata": {},
   "outputs": [],
   "source": [
    "v3_testable_df = df[['client', 'testable_start_date', 'testable_end_date']].copy()\n",
    "v3_testable_df.rename(columns = {'testable_start_date':'Start', 'testable_end_date':'Finish'}, inplace = True)\n",
    "v3_testable_df['Task'] = v3_testable_df['client'] + '-v3-testable'"
   ]
  },
  {
   "cell_type": "code",
   "execution_count": 46,
   "id": "468fc4f0",
   "metadata": {},
   "outputs": [],
   "source": [
    "scraped_traintune_df = scraped_df[['client', 'traintune_start_date', 'traintune_end_date']].copy()\n",
    "scraped_traintune_df.rename(columns = {'traintune_start_date':'Start', 'traintune_end_date':'Finish'}, inplace = True)\n",
    "scraped_traintune_df['Task'] = scraped_traintune_df['client'] + '-v4-traintune'"
   ]
  },
  {
   "cell_type": "code",
   "execution_count": 47,
   "id": "7fc48b02",
   "metadata": {},
   "outputs": [],
   "source": [
    "scraped_v4_testable_df = scraped_df[['client', 'testable_start_date', 'testable_end_date']].copy()\n",
    "scraped_v4_testable_df.rename(columns = {'testable_start_date':'Start', 'testable_end_date':'Finish'}, inplace = True)\n",
    "scraped_v4_testable_df['Task'] = scraped_v4_testable_df['client'] + '-v4-testable'"
   ]
  },
  {
   "cell_type": "code",
   "execution_count": 48,
   "id": "12615bf0",
   "metadata": {},
   "outputs": [],
   "source": [
    "scraped_v4_deploy_df = scraped_df[['client', 'v4_deploy_date']].copy()\n",
    "scraped_v4_deploy_df['v4_rollback_date'] = pd.datetime.now().date()\n",
    "scraped_v4_deploy_df.rename(columns = {'v4_deploy_date':'Start', 'v4_rollback_date':'Finish'}, inplace = True)\n",
    "scraped_v4_deploy_df['Task'] = scraped_v4_deploy_df['client'] + '-v4-deploy'"
   ]
  },
  {
   "cell_type": "code",
   "execution_count": 49,
   "id": "cd03317f",
   "metadata": {},
   "outputs": [],
   "source": [
    "merged_df = pd.concat([v3_testable_df, traintune_df, v1_deploy_df, v3_deploy_df, scraped_v4_testable_df, scraped_traintune_df, scraped_v4_deploy_df], axis=0)"
   ]
  },
  {
   "cell_type": "code",
   "execution_count": 55,
   "id": "dafab0c8",
   "metadata": {},
   "outputs": [],
   "source": [
    "\n",
    "annots = []\n",
    "for idx in range(len(df)):\n",
    "    annot1 = {\n",
    "        'x': v3_testable_df['Start'].iloc[idx] + (v3_testable_df['Finish'].iloc[idx] - v3_testable_df['Start'].iloc[idx])/2,\n",
    "        'y': idx*4,\n",
    "        'text': 'v3-testable',\n",
    "        'showarrow': False,\n",
    "        'font': {'color': 'black'}\n",
    "    }\n",
    "    annot2 = {\n",
    "        'x': traintune_df['Start'].iloc[idx] + (traintune_df['Finish'].iloc[idx] - traintune_df['Start'].iloc[idx])/2,\n",
    "        'y': (idx*4)+1,\n",
    "        'text': 'v3-traintune',\n",
    "        'showarrow': False,\n",
    "        'font': {'color': 'black'}\n",
    "    }\n",
    "    annot3 = {\n",
    "        'x': v1_deploy_df['Start'].iloc[idx] + (v1_deploy_df['Finish'].iloc[idx] - v1_deploy_df['Start'].iloc[idx])/2,\n",
    "        'y': (idx*4)+2,\n",
    "        'text': 'v1-dpy',\n",
    "        'showarrow': False,\n",
    "        'font': {'color': 'black'}\n",
    "    }\n",
    "    annot4 = {\n",
    "        'x': v3_deploy_df['Start'].iloc[idx] + (v3_deploy_df['Finish'].iloc[idx] - v3_deploy_df['Start'].iloc[idx])/2,\n",
    "        'y': (idx*4)+3,\n",
    "        'text': 'v3-dpy',\n",
    "        'showarrow': False,\n",
    "        'font': {'color': 'black'}\n",
    "    }\n",
    "    annots.extend([annot1, annot2, annot3, annot4])\n",
    "\n",
    "for idx in range(len(scraped_df)):\n",
    "    annot1 = {\n",
    "        'x': scraped_v4_testable_df['Start'].iloc[idx] + (scraped_v4_testable_df['Finish'].iloc[idx] - scraped_v4_testable_df['Start'].iloc[idx])/2,\n",
    "        'y': (len(df)*4) + idx*3,\n",
    "        'text': 'v4-testable',\n",
    "        'showarrow': False,\n",
    "        'font': {'color': 'black'}\n",
    "    }\n",
    "    annot2 = {\n",
    "        'x': scraped_traintune_df['Start'].iloc[idx] + (scraped_traintune_df['Finish'].iloc[idx] - scraped_traintune_df['Start'].iloc[idx])/2,\n",
    "        'y': (len(df)*4) + (idx*3)+1,\n",
    "        'text': 'v4-traintune',\n",
    "        'showarrow': False,\n",
    "        'font': {'color': 'black'}\n",
    "    }\n",
    "    annot3 = {\n",
    "        'x': scraped_v4_deploy_df['Start'].iloc[idx] + (scraped_v4_deploy_df['Finish'].iloc[idx] - scraped_v4_deploy_df['Start'].iloc[idx])/2,\n",
    "        'y': (len(df)*4) + (idx*3)+2,\n",
    "        'text': 'v4-dpy',\n",
    "        'showarrow': False,\n",
    "        'font': {'color': 'black'}\n",
    "    }\n",
    "    annots.extend([annot1, annot2, annot3])"
   ]
  },
  {
   "cell_type": "code",
   "execution_count": 58,
   "id": "375206fa",
   "metadata": {},
   "outputs": [
    {
     "data": {
      "application/vnd.plotly.v1+json": {
       "config": {
        "plotlyServerURL": "https://plot.ly"
       },
       "data": [
        {
         "alignmentgroup": "True",
         "base": [
          "2018-01-01",
          "2018-11-01",
          "2019-06-26",
          "2021-06-24"
         ],
         "hovertemplate": "client=avante<br>Start=%{base}<br>Finish=%{x}<br>Task=%{y}<extra></extra>",
         "legendgroup": "avante",
         "marker": {
          "color": "#636efa"
         },
         "name": "avante",
         "offsetgroup": "avante",
         "orientation": "h",
         "showlegend": true,
         "textposition": "auto",
         "type": "bar",
         "x": [
          26179200000,
          78710400000,
          62899200000,
          15379200000
         ],
         "xaxis": "x",
         "y": [
          "avante-v3-testable",
          "avante-v3-traintune",
          "avante-v1-deploy",
          "avante-v3-deploy"
         ],
         "yaxis": "y"
        },
        {
         "alignmentgroup": "True",
         "base": [
          "2018-01-01",
          "2018-05-01",
          "2021-07-19",
          "2021-07-29"
         ],
         "hovertemplate": "client=champion<br>Start=%{base}<br>Finish=%{x}<br>Task=%{y}<extra></extra>",
         "legendgroup": "champion",
         "marker": {
          "color": "#EF553B"
         },
         "name": "champion",
         "offsetgroup": "champion",
         "orientation": "h",
         "showlegend": true,
         "textposition": "auto",
         "type": "bar",
         "x": [
          10281600000,
          94608000000,
          777600000,
          12355200000
         ],
         "xaxis": "x",
         "y": [
          "champion-v3-testable",
          "champion-v3-traintune",
          "champion-v1-deploy",
          "champion-v3-deploy"
         ],
         "yaxis": "y"
        },
        {
         "alignmentgroup": "True",
         "base": [
          "2018-01-01",
          "2020-07-01",
          "2020-11-25",
          "2021-10-14"
         ],
         "hovertemplate": "client=marquis<br>Start=%{base}<br>Finish=%{x}<br>Task=%{y}<extra></extra>",
         "legendgroup": "marquis",
         "marker": {
          "color": "#00cc96"
         },
         "name": "marquis",
         "offsetgroup": "marquis",
         "orientation": "h",
         "showlegend": true,
         "textposition": "auto",
         "type": "bar",
         "x": [
          78710400000,
          39398400000,
          27820800000,
          5702400000
         ],
         "xaxis": "x",
         "y": [
          "marquis-v3-testable",
          "marquis-v3-traintune",
          "marquis-v1-deploy",
          "marquis-v3-deploy"
         ],
         "yaxis": "y"
        },
        {
         "alignmentgroup": "True",
         "base": [
          "2018-01-01",
          "2018-01-01",
          "2021-04-22",
          "2021-06-24"
         ],
         "hovertemplate": "client=midwest<br>Start=%{base}<br>Finish=%{x}<br>Task=%{y}<extra></extra>",
         "legendgroup": "midwest",
         "marker": {
          "color": "#ab63fa"
         },
         "name": "midwest",
         "offsetgroup": "midwest",
         "orientation": "h",
         "showlegend": true,
         "textposition": "auto",
         "type": "bar",
         "x": [
          -86400000,
          104976000000,
          5356800000,
          15379200000
         ],
         "xaxis": "x",
         "y": [
          "midwest-v3-testable",
          "midwest-v3-traintune",
          "midwest-v1-deploy",
          "midwest-v3-deploy"
         ],
         "yaxis": "y"
        },
        {
         "alignmentgroup": "True",
         "base": [
          "2018-01-01",
          "2019-09-01",
          "2020-11-22",
          "2021-10-07"
         ],
         "hovertemplate": "client=mmh<br>Start=%{base}<br>Finish=%{x}<br>Task=%{y}<extra></extra>",
         "legendgroup": "mmh",
         "marker": {
          "color": "#FFA15A"
         },
         "name": "mmh",
         "offsetgroup": "mmh",
         "orientation": "h",
         "showlegend": true,
         "textposition": "auto",
         "type": "bar",
         "x": [
          52444800000,
          64368000000,
          27475200000,
          6307200000
         ],
         "xaxis": "x",
         "y": [
          "mmh-v3-testable",
          "mmh-v3-traintune",
          "mmh-v1-deploy",
          "mmh-v3-deploy"
         ],
         "yaxis": "y"
        },
        {
         "alignmentgroup": "True",
         "base": [
          "2018-01-01",
          "2018-09-01",
          "2020-12-31",
          "2021-10-14"
         ],
         "hovertemplate": "client=phcp<br>Start=%{base}<br>Finish=%{x}<br>Task=%{y}<extra></extra>",
         "legendgroup": "phcp",
         "marker": {
          "color": "#19d3f3"
         },
         "name": "phcp",
         "offsetgroup": "phcp",
         "orientation": "h",
         "showlegend": true,
         "textposition": "auto",
         "type": "bar",
         "x": [
          20908800000,
          97200000000,
          24710400000,
          5702400000
         ],
         "xaxis": "x",
         "y": [
          "phcp-v3-testable",
          "phcp-v3-traintune",
          "phcp-v1-deploy",
          "phcp-v3-deploy"
         ],
         "yaxis": "y"
        },
        {
         "alignmentgroup": "True",
         "base": [
          "2018-01-01",
          "2019-09-01",
          "2020-05-08",
          "2021-10-05"
         ],
         "hovertemplate": "client=trio<br>Start=%{base}<br>Finish=%{x}<br>Task=%{y}<extra></extra>",
         "legendgroup": "trio",
         "marker": {
          "color": "#FF6692"
         },
         "name": "trio",
         "offsetgroup": "trio",
         "orientation": "h",
         "showlegend": true,
         "textposition": "auto",
         "type": "bar",
         "x": [
          52444800000,
          64368000000,
          44409600000,
          6480000000
         ],
         "xaxis": "x",
         "y": [
          "trio-v3-testable",
          "trio-v3-traintune",
          "trio-v1-deploy",
          "trio-v3-deploy"
         ],
         "yaxis": "y"
        },
        {
         "alignmentgroup": "True",
         "base": [
          "2018-01-01",
          "2018-05-01",
          "2021-06-14",
          "2021-06-24"
         ],
         "hovertemplate": "client=uch<br>Start=%{base}<br>Finish=%{x}<br>Task=%{y}<extra></extra>",
         "legendgroup": "uch",
         "marker": {
          "color": "#B6E880"
         },
         "name": "uch",
         "offsetgroup": "uch",
         "orientation": "h",
         "showlegend": true,
         "textposition": "auto",
         "type": "bar",
         "x": [
          10281600000,
          94608000000,
          777600000,
          15379200000
         ],
         "xaxis": "x",
         "y": [
          "uch-v3-testable",
          "uch-v3-traintune",
          "uch-v1-deploy",
          "uch-v3-deploy"
         ],
         "yaxis": "y"
        },
        {
         "alignmentgroup": "True",
         "base": [
          "2018-01-01",
          "2018-09-01",
          "2020-12-31",
          "2021-10-14"
         ],
         "hovertemplate": "client=vintage<br>Start=%{base}<br>Finish=%{x}<br>Task=%{y}<extra></extra>",
         "legendgroup": "vintage",
         "marker": {
          "color": "#FF97FF"
         },
         "name": "vintage",
         "offsetgroup": "vintage",
         "orientation": "h",
         "showlegend": true,
         "textposition": "auto",
         "type": "bar",
         "x": [
          20908800000,
          97200000000,
          24710400000,
          5702400000
         ],
         "xaxis": "x",
         "y": [
          "vintage-v3-testable",
          "vintage-v3-traintune",
          "vintage-v1-deploy",
          "vintage-v3-deploy"
         ],
         "yaxis": "y"
        },
        {
         "alignmentgroup": "True",
         "base": [
          "2020-07-01",
          "2020-07-01",
          "2021-09-24"
         ],
         "hovertemplate": "client=coxsunshine<br>Start=%{base}<br>Finish=%{x}<br>Task=%{y}<extra></extra>",
         "legendgroup": "coxsunshine",
         "marker": {
          "color": "#FECB52"
         },
         "name": "coxsunshine",
         "offsetgroup": "coxsunshine",
         "orientation": "h",
         "showlegend": true,
         "textposition": "auto",
         "type": "bar",
         "x": [
          -86400000,
          34128000000,
          7430400000
         ],
         "xaxis": "x",
         "y": [
          "coxsunshine-v4-testable",
          "coxsunshine-v4-traintune",
          "coxsunshine-v4-deploy"
         ],
         "yaxis": "y"
        },
        {
         "alignmentgroup": "True",
         "base": [
          "2020-07-01",
          "2020-07-01",
          "2021-09-27"
         ],
         "hovertemplate": "client=mmi<br>Start=%{base}<br>Finish=%{x}<br>Task=%{y}<extra></extra>",
         "legendgroup": "mmi",
         "marker": {
          "color": "#636efa"
         },
         "name": "mmi",
         "offsetgroup": "mmi",
         "orientation": "h",
         "showlegend": true,
         "textposition": "auto",
         "type": "bar",
         "x": [
          -86400000,
          34128000000,
          7171200000
         ],
         "xaxis": "x",
         "y": [
          "mmi-v4-testable",
          "mmi-v4-traintune",
          "mmi-v4-deploy"
         ],
         "yaxis": "y"
        }
       ],
       "layout": {
        "annotations": [
         {
          "font": {
           "color": "black"
          },
          "showarrow": false,
          "text": "v3-testable",
          "x": "2018-06-01",
          "y": 0
         },
         {
          "font": {
           "color": "black"
          },
          "showarrow": false,
          "text": "v3-traintune",
          "x": "2020-01-30",
          "y": 1
         },
         {
          "font": {
           "color": "black"
          },
          "showarrow": false,
          "text": "v1-dpy",
          "x": "2020-06-24",
          "y": 2
         },
         {
          "font": {
           "color": "black"
          },
          "showarrow": false,
          "text": "v3-dpy",
          "x": "2021-09-21",
          "y": 3
         },
         {
          "font": {
           "color": "black"
          },
          "showarrow": false,
          "text": "v3-testable",
          "x": "2018-03-01",
          "y": 4
         },
         {
          "font": {
           "color": "black"
          },
          "showarrow": false,
          "text": "v3-traintune",
          "x": "2019-10-30",
          "y": 5
         },
         {
          "font": {
           "color": "black"
          },
          "showarrow": false,
          "text": "v1-dpy",
          "x": "2021-07-23",
          "y": 6
         },
         {
          "font": {
           "color": "black"
          },
          "showarrow": false,
          "text": "v3-dpy",
          "x": "2021-10-08",
          "y": 7
         },
         {
          "font": {
           "color": "black"
          },
          "showarrow": false,
          "text": "v3-testable",
          "x": "2019-04-01",
          "y": 8
         },
         {
          "font": {
           "color": "black"
          },
          "showarrow": false,
          "text": "v3-traintune",
          "x": "2021-02-14",
          "y": 9
         },
         {
          "font": {
           "color": "black"
          },
          "showarrow": false,
          "text": "v1-dpy",
          "x": "2021-05-05",
          "y": 10
         },
         {
          "font": {
           "color": "black"
          },
          "showarrow": false,
          "text": "v3-dpy",
          "x": "2021-11-16",
          "y": 11
         },
         {
          "font": {
           "color": "black"
          },
          "showarrow": false,
          "text": "v3-testable",
          "x": "2017-12-31",
          "y": 12
         },
         {
          "font": {
           "color": "black"
          },
          "showarrow": false,
          "text": "v3-traintune",
          "x": "2019-08-31",
          "y": 13
         },
         {
          "font": {
           "color": "black"
          },
          "showarrow": false,
          "text": "v1-dpy",
          "x": "2021-05-23",
          "y": 14
         },
         {
          "font": {
           "color": "black"
          },
          "showarrow": false,
          "text": "v3-dpy",
          "x": "2021-09-21",
          "y": 15
         },
         {
          "font": {
           "color": "black"
          },
          "showarrow": false,
          "text": "v3-testable",
          "x": "2018-10-31",
          "y": 16
         },
         {
          "font": {
           "color": "black"
          },
          "showarrow": false,
          "text": "v3-traintune",
          "x": "2020-09-07",
          "y": 17
         },
         {
          "font": {
           "color": "black"
          },
          "showarrow": false,
          "text": "v1-dpy",
          "x": "2021-04-30",
          "y": 18
         },
         {
          "font": {
           "color": "black"
          },
          "showarrow": false,
          "text": "v3-dpy",
          "x": "2021-11-12",
          "y": 19
         },
         {
          "font": {
           "color": "black"
          },
          "showarrow": false,
          "text": "v3-testable",
          "x": "2018-05-02",
          "y": 20
         },
         {
          "font": {
           "color": "black"
          },
          "showarrow": false,
          "text": "v3-traintune",
          "x": "2020-03-16",
          "y": 21
         },
         {
          "font": {
           "color": "black"
          },
          "showarrow": false,
          "text": "v1-dpy",
          "x": "2021-05-23",
          "y": 22
         },
         {
          "font": {
           "color": "black"
          },
          "showarrow": false,
          "text": "v3-dpy",
          "x": "2021-11-16",
          "y": 23
         },
         {
          "font": {
           "color": "black"
          },
          "showarrow": false,
          "text": "v3-testable",
          "x": "2018-10-31",
          "y": 24
         },
         {
          "font": {
           "color": "black"
          },
          "showarrow": false,
          "text": "v3-traintune",
          "x": "2020-09-07",
          "y": 25
         },
         {
          "font": {
           "color": "black"
          },
          "showarrow": false,
          "text": "v1-dpy",
          "x": "2021-01-20",
          "y": 26
         },
         {
          "font": {
           "color": "black"
          },
          "showarrow": false,
          "text": "v3-dpy",
          "x": "2021-11-11",
          "y": 27
         },
         {
          "font": {
           "color": "black"
          },
          "showarrow": false,
          "text": "v3-testable",
          "x": "2018-03-01",
          "y": 28
         },
         {
          "font": {
           "color": "black"
          },
          "showarrow": false,
          "text": "v3-traintune",
          "x": "2019-10-30",
          "y": 29
         },
         {
          "font": {
           "color": "black"
          },
          "showarrow": false,
          "text": "v1-dpy",
          "x": "2021-06-18",
          "y": 30
         },
         {
          "font": {
           "color": "black"
          },
          "showarrow": false,
          "text": "v3-dpy",
          "x": "2021-09-21",
          "y": 31
         },
         {
          "font": {
           "color": "black"
          },
          "showarrow": false,
          "text": "v3-testable",
          "x": "2018-05-02",
          "y": 32
         },
         {
          "font": {
           "color": "black"
          },
          "showarrow": false,
          "text": "v3-traintune",
          "x": "2020-03-16",
          "y": 33
         },
         {
          "font": {
           "color": "black"
          },
          "showarrow": false,
          "text": "v1-dpy",
          "x": "2021-05-23",
          "y": 34
         },
         {
          "font": {
           "color": "black"
          },
          "showarrow": false,
          "text": "v3-dpy",
          "x": "2021-11-16",
          "y": 35
         },
         {
          "font": {
           "color": "black"
          },
          "showarrow": false,
          "text": "v4-testable",
          "x": "2020-06-30",
          "y": 36
         },
         {
          "font": {
           "color": "black"
          },
          "showarrow": false,
          "text": "v4-traintune",
          "x": "2021-01-14",
          "y": 37
         },
         {
          "font": {
           "color": "black"
          },
          "showarrow": false,
          "text": "v4-dpy",
          "x": "2021-11-06",
          "y": 38
         },
         {
          "font": {
           "color": "black"
          },
          "showarrow": false,
          "text": "v4-testable",
          "x": "2020-06-30",
          "y": 39
         },
         {
          "font": {
           "color": "black"
          },
          "showarrow": false,
          "text": "v4-traintune",
          "x": "2021-01-14",
          "y": 40
         },
         {
          "font": {
           "color": "black"
          },
          "showarrow": false,
          "text": "v4-dpy",
          "x": "2021-11-07",
          "y": 41
         }
        ],
        "barmode": "overlay",
        "height": 1000,
        "legend": {
         "title": {
          "text": "client"
         },
         "tracegroupgap": 0
        },
        "margin": {
         "t": 60
        },
        "shapes": [
         {
          "line": {
           "color": "white"
          },
          "type": "line",
          "x0": 0,
          "x1": 1,
          "xref": "x domain",
          "y0": 3.5,
          "y1": 3.5,
          "yref": "y"
         },
         {
          "line": {
           "color": "white"
          },
          "type": "line",
          "x0": 0,
          "x1": 1,
          "xref": "x domain",
          "y0": 7.5,
          "y1": 7.5,
          "yref": "y"
         },
         {
          "line": {
           "color": "white"
          },
          "type": "line",
          "x0": 0,
          "x1": 1,
          "xref": "x domain",
          "y0": 11.5,
          "y1": 11.5,
          "yref": "y"
         },
         {
          "line": {
           "color": "white"
          },
          "type": "line",
          "x0": 0,
          "x1": 1,
          "xref": "x domain",
          "y0": 15.5,
          "y1": 15.5,
          "yref": "y"
         },
         {
          "line": {
           "color": "white"
          },
          "type": "line",
          "x0": 0,
          "x1": 1,
          "xref": "x domain",
          "y0": 19.5,
          "y1": 19.5,
          "yref": "y"
         },
         {
          "line": {
           "color": "white"
          },
          "type": "line",
          "x0": 0,
          "x1": 1,
          "xref": "x domain",
          "y0": 23.5,
          "y1": 23.5,
          "yref": "y"
         },
         {
          "line": {
           "color": "white"
          },
          "type": "line",
          "x0": 0,
          "x1": 1,
          "xref": "x domain",
          "y0": 27.5,
          "y1": 27.5,
          "yref": "y"
         },
         {
          "line": {
           "color": "white"
          },
          "type": "line",
          "x0": 0,
          "x1": 1,
          "xref": "x domain",
          "y0": 31.5,
          "y1": 31.5,
          "yref": "y"
         },
         {
          "line": {
           "color": "white"
          },
          "type": "line",
          "x0": 0,
          "x1": 1,
          "xref": "x domain",
          "y0": 35.5,
          "y1": 35.5,
          "yref": "y"
         },
         {
          "line": {
           "color": "white"
          },
          "type": "line",
          "x0": 0,
          "x1": 1,
          "xref": "x domain",
          "y0": 38.5,
          "y1": 38.5,
          "yref": "y"
         },
         {
          "line": {
           "color": "white"
          },
          "type": "line",
          "x0": 0,
          "x1": 1,
          "xref": "x domain",
          "y0": 42.5,
          "y1": 42.5,
          "yref": "y"
         }
        ],
        "template": {
         "data": {
          "bar": [
           {
            "error_x": {
             "color": "#2a3f5f"
            },
            "error_y": {
             "color": "#2a3f5f"
            },
            "marker": {
             "line": {
              "color": "#E5ECF6",
              "width": 0.5
             },
             "pattern": {
              "fillmode": "overlay",
              "size": 10,
              "solidity": 0.2
             }
            },
            "type": "bar"
           }
          ],
          "barpolar": [
           {
            "marker": {
             "line": {
              "color": "#E5ECF6",
              "width": 0.5
             },
             "pattern": {
              "fillmode": "overlay",
              "size": 10,
              "solidity": 0.2
             }
            },
            "type": "barpolar"
           }
          ],
          "carpet": [
           {
            "aaxis": {
             "endlinecolor": "#2a3f5f",
             "gridcolor": "white",
             "linecolor": "white",
             "minorgridcolor": "white",
             "startlinecolor": "#2a3f5f"
            },
            "baxis": {
             "endlinecolor": "#2a3f5f",
             "gridcolor": "white",
             "linecolor": "white",
             "minorgridcolor": "white",
             "startlinecolor": "#2a3f5f"
            },
            "type": "carpet"
           }
          ],
          "choropleth": [
           {
            "colorbar": {
             "outlinewidth": 0,
             "ticks": ""
            },
            "type": "choropleth"
           }
          ],
          "contour": [
           {
            "colorbar": {
             "outlinewidth": 0,
             "ticks": ""
            },
            "colorscale": [
             [
              0,
              "#0d0887"
             ],
             [
              0.1111111111111111,
              "#46039f"
             ],
             [
              0.2222222222222222,
              "#7201a8"
             ],
             [
              0.3333333333333333,
              "#9c179e"
             ],
             [
              0.4444444444444444,
              "#bd3786"
             ],
             [
              0.5555555555555556,
              "#d8576b"
             ],
             [
              0.6666666666666666,
              "#ed7953"
             ],
             [
              0.7777777777777778,
              "#fb9f3a"
             ],
             [
              0.8888888888888888,
              "#fdca26"
             ],
             [
              1,
              "#f0f921"
             ]
            ],
            "type": "contour"
           }
          ],
          "contourcarpet": [
           {
            "colorbar": {
             "outlinewidth": 0,
             "ticks": ""
            },
            "type": "contourcarpet"
           }
          ],
          "heatmap": [
           {
            "colorbar": {
             "outlinewidth": 0,
             "ticks": ""
            },
            "colorscale": [
             [
              0,
              "#0d0887"
             ],
             [
              0.1111111111111111,
              "#46039f"
             ],
             [
              0.2222222222222222,
              "#7201a8"
             ],
             [
              0.3333333333333333,
              "#9c179e"
             ],
             [
              0.4444444444444444,
              "#bd3786"
             ],
             [
              0.5555555555555556,
              "#d8576b"
             ],
             [
              0.6666666666666666,
              "#ed7953"
             ],
             [
              0.7777777777777778,
              "#fb9f3a"
             ],
             [
              0.8888888888888888,
              "#fdca26"
             ],
             [
              1,
              "#f0f921"
             ]
            ],
            "type": "heatmap"
           }
          ],
          "heatmapgl": [
           {
            "colorbar": {
             "outlinewidth": 0,
             "ticks": ""
            },
            "colorscale": [
             [
              0,
              "#0d0887"
             ],
             [
              0.1111111111111111,
              "#46039f"
             ],
             [
              0.2222222222222222,
              "#7201a8"
             ],
             [
              0.3333333333333333,
              "#9c179e"
             ],
             [
              0.4444444444444444,
              "#bd3786"
             ],
             [
              0.5555555555555556,
              "#d8576b"
             ],
             [
              0.6666666666666666,
              "#ed7953"
             ],
             [
              0.7777777777777778,
              "#fb9f3a"
             ],
             [
              0.8888888888888888,
              "#fdca26"
             ],
             [
              1,
              "#f0f921"
             ]
            ],
            "type": "heatmapgl"
           }
          ],
          "histogram": [
           {
            "marker": {
             "pattern": {
              "fillmode": "overlay",
              "size": 10,
              "solidity": 0.2
             }
            },
            "type": "histogram"
           }
          ],
          "histogram2d": [
           {
            "colorbar": {
             "outlinewidth": 0,
             "ticks": ""
            },
            "colorscale": [
             [
              0,
              "#0d0887"
             ],
             [
              0.1111111111111111,
              "#46039f"
             ],
             [
              0.2222222222222222,
              "#7201a8"
             ],
             [
              0.3333333333333333,
              "#9c179e"
             ],
             [
              0.4444444444444444,
              "#bd3786"
             ],
             [
              0.5555555555555556,
              "#d8576b"
             ],
             [
              0.6666666666666666,
              "#ed7953"
             ],
             [
              0.7777777777777778,
              "#fb9f3a"
             ],
             [
              0.8888888888888888,
              "#fdca26"
             ],
             [
              1,
              "#f0f921"
             ]
            ],
            "type": "histogram2d"
           }
          ],
          "histogram2dcontour": [
           {
            "colorbar": {
             "outlinewidth": 0,
             "ticks": ""
            },
            "colorscale": [
             [
              0,
              "#0d0887"
             ],
             [
              0.1111111111111111,
              "#46039f"
             ],
             [
              0.2222222222222222,
              "#7201a8"
             ],
             [
              0.3333333333333333,
              "#9c179e"
             ],
             [
              0.4444444444444444,
              "#bd3786"
             ],
             [
              0.5555555555555556,
              "#d8576b"
             ],
             [
              0.6666666666666666,
              "#ed7953"
             ],
             [
              0.7777777777777778,
              "#fb9f3a"
             ],
             [
              0.8888888888888888,
              "#fdca26"
             ],
             [
              1,
              "#f0f921"
             ]
            ],
            "type": "histogram2dcontour"
           }
          ],
          "mesh3d": [
           {
            "colorbar": {
             "outlinewidth": 0,
             "ticks": ""
            },
            "type": "mesh3d"
           }
          ],
          "parcoords": [
           {
            "line": {
             "colorbar": {
              "outlinewidth": 0,
              "ticks": ""
             }
            },
            "type": "parcoords"
           }
          ],
          "pie": [
           {
            "automargin": true,
            "type": "pie"
           }
          ],
          "scatter": [
           {
            "marker": {
             "colorbar": {
              "outlinewidth": 0,
              "ticks": ""
             }
            },
            "type": "scatter"
           }
          ],
          "scatter3d": [
           {
            "line": {
             "colorbar": {
              "outlinewidth": 0,
              "ticks": ""
             }
            },
            "marker": {
             "colorbar": {
              "outlinewidth": 0,
              "ticks": ""
             }
            },
            "type": "scatter3d"
           }
          ],
          "scattercarpet": [
           {
            "marker": {
             "colorbar": {
              "outlinewidth": 0,
              "ticks": ""
             }
            },
            "type": "scattercarpet"
           }
          ],
          "scattergeo": [
           {
            "marker": {
             "colorbar": {
              "outlinewidth": 0,
              "ticks": ""
             }
            },
            "type": "scattergeo"
           }
          ],
          "scattergl": [
           {
            "marker": {
             "colorbar": {
              "outlinewidth": 0,
              "ticks": ""
             }
            },
            "type": "scattergl"
           }
          ],
          "scattermapbox": [
           {
            "marker": {
             "colorbar": {
              "outlinewidth": 0,
              "ticks": ""
             }
            },
            "type": "scattermapbox"
           }
          ],
          "scatterpolar": [
           {
            "marker": {
             "colorbar": {
              "outlinewidth": 0,
              "ticks": ""
             }
            },
            "type": "scatterpolar"
           }
          ],
          "scatterpolargl": [
           {
            "marker": {
             "colorbar": {
              "outlinewidth": 0,
              "ticks": ""
             }
            },
            "type": "scatterpolargl"
           }
          ],
          "scatterternary": [
           {
            "marker": {
             "colorbar": {
              "outlinewidth": 0,
              "ticks": ""
             }
            },
            "type": "scatterternary"
           }
          ],
          "surface": [
           {
            "colorbar": {
             "outlinewidth": 0,
             "ticks": ""
            },
            "colorscale": [
             [
              0,
              "#0d0887"
             ],
             [
              0.1111111111111111,
              "#46039f"
             ],
             [
              0.2222222222222222,
              "#7201a8"
             ],
             [
              0.3333333333333333,
              "#9c179e"
             ],
             [
              0.4444444444444444,
              "#bd3786"
             ],
             [
              0.5555555555555556,
              "#d8576b"
             ],
             [
              0.6666666666666666,
              "#ed7953"
             ],
             [
              0.7777777777777778,
              "#fb9f3a"
             ],
             [
              0.8888888888888888,
              "#fdca26"
             ],
             [
              1,
              "#f0f921"
             ]
            ],
            "type": "surface"
           }
          ],
          "table": [
           {
            "cells": {
             "fill": {
              "color": "#EBF0F8"
             },
             "line": {
              "color": "white"
             }
            },
            "header": {
             "fill": {
              "color": "#C8D4E3"
             },
             "line": {
              "color": "white"
             }
            },
            "type": "table"
           }
          ]
         },
         "layout": {
          "annotationdefaults": {
           "arrowcolor": "#2a3f5f",
           "arrowhead": 0,
           "arrowwidth": 1
          },
          "autotypenumbers": "strict",
          "coloraxis": {
           "colorbar": {
            "outlinewidth": 0,
            "ticks": ""
           }
          },
          "colorscale": {
           "diverging": [
            [
             0,
             "#8e0152"
            ],
            [
             0.1,
             "#c51b7d"
            ],
            [
             0.2,
             "#de77ae"
            ],
            [
             0.3,
             "#f1b6da"
            ],
            [
             0.4,
             "#fde0ef"
            ],
            [
             0.5,
             "#f7f7f7"
            ],
            [
             0.6,
             "#e6f5d0"
            ],
            [
             0.7,
             "#b8e186"
            ],
            [
             0.8,
             "#7fbc41"
            ],
            [
             0.9,
             "#4d9221"
            ],
            [
             1,
             "#276419"
            ]
           ],
           "sequential": [
            [
             0,
             "#0d0887"
            ],
            [
             0.1111111111111111,
             "#46039f"
            ],
            [
             0.2222222222222222,
             "#7201a8"
            ],
            [
             0.3333333333333333,
             "#9c179e"
            ],
            [
             0.4444444444444444,
             "#bd3786"
            ],
            [
             0.5555555555555556,
             "#d8576b"
            ],
            [
             0.6666666666666666,
             "#ed7953"
            ],
            [
             0.7777777777777778,
             "#fb9f3a"
            ],
            [
             0.8888888888888888,
             "#fdca26"
            ],
            [
             1,
             "#f0f921"
            ]
           ],
           "sequentialminus": [
            [
             0,
             "#0d0887"
            ],
            [
             0.1111111111111111,
             "#46039f"
            ],
            [
             0.2222222222222222,
             "#7201a8"
            ],
            [
             0.3333333333333333,
             "#9c179e"
            ],
            [
             0.4444444444444444,
             "#bd3786"
            ],
            [
             0.5555555555555556,
             "#d8576b"
            ],
            [
             0.6666666666666666,
             "#ed7953"
            ],
            [
             0.7777777777777778,
             "#fb9f3a"
            ],
            [
             0.8888888888888888,
             "#fdca26"
            ],
            [
             1,
             "#f0f921"
            ]
           ]
          },
          "colorway": [
           "#636efa",
           "#EF553B",
           "#00cc96",
           "#ab63fa",
           "#FFA15A",
           "#19d3f3",
           "#FF6692",
           "#B6E880",
           "#FF97FF",
           "#FECB52"
          ],
          "font": {
           "color": "#2a3f5f"
          },
          "geo": {
           "bgcolor": "white",
           "lakecolor": "white",
           "landcolor": "#E5ECF6",
           "showlakes": true,
           "showland": true,
           "subunitcolor": "white"
          },
          "hoverlabel": {
           "align": "left"
          },
          "hovermode": "closest",
          "mapbox": {
           "style": "light"
          },
          "paper_bgcolor": "white",
          "plot_bgcolor": "#E5ECF6",
          "polar": {
           "angularaxis": {
            "gridcolor": "white",
            "linecolor": "white",
            "ticks": ""
           },
           "bgcolor": "#E5ECF6",
           "radialaxis": {
            "gridcolor": "white",
            "linecolor": "white",
            "ticks": ""
           }
          },
          "scene": {
           "xaxis": {
            "backgroundcolor": "#E5ECF6",
            "gridcolor": "white",
            "gridwidth": 2,
            "linecolor": "white",
            "showbackground": true,
            "ticks": "",
            "zerolinecolor": "white"
           },
           "yaxis": {
            "backgroundcolor": "#E5ECF6",
            "gridcolor": "white",
            "gridwidth": 2,
            "linecolor": "white",
            "showbackground": true,
            "ticks": "",
            "zerolinecolor": "white"
           },
           "zaxis": {
            "backgroundcolor": "#E5ECF6",
            "gridcolor": "white",
            "gridwidth": 2,
            "linecolor": "white",
            "showbackground": true,
            "ticks": "",
            "zerolinecolor": "white"
           }
          },
          "shapedefaults": {
           "line": {
            "color": "#2a3f5f"
           }
          },
          "ternary": {
           "aaxis": {
            "gridcolor": "white",
            "linecolor": "white",
            "ticks": ""
           },
           "baxis": {
            "gridcolor": "white",
            "linecolor": "white",
            "ticks": ""
           },
           "bgcolor": "#E5ECF6",
           "caxis": {
            "gridcolor": "white",
            "linecolor": "white",
            "ticks": ""
           }
          },
          "title": {
           "x": 0.05
          },
          "xaxis": {
           "automargin": true,
           "gridcolor": "white",
           "linecolor": "white",
           "ticks": "",
           "title": {
            "standoff": 15
           },
           "zerolinecolor": "white",
           "zerolinewidth": 2
          },
          "yaxis": {
           "automargin": true,
           "gridcolor": "white",
           "linecolor": "white",
           "ticks": "",
           "title": {
            "standoff": 15
           },
           "zerolinecolor": "white",
           "zerolinewidth": 2
          }
         }
        },
        "xaxis": {
         "anchor": "y",
         "domain": [
          0,
          1
         ],
         "type": "date"
        },
        "yaxis": {
         "anchor": "x",
         "autorange": "reversed",
         "domain": [
          0,
          1
         ],
         "title": {
          "text": "Task"
         }
        }
       }
      },
      "text/html": [
       "<div>                            <div id=\"6568b3ae-e604-47ad-9e00-e2cba46ddffe\" class=\"plotly-graph-div\" style=\"height:1000px; width:100%;\"></div>            <script type=\"text/javascript\">                require([\"plotly\"], function(Plotly) {                    window.PLOTLYENV=window.PLOTLYENV || {};                                    if (document.getElementById(\"6568b3ae-e604-47ad-9e00-e2cba46ddffe\")) {                    Plotly.newPlot(                        \"6568b3ae-e604-47ad-9e00-e2cba46ddffe\",                        [{\"alignmentgroup\":\"True\",\"base\":[\"2018-01-01\",\"2018-11-01\",\"2019-06-26\",\"2021-06-24\"],\"hovertemplate\":\"client=avante<br>Start=%{base}<br>Finish=%{x}<br>Task=%{y}<extra></extra>\",\"legendgroup\":\"avante\",\"marker\":{\"color\":\"#636efa\"},\"name\":\"avante\",\"offsetgroup\":\"avante\",\"orientation\":\"h\",\"showlegend\":true,\"textposition\":\"auto\",\"x\":[26179200000.0,78710400000.0,62899200000.0,15379200000.0],\"xaxis\":\"x\",\"y\":[\"avante-v3-testable\",\"avante-v3-traintune\",\"avante-v1-deploy\",\"avante-v3-deploy\"],\"yaxis\":\"y\",\"type\":\"bar\"},{\"alignmentgroup\":\"True\",\"base\":[\"2018-01-01\",\"2018-05-01\",\"2021-07-19\",\"2021-07-29\"],\"hovertemplate\":\"client=champion<br>Start=%{base}<br>Finish=%{x}<br>Task=%{y}<extra></extra>\",\"legendgroup\":\"champion\",\"marker\":{\"color\":\"#EF553B\"},\"name\":\"champion\",\"offsetgroup\":\"champion\",\"orientation\":\"h\",\"showlegend\":true,\"textposition\":\"auto\",\"x\":[10281600000.0,94608000000.0,777600000.0,12355200000.0],\"xaxis\":\"x\",\"y\":[\"champion-v3-testable\",\"champion-v3-traintune\",\"champion-v1-deploy\",\"champion-v3-deploy\"],\"yaxis\":\"y\",\"type\":\"bar\"},{\"alignmentgroup\":\"True\",\"base\":[\"2018-01-01\",\"2020-07-01\",\"2020-11-25\",\"2021-10-14\"],\"hovertemplate\":\"client=marquis<br>Start=%{base}<br>Finish=%{x}<br>Task=%{y}<extra></extra>\",\"legendgroup\":\"marquis\",\"marker\":{\"color\":\"#00cc96\"},\"name\":\"marquis\",\"offsetgroup\":\"marquis\",\"orientation\":\"h\",\"showlegend\":true,\"textposition\":\"auto\",\"x\":[78710400000.0,39398400000.0,27820800000.0,5702400000.0],\"xaxis\":\"x\",\"y\":[\"marquis-v3-testable\",\"marquis-v3-traintune\",\"marquis-v1-deploy\",\"marquis-v3-deploy\"],\"yaxis\":\"y\",\"type\":\"bar\"},{\"alignmentgroup\":\"True\",\"base\":[\"2018-01-01\",\"2018-01-01\",\"2021-04-22\",\"2021-06-24\"],\"hovertemplate\":\"client=midwest<br>Start=%{base}<br>Finish=%{x}<br>Task=%{y}<extra></extra>\",\"legendgroup\":\"midwest\",\"marker\":{\"color\":\"#ab63fa\"},\"name\":\"midwest\",\"offsetgroup\":\"midwest\",\"orientation\":\"h\",\"showlegend\":true,\"textposition\":\"auto\",\"x\":[-86400000.0,104976000000.0,5356800000.0,15379200000.0],\"xaxis\":\"x\",\"y\":[\"midwest-v3-testable\",\"midwest-v3-traintune\",\"midwest-v1-deploy\",\"midwest-v3-deploy\"],\"yaxis\":\"y\",\"type\":\"bar\"},{\"alignmentgroup\":\"True\",\"base\":[\"2018-01-01\",\"2019-09-01\",\"2020-11-22\",\"2021-10-07\"],\"hovertemplate\":\"client=mmh<br>Start=%{base}<br>Finish=%{x}<br>Task=%{y}<extra></extra>\",\"legendgroup\":\"mmh\",\"marker\":{\"color\":\"#FFA15A\"},\"name\":\"mmh\",\"offsetgroup\":\"mmh\",\"orientation\":\"h\",\"showlegend\":true,\"textposition\":\"auto\",\"x\":[52444800000.0,64368000000.0,27475200000.0,6307200000.0],\"xaxis\":\"x\",\"y\":[\"mmh-v3-testable\",\"mmh-v3-traintune\",\"mmh-v1-deploy\",\"mmh-v3-deploy\"],\"yaxis\":\"y\",\"type\":\"bar\"},{\"alignmentgroup\":\"True\",\"base\":[\"2018-01-01\",\"2018-09-01\",\"2020-12-31\",\"2021-10-14\"],\"hovertemplate\":\"client=phcp<br>Start=%{base}<br>Finish=%{x}<br>Task=%{y}<extra></extra>\",\"legendgroup\":\"phcp\",\"marker\":{\"color\":\"#19d3f3\"},\"name\":\"phcp\",\"offsetgroup\":\"phcp\",\"orientation\":\"h\",\"showlegend\":true,\"textposition\":\"auto\",\"x\":[20908800000.0,97200000000.0,24710400000.0,5702400000.0],\"xaxis\":\"x\",\"y\":[\"phcp-v3-testable\",\"phcp-v3-traintune\",\"phcp-v1-deploy\",\"phcp-v3-deploy\"],\"yaxis\":\"y\",\"type\":\"bar\"},{\"alignmentgroup\":\"True\",\"base\":[\"2018-01-01\",\"2019-09-01\",\"2020-05-08\",\"2021-10-05\"],\"hovertemplate\":\"client=trio<br>Start=%{base}<br>Finish=%{x}<br>Task=%{y}<extra></extra>\",\"legendgroup\":\"trio\",\"marker\":{\"color\":\"#FF6692\"},\"name\":\"trio\",\"offsetgroup\":\"trio\",\"orientation\":\"h\",\"showlegend\":true,\"textposition\":\"auto\",\"x\":[52444800000.0,64368000000.0,44409600000.0,6480000000.0],\"xaxis\":\"x\",\"y\":[\"trio-v3-testable\",\"trio-v3-traintune\",\"trio-v1-deploy\",\"trio-v3-deploy\"],\"yaxis\":\"y\",\"type\":\"bar\"},{\"alignmentgroup\":\"True\",\"base\":[\"2018-01-01\",\"2018-05-01\",\"2021-06-14\",\"2021-06-24\"],\"hovertemplate\":\"client=uch<br>Start=%{base}<br>Finish=%{x}<br>Task=%{y}<extra></extra>\",\"legendgroup\":\"uch\",\"marker\":{\"color\":\"#B6E880\"},\"name\":\"uch\",\"offsetgroup\":\"uch\",\"orientation\":\"h\",\"showlegend\":true,\"textposition\":\"auto\",\"x\":[10281600000.0,94608000000.0,777600000.0,15379200000.0],\"xaxis\":\"x\",\"y\":[\"uch-v3-testable\",\"uch-v3-traintune\",\"uch-v1-deploy\",\"uch-v3-deploy\"],\"yaxis\":\"y\",\"type\":\"bar\"},{\"alignmentgroup\":\"True\",\"base\":[\"2018-01-01\",\"2018-09-01\",\"2020-12-31\",\"2021-10-14\"],\"hovertemplate\":\"client=vintage<br>Start=%{base}<br>Finish=%{x}<br>Task=%{y}<extra></extra>\",\"legendgroup\":\"vintage\",\"marker\":{\"color\":\"#FF97FF\"},\"name\":\"vintage\",\"offsetgroup\":\"vintage\",\"orientation\":\"h\",\"showlegend\":true,\"textposition\":\"auto\",\"x\":[20908800000.0,97200000000.0,24710400000.0,5702400000.0],\"xaxis\":\"x\",\"y\":[\"vintage-v3-testable\",\"vintage-v3-traintune\",\"vintage-v1-deploy\",\"vintage-v3-deploy\"],\"yaxis\":\"y\",\"type\":\"bar\"},{\"alignmentgroup\":\"True\",\"base\":[\"2020-07-01\",\"2020-07-01\",\"2021-09-24\"],\"hovertemplate\":\"client=coxsunshine<br>Start=%{base}<br>Finish=%{x}<br>Task=%{y}<extra></extra>\",\"legendgroup\":\"coxsunshine\",\"marker\":{\"color\":\"#FECB52\"},\"name\":\"coxsunshine\",\"offsetgroup\":\"coxsunshine\",\"orientation\":\"h\",\"showlegend\":true,\"textposition\":\"auto\",\"x\":[-86400000.0,34128000000.0,7430400000.0],\"xaxis\":\"x\",\"y\":[\"coxsunshine-v4-testable\",\"coxsunshine-v4-traintune\",\"coxsunshine-v4-deploy\"],\"yaxis\":\"y\",\"type\":\"bar\"},{\"alignmentgroup\":\"True\",\"base\":[\"2020-07-01\",\"2020-07-01\",\"2021-09-27\"],\"hovertemplate\":\"client=mmi<br>Start=%{base}<br>Finish=%{x}<br>Task=%{y}<extra></extra>\",\"legendgroup\":\"mmi\",\"marker\":{\"color\":\"#636efa\"},\"name\":\"mmi\",\"offsetgroup\":\"mmi\",\"orientation\":\"h\",\"showlegend\":true,\"textposition\":\"auto\",\"x\":[-86400000.0,34128000000.0,7171200000.0],\"xaxis\":\"x\",\"y\":[\"mmi-v4-testable\",\"mmi-v4-traintune\",\"mmi-v4-deploy\"],\"yaxis\":\"y\",\"type\":\"bar\"}],                        {\"template\":{\"data\":{\"bar\":[{\"error_x\":{\"color\":\"#2a3f5f\"},\"error_y\":{\"color\":\"#2a3f5f\"},\"marker\":{\"line\":{\"color\":\"#E5ECF6\",\"width\":0.5},\"pattern\":{\"fillmode\":\"overlay\",\"size\":10,\"solidity\":0.2}},\"type\":\"bar\"}],\"barpolar\":[{\"marker\":{\"line\":{\"color\":\"#E5ECF6\",\"width\":0.5},\"pattern\":{\"fillmode\":\"overlay\",\"size\":10,\"solidity\":0.2}},\"type\":\"barpolar\"}],\"carpet\":[{\"aaxis\":{\"endlinecolor\":\"#2a3f5f\",\"gridcolor\":\"white\",\"linecolor\":\"white\",\"minorgridcolor\":\"white\",\"startlinecolor\":\"#2a3f5f\"},\"baxis\":{\"endlinecolor\":\"#2a3f5f\",\"gridcolor\":\"white\",\"linecolor\":\"white\",\"minorgridcolor\":\"white\",\"startlinecolor\":\"#2a3f5f\"},\"type\":\"carpet\"}],\"choropleth\":[{\"colorbar\":{\"outlinewidth\":0,\"ticks\":\"\"},\"type\":\"choropleth\"}],\"contour\":[{\"colorbar\":{\"outlinewidth\":0,\"ticks\":\"\"},\"colorscale\":[[0.0,\"#0d0887\"],[0.1111111111111111,\"#46039f\"],[0.2222222222222222,\"#7201a8\"],[0.3333333333333333,\"#9c179e\"],[0.4444444444444444,\"#bd3786\"],[0.5555555555555556,\"#d8576b\"],[0.6666666666666666,\"#ed7953\"],[0.7777777777777778,\"#fb9f3a\"],[0.8888888888888888,\"#fdca26\"],[1.0,\"#f0f921\"]],\"type\":\"contour\"}],\"contourcarpet\":[{\"colorbar\":{\"outlinewidth\":0,\"ticks\":\"\"},\"type\":\"contourcarpet\"}],\"heatmap\":[{\"colorbar\":{\"outlinewidth\":0,\"ticks\":\"\"},\"colorscale\":[[0.0,\"#0d0887\"],[0.1111111111111111,\"#46039f\"],[0.2222222222222222,\"#7201a8\"],[0.3333333333333333,\"#9c179e\"],[0.4444444444444444,\"#bd3786\"],[0.5555555555555556,\"#d8576b\"],[0.6666666666666666,\"#ed7953\"],[0.7777777777777778,\"#fb9f3a\"],[0.8888888888888888,\"#fdca26\"],[1.0,\"#f0f921\"]],\"type\":\"heatmap\"}],\"heatmapgl\":[{\"colorbar\":{\"outlinewidth\":0,\"ticks\":\"\"},\"colorscale\":[[0.0,\"#0d0887\"],[0.1111111111111111,\"#46039f\"],[0.2222222222222222,\"#7201a8\"],[0.3333333333333333,\"#9c179e\"],[0.4444444444444444,\"#bd3786\"],[0.5555555555555556,\"#d8576b\"],[0.6666666666666666,\"#ed7953\"],[0.7777777777777778,\"#fb9f3a\"],[0.8888888888888888,\"#fdca26\"],[1.0,\"#f0f921\"]],\"type\":\"heatmapgl\"}],\"histogram\":[{\"marker\":{\"pattern\":{\"fillmode\":\"overlay\",\"size\":10,\"solidity\":0.2}},\"type\":\"histogram\"}],\"histogram2d\":[{\"colorbar\":{\"outlinewidth\":0,\"ticks\":\"\"},\"colorscale\":[[0.0,\"#0d0887\"],[0.1111111111111111,\"#46039f\"],[0.2222222222222222,\"#7201a8\"],[0.3333333333333333,\"#9c179e\"],[0.4444444444444444,\"#bd3786\"],[0.5555555555555556,\"#d8576b\"],[0.6666666666666666,\"#ed7953\"],[0.7777777777777778,\"#fb9f3a\"],[0.8888888888888888,\"#fdca26\"],[1.0,\"#f0f921\"]],\"type\":\"histogram2d\"}],\"histogram2dcontour\":[{\"colorbar\":{\"outlinewidth\":0,\"ticks\":\"\"},\"colorscale\":[[0.0,\"#0d0887\"],[0.1111111111111111,\"#46039f\"],[0.2222222222222222,\"#7201a8\"],[0.3333333333333333,\"#9c179e\"],[0.4444444444444444,\"#bd3786\"],[0.5555555555555556,\"#d8576b\"],[0.6666666666666666,\"#ed7953\"],[0.7777777777777778,\"#fb9f3a\"],[0.8888888888888888,\"#fdca26\"],[1.0,\"#f0f921\"]],\"type\":\"histogram2dcontour\"}],\"mesh3d\":[{\"colorbar\":{\"outlinewidth\":0,\"ticks\":\"\"},\"type\":\"mesh3d\"}],\"parcoords\":[{\"line\":{\"colorbar\":{\"outlinewidth\":0,\"ticks\":\"\"}},\"type\":\"parcoords\"}],\"pie\":[{\"automargin\":true,\"type\":\"pie\"}],\"scatter\":[{\"marker\":{\"colorbar\":{\"outlinewidth\":0,\"ticks\":\"\"}},\"type\":\"scatter\"}],\"scatter3d\":[{\"line\":{\"colorbar\":{\"outlinewidth\":0,\"ticks\":\"\"}},\"marker\":{\"colorbar\":{\"outlinewidth\":0,\"ticks\":\"\"}},\"type\":\"scatter3d\"}],\"scattercarpet\":[{\"marker\":{\"colorbar\":{\"outlinewidth\":0,\"ticks\":\"\"}},\"type\":\"scattercarpet\"}],\"scattergeo\":[{\"marker\":{\"colorbar\":{\"outlinewidth\":0,\"ticks\":\"\"}},\"type\":\"scattergeo\"}],\"scattergl\":[{\"marker\":{\"colorbar\":{\"outlinewidth\":0,\"ticks\":\"\"}},\"type\":\"scattergl\"}],\"scattermapbox\":[{\"marker\":{\"colorbar\":{\"outlinewidth\":0,\"ticks\":\"\"}},\"type\":\"scattermapbox\"}],\"scatterpolar\":[{\"marker\":{\"colorbar\":{\"outlinewidth\":0,\"ticks\":\"\"}},\"type\":\"scatterpolar\"}],\"scatterpolargl\":[{\"marker\":{\"colorbar\":{\"outlinewidth\":0,\"ticks\":\"\"}},\"type\":\"scatterpolargl\"}],\"scatterternary\":[{\"marker\":{\"colorbar\":{\"outlinewidth\":0,\"ticks\":\"\"}},\"type\":\"scatterternary\"}],\"surface\":[{\"colorbar\":{\"outlinewidth\":0,\"ticks\":\"\"},\"colorscale\":[[0.0,\"#0d0887\"],[0.1111111111111111,\"#46039f\"],[0.2222222222222222,\"#7201a8\"],[0.3333333333333333,\"#9c179e\"],[0.4444444444444444,\"#bd3786\"],[0.5555555555555556,\"#d8576b\"],[0.6666666666666666,\"#ed7953\"],[0.7777777777777778,\"#fb9f3a\"],[0.8888888888888888,\"#fdca26\"],[1.0,\"#f0f921\"]],\"type\":\"surface\"}],\"table\":[{\"cells\":{\"fill\":{\"color\":\"#EBF0F8\"},\"line\":{\"color\":\"white\"}},\"header\":{\"fill\":{\"color\":\"#C8D4E3\"},\"line\":{\"color\":\"white\"}},\"type\":\"table\"}]},\"layout\":{\"annotationdefaults\":{\"arrowcolor\":\"#2a3f5f\",\"arrowhead\":0,\"arrowwidth\":1},\"autotypenumbers\":\"strict\",\"coloraxis\":{\"colorbar\":{\"outlinewidth\":0,\"ticks\":\"\"}},\"colorscale\":{\"diverging\":[[0,\"#8e0152\"],[0.1,\"#c51b7d\"],[0.2,\"#de77ae\"],[0.3,\"#f1b6da\"],[0.4,\"#fde0ef\"],[0.5,\"#f7f7f7\"],[0.6,\"#e6f5d0\"],[0.7,\"#b8e186\"],[0.8,\"#7fbc41\"],[0.9,\"#4d9221\"],[1,\"#276419\"]],\"sequential\":[[0.0,\"#0d0887\"],[0.1111111111111111,\"#46039f\"],[0.2222222222222222,\"#7201a8\"],[0.3333333333333333,\"#9c179e\"],[0.4444444444444444,\"#bd3786\"],[0.5555555555555556,\"#d8576b\"],[0.6666666666666666,\"#ed7953\"],[0.7777777777777778,\"#fb9f3a\"],[0.8888888888888888,\"#fdca26\"],[1.0,\"#f0f921\"]],\"sequentialminus\":[[0.0,\"#0d0887\"],[0.1111111111111111,\"#46039f\"],[0.2222222222222222,\"#7201a8\"],[0.3333333333333333,\"#9c179e\"],[0.4444444444444444,\"#bd3786\"],[0.5555555555555556,\"#d8576b\"],[0.6666666666666666,\"#ed7953\"],[0.7777777777777778,\"#fb9f3a\"],[0.8888888888888888,\"#fdca26\"],[1.0,\"#f0f921\"]]},\"colorway\":[\"#636efa\",\"#EF553B\",\"#00cc96\",\"#ab63fa\",\"#FFA15A\",\"#19d3f3\",\"#FF6692\",\"#B6E880\",\"#FF97FF\",\"#FECB52\"],\"font\":{\"color\":\"#2a3f5f\"},\"geo\":{\"bgcolor\":\"white\",\"lakecolor\":\"white\",\"landcolor\":\"#E5ECF6\",\"showlakes\":true,\"showland\":true,\"subunitcolor\":\"white\"},\"hoverlabel\":{\"align\":\"left\"},\"hovermode\":\"closest\",\"mapbox\":{\"style\":\"light\"},\"paper_bgcolor\":\"white\",\"plot_bgcolor\":\"#E5ECF6\",\"polar\":{\"angularaxis\":{\"gridcolor\":\"white\",\"linecolor\":\"white\",\"ticks\":\"\"},\"bgcolor\":\"#E5ECF6\",\"radialaxis\":{\"gridcolor\":\"white\",\"linecolor\":\"white\",\"ticks\":\"\"}},\"scene\":{\"xaxis\":{\"backgroundcolor\":\"#E5ECF6\",\"gridcolor\":\"white\",\"gridwidth\":2,\"linecolor\":\"white\",\"showbackground\":true,\"ticks\":\"\",\"zerolinecolor\":\"white\"},\"yaxis\":{\"backgroundcolor\":\"#E5ECF6\",\"gridcolor\":\"white\",\"gridwidth\":2,\"linecolor\":\"white\",\"showbackground\":true,\"ticks\":\"\",\"zerolinecolor\":\"white\"},\"zaxis\":{\"backgroundcolor\":\"#E5ECF6\",\"gridcolor\":\"white\",\"gridwidth\":2,\"linecolor\":\"white\",\"showbackground\":true,\"ticks\":\"\",\"zerolinecolor\":\"white\"}},\"shapedefaults\":{\"line\":{\"color\":\"#2a3f5f\"}},\"ternary\":{\"aaxis\":{\"gridcolor\":\"white\",\"linecolor\":\"white\",\"ticks\":\"\"},\"baxis\":{\"gridcolor\":\"white\",\"linecolor\":\"white\",\"ticks\":\"\"},\"bgcolor\":\"#E5ECF6\",\"caxis\":{\"gridcolor\":\"white\",\"linecolor\":\"white\",\"ticks\":\"\"}},\"title\":{\"x\":0.05},\"xaxis\":{\"automargin\":true,\"gridcolor\":\"white\",\"linecolor\":\"white\",\"ticks\":\"\",\"title\":{\"standoff\":15},\"zerolinecolor\":\"white\",\"zerolinewidth\":2},\"yaxis\":{\"automargin\":true,\"gridcolor\":\"white\",\"linecolor\":\"white\",\"ticks\":\"\",\"title\":{\"standoff\":15},\"zerolinecolor\":\"white\",\"zerolinewidth\":2}}},\"xaxis\":{\"anchor\":\"y\",\"domain\":[0.0,1.0],\"type\":\"date\"},\"yaxis\":{\"anchor\":\"x\",\"domain\":[0.0,1.0],\"title\":{\"text\":\"Task\"},\"autorange\":\"reversed\"},\"legend\":{\"title\":{\"text\":\"client\"},\"tracegroupgap\":0},\"margin\":{\"t\":60},\"barmode\":\"overlay\",\"height\":1000,\"shapes\":[{\"line\":{\"color\":\"white\"},\"type\":\"line\",\"x0\":0,\"x1\":1,\"xref\":\"x domain\",\"y0\":3.5,\"y1\":3.5,\"yref\":\"y\"},{\"line\":{\"color\":\"white\"},\"type\":\"line\",\"x0\":0,\"x1\":1,\"xref\":\"x domain\",\"y0\":7.5,\"y1\":7.5,\"yref\":\"y\"},{\"line\":{\"color\":\"white\"},\"type\":\"line\",\"x0\":0,\"x1\":1,\"xref\":\"x domain\",\"y0\":11.5,\"y1\":11.5,\"yref\":\"y\"},{\"line\":{\"color\":\"white\"},\"type\":\"line\",\"x0\":0,\"x1\":1,\"xref\":\"x domain\",\"y0\":15.5,\"y1\":15.5,\"yref\":\"y\"},{\"line\":{\"color\":\"white\"},\"type\":\"line\",\"x0\":0,\"x1\":1,\"xref\":\"x domain\",\"y0\":19.5,\"y1\":19.5,\"yref\":\"y\"},{\"line\":{\"color\":\"white\"},\"type\":\"line\",\"x0\":0,\"x1\":1,\"xref\":\"x domain\",\"y0\":23.5,\"y1\":23.5,\"yref\":\"y\"},{\"line\":{\"color\":\"white\"},\"type\":\"line\",\"x0\":0,\"x1\":1,\"xref\":\"x domain\",\"y0\":27.5,\"y1\":27.5,\"yref\":\"y\"},{\"line\":{\"color\":\"white\"},\"type\":\"line\",\"x0\":0,\"x1\":1,\"xref\":\"x domain\",\"y0\":31.5,\"y1\":31.5,\"yref\":\"y\"},{\"line\":{\"color\":\"white\"},\"type\":\"line\",\"x0\":0,\"x1\":1,\"xref\":\"x domain\",\"y0\":35.5,\"y1\":35.5,\"yref\":\"y\"},{\"line\":{\"color\":\"white\"},\"type\":\"line\",\"x0\":0,\"x1\":1,\"xref\":\"x domain\",\"y0\":38.5,\"y1\":38.5,\"yref\":\"y\"},{\"line\":{\"color\":\"white\"},\"type\":\"line\",\"x0\":0,\"x1\":1,\"xref\":\"x domain\",\"y0\":42.5,\"y1\":42.5,\"yref\":\"y\"}],\"annotations\":[{\"font\":{\"color\":\"black\"},\"showarrow\":false,\"text\":\"v3-testable\",\"x\":\"2018-06-01\",\"y\":0},{\"font\":{\"color\":\"black\"},\"showarrow\":false,\"text\":\"v3-traintune\",\"x\":\"2020-01-30\",\"y\":1},{\"font\":{\"color\":\"black\"},\"showarrow\":false,\"text\":\"v1-dpy\",\"x\":\"2020-06-24\",\"y\":2},{\"font\":{\"color\":\"black\"},\"showarrow\":false,\"text\":\"v3-dpy\",\"x\":\"2021-09-21\",\"y\":3},{\"font\":{\"color\":\"black\"},\"showarrow\":false,\"text\":\"v3-testable\",\"x\":\"2018-03-01\",\"y\":4},{\"font\":{\"color\":\"black\"},\"showarrow\":false,\"text\":\"v3-traintune\",\"x\":\"2019-10-30\",\"y\":5},{\"font\":{\"color\":\"black\"},\"showarrow\":false,\"text\":\"v1-dpy\",\"x\":\"2021-07-23\",\"y\":6},{\"font\":{\"color\":\"black\"},\"showarrow\":false,\"text\":\"v3-dpy\",\"x\":\"2021-10-08\",\"y\":7},{\"font\":{\"color\":\"black\"},\"showarrow\":false,\"text\":\"v3-testable\",\"x\":\"2019-04-01\",\"y\":8},{\"font\":{\"color\":\"black\"},\"showarrow\":false,\"text\":\"v3-traintune\",\"x\":\"2021-02-14\",\"y\":9},{\"font\":{\"color\":\"black\"},\"showarrow\":false,\"text\":\"v1-dpy\",\"x\":\"2021-05-05\",\"y\":10},{\"font\":{\"color\":\"black\"},\"showarrow\":false,\"text\":\"v3-dpy\",\"x\":\"2021-11-16\",\"y\":11},{\"font\":{\"color\":\"black\"},\"showarrow\":false,\"text\":\"v3-testable\",\"x\":\"2017-12-31\",\"y\":12},{\"font\":{\"color\":\"black\"},\"showarrow\":false,\"text\":\"v3-traintune\",\"x\":\"2019-08-31\",\"y\":13},{\"font\":{\"color\":\"black\"},\"showarrow\":false,\"text\":\"v1-dpy\",\"x\":\"2021-05-23\",\"y\":14},{\"font\":{\"color\":\"black\"},\"showarrow\":false,\"text\":\"v3-dpy\",\"x\":\"2021-09-21\",\"y\":15},{\"font\":{\"color\":\"black\"},\"showarrow\":false,\"text\":\"v3-testable\",\"x\":\"2018-10-31\",\"y\":16},{\"font\":{\"color\":\"black\"},\"showarrow\":false,\"text\":\"v3-traintune\",\"x\":\"2020-09-07\",\"y\":17},{\"font\":{\"color\":\"black\"},\"showarrow\":false,\"text\":\"v1-dpy\",\"x\":\"2021-04-30\",\"y\":18},{\"font\":{\"color\":\"black\"},\"showarrow\":false,\"text\":\"v3-dpy\",\"x\":\"2021-11-12\",\"y\":19},{\"font\":{\"color\":\"black\"},\"showarrow\":false,\"text\":\"v3-testable\",\"x\":\"2018-05-02\",\"y\":20},{\"font\":{\"color\":\"black\"},\"showarrow\":false,\"text\":\"v3-traintune\",\"x\":\"2020-03-16\",\"y\":21},{\"font\":{\"color\":\"black\"},\"showarrow\":false,\"text\":\"v1-dpy\",\"x\":\"2021-05-23\",\"y\":22},{\"font\":{\"color\":\"black\"},\"showarrow\":false,\"text\":\"v3-dpy\",\"x\":\"2021-11-16\",\"y\":23},{\"font\":{\"color\":\"black\"},\"showarrow\":false,\"text\":\"v3-testable\",\"x\":\"2018-10-31\",\"y\":24},{\"font\":{\"color\":\"black\"},\"showarrow\":false,\"text\":\"v3-traintune\",\"x\":\"2020-09-07\",\"y\":25},{\"font\":{\"color\":\"black\"},\"showarrow\":false,\"text\":\"v1-dpy\",\"x\":\"2021-01-20\",\"y\":26},{\"font\":{\"color\":\"black\"},\"showarrow\":false,\"text\":\"v3-dpy\",\"x\":\"2021-11-11\",\"y\":27},{\"font\":{\"color\":\"black\"},\"showarrow\":false,\"text\":\"v3-testable\",\"x\":\"2018-03-01\",\"y\":28},{\"font\":{\"color\":\"black\"},\"showarrow\":false,\"text\":\"v3-traintune\",\"x\":\"2019-10-30\",\"y\":29},{\"font\":{\"color\":\"black\"},\"showarrow\":false,\"text\":\"v1-dpy\",\"x\":\"2021-06-18\",\"y\":30},{\"font\":{\"color\":\"black\"},\"showarrow\":false,\"text\":\"v3-dpy\",\"x\":\"2021-09-21\",\"y\":31},{\"font\":{\"color\":\"black\"},\"showarrow\":false,\"text\":\"v3-testable\",\"x\":\"2018-05-02\",\"y\":32},{\"font\":{\"color\":\"black\"},\"showarrow\":false,\"text\":\"v3-traintune\",\"x\":\"2020-03-16\",\"y\":33},{\"font\":{\"color\":\"black\"},\"showarrow\":false,\"text\":\"v1-dpy\",\"x\":\"2021-05-23\",\"y\":34},{\"font\":{\"color\":\"black\"},\"showarrow\":false,\"text\":\"v3-dpy\",\"x\":\"2021-11-16\",\"y\":35},{\"font\":{\"color\":\"black\"},\"showarrow\":false,\"text\":\"v4-testable\",\"x\":\"2020-06-30\",\"y\":36},{\"font\":{\"color\":\"black\"},\"showarrow\":false,\"text\":\"v4-traintune\",\"x\":\"2021-01-14\",\"y\":37},{\"font\":{\"color\":\"black\"},\"showarrow\":false,\"text\":\"v4-dpy\",\"x\":\"2021-11-06\",\"y\":38},{\"font\":{\"color\":\"black\"},\"showarrow\":false,\"text\":\"v4-testable\",\"x\":\"2020-06-30\",\"y\":39},{\"font\":{\"color\":\"black\"},\"showarrow\":false,\"text\":\"v4-traintune\",\"x\":\"2021-01-14\",\"y\":40},{\"font\":{\"color\":\"black\"},\"showarrow\":false,\"text\":\"v4-dpy\",\"x\":\"2021-11-07\",\"y\":41}]},                        {\"responsive\": true}                    ).then(function(){\n",
       "                            \n",
       "var gd = document.getElementById('6568b3ae-e604-47ad-9e00-e2cba46ddffe');\n",
       "var x = new MutationObserver(function (mutations, observer) {{\n",
       "        var display = window.getComputedStyle(gd).display;\n",
       "        if (!display || display === 'none') {{\n",
       "            console.log([gd, 'removed!']);\n",
       "            Plotly.purge(gd);\n",
       "            observer.disconnect();\n",
       "        }}\n",
       "}});\n",
       "\n",
       "// Listen for the removal of the full notebook cells\n",
       "var notebookContainer = gd.closest('#notebook-container');\n",
       "if (notebookContainer) {{\n",
       "    x.observe(notebookContainer, {childList: true});\n",
       "}}\n",
       "\n",
       "// Listen for the clearing of the current output cell\n",
       "var outputEl = gd.closest('.output');\n",
       "if (outputEl) {{\n",
       "    x.observe(outputEl, {childList: true});\n",
       "}}\n",
       "\n",
       "                        })                };                });            </script>        </div>"
      ]
     },
     "metadata": {},
     "output_type": "display_data"
    }
   ],
   "source": [
    "fig = px.timeline(merged_df, x_start=\"Start\", x_end=\"Finish\", y=\"Task\", color=\"client\", height=1000,)\n",
    "fig.update_yaxes(autorange=\"reversed\")\n",
    "\n",
    "for idx in range(len(df)):\n",
    "    fig.add_hline(y=(idx*4)+3.5, line_color=\"white\")\n",
    "    \n",
    "for idx in range(len(scraped_df)):\n",
    "    fig.add_hline(y=(len(df)*4)+((idx*4)+2.5), line_color=\"white\")\n",
    "\n",
    "\n",
    "fig['layout']['annotations'] = annots\n",
    "fig.show()"
   ]
  },
  {
   "cell_type": "code",
   "execution_count": null,
   "id": "08e5bef0",
   "metadata": {},
   "outputs": [],
   "source": []
  }
 ],
 "metadata": {
  "kernelspec": {
   "display_name": "Python 3 (ipykernel)",
   "language": "python",
   "name": "python3"
  },
  "language_info": {
   "codemirror_mode": {
    "name": "ipython",
    "version": 3
   },
   "file_extension": ".py",
   "mimetype": "text/x-python",
   "name": "python",
   "nbconvert_exporter": "python",
   "pygments_lexer": "ipython3",
   "version": "3.8.10"
  }
 },
 "nbformat": 4,
 "nbformat_minor": 5
}
