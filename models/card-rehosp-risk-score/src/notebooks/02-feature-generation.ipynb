{
 "cells": [
  {
   "cell_type": "code",
   "execution_count": null,
   "metadata": {},
   "outputs": [],
   "source": [
    "import sys\n",
    "from pathlib import Path\n",
    "\n",
    "sys.path.insert(0, '/src')\n",
    "import pandas as pd\n",
    "\n",
    "from shared.load_raw_data import fetch_cache_data\n",
    "from shared.utils import get_client_class\n",
    "from shared.constants import CLIENT, END_DATE,START_DATE\n",
    "from eliot import  to_file\n",
    "from shared.data_manager import DataManager\n",
    "to_file(sys.stdout)"
   ]
  },
  {
   "cell_type": "code",
   "execution_count": null,
   "metadata": {},
   "outputs": [],
   "source": [
    "pd.set_option('display.max_rows', None)\n",
    "pd.set_option('display.max_columns', None)\n",
    "pd.set_option('display.width', None)\n",
    "pd.set_option('display.max_colwidth', -1)"
   ]
  },
  {
   "cell_type": "code",
   "execution_count": null,
   "metadata": {},
   "outputs": [],
   "source": [
    "# Load the data from local directory cache \n",
    "\n",
    "processed_path = Path('/data/processed')\n",
    "processed_path.mkdir(parents=True, exist_ok=True)\n",
    "facilityid = 1\n",
    "S3_BUCKET = 'saiva-dev-data-bucket'\n",
    "clientClass = get_client_class(client=CLIENT)\n",
    "\n",
    "result_dict = fetch_cache_data(client=CLIENT, generic=True)\n",
    "for key, value in result_dict.items():\n",
    "    print(f'{key} : {result_dict[key].shape}')"
   ]
  },
  {
   "cell_type": "code",
   "execution_count": null,
   "metadata": {},
   "outputs": [],
   "source": [
    "%%time\n",
    "\n",
    "dm = DataManager(\n",
    "    result_dict=result_dict,\n",
    "    facilityid=facilityid,\n",
    "    client=CLIENT,\n",
    "    start_date=START_DATE,\n",
    "    end_date=END_DATE,\n",
    "    s3_bucket=S3_BUCKET,\n",
    ")"
   ]
  },
  {
   "cell_type": "code",
   "execution_count": null,
   "metadata": {},
   "outputs": [],
   "source": [
    "%%time\n",
    "\n",
    "alerts_df, admissions_df, diagnosis_df, rehosp_df = dm.get_features()\n",
    "alerts_df.to_parquet(processed_path/'alerts_df.parquet')\n",
    "admissions_df.to_parquet(processed_path/'admissions_df.parquet')\n",
    "diagnosis_df.to_parquet(processed_path/'diagnosis_df.parquet')\n",
    "rehosp_df.to_parquet(processed_path/'rehosp_df.parquet')\n",
    "\n",
    "print(alerts_df.shape)\n",
    "print(admissions_df.shape)\n",
    "print(diagnosis_df.shape)\n",
    "print(rehosp_df.shape)\n",
    "\n",
    "rehosp_df.head(3)"
   ]
  },
  {
   "cell_type": "code",
   "execution_count": null,
   "metadata": {},
   "outputs": [],
   "source": [
    "%%time\n",
    "\n",
    "final_df = dm.merge_features(\n",
    "    alerts_df,\n",
    "    admissions_df,\n",
    "    diagnosis_df,\n",
    "    rehosp_df\n",
    ")\n",
    "final_df.head()"
   ]
  },
  {
   "cell_type": "markdown",
   "metadata": {},
   "source": [
    "## +++++++++++++++++++++ RANKING +++++++++++++++++++"
   ]
  },
  {
   "cell_type": "code",
   "execution_count": null,
   "metadata": {},
   "outputs": [],
   "source": [
    "score_df = dm.generate_total_score(final_df)\n",
    "result_df = dm.generate_ranks(score_df)\n",
    "\n",
    "result_df.head(20)"
   ]
  },
  {
   "cell_type": "code",
   "execution_count": null,
   "metadata": {},
   "outputs": [],
   "source": [
    "result_df.to_parquet(processed_path/'final_df.parquet')"
   ]
  },
  {
   "cell_type": "code",
   "execution_count": null,
   "metadata": {},
   "outputs": [],
   "source": [
    "result_df[result_df['censusdate'] == '2020-12-02'].head(25)"
   ]
  },
  {
   "cell_type": "code",
   "execution_count": null,
   "metadata": {},
   "outputs": [],
   "source": []
  }
 ],
 "metadata": {
  "kernelspec": {
   "display_name": "Python 3",
   "language": "python",
   "name": "python3"
  },
  "language_info": {
   "codemirror_mode": {
    "name": "ipython",
    "version": 3
   },
   "file_extension": ".py",
   "mimetype": "text/x-python",
   "name": "python",
   "nbconvert_exporter": "python",
   "pygments_lexer": "ipython3",
   "version": "3.7.9"
  }
 },
 "nbformat": 4,
 "nbformat_minor": 4
}
