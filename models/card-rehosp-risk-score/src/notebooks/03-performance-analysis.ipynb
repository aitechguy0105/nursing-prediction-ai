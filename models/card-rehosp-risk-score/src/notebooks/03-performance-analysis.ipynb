{
 "cells": [
  {
   "cell_type": "markdown",
   "metadata": {},
   "source": [
    "## This notebook is used to find the recall & AUC, ROC "
   ]
  },
  {
   "cell_type": "code",
   "execution_count": 1,
   "metadata": {},
   "outputs": [],
   "source": [
    "import sys\n",
    "from pathlib import Path\n",
    "import numpy as np\n",
    "\n",
    "sys.path.insert(0, '/src')\n",
    "import pandas as pd\n",
    "\n",
    "from shared.utils import get_client_class, get_memory_usage\n",
    "from shared.constants import CLIENT, END_DATE,START_DATE\n",
    "from eliot import start_action, start_task, to_file, log_message\n",
    "from sklearn.metrics import roc_auc_score, average_precision_score\n",
    "to_file(sys.stdout)"
   ]
  },
  {
   "cell_type": "code",
   "execution_count": 2,
   "metadata": {},
   "outputs": [],
   "source": [
    "# Constants\n",
    "\n",
    "processed_path = Path('/data/processed')\n",
    "processed_path.mkdir(parents=True, exist_ok=True)\n"
   ]
  },
  {
   "cell_type": "code",
   "execution_count": 3,
   "metadata": {},
   "outputs": [],
   "source": [
    "final_df = pd.read_parquet(processed_path/'final_df.parquet')"
   ]
  },
  {
   "cell_type": "code",
   "execution_count": 4,
   "metadata": {},
   "outputs": [],
   "source": [
    "# Preprocessing \n",
    "\n",
    "final_df['hosp_target_3_day_hosp'] = final_df.hosp_target_3_day_hosp.astype('float32').values\n",
    "final_df = final_df.sort_values('predictionrank', ascending=True)"
   ]
  },
  {
   "cell_type": "code",
   "execution_count": 5,
   "metadata": {},
   "outputs": [],
   "source": [
    "\"\"\" Calculate how many transfers were caught up to a particular rank.\n",
    "hospital_cumsum - how many transfers caught upto a certain rank. Eg: Caught transfers till 10 th rank\n",
    "Relavant - total transfers per day per facility\n",
    "\"\"\"\n",
    "\n",
    "def precision_recall_at_k(group):\n",
    "    group.loc[:, \"hospitalized_cumsum\"] = group.hosp_target_3_day_hosp.cumsum()\n",
    "    group.loc[:, \"total_relevant\"] = group.hosp_target_3_day_hosp.sum()\n",
    "    group.loc[:, \"recall_at_k\"] = group.hospitalized_cumsum / group.total_relevant\n",
    "\n",
    "    return group.reset_index(drop=True)"
   ]
  },
  {
   "cell_type": "code",
   "execution_count": 6,
   "metadata": {},
   "outputs": [
    {
     "data": {
      "text/plain": [
       "0.16666667525832718"
      ]
     },
     "execution_count": 6,
     "metadata": {},
     "output_type": "execute_result"
    }
   ],
   "source": [
    "\n",
    "performance_base = (\n",
    "            final_df.groupby([\"censusdate\"])\n",
    "            .apply(precision_recall_at_k)\n",
    "            .reset_index(drop=True)\n",
    "        )\n",
    "\n",
    "performance_base.head()\n",
    "facility_15_ranks = performance_base.loc[performance_base['predictionrank'] == 15]\n",
    "\n",
    "# add all the recalls at a facility level\n",
    "if facility_15_ranks.recall_at_k.count() > 0:\n",
    "    total_facility_recall = facility_15_ranks.recall_at_k.sum() / facility_15_ranks.recall_at_k.count()\n",
    "else:\n",
    "    total_facility_recall = 0\n",
    "    \n",
    "total_facility_recall"
   ]
  },
  {
   "cell_type": "markdown",
   "metadata": {},
   "source": [
    "### ================= AUC ROC ================="
   ]
  },
  {
   "cell_type": "code",
   "execution_count": 7,
   "metadata": {},
   "outputs": [],
   "source": [
    "y_true = final_df['hosp_target_3_day_hosp']\n",
    "y_score = final_df['total_score']"
   ]
  },
  {
   "cell_type": "code",
   "execution_count": 8,
   "metadata": {},
   "outputs": [
    {
     "name": "stdout",
     "output_type": "stream",
     "text": [
      "AUC ROC : 0.6399582853855006\n",
      "Average Precision Score : 0.0154008788481428\n"
     ]
    }
   ],
   "source": [
    "\n",
    "total_valid_aucroc = roc_auc_score(y_true, y_score)\n",
    "total_valid_ap = average_precision_score(y_true, y_score)\n",
    "\n",
    "print(f'AUC ROC : {total_valid_aucroc}')\n",
    "print(f'Average Precision Score : {total_valid_ap}')\n"
   ]
  }
 ],
 "metadata": {
  "kernelspec": {
   "display_name": "Python 3",
   "language": "python",
   "name": "python3"
  },
  "language_info": {
   "codemirror_mode": {
    "name": "ipython",
    "version": 3
   },
   "file_extension": ".py",
   "mimetype": "text/x-python",
   "name": "python",
   "nbconvert_exporter": "python",
   "pygments_lexer": "ipython3",
   "version": "3.7.9"
  }
 },
 "nbformat": 4,
 "nbformat_minor": 4
}
