{
 "cells": [
  {
   "cell_type": "code",
   "execution_count": null,
   "metadata": {},
   "outputs": [],
   "source": [
    "import sys\n",
    "import pandas as pd\n",
    "from pathlib import Path\n",
    "sys.path.insert(0, '/src')\n",
    "from shared.generate_note_embeddings import generating_notes, processing_word_vectors\n",
    "from shared.utils import get_client_class, get_memory_usage\n",
    "from eliot import start_action, start_task, to_file, log_message\n",
    "from shared.constants import CLIENT\n",
    "to_file(sys.stdout)"
   ]
  },
  {
   "cell_type": "code",
   "execution_count": null,
   "metadata": {},
   "outputs": [],
   "source": [
    "clientClass = get_client_class(client=CLIENT)\n",
    "processed_path = Path('/data/processed/')\n",
    "raw_path = Path('/data/raw/')"
   ]
  },
  {
   "cell_type": "code",
   "execution_count": null,
   "metadata": {},
   "outputs": [],
   "source": [
    "# Load combined (test, valid, train) datasets so note embeddings can be joined\n",
    "combined = pd.read_parquet(processed_path/'03-result.parquet')"
   ]
  },
  {
   "cell_type": "code",
   "execution_count": null,
   "metadata": {},
   "outputs": [],
   "source": [
    "# Load Progress note table data\n",
    "raw_progress_notes = pd.read_parquet(raw_path/'patient_progress_notes.parquet')\n",
    "raw_progress_notes = raw_progress_notes[~raw_progress_notes['notetext'].isna()]"
   ]
  },
  {
   "cell_type": "markdown",
   "metadata": {},
   "source": [
    "### ========= Configure the correct note_embeddings_emar_types in client file ========="
   ]
  },
  {
   "cell_type": "code",
   "execution_count": null,
   "metadata": {},
   "outputs": [],
   "source": [
    "# debugging: See which notes to add as eMAR\n",
    "# [notetype for notetype in raw_progress_notes['progressnotetype'].unique() \n",
    "#      if notetype.startswith('e')]"
   ]
  },
  {
   "cell_type": "code",
   "execution_count": null,
   "metadata": {},
   "outputs": [],
   "source": [
    "# debugging: check out one of the note types\n",
    "# raw_progress_notes[raw_progress_notes.progressnotetype == 'eMar - PRN Medication']"
   ]
  },
  {
   "cell_type": "markdown",
   "metadata": {},
   "source": [
    "### ============================= END ====================================="
   ]
  },
  {
   "cell_type": "code",
   "execution_count": null,
   "metadata": {},
   "outputs": [],
   "source": [
    "# Fetch filtered Patient Progress Notes\n",
    "emar_notes, progress_notes = generating_notes(raw_progress_notes, clientClass)\n",
    "print(emar_notes.shape)\n",
    "print(progress_notes.shape)"
   ]
  },
  {
   "cell_type": "code",
   "execution_count": null,
   "metadata": {},
   "outputs": [],
   "source": [
    "!  aws s3 cp s3://saiva-models/1/4e78363600a14e65866d8c1ef7ab28fe/artifacts/ /data/models/ --recursive --exclude=\"*\" --include=\"ft_*\""
   ]
  },
  {
   "cell_type": "markdown",
   "metadata": {},
   "source": [
    "### Don't forget!! Download ft_emar & ft_non_emar models using linux CLI\n",
    "\n",
    "<code> aws s3 cp s3://saiva-models/1/4e78363600a14e65866d8c1ef7ab28fe/artifacts/ /data/models/ --recursive --exclude=\"*\" --include=\"ft_*\"\n"
   ]
  },
  {
   "cell_type": "code",
   "execution_count": null,
   "metadata": {
    "collapsed": false,
    "jupyter": {
     "outputs_hidden": false
    },
    "pycharm": {
     "name": "#%%\n"
    }
   },
   "outputs": [],
   "source": [
    "%%time\n",
    "\n",
    "final = processing_word_vectors(combined,emar_notes, progress_notes, clientClass)\n",
    "final.to_parquet(processed_path/'04-result.parquet')"
   ]
  },
  {
   "cell_type": "code",
   "execution_count": null,
   "metadata": {},
   "outputs": [],
   "source": [
    "print(get_memory_usage(combined))\n",
    "print(get_memory_usage(final))"
   ]
  },
  {
   "cell_type": "code",
   "execution_count": null,
   "metadata": {},
   "outputs": [],
   "source": []
  }
 ],
 "metadata": {
  "kernelspec": {
   "display_name": "Python 3",
   "language": "python",
   "name": "python3"
  },
  "language_info": {
   "codemirror_mode": {
    "name": "ipython",
    "version": 3
   },
   "file_extension": ".py",
   "mimetype": "text/x-python",
   "name": "python",
   "nbconvert_exporter": "python",
   "pygments_lexer": "ipython3",
   "version": "3.7.9"
  }
 },
 "nbformat": 4,
 "nbformat_minor": 4
}
