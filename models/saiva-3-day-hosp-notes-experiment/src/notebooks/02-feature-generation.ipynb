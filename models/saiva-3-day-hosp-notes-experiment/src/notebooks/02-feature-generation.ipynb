{
 "cells": [
  {
   "cell_type": "code",
   "execution_count": null,
   "metadata": {},
   "outputs": [],
   "source": [
    "import pandas as pd\n",
    "import gc\n",
    "import sys\n",
    "from pathlib import Path\n",
    "sys.path.insert(0, '/src')\n",
    "from shared.generate_base_features import base_feature_processing\n",
    "from shared.generate_lab_features import get_lab_features\n",
    "from shared.load_raw_data import fetch_training_cache_data\n",
    "from shared.utils import get_client_class, get_memory_usage\n",
    "from shared.constants import CLIENT\n",
    "from eliot import start_action, start_task, to_file, log_message\n",
    "to_file(sys.stdout)"
   ]
  },
  {
   "cell_type": "code",
   "execution_count": null,
   "metadata": {},
   "outputs": [],
   "source": [
    "# Load the data from local directory cache \n",
    "\n",
    "processed_path = Path('/data/processed')\n",
    "processed_path.mkdir(parents=True, exist_ok=True)\n",
    "\n",
    "S3_BUCKET = 'saiva-dev-data-bucket'\n",
    "\n",
    "clientClass = get_client_class(client=CLIENT)\n",
    "TRAIN_START_DATE, TRAIN_END_DATE  = getattr(clientClass(), 'get_training_dates')()\n",
    "\n",
    "result_dict = fetch_training_cache_data(client=CLIENT, generic=True)\n",
    "for key, value in result_dict.items():\n",
    "    print(f'{key} : {result_dict[key].shape}')"
   ]
  },
  {
   "cell_type": "code",
   "execution_count": null,
   "metadata": {},
   "outputs": [],
   "source": [
    "%%time\n",
    "\n",
    "# Save the combined dataframe to local directory\n",
    "\n",
    "base, result_dict = base_feature_processing(\n",
    "    result_dict=result_dict, \n",
    "    train_start_date=TRAIN_START_DATE, \n",
    "    prediction_date=TRAIN_END_DATE, \n",
    "    s3_bucket=S3_BUCKET,\n",
    "    training=True\n",
    ")"
   ]
  },
  {
   "cell_type": "code",
   "execution_count": null,
   "metadata": {},
   "outputs": [],
   "source": [
    "%%time\n",
    "\n",
    "# If Lab features are present then combine them\n",
    "if not result_dict.get('patient_lab_results', pd.DataFrame()).empty:\n",
    "    combined = get_lab_features(\n",
    "        base=base,\n",
    "        patient_lab_results=result_dict.get('patient_lab_results'),\n",
    "        training=True\n",
    "    )\n",
    "else:\n",
    "    combined = base\n",
    "\n",
    "del base"
   ]
  },
  {
   "cell_type": "code",
   "execution_count": null,
   "metadata": {},
   "outputs": [],
   "source": [
    "# Write to new parquet file\n",
    "combined.to_parquet(processed_path/'02-result.parquet')"
   ]
  },
  {
   "cell_type": "code",
   "execution_count": null,
   "metadata": {},
   "outputs": [],
   "source": [
    "print(get_memory_usage(combined))"
   ]
  },
  {
   "cell_type": "code",
   "execution_count": null,
   "metadata": {},
   "outputs": [],
   "source": []
  }
 ],
 "metadata": {
  "kernelspec": {
   "display_name": "Python 3",
   "language": "python",
   "name": "python3"
  },
  "language_info": {
   "codemirror_mode": {
    "name": "ipython",
    "version": 3
   },
   "file_extension": ".py",
   "mimetype": "text/x-python",
   "name": "python",
   "nbconvert_exporter": "python",
   "pygments_lexer": "ipython3",
   "version": "3.7.9"
  }
 },
 "nbformat": 4,
 "nbformat_minor": 4
}
