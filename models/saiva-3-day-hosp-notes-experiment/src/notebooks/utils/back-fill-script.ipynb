{
 "cells": [
  {
   "cell_type": "code",
   "execution_count": null,
   "metadata": {},
   "outputs": [],
   "source": [
    "import boto3\n",
    "from datetime import datetime\n",
    "import pandas as pd"
   ]
  },
  {
   "cell_type": "markdown",
   "metadata": {},
   "source": [
    "### =============================================================================================="
   ]
  },
  {
   "cell_type": "code",
   "execution_count": null,
   "metadata": {},
   "outputs": [],
   "source": [
    "env = 'dev'\n",
    "CACHED_S3_BUCKET = 'saiva-dev-data-bucket'\n",
    "client = 'trio'\n",
    "task_name = 'saiva-3-day-hosp-v1'\n",
    "facilities = [1, 7, 21, 42, 52, 55, 186, 194, 265, 273, 274, 275, 276, 277, 278, 279]"
   ]
  },
  {
   "cell_type": "code",
   "execution_count": null,
   "metadata": {},
   "outputs": [],
   "source": [
    "env = 'staging'\n",
    "CACHED_S3_BUCKET = 'saiva-staging-data-bucket'\n",
    "client = 'avante'\n",
    "task_name = 'saiva-3-day-hosp-v1'\n",
    "# facilities = [1, 3, 4, 5, 6, 7, 8, 9, 10, 13, 21]\n",
    "facilities = [7]"
   ]
  },
  {
   "cell_type": "code",
   "execution_count": null,
   "metadata": {},
   "outputs": [],
   "source": [
    "env = 'prod'\n",
    "CACHED_S3_BUCKET = 'saiva-prod-data-bucket'\n",
    "client = 'dycora'\n",
    "task_name = 'dycora-3-day-hosp'\n",
    "# facilities = [121, 302]\n",
    "facilities = [302]"
   ]
  },
  {
   "cell_type": "markdown",
   "metadata": {},
   "source": [
    "## ++++++++++++++++++++++++++++++++++++++++++++++++++++++++++++++++++++++++++++++"
   ]
  },
  {
   "cell_type": "code",
   "execution_count": null,
   "metadata": {},
   "outputs": [],
   "source": [
    "client = 'trio'\n",
    "env = 'dev'\n",
    "# facilities = [1,3,4,5,6,7,8,9,10,13,21] avante\n",
    "facilities = [279,278,277,276,275,274,273,194,1,21,186,265,55,52,42,7]  # trio\n",
    "CACHED_S3_BUCKET = 'saiva-dev-data-bucket'\n",
    "task_name = 'saiva-3-day-hosp-v2'\n",
    "prediction_start_date = '2020-12-01'\n",
    "prediction_end_date = '2021-01-31'\n",
    "\n",
    "saiva = boto3.session.Session()\n",
    "boto3.setup_default_session()"
   ]
  },
  {
   "cell_type": "code",
   "execution_count": null,
   "metadata": {},
   "outputs": [],
   "source": [
    "vpn_instance = {\n",
    "    \"dev\": \"i-07197a52885c34d68\",\n",
    "    \"staging\": \"i-07d9c5587e7637960\",\n",
    "    \"prod\": \"i-0e5f01117bb50fdb1\"\n",
    "}\n",
    "\n",
    "AutoScalingGroupName = {\n",
    "    \"dev\": \"dev-Internal-ASG\",\n",
    "    \"staging\": \"staging-Internal-ASG\",\n",
    "    \"prod\": \"prod-Internal-ASG\"\n",
    "}\n",
    "\n",
    "ClusterName = {\n",
    "    \"dev\": \"dev-Internal\",\n",
    "    \"staging\": \"staging-Internal\",\n",
    "    \"prod\": \"prod-Internal\"  \n",
    "}\n",
    "\n",
    "networkConfiguration = {\n",
    "    \"dev\": {\n",
    "        'awsvpcConfiguration': {\n",
    "            'securityGroups': ['sg-008159c0210f49f96'], \n",
    "            'subnets': ['subnet-0eb41526eff222cab', 'subnet-04b6e7f553bd31909'], \n",
    "            'assignPublicIp': 'DISABLED'}},\n",
    "    \"staging\": {\n",
    "        'awsvpcConfiguration': {\n",
    "            'securityGroups': ['sg-0f8d382201750604e'], \n",
    "            'subnets': ['subnet-0b9343ae7c5712608', 'subnet-01d3901613027f4d9'], \n",
    "            'assignPublicIp': 'DISABLED'}},\n",
    "    \"prod\": {\n",
    "            \"awsvpcConfiguration\": {\n",
    "                \"securityGroups\": [\"sg-041a9f4c8e2f4fd56\"],\n",
    "                \"subnets\": [\"subnet-0c87ee56c3e4e27d1\", \"subnet-065f42df2509bd9f5\"],\n",
    "                \"assignPublicIp\": \"DISABLED\",\n",
    "            }\n",
    "        }\n",
    "}"
   ]
  },
  {
   "cell_type": "code",
   "execution_count": null,
   "metadata": {},
   "outputs": [],
   "source": [
    "# Turn on the Avante VPN Server \n",
    "\n",
    "ec2 = boto3.client('ec2', region_name='us-east-1')\n",
    "ec2.start_instances(\n",
    "    InstanceIds=[\n",
    "        vpn_instance[env], # Instance ID of the VPN Server\n",
    "    ]\n",
    ")"
   ]
  },
  {
   "cell_type": "code",
   "execution_count": null,
   "metadata": {},
   "outputs": [],
   "source": [
    "asg = boto3.client('autoscaling', region_name='us-east-1')"
   ]
  },
  {
   "cell_type": "code",
   "execution_count": null,
   "metadata": {},
   "outputs": [],
   "source": [
    "desired_count = len(facilities)\n",
    "# Scale Up the ASG\n",
    "response = asg.update_auto_scaling_group(\n",
    "        AutoScalingGroupName=AutoScalingGroupName[env],\n",
    "        DesiredCapacity=desired_count,\n",
    "        MaxSize=desired_count,\n",
    "        DefaultCooldown=100\n",
    "    )\n",
    "response"
   ]
  },
  {
   "cell_type": "code",
   "execution_count": null,
   "metadata": {},
   "outputs": [],
   "source": [
    "# List all running services or Tasks\n",
    "\n",
    "ecs = boto3.client('ecs', region_name='us-east-1')\n",
    "response = ecs.list_tasks(cluster=\"dev-Internal\",maxResults=100,launchType='EC2')\n",
    "response['taskArns']"
   ]
  },
  {
   "cell_type": "code",
   "execution_count": null,
   "metadata": {},
   "outputs": [],
   "source": [
    "def start_backfill(facility_id, prediction_start_date,prediction_end_date):\n",
    "    response = ecs.run_task(\n",
    "        taskDefinition=f\"{env}-{task_name}\",\n",
    "        cluster=f'{env}-Internal',\n",
    "        overrides={\n",
    "            \"containerOverrides\": [\n",
    "                {\n",
    "                    \"name\": f\"{task_name}\",\n",
    "                    \"command\": [\n",
    "                        \"/bin/bash\",\n",
    "                        \"-c\",\n",
    "                        f\"python /src/run_backfill.py --client {client} --facilityids '[{facility_id}]' --prediction_start_date '{prediction_start_date}' --prediction_end_date '{prediction_end_date}' --s3-bucket {CACHED_S3_BUCKET} --replace_existing_predictions True \",\n",
    "                    ],\n",
    "                }\n",
    "            ]\n",
    "        },\n",
    "        launchType=\"EC2\",\n",
    "        networkConfiguration=networkConfiguration[env],\n",
    "        placementStrategy=[\n",
    "            {\n",
    "                \"field\": \"instanceId\",\n",
    "                \"type\": \"spread\"\n",
    "            }\n",
    "        ]\n",
    "    )\n",
    "    return response"
   ]
  },
  {
   "cell_type": "code",
   "execution_count": null,
   "metadata": {},
   "outputs": [],
   "source": [
    "print(datetime.now())\n",
    "results = [start_backfill(\n",
    "    facility_id=facility, \n",
    "    prediction_start_date=prediction_start_date, \n",
    "    prediction_end_date=prediction_end_date) for facility in facilities]\n",
    "results"
   ]
  },
  {
   "cell_type": "code",
   "execution_count": null,
   "metadata": {},
   "outputs": [],
   "source": [
    "# Scale DOWN the ASG.\n",
    "response = asg.update_auto_scaling_group(\n",
    "        AutoScalingGroupName=AutoScalingGroupName[env],\n",
    "        DesiredCapacity=0,\n",
    "        MaxSize=0,\n",
    "        DefaultCooldown=100\n",
    "    )\n",
    "response"
   ]
  },
  {
   "cell_type": "code",
   "execution_count": null,
   "metadata": {},
   "outputs": [],
   "source": []
  }
 ],
 "metadata": {
  "kernelspec": {
   "display_name": "Python 3",
   "language": "python",
   "name": "python3"
  },
  "language_info": {
   "codemirror_mode": {
    "name": "ipython",
    "version": 3
   },
   "file_extension": ".py",
   "mimetype": "text/x-python",
   "name": "python",
   "nbconvert_exporter": "python",
   "pygments_lexer": "ipython3",
   "version": "3.7.9"
  }
 },
 "nbformat": 4,
 "nbformat_minor": 4
}
