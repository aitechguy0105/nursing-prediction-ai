{
 "cells": [
  {
   "cell_type": "markdown",
   "metadata": {},
   "source": [
    "#### Takes 38min 54s to run fully "
   ]
  },
  {
   "cell_type": "code",
   "execution_count": null,
   "metadata": {},
   "outputs": [],
   "source": [
    "import sys\n",
    "import pandas as pd\n",
    "from pathlib import Path\n",
    "sys.path.insert(0, '/src')\n",
    "from nlp.build_topic_model import TopicModel\n",
    "from eliot import log_message, to_file\n",
    "from shared.utils import get_client_class, get_memory_usage\n",
    "to_file(sys.stdout)"
   ]
  },
  {
   "cell_type": "code",
   "execution_count": null,
   "metadata": {},
   "outputs": [],
   "source": [
    "pd.set_option('display.max_rows', None)\n",
    "pd.set_option('display.max_columns', None)\n",
    "pd.set_option('display.width', None)\n",
    "pd.set_option('display.max_colwidth', -1)\n"
   ]
  },
  {
   "cell_type": "code",
   "execution_count": null,
   "metadata": {},
   "outputs": [],
   "source": [
    "# For every customer specific topic model, give the name similar to the client name\n",
    "\n",
    "raw_path = Path('/data/raw')\n",
    "client = 'avante'\n",
    "notes_df = pd.read_parquet(raw_path/'patient_progress_notes.parquet')"
   ]
  },
  {
   "cell_type": "code",
   "execution_count": null,
   "metadata": {},
   "outputs": [],
   "source": [
    "%%time\n",
    "\n",
    "nlp = TopicModel(\n",
    "    progress_notes_df=notes_df, \n",
    "    name=client\n",
    ")\n",
    "nlp.execute()"
   ]
  },
  {
   "cell_type": "markdown",
   "metadata": {},
   "source": [
    "### ================== Print Topics ======================="
   ]
  },
  {
   "cell_type": "code",
   "execution_count": null,
   "metadata": {},
   "outputs": [],
   "source": [
    "from nlp.load import NlpFeatureModel\n",
    "\n",
    "nlp_model = NlpFeatureModel()\n",
    "model,dictionary = nlp_model.load_topic_model(name='avante')\n",
    "\n",
    "for idx, topic in model.print_topics(-1):\n",
    "    print('Topic: {} Word: {}'.format(idx, topic))"
   ]
  },
  {
   "cell_type": "code",
   "execution_count": null,
   "metadata": {},
   "outputs": [],
   "source": []
  },
  {
   "cell_type": "code",
   "execution_count": null,
   "metadata": {},
   "outputs": [],
   "source": [
    "import pandas as pd\n",
    "import gc\n",
    "import numpy as np\n",
    "import sys\n",
    "from pathlib import Path\n",
    "sys.path.insert(0, '/src')\n",
    "from shared.generate_base_features import base_feature_processing\n",
    "from shared.generate_lab_features import get_lab_features\n",
    "from shared.load_raw_data import fetch_training_cache_data\n",
    "from shared.utils import get_client_class, get_memory_usage\n",
    "from eliot import start_action, start_task, to_file, log_message\n",
    "to_file(sys.stdout)"
   ]
  },
  {
   "cell_type": "code",
   "execution_count": null,
   "metadata": {},
   "outputs": [],
   "source": [
    "# Load the data from local directory cache \n",
    "\n",
    "processed_path = Path('/data/processed')\n",
    "processed_path.mkdir(parents=True, exist_ok=True)\n",
    "\n",
    "S3_BUCKET = 'saiva-dev-data-bucket'\n",
    "CLIENT = 'avante'\n",
    "\n",
    "clientClass = get_client_class(client=CLIENT)\n",
    "\n",
    "result_dict = fetch_training_cache_data(client=CLIENT, generic=True)\n",
    "for key, value in result_dict.items():\n",
    "    print(f'{key} : {result_dict[key].shape}')"
   ]
  },
  {
   "cell_type": "code",
   "execution_count": null,
   "metadata": {},
   "outputs": [],
   "source": [
    "rehosps_df = result_dict['patient_rehosps']\n",
    "rehosps_df.shape"
   ]
  },
  {
   "cell_type": "code",
   "execution_count": null,
   "metadata": {},
   "outputs": [],
   "source": [
    "rehosps_df.sort_values(by='dateoftransfer', inplace=True)"
   ]
  },
  {
   "cell_type": "code",
   "execution_count": null,
   "metadata": {},
   "outputs": [],
   "source": [
    "rehosps_df['year'] = rehosps_df['dateoftransfer'].dt.strftime(\"%Y\")\n",
    "rehosps_df['month'] = rehosps_df['dateoftransfer'].dt.strftime(\"%m\")\n",
    "rehosps_df['year-month'] = rehosps_df['year'] + '-' + rehosps_df['month']\n",
    "\n",
    "rehosps_df.head()"
   ]
  },
  {
   "cell_type": "code",
   "execution_count": null,
   "metadata": {},
   "outputs": [],
   "source": [
    "# count based on transferreason\n",
    "\n",
    "rehosps_df.groupby(\"transferreason\").count().sort_values(by=['patientid'], ascending=False)"
   ]
  },
  {
   "cell_type": "code",
   "execution_count": null,
   "metadata": {},
   "outputs": [],
   "source": [
    "rehosps_df = rehosps_df[(rehosps_df['dateoftransfer'] > '2019-01-01') & (rehosps_df['dateoftransfer'] < '2019-12-31')]"
   ]
  },
  {
   "cell_type": "code",
   "execution_count": null,
   "metadata": {},
   "outputs": [],
   "source": [
    "# count per facility per month\n",
    "\n",
    "df = rehosps_df.groupby(['facilityid','year-month']).count().sort_values(by=['year-month'], ascending=False).reset_index()[['facilityid','year-month','patientid']]\n",
    "df = df.rename(columns={\"patientid\": \"count\"})"
   ]
  },
  {
   "cell_type": "code",
   "execution_count": null,
   "metadata": {},
   "outputs": [],
   "source": [
    "df.head()"
   ]
  },
  {
   "cell_type": "code",
   "execution_count": null,
   "metadata": {},
   "outputs": [],
   "source": [
    "! pip install matplotlib"
   ]
  },
  {
   "cell_type": "code",
   "execution_count": null,
   "metadata": {},
   "outputs": [],
   "source": [
    "import matplotlib.pyplot as plt\n",
    "from matplotlib.pyplot import figure\n",
    "figure(num=None, figsize=(15, 13), dpi=80, facecolor='w', edgecolor='k')\n"
   ]
  },
  {
   "cell_type": "code",
   "execution_count": null,
   "metadata": {},
   "outputs": [],
   "source": [
    "\n",
    "color = {\n",
    "    1:'red',\n",
    "    3:'blue',\n",
    "    4: 'orange',\n",
    "    5: 'green',\n",
    "    6: 'yellow',\n",
    "    7: 'red',\n",
    "    8:'blue',\n",
    "    9: 'orange',\n",
    "    10:'green',\n",
    "    13:'yellow',\n",
    "    21: 'black'\n",
    "}\n",
    "facility = [1,3,4,5,6,7,8,9,10,13,21]\n",
    "for id in facility:\n",
    "    _df = df[df['facilityid'] == id]\n",
    "    plt.plot( 'year-month', 'count', \n",
    "             data=_df, marker='o', \n",
    "             markerfacecolor='blue', \n",
    "             markersize=7, \n",
    "             color=color[id], \n",
    "             linewidth=2,\n",
    "             label=id)\n",
    "    \n",
    "    \n",
    "    \n",
    "# show legend\n",
    "plt.legend(facility)\n",
    "\n",
    "# show graph\n",
    "plt.show()"
   ]
  },
  {
   "cell_type": "code",
   "execution_count": null,
   "metadata": {},
   "outputs": [],
   "source": [
    "from shared.database import DbEngine\n",
    "\n",
    "engine = DbEngine()\n",
    "client_engine = engine.get_sqldb_engine(clientdb_name='avante')"
   ]
  },
  {
   "cell_type": "code",
   "execution_count": null,
   "metadata": {},
   "outputs": [],
   "source": [
    "\n",
    "\n",
    "query = \"\"\"select patientid, facilityid, DateOfAdmission, AdmissionStatus, HospitalDischargeDate,\n",
    "PayerTypeDescription, AdmissionInEffectiveDate, AdmittedWithinLast30Days, TransferredWithin30DaysOfAdmission\n",
    "from view_ods_hospital_transfers_admission_log\n",
    "where DateOfAdmission between '2018-06-01' and '2020-11-31'\n",
    "and facilityid in (select facilityid from view_ods_facility where lineofbusiness = 'SNF')\"\"\"\n",
    "\n",
    "\n",
    "admission_df = pd.read_sql(query, con=client_engine)\n"
   ]
  },
  {
   "cell_type": "code",
   "execution_count": null,
   "metadata": {},
   "outputs": [],
   "source": [
    "admission_df.head()"
   ]
  },
  {
   "cell_type": "code",
   "execution_count": null,
   "metadata": {},
   "outputs": [],
   "source": [
    "admission_df['year'] = admission_df['DateOfAdmission'].dt.strftime(\"%Y\")\n",
    "admission_df['month'] = admission_df['DateOfAdmission'].dt.strftime(\"%m\")\n",
    "admission_df['year-month'] = admission_df['year'] + '-' + admission_df['month']\n",
    "\n",
    "admission_df.head()"
   ]
  },
  {
   "cell_type": "code",
   "execution_count": null,
   "metadata": {},
   "outputs": [],
   "source": [
    "# count per facility per month\n",
    "\n",
    "adf = admission_df.groupby(['facilityid','year-month']).count().sort_values(by=['year-month'], ascending=False).reset_index()[['facilityid','year-month','patientid']]\n",
    "adf = adf.rename(columns={\"patientid\": \"count\"})\n",
    "adf.head(10)"
   ]
  },
  {
   "cell_type": "code",
   "execution_count": null,
   "metadata": {},
   "outputs": [],
   "source": [
    "figure(num=None, figsize=(15, 13), dpi=80, facecolor='w', edgecolor='k')\n",
    "\n",
    "color = {\n",
    "    1:'red',\n",
    "    3:'blue',\n",
    "    4: 'orange',\n",
    "    5: 'green',\n",
    "    6: 'yellow',\n",
    "    7: 'red',\n",
    "    8:'blue',\n",
    "    9: 'orange',\n",
    "    10:'green',\n",
    "    13:'yellow',\n",
    "    21: 'black'\n",
    "}\n",
    "facility = [1,3,4,5,6,7,8,9,10,13,21]\n",
    "for id in facility:\n",
    "    _df = df[df['facilityid'] == id]\n",
    "    plt.plot( 'year-month', 'count', \n",
    "             data=_df, marker='o', \n",
    "             markerfacecolor='blue', \n",
    "             markersize=7, \n",
    "             color=color[id], \n",
    "             linewidth=2,\n",
    "             label=id)\n",
    "    \n",
    "    \n",
    "    \n",
    "# show legend\n",
    "plt.legend(facility)\n",
    "\n",
    "# show graph\n",
    "plt.show()"
   ]
  },
  {
   "cell_type": "code",
   "execution_count": null,
   "metadata": {},
   "outputs": [],
   "source": [
    "figure(num=None, figsize=(18, 16), dpi=80, facecolor='w', edgecolor='k')\n",
    "\n",
    "_df = df[df['facilityid'] == 7]\n",
    "plt.plot( 'year-month', 'count', \n",
    "             data=_df, marker='o', \n",
    "             markerfacecolor='blue', \n",
    "             markersize=7, \n",
    "             color='red', \n",
    "             linewidth=2,\n",
    "             label=id)\n",
    "    \n",
    "_adf = adf[adf['facilityid'] == 7]\n",
    "plt.plot( 'year-month', 'count', \n",
    "             data=_adf, marker='o', \n",
    "             markerfacecolor='blue', \n",
    "             markersize=7, \n",
    "             color='blue', \n",
    "             linewidth=2,\n",
    "             label=id)    \n",
    "    \n",
    "    \n",
    "# show legend\n",
    "plt.legend([7,7])\n",
    "\n",
    "# show graph\n",
    "plt.show()"
   ]
  },
  {
   "cell_type": "code",
   "execution_count": null,
   "metadata": {},
   "outputs": [],
   "source": [
    "figure(num=None, figsize=(13, 11), dpi=80, facecolor='w', edgecolor='k')\n",
    "facilityid = 4\n",
    "\n",
    "_df = df[df['facilityid'] == facilityid]\n",
    "plt.plot( 'year-month', 'count', \n",
    "             data=_df, marker='o', \n",
    "             markerfacecolor='blue', \n",
    "             markersize=7, \n",
    "             color='red', \n",
    "             linewidth=2,\n",
    "             label=id)\n",
    "    \n",
    "_adf = adf[adf['facilityid'] == facilityid]\n",
    "plt.plot( 'year-month', 'count', \n",
    "             data=_adf, marker='o', \n",
    "             markerfacecolor='blue', \n",
    "             markersize=7, \n",
    "             color='blue', \n",
    "             linewidth=2,\n",
    "             label=id)    \n",
    "    \n",
    "    \n",
    "# show legend\n",
    "plt.legend([7,7])\n",
    "\n",
    "# show graph\n",
    "plt.show()"
   ]
  },
  {
   "cell_type": "code",
   "execution_count": null,
   "metadata": {},
   "outputs": [],
   "source": [
    "figure(num=None, figsize=(13, 11), dpi=80, facecolor='w', edgecolor='k')\n",
    "facilityid = 3\n",
    "\n",
    "_df = df[df['facilityid'] == facilityid]\n",
    "plt.plot( 'year-month', 'count', \n",
    "             data=_df, marker='o', \n",
    "             markerfacecolor='blue', \n",
    "             markersize=7, \n",
    "             color='red', \n",
    "             linewidth=2,\n",
    "             label=id)\n",
    "    \n",
    "_adf = adf[adf['facilityid'] == facilityid]\n",
    "plt.plot( 'year-month', 'count', \n",
    "             data=_adf, marker='o', \n",
    "             markerfacecolor='blue', \n",
    "             markersize=7, \n",
    "             color='blue', \n",
    "             linewidth=2,\n",
    "             label=id)    \n",
    "    \n",
    "    \n",
    "# show legend\n",
    "plt.legend([7,7])\n",
    "\n",
    "# show graph\n",
    "plt.show()"
   ]
  },
  {
   "cell_type": "code",
   "execution_count": null,
   "metadata": {},
   "outputs": [],
   "source": [
    "# count based on transferreason\n",
    "\n",
    "admission_df.groupby(\"AdmissionStatus\").count().sort_values(by=['patientid'], ascending=False)"
   ]
  },
  {
   "cell_type": "code",
   "execution_count": null,
   "metadata": {},
   "outputs": [],
   "source": [
    "admission_df.columns"
   ]
  },
  {
   "cell_type": "code",
   "execution_count": null,
   "metadata": {},
   "outputs": [],
   "source": [
    "rehosps_df.columns"
   ]
  },
  {
   "cell_type": "code",
   "execution_count": null,
   "metadata": {},
   "outputs": [],
   "source": [
    "print(admission_df.shape)\n",
    "print(rehosps_df.shape)"
   ]
  },
  {
   "cell_type": "code",
   "execution_count": null,
   "metadata": {},
   "outputs": [],
   "source": [
    "m_df = pd.merge(admission_df[admission_df['AdmissionStatus'] == 'Post Acute'], rehosps_df, on=['patientid','facilityid'])\n",
    "m_df.sort_values(by='DateOfAdmission', inplace=True)\n",
    "m_df.shape"
   ]
  },
  {
   "cell_type": "code",
   "execution_count": null,
   "metadata": {},
   "outputs": [],
   "source": [
    "m_df = pd.merge(admission_df[admission_df['AdmissionStatus'] == 'Chronic Long-Term'], rehosps_df, on=['patientid','facilityid'])\n",
    "m_df.sort_values(by='DateOfAdmission', inplace=True)\n",
    "m_df.shape"
   ]
  },
  {
   "cell_type": "code",
   "execution_count": null,
   "metadata": {},
   "outputs": [],
   "source": [
    "\n",
    "query = \"\"\"select fp.patientid, fp.facilityid, fp.masterpatientid, fp.InitialAdmissionDate, fp.Allergies,fp.Education,\n",
    "al.DateOfAdmission, al.AdmissionStatus   \n",
    "from view_ods_facility_patient fp\n",
    "LEFT JOIN view_ods_hospital_transfers_admission_log al \n",
    "ON (fp.patientid = al.patientid AND fp.facilityid = al.facilityid AND CAST(fp.InitialAdmissionDate AS DATE) = CAST(al.DateOfAdmission AS DATE))\n",
    "where fp.facilityid in (select facilityid from view_ods_facility where lineofbusiness = 'SNF')\n",
    "\"\"\"\n",
    "master_patient_df = pd.read_sql(query, con=client_engine)\n",
    "\n",
    "master_patient_df.head()"
   ]
  },
  {
   "cell_type": "code",
   "execution_count": null,
   "metadata": {},
   "outputs": [],
   "source": [
    "master_patient_df[master_patient_df['DateOfAdmission'].isnull()]"
   ]
  },
  {
   "cell_type": "code",
   "execution_count": null,
   "metadata": {},
   "outputs": [],
   "source": []
  }
 ],
 "metadata": {
  "kernelspec": {
   "display_name": "Python 3",
   "language": "python",
   "name": "python3"
  },
  "language_info": {
   "codemirror_mode": {
    "name": "ipython",
    "version": 3
   },
   "file_extension": ".py",
   "mimetype": "text/x-python",
   "name": "python",
   "nbconvert_exporter": "python",
   "pygments_lexer": "ipython3",
   "version": "3.7.9"
  }
 },
 "nbformat": 4,
 "nbformat_minor": 4
}
