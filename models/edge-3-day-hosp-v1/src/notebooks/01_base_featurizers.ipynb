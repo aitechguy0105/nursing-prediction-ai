{
 "cells": [
  {
   "cell_type": "markdown",
   "metadata": {},
   "source": [
    "# Experiment with memory efficient featurizers"
   ]
  },
  {
   "cell_type": "code",
   "execution_count": null,
   "metadata": {},
   "outputs": [],
   "source": [
    "import os\n",
    "import sys\n",
    "import datetime\n",
    "import pandas as pd\n",
    "import pickle as pkl\n",
    "import numpy as np\n",
    "import scipy\n",
    "\n",
    "%load_ext autoreload\n",
    "%autoreload 2"
   ]
  },
  {
   "cell_type": "code",
   "execution_count": null,
   "metadata": {},
   "outputs": [],
   "source": [
    "sys.path.append('/src')\n",
    "from shared import utils\n",
    "from shared.load_raw_data import load_raw_data_from_files\n",
    "from shared.featurizers import Featurizer1\n",
    "from eliot import to_file\n",
    "to_file(sys.stdout)"
   ]
  },
  {
   "cell_type": "code",
   "execution_count": null,
   "metadata": {},
   "outputs": [],
   "source": [
    "data_dict = load_raw_data_from_files('/data/raw')\n",
    "prediction_times = utils.get_prediction_timestamps(\n",
    "                        data_dict['stays'],\n",
    "                        \"07:00:00\"\n",
    "                    )\n",
    "# Save for later use \n",
    "with open(\"/data/processed/prediction_times.pkl\", 'wb') as f_out:\n",
    "    pkl.dump(prediction_times, file=f_out)"
   ]
  },
  {
   "cell_type": "code",
   "execution_count": null,
   "metadata": {
    "collapsed": false,
    "jupyter": {
     "outputs_hidden": false
    },
    "pycharm": {
     "name": "#%%\n"
    }
   },
   "outputs": [],
   "source": [
    "%%time\n",
    "\n",
    "featurizer1 = Featurizer1(data_dict, prediction_times)\n",
    "feature1_csr, feature1_names = featurizer1.process()\n",
    "\n",
    "# Save for later use \n",
    "scipy.sparse.save_npz('/data/processed/features_csr.npz', feature1_csr)\n",
    "with open('/data/processed/feature_colnames.pkl', 'wb') as f_out:\n",
    "    pkl.dump(feature1_names, file=f_out)\n"
   ]
  },
  {
   "cell_type": "markdown",
   "metadata": {},
   "source": [
    "#### .\n",
    "#### .\n",
    "#### .\n",
    "#### .\n",
    "### Construct prediction times... \n",
    "Current approach has holes, so we will use the stays, which are derived from the daily census and the transfer logs.\n",
    "The point of this is to have an explicit model for when predictions are done so we can be careful about constructing our problem.\n",
    "We will use <code>utils.get_prediction_timestamps</code>.\n",
    "\n",
    "* First, assume the daily census records are the result of an automated process that runs just before midnight each day.  This seems to be consistent with the transfer logs (harder to say what is going on the other end).  \n",
    "* Second, specify an explicit <code>time_of_day</code> at which predictions are run each day. \n",
    "* Valid prediction times are times for which two conditions hold: the patient was in the census from prior night, and the patient was not transferred out before <code>time_of_day</code>\n",
    "\n",
    "This suggests that the easiest way to build prediction times is from our stays: \n",
    "\n",
    "* As before, use <code>patient_stays.get_patient_stays</code> to get patient stays.  This just splits continuous runs of daily census records using transfer log events.  \n",
    "* Throw out the first day of each stay. \n",
    "* If there is a transfer time stamp for the end of the stay, see if it is before <code>time_of_day</code>.  If so, throw out the last day as a valid prediction time.  Otherwise, include it. \n",
    "\n",
    "This is best constructively, from stays, rather than as a filter on proposal prediction times built from the census we were doing previously. "
   ]
  }
 ],
 "metadata": {
  "kernelspec": {
   "display_name": "Python 3",
   "language": "python",
   "name": "python3"
  },
  "language_info": {
   "codemirror_mode": {
    "name": "ipython",
    "version": 3
   },
   "file_extension": ".py",
   "mimetype": "text/x-python",
   "name": "python",
   "nbconvert_exporter": "python",
   "pygments_lexer": "ipython3",
   "version": "3.7.7"
  }
 },
 "nbformat": 4,
 "nbformat_minor": 4
}
