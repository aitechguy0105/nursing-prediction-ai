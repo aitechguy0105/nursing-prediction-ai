{
 "cells": [
  {
   "cell_type": "markdown",
   "metadata": {},
   "source": [
    "## SET the CLIENT once in shared/constants/CLIENT before executing "
   ]
  },
  {
   "cell_type": "code",
   "execution_count": null,
   "metadata": {},
   "outputs": [],
   "source": [
    "import sys\n",
    "sys.path.insert(0, '/src')\n",
    "from shared.load_raw_data import fetch_training_data, load_raw_data_from_files\n",
    "from shared.utils import get_client_class\n",
    "from shared.constants import CLIENT\n",
    "from eliot import to_file\n",
    "to_file(sys.stdout)\n",
    "\n",
    "%load_ext autoreload\n",
    "%autoreload 2"
   ]
  },
  {
   "cell_type": "code",
   "execution_count": null,
   "metadata": {},
   "outputs": [],
   "source": [
    "import os\n",
    "\n",
    "# clientClass = get_client_class(client=CLIENT)\n",
    "# TRAIN_START_DATE, TRAIN_END_DATE = getattr(clientClass(), 'get_training_dates')()\n",
    "\n",
    "# print(CLIENT)\n",
    "# print(os.environ.get('SAIVA_ENV','dev'))\n",
    "# print(TRAIN_START_DATE, TRAIN_END_DATE)\n",
    "\n",
    "TRAIN_START_DATE = '2019-01-01'\n",
    "TRAIN_END_DATE = '2020-02-28'"
   ]
  },
  {
   "cell_type": "markdown",
   "metadata": {},
   "source": [
    "### =============== Delete all files inside /data/processed & /data/raw =================="
   ]
  },
  {
   "cell_type": "code",
   "execution_count": null,
   "metadata": {},
   "outputs": [],
   "source": [
    "import shutil\n",
    "from pathlib import Path\n",
    "\n",
    "# processed_path = Path('/data/processed')\n",
    "# raw_path = Path('/data/raw')\n",
    "# shutil.rmtree(processed_path)\n",
    "# shutil.rmtree(raw_path)\n",
    "# print(\"Success.......\")"
   ]
  },
  {
   "cell_type": "markdown",
   "metadata": {},
   "source": [
    "### ======================== Fetch Data ============================"
   ]
  },
  {
   "cell_type": "code",
   "execution_count": null,
   "metadata": {},
   "outputs": [],
   "source": [
    "# Loads the data from SQL db and store them in local directory as cache\n",
    "# Can pass multiple clients of single\n",
    "\n",
    "result_dict = fetch_training_data(\n",
    "    client_list=['infinity-benchmark', 'infinity-infinity'],\n",
    "    train_start_date=TRAIN_START_DATE,\n",
    "    train_end_date=TRAIN_END_DATE\n",
    ")"
   ]
  },
  {
   "cell_type": "code",
   "execution_count": null,
   "metadata": {},
   "outputs": [],
   "source": [
    "# print(result_dict['master_patient_lookup'].shape)\n",
    "print(result_dict['patient_census'].shape)\n",
    "print(result_dict['patient_rehosps'].shape)\n",
    "print(result_dict['patient_demographics'].shape)\n",
    "print(result_dict['patient_diagnosis'].shape)\n",
    "print(result_dict['patient_vitals'].shape)\n",
    "print(result_dict['patient_meds'].shape)\n",
    "print(result_dict['patient_orders'].shape)\n",
    "print(result_dict['patient_alerts'].shape)\n",
    "print(result_dict['patient_progress_notes'].shape)\n",
    "print(result_dict['stays'].shape)\n",
    "print(result_dict.keys())\n",
    "\n",
    "# have a max of 15042 master_patient_lookup rows ie. Infinity-Infinity"
   ]
  },
  {
   "cell_type": "markdown",
   "metadata": {},
   "source": [
    "### ======================== TESTING =========================="
   ]
  },
  {
   "cell_type": "code",
   "execution_count": null,
   "metadata": {},
   "outputs": [],
   "source": [
    "# Once fetch_training_data loads the data, use the same cache \n",
    "\n",
    "data_dict = load_raw_data_from_files(dirname='/data/raw')\n",
    "# print(data_dict['master_patient_lookup'].shape)\n",
    "print(data_dict['patient_census'].shape)\n",
    "print(data_dict['patient_rehosps'].shape)\n",
    "print(data_dict['patient_demographics'].shape)\n",
    "print(data_dict['patient_diagnoses'].shape)\n",
    "print(data_dict['patient_vitals'].shape)\n",
    "print(data_dict['patient_meds'].shape)\n",
    "print(data_dict['patient_orders'].shape)\n",
    "print(data_dict['patient_alerts'].shape)\n",
    "print(data_dict['patient_progress_notes'].shape)\n",
    "print(data_dict['stays'].shape)\n",
    "print(data_dict.keys())"
   ]
  },
  {
   "cell_type": "code",
   "execution_count": null,
   "metadata": {},
   "outputs": [],
   "source": [
    "# TESTING specific queries\n",
    "\n",
    "# query=f\"\"\"\n",
    "#         select distinct patientid, facilityid, orderdate, gpiclass, \n",
    "#         gpisubclassdescription, orderdescription, pharmacymedicationname, a.PhysiciansOrderID\n",
    "#         from view_ods_physician_order_list_v2 a\n",
    "#         inner join view_ods_physician_order_list_med b\n",
    "#         on a.PhysiciansOrderID = b.PhysiciansOrderID \n",
    "#         where orderdate between '{train_start_date}' and '{test_end_date}';\n",
    "#         \"\"\"\n",
    "\n",
    "# df = pd.read_sql(query, con=client_sql_engine)\n",
    "# print(df.shape)\n",
    "# df.head()"
   ]
  }
 ],
 "metadata": {
  "kernelspec": {
   "display_name": "Python 3",
   "language": "python",
   "name": "python3"
  },
  "language_info": {
   "codemirror_mode": {
    "name": "ipython",
    "version": 3
   },
   "file_extension": ".py",
   "mimetype": "text/x-python",
   "name": "python",
   "nbconvert_exporter": "python",
   "pygments_lexer": "ipython3",
   "version": "3.7.7"
  }
 },
 "nbformat": 4,
 "nbformat_minor": 4
}
