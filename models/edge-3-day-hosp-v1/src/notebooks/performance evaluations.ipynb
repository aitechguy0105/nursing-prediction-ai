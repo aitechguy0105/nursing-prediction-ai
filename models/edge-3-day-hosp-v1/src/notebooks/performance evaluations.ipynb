{
 "cells": [
  {
   "cell_type": "markdown",
   "metadata": {},
   "source": [
    "# Performance Evaluations\n",
    "* Bootstrap confidence intervals\n",
    "* Paired bootstrap confidence intervals\n",
    "* Estimating relationship between AUROC and recall at top K"
   ]
  },
  {
   "cell_type": "code",
   "execution_count": 48,
   "metadata": {},
   "outputs": [
    {
     "name": "stdout",
     "output_type": "stream",
     "text": [
      "The autoreload extension is already loaded. To reload it, use:\n",
      "  %reload_ext autoreload\n"
     ]
    }
   ],
   "source": [
    "import os\n",
    "import sys\n",
    "import datetime\n",
    "import pandas as pd\n",
    "import pickle as pkl\n",
    "import numpy as np\n",
    "import lightgbm as lgb\n",
    "import scipy\n",
    "\n",
    "import matplotlib.pyplot as plt\n",
    "\n",
    "from sklearn.metrics import roc_auc_score, average_precision_score\n",
    "\n",
    "%load_ext autoreload\n",
    "%autoreload 2\n"
   ]
  },
  {
   "cell_type": "code",
   "execution_count": 2,
   "metadata": {},
   "outputs": [],
   "source": [
    "sys.path.append('/code')\n",
    "from edge import data\n",
    "from edge import patient_stays\n",
    "from edge import diagnosis\n",
    "from edge import meds\n",
    "from edge import vitals\n",
    "from edge import utils\n",
    "from edge import perf_utils"
   ]
  },
  {
   "cell_type": "markdown",
   "metadata": {},
   "source": [
    "# Load previously generated datasets"
   ]
  },
  {
   "cell_type": "code",
   "execution_count": 3,
   "metadata": {},
   "outputs": [
    {
     "name": "stdout",
     "output_type": "stream",
     "text": [
      "(8852994, 3677) (1166527, 3677) (860483, 3677)\n",
      "0.013406763858644883 0.01235805086380341 0.012312852200450213\n"
     ]
    }
   ],
   "source": [
    "with open('/data/processed/train_dataset.pkl', 'rb') as f_in: \n",
    "    train_data = pkl.load(f_in)\n",
    "with open('/data/processed/val_dataset.pkl', 'rb') as f_in: \n",
    "    val_data = pkl.load(f_in)\n",
    "with open('/data/processed/test_dataset.pkl', 'rb') as f_in: \n",
    "    test_data = pkl.load(f_in)\n",
    "    \n",
    "train_X = train_data['X']    \n",
    "train_Y = train_data['Y']\n",
    "train_ptimes = train_data['PredictionTimes']\n",
    "\n",
    "val_X = val_data['X']\n",
    "val_Y = val_data['Y']\n",
    "val_ptimes = val_data['PredictionTimes']\n",
    "\n",
    "test_X = test_data['X']\n",
    "test_Y = test_data['Y']\n",
    "test_ptimes = test_data['PredictionTimes']\n",
    "\n",
    "print(train_X.shape, val_X.shape, test_X.shape)\n",
    "print(np.mean(train_Y), np.mean(val_Y), np.mean(test_Y))"
   ]
  },
  {
   "cell_type": "markdown",
   "metadata": {
    "jupyter": {
     "source_hidden": true
    }
   },
   "source": [
    "# Fit a model \n",
    "Nothing special, just something to work with... "
   ]
  },
  {
   "cell_type": "code",
   "execution_count": 33,
   "metadata": {
    "collapsed": true,
    "jupyter": {
     "outputs_hidden": true,
     "source_hidden": true
    }
   },
   "outputs": [
    {
     "name": "stdout",
     "output_type": "stream",
     "text": [
      "Saving lgb dataset to /data/processed/lgb_dataset.bin...\n",
      "Loading lgb dataset from /data/processed/lgb_dataset.bin...\n"
     ]
    }
   ],
   "source": [
    "train_data = lgb.Dataset(train_X, label=(train_Y))\n",
    "\n",
    "save_file = '/data/processed/lgb_dataset.bin'\n",
    "print(f'Saving lgb dataset to {save_file}...')\n",
    "train_data.save_binary(save_file)\n",
    "\n",
    "print(f'Loading lgb dataset from {save_file}...')\n",
    "train_data = lgb.Dataset(save_file)\n",
    "\n",
    "valid_data = lgb.Dataset(val_X, label=(val_Y))\n",
    "\n",
    "lgb_params = {\n",
    "    'boosting': 'gbdt', \n",
    "    'objective': 'binary',\n",
    "    'metric': ['auc', 'binary'],\n",
    "    'learning_rate': 0.05,  # 0.02, \n",
    "    'n_estimators': 3000,\n",
    "    'max_depth': -1, \n",
    "    'num_threads': 32,\n",
    "    'num_leaves': 63,\n",
    "    'two_round': True, \n",
    "    'early_stopping_rounds': 10,\n",
    "}"
   ]
  },
  {
   "cell_type": "code",
   "execution_count": 34,
   "metadata": {
    "collapsed": true,
    "jupyter": {
     "outputs_hidden": true,
     "source_hidden": true
    }
   },
   "outputs": [
    {
     "name": "stderr",
     "output_type": "stream",
     "text": [
      "/opt/conda/lib/python3.7/site-packages/lightgbm/engine.py:148: UserWarning: Found `n_estimators` in params. Will use it instead of argument\n",
      "  warnings.warn(\"Found `{}` in params. Will use it instead of argument\".format(alias))\n",
      "/opt/conda/lib/python3.7/site-packages/lightgbm/engine.py:153: UserWarning: Found `early_stopping_rounds` in params. Will use it instead of argument\n",
      "  warnings.warn(\"Found `{}` in params. Will use it instead of argument\".format(alias))\n"
     ]
    },
    {
     "name": "stdout",
     "output_type": "stream",
     "text": [
      "[1]\ttraining's auc: 0.670552\ttraining's binary_logloss: 0.0610133\tvalid_1's auc: 0.711749\tvalid_1's binary_logloss: 0.0662433\n",
      "Training until validation scores don't improve for 10 rounds\n",
      "[2]\ttraining's auc: 0.68042\ttraining's binary_logloss: 0.0607155\tvalid_1's auc: 0.721669\tvalid_1's binary_logloss: 0.065907\n",
      "[3]\ttraining's auc: 0.685786\ttraining's binary_logloss: 0.0604633\tvalid_1's auc: 0.7293\tvalid_1's binary_logloss: 0.0655942\n",
      "[4]\ttraining's auc: 0.687874\ttraining's binary_logloss: 0.0602366\tvalid_1's auc: 0.729704\tvalid_1's binary_logloss: 0.065345\n",
      "[5]\ttraining's auc: 0.690671\ttraining's binary_logloss: 0.0600369\tvalid_1's auc: 0.730891\tvalid_1's binary_logloss: 0.0651266\n",
      "[6]\ttraining's auc: 0.692991\ttraining's binary_logloss: 0.0598551\tvalid_1's auc: 0.733279\tvalid_1's binary_logloss: 0.0649054\n",
      "[7]\ttraining's auc: 0.695831\ttraining's binary_logloss: 0.0596762\tvalid_1's auc: 0.734912\tvalid_1's binary_logloss: 0.0647116\n",
      "[8]\ttraining's auc: 0.697661\ttraining's binary_logloss: 0.0595115\tvalid_1's auc: 0.736156\tvalid_1's binary_logloss: 0.0645491\n",
      "[9]\ttraining's auc: 0.700346\ttraining's binary_logloss: 0.0593585\tvalid_1's auc: 0.737694\tvalid_1's binary_logloss: 0.0643803\n",
      "[10]\ttraining's auc: 0.702372\ttraining's binary_logloss: 0.0592167\tvalid_1's auc: 0.739167\tvalid_1's binary_logloss: 0.0642208\n",
      "[11]\ttraining's auc: 0.704096\ttraining's binary_logloss: 0.0590865\tvalid_1's auc: 0.74048\tvalid_1's binary_logloss: 0.0640783\n",
      "[12]\ttraining's auc: 0.706127\ttraining's binary_logloss: 0.0589596\tvalid_1's auc: 0.741852\tvalid_1's binary_logloss: 0.0639548\n",
      "[13]\ttraining's auc: 0.707712\ttraining's binary_logloss: 0.0588387\tvalid_1's auc: 0.74288\tvalid_1's binary_logloss: 0.0638267\n",
      "[14]\ttraining's auc: 0.709566\ttraining's binary_logloss: 0.058727\tvalid_1's auc: 0.743792\tvalid_1's binary_logloss: 0.0637096\n",
      "[15]\ttraining's auc: 0.711136\ttraining's binary_logloss: 0.0586204\tvalid_1's auc: 0.744267\tvalid_1's binary_logloss: 0.0636081\n",
      "[16]\ttraining's auc: 0.712801\ttraining's binary_logloss: 0.0585124\tvalid_1's auc: 0.745742\tvalid_1's binary_logloss: 0.0634892\n",
      "[17]\ttraining's auc: 0.714242\ttraining's binary_logloss: 0.0584131\tvalid_1's auc: 0.74669\tvalid_1's binary_logloss: 0.0633926\n",
      "[18]\ttraining's auc: 0.715521\ttraining's binary_logloss: 0.058317\tvalid_1's auc: 0.747049\tvalid_1's binary_logloss: 0.0633111\n",
      "[19]\ttraining's auc: 0.71701\ttraining's binary_logloss: 0.0582274\tvalid_1's auc: 0.747913\tvalid_1's binary_logloss: 0.0632234\n",
      "[20]\ttraining's auc: 0.71815\ttraining's binary_logloss: 0.0581408\tvalid_1's auc: 0.748211\tvalid_1's binary_logloss: 0.0631488\n",
      "[21]\ttraining's auc: 0.719573\ttraining's binary_logloss: 0.0580555\tvalid_1's auc: 0.749037\tvalid_1's binary_logloss: 0.0630668\n",
      "[22]\ttraining's auc: 0.721185\ttraining's binary_logloss: 0.0579628\tvalid_1's auc: 0.749948\tvalid_1's binary_logloss: 0.0629801\n",
      "[23]\ttraining's auc: 0.722289\ttraining's binary_logloss: 0.0578822\tvalid_1's auc: 0.750572\tvalid_1's binary_logloss: 0.0629062\n",
      "[24]\ttraining's auc: 0.723572\ttraining's binary_logloss: 0.0578007\tvalid_1's auc: 0.75129\tvalid_1's binary_logloss: 0.0628338\n",
      "[25]\ttraining's auc: 0.724789\ttraining's binary_logloss: 0.0577293\tvalid_1's auc: 0.752053\tvalid_1's binary_logloss: 0.062767\n",
      "[26]\ttraining's auc: 0.725742\ttraining's binary_logloss: 0.057656\tvalid_1's auc: 0.752383\tvalid_1's binary_logloss: 0.0627055\n",
      "[27]\ttraining's auc: 0.726757\ttraining's binary_logloss: 0.0575844\tvalid_1's auc: 0.752521\tvalid_1's binary_logloss: 0.0626601\n",
      "[28]\ttraining's auc: 0.727927\ttraining's binary_logloss: 0.0575134\tvalid_1's auc: 0.753347\tvalid_1's binary_logloss: 0.0625941\n",
      "[29]\ttraining's auc: 0.729191\ttraining's binary_logloss: 0.0574405\tvalid_1's auc: 0.7541\tvalid_1's binary_logloss: 0.0625393\n",
      "[30]\ttraining's auc: 0.730252\ttraining's binary_logloss: 0.0573713\tvalid_1's auc: 0.754299\tvalid_1's binary_logloss: 0.0625003\n",
      "[31]\ttraining's auc: 0.731352\ttraining's binary_logloss: 0.0573004\tvalid_1's auc: 0.754808\tvalid_1's binary_logloss: 0.0624502\n",
      "[32]\ttraining's auc: 0.732441\ttraining's binary_logloss: 0.0572347\tvalid_1's auc: 0.755518\tvalid_1's binary_logloss: 0.0624015\n",
      "[33]\ttraining's auc: 0.733509\ttraining's binary_logloss: 0.0571705\tvalid_1's auc: 0.756053\tvalid_1's binary_logloss: 0.0623543\n",
      "[34]\ttraining's auc: 0.7344\ttraining's binary_logloss: 0.0571048\tvalid_1's auc: 0.75666\tvalid_1's binary_logloss: 0.062307\n",
      "[35]\ttraining's auc: 0.735435\ttraining's binary_logloss: 0.0570395\tvalid_1's auc: 0.757301\tvalid_1's binary_logloss: 0.0622563\n",
      "[36]\ttraining's auc: 0.736534\ttraining's binary_logloss: 0.0569695\tvalid_1's auc: 0.758066\tvalid_1's binary_logloss: 0.0622022\n",
      "[37]\ttraining's auc: 0.737366\ttraining's binary_logloss: 0.0569078\tvalid_1's auc: 0.758784\tvalid_1's binary_logloss: 0.0621453\n",
      "[38]\ttraining's auc: 0.738336\ttraining's binary_logloss: 0.0568491\tvalid_1's auc: 0.758947\tvalid_1's binary_logloss: 0.062118\n",
      "[39]\ttraining's auc: 0.739396\ttraining's binary_logloss: 0.0567819\tvalid_1's auc: 0.759749\tvalid_1's binary_logloss: 0.0620752\n",
      "[40]\ttraining's auc: 0.740254\ttraining's binary_logloss: 0.0567241\tvalid_1's auc: 0.760238\tvalid_1's binary_logloss: 0.0620307\n",
      "[41]\ttraining's auc: 0.741189\ttraining's binary_logloss: 0.056665\tvalid_1's auc: 0.76057\tvalid_1's binary_logloss: 0.0620003\n",
      "[42]\ttraining's auc: 0.741949\ttraining's binary_logloss: 0.0566083\tvalid_1's auc: 0.760951\tvalid_1's binary_logloss: 0.0619643\n",
      "[43]\ttraining's auc: 0.742888\ttraining's binary_logloss: 0.0565503\tvalid_1's auc: 0.761744\tvalid_1's binary_logloss: 0.0619238\n",
      "[44]\ttraining's auc: 0.743721\ttraining's binary_logloss: 0.056494\tvalid_1's auc: 0.762373\tvalid_1's binary_logloss: 0.061883\n",
      "[45]\ttraining's auc: 0.74453\ttraining's binary_logloss: 0.0564393\tvalid_1's auc: 0.762785\tvalid_1's binary_logloss: 0.0618447\n",
      "[46]\ttraining's auc: 0.745483\ttraining's binary_logloss: 0.0563843\tvalid_1's auc: 0.763345\tvalid_1's binary_logloss: 0.0618111\n",
      "[47]\ttraining's auc: 0.746495\ttraining's binary_logloss: 0.0563262\tvalid_1's auc: 0.764039\tvalid_1's binary_logloss: 0.0617697\n",
      "[48]\ttraining's auc: 0.747411\ttraining's binary_logloss: 0.0562676\tvalid_1's auc: 0.764446\tvalid_1's binary_logloss: 0.0617502\n",
      "[49]\ttraining's auc: 0.748262\ttraining's binary_logloss: 0.0562078\tvalid_1's auc: 0.764355\tvalid_1's binary_logloss: 0.0617463\n",
      "[50]\ttraining's auc: 0.748935\ttraining's binary_logloss: 0.0561548\tvalid_1's auc: 0.764703\tvalid_1's binary_logloss: 0.0617174\n",
      "[51]\ttraining's auc: 0.74977\ttraining's binary_logloss: 0.0560988\tvalid_1's auc: 0.764694\tvalid_1's binary_logloss: 0.0617116\n",
      "[52]\ttraining's auc: 0.750495\ttraining's binary_logloss: 0.0560511\tvalid_1's auc: 0.765162\tvalid_1's binary_logloss: 0.0616759\n",
      "[53]\ttraining's auc: 0.751494\ttraining's binary_logloss: 0.056003\tvalid_1's auc: 0.765528\tvalid_1's binary_logloss: 0.0616487\n",
      "[54]\ttraining's auc: 0.752397\ttraining's binary_logloss: 0.0559536\tvalid_1's auc: 0.766051\tvalid_1's binary_logloss: 0.0616158\n",
      "[55]\ttraining's auc: 0.75318\ttraining's binary_logloss: 0.0559031\tvalid_1's auc: 0.766316\tvalid_1's binary_logloss: 0.0615859\n",
      "[56]\ttraining's auc: 0.754021\ttraining's binary_logloss: 0.0558537\tvalid_1's auc: 0.766715\tvalid_1's binary_logloss: 0.0615648\n",
      "[57]\ttraining's auc: 0.754606\ttraining's binary_logloss: 0.0558093\tvalid_1's auc: 0.766947\tvalid_1's binary_logloss: 0.0615492\n",
      "[58]\ttraining's auc: 0.755236\ttraining's binary_logloss: 0.0557622\tvalid_1's auc: 0.767084\tvalid_1's binary_logloss: 0.0615335\n",
      "[59]\ttraining's auc: 0.755939\ttraining's binary_logloss: 0.0557087\tvalid_1's auc: 0.767358\tvalid_1's binary_logloss: 0.0615174\n",
      "[60]\ttraining's auc: 0.756821\ttraining's binary_logloss: 0.0556688\tvalid_1's auc: 0.76777\tvalid_1's binary_logloss: 0.0614887\n",
      "[61]\ttraining's auc: 0.757464\ttraining's binary_logloss: 0.0556192\tvalid_1's auc: 0.768158\tvalid_1's binary_logloss: 0.0614621\n",
      "[62]\ttraining's auc: 0.758086\ttraining's binary_logloss: 0.0555761\tvalid_1's auc: 0.768334\tvalid_1's binary_logloss: 0.0614447\n",
      "[63]\ttraining's auc: 0.758848\ttraining's binary_logloss: 0.0555328\tvalid_1's auc: 0.768496\tvalid_1's binary_logloss: 0.0614265\n",
      "[64]\ttraining's auc: 0.759458\ttraining's binary_logloss: 0.0554892\tvalid_1's auc: 0.76849\tvalid_1's binary_logloss: 0.0614111\n",
      "[65]\ttraining's auc: 0.759979\ttraining's binary_logloss: 0.0554448\tvalid_1's auc: 0.768721\tvalid_1's binary_logloss: 0.0613956\n",
      "[66]\ttraining's auc: 0.760543\ttraining's binary_logloss: 0.0554021\tvalid_1's auc: 0.768973\tvalid_1's binary_logloss: 0.0613787\n",
      "[67]\ttraining's auc: 0.761153\ttraining's binary_logloss: 0.055359\tvalid_1's auc: 0.769024\tvalid_1's binary_logloss: 0.0613668\n",
      "[68]\ttraining's auc: 0.761853\ttraining's binary_logloss: 0.0553205\tvalid_1's auc: 0.769134\tvalid_1's binary_logloss: 0.0613458\n",
      "[69]\ttraining's auc: 0.762422\ttraining's binary_logloss: 0.0552811\tvalid_1's auc: 0.769396\tvalid_1's binary_logloss: 0.0613206\n",
      "[70]\ttraining's auc: 0.763253\ttraining's binary_logloss: 0.0552345\tvalid_1's auc: 0.769646\tvalid_1's binary_logloss: 0.0613028\n",
      "[71]\ttraining's auc: 0.763888\ttraining's binary_logloss: 0.0551982\tvalid_1's auc: 0.76995\tvalid_1's binary_logloss: 0.0612831\n",
      "[72]\ttraining's auc: 0.764497\ttraining's binary_logloss: 0.0551611\tvalid_1's auc: 0.770144\tvalid_1's binary_logloss: 0.0612695\n",
      "[73]\ttraining's auc: 0.765194\ttraining's binary_logloss: 0.0551211\tvalid_1's auc: 0.77034\tvalid_1's binary_logloss: 0.0612535\n",
      "[74]\ttraining's auc: 0.765869\ttraining's binary_logloss: 0.0550814\tvalid_1's auc: 0.770565\tvalid_1's binary_logloss: 0.0612457\n",
      "[75]\ttraining's auc: 0.766474\ttraining's binary_logloss: 0.0550384\tvalid_1's auc: 0.770593\tvalid_1's binary_logloss: 0.0612408\n",
      "[76]\ttraining's auc: 0.767145\ttraining's binary_logloss: 0.0549999\tvalid_1's auc: 0.770768\tvalid_1's binary_logloss: 0.0612256\n",
      "[77]\ttraining's auc: 0.767624\ttraining's binary_logloss: 0.0549625\tvalid_1's auc: 0.77108\tvalid_1's binary_logloss: 0.0612017\n",
      "[78]\ttraining's auc: 0.768171\ttraining's binary_logloss: 0.0549259\tvalid_1's auc: 0.771195\tvalid_1's binary_logloss: 0.061191\n",
      "[79]\ttraining's auc: 0.768782\ttraining's binary_logloss: 0.054886\tvalid_1's auc: 0.771204\tvalid_1's binary_logloss: 0.0611773\n",
      "[80]\ttraining's auc: 0.769387\ttraining's binary_logloss: 0.0548502\tvalid_1's auc: 0.771475\tvalid_1's binary_logloss: 0.0611644\n",
      "[81]\ttraining's auc: 0.769975\ttraining's binary_logloss: 0.054816\tvalid_1's auc: 0.771527\tvalid_1's binary_logloss: 0.0611494\n",
      "[82]\ttraining's auc: 0.770487\ttraining's binary_logloss: 0.0547801\tvalid_1's auc: 0.771912\tvalid_1's binary_logloss: 0.0611295\n",
      "[83]\ttraining's auc: 0.771147\ttraining's binary_logloss: 0.0547396\tvalid_1's auc: 0.772196\tvalid_1's binary_logloss: 0.0611147\n",
      "[84]\ttraining's auc: 0.771767\ttraining's binary_logloss: 0.0547033\tvalid_1's auc: 0.77229\tvalid_1's binary_logloss: 0.0611087\n",
      "[85]\ttraining's auc: 0.772101\ttraining's binary_logloss: 0.0546745\tvalid_1's auc: 0.772371\tvalid_1's binary_logloss: 0.0611016\n",
      "[86]\ttraining's auc: 0.772709\ttraining's binary_logloss: 0.0546373\tvalid_1's auc: 0.772747\tvalid_1's binary_logloss: 0.0610842\n",
      "[87]\ttraining's auc: 0.773289\ttraining's binary_logloss: 0.0546022\tvalid_1's auc: 0.772746\tvalid_1's binary_logloss: 0.0610905\n",
      "[88]\ttraining's auc: 0.773765\ttraining's binary_logloss: 0.054571\tvalid_1's auc: 0.772813\tvalid_1's binary_logloss: 0.0610839\n",
      "[89]\ttraining's auc: 0.774313\ttraining's binary_logloss: 0.0545362\tvalid_1's auc: 0.773133\tvalid_1's binary_logloss: 0.0610614\n",
      "[90]\ttraining's auc: 0.774789\ttraining's binary_logloss: 0.0545043\tvalid_1's auc: 0.773173\tvalid_1's binary_logloss: 0.0610598\n",
      "[91]\ttraining's auc: 0.775516\ttraining's binary_logloss: 0.054465\tvalid_1's auc: 0.773181\tvalid_1's binary_logloss: 0.0610505\n",
      "[92]\ttraining's auc: 0.776101\ttraining's binary_logloss: 0.0544325\tvalid_1's auc: 0.773155\tvalid_1's binary_logloss: 0.0610501\n",
      "[93]\ttraining's auc: 0.776519\ttraining's binary_logloss: 0.0543983\tvalid_1's auc: 0.773208\tvalid_1's binary_logloss: 0.0610472\n",
      "[94]\ttraining's auc: 0.777045\ttraining's binary_logloss: 0.0543661\tvalid_1's auc: 0.773252\tvalid_1's binary_logloss: 0.061045\n",
      "[95]\ttraining's auc: 0.777648\ttraining's binary_logloss: 0.0543331\tvalid_1's auc: 0.7734\tvalid_1's binary_logloss: 0.0610383\n",
      "[96]\ttraining's auc: 0.778202\ttraining's binary_logloss: 0.0542994\tvalid_1's auc: 0.773583\tvalid_1's binary_logloss: 0.0610239\n",
      "[97]\ttraining's auc: 0.778754\ttraining's binary_logloss: 0.0542692\tvalid_1's auc: 0.773656\tvalid_1's binary_logloss: 0.0610185\n",
      "[98]\ttraining's auc: 0.779291\ttraining's binary_logloss: 0.0542376\tvalid_1's auc: 0.773805\tvalid_1's binary_logloss: 0.0610126\n",
      "[99]\ttraining's auc: 0.779704\ttraining's binary_logloss: 0.0542066\tvalid_1's auc: 0.77396\tvalid_1's binary_logloss: 0.0609994\n",
      "[100]\ttraining's auc: 0.780201\ttraining's binary_logloss: 0.0541792\tvalid_1's auc: 0.774205\tvalid_1's binary_logloss: 0.0609843\n",
      "[101]\ttraining's auc: 0.78079\ttraining's binary_logloss: 0.0541495\tvalid_1's auc: 0.774364\tvalid_1's binary_logloss: 0.0609709\n",
      "[102]\ttraining's auc: 0.781285\ttraining's binary_logloss: 0.0541188\tvalid_1's auc: 0.774414\tvalid_1's binary_logloss: 0.0609588\n",
      "[103]\ttraining's auc: 0.78189\ttraining's binary_logloss: 0.054087\tvalid_1's auc: 0.77438\tvalid_1's binary_logloss: 0.0609573\n",
      "[104]\ttraining's auc: 0.782505\ttraining's binary_logloss: 0.0540554\tvalid_1's auc: 0.774392\tvalid_1's binary_logloss: 0.0609746\n",
      "[105]\ttraining's auc: 0.783129\ttraining's binary_logloss: 0.0540249\tvalid_1's auc: 0.774352\tvalid_1's binary_logloss: 0.0609742\n",
      "[106]\ttraining's auc: 0.783564\ttraining's binary_logloss: 0.0539961\tvalid_1's auc: 0.77443\tvalid_1's binary_logloss: 0.0609689\n",
      "[107]\ttraining's auc: 0.784145\ttraining's binary_logloss: 0.0539656\tvalid_1's auc: 0.774526\tvalid_1's binary_logloss: 0.0609643\n",
      "[108]\ttraining's auc: 0.784595\ttraining's binary_logloss: 0.0539369\tvalid_1's auc: 0.774443\tvalid_1's binary_logloss: 0.0609727\n",
      "[109]\ttraining's auc: 0.784997\ttraining's binary_logloss: 0.0539077\tvalid_1's auc: 0.774776\tvalid_1's binary_logloss: 0.0609574\n",
      "[110]\ttraining's auc: 0.785433\ttraining's binary_logloss: 0.0538782\tvalid_1's auc: 0.774835\tvalid_1's binary_logloss: 0.0609652\n",
      "[111]\ttraining's auc: 0.785826\ttraining's binary_logloss: 0.0538493\tvalid_1's auc: 0.774778\tvalid_1's binary_logloss: 0.0609679\n",
      "[112]\ttraining's auc: 0.786359\ttraining's binary_logloss: 0.0538153\tvalid_1's auc: 0.774712\tvalid_1's binary_logloss: 0.0609681\n",
      "[113]\ttraining's auc: 0.786819\ttraining's binary_logloss: 0.0537854\tvalid_1's auc: 0.774963\tvalid_1's binary_logloss: 0.0609534\n",
      "[114]\ttraining's auc: 0.787313\ttraining's binary_logloss: 0.0537579\tvalid_1's auc: 0.774876\tvalid_1's binary_logloss: 0.0609546\n",
      "[115]\ttraining's auc: 0.787731\ttraining's binary_logloss: 0.0537327\tvalid_1's auc: 0.774782\tvalid_1's binary_logloss: 0.0609551\n",
      "[116]\ttraining's auc: 0.788182\ttraining's binary_logloss: 0.0537039\tvalid_1's auc: 0.774722\tvalid_1's binary_logloss: 0.0609578\n",
      "[117]\ttraining's auc: 0.788577\ttraining's binary_logloss: 0.0536776\tvalid_1's auc: 0.774581\tvalid_1's binary_logloss: 0.0609602\n",
      "[118]\ttraining's auc: 0.789067\ttraining's binary_logloss: 0.053648\tvalid_1's auc: 0.774814\tvalid_1's binary_logloss: 0.0609505\n",
      "[119]\ttraining's auc: 0.789436\ttraining's binary_logloss: 0.0536223\tvalid_1's auc: 0.774838\tvalid_1's binary_logloss: 0.0609435\n",
      "[120]\ttraining's auc: 0.789849\ttraining's binary_logloss: 0.0535977\tvalid_1's auc: 0.774873\tvalid_1's binary_logloss: 0.0609386\n",
      "[121]\ttraining's auc: 0.790211\ttraining's binary_logloss: 0.0535685\tvalid_1's auc: 0.775063\tvalid_1's binary_logloss: 0.0609375\n",
      "[122]\ttraining's auc: 0.790662\ttraining's binary_logloss: 0.0535421\tvalid_1's auc: 0.775193\tvalid_1's binary_logloss: 0.0609339\n",
      "[123]\ttraining's auc: 0.791195\ttraining's binary_logloss: 0.0535161\tvalid_1's auc: 0.77546\tvalid_1's binary_logloss: 0.0609275\n",
      "[124]\ttraining's auc: 0.791655\ttraining's binary_logloss: 0.053486\tvalid_1's auc: 0.775463\tvalid_1's binary_logloss: 0.0609224\n",
      "[125]\ttraining's auc: 0.792106\ttraining's binary_logloss: 0.0534602\tvalid_1's auc: 0.775488\tvalid_1's binary_logloss: 0.0609258\n",
      "[126]\ttraining's auc: 0.792508\ttraining's binary_logloss: 0.0534333\tvalid_1's auc: 0.775613\tvalid_1's binary_logloss: 0.0609194\n",
      "[127]\ttraining's auc: 0.792906\ttraining's binary_logloss: 0.0534065\tvalid_1's auc: 0.775448\tvalid_1's binary_logloss: 0.0609276\n",
      "[128]\ttraining's auc: 0.793343\ttraining's binary_logloss: 0.0533843\tvalid_1's auc: 0.775393\tvalid_1's binary_logloss: 0.0609261\n",
      "[129]\ttraining's auc: 0.793745\ttraining's binary_logloss: 0.0533586\tvalid_1's auc: 0.775404\tvalid_1's binary_logloss: 0.0609228\n",
      "[130]\ttraining's auc: 0.794059\ttraining's binary_logloss: 0.0533354\tvalid_1's auc: 0.775596\tvalid_1's binary_logloss: 0.0609205\n",
      "[131]\ttraining's auc: 0.794457\ttraining's binary_logloss: 0.0533088\tvalid_1's auc: 0.775452\tvalid_1's binary_logloss: 0.0609279\n",
      "[132]\ttraining's auc: 0.794939\ttraining's binary_logloss: 0.0532821\tvalid_1's auc: 0.775339\tvalid_1's binary_logloss: 0.0609314\n",
      "[133]\ttraining's auc: 0.795383\ttraining's binary_logloss: 0.0532527\tvalid_1's auc: 0.775351\tvalid_1's binary_logloss: 0.0609217\n",
      "[134]\ttraining's auc: 0.795752\ttraining's binary_logloss: 0.0532308\tvalid_1's auc: 0.775352\tvalid_1's binary_logloss: 0.0609159\n",
      "[135]\ttraining's auc: 0.796086\ttraining's binary_logloss: 0.0532063\tvalid_1's auc: 0.775167\tvalid_1's binary_logloss: 0.0609248\n",
      "[136]\ttraining's auc: 0.796447\ttraining's binary_logloss: 0.0531819\tvalid_1's auc: 0.775198\tvalid_1's binary_logloss: 0.0609332\n",
      "Early stopping, best iteration is:\n",
      "[126]\ttraining's auc: 0.792508\ttraining's binary_logloss: 0.0534333\tvalid_1's auc: 0.775613\tvalid_1's binary_logloss: 0.0609194\n"
     ]
    }
   ],
   "source": [
    "model = lgb.train(lgb_params, \n",
    "                  train_set=train_data, \n",
    "                  valid_sets=[train_data, valid_data])"
   ]
  },
  {
   "cell_type": "code",
   "execution_count": 47,
   "metadata": {
    "collapsed": true,
    "jupyter": {
     "outputs_hidden": true,
     "source_hidden": true
    }
   },
   "outputs": [
    {
     "name": "stdout",
     "output_type": "stream",
     "text": [
      "(860483,)\n",
      "Test set AUROC: 0.765530626906489\n",
      "Test set AUPRC: 0.03525730078126924\n",
      "Saiva recall at top 15: 0.4560067681895093\n",
      "Recall at top 15: 0.37395529108136427\n"
     ]
    }
   ],
   "source": [
    "test_Yhat = model.predict(test_X)\n",
    "print(test_Yhat.shape)\n",
    "\n",
    "from sklearn.metrics import roc_auc_score, average_precision_score\n",
    "\n",
    "test_auroc = roc_auc_score(test_Y, test_Yhat)\n",
    "test_ap = average_precision_score(test_Y, test_Yhat)\n",
    "saiva_recall = perf_utils.saiva_recall_at_top_K(test_Y, test_Yhat, test_ptimes)\n",
    "recall = perf_utils.recall_at_top_K(test_Y, test_Yhat, test_ptimes)\n",
    "\n",
    "print(f\"Saiva recall at top 15: {saiva_recall}\")\n",
    "print(f\"Recall at top 15: {recall}\")\n",
    "print(f'Test set AUROC: {test_auroc}')\n",
    "print(f'Test set AUPRC: {test_ap}')\n"
   ]
  },
  {
   "cell_type": "markdown",
   "metadata": {},
   "source": [
    "### Conclusion\n",
    "This looks like we expect - Saiva's formulation of recall should be strictly greater than the standard definition. "
   ]
  },
  {
   "cell_type": "markdown",
   "metadata": {},
   "source": [
    "# Bootstrap confidence intervals\n",
    "Look at CI's from different resampling units - by prediction time (prob wrong), by stay, and by patient. "
   ]
  },
  {
   "cell_type": "markdown",
   "metadata": {},
   "source": [
    "## Run random baseline"
   ]
  },
  {
   "cell_type": "code",
   "execution_count": 33,
   "metadata": {},
   "outputs": [
    {
     "name": "stdout",
     "output_type": "stream",
     "text": [
      "Saiva recall for random Yhat: 0.4572758037225042\n",
      "Standard recall for random Yhat: 0.16124376389288272\n",
      "Test set AUROC: 0.4978990423806624\n",
      "Test set AUPRC: 0.012226887175569507\n"
     ]
    }
   ],
   "source": [
    "# Random baseline\n",
    "random_Yhat = np.random.uniform(size=len(test_Y))\n",
    "rand_auroc = roc_auc_score(test_Y, random_Yhat)\n",
    "rand_ap = average_precision_score(test_Y, random_Yhat)\n",
    "saiva_recall = perf_utils.saiva_recall_at_top_K(test_Y, random_Yhat, test_ptimes)\n",
    "recall = perf_utils.recall_at_top_K(test_Y, random_Yhat, test_ptimes)\n",
    "\n",
    "print(f\"Saiva recall for random Yhat: {saiva_recall}\")\n",
    "print(f\"Standard recall for random Yhat: {recall}\")\n",
    "print(f'Test set AUROC: {rand_auroc}')\n",
    "print(f'Test set AUPRC: {rand_ap}')\n"
   ]
  },
  {
   "cell_type": "code",
   "execution_count": 90,
   "metadata": {},
   "outputs": [
    {
     "name": "stdout",
     "output_type": "stream",
     "text": [
      "Estimating confidence intervals from 500 bootstrap samples...\n",
      "Constructing samples by sampling time...\n",
      "Running jobs...\n",
      "Collating statistics\n"
     ]
    },
    {
     "data": {
      "text/plain": [
       "array([[0.35136293, 0.33790803, 0.36431989],\n",
       "       [0.16077793, 0.15375348, 0.16817582],\n",
       "       [0.50152881, 0.49580103, 0.50690603],\n",
       "       [0.01238506, 0.01205922, 0.01270924]])"
      ]
     },
     "execution_count": 90,
     "metadata": {},
     "output_type": "execute_result"
    }
   ],
   "source": [
    "rand_stats, _ = perf_utils.bootstrap_confidence_intervals(test_Y, random_Yhat, test_ptimes, B=200, sample_by='time')\n",
    "rand_stats"
   ]
  },
  {
   "cell_type": "code",
   "execution_count": 89,
   "metadata": {},
   "outputs": [
    {
     "name": "stdout",
     "output_type": "stream",
     "text": [
      "Estimating confidence intervals from 500 bootstrap samples...\n",
      "Constructing samples by sampling stay...\n",
      "Running jobs...\n",
      "Collating statistics\n"
     ]
    },
    {
     "data": {
      "text/plain": [
       "array([[0.47617227, 0.45704843, 0.49407413],\n",
       "       [0.16047685, 0.15264726, 0.16840561],\n",
       "       [0.50142308, 0.49635828, 0.50731998],\n",
       "       [0.01238542, 0.0118549 , 0.01293973]])"
      ]
     },
     "execution_count": 89,
     "metadata": {},
     "output_type": "execute_result"
    }
   ],
   "source": [
    "rand_stats, _ = perf_utils.bootstrap_confidence_intervals(test_Y, random_Yhat, test_ptimes, B=200, sample_by='stay')\n",
    "rand_stats"
   ]
  },
  {
   "cell_type": "code",
   "execution_count": 36,
   "metadata": {},
   "outputs": [
    {
     "name": "stdout",
     "output_type": "stream",
     "text": [
      "Estimating confidence intervals from 200 bootstrap samples...\n",
      "Constructing samples by sampling patient...\n",
      "Running jobs...\n",
      "Collating statistics\n"
     ]
    },
    {
     "data": {
      "text/html": [
       "<div>\n",
       "<style scoped>\n",
       "    .dataframe tbody tr th:only-of-type {\n",
       "        vertical-align: middle;\n",
       "    }\n",
       "\n",
       "    .dataframe tbody tr th {\n",
       "        vertical-align: top;\n",
       "    }\n",
       "\n",
       "    .dataframe thead th {\n",
       "        text-align: right;\n",
       "    }\n",
       "</style>\n",
       "<table border=\"1\" class=\"dataframe\">\n",
       "  <thead>\n",
       "    <tr style=\"text-align: right;\">\n",
       "      <th></th>\n",
       "      <th>Statistic</th>\n",
       "      <th>Lower CI</th>\n",
       "      <th>Upper CI</th>\n",
       "    </tr>\n",
       "  </thead>\n",
       "  <tbody>\n",
       "    <tr>\n",
       "      <th>Saiva Recall at top K</th>\n",
       "      <td>0.469475</td>\n",
       "      <td>0.451209</td>\n",
       "      <td>0.486661</td>\n",
       "    </tr>\n",
       "    <tr>\n",
       "      <th>Recall at top K</th>\n",
       "      <td>0.158805</td>\n",
       "      <td>0.149699</td>\n",
       "      <td>0.167232</td>\n",
       "    </tr>\n",
       "    <tr>\n",
       "      <th>AUROC</th>\n",
       "      <td>0.497858</td>\n",
       "      <td>0.492093</td>\n",
       "      <td>0.503399</td>\n",
       "    </tr>\n",
       "    <tr>\n",
       "      <th>ave Precision</th>\n",
       "      <td>0.012247</td>\n",
       "      <td>0.011506</td>\n",
       "      <td>0.012934</td>\n",
       "    </tr>\n",
       "  </tbody>\n",
       "</table>\n",
       "</div>"
      ],
      "text/plain": [
       "                       Statistic  Lower CI  Upper CI\n",
       "Saiva Recall at top K   0.469475  0.451209  0.486661\n",
       "Recall at top K         0.158805  0.149699  0.167232\n",
       "AUROC                   0.497858  0.492093  0.503399\n",
       "ave Precision           0.012247  0.011506  0.012934"
      ]
     },
     "execution_count": 36,
     "metadata": {},
     "output_type": "execute_result"
    }
   ],
   "source": [
    "rand_stats, _ = perf_utils.bootstrap_confidence_intervals(test_Y, random_Yhat, test_ptimes, B=200, sample_by='patient')\n",
    "rand_stats"
   ]
  },
  {
   "cell_type": "code",
   "execution_count": 41,
   "metadata": {},
   "outputs": [
    {
     "data": {
      "text/plain": [
       "(860483, 860483)"
      ]
     },
     "execution_count": 41,
     "metadata": {},
     "output_type": "execute_result"
    }
   ],
   "source": [
    "len(test_Y), len(test_ptimes)"
   ]
  },
  {
   "cell_type": "code",
   "execution_count": 44,
   "metadata": {},
   "outputs": [
    {
     "name": "stdout",
     "output_type": "stream",
     "text": [
      "Estimating confidence intervals from 200 bootstrap samples...\n",
      "Constructing samples by sampling patient...\n",
      "Running jobs...\n",
      "Collating statistics\n"
     ]
    },
    {
     "data": {
      "text/html": [
       "<div>\n",
       "<style scoped>\n",
       "    .dataframe tbody tr th:only-of-type {\n",
       "        vertical-align: middle;\n",
       "    }\n",
       "\n",
       "    .dataframe tbody tr th {\n",
       "        vertical-align: top;\n",
       "    }\n",
       "\n",
       "    .dataframe thead th {\n",
       "        text-align: right;\n",
       "    }\n",
       "</style>\n",
       "<table border=\"1\" class=\"dataframe\">\n",
       "  <thead>\n",
       "    <tr style=\"text-align: right;\">\n",
       "      <th></th>\n",
       "      <th>Statistic</th>\n",
       "      <th>Lower CI</th>\n",
       "      <th>Upper CI</th>\n",
       "    </tr>\n",
       "  </thead>\n",
       "  <tbody>\n",
       "    <tr>\n",
       "      <th>Saiva Recall at top K</th>\n",
       "      <td>0.473116</td>\n",
       "      <td>0.453196</td>\n",
       "      <td>0.495984</td>\n",
       "    </tr>\n",
       "    <tr>\n",
       "      <th>Recall at top K</th>\n",
       "      <td>0.158494</td>\n",
       "      <td>0.147724</td>\n",
       "      <td>0.168559</td>\n",
       "    </tr>\n",
       "    <tr>\n",
       "      <th>AUROC</th>\n",
       "      <td>0.501351</td>\n",
       "      <td>0.492049</td>\n",
       "      <td>0.508589</td>\n",
       "    </tr>\n",
       "    <tr>\n",
       "      <th>ave Precision</th>\n",
       "      <td>0.012406</td>\n",
       "      <td>0.011747</td>\n",
       "      <td>0.013073</td>\n",
       "    </tr>\n",
       "  </tbody>\n",
       "</table>\n",
       "</div>"
      ],
      "text/plain": [
       "                       Statistic  Lower CI  Upper CI\n",
       "Saiva Recall at top K   0.473116  0.453196  0.495984\n",
       "Recall at top K         0.158494  0.147724  0.168559\n",
       "AUROC                   0.501351  0.492049  0.508589\n",
       "ave Precision           0.012406  0.011747  0.013073"
      ]
     },
     "execution_count": 44,
     "metadata": {},
     "output_type": "execute_result"
    }
   ],
   "source": [
    "# What if we do things with a new random draw every day? \n",
    "really_rand_stats, _ = perf_utils.bootstrap_confidence_intervals(test_Y, None, test_ptimes, B=200, sample_by='patient')\n",
    "really_rand_stats"
   ]
  },
  {
   "cell_type": "markdown",
   "metadata": {},
   "source": [
    "### Conclusion\n",
    "There are two issues to de-couple.  First, is Saiva's formulation of recall at top K reasonable?  Second, should we sample by time or by stay/patient? \n",
    "\n",
    "* If we resample by time, then the performance of random Yhat appears to drop dramatically from the point estimate from the real data (from 46% to 35%).  This makes models look better. \n",
    "* But note that this metric run on model output doesn't seem to do better than randomized - 45.6%.  This is despite the model output dominating clearly in standard recall at top K, AUROC, and aP. \n",
    "* For standard recall, AUROC and aP, resampling by time vs stay/patient doesn't matter much - same range.  It seems to only make a difference for Saiva's recall at top K.  \n",
    "* Doesn't matter whether we use a fixed random Yhat or do random picks every sample - end up quite close to each other, so no material difference.\n",
    "\n",
    "So overall, I am leaning towards resampling by patient, and noting that Saiva's formulation has some quirks (e.g., probably driven a lot by how many patients there are in each facility).  "
   ]
  },
  {
   "cell_type": "markdown",
   "metadata": {},
   "source": [
    "## Now run on model output... \n",
    "Just in case there is anything different with non-random Yhat... "
   ]
  },
  {
   "cell_type": "code",
   "execution_count": 93,
   "metadata": {},
   "outputs": [
    {
     "name": "stdout",
     "output_type": "stream",
     "text": [
      "Saiva recall at top 15: 0.4560067681895093\n",
      "Recall at top 15: 0.37395529108136427\n",
      "Test set AUROC: 0.765530626906489\n",
      "Test set AUPRC: 0.03525730078126924\n"
     ]
    }
   ],
   "source": [
    "# Baseline - point estimates from the data\n",
    "test_auroc = roc_auc_score(test_Y, test_Yhat)\n",
    "test_ap = average_precision_score(test_Y, test_Yhat)\n",
    "saiva_recall = perf_utils.saiva_recall_at_top_K(test_Y, test_Yhat, test_ptimes)\n",
    "recall = perf_utils.recall_at_top_K(test_Y, test_Yhat, test_ptimes)\n",
    "\n",
    "print(f\"Saiva recall at top 15: {saiva_recall}\")\n",
    "print(f\"Recall at top 15: {recall}\")\n",
    "print(f'Test set AUROC: {test_auroc}')\n",
    "print(f'Test set AUPRC: {test_ap}')"
   ]
  },
  {
   "cell_type": "code",
   "execution_count": 94,
   "metadata": {},
   "outputs": [
    {
     "name": "stdout",
     "output_type": "stream",
     "text": [
      "Estimating confidence intervals from 500 bootstrap samples...\n",
      "Constructing samples by sampling time...\n",
      "Running jobs...\n",
      "Collating statistics\n"
     ]
    },
    {
     "data": {
      "text/plain": [
       "array([[0.44054958, 0.43081951, 0.4500609 ],\n",
       "       [0.36457431, 0.3548625 , 0.37461768],\n",
       "       [0.76551647, 0.76146537, 0.76970295],\n",
       "       [0.03533058, 0.03421147, 0.03655686]])"
      ]
     },
     "execution_count": 94,
     "metadata": {},
     "output_type": "execute_result"
    }
   ],
   "source": [
    "# bootstrap ci's on model output, sample by predictions.  \n",
    "# Rows are: saiva recall at top 15, recall at top 15, auroc, auprc.  \n",
    "stats_by_time, stats_time = perf_utils.bootstrap_confidence_intervals(test_Y, test_Yhat, test_ptimes, B=500, sample_by='time')\n",
    "stats_by_time"
   ]
  },
  {
   "cell_type": "code",
   "execution_count": 95,
   "metadata": {},
   "outputs": [
    {
     "name": "stdout",
     "output_type": "stream",
     "text": [
      "Estimating confidence intervals from 500 bootstrap samples...\n",
      "Constructing samples by sampling stay...\n",
      "Running jobs...\n",
      "Collating statistics\n"
     ]
    },
    {
     "data": {
      "text/plain": [
       "array([[0.4644339 , 0.44302036, 0.4833846 ],\n",
       "       [0.36400921, 0.34480653, 0.3827905 ],\n",
       "       [0.76531016, 0.75535324, 0.7748881 ],\n",
       "       [0.03525693, 0.03262749, 0.03796868]])"
      ]
     },
     "execution_count": 95,
     "metadata": {},
     "output_type": "execute_result"
    }
   ],
   "source": [
    "stats_by_stay, stats_stay = perf_utils.bootstrap_confidence_intervals(test_Y, test_Yhat, test_ptimes, B=500, sample_by='stay')\n",
    "stats_by_stay"
   ]
  },
  {
   "cell_type": "code",
   "execution_count": 96,
   "metadata": {},
   "outputs": [
    {
     "name": "stdout",
     "output_type": "stream",
     "text": [
      "Estimating confidence intervals from 500 bootstrap samples...\n",
      "Constructing samples by sampling patient...\n",
      "Running jobs...\n",
      "Collating statistics\n"
     ]
    },
    {
     "data": {
      "text/plain": [
       "array([[0.4653694 , 0.44377684, 0.48825996],\n",
       "       [0.36480567, 0.34575983, 0.38505555],\n",
       "       [0.76546462, 0.75525232, 0.7755082 ],\n",
       "       [0.03526932, 0.03234354, 0.03818741]])"
      ]
     },
     "execution_count": 96,
     "metadata": {},
     "output_type": "execute_result"
    }
   ],
   "source": [
    "stats_by_patient, stats_patient = perf_utils.bootstrap_confidence_intervals(test_Y, test_Yhat, test_ptimes, B=500, sample_by='patient')\n",
    "stats_by_patient"
   ]
  },
  {
   "cell_type": "markdown",
   "metadata": {},
   "source": [
    "# Conclusion\n",
    "Reinforces conclusion that the Saiva recall metric is problematic.\n",
    "\n",
    "Default for confidence intervals should be to resample by patient. "
   ]
  },
  {
   "cell_type": "markdown",
   "metadata": {},
   "source": [
    "# Paired Bootstrap confidence intervals\n",
    "Given a pair of models, get confidence intervals on the difference, paired for greater power. "
   ]
  },
  {
   "cell_type": "code",
   "execution_count": 97,
   "metadata": {},
   "outputs": [
    {
     "name": "stdout",
     "output_type": "stream",
     "text": [
      "Constructing samples by sampling patient...\n",
      "Running jobs...\n",
      "Collating statistics\n"
     ]
    },
    {
     "data": {
      "text/plain": [
       "array([[-0.0021704 , -0.02690509,  0.02426145],\n",
       "       [ 0.20858906,  0.18899829,  0.22854717],\n",
       "       [ 0.2649961 ,  0.25299446,  0.27641833],\n",
       "       [ 0.02316093,  0.02081499,  0.02601038]])"
      ]
     },
     "execution_count": 97,
     "metadata": {},
     "output_type": "execute_result"
    }
   ],
   "source": [
    "# Use random as a baseline\n",
    "ci_results, raw_stats = perf_utils.paired_bootstrap_confidence_intervals(test_Y, \n",
    "                                                                         random_Yhat, \n",
    "                                                                         test_Yhat, \n",
    "                                                                         test_ptimes, \n",
    "                                                                         B=500, \n",
    "                                                                         sample_by='patient')\n",
    "ci_results"
   ]
  },
  {
   "cell_type": "markdown",
   "metadata": {},
   "source": [
    "# Relationship between AUROC, aP, and recall at top K.  \n",
    "Look at this empirically, using models that are stopped early to get different performance characteristics.  We'll do this by stopping training at various points.  From prior run, seems like we can do this at: \n",
    "\n",
    "1, 5, 11, 23, 40, 72, 126\n"
   ]
  },
  {
   "cell_type": "code",
   "execution_count": 20,
   "metadata": {},
   "outputs": [],
   "source": [
    "num_iter = [1, 4, 6, 12, 17, 32, 54]\n",
    "#num_iter = [1, 5]\n",
    "model_list = []\n",
    "yhat_list = []\n",
    "stats_list = []\n",
    "init_model = None\n",
    "\n",
    "lgb_params = {\n",
    "    'boosting': 'gbdt', \n",
    "    'objective': 'binary',\n",
    "    'metric': ['auc', 'binary'],\n",
    "    'learning_rate': 0.05,  # 0.02, \n",
    "    'max_depth': -1, \n",
    "    'num_threads': 32,\n",
    "    'num_leaves': 63,\n",
    "    'two_round': True, \n",
    "}"
   ]
  },
  {
   "cell_type": "code",
   "execution_count": 21,
   "metadata": {
    "collapsed": true,
    "jupyter": {
     "outputs_hidden": true
    }
   },
   "outputs": [
    {
     "name": "stdout",
     "output_type": "stream",
     "text": [
      "Fitting for 1 rounds\n",
      "[1]\ttraining's auc: 0.679947\ttraining's binary_logloss: 0.0706799\tvalid_1's auc: 0.719574\tvalid_1's binary_logloss: 0.0661988\n",
      "Getting Yhat...\n",
      "Calculating perf stats...\n",
      "Estimating confidence intervals from 200 bootstrap samples...\n",
      "Constructing samples by sampling patient...\n",
      "Running jobs...\n",
      "Collating statistics\n",
      "Fitting for 4 rounds\n",
      "[2]\ttraining's auc: 0.686307\ttraining's binary_logloss: 0.0703037\tvalid_1's auc: 0.726896\tvalid_1's binary_logloss: 0.0658296\n",
      "[3]\ttraining's auc: 0.690692\ttraining's binary_logloss: 0.0699816\tvalid_1's auc: 0.729423\tvalid_1's binary_logloss: 0.0655198\n",
      "[4]\ttraining's auc: 0.695939\ttraining's binary_logloss: 0.0696942\tvalid_1's auc: 0.734093\tvalid_1's binary_logloss: 0.0652455\n",
      "[5]\ttraining's auc: 0.698092\ttraining's binary_logloss: 0.069439\tvalid_1's auc: 0.736235\tvalid_1's binary_logloss: 0.0649889\n",
      "Getting Yhat...\n",
      "Calculating perf stats...\n",
      "Estimating confidence intervals from 200 bootstrap samples...\n",
      "Constructing samples by sampling patient...\n",
      "Running jobs...\n",
      "Collating statistics\n",
      "Fitting for 6 rounds\n",
      "[6]\ttraining's auc: 0.700662\ttraining's binary_logloss: 0.0691923\tvalid_1's auc: 0.737948\tvalid_1's binary_logloss: 0.0647807\n",
      "[7]\ttraining's auc: 0.703622\ttraining's binary_logloss: 0.0689732\tvalid_1's auc: 0.740179\tvalid_1's binary_logloss: 0.0645727\n",
      "[8]\ttraining's auc: 0.705117\ttraining's binary_logloss: 0.0687813\tvalid_1's auc: 0.741022\tvalid_1's binary_logloss: 0.0643942\n",
      "[9]\ttraining's auc: 0.708009\ttraining's binary_logloss: 0.0685925\tvalid_1's auc: 0.742053\tvalid_1's binary_logloss: 0.0642433\n",
      "[10]\ttraining's auc: 0.709809\ttraining's binary_logloss: 0.0684172\tvalid_1's auc: 0.743839\tvalid_1's binary_logloss: 0.0640804\n",
      "[11]\ttraining's auc: 0.711711\ttraining's binary_logloss: 0.0682509\tvalid_1's auc: 0.744957\tvalid_1's binary_logloss: 0.0639464\n",
      "Getting Yhat...\n",
      "Calculating perf stats...\n",
      "Estimating confidence intervals from 200 bootstrap samples...\n",
      "Constructing samples by sampling patient...\n",
      "Running jobs...\n",
      "Collating statistics\n",
      "Fitting for 12 rounds\n",
      "[12]\ttraining's auc: 0.713084\ttraining's binary_logloss: 0.0680939\tvalid_1's auc: 0.746295\tvalid_1's binary_logloss: 0.0638038\n",
      "[13]\ttraining's auc: 0.714595\ttraining's binary_logloss: 0.0679503\tvalid_1's auc: 0.746393\tvalid_1's binary_logloss: 0.0637045\n",
      "[14]\ttraining's auc: 0.716229\ttraining's binary_logloss: 0.0678131\tvalid_1's auc: 0.747235\tvalid_1's binary_logloss: 0.063593\n",
      "[15]\ttraining's auc: 0.717613\ttraining's binary_logloss: 0.06768\tvalid_1's auc: 0.748304\tvalid_1's binary_logloss: 0.0634715\n",
      "[16]\ttraining's auc: 0.719428\ttraining's binary_logloss: 0.0675533\tvalid_1's auc: 0.749146\tvalid_1's binary_logloss: 0.0633658\n",
      "[17]\ttraining's auc: 0.720971\ttraining's binary_logloss: 0.0674289\tvalid_1's auc: 0.749439\tvalid_1's binary_logloss: 0.0632963\n",
      "[18]\ttraining's auc: 0.721979\ttraining's binary_logloss: 0.0673165\tvalid_1's auc: 0.750121\tvalid_1's binary_logloss: 0.0632036\n",
      "[19]\ttraining's auc: 0.723265\ttraining's binary_logloss: 0.0671965\tvalid_1's auc: 0.750521\tvalid_1's binary_logloss: 0.0631296\n",
      "[20]\ttraining's auc: 0.724511\ttraining's binary_logloss: 0.0670931\tvalid_1's auc: 0.751362\tvalid_1's binary_logloss: 0.0630404\n",
      "[21]\ttraining's auc: 0.725845\ttraining's binary_logloss: 0.0669884\tvalid_1's auc: 0.752055\tvalid_1's binary_logloss: 0.0629751\n",
      "[22]\ttraining's auc: 0.727071\ttraining's binary_logloss: 0.0668799\tvalid_1's auc: 0.752514\tvalid_1's binary_logloss: 0.0628965\n",
      "[23]\ttraining's auc: 0.72804\ttraining's binary_logloss: 0.066787\tvalid_1's auc: 0.753206\tvalid_1's binary_logloss: 0.0628234\n",
      "Getting Yhat...\n",
      "Calculating perf stats...\n",
      "Estimating confidence intervals from 200 bootstrap samples...\n",
      "Constructing samples by sampling patient...\n",
      "Running jobs...\n",
      "Collating statistics\n",
      "Fitting for 17 rounds\n",
      "[24]\ttraining's auc: 0.729258\ttraining's binary_logloss: 0.0666845\tvalid_1's auc: 0.7532\tvalid_1's binary_logloss: 0.0627679\n",
      "[25]\ttraining's auc: 0.730319\ttraining's binary_logloss: 0.0666002\tvalid_1's auc: 0.753844\tvalid_1's binary_logloss: 0.0627003\n",
      "[26]\ttraining's auc: 0.731398\ttraining's binary_logloss: 0.0665117\tvalid_1's auc: 0.754582\tvalid_1's binary_logloss: 0.0626336\n",
      "[27]\ttraining's auc: 0.732983\ttraining's binary_logloss: 0.0664139\tvalid_1's auc: 0.755012\tvalid_1's binary_logloss: 0.0625879\n",
      "[28]\ttraining's auc: 0.734039\ttraining's binary_logloss: 0.0663262\tvalid_1's auc: 0.755257\tvalid_1's binary_logloss: 0.0625341\n",
      "[29]\ttraining's auc: 0.735039\ttraining's binary_logloss: 0.0662428\tvalid_1's auc: 0.756033\tvalid_1's binary_logloss: 0.0624784\n",
      "[30]\ttraining's auc: 0.736101\ttraining's binary_logloss: 0.0661605\tvalid_1's auc: 0.756289\tvalid_1's binary_logloss: 0.0624326\n",
      "[31]\ttraining's auc: 0.737268\ttraining's binary_logloss: 0.0660764\tvalid_1's auc: 0.75655\tvalid_1's binary_logloss: 0.0623893\n",
      "[32]\ttraining's auc: 0.738387\ttraining's binary_logloss: 0.0660028\tvalid_1's auc: 0.757473\tvalid_1's binary_logloss: 0.0623263\n",
      "[33]\ttraining's auc: 0.739435\ttraining's binary_logloss: 0.0659245\tvalid_1's auc: 0.75799\tvalid_1's binary_logloss: 0.0622761\n",
      "[34]\ttraining's auc: 0.74025\ttraining's binary_logloss: 0.0658485\tvalid_1's auc: 0.758174\tvalid_1's binary_logloss: 0.0622457\n",
      "[35]\ttraining's auc: 0.741294\ttraining's binary_logloss: 0.0657742\tvalid_1's auc: 0.758669\tvalid_1's binary_logloss: 0.0622073\n",
      "[36]\ttraining's auc: 0.742188\ttraining's binary_logloss: 0.0657022\tvalid_1's auc: 0.759002\tvalid_1's binary_logloss: 0.0621736\n",
      "[37]\ttraining's auc: 0.743141\ttraining's binary_logloss: 0.0656315\tvalid_1's auc: 0.75938\tvalid_1's binary_logloss: 0.0621336\n",
      "[38]\ttraining's auc: 0.744254\ttraining's binary_logloss: 0.0655571\tvalid_1's auc: 0.759868\tvalid_1's binary_logloss: 0.0620916\n",
      "[39]\ttraining's auc: 0.745105\ttraining's binary_logloss: 0.0654842\tvalid_1's auc: 0.760619\tvalid_1's binary_logloss: 0.0620475\n",
      "[40]\ttraining's auc: 0.746264\ttraining's binary_logloss: 0.0654099\tvalid_1's auc: 0.760913\tvalid_1's binary_logloss: 0.0620297\n",
      "Getting Yhat...\n",
      "Calculating perf stats...\n",
      "Estimating confidence intervals from 200 bootstrap samples...\n",
      "Constructing samples by sampling patient...\n",
      "Running jobs...\n",
      "Collating statistics\n",
      "Fitting for 32 rounds\n",
      "[41]\ttraining's auc: 0.747364\ttraining's binary_logloss: 0.0653312\tvalid_1's auc: 0.76146\tvalid_1's binary_logloss: 0.0619974\n",
      "[42]\ttraining's auc: 0.748486\ttraining's binary_logloss: 0.0652558\tvalid_1's auc: 0.761856\tvalid_1's binary_logloss: 0.0619769\n",
      "[43]\ttraining's auc: 0.749432\ttraining's binary_logloss: 0.0651855\tvalid_1's auc: 0.762355\tvalid_1's binary_logloss: 0.0619431\n",
      "[44]\ttraining's auc: 0.750364\ttraining's binary_logloss: 0.0651103\tvalid_1's auc: 0.763058\tvalid_1's binary_logloss: 0.0619029\n",
      "[45]\ttraining's auc: 0.751388\ttraining's binary_logloss: 0.0650417\tvalid_1's auc: 0.76364\tvalid_1's binary_logloss: 0.0618623\n",
      "[46]\ttraining's auc: 0.752151\ttraining's binary_logloss: 0.0649808\tvalid_1's auc: 0.764297\tvalid_1's binary_logloss: 0.0618204\n",
      "[47]\ttraining's auc: 0.752822\ttraining's binary_logloss: 0.0649177\tvalid_1's auc: 0.764773\tvalid_1's binary_logloss: 0.0617803\n",
      "[48]\ttraining's auc: 0.75371\ttraining's binary_logloss: 0.0648538\tvalid_1's auc: 0.765361\tvalid_1's binary_logloss: 0.0617458\n",
      "[49]\ttraining's auc: 0.754493\ttraining's binary_logloss: 0.0647852\tvalid_1's auc: 0.765839\tvalid_1's binary_logloss: 0.0617105\n",
      "[50]\ttraining's auc: 0.755339\ttraining's binary_logloss: 0.064722\tvalid_1's auc: 0.766312\tvalid_1's binary_logloss: 0.0616801\n",
      "[51]\ttraining's auc: 0.756202\ttraining's binary_logloss: 0.0646591\tvalid_1's auc: 0.766869\tvalid_1's binary_logloss: 0.0616366\n",
      "[52]\ttraining's auc: 0.756909\ttraining's binary_logloss: 0.0646029\tvalid_1's auc: 0.767061\tvalid_1's binary_logloss: 0.0616164\n",
      "[53]\ttraining's auc: 0.757754\ttraining's binary_logloss: 0.0645399\tvalid_1's auc: 0.767108\tvalid_1's binary_logloss: 0.0616198\n",
      "[54]\ttraining's auc: 0.758486\ttraining's binary_logloss: 0.0644834\tvalid_1's auc: 0.767544\tvalid_1's binary_logloss: 0.0615891\n",
      "[55]\ttraining's auc: 0.759304\ttraining's binary_logloss: 0.0644238\tvalid_1's auc: 0.768126\tvalid_1's binary_logloss: 0.061564\n",
      "[56]\ttraining's auc: 0.759883\ttraining's binary_logloss: 0.0643681\tvalid_1's auc: 0.768217\tvalid_1's binary_logloss: 0.0615529\n",
      "[57]\ttraining's auc: 0.760725\ttraining's binary_logloss: 0.0643061\tvalid_1's auc: 0.768736\tvalid_1's binary_logloss: 0.0615257\n",
      "[58]\ttraining's auc: 0.761468\ttraining's binary_logloss: 0.0642543\tvalid_1's auc: 0.768894\tvalid_1's binary_logloss: 0.0615168\n",
      "[59]\ttraining's auc: 0.761976\ttraining's binary_logloss: 0.0642058\tvalid_1's auc: 0.769098\tvalid_1's binary_logloss: 0.0615072\n",
      "[60]\ttraining's auc: 0.762686\ttraining's binary_logloss: 0.0641513\tvalid_1's auc: 0.769546\tvalid_1's binary_logloss: 0.0614817\n",
      "[61]\ttraining's auc: 0.763404\ttraining's binary_logloss: 0.0640962\tvalid_1's auc: 0.769682\tvalid_1's binary_logloss: 0.0614625\n",
      "[62]\ttraining's auc: 0.764052\ttraining's binary_logloss: 0.0640473\tvalid_1's auc: 0.769923\tvalid_1's binary_logloss: 0.0614416\n",
      "[63]\ttraining's auc: 0.764588\ttraining's binary_logloss: 0.0639946\tvalid_1's auc: 0.770005\tvalid_1's binary_logloss: 0.0614279\n",
      "[64]\ttraining's auc: 0.765236\ttraining's binary_logloss: 0.0639447\tvalid_1's auc: 0.770155\tvalid_1's binary_logloss: 0.0614158\n",
      "[65]\ttraining's auc: 0.765929\ttraining's binary_logloss: 0.0638964\tvalid_1's auc: 0.770555\tvalid_1's binary_logloss: 0.0613951\n",
      "[66]\ttraining's auc: 0.766509\ttraining's binary_logloss: 0.0638458\tvalid_1's auc: 0.77101\tvalid_1's binary_logloss: 0.0613612\n",
      "[67]\ttraining's auc: 0.767174\ttraining's binary_logloss: 0.0637922\tvalid_1's auc: 0.771036\tvalid_1's binary_logloss: 0.0613657\n",
      "[68]\ttraining's auc: 0.767705\ttraining's binary_logloss: 0.0637474\tvalid_1's auc: 0.771205\tvalid_1's binary_logloss: 0.0613499\n",
      "[69]\ttraining's auc: 0.768342\ttraining's binary_logloss: 0.0636974\tvalid_1's auc: 0.771448\tvalid_1's binary_logloss: 0.0613366\n",
      "[70]\ttraining's auc: 0.769067\ttraining's binary_logloss: 0.0636481\tvalid_1's auc: 0.771794\tvalid_1's binary_logloss: 0.0613218\n",
      "[71]\ttraining's auc: 0.769671\ttraining's binary_logloss: 0.0635969\tvalid_1's auc: 0.771759\tvalid_1's binary_logloss: 0.0613203\n",
      "[72]\ttraining's auc: 0.770177\ttraining's binary_logloss: 0.0635541\tvalid_1's auc: 0.771948\tvalid_1's binary_logloss: 0.0613162\n",
      "Getting Yhat...\n",
      "Calculating perf stats...\n",
      "Estimating confidence intervals from 200 bootstrap samples...\n",
      "Constructing samples by sampling patient...\n",
      "Running jobs...\n",
      "Collating statistics\n",
      "Fitting for 54 rounds\n",
      "[73]\ttraining's auc: 0.770891\ttraining's binary_logloss: 0.0635045\tvalid_1's auc: 0.772247\tvalid_1's binary_logloss: 0.0612987\n",
      "[74]\ttraining's auc: 0.771523\ttraining's binary_logloss: 0.0634583\tvalid_1's auc: 0.772531\tvalid_1's binary_logloss: 0.0612759\n",
      "[75]\ttraining's auc: 0.772236\ttraining's binary_logloss: 0.0634109\tvalid_1's auc: 0.772743\tvalid_1's binary_logloss: 0.0612628\n",
      "[76]\ttraining's auc: 0.772742\ttraining's binary_logloss: 0.0633676\tvalid_1's auc: 0.773048\tvalid_1's binary_logloss: 0.0612762\n",
      "[77]\ttraining's auc: 0.773387\ttraining's binary_logloss: 0.0633182\tvalid_1's auc: 0.773339\tvalid_1's binary_logloss: 0.0612617\n",
      "[78]\ttraining's auc: 0.774026\ttraining's binary_logloss: 0.0632731\tvalid_1's auc: 0.77337\tvalid_1's binary_logloss: 0.0612561\n",
      "[79]\ttraining's auc: 0.774543\ttraining's binary_logloss: 0.0632322\tvalid_1's auc: 0.773528\tvalid_1's binary_logloss: 0.0612508\n",
      "[80]\ttraining's auc: 0.775252\ttraining's binary_logloss: 0.0631867\tvalid_1's auc: 0.773829\tvalid_1's binary_logloss: 0.0612368\n",
      "[81]\ttraining's auc: 0.775704\ttraining's binary_logloss: 0.0631409\tvalid_1's auc: 0.773893\tvalid_1's binary_logloss: 0.0612346\n",
      "[82]\ttraining's auc: 0.776294\ttraining's binary_logloss: 0.0630981\tvalid_1's auc: 0.774032\tvalid_1's binary_logloss: 0.0612231\n",
      "[83]\ttraining's auc: 0.776912\ttraining's binary_logloss: 0.0630568\tvalid_1's auc: 0.77425\tvalid_1's binary_logloss: 0.0612084\n",
      "[84]\ttraining's auc: 0.777567\ttraining's binary_logloss: 0.0630139\tvalid_1's auc: 0.774463\tvalid_1's binary_logloss: 0.0611998\n",
      "[85]\ttraining's auc: 0.778148\ttraining's binary_logloss: 0.0629734\tvalid_1's auc: 0.774674\tvalid_1's binary_logloss: 0.0611903\n",
      "[86]\ttraining's auc: 0.77878\ttraining's binary_logloss: 0.0629325\tvalid_1's auc: 0.774996\tvalid_1's binary_logloss: 0.0611811\n",
      "[87]\ttraining's auc: 0.779255\ttraining's binary_logloss: 0.0628922\tvalid_1's auc: 0.775233\tvalid_1's binary_logloss: 0.0611736\n",
      "[88]\ttraining's auc: 0.779885\ttraining's binary_logloss: 0.0628502\tvalid_1's auc: 0.77521\tvalid_1's binary_logloss: 0.0611878\n",
      "[89]\ttraining's auc: 0.780426\ttraining's binary_logloss: 0.0628091\tvalid_1's auc: 0.775528\tvalid_1's binary_logloss: 0.0611826\n",
      "[90]\ttraining's auc: 0.780945\ttraining's binary_logloss: 0.0627683\tvalid_1's auc: 0.775644\tvalid_1's binary_logloss: 0.0611665\n",
      "[91]\ttraining's auc: 0.781391\ttraining's binary_logloss: 0.0627292\tvalid_1's auc: 0.775633\tvalid_1's binary_logloss: 0.0611754\n",
      "[92]\ttraining's auc: 0.781933\ttraining's binary_logloss: 0.0626892\tvalid_1's auc: 0.775705\tvalid_1's binary_logloss: 0.0611728\n",
      "[93]\ttraining's auc: 0.782473\ttraining's binary_logloss: 0.0626487\tvalid_1's auc: 0.775788\tvalid_1's binary_logloss: 0.0611736\n",
      "[94]\ttraining's auc: 0.782932\ttraining's binary_logloss: 0.0626139\tvalid_1's auc: 0.776078\tvalid_1's binary_logloss: 0.0611627\n",
      "[95]\ttraining's auc: 0.783305\ttraining's binary_logloss: 0.0625774\tvalid_1's auc: 0.776013\tvalid_1's binary_logloss: 0.0611642\n",
      "[96]\ttraining's auc: 0.783783\ttraining's binary_logloss: 0.062542\tvalid_1's auc: 0.776209\tvalid_1's binary_logloss: 0.061164\n",
      "[97]\ttraining's auc: 0.784342\ttraining's binary_logloss: 0.062504\tvalid_1's auc: 0.776252\tvalid_1's binary_logloss: 0.0611536\n",
      "[98]\ttraining's auc: 0.784814\ttraining's binary_logloss: 0.0624712\tvalid_1's auc: 0.776331\tvalid_1's binary_logloss: 0.0611483\n",
      "[99]\ttraining's auc: 0.785402\ttraining's binary_logloss: 0.0624362\tvalid_1's auc: 0.776453\tvalid_1's binary_logloss: 0.0611396\n",
      "[100]\ttraining's auc: 0.78593\ttraining's binary_logloss: 0.0624011\tvalid_1's auc: 0.776559\tvalid_1's binary_logloss: 0.0611413\n",
      "[101]\ttraining's auc: 0.786515\ttraining's binary_logloss: 0.0623651\tvalid_1's auc: 0.776498\tvalid_1's binary_logloss: 0.0611438\n",
      "[102]\ttraining's auc: 0.787101\ttraining's binary_logloss: 0.0623276\tvalid_1's auc: 0.776542\tvalid_1's binary_logloss: 0.0611407\n",
      "[103]\ttraining's auc: 0.787595\ttraining's binary_logloss: 0.0622894\tvalid_1's auc: 0.776471\tvalid_1's binary_logloss: 0.0611538\n",
      "[104]\ttraining's auc: 0.788167\ttraining's binary_logloss: 0.0622532\tvalid_1's auc: 0.776517\tvalid_1's binary_logloss: 0.0611497\n",
      "[105]\ttraining's auc: 0.788663\ttraining's binary_logloss: 0.0622175\tvalid_1's auc: 0.776561\tvalid_1's binary_logloss: 0.0611519\n",
      "[106]\ttraining's auc: 0.789136\ttraining's binary_logloss: 0.0621823\tvalid_1's auc: 0.776588\tvalid_1's binary_logloss: 0.0611499\n",
      "[107]\ttraining's auc: 0.789454\ttraining's binary_logloss: 0.0621487\tvalid_1's auc: 0.776751\tvalid_1's binary_logloss: 0.0611499\n",
      "[108]\ttraining's auc: 0.789965\ttraining's binary_logloss: 0.062107\tvalid_1's auc: 0.777007\tvalid_1's binary_logloss: 0.061135\n",
      "[109]\ttraining's auc: 0.790416\ttraining's binary_logloss: 0.0620686\tvalid_1's auc: 0.776938\tvalid_1's binary_logloss: 0.0611463\n",
      "[110]\ttraining's auc: 0.790847\ttraining's binary_logloss: 0.0620351\tvalid_1's auc: 0.777083\tvalid_1's binary_logloss: 0.0611394\n",
      "[111]\ttraining's auc: 0.791379\ttraining's binary_logloss: 0.0619989\tvalid_1's auc: 0.777173\tvalid_1's binary_logloss: 0.0611287\n",
      "[112]\ttraining's auc: 0.791832\ttraining's binary_logloss: 0.0619633\tvalid_1's auc: 0.777107\tvalid_1's binary_logloss: 0.0611393\n",
      "[113]\ttraining's auc: 0.79228\ttraining's binary_logloss: 0.0619305\tvalid_1's auc: 0.777206\tvalid_1's binary_logloss: 0.061142\n",
      "[114]\ttraining's auc: 0.792893\ttraining's binary_logloss: 0.0618915\tvalid_1's auc: 0.777438\tvalid_1's binary_logloss: 0.0611338\n",
      "[115]\ttraining's auc: 0.793325\ttraining's binary_logloss: 0.0618556\tvalid_1's auc: 0.777462\tvalid_1's binary_logloss: 0.0611368\n",
      "[116]\ttraining's auc: 0.793715\ttraining's binary_logloss: 0.0618226\tvalid_1's auc: 0.777576\tvalid_1's binary_logloss: 0.0611314\n",
      "[117]\ttraining's auc: 0.794138\ttraining's binary_logloss: 0.0617897\tvalid_1's auc: 0.777704\tvalid_1's binary_logloss: 0.0611264\n",
      "[118]\ttraining's auc: 0.794515\ttraining's binary_logloss: 0.061757\tvalid_1's auc: 0.777721\tvalid_1's binary_logloss: 0.0611273\n",
      "[119]\ttraining's auc: 0.794967\ttraining's binary_logloss: 0.0617255\tvalid_1's auc: 0.777824\tvalid_1's binary_logloss: 0.0611295\n",
      "[120]\ttraining's auc: 0.795398\ttraining's binary_logloss: 0.0616943\tvalid_1's auc: 0.777744\tvalid_1's binary_logloss: 0.0611365\n",
      "[121]\ttraining's auc: 0.795732\ttraining's binary_logloss: 0.0616655\tvalid_1's auc: 0.777715\tvalid_1's binary_logloss: 0.061135\n",
      "[122]\ttraining's auc: 0.796204\ttraining's binary_logloss: 0.0616349\tvalid_1's auc: 0.777661\tvalid_1's binary_logloss: 0.0611335\n",
      "[123]\ttraining's auc: 0.796583\ttraining's binary_logloss: 0.061606\tvalid_1's auc: 0.777757\tvalid_1's binary_logloss: 0.0611284\n",
      "[124]\ttraining's auc: 0.796993\ttraining's binary_logloss: 0.0615774\tvalid_1's auc: 0.777875\tvalid_1's binary_logloss: 0.0611254\n",
      "[125]\ttraining's auc: 0.797488\ttraining's binary_logloss: 0.0615474\tvalid_1's auc: 0.778116\tvalid_1's binary_logloss: 0.061108\n",
      "[126]\ttraining's auc: 0.797908\ttraining's binary_logloss: 0.0615172\tvalid_1's auc: 0.778163\tvalid_1's binary_logloss: 0.0611308\n",
      "Getting Yhat...\n",
      "Calculating perf stats...\n",
      "Estimating confidence intervals from 200 bootstrap samples...\n",
      "Constructing samples by sampling patient...\n",
      "Running jobs...\n",
      "Collating statistics\n"
     ]
    }
   ],
   "source": [
    "train_data = lgb.Dataset(train_X, label=(train_Y), free_raw_data=False)\n",
    "valid_data = lgb.Dataset(val_X, label=(val_Y), free_raw_data=False)\n",
    "for num_boost_round in num_iter: \n",
    "    print(f\"Fitting for {num_boost_round} rounds\")\n",
    "    model = lgb.train(lgb_params, \n",
    "                      train_set=train_data, \n",
    "                      num_boost_round=num_boost_round, \n",
    "                      init_model=init_model, \n",
    "                      valid_sets=[train_data, valid_data])\n",
    "    print(f\"Getting Yhat...\")\n",
    "    yhat = model.predict(test_X)\n",
    "    print(\"Calculating perf stats...\")\n",
    "    stats, _ = perf_utils.bootstrap_confidence_intervals(test_Y, yhat, test_ptimes)\n",
    "\n",
    "    model_list.append(model)\n",
    "    yhat_list.append(yhat)\n",
    "    stats_list.append(stats)\n",
    "    \n",
    "    init_model = model"
   ]
  },
  {
   "cell_type": "code",
   "execution_count": null,
   "metadata": {},
   "outputs": [],
   "source": [
    "stats_list[0]"
   ]
  },
  {
   "cell_type": "code",
   "execution_count": 86,
   "metadata": {},
   "outputs": [
    {
     "data": {
      "text/html": [
       "<div>\n",
       "<style scoped>\n",
       "    .dataframe tbody tr th:only-of-type {\n",
       "        vertical-align: middle;\n",
       "    }\n",
       "\n",
       "    .dataframe tbody tr th {\n",
       "        vertical-align: top;\n",
       "    }\n",
       "\n",
       "    .dataframe thead th {\n",
       "        text-align: right;\n",
       "    }\n",
       "</style>\n",
       "<table border=\"1\" class=\"dataframe\">\n",
       "  <thead>\n",
       "    <tr style=\"text-align: right;\">\n",
       "      <th></th>\n",
       "      <th>Statistic</th>\n",
       "      <th>Lower CI</th>\n",
       "      <th>Upper CI</th>\n",
       "    </tr>\n",
       "  </thead>\n",
       "  <tbody>\n",
       "    <tr>\n",
       "      <th>Saiva Recall at top K</th>\n",
       "      <td>0.527</td>\n",
       "      <td>0.5070</td>\n",
       "      <td>0.5470</td>\n",
       "    </tr>\n",
       "    <tr>\n",
       "      <th>Recall at top K</th>\n",
       "      <td>0.458</td>\n",
       "      <td>0.4380</td>\n",
       "      <td>0.4780</td>\n",
       "    </tr>\n",
       "    <tr>\n",
       "      <th>AUROC</th>\n",
       "      <td>0.828</td>\n",
       "      <td>0.8200</td>\n",
       "      <td>0.8360</td>\n",
       "    </tr>\n",
       "    <tr>\n",
       "      <th>ave Precision</th>\n",
       "      <td>0.059</td>\n",
       "      <td>0.0532</td>\n",
       "      <td>0.0654</td>\n",
       "    </tr>\n",
       "  </tbody>\n",
       "</table>\n",
       "</div>"
      ],
      "text/plain": [
       "                       Statistic  Lower CI  Upper CI\n",
       "Saiva Recall at top K      0.527    0.5070    0.5470\n",
       "Recall at top K            0.458    0.4380    0.4780\n",
       "AUROC                      0.828    0.8200    0.8360\n",
       "ave Precision              0.059    0.0532    0.0654"
      ]
     },
     "execution_count": 86,
     "metadata": {},
     "output_type": "execute_result"
    }
   ],
   "source": [
    "# Manually put in statistics for all features (including stay but without cheat feature)\n",
    "raw_stats = [[52.7, 50.7, 54.7], [45.8, 43.8, 47.8], [82.8, 82.0, 83.6], [5.9, 5.32, 6.54]] \n",
    "raw_stats = np.array(raw_stats) / 100.\n",
    "all_features_stats = pd.DataFrame(raw_stats)\n",
    "all_features_stats.index = ['Saiva Recall at top K', 'Recall at top K', 'AUROC', 'ave Precision']\n",
    "all_features_stats.columns = ['Statistic', 'Lower CI', 'Upper CI']\n",
    "all_features_stats"
   ]
  },
  {
   "cell_type": "code",
   "execution_count": 46,
   "metadata": {},
   "outputs": [
    {
     "data": {
      "text/html": [
       "<div>\n",
       "<style scoped>\n",
       "    .dataframe tbody tr th:only-of-type {\n",
       "        vertical-align: middle;\n",
       "    }\n",
       "\n",
       "    .dataframe tbody tr th {\n",
       "        vertical-align: top;\n",
       "    }\n",
       "\n",
       "    .dataframe thead th {\n",
       "        text-align: right;\n",
       "    }\n",
       "</style>\n",
       "<table border=\"1\" class=\"dataframe\">\n",
       "  <thead>\n",
       "    <tr style=\"text-align: right;\">\n",
       "      <th></th>\n",
       "      <th>Statistic</th>\n",
       "      <th>Lower CI</th>\n",
       "      <th>Upper CI</th>\n",
       "    </tr>\n",
       "  </thead>\n",
       "  <tbody>\n",
       "    <tr>\n",
       "      <th>Saiva Recall at top K</th>\n",
       "      <td>0.473116</td>\n",
       "      <td>0.453196</td>\n",
       "      <td>0.495984</td>\n",
       "    </tr>\n",
       "    <tr>\n",
       "      <th>Recall at top K</th>\n",
       "      <td>0.158494</td>\n",
       "      <td>0.147724</td>\n",
       "      <td>0.168559</td>\n",
       "    </tr>\n",
       "    <tr>\n",
       "      <th>AUROC</th>\n",
       "      <td>0.501351</td>\n",
       "      <td>0.492049</td>\n",
       "      <td>0.508589</td>\n",
       "    </tr>\n",
       "    <tr>\n",
       "      <th>ave Precision</th>\n",
       "      <td>0.012406</td>\n",
       "      <td>0.011747</td>\n",
       "      <td>0.013073</td>\n",
       "    </tr>\n",
       "  </tbody>\n",
       "</table>\n",
       "</div>"
      ],
      "text/plain": [
       "                       Statistic  Lower CI  Upper CI\n",
       "Saiva Recall at top K   0.473116  0.453196  0.495984\n",
       "Recall at top K         0.158494  0.147724  0.168559\n",
       "AUROC                   0.501351  0.492049  0.508589\n",
       "ave Precision           0.012406  0.011747  0.013073"
      ]
     },
     "execution_count": 46,
     "metadata": {},
     "output_type": "execute_result"
    }
   ],
   "source": [
    "rand_stats = pd.DataFrame(really_rand_stats)\n",
    "rand_stats.index = ['Saiva Recall at top K', 'Recall at top K', 'AUROC', 'ave Precision']\n",
    "rand_stats.columns = ['Statistic', 'Lower CI', 'Upper CI']\n",
    "rand_stats"
   ]
  },
  {
   "cell_type": "markdown",
   "metadata": {},
   "source": [
    "### Make cheat dataset so we can extrapolate beyond all_features_stats\n",
    "This isn't a great estimate but it gets the point across well enough... "
   ]
  },
  {
   "cell_type": "code",
   "execution_count": 52,
   "metadata": {
    "collapsed": true,
    "jupyter": {
     "outputs_hidden": true,
     "source_hidden": true
    }
   },
   "outputs": [
    {
     "name": "stdout",
     "output_type": "stream",
     "text": [
      "(10880004, 7)\n",
      "(10880004, 4)\n",
      "143701\n",
      "0.013207807644188366\n",
      "0.013207807644188366\n",
      "2017-04-01 00:00:00\n",
      "Getting masks\n",
      "(8028758, 7)\n",
      "(1166527, 7)\n",
      "(860483, 7)\n",
      "0.013063788944691072 0.01235805086380341 0.012312852200450213\n"
     ]
    }
   ],
   "source": [
    "stay_features = scipy.sparse.load_npz('/data/processed/stay_features_csr_cheat.npz')\n",
    "print(stay_features.shape)\n",
    "\n",
    "with open(\"/data/processed/prediction_times.pkl\", 'rb') as f_in: \n",
    "    prediction_times = pkl.load(f_in)\n",
    "print(prediction_times.shape)\n",
    "\n",
    "stays = pd.read_parquet('/data/raw/stays.parquet')\n",
    "\n",
    "indices = prediction_times.StayRowIndex.values\n",
    "dates_of_transfer = stays.DateOfTransfer.dt.date.values[indices]\n",
    "prediction_dates = prediction_times.PredictionTimestamp.dt.date.values\n",
    "time_diffs = [ transfer_date - predict_date for transfer_date, predict_date in zip(dates_of_transfer, prediction_dates)]\n",
    "time_diffs_in_days = [diff.days if type(diff) is datetime.timedelta else 1e6 for diff in time_diffs]\n",
    "\n",
    "time_diffs_in_days = np.array(time_diffs_in_days)\n",
    "print(np.sum(time_diffs_in_days <= 4))\n",
    "print(np.mean(time_diffs_in_days <= 4))\n",
    "\n",
    "mask = (time_diffs_in_days <= 4)\n",
    "target = np.zeros(len(time_diffs_in_days))\n",
    "target[mask] = 1\n",
    "print(np.mean(target))\n",
    "\n",
    "train_start_date = '2017-01-01'\n",
    "train_end_date = '2019-07-31'\n",
    "val_end_date = '2019-11-30'\n",
    "test_end_date = '2020-02-28'\n",
    "\n",
    "stay_indices = prediction_times.StayRowIndex.values\n",
    "start_dates = stays.StartDate[stay_indices]\n",
    "td = pd.to_timedelta('90 days')\n",
    "min_date = pd.Timestamp(train_start_date) + td\n",
    "print(min_date)\n",
    "\n",
    "print('Getting masks')\n",
    "train_mask = (prediction_times.PredictionTimestamp.dt.date.values >= min_date) & \\\n",
    "             (prediction_times.PredictionTimestamp.dt.date.values <= pd.to_datetime(train_end_date))\n",
    "val_mask = (prediction_times.PredictionTimestamp.dt.date.values > pd.to_datetime(train_end_date)) & \\\n",
    "           (prediction_times.PredictionTimestamp.dt.date.values <= pd.to_datetime(val_end_date))\n",
    "test_mask = prediction_times.PredictionTimestamp.dt.date.values > pd.to_datetime(val_end_date)\n",
    "np.sum(train_mask), np.sum(val_mask), np.sum(test_mask)\n",
    "\n",
    "train_X = stay_features[train_mask,:]\n",
    "train_Y = target[train_mask]\n",
    "train_ptimes = prediction_times[train_mask]\n",
    "train_ptimes = train_ptimes.reset_index(drop=True)\n",
    "print(train_X.shape)\n",
    "\n",
    "val_X = stay_features[val_mask,:]\n",
    "val_Y = target[val_mask]\n",
    "val_ptimes = prediction_times[val_mask]\n",
    "val_ptimes = val_ptimes.reset_index(drop=True)\n",
    "print(val_X.shape)\n",
    "\n",
    "test_X = stay_features[test_mask,:]\n",
    "test_Y = target[test_mask]\n",
    "test_ptimes = prediction_times[test_mask]\n",
    "test_ptimes = test_ptimes.reset_index(drop=True)\n",
    "print(test_X.shape)\n",
    "\n",
    "print(np.mean(train_Y), np.mean(val_Y), np.mean(test_Y))\n"
   ]
  },
  {
   "cell_type": "code",
   "execution_count": 53,
   "metadata": {
    "collapsed": true,
    "jupyter": {
     "outputs_hidden": true,
     "source_hidden": true
    }
   },
   "outputs": [
    {
     "name": "stderr",
     "output_type": "stream",
     "text": [
      "/opt/conda/lib/python3.7/site-packages/lightgbm/engine.py:148: UserWarning: Found `n_estimators` in params. Will use it instead of argument\n",
      "  warnings.warn(\"Found `{}` in params. Will use it instead of argument\".format(alias))\n",
      "/opt/conda/lib/python3.7/site-packages/lightgbm/engine.py:153: UserWarning: Found `early_stopping_rounds` in params. Will use it instead of argument\n",
      "  warnings.warn(\"Found `{}` in params. Will use it instead of argument\".format(alias))\n"
     ]
    },
    {
     "name": "stdout",
     "output_type": "stream",
     "text": [
      "[1]\tvalid_0's auc: 0.814405\tvalid_0's binary_logloss: 0.0651803\n",
      "Training until validation scores don't improve for 10 rounds\n",
      "[2]\tvalid_0's auc: 0.835256\tvalid_0's binary_logloss: 0.0641312\n",
      "[3]\tvalid_0's auc: 0.838543\tvalid_0's binary_logloss: 0.0632586\n",
      "[4]\tvalid_0's auc: 0.839793\tvalid_0's binary_logloss: 0.0625328\n",
      "[5]\tvalid_0's auc: 0.842539\tvalid_0's binary_logloss: 0.0618271\n",
      "[6]\tvalid_0's auc: 0.842997\tvalid_0's binary_logloss: 0.0612539\n",
      "[7]\tvalid_0's auc: 0.843237\tvalid_0's binary_logloss: 0.0607414\n",
      "[8]\tvalid_0's auc: 0.843989\tvalid_0's binary_logloss: 0.06025\n",
      "[9]\tvalid_0's auc: 0.844056\tvalid_0's binary_logloss: 0.0598435\n",
      "[10]\tvalid_0's auc: 0.844797\tvalid_0's binary_logloss: 0.0594602\n",
      "[11]\tvalid_0's auc: 0.846002\tvalid_0's binary_logloss: 0.0590901\n",
      "[12]\tvalid_0's auc: 0.847259\tvalid_0's binary_logloss: 0.0587519\n",
      "[13]\tvalid_0's auc: 0.858487\tvalid_0's binary_logloss: 0.0584404\n",
      "[14]\tvalid_0's auc: 0.861312\tvalid_0's binary_logloss: 0.0581472\n",
      "[15]\tvalid_0's auc: 0.861929\tvalid_0's binary_logloss: 0.0578797\n",
      "[16]\tvalid_0's auc: 0.862514\tvalid_0's binary_logloss: 0.0576117\n",
      "[17]\tvalid_0's auc: 0.867332\tvalid_0's binary_logloss: 0.057359\n",
      "[18]\tvalid_0's auc: 0.867582\tvalid_0's binary_logloss: 0.057144\n",
      "[19]\tvalid_0's auc: 0.868013\tvalid_0's binary_logloss: 0.0569291\n",
      "[20]\tvalid_0's auc: 0.867886\tvalid_0's binary_logloss: 0.0567425\n",
      "[21]\tvalid_0's auc: 0.869112\tvalid_0's binary_logloss: 0.0565474\n",
      "[22]\tvalid_0's auc: 0.868821\tvalid_0's binary_logloss: 0.0563796\n",
      "[23]\tvalid_0's auc: 0.869015\tvalid_0's binary_logloss: 0.0562071\n",
      "[24]\tvalid_0's auc: 0.870877\tvalid_0's binary_logloss: 0.0560432\n",
      "[25]\tvalid_0's auc: 0.870504\tvalid_0's binary_logloss: 0.0559017\n",
      "[26]\tvalid_0's auc: 0.871171\tvalid_0's binary_logloss: 0.055763\n",
      "[27]\tvalid_0's auc: 0.871735\tvalid_0's binary_logloss: 0.0556328\n",
      "[28]\tvalid_0's auc: 0.872348\tvalid_0's binary_logloss: 0.0555018\n",
      "[29]\tvalid_0's auc: 0.872373\tvalid_0's binary_logloss: 0.0553856\n",
      "[30]\tvalid_0's auc: 0.872722\tvalid_0's binary_logloss: 0.0552694\n",
      "[31]\tvalid_0's auc: 0.872884\tvalid_0's binary_logloss: 0.0551716\n",
      "[32]\tvalid_0's auc: 0.873103\tvalid_0's binary_logloss: 0.0550766\n",
      "[33]\tvalid_0's auc: 0.873521\tvalid_0's binary_logloss: 0.0549763\n",
      "[34]\tvalid_0's auc: 0.873523\tvalid_0's binary_logloss: 0.0548896\n",
      "[35]\tvalid_0's auc: 0.873535\tvalid_0's binary_logloss: 0.0548182\n",
      "[36]\tvalid_0's auc: 0.874132\tvalid_0's binary_logloss: 0.0547355\n",
      "[37]\tvalid_0's auc: 0.874132\tvalid_0's binary_logloss: 0.0546587\n",
      "[38]\tvalid_0's auc: 0.874268\tvalid_0's binary_logloss: 0.0545886\n",
      "[39]\tvalid_0's auc: 0.875185\tvalid_0's binary_logloss: 0.0545122\n",
      "[40]\tvalid_0's auc: 0.875391\tvalid_0's binary_logloss: 0.0544504\n",
      "[41]\tvalid_0's auc: 0.875566\tvalid_0's binary_logloss: 0.0543816\n",
      "[42]\tvalid_0's auc: 0.875685\tvalid_0's binary_logloss: 0.0543154\n",
      "[43]\tvalid_0's auc: 0.876269\tvalid_0's binary_logloss: 0.0542555\n",
      "[44]\tvalid_0's auc: 0.876401\tvalid_0's binary_logloss: 0.0541968\n",
      "[45]\tvalid_0's auc: 0.87635\tvalid_0's binary_logloss: 0.054143\n",
      "[46]\tvalid_0's auc: 0.876492\tvalid_0's binary_logloss: 0.0540889\n",
      "[47]\tvalid_0's auc: 0.876616\tvalid_0's binary_logloss: 0.0540452\n",
      "[48]\tvalid_0's auc: 0.876637\tvalid_0's binary_logloss: 0.0539946\n",
      "[49]\tvalid_0's auc: 0.876695\tvalid_0's binary_logloss: 0.0539486\n",
      "[50]\tvalid_0's auc: 0.876718\tvalid_0's binary_logloss: 0.0539022\n",
      "[51]\tvalid_0's auc: 0.876845\tvalid_0's binary_logloss: 0.0538521\n",
      "[52]\tvalid_0's auc: 0.877024\tvalid_0's binary_logloss: 0.0538037\n",
      "[53]\tvalid_0's auc: 0.877103\tvalid_0's binary_logloss: 0.0537701\n",
      "[54]\tvalid_0's auc: 0.877193\tvalid_0's binary_logloss: 0.0537336\n",
      "[55]\tvalid_0's auc: 0.877235\tvalid_0's binary_logloss: 0.0537006\n",
      "[56]\tvalid_0's auc: 0.877313\tvalid_0's binary_logloss: 0.0536775\n",
      "[57]\tvalid_0's auc: 0.877361\tvalid_0's binary_logloss: 0.0536454\n",
      "[58]\tvalid_0's auc: 0.877423\tvalid_0's binary_logloss: 0.0536214\n",
      "[59]\tvalid_0's auc: 0.877463\tvalid_0's binary_logloss: 0.0535923\n",
      "[60]\tvalid_0's auc: 0.87793\tvalid_0's binary_logloss: 0.0535546\n",
      "[61]\tvalid_0's auc: 0.878276\tvalid_0's binary_logloss: 0.05352\n",
      "[62]\tvalid_0's auc: 0.878326\tvalid_0's binary_logloss: 0.0534925\n",
      "[63]\tvalid_0's auc: 0.878506\tvalid_0's binary_logloss: 0.0534651\n",
      "[64]\tvalid_0's auc: 0.878645\tvalid_0's binary_logloss: 0.053431\n",
      "[65]\tvalid_0's auc: 0.878897\tvalid_0's binary_logloss: 0.0534026\n",
      "[66]\tvalid_0's auc: 0.879065\tvalid_0's binary_logloss: 0.0533845\n",
      "[67]\tvalid_0's auc: 0.879412\tvalid_0's binary_logloss: 0.0533449\n",
      "[68]\tvalid_0's auc: 0.879439\tvalid_0's binary_logloss: 0.053328\n",
      "[69]\tvalid_0's auc: 0.879718\tvalid_0's binary_logloss: 0.053292\n",
      "[70]\tvalid_0's auc: 0.879846\tvalid_0's binary_logloss: 0.0532612\n",
      "[71]\tvalid_0's auc: 0.879872\tvalid_0's binary_logloss: 0.0532482\n",
      "[72]\tvalid_0's auc: 0.879969\tvalid_0's binary_logloss: 0.0532123\n",
      "[73]\tvalid_0's auc: 0.880079\tvalid_0's binary_logloss: 0.053187\n",
      "[74]\tvalid_0's auc: 0.880164\tvalid_0's binary_logloss: 0.0531658\n",
      "[75]\tvalid_0's auc: 0.880218\tvalid_0's binary_logloss: 0.0531545\n",
      "[76]\tvalid_0's auc: 0.880278\tvalid_0's binary_logloss: 0.0531375\n",
      "[77]\tvalid_0's auc: 0.88035\tvalid_0's binary_logloss: 0.053122\n",
      "[78]\tvalid_0's auc: 0.88034\tvalid_0's binary_logloss: 0.053107\n",
      "[79]\tvalid_0's auc: 0.88047\tvalid_0's binary_logloss: 0.0530944\n",
      "[80]\tvalid_0's auc: 0.880691\tvalid_0's binary_logloss: 0.0530712\n",
      "[81]\tvalid_0's auc: 0.880729\tvalid_0's binary_logloss: 0.0530595\n",
      "[82]\tvalid_0's auc: 0.880903\tvalid_0's binary_logloss: 0.0530408\n",
      "[83]\tvalid_0's auc: 0.881006\tvalid_0's binary_logloss: 0.0530265\n",
      "[84]\tvalid_0's auc: 0.88112\tvalid_0's binary_logloss: 0.0530115\n",
      "[85]\tvalid_0's auc: 0.880997\tvalid_0's binary_logloss: 0.0530155\n",
      "[86]\tvalid_0's auc: 0.881054\tvalid_0's binary_logloss: 0.053004\n",
      "[87]\tvalid_0's auc: 0.88117\tvalid_0's binary_logloss: 0.0530013\n",
      "[88]\tvalid_0's auc: 0.881363\tvalid_0's binary_logloss: 0.0529825\n",
      "[89]\tvalid_0's auc: 0.881458\tvalid_0's binary_logloss: 0.0529708\n",
      "[90]\tvalid_0's auc: 0.881513\tvalid_0's binary_logloss: 0.0529589\n",
      "[91]\tvalid_0's auc: 0.881601\tvalid_0's binary_logloss: 0.0529456\n",
      "[92]\tvalid_0's auc: 0.881569\tvalid_0's binary_logloss: 0.0529374\n",
      "[93]\tvalid_0's auc: 0.881621\tvalid_0's binary_logloss: 0.0529363\n",
      "[94]\tvalid_0's auc: 0.881653\tvalid_0's binary_logloss: 0.0529309\n",
      "[95]\tvalid_0's auc: 0.881637\tvalid_0's binary_logloss: 0.0529183\n",
      "[96]\tvalid_0's auc: 0.881684\tvalid_0's binary_logloss: 0.0529162\n",
      "[97]\tvalid_0's auc: 0.881666\tvalid_0's binary_logloss: 0.0529062\n",
      "[98]\tvalid_0's auc: 0.881663\tvalid_0's binary_logloss: 0.0529023\n",
      "[99]\tvalid_0's auc: 0.881694\tvalid_0's binary_logloss: 0.0528972\n",
      "[100]\tvalid_0's auc: 0.881664\tvalid_0's binary_logloss: 0.0528963\n",
      "[101]\tvalid_0's auc: 0.881751\tvalid_0's binary_logloss: 0.0528863\n",
      "[102]\tvalid_0's auc: 0.88175\tvalid_0's binary_logloss: 0.0528863\n",
      "[103]\tvalid_0's auc: 0.881912\tvalid_0's binary_logloss: 0.052872\n",
      "[104]\tvalid_0's auc: 0.881935\tvalid_0's binary_logloss: 0.0528635\n",
      "[105]\tvalid_0's auc: 0.881933\tvalid_0's binary_logloss: 0.0528553\n",
      "[106]\tvalid_0's auc: 0.881972\tvalid_0's binary_logloss: 0.0528469\n",
      "[107]\tvalid_0's auc: 0.881968\tvalid_0's binary_logloss: 0.0528467\n",
      "[108]\tvalid_0's auc: 0.881905\tvalid_0's binary_logloss: 0.0528544\n",
      "[109]\tvalid_0's auc: 0.88202\tvalid_0's binary_logloss: 0.0528408\n",
      "[110]\tvalid_0's auc: 0.882064\tvalid_0's binary_logloss: 0.0528353\n",
      "[111]\tvalid_0's auc: 0.882042\tvalid_0's binary_logloss: 0.0528324\n",
      "[112]\tvalid_0's auc: 0.882071\tvalid_0's binary_logloss: 0.0528294\n",
      "[113]\tvalid_0's auc: 0.882071\tvalid_0's binary_logloss: 0.0528232\n",
      "[114]\tvalid_0's auc: 0.88224\tvalid_0's binary_logloss: 0.052806\n",
      "[115]\tvalid_0's auc: 0.882231\tvalid_0's binary_logloss: 0.0528009\n",
      "[116]\tvalid_0's auc: 0.882165\tvalid_0's binary_logloss: 0.0527972\n",
      "[117]\tvalid_0's auc: 0.882167\tvalid_0's binary_logloss: 0.0527967\n",
      "[118]\tvalid_0's auc: 0.882142\tvalid_0's binary_logloss: 0.0527985\n",
      "[119]\tvalid_0's auc: 0.88214\tvalid_0's binary_logloss: 0.0527987\n",
      "[120]\tvalid_0's auc: 0.882259\tvalid_0's binary_logloss: 0.0527917\n",
      "[121]\tvalid_0's auc: 0.882311\tvalid_0's binary_logloss: 0.0527869\n",
      "[122]\tvalid_0's auc: 0.882423\tvalid_0's binary_logloss: 0.0527755\n",
      "[123]\tvalid_0's auc: 0.882374\tvalid_0's binary_logloss: 0.0527726\n",
      "[124]\tvalid_0's auc: 0.882377\tvalid_0's binary_logloss: 0.0527719\n",
      "[125]\tvalid_0's auc: 0.882384\tvalid_0's binary_logloss: 0.0527686\n",
      "[126]\tvalid_0's auc: 0.882412\tvalid_0's binary_logloss: 0.0527662\n",
      "[127]\tvalid_0's auc: 0.882501\tvalid_0's binary_logloss: 0.0527572\n",
      "[128]\tvalid_0's auc: 0.882475\tvalid_0's binary_logloss: 0.0527568\n",
      "[129]\tvalid_0's auc: 0.882506\tvalid_0's binary_logloss: 0.05275\n",
      "[130]\tvalid_0's auc: 0.882505\tvalid_0's binary_logloss: 0.0527503\n",
      "[131]\tvalid_0's auc: 0.882576\tvalid_0's binary_logloss: 0.0527456\n",
      "[132]\tvalid_0's auc: 0.882557\tvalid_0's binary_logloss: 0.0527447\n",
      "[133]\tvalid_0's auc: 0.882578\tvalid_0's binary_logloss: 0.0527387\n",
      "[134]\tvalid_0's auc: 0.882578\tvalid_0's binary_logloss: 0.0527388\n",
      "[135]\tvalid_0's auc: 0.882665\tvalid_0's binary_logloss: 0.0527257\n",
      "[136]\tvalid_0's auc: 0.882668\tvalid_0's binary_logloss: 0.0527249\n",
      "[137]\tvalid_0's auc: 0.882761\tvalid_0's binary_logloss: 0.0527099\n",
      "[138]\tvalid_0's auc: 0.88285\tvalid_0's binary_logloss: 0.0527028\n",
      "[139]\tvalid_0's auc: 0.882893\tvalid_0's binary_logloss: 0.052697\n",
      "[140]\tvalid_0's auc: 0.882887\tvalid_0's binary_logloss: 0.0526954\n",
      "[141]\tvalid_0's auc: 0.882886\tvalid_0's binary_logloss: 0.0526956\n",
      "[142]\tvalid_0's auc: 0.882988\tvalid_0's binary_logloss: 0.0526847\n",
      "[143]\tvalid_0's auc: 0.88302\tvalid_0's binary_logloss: 0.0526815\n",
      "[144]\tvalid_0's auc: 0.88302\tvalid_0's binary_logloss: 0.0526818\n",
      "[145]\tvalid_0's auc: 0.883012\tvalid_0's binary_logloss: 0.0526821\n",
      "[146]\tvalid_0's auc: 0.883044\tvalid_0's binary_logloss: 0.0526778\n",
      "[147]\tvalid_0's auc: 0.883072\tvalid_0's binary_logloss: 0.0526742\n",
      "[148]\tvalid_0's auc: 0.883121\tvalid_0's binary_logloss: 0.0526692\n",
      "[149]\tvalid_0's auc: 0.883134\tvalid_0's binary_logloss: 0.0526647\n",
      "[150]\tvalid_0's auc: 0.883134\tvalid_0's binary_logloss: 0.0526648\n",
      "[151]\tvalid_0's auc: 0.883168\tvalid_0's binary_logloss: 0.0526621\n",
      "[152]\tvalid_0's auc: 0.883304\tvalid_0's binary_logloss: 0.0526507\n",
      "[153]\tvalid_0's auc: 0.883285\tvalid_0's binary_logloss: 0.0526503\n",
      "[154]\tvalid_0's auc: 0.883286\tvalid_0's binary_logloss: 0.052647\n",
      "[155]\tvalid_0's auc: 0.883282\tvalid_0's binary_logloss: 0.0526476\n",
      "[156]\tvalid_0's auc: 0.883378\tvalid_0's binary_logloss: 0.0526338\n",
      "[157]\tvalid_0's auc: 0.883495\tvalid_0's binary_logloss: 0.0526271\n",
      "[158]\tvalid_0's auc: 0.88351\tvalid_0's binary_logloss: 0.0526237\n",
      "[159]\tvalid_0's auc: 0.88351\tvalid_0's binary_logloss: 0.0526238\n",
      "[160]\tvalid_0's auc: 0.883543\tvalid_0's binary_logloss: 0.0526213\n",
      "[161]\tvalid_0's auc: 0.883571\tvalid_0's binary_logloss: 0.0526167\n",
      "[162]\tvalid_0's auc: 0.883573\tvalid_0's binary_logloss: 0.0526165\n",
      "[163]\tvalid_0's auc: 0.883569\tvalid_0's binary_logloss: 0.0526168\n",
      "[164]\tvalid_0's auc: 0.883571\tvalid_0's binary_logloss: 0.0526167\n",
      "[165]\tvalid_0's auc: 0.883601\tvalid_0's binary_logloss: 0.0526121\n",
      "[166]\tvalid_0's auc: 0.883625\tvalid_0's binary_logloss: 0.0526094\n",
      "[167]\tvalid_0's auc: 0.883694\tvalid_0's binary_logloss: 0.0526035\n",
      "[168]\tvalid_0's auc: 0.883722\tvalid_0's binary_logloss: 0.0525998\n",
      "[169]\tvalid_0's auc: 0.883776\tvalid_0's binary_logloss: 0.0525968\n",
      "[170]\tvalid_0's auc: 0.883787\tvalid_0's binary_logloss: 0.052594\n",
      "[171]\tvalid_0's auc: 0.883787\tvalid_0's binary_logloss: 0.0525941\n",
      "[172]\tvalid_0's auc: 0.883811\tvalid_0's binary_logloss: 0.0525923\n",
      "[173]\tvalid_0's auc: 0.883824\tvalid_0's binary_logloss: 0.0525885\n",
      "[174]\tvalid_0's auc: 0.883847\tvalid_0's binary_logloss: 0.0525844\n",
      "[175]\tvalid_0's auc: 0.883867\tvalid_0's binary_logloss: 0.0525823\n",
      "[176]\tvalid_0's auc: 0.883875\tvalid_0's binary_logloss: 0.0525776\n",
      "[177]\tvalid_0's auc: 0.883885\tvalid_0's binary_logloss: 0.0525751\n",
      "[178]\tvalid_0's auc: 0.884071\tvalid_0's binary_logloss: 0.0525561\n",
      "[179]\tvalid_0's auc: 0.884048\tvalid_0's binary_logloss: 0.0525583\n",
      "[180]\tvalid_0's auc: 0.884042\tvalid_0's binary_logloss: 0.0525586\n",
      "[181]\tvalid_0's auc: 0.884078\tvalid_0's binary_logloss: 0.0525565\n",
      "[182]\tvalid_0's auc: 0.884087\tvalid_0's binary_logloss: 0.052556\n",
      "[183]\tvalid_0's auc: 0.884053\tvalid_0's binary_logloss: 0.0525544\n",
      "[184]\tvalid_0's auc: 0.884053\tvalid_0's binary_logloss: 0.0525545\n",
      "[185]\tvalid_0's auc: 0.884046\tvalid_0's binary_logloss: 0.0525557\n",
      "[186]\tvalid_0's auc: 0.884065\tvalid_0's binary_logloss: 0.0525518\n",
      "[187]\tvalid_0's auc: 0.88405\tvalid_0's binary_logloss: 0.0525517\n",
      "[188]\tvalid_0's auc: 0.88405\tvalid_0's binary_logloss: 0.0525517\n",
      "[189]\tvalid_0's auc: 0.884178\tvalid_0's binary_logloss: 0.0525468\n",
      "[190]\tvalid_0's auc: 0.884317\tvalid_0's binary_logloss: 0.0525293\n",
      "[191]\tvalid_0's auc: 0.884336\tvalid_0's binary_logloss: 0.0525279\n",
      "[192]\tvalid_0's auc: 0.884388\tvalid_0's binary_logloss: 0.0525215\n",
      "[193]\tvalid_0's auc: 0.884449\tvalid_0's binary_logloss: 0.0525124\n",
      "[194]\tvalid_0's auc: 0.884451\tvalid_0's binary_logloss: 0.0525121\n",
      "[195]\tvalid_0's auc: 0.884439\tvalid_0's binary_logloss: 0.0525129\n",
      "[196]\tvalid_0's auc: 0.884477\tvalid_0's binary_logloss: 0.0525103\n",
      "[197]\tvalid_0's auc: 0.884478\tvalid_0's binary_logloss: 0.0525103\n",
      "[198]\tvalid_0's auc: 0.884624\tvalid_0's binary_logloss: 0.052495\n",
      "[199]\tvalid_0's auc: 0.884688\tvalid_0's binary_logloss: 0.0524892\n",
      "[200]\tvalid_0's auc: 0.884689\tvalid_0's binary_logloss: 0.0524896\n",
      "[201]\tvalid_0's auc: 0.884692\tvalid_0's binary_logloss: 0.0524885\n",
      "[202]\tvalid_0's auc: 0.884692\tvalid_0's binary_logloss: 0.0524885\n",
      "[203]\tvalid_0's auc: 0.884768\tvalid_0's binary_logloss: 0.0524809\n",
      "[204]\tvalid_0's auc: 0.884745\tvalid_0's binary_logloss: 0.0524789\n",
      "[205]\tvalid_0's auc: 0.884768\tvalid_0's binary_logloss: 0.0524767\n",
      "[206]\tvalid_0's auc: 0.884838\tvalid_0's binary_logloss: 0.0524787\n",
      "[207]\tvalid_0's auc: 0.884842\tvalid_0's binary_logloss: 0.0524782\n",
      "[208]\tvalid_0's auc: 0.884949\tvalid_0's binary_logloss: 0.052464\n",
      "[209]\tvalid_0's auc: 0.884945\tvalid_0's binary_logloss: 0.0524645\n",
      "[210]\tvalid_0's auc: 0.884951\tvalid_0's binary_logloss: 0.0524627\n",
      "[211]\tvalid_0's auc: 0.885013\tvalid_0's binary_logloss: 0.0524573\n",
      "[212]\tvalid_0's auc: 0.885033\tvalid_0's binary_logloss: 0.0524546\n",
      "[213]\tvalid_0's auc: 0.885093\tvalid_0's binary_logloss: 0.0524475\n",
      "[214]\tvalid_0's auc: 0.885076\tvalid_0's binary_logloss: 0.0524482\n",
      "[215]\tvalid_0's auc: 0.885124\tvalid_0's binary_logloss: 0.0524462\n",
      "[216]\tvalid_0's auc: 0.885133\tvalid_0's binary_logloss: 0.0524484\n",
      "[217]\tvalid_0's auc: 0.885164\tvalid_0's binary_logloss: 0.0524417\n",
      "[218]\tvalid_0's auc: 0.885166\tvalid_0's binary_logloss: 0.0524415\n",
      "[219]\tvalid_0's auc: 0.885208\tvalid_0's binary_logloss: 0.0524362\n",
      "[220]\tvalid_0's auc: 0.885213\tvalid_0's binary_logloss: 0.0524368\n",
      "[221]\tvalid_0's auc: 0.885217\tvalid_0's binary_logloss: 0.0524366\n",
      "[222]\tvalid_0's auc: 0.885221\tvalid_0's binary_logloss: 0.0524354\n",
      "[223]\tvalid_0's auc: 0.885206\tvalid_0's binary_logloss: 0.0524383\n",
      "[224]\tvalid_0's auc: 0.885204\tvalid_0's binary_logloss: 0.0524357\n",
      "[225]\tvalid_0's auc: 0.8852\tvalid_0's binary_logloss: 0.0524337\n",
      "[226]\tvalid_0's auc: 0.885139\tvalid_0's binary_logloss: 0.0524353\n",
      "[227]\tvalid_0's auc: 0.885162\tvalid_0's binary_logloss: 0.052435\n",
      "[228]\tvalid_0's auc: 0.885162\tvalid_0's binary_logloss: 0.052435\n",
      "[229]\tvalid_0's auc: 0.885109\tvalid_0's binary_logloss: 0.052438\n",
      "[230]\tvalid_0's auc: 0.885186\tvalid_0's binary_logloss: 0.0524296\n",
      "[231]\tvalid_0's auc: 0.885185\tvalid_0's binary_logloss: 0.0524298\n",
      "[232]\tvalid_0's auc: 0.885198\tvalid_0's binary_logloss: 0.0524282\n",
      "Early stopping, best iteration is:\n",
      "[222]\tvalid_0's auc: 0.885221\tvalid_0's binary_logloss: 0.0524354\n"
     ]
    }
   ],
   "source": [
    "# Fit model to completion so we can eyeball num iterations.\n",
    "train_data = lgb.Dataset(train_X, label=(train_Y))\n",
    "valid_data = lgb.Dataset(val_X, label=(val_Y))\n",
    "\n",
    "\n",
    "model = lgb.train(lgb_params, \n",
    "                  train_set=train_data, \n",
    "                  valid_sets=[valid_data])"
   ]
  },
  {
   "cell_type": "code",
   "execution_count": null,
   "metadata": {},
   "outputs": [],
   "source": [
    "# Okay, now generate stats\n",
    "num_iter = [5, 7, 12, 50]\n",
    "init_model = None\n",
    "lgb_params = {\n",
    "    'boosting': 'gbdt', \n",
    "    'objective': 'binary',\n",
    "    'metric': ['auc', 'binary'],\n",
    "    'learning_rate': 0.05,  # 0.02, \n",
    "    'max_depth': -1, \n",
    "    'num_threads': 32,\n",
    "    'num_leaves': 7,\n",
    "    'two_round': True, \n",
    "}\n",
    "\n",
    "train_data = lgb.Dataset(train_X, label=(train_Y), free_raw_data=False)\n",
    "valid_data = lgb.Dataset(val_X, label=(val_Y), free_raw_data=False)\n",
    "for num_boost_round in num_iter: \n",
    "    print(f\"Fitting for {num_boost_round} rounds\")\n",
    "    model = lgb.train(lgb_params, \n",
    "                      train_set=train_data, \n",
    "                      num_boost_round=num_boost_round, \n",
    "                      init_model=init_model, \n",
    "                      valid_sets=[train_data, valid_data])\n",
    "    print(f\"Getting Yhat...\")\n",
    "    yhat = model.predict(test_X)\n",
    "    print(\"Calculating perf stats...\")\n",
    "    stats, _ = perf_utils.bootstrap_confidence_intervals(test_Y, yhat, test_ptimes)\n",
    "    stats_list.append(stats)\n",
    "    \n",
    "    init_model = model\n"
   ]
  },
  {
   "cell_type": "code",
   "execution_count": 59,
   "metadata": {},
   "outputs": [
    {
     "data": {
      "text/html": [
       "<div>\n",
       "<style scoped>\n",
       "    .dataframe tbody tr th:only-of-type {\n",
       "        vertical-align: middle;\n",
       "    }\n",
       "\n",
       "    .dataframe tbody tr th {\n",
       "        vertical-align: top;\n",
       "    }\n",
       "\n",
       "    .dataframe thead th {\n",
       "        text-align: right;\n",
       "    }\n",
       "</style>\n",
       "<table border=\"1\" class=\"dataframe\">\n",
       "  <thead>\n",
       "    <tr style=\"text-align: right;\">\n",
       "      <th></th>\n",
       "      <th>Statistic</th>\n",
       "      <th>Lower CI</th>\n",
       "      <th>Upper CI</th>\n",
       "    </tr>\n",
       "  </thead>\n",
       "  <tbody>\n",
       "    <tr>\n",
       "      <th>Saiva Recall at top K</th>\n",
       "      <td>0.529418</td>\n",
       "      <td>0.505697</td>\n",
       "      <td>0.548370</td>\n",
       "    </tr>\n",
       "    <tr>\n",
       "      <th>Recall at top K</th>\n",
       "      <td>0.331676</td>\n",
       "      <td>0.314922</td>\n",
       "      <td>0.348412</td>\n",
       "    </tr>\n",
       "    <tr>\n",
       "      <th>AUROC</th>\n",
       "      <td>0.731222</td>\n",
       "      <td>0.721613</td>\n",
       "      <td>0.740196</td>\n",
       "    </tr>\n",
       "    <tr>\n",
       "      <th>ave Precision</th>\n",
       "      <td>0.031449</td>\n",
       "      <td>0.028585</td>\n",
       "      <td>0.034450</td>\n",
       "    </tr>\n",
       "  </tbody>\n",
       "</table>\n",
       "</div>"
      ],
      "text/plain": [
       "                       Statistic  Lower CI  Upper CI\n",
       "Saiva Recall at top K   0.529418  0.505697  0.548370\n",
       "Recall at top K         0.331676  0.314922  0.348412\n",
       "AUROC                   0.731222  0.721613  0.740196\n",
       "ave Precision           0.031449  0.028585  0.034450"
      ]
     },
     "execution_count": 59,
     "metadata": {},
     "output_type": "execute_result"
    }
   ],
   "source": [
    "stats_list[0]"
   ]
  },
  {
   "cell_type": "markdown",
   "metadata": {},
   "source": [
    "## Make plots"
   ]
  },
  {
   "cell_type": "markdown",
   "metadata": {},
   "source": [
    "### Plot - Saiva recall and recall as function of AUROC\n",
    "Point of this plot is to point out some non-intuitive properties of Saiva recall with respect to performance against random baseline. "
   ]
  },
  {
   "cell_type": "code",
   "execution_count": 88,
   "metadata": {},
   "outputs": [],
   "source": [
    "stats_list.append(all_features_stats)"
   ]
  },
  {
   "cell_type": "code",
   "execution_count": 103,
   "metadata": {},
   "outputs": [
    {
     "data": {
      "image/png": "[encoded data removed]",
      "text/plain": [
       "<Figure size 576x576 with 1 Axes>"
      ]
     },
     "metadata": {
      "needs_background": "light"
     },
     "output_type": "display_data"
    }
   ],
   "source": [
    "stat_name = 'Saiva Recall at top K'\n",
    "statistics, aurocs, errs = [], [], []\n",
    "for stats_df in stats_list: \n",
    "    stats_record = stats_df.loc[stat_name]\n",
    "    statistics.append(stats_record.Statistic)\n",
    "    aurocs.append(stats_df.loc['AUROC'].Statistic)\n",
    "    errs.append((stats_record['Upper CI'] - stats_record['Lower CI'])/2.)\n",
    "\n",
    "rand_record = rand_stats.loc[stat_name]\n",
    "rand_pt_est = rand_record.Statistic\n",
    "rand_err = (rand_record['Upper CI'] - rand_record['Lower CI']) / 2.\n",
    "\n",
    "statistics = np.array(statistics)\n",
    "aurocs = np.array(aurocs)\n",
    "errs = np.array(errs)\n",
    "\n",
    "indices = np.argsort(aurocs)\n",
    "statistics = statistics[indices]\n",
    "aurocs = aurocs[indices]\n",
    "errs = errs[indices]\n",
    "\n",
    "# print(indices)\n",
    "# print(aurocs)\n",
    "# print(statistics)\n",
    "# print(errs)\n",
    "\n",
    "fig, ax = plt.subplots(figsize=(8,8))\n",
    "ax.errorbar(aurocs, statistics, yerr=errs, capsize=4)#lolims=True, uplims=True)\n",
    "plt.xlabel('AUROC')\n",
    "plt.ylabel('Saiva Recall at top-15')\n",
    "plt.title('Saiva Recall at top-15 vs AUROC')\n",
    "\n",
    "ax.hlines(y=rand_pt_est, xmin=np.min(aurocs), xmax=np.max(aurocs), colors='r')\n",
    "\n",
    "x = np.arange(np.min(aurocs), np.max(aurocs), 0.01)\n",
    "y1 = rand_pt_est - rand_err\n",
    "y2 = rand_pt_est + rand_err\n",
    "ax.fill_between(x, y1, y2, color='r', alpha=0.1)\n",
    "\n",
    "fig.tight_layout()\n"
   ]
  },
  {
   "cell_type": "code",
   "execution_count": 104,
   "metadata": {},
   "outputs": [
    {
     "data": {
      "image/png": "[encoded data removed]",
      "text/plain": [
       "<Figure size 576x576 with 1 Axes>"
      ]
     },
     "metadata": {
      "needs_background": "light"
     },
     "output_type": "display_data"
    }
   ],
   "source": [
    "stat_name = 'Recall at top K'\n",
    "statistics, aurocs, errs = [], [], []\n",
    "for stats_df in stats_list: \n",
    "    stats_record = stats_df.loc[stat_name]\n",
    "    statistics.append(stats_record.Statistic)\n",
    "    aurocs.append(stats_df.loc['AUROC'].Statistic)\n",
    "    errs.append((stats_record['Upper CI'] - stats_record['Lower CI'])/2.)\n",
    "\n",
    "rand_record = rand_stats.loc[stat_name]\n",
    "rand_pt_est = rand_record.Statistic\n",
    "rand_err = (rand_record['Upper CI'] - rand_record['Lower CI']) / 2.\n",
    "\n",
    "statistics = np.array(statistics)\n",
    "aurocs = np.array(aurocs)\n",
    "errs = np.array(errs)\n",
    "\n",
    "indices = np.argsort(aurocs)\n",
    "statistics = statistics[indices]\n",
    "aurocs = aurocs[indices]\n",
    "errs = errs[indices]\n",
    "\n",
    "# print(indices)\n",
    "# print(aurocs)\n",
    "# print(statistics)\n",
    "# print(errs)\n",
    "\n",
    "fig, ax = plt.subplots(figsize=(8,8))\n",
    "ax.errorbar(aurocs, statistics, yerr=errs, capsize=4)#lolims=True, uplims=True)\n",
    "plt.xlabel('AUROC')\n",
    "plt.ylabel('Recall at top-15')\n",
    "plt.title('Recall at top-15 vs AUROC')\n",
    "\n",
    "ax.hlines(y=rand_pt_est, xmin=np.min(aurocs), xmax=np.max(aurocs), colors='r')\n",
    "\n",
    "x = np.arange(np.min(aurocs), np.max(aurocs), 0.01)\n",
    "y1 = rand_pt_est - rand_err\n",
    "y2 = rand_pt_est + rand_err\n",
    "ax.fill_between(x, y1, y2, color='r', alpha=0.1)\n",
    "\n",
    "fig.tight_layout()"
   ]
  },
  {
   "cell_type": "markdown",
   "metadata": {},
   "source": [
    "### Plot - all stats, different feature sets\n",
    "Point of this is to show a bit of progress with features, and to show current state (and also value of stays features). "
   ]
  },
  {
   "cell_type": "code",
   "execution_count": 107,
   "metadata": {},
   "outputs": [
    {
     "data": {
      "text/html": [
       "<div>\n",
       "<style scoped>\n",
       "    .dataframe tbody tr th:only-of-type {\n",
       "        vertical-align: middle;\n",
       "    }\n",
       "\n",
       "    .dataframe tbody tr th {\n",
       "        vertical-align: top;\n",
       "    }\n",
       "\n",
       "    .dataframe thead th {\n",
       "        text-align: right;\n",
       "    }\n",
       "</style>\n",
       "<table border=\"1\" class=\"dataframe\">\n",
       "  <thead>\n",
       "    <tr style=\"text-align: right;\">\n",
       "      <th></th>\n",
       "      <th>Statistic</th>\n",
       "      <th>Lower CI</th>\n",
       "      <th>Upper CI</th>\n",
       "    </tr>\n",
       "  </thead>\n",
       "  <tbody>\n",
       "    <tr>\n",
       "      <th>Saiva Recall at top K</th>\n",
       "      <td>0.527</td>\n",
       "      <td>0.5070</td>\n",
       "      <td>0.5470</td>\n",
       "    </tr>\n",
       "    <tr>\n",
       "      <th>Recall at top K</th>\n",
       "      <td>0.458</td>\n",
       "      <td>0.4380</td>\n",
       "      <td>0.4780</td>\n",
       "    </tr>\n",
       "    <tr>\n",
       "      <th>AUROC</th>\n",
       "      <td>0.828</td>\n",
       "      <td>0.8200</td>\n",
       "      <td>0.8360</td>\n",
       "    </tr>\n",
       "    <tr>\n",
       "      <th>ave Precision</th>\n",
       "      <td>0.059</td>\n",
       "      <td>0.0532</td>\n",
       "      <td>0.0654</td>\n",
       "    </tr>\n",
       "  </tbody>\n",
       "</table>\n",
       "</div>"
      ],
      "text/plain": [
       "                       Statistic  Lower CI  Upper CI\n",
       "Saiva Recall at top K      0.527    0.5070    0.5470\n",
       "Recall at top K            0.458    0.4380    0.4780\n",
       "AUROC                      0.828    0.8200    0.8360\n",
       "ave Precision              0.059    0.0532    0.0654"
      ]
     },
     "execution_count": 107,
     "metadata": {},
     "output_type": "execute_result"
    }
   ],
   "source": [
    "all_features_stats"
   ]
  },
  {
   "cell_type": "code",
   "execution_count": 111,
   "metadata": {},
   "outputs": [
    {
     "data": {
      "text/html": [
       "<div>\n",
       "<style scoped>\n",
       "    .dataframe tbody tr th:only-of-type {\n",
       "        vertical-align: middle;\n",
       "    }\n",
       "\n",
       "    .dataframe tbody tr th {\n",
       "        vertical-align: top;\n",
       "    }\n",
       "\n",
       "    .dataframe thead th {\n",
       "        text-align: right;\n",
       "    }\n",
       "</style>\n",
       "<table border=\"1\" class=\"dataframe\">\n",
       "  <thead>\n",
       "    <tr style=\"text-align: right;\">\n",
       "      <th></th>\n",
       "      <th>Statistic</th>\n",
       "      <th>Lower CI</th>\n",
       "      <th>Upper CI</th>\n",
       "    </tr>\n",
       "  </thead>\n",
       "  <tbody>\n",
       "    <tr>\n",
       "      <th>Saiva Recall at top K</th>\n",
       "      <td>0.4770</td>\n",
       "      <td>0.4580</td>\n",
       "      <td>0.496</td>\n",
       "    </tr>\n",
       "    <tr>\n",
       "      <th>Recall at top K</th>\n",
       "      <td>0.4360</td>\n",
       "      <td>0.4150</td>\n",
       "      <td>0.457</td>\n",
       "    </tr>\n",
       "    <tr>\n",
       "      <th>AUROC</th>\n",
       "      <td>0.8080</td>\n",
       "      <td>0.7990</td>\n",
       "      <td>0.817</td>\n",
       "    </tr>\n",
       "    <tr>\n",
       "      <th>ave Precision</th>\n",
       "      <td>0.0563</td>\n",
       "      <td>0.0503</td>\n",
       "      <td>0.062</td>\n",
       "    </tr>\n",
       "  </tbody>\n",
       "</table>\n",
       "</div>"
      ],
      "text/plain": [
       "                       Statistic  Lower CI  Upper CI\n",
       "Saiva Recall at top K     0.4770    0.4580     0.496\n",
       "Recall at top K           0.4360    0.4150     0.457\n",
       "AUROC                     0.8080    0.7990     0.817\n",
       "ave Precision             0.0563    0.0503     0.062"
      ]
     },
     "execution_count": 111,
     "metadata": {},
     "output_type": "execute_result"
    }
   ],
   "source": [
    "stay_features_stats = [[47.7, 45.8, 49.6], \n",
    "                       [43.6, 41.5, 45.7], \n",
    "                       [80.8, 79.9, 81.7], \n",
    "                       [5.63, 5.03, 6.20]]\n",
    "stay_features_stats = pd.DataFrame(np.array(stay_features_stats) / 100.)\n",
    "stay_features_stats.index = ['Saiva Recall at top K', 'Recall at top K', 'AUROC', 'ave Precision']\n",
    "stay_features_stats.columns = ['Statistic', 'Lower CI', 'Upper CI']\n",
    "stay_features_stats"
   ]
  },
  {
   "cell_type": "code",
   "execution_count": 112,
   "metadata": {},
   "outputs": [
    {
     "data": {
      "text/html": [
       "<div>\n",
       "<style scoped>\n",
       "    .dataframe tbody tr th:only-of-type {\n",
       "        vertical-align: middle;\n",
       "    }\n",
       "\n",
       "    .dataframe tbody tr th {\n",
       "        vertical-align: top;\n",
       "    }\n",
       "\n",
       "    .dataframe thead th {\n",
       "        text-align: right;\n",
       "    }\n",
       "</style>\n",
       "<table border=\"1\" class=\"dataframe\">\n",
       "  <thead>\n",
       "    <tr style=\"text-align: right;\">\n",
       "      <th></th>\n",
       "      <th>Statistic</th>\n",
       "      <th>Lower CI</th>\n",
       "      <th>Upper CI</th>\n",
       "    </tr>\n",
       "  </thead>\n",
       "  <tbody>\n",
       "    <tr>\n",
       "      <th>Saiva Recall at top K</th>\n",
       "      <td>0.465369</td>\n",
       "      <td>0.443777</td>\n",
       "      <td>0.488260</td>\n",
       "    </tr>\n",
       "    <tr>\n",
       "      <th>Recall at top K</th>\n",
       "      <td>0.364806</td>\n",
       "      <td>0.345760</td>\n",
       "      <td>0.385056</td>\n",
       "    </tr>\n",
       "    <tr>\n",
       "      <th>AUROC</th>\n",
       "      <td>0.765465</td>\n",
       "      <td>0.755252</td>\n",
       "      <td>0.775508</td>\n",
       "    </tr>\n",
       "    <tr>\n",
       "      <th>ave Precision</th>\n",
       "      <td>0.035269</td>\n",
       "      <td>0.032344</td>\n",
       "      <td>0.038187</td>\n",
       "    </tr>\n",
       "  </tbody>\n",
       "</table>\n",
       "</div>"
      ],
      "text/plain": [
       "                       Statistic  Lower CI  Upper CI\n",
       "Saiva Recall at top K   0.465369  0.443777  0.488260\n",
       "Recall at top K         0.364806  0.345760  0.385056\n",
       "AUROC                   0.765465  0.755252  0.775508\n",
       "ave Precision           0.035269  0.032344  0.038187"
      ]
     },
     "execution_count": 112,
     "metadata": {},
     "output_type": "execute_result"
    }
   ],
   "source": [
    "old_features_stats = [[0.4653694 , 0.44377684, 0.48825996],\n",
    "                      [0.36480567, 0.34575983, 0.38505555],\n",
    "                      [0.76546462, 0.75525232, 0.7755082 ],\n",
    "                      [0.03526932, 0.03234354, 0.03818741]]\n",
    "old_features_stats = pd.DataFrame(np.array(old_features_stats))\n",
    "old_features_stats.index = ['Saiva Recall at top K', 'Recall at top K', 'AUROC', 'ave Precision']\n",
    "old_features_stats.columns = ['Statistic', 'Lower CI', 'Upper CI']\n",
    "old_features_stats"
   ]
  },
  {
   "cell_type": "code",
   "execution_count": 126,
   "metadata": {},
   "outputs": [],
   "source": [
    "stats_for_features = [rand_stats, \n",
    "                      old_features_stats, \n",
    "#                      stay_features_stats, \n",
    "                      all_features_stats]\n",
    "set_names = ['random', \n",
    "             'dx, rx, vitals', \n",
    "#             'stays', \n",
    "             'all']"
   ]
  },
  {
   "cell_type": "code",
   "execution_count": 138,
   "metadata": {},
   "outputs": [],
   "source": [
    "# Make barplot with error bars... \n",
    "def make_barplot(stat_name, stats_list, names): \n",
    "    feature_sets = names\n",
    "    statistics, errs = [], []\n",
    "    for stats_df in stats_for_features: \n",
    "        stats_record = stats_df.loc[stat_name]\n",
    "        statistics.append(stats_record.Statistic)\n",
    "        errs.append((stats_record['Upper CI'] - stats_record['Lower CI'])/2.)\n",
    "\n",
    "    statistics = np.array(statistics)\n",
    "    errs = np.array(errs)\n",
    "    x_pos = np.arange(len(feature_sets))\n",
    "\n",
    "    fig, ax = plt.subplots(figsize=(4,4))\n",
    "    ax.bar(x_pos, statistics, yerr=errs, capsize=4, align='center', alpha=0.5)\n",
    "    ax.set_xticks(x_pos)\n",
    "    ax.set_xticklabels(feature_sets)\n",
    "    plt.xlabel('Feature Set')\n",
    "    plt.ylabel(stat_name)\n",
    "    plt.title(stat_name)\n",
    "\n",
    "    fig.tight_layout()\n"
   ]
  },
  {
   "cell_type": "code",
   "execution_count": 139,
   "metadata": {},
   "outputs": [
    {
     "data": {
      "image/png": "[encoded data removed]",
      "text/plain": [
       "<Figure size 288x288 with 1 Axes>"
      ]
     },
     "metadata": {
      "needs_background": "light"
     },
     "output_type": "display_data"
    }
   ],
   "source": [
    "make_barplot('Saiva Recall at top K', \n",
    "             stats_for_features, \n",
    "             set_names)\n"
   ]
  },
  {
   "cell_type": "code",
   "execution_count": 140,
   "metadata": {},
   "outputs": [
    {
     "data": {
      "image/png": "[encoded data removed]",
      "text/plain": [
       "<Figure size 288x288 with 1 Axes>"
      ]
     },
     "metadata": {
      "needs_background": "light"
     },
     "output_type": "display_data"
    }
   ],
   "source": [
    "make_barplot('Recall at top K', \n",
    "             stats_for_features, \n",
    "             set_names)"
   ]
  },
  {
   "cell_type": "code",
   "execution_count": 141,
   "metadata": {},
   "outputs": [
    {
     "data": {
      "image/png": "[encoded data removed]",
      "text/plain": [
       "<Figure size 288x288 with 1 Axes>"
      ]
     },
     "metadata": {
      "needs_background": "light"
     },
     "output_type": "display_data"
    }
   ],
   "source": [
    "make_barplot('AUROC', \n",
    "             stats_for_features, \n",
    "             set_names)"
   ]
  },
  {
   "cell_type": "code",
   "execution_count": 142,
   "metadata": {},
   "outputs": [
    {
     "data": {
      "image/png": "[encoded data removed]",
      "text/plain": [
       "<Figure size 288x288 with 1 Axes>"
      ]
     },
     "metadata": {
      "needs_background": "light"
     },
     "output_type": "display_data"
    }
   ],
   "source": [
    "make_barplot('ave Precision', \n",
    "             stats_for_features, \n",
    "             set_names)"
   ]
  },
  {
   "cell_type": "code",
   "execution_count": null,
   "metadata": {},
   "outputs": [],
   "source": []
  },
  {
   "cell_type": "code",
   "execution_count": null,
   "metadata": {},
   "outputs": [],
   "source": []
  },
  {
   "cell_type": "code",
   "execution_count": null,
   "metadata": {},
   "outputs": [],
   "source": []
  },
  {
   "cell_type": "code",
   "execution_count": 125,
   "metadata": {},
   "outputs": [],
   "source": [
    "# Make a plot... \n",
    "auroc, recall, recall_ci = [], [], []\n",
    "saiva_recall, saiva_recall_ci = [], []\n",
    "for stats in stats_list: \n",
    "    auroc.append(stats[2,0])\n",
    "    \n",
    "    # Standard recall at top K\n",
    "    pt_est = stats[1,0]\n",
    "    recall.append(pt_est)\n",
    "    ci = np.array([stats[1,1], stats[1,2]])\n",
    "    ci_abs_diffs = np.abs(ci - pt_est)\n",
    "    ci_mean_abs_diff = np.mean(ci_abs_diffs)\n",
    "    recall_ci.append(ci_mean_abs_diff)\n",
    "\n",
    "    # Saiva recall at top K\n",
    "    pt_est = stats[0,0]\n",
    "    saiva_recall.append(pt_est)\n",
    "    ci = np.array([stats[0,1], stats[0,2]])\n",
    "    ci_abs_diffs = np.abs(ci - pt_est)\n",
    "    ci_mean_abs_diff = np.mean(ci_abs_diffs)\n",
    "    saiva_recall_ci.append(ci_mean_abs_diff)\n",
    "\n",
    "                         "
   ]
  },
  {
   "cell_type": "code",
   "execution_count": 126,
   "metadata": {},
   "outputs": [
    {
     "data": {
      "text/plain": [
       "([0.7162071826811832,\n",
       "  0.7354829513833424,\n",
       "  0.7487888981176473,\n",
       "  0.7511907026972066,\n",
       "  0.7565258627755704,\n",
       "  0.7619880107989502,\n",
       "  0.7676641866274617,\n",
       "  0.7692780024526167],\n",
       " [0.3278969940174345,\n",
       "  0.33873332492569325,\n",
       "  0.3469002185489191,\n",
       "  0.3570786960932293,\n",
       "  0.3663142382865749,\n",
       "  0.37031547947930904,\n",
       "  0.37625242380783674,\n",
       "  0.37413970765036675],\n",
       " [0.015442501777846646,\n",
       "  0.014680994768842603,\n",
       "  0.017759819778138314,\n",
       "  0.017302631932384654,\n",
       "  0.01696054553195317,\n",
       "  0.018819554682407202,\n",
       "  0.019884739452850714,\n",
       "  0.021343643140343732])"
      ]
     },
     "execution_count": 126,
     "metadata": {},
     "output_type": "execute_result"
    }
   ],
   "source": [
    "auroc, recall, recall_ci"
   ]
  },
  {
   "cell_type": "code",
   "execution_count": 127,
   "metadata": {},
   "outputs": [
    {
     "ename": "ModuleNotFoundError",
     "evalue": "No module named 'matplotlib'",
     "output_type": "error",
     "traceback": [
      "\u001b[0;31m---------------------------------------------------------------------------\u001b[0m",
      "\u001b[0;31mModuleNotFoundError\u001b[0m                       Traceback (most recent call last)",
      "\u001b[0;32m<ipython-input-127-3ecebb6cd944>\u001b[0m in \u001b[0;36m<module>\u001b[0;34m\u001b[0m\n\u001b[0;32m----> 1\u001b[0;31m \u001b[0;32mimport\u001b[0m \u001b[0mmatplotlib\u001b[0m\u001b[0;34m.\u001b[0m\u001b[0mpyplot\u001b[0m \u001b[0;32mas\u001b[0m \u001b[0mplt\u001b[0m\u001b[0;34m\u001b[0m\u001b[0;34m\u001b[0m\u001b[0m\n\u001b[0m\u001b[1;32m      2\u001b[0m \u001b[0;34m\u001b[0m\u001b[0m\n\u001b[1;32m      3\u001b[0m \u001b[0mfig\u001b[0m\u001b[0;34m,\u001b[0m \u001b[0max\u001b[0m \u001b[0;34m=\u001b[0m \u001b[0mplt\u001b[0m\u001b[0;34m.\u001b[0m\u001b[0msubplots\u001b[0m\u001b[0;34m(\u001b[0m\u001b[0mfigsize\u001b[0m\u001b[0;34m=\u001b[0m\u001b[0;34m(\u001b[0m\u001b[0;36m8\u001b[0m\u001b[0;34m,\u001b[0m\u001b[0;36m8\u001b[0m\u001b[0;34m)\u001b[0m\u001b[0;34m)\u001b[0m\u001b[0;34m\u001b[0m\u001b[0;34m\u001b[0m\u001b[0m\n\u001b[1;32m      4\u001b[0m \u001b[0max\u001b[0m\u001b[0;34m.\u001b[0m\u001b[0merrorbar\u001b[0m\u001b[0;34m(\u001b[0m\u001b[0mauroc\u001b[0m\u001b[0;34m,\u001b[0m \u001b[0mrecall\u001b[0m\u001b[0;34m,\u001b[0m \u001b[0myerr\u001b[0m\u001b[0;34m=\u001b[0m\u001b[0mrecall_ci\u001b[0m\u001b[0;34m)\u001b[0m\u001b[0;34m\u001b[0m\u001b[0;34m\u001b[0m\u001b[0m\n\u001b[1;32m      5\u001b[0m \u001b[0max\u001b[0m\u001b[0;34m.\u001b[0m\u001b[0mtitle\u001b[0m\u001b[0;34m(\u001b[0m\u001b[0;34m'Recall at top-K vs AUROC'\u001b[0m\u001b[0;34m)\u001b[0m\u001b[0;34m\u001b[0m\u001b[0;34m\u001b[0m\u001b[0m\n",
      "\u001b[0;31mModuleNotFoundError\u001b[0m: No module named 'matplotlib'"
     ]
    }
   ],
   "source": [
    "import matplotlib.pyplot as plt\n",
    "\n",
    "fig, ax = plt.subplots(figsize=(8,8))\n",
    "ax.errorbar(auroc, recall, yerr=recall_ci)\n",
    "ax.title('Recall at top-K vs AUROC')"
   ]
  },
  {
   "cell_type": "code",
   "execution_count": 128,
   "metadata": {},
   "outputs": [
    {
     "data": {
      "text/plain": [
       "([0.7162071826811832,\n",
       "  0.7354829513833424,\n",
       "  0.7487888981176473,\n",
       "  0.7511907026972066,\n",
       "  0.7565258627755704,\n",
       "  0.7619880107989502,\n",
       "  0.7676641866274617,\n",
       "  0.7692780024526167],\n",
       " [0.5276393294971511,\n",
       "  0.5244628423547301,\n",
       "  0.5173273004028403,\n",
       "  0.5240016676237786,\n",
       "  0.5254388985471894,\n",
       "  0.5153374685200527,\n",
       "  0.49928701178608675,\n",
       "  0.48742410809633235],\n",
       " [0.01841280382613869,\n",
       "  0.01965310228940248,\n",
       "  0.02040490057306274,\n",
       "  0.018334533102394468,\n",
       "  0.01891218670523165,\n",
       "  0.020880317191525805,\n",
       "  0.020274487326373852,\n",
       "  0.019163270213468753])"
      ]
     },
     "execution_count": 128,
     "metadata": {},
     "output_type": "execute_result"
    }
   ],
   "source": [
    "auroc, saiva_recall, saiva_recall_ci"
   ]
  },
  {
   "cell_type": "code",
   "execution_count": 129,
   "metadata": {},
   "outputs": [],
   "source": [
    "# Argh - matplotlib is not in the container, so for convenience, making plots in avante-3-day-hosp container.  Ugh. "
   ]
  },
  {
   "cell_type": "code",
   "execution_count": 131,
   "metadata": {},
   "outputs": [
    {
     "ename": "NameError",
     "evalue": "name 'data_dict' is not defined",
     "output_type": "error",
     "traceback": [
      "\u001b[0;31m---------------------------------------------------------------------------\u001b[0m",
      "\u001b[0;31mNameError\u001b[0m                                 Traceback (most recent call last)",
      "\u001b[0;32m<ipython-input-131-0de071a27d5e>\u001b[0m in \u001b[0;36m<module>\u001b[0;34m\u001b[0m\n\u001b[0;32m----> 1\u001b[0;31m \u001b[0mdata_dict\u001b[0m\u001b[0;34m[\u001b[0m\u001b[0;34m'stays'\u001b[0m\u001b[0;34m]\u001b[0m\u001b[0;34m\u001b[0m\u001b[0;34m\u001b[0m\u001b[0m\n\u001b[0m",
      "\u001b[0;31mNameError\u001b[0m: name 'data_dict' is not defined"
     ]
    }
   ],
   "source": [
    "data_dict['stays']"
   ]
  },
  {
   "cell_type": "code",
   "execution_count": null,
   "metadata": {},
   "outputs": [],
   "source": []
  }
 ],
 "metadata": {
  "kernelspec": {
   "display_name": "Python 3",
   "language": "python",
   "name": "python3"
  },
  "language_info": {
   "codemirror_mode": {
    "name": "ipython",
    "version": 3
   },
   "file_extension": ".py",
   "mimetype": "text/x-python",
   "name": "python",
   "nbconvert_exporter": "python",
   "pygments_lexer": "ipython3",
   "version": "3.7.7"
  }
 },
 "nbformat": 4,
 "nbformat_minor": 4
}
