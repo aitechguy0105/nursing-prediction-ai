{
 "cells": [
  {
   "cell_type": "markdown",
   "metadata": {},
   "source": [
    "# Take subsamples of training set to estimate learning curve."
   ]
  },
  {
   "cell_type": "code",
   "execution_count": 2,
   "metadata": {},
   "outputs": [],
   "source": [
    "import os\n",
    "import sys\n",
    "import datetime\n",
    "import pandas as pd\n",
    "import pickle as pkl\n",
    "import numpy as np\n",
    "import scipy\n",
    "\n",
    "%load_ext autoreload\n",
    "%autoreload 2"
   ]
  },
  {
   "cell_type": "code",
   "execution_count": 3,
   "metadata": {},
   "outputs": [],
   "source": [
    "sys.path.append('/code')\n",
    "from edge import data\n",
    "from edge import patient_stays\n",
    "from edge import diagnosis\n",
    "from edge import meds\n",
    "from edge import vitals\n",
    "from edge import utils\n",
    "from edge import demographics\n",
    "from edge import stays\n",
    "from edge import notes\n",
    "from edge import perf_utils"
   ]
  },
  {
   "cell_type": "code",
   "execution_count": 4,
   "metadata": {},
   "outputs": [
    {
     "name": "stdout",
     "output_type": "stream",
     "text": [
      "Loading demographics data from /data/raw...\n",
      "Loading census data from /data/raw...\n",
      "Loading transfers data from /data/raw...\n",
      "Loading diagnoses data from /data/raw...\n",
      "Loading meds data from /data/raw...\n",
      "Loading vitals data from /data/raw...\n",
      "Loading orders data from /data/raw...\n",
      "Loading lab_results data from /data/raw...\n",
      "Loading alerts data from /data/raw...\n",
      "Loading progress_notes data from /data/raw...\n",
      "Loading stays data from /data/raw...\n"
     ]
    }
   ],
   "source": [
    "data_dict = data.load_raw_data_from_files('/data/raw')"
   ]
  },
  {
   "cell_type": "code",
   "execution_count": 5,
   "metadata": {},
   "outputs": [
    {
     "data": {
      "text/plain": [
       "(10880004, 4)"
      ]
     },
     "execution_count": 5,
     "metadata": {},
     "output_type": "execute_result"
    }
   ],
   "source": [
    "with open(\"/data/processed/prediction_times.pkl\", 'rb') as f_in: \n",
    "    prediction_times = pkl.load(f_in)\n",
    "prediction_times.shape"
   ]
  },
  {
   "cell_type": "code",
   "execution_count": 6,
   "metadata": {},
   "outputs": [
    {
     "data": {
      "text/plain": [
       "<10880004x3677 sparse matrix of type '<class 'numpy.float32'>'\n",
       "\twith 355415944 stored elements in Compressed Sparse Row format>"
      ]
     },
     "execution_count": 6,
     "metadata": {},
     "output_type": "execute_result"
    }
   ],
   "source": [
    "# Load prior prediction times and features. \n",
    "with open('/data/processed/feature_colnames.pkl', 'rb') as f_in: \n",
    "    feature_names = pkl.load(f_in)\n",
    "\n",
    "features = scipy.sparse.load_npz('/data/processed/features_csr.npz')\n",
    "features"
   ]
  },
  {
   "cell_type": "code",
   "execution_count": 7,
   "metadata": {},
   "outputs": [
    {
     "name": "stdout",
     "output_type": "stream",
     "text": [
      "Done\n"
     ]
    }
   ],
   "source": [
    "demo_features = scipy.sparse.load_npz('/data/processed/demo_features_csr.npz')\n",
    "stay_features = scipy.sparse.load_npz('/data/processed/stay_features_csr.npz')\n",
    "mean_note_features = scipy.sparse.load_npz('/data/processed/mean_note_embeddings_csr.npz')\n",
    "max_note_features = scipy.sparse.load_npz('/data/processed/max_note_embeddings_csr.npz')\n",
    "print('Done')"
   ]
  },
  {
   "cell_type": "code",
   "execution_count": 8,
   "metadata": {},
   "outputs": [],
   "source": [
    "all_features = scipy.sparse.hstack([features, demo_features, stay_features, mean_note_features, max_note_features])"
   ]
  },
  {
   "cell_type": "code",
   "execution_count": 9,
   "metadata": {},
   "outputs": [
    {
     "data": {
      "text/plain": [
       "<10880004x4488 sparse matrix of type '<class 'numpy.float32'>'\n",
       "\twith 1302959335 stored elements in Compressed Sparse Row format>"
      ]
     },
     "execution_count": 9,
     "metadata": {},
     "output_type": "execute_result"
    }
   ],
   "source": [
    "# hstack returns a coo matrix, so convert back to csr. \n",
    "features = scipy.sparse.csr_matrix(all_features)\n",
    "features"
   ]
  },
  {
   "cell_type": "markdown",
   "metadata": {},
   "source": [
    "## Assign target values.\n",
    "4 day rehosp."
   ]
  },
  {
   "cell_type": "code",
   "execution_count": 10,
   "metadata": {},
   "outputs": [
    {
     "name": "stdout",
     "output_type": "stream",
     "text": [
      "143701\n",
      "0.013207807644188366\n",
      "0.013207807644188366\n"
     ]
    }
   ],
   "source": [
    "# Assign targets\n",
    "stays = data_dict['stays']\n",
    "\n",
    "indices = prediction_times.StayRowIndex.values\n",
    "dates_of_transfer = stays.DateOfTransfer.dt.date.values[indices]\n",
    "prediction_dates = prediction_times.PredictionTimestamp.dt.date.values\n",
    "time_diffs = [ transfer_date - predict_date for transfer_date, predict_date in zip(dates_of_transfer, prediction_dates)]\n",
    "time_diffs_in_days = [diff.days if type(diff) is datetime.timedelta else 1e6 for diff in time_diffs]\n",
    "\n",
    "time_diffs_in_days = np.array(time_diffs_in_days)\n",
    "print(np.sum(time_diffs_in_days <= 4))\n",
    "print(np.mean(time_diffs_in_days <= 4))\n",
    "\n",
    "mask = (time_diffs_in_days <= 4)\n",
    "target = np.zeros(len(time_diffs_in_days))\n",
    "target[mask] = 1\n",
    "print(np.mean(target))\n"
   ]
  },
  {
   "cell_type": "markdown",
   "metadata": {},
   "source": [
    "## Do splits into train, val, test. "
   ]
  },
  {
   "cell_type": "code",
   "execution_count": 11,
   "metadata": {},
   "outputs": [],
   "source": [
    "train_start_date = '2017-01-01'\n",
    "train_end_date = '2019-07-31'\n",
    "val_end_date = '2019-11-30'\n",
    "test_end_date = '2020-02-28'"
   ]
  },
  {
   "cell_type": "markdown",
   "metadata": {},
   "source": [
    "### Deal with lookback period for stays features... \n",
    "We do a 90 day look back for the stays features, so we should be getting rid of prediction times with start dates before 2017-01-01 + 90 days... "
   ]
  },
  {
   "cell_type": "code",
   "execution_count": 12,
   "metadata": {},
   "outputs": [
    {
     "data": {
      "text/plain": [
       "Timestamp('2017-04-01 00:00:00')"
      ]
     },
     "execution_count": 12,
     "metadata": {},
     "output_type": "execute_result"
    }
   ],
   "source": [
    "stay_indices = prediction_times.StayRowIndex.values\n",
    "start_dates = stays.StartDate[stay_indices]\n",
    "td = pd.to_timedelta('90 days')\n",
    "min_date = pd.Timestamp(train_start_date) + td\n",
    "min_date"
   ]
  },
  {
   "cell_type": "code",
   "execution_count": 13,
   "metadata": {},
   "outputs": [
    {
     "name": "stdout",
     "output_type": "stream",
     "text": [
      "Getting masks\n"
     ]
    },
    {
     "data": {
      "text/plain": [
       "(8028758, 1166527, 860483)"
      ]
     },
     "execution_count": 13,
     "metadata": {},
     "output_type": "execute_result"
    }
   ],
   "source": [
    "print('Getting masks')\n",
    "train_mask = (prediction_times.PredictionTimestamp.dt.date.values >= min_date) & \\\n",
    "             (prediction_times.PredictionTimestamp.dt.date.values <= pd.to_datetime(train_end_date))\n",
    "val_mask = (prediction_times.PredictionTimestamp.dt.date.values > pd.to_datetime(train_end_date)) & \\\n",
    "           (prediction_times.PredictionTimestamp.dt.date.values <= pd.to_datetime(val_end_date))\n",
    "test_mask = prediction_times.PredictionTimestamp.dt.date.values > pd.to_datetime(val_end_date)\n",
    "np.sum(train_mask), np.sum(val_mask), np.sum(test_mask)"
   ]
  },
  {
   "cell_type": "code",
   "execution_count": 14,
   "metadata": {},
   "outputs": [
    {
     "name": "stdout",
     "output_type": "stream",
     "text": [
      "(8028758, 4488)\n",
      "(1166527, 4488)\n",
      "(860483, 4488)\n"
     ]
    }
   ],
   "source": [
    "train_x = features[train_mask,:]\n",
    "train_y = target[train_mask]\n",
    "train_ptimes = prediction_times[train_mask]\n",
    "train_ptimes = train_ptimes.reset_index(drop=True)\n",
    "train_dict = {'X': train_x, 'Y': train_y, 'PredictionTimes': train_ptimes}\n",
    "print(train_x.shape)\n",
    "\n",
    "val_x = features[val_mask,:]\n",
    "val_y = target[val_mask]\n",
    "val_ptimes = prediction_times[val_mask]\n",
    "val_ptimes = val_ptimes.reset_index(drop=True)\n",
    "val_dict = {'X':val_x, 'Y': val_y, 'PredictionTimes': val_ptimes}\n",
    "print(val_x.shape)\n",
    "\n",
    "test_x = features[test_mask,:]\n",
    "test_y = target[test_mask]\n",
    "test_ptimes = prediction_times[test_mask]\n",
    "test_ptimes = test_ptimes.reset_index(drop=True)\n",
    "test_dict = {'X': test_x, 'Y': test_y, 'PredictionTimes': test_ptimes}\n",
    "print(test_x.shape)\n",
    "\n",
    "with open('/data/processed/more_features_train_dataset.pkl', 'wb') as f_out: \n",
    "    pkl.dump(train_dict, file=f_out)\n",
    "with open('/data/processed/more_features_val_dataset.pkl', 'wb') as f_out: \n",
    "    pkl.dump(val_dict, file=f_out)\n",
    "with open('/data/processed/more_features_test_dataset.pkl', 'wb') as f_out: \n",
    "    pkl.dump(test_dict, file=f_out)"
   ]
  },
  {
   "cell_type": "code",
   "execution_count": 15,
   "metadata": {},
   "outputs": [
    {
     "data": {
      "text/plain": [
       "(0.013063788944691072, 0.01235805086380341, 0.012312852200450213)"
      ]
     },
     "execution_count": 15,
     "metadata": {},
     "output_type": "execute_result"
    }
   ],
   "source": [
    "np.mean(train_y), np.mean(val_y), np.mean(test_y)"
   ]
  },
  {
   "cell_type": "code",
   "execution_count": 19,
   "metadata": {},
   "outputs": [
    {
     "name": "stdout",
     "output_type": "stream",
     "text": [
      "Getting subsample of size 1003595\n",
      "training set size: (1003595, 4488)\n",
      "[1]\tvalid_0's auc: 0.795372\tvalid_0's binary_logloss: 0.0655241\n",
      "Training until validation scores don't improve for 10 rounds\n",
      "[2]\tvalid_0's auc: 0.799956\tvalid_0's binary_logloss: 0.064659\n",
      "[3]\tvalid_0's auc: 0.809152\tvalid_0's binary_logloss: 0.0639724\n",
      "[4]\tvalid_0's auc: 0.811681\tvalid_0's binary_logloss: 0.0633862\n",
      "[5]\tvalid_0's auc: 0.813362\tvalid_0's binary_logloss: 0.0628705\n",
      "[6]\tvalid_0's auc: 0.814344\tvalid_0's binary_logloss: 0.0624357\n",
      "[7]\tvalid_0's auc: 0.815119\tvalid_0's binary_logloss: 0.0620352\n",
      "[8]\tvalid_0's auc: 0.815332\tvalid_0's binary_logloss: 0.0616704\n",
      "[9]\tvalid_0's auc: 0.815302\tvalid_0's binary_logloss: 0.0613591\n",
      "[10]\tvalid_0's auc: 0.816186\tvalid_0's binary_logloss: 0.0610572\n",
      "[11]\tvalid_0's auc: 0.816885\tvalid_0's binary_logloss: 0.060785\n",
      "[12]\tvalid_0's auc: 0.817505\tvalid_0's binary_logloss: 0.060533\n",
      "[13]\tvalid_0's auc: 0.81742\tvalid_0's binary_logloss: 0.0603151\n",
      "[14]\tvalid_0's auc: 0.817461\tvalid_0's binary_logloss: 0.06011\n",
      "[15]\tvalid_0's auc: 0.819084\tvalid_0's binary_logloss: 0.0599215\n",
      "[16]\tvalid_0's auc: 0.818914\tvalid_0's binary_logloss: 0.0597527\n",
      "[17]\tvalid_0's auc: 0.819124\tvalid_0's binary_logloss: 0.0595944\n",
      "[18]\tvalid_0's auc: 0.819763\tvalid_0's binary_logloss: 0.0594545\n",
      "[19]\tvalid_0's auc: 0.819947\tvalid_0's binary_logloss: 0.0593107\n",
      "[20]\tvalid_0's auc: 0.820735\tvalid_0's binary_logloss: 0.0591757\n",
      "[21]\tvalid_0's auc: 0.820982\tvalid_0's binary_logloss: 0.059055\n",
      "[22]\tvalid_0's auc: 0.821119\tvalid_0's binary_logloss: 0.058938\n",
      "[23]\tvalid_0's auc: 0.821498\tvalid_0's binary_logloss: 0.0588216\n",
      "[24]\tvalid_0's auc: 0.82211\tvalid_0's binary_logloss: 0.0587247\n",
      "[25]\tvalid_0's auc: 0.822164\tvalid_0's binary_logloss: 0.058634\n",
      "[26]\tvalid_0's auc: 0.822341\tvalid_0's binary_logloss: 0.0585506\n",
      "[27]\tvalid_0's auc: 0.822652\tvalid_0's binary_logloss: 0.0584672\n",
      "[28]\tvalid_0's auc: 0.823067\tvalid_0's binary_logloss: 0.0583875\n",
      "[29]\tvalid_0's auc: 0.823316\tvalid_0's binary_logloss: 0.0583091\n",
      "[30]\tvalid_0's auc: 0.823541\tvalid_0's binary_logloss: 0.058246\n",
      "[31]\tvalid_0's auc: 0.823356\tvalid_0's binary_logloss: 0.058197\n",
      "[32]\tvalid_0's auc: 0.823377\tvalid_0's binary_logloss: 0.058147\n",
      "[33]\tvalid_0's auc: 0.823559\tvalid_0's binary_logloss: 0.0580939\n",
      "[34]\tvalid_0's auc: 0.823837\tvalid_0's binary_logloss: 0.0580539\n",
      "[35]\tvalid_0's auc: 0.824115\tvalid_0's binary_logloss: 0.0580036\n",
      "[36]\tvalid_0's auc: 0.824553\tvalid_0's binary_logloss: 0.0579462\n",
      "[37]\tvalid_0's auc: 0.825013\tvalid_0's binary_logloss: 0.0578947\n",
      "[38]\tvalid_0's auc: 0.825287\tvalid_0's binary_logloss: 0.0578586\n",
      "[39]\tvalid_0's auc: 0.825447\tvalid_0's binary_logloss: 0.0578206\n",
      "[40]\tvalid_0's auc: 0.825919\tvalid_0's binary_logloss: 0.057776\n",
      "[41]\tvalid_0's auc: 0.826054\tvalid_0's binary_logloss: 0.0577337\n",
      "[42]\tvalid_0's auc: 0.825978\tvalid_0's binary_logloss: 0.0577089\n",
      "[43]\tvalid_0's auc: 0.826133\tvalid_0's binary_logloss: 0.0576741\n",
      "[44]\tvalid_0's auc: 0.826423\tvalid_0's binary_logloss: 0.0576393\n",
      "[45]\tvalid_0's auc: 0.826336\tvalid_0's binary_logloss: 0.0576089\n",
      "[46]\tvalid_0's auc: 0.82646\tvalid_0's binary_logloss: 0.0575823\n",
      "[47]\tvalid_0's auc: 0.826532\tvalid_0's binary_logloss: 0.0575495\n",
      "[48]\tvalid_0's auc: 0.826702\tvalid_0's binary_logloss: 0.0575146\n",
      "[49]\tvalid_0's auc: 0.827068\tvalid_0's binary_logloss: 0.0574758\n",
      "[50]\tvalid_0's auc: 0.827262\tvalid_0's binary_logloss: 0.0574512\n",
      "[51]\tvalid_0's auc: 0.827417\tvalid_0's binary_logloss: 0.0574188\n",
      "[52]\tvalid_0's auc: 0.827702\tvalid_0's binary_logloss: 0.0573905\n",
      "[53]\tvalid_0's auc: 0.827817\tvalid_0's binary_logloss: 0.0573667\n",
      "[54]\tvalid_0's auc: 0.827952\tvalid_0's binary_logloss: 0.0573503\n",
      "[55]\tvalid_0's auc: 0.828072\tvalid_0's binary_logloss: 0.0573267\n",
      "[56]\tvalid_0's auc: 0.828176\tvalid_0's binary_logloss: 0.0573073\n",
      "[57]\tvalid_0's auc: 0.828157\tvalid_0's binary_logloss: 0.0572912\n",
      "[58]\tvalid_0's auc: 0.828294\tvalid_0's binary_logloss: 0.0572758\n",
      "[59]\tvalid_0's auc: 0.828569\tvalid_0's binary_logloss: 0.0572491\n",
      "[60]\tvalid_0's auc: 0.828684\tvalid_0's binary_logloss: 0.0572343\n",
      "[61]\tvalid_0's auc: 0.828592\tvalid_0's binary_logloss: 0.0572295\n",
      "[62]\tvalid_0's auc: 0.828637\tvalid_0's binary_logloss: 0.0572181\n",
      "[63]\tvalid_0's auc: 0.828744\tvalid_0's binary_logloss: 0.0572028\n",
      "[64]\tvalid_0's auc: 0.828873\tvalid_0's binary_logloss: 0.0571859\n",
      "[65]\tvalid_0's auc: 0.828858\tvalid_0's binary_logloss: 0.0571845\n",
      "[66]\tvalid_0's auc: 0.829046\tvalid_0's binary_logloss: 0.0571659\n",
      "[67]\tvalid_0's auc: 0.829231\tvalid_0's binary_logloss: 0.0571454\n",
      "[68]\tvalid_0's auc: 0.829323\tvalid_0's binary_logloss: 0.0571342\n",
      "[69]\tvalid_0's auc: 0.829493\tvalid_0's binary_logloss: 0.0571152\n",
      "[70]\tvalid_0's auc: 0.829557\tvalid_0's binary_logloss: 0.057109\n",
      "[71]\tvalid_0's auc: 0.82985\tvalid_0's binary_logloss: 0.0570874\n",
      "[72]\tvalid_0's auc: 0.82986\tvalid_0's binary_logloss: 0.0570838\n",
      "[73]\tvalid_0's auc: 0.829953\tvalid_0's binary_logloss: 0.0570701\n",
      "[74]\tvalid_0's auc: 0.829958\tvalid_0's binary_logloss: 0.0570643\n",
      "[75]\tvalid_0's auc: 0.830135\tvalid_0's binary_logloss: 0.0570475\n",
      "[76]\tvalid_0's auc: 0.830265\tvalid_0's binary_logloss: 0.0570379\n",
      "[77]\tvalid_0's auc: 0.830052\tvalid_0's binary_logloss: 0.0570407\n",
      "[78]\tvalid_0's auc: 0.830083\tvalid_0's binary_logloss: 0.0570368\n",
      "[79]\tvalid_0's auc: 0.830127\tvalid_0's binary_logloss: 0.0570363\n",
      "[80]\tvalid_0's auc: 0.830175\tvalid_0's binary_logloss: 0.0570295\n",
      "[81]\tvalid_0's auc: 0.830187\tvalid_0's binary_logloss: 0.05703\n",
      "[82]\tvalid_0's auc: 0.830345\tvalid_0's binary_logloss: 0.0570204\n",
      "[83]\tvalid_0's auc: 0.830335\tvalid_0's binary_logloss: 0.0570142\n",
      "[84]\tvalid_0's auc: 0.830391\tvalid_0's binary_logloss: 0.0570088\n",
      "[85]\tvalid_0's auc: 0.830353\tvalid_0's binary_logloss: 0.0570103\n",
      "[86]\tvalid_0's auc: 0.830381\tvalid_0's binary_logloss: 0.0570056\n",
      "[87]\tvalid_0's auc: 0.83047\tvalid_0's binary_logloss: 0.0570014\n",
      "[88]\tvalid_0's auc: 0.830504\tvalid_0's binary_logloss: 0.0569998\n",
      "[89]\tvalid_0's auc: 0.830592\tvalid_0's binary_logloss: 0.0569984\n",
      "[90]\tvalid_0's auc: 0.830591\tvalid_0's binary_logloss: 0.0569998\n",
      "[91]\tvalid_0's auc: 0.830596\tvalid_0's binary_logloss: 0.0570002\n",
      "[92]\tvalid_0's auc: 0.830632\tvalid_0's binary_logloss: 0.0569937\n",
      "[93]\tvalid_0's auc: 0.830625\tvalid_0's binary_logloss: 0.0569915\n",
      "[94]\tvalid_0's auc: 0.830616\tvalid_0's binary_logloss: 0.0569932\n",
      "[95]\tvalid_0's auc: 0.830586\tvalid_0's binary_logloss: 0.0569929\n",
      "[96]\tvalid_0's auc: 0.830624\tvalid_0's binary_logloss: 0.0569905\n",
      "[97]\tvalid_0's auc: 0.83066\tvalid_0's binary_logloss: 0.0569865\n",
      "[98]\tvalid_0's auc: 0.830675\tvalid_0's binary_logloss: 0.0569856\n",
      "[99]\tvalid_0's auc: 0.830723\tvalid_0's binary_logloss: 0.0569821\n",
      "[100]\tvalid_0's auc: 0.830908\tvalid_0's binary_logloss: 0.0569718\n",
      "[101]\tvalid_0's auc: 0.830844\tvalid_0's binary_logloss: 0.0569668\n",
      "[102]\tvalid_0's auc: 0.830779\tvalid_0's binary_logloss: 0.056974\n",
      "[103]\tvalid_0's auc: 0.830722\tvalid_0's binary_logloss: 0.0569805\n",
      "[104]\tvalid_0's auc: 0.830683\tvalid_0's binary_logloss: 0.0569818\n",
      "[105]\tvalid_0's auc: 0.830678\tvalid_0's binary_logloss: 0.0569833\n",
      "[106]\tvalid_0's auc: 0.830765\tvalid_0's binary_logloss: 0.0569784\n",
      "[107]\tvalid_0's auc: 0.830689\tvalid_0's binary_logloss: 0.0569826\n",
      "[108]\tvalid_0's auc: 0.830708\tvalid_0's binary_logloss: 0.0569802\n",
      "[109]\tvalid_0's auc: 0.830732\tvalid_0's binary_logloss: 0.0569791\n",
      "[110]\tvalid_0's auc: 0.830742\tvalid_0's binary_logloss: 0.0569793\n",
      "Early stopping, best iteration is:\n",
      "[100]\tvalid_0's auc: 0.830908\tvalid_0's binary_logloss: 0.0569718\n",
      "Estimating confidence intervals from 500 bootstrap samples...\n",
      "Constructing samples by sampling patient...\n",
      "Running jobs...\n",
      "Collating statistics\n",
      "Getting subsample of size 2007190\n",
      "training set size: (2007190, 4488)\n",
      "[1]\tvalid_0's auc: 0.795518\tvalid_0's binary_logloss: 0.0655309\n",
      "Training until validation scores don't improve for 10 rounds\n",
      "[2]\tvalid_0's auc: 0.797534\tvalid_0's binary_logloss: 0.0646952\n",
      "[3]\tvalid_0's auc: 0.80389\tvalid_0's binary_logloss: 0.0640053\n",
      "[4]\tvalid_0's auc: 0.806287\tvalid_0's binary_logloss: 0.0634023\n",
      "[5]\tvalid_0's auc: 0.807087\tvalid_0's binary_logloss: 0.0629037\n",
      "[6]\tvalid_0's auc: 0.811709\tvalid_0's binary_logloss: 0.0624368\n",
      "[7]\tvalid_0's auc: 0.812415\tvalid_0's binary_logloss: 0.0620329\n",
      "[8]\tvalid_0's auc: 0.812891\tvalid_0's binary_logloss: 0.0616621\n",
      "[9]\tvalid_0's auc: 0.813733\tvalid_0's binary_logloss: 0.0613519\n",
      "[10]\tvalid_0's auc: 0.815598\tvalid_0's binary_logloss: 0.0610574\n",
      "[11]\tvalid_0's auc: 0.816001\tvalid_0's binary_logloss: 0.0607957\n",
      "[12]\tvalid_0's auc: 0.816441\tvalid_0's binary_logloss: 0.0605532\n",
      "[13]\tvalid_0's auc: 0.816632\tvalid_0's binary_logloss: 0.0603341\n",
      "[14]\tvalid_0's auc: 0.817051\tvalid_0's binary_logloss: 0.0601377\n",
      "[15]\tvalid_0's auc: 0.818051\tvalid_0's binary_logloss: 0.0599628\n",
      "[16]\tvalid_0's auc: 0.8186\tvalid_0's binary_logloss: 0.0597741\n",
      "[17]\tvalid_0's auc: 0.818912\tvalid_0's binary_logloss: 0.0596092\n",
      "[18]\tvalid_0's auc: 0.81903\tvalid_0's binary_logloss: 0.059459\n",
      "[19]\tvalid_0's auc: 0.819352\tvalid_0's binary_logloss: 0.0593178\n",
      "[20]\tvalid_0's auc: 0.819793\tvalid_0's binary_logloss: 0.0591793\n",
      "[21]\tvalid_0's auc: 0.820123\tvalid_0's binary_logloss: 0.0590536\n",
      "[22]\tvalid_0's auc: 0.821003\tvalid_0's binary_logloss: 0.058931\n",
      "[23]\tvalid_0's auc: 0.821573\tvalid_0's binary_logloss: 0.0588123\n",
      "[24]\tvalid_0's auc: 0.822133\tvalid_0's binary_logloss: 0.0587126\n",
      "[25]\tvalid_0's auc: 0.822311\tvalid_0's binary_logloss: 0.0586371\n",
      "[26]\tvalid_0's auc: 0.822467\tvalid_0's binary_logloss: 0.05855\n",
      "[27]\tvalid_0's auc: 0.823087\tvalid_0's binary_logloss: 0.0584675\n",
      "[28]\tvalid_0's auc: 0.823048\tvalid_0's binary_logloss: 0.0584043\n",
      "[29]\tvalid_0's auc: 0.823427\tvalid_0's binary_logloss: 0.0583394\n",
      "[30]\tvalid_0's auc: 0.823657\tvalid_0's binary_logloss: 0.0582705\n",
      "[31]\tvalid_0's auc: 0.823998\tvalid_0's binary_logloss: 0.0582064\n",
      "[32]\tvalid_0's auc: 0.824162\tvalid_0's binary_logloss: 0.0581532\n",
      "[33]\tvalid_0's auc: 0.824205\tvalid_0's binary_logloss: 0.0581025\n",
      "[34]\tvalid_0's auc: 0.824234\tvalid_0's binary_logloss: 0.0580554\n",
      "[35]\tvalid_0's auc: 0.824338\tvalid_0's binary_logloss: 0.0580136\n",
      "[36]\tvalid_0's auc: 0.824546\tvalid_0's binary_logloss: 0.0579743\n",
      "[37]\tvalid_0's auc: 0.82485\tvalid_0's binary_logloss: 0.0579269\n",
      "[38]\tvalid_0's auc: 0.825001\tvalid_0's binary_logloss: 0.0578936\n",
      "[39]\tvalid_0's auc: 0.825276\tvalid_0's binary_logloss: 0.0578544\n",
      "[40]\tvalid_0's auc: 0.825488\tvalid_0's binary_logloss: 0.0578102\n",
      "[41]\tvalid_0's auc: 0.825678\tvalid_0's binary_logloss: 0.0577731\n",
      "[42]\tvalid_0's auc: 0.826044\tvalid_0's binary_logloss: 0.0577376\n",
      "[43]\tvalid_0's auc: 0.826522\tvalid_0's binary_logloss: 0.05769\n",
      "[44]\tvalid_0's auc: 0.8266\tvalid_0's binary_logloss: 0.0576575\n",
      "[45]\tvalid_0's auc: 0.826804\tvalid_0's binary_logloss: 0.0576308\n",
      "[46]\tvalid_0's auc: 0.826921\tvalid_0's binary_logloss: 0.0576001\n",
      "[47]\tvalid_0's auc: 0.827104\tvalid_0's binary_logloss: 0.0575659\n",
      "[48]\tvalid_0's auc: 0.827253\tvalid_0's binary_logloss: 0.0575411\n",
      "[49]\tvalid_0's auc: 0.827347\tvalid_0's binary_logloss: 0.0575155\n",
      "[50]\tvalid_0's auc: 0.827273\tvalid_0's binary_logloss: 0.0575003\n",
      "[51]\tvalid_0's auc: 0.827508\tvalid_0's binary_logloss: 0.0574724\n",
      "[52]\tvalid_0's auc: 0.827475\tvalid_0's binary_logloss: 0.0574621\n",
      "[53]\tvalid_0's auc: 0.827674\tvalid_0's binary_logloss: 0.0574386\n",
      "[54]\tvalid_0's auc: 0.827756\tvalid_0's binary_logloss: 0.0574117\n",
      "[55]\tvalid_0's auc: 0.827806\tvalid_0's binary_logloss: 0.0574056\n",
      "[56]\tvalid_0's auc: 0.828151\tvalid_0's binary_logloss: 0.0574156\n",
      "[57]\tvalid_0's auc: 0.8283\tvalid_0's binary_logloss: 0.057393\n",
      "[58]\tvalid_0's auc: 0.828447\tvalid_0's binary_logloss: 0.0573736\n",
      "[59]\tvalid_0's auc: 0.828496\tvalid_0's binary_logloss: 0.0573628\n",
      "[60]\tvalid_0's auc: 0.828724\tvalid_0's binary_logloss: 0.0573436\n",
      "[61]\tvalid_0's auc: 0.828991\tvalid_0's binary_logloss: 0.0573154\n",
      "[62]\tvalid_0's auc: 0.829078\tvalid_0's binary_logloss: 0.0573058\n",
      "[63]\tvalid_0's auc: 0.829204\tvalid_0's binary_logloss: 0.0572892\n",
      "[64]\tvalid_0's auc: 0.829271\tvalid_0's binary_logloss: 0.0572875\n",
      "[65]\tvalid_0's auc: 0.829309\tvalid_0's binary_logloss: 0.0572774\n",
      "[66]\tvalid_0's auc: 0.829334\tvalid_0's binary_logloss: 0.0572666\n",
      "[67]\tvalid_0's auc: 0.829335\tvalid_0's binary_logloss: 0.0572636\n",
      "[68]\tvalid_0's auc: 0.829373\tvalid_0's binary_logloss: 0.0572748\n",
      "[69]\tvalid_0's auc: 0.829492\tvalid_0's binary_logloss: 0.0572597\n",
      "[70]\tvalid_0's auc: 0.829546\tvalid_0's binary_logloss: 0.0572507\n",
      "[71]\tvalid_0's auc: 0.829631\tvalid_0's binary_logloss: 0.0572407\n",
      "[72]\tvalid_0's auc: 0.829707\tvalid_0's binary_logloss: 0.0572321\n",
      "[73]\tvalid_0's auc: 0.829789\tvalid_0's binary_logloss: 0.05722\n",
      "[74]\tvalid_0's auc: 0.829776\tvalid_0's binary_logloss: 0.057212\n",
      "[75]\tvalid_0's auc: 0.829899\tvalid_0's binary_logloss: 0.0571998\n",
      "[76]\tvalid_0's auc: 0.829733\tvalid_0's binary_logloss: 0.0572117\n",
      "[77]\tvalid_0's auc: 0.829751\tvalid_0's binary_logloss: 0.0571994\n",
      "[78]\tvalid_0's auc: 0.829669\tvalid_0's binary_logloss: 0.0572026\n",
      "[79]\tvalid_0's auc: 0.829812\tvalid_0's binary_logloss: 0.0571926\n",
      "[80]\tvalid_0's auc: 0.830009\tvalid_0's binary_logloss: 0.0571752\n",
      "[81]\tvalid_0's auc: 0.830166\tvalid_0's binary_logloss: 0.0571677\n",
      "[82]\tvalid_0's auc: 0.830301\tvalid_0's binary_logloss: 0.0571617\n",
      "[83]\tvalid_0's auc: 0.830468\tvalid_0's binary_logloss: 0.0571516\n",
      "[84]\tvalid_0's auc: 0.830584\tvalid_0's binary_logloss: 0.0571443\n",
      "[85]\tvalid_0's auc: 0.830661\tvalid_0's binary_logloss: 0.0571334\n",
      "[86]\tvalid_0's auc: 0.830764\tvalid_0's binary_logloss: 0.0571271\n",
      "[87]\tvalid_0's auc: 0.830828\tvalid_0's binary_logloss: 0.0571141\n",
      "[88]\tvalid_0's auc: 0.830978\tvalid_0's binary_logloss: 0.0571083\n",
      "[89]\tvalid_0's auc: 0.830948\tvalid_0's binary_logloss: 0.0571096\n",
      "[90]\tvalid_0's auc: 0.831076\tvalid_0's binary_logloss: 0.0570976\n",
      "[91]\tvalid_0's auc: 0.831158\tvalid_0's binary_logloss: 0.0570888\n",
      "[92]\tvalid_0's auc: 0.83108\tvalid_0's binary_logloss: 0.0570931\n",
      "[93]\tvalid_0's auc: 0.831106\tvalid_0's binary_logloss: 0.0570925\n",
      "[94]\tvalid_0's auc: 0.831252\tvalid_0's binary_logloss: 0.0570843\n",
      "[95]\tvalid_0's auc: 0.831334\tvalid_0's binary_logloss: 0.0570761\n",
      "[96]\tvalid_0's auc: 0.831343\tvalid_0's binary_logloss: 0.0570778\n",
      "[97]\tvalid_0's auc: 0.831478\tvalid_0's binary_logloss: 0.057066\n",
      "[98]\tvalid_0's auc: 0.831628\tvalid_0's binary_logloss: 0.0570604\n",
      "[99]\tvalid_0's auc: 0.831697\tvalid_0's binary_logloss: 0.0570555\n",
      "[100]\tvalid_0's auc: 0.831838\tvalid_0's binary_logloss: 0.0570469\n",
      "[101]\tvalid_0's auc: 0.831808\tvalid_0's binary_logloss: 0.0570457\n",
      "[102]\tvalid_0's auc: 0.831856\tvalid_0's binary_logloss: 0.0570427\n",
      "[103]\tvalid_0's auc: 0.831774\tvalid_0's binary_logloss: 0.0570385\n",
      "[104]\tvalid_0's auc: 0.831807\tvalid_0's binary_logloss: 0.0570365\n",
      "[105]\tvalid_0's auc: 0.831949\tvalid_0's binary_logloss: 0.0570264\n",
      "[106]\tvalid_0's auc: 0.831951\tvalid_0's binary_logloss: 0.0570279\n",
      "[107]\tvalid_0's auc: 0.831909\tvalid_0's binary_logloss: 0.0570398\n",
      "[108]\tvalid_0's auc: 0.831993\tvalid_0's binary_logloss: 0.0570353\n",
      "[109]\tvalid_0's auc: 0.831996\tvalid_0's binary_logloss: 0.0570365\n",
      "[110]\tvalid_0's auc: 0.83205\tvalid_0's binary_logloss: 0.0570343\n",
      "[111]\tvalid_0's auc: 0.831995\tvalid_0's binary_logloss: 0.0570388\n",
      "[112]\tvalid_0's auc: 0.831962\tvalid_0's binary_logloss: 0.0570345\n",
      "[113]\tvalid_0's auc: 0.831967\tvalid_0's binary_logloss: 0.0570328\n",
      "[114]\tvalid_0's auc: 0.832021\tvalid_0's binary_logloss: 0.0570302\n",
      "[115]\tvalid_0's auc: 0.831995\tvalid_0's binary_logloss: 0.0570308\n",
      "Early stopping, best iteration is:\n",
      "[105]\tvalid_0's auc: 0.831949\tvalid_0's binary_logloss: 0.0570264\n",
      "Estimating confidence intervals from 500 bootstrap samples...\n",
      "Constructing samples by sampling patient...\n",
      "Running jobs...\n",
      "Collating statistics\n",
      "Getting subsample of size 4014379\n",
      "training set size: (4014379, 4488)\n",
      "[1]\tvalid_0's auc: 0.803218\tvalid_0's binary_logloss: 0.0654693\n",
      "Training until validation scores don't improve for 10 rounds\n",
      "[2]\tvalid_0's auc: 0.80866\tvalid_0's binary_logloss: 0.0646424\n",
      "[3]\tvalid_0's auc: 0.810073\tvalid_0's binary_logloss: 0.0639555\n",
      "[4]\tvalid_0's auc: 0.811636\tvalid_0's binary_logloss: 0.0633525\n",
      "[5]\tvalid_0's auc: 0.813917\tvalid_0's binary_logloss: 0.0628263\n",
      "[6]\tvalid_0's auc: 0.814892\tvalid_0's binary_logloss: 0.06237\n",
      "[7]\tvalid_0's auc: 0.815236\tvalid_0's binary_logloss: 0.0619661\n",
      "[8]\tvalid_0's auc: 0.815729\tvalid_0's binary_logloss: 0.0616024\n",
      "[9]\tvalid_0's auc: 0.816496\tvalid_0's binary_logloss: 0.0612935\n",
      "[10]\tvalid_0's auc: 0.816488\tvalid_0's binary_logloss: 0.0610072\n",
      "[11]\tvalid_0's auc: 0.81748\tvalid_0's binary_logloss: 0.0607307\n",
      "[12]\tvalid_0's auc: 0.818031\tvalid_0's binary_logloss: 0.0604799\n",
      "[13]\tvalid_0's auc: 0.818476\tvalid_0's binary_logloss: 0.0602455\n",
      "[14]\tvalid_0's auc: 0.81859\tvalid_0's binary_logloss: 0.0600492\n",
      "[15]\tvalid_0's auc: 0.819325\tvalid_0's binary_logloss: 0.0598543\n",
      "[16]\tvalid_0's auc: 0.81985\tvalid_0's binary_logloss: 0.0596756\n",
      "[17]\tvalid_0's auc: 0.819862\tvalid_0's binary_logloss: 0.0595135\n",
      "[18]\tvalid_0's auc: 0.820019\tvalid_0's binary_logloss: 0.0593637\n",
      "[19]\tvalid_0's auc: 0.820292\tvalid_0's binary_logloss: 0.0592316\n",
      "[20]\tvalid_0's auc: 0.82053\tvalid_0's binary_logloss: 0.0591053\n",
      "[21]\tvalid_0's auc: 0.820508\tvalid_0's binary_logloss: 0.0589853\n",
      "[22]\tvalid_0's auc: 0.820969\tvalid_0's binary_logloss: 0.0588789\n",
      "[23]\tvalid_0's auc: 0.821149\tvalid_0's binary_logloss: 0.058783\n",
      "[24]\tvalid_0's auc: 0.821154\tvalid_0's binary_logloss: 0.0586878\n",
      "[25]\tvalid_0's auc: 0.821079\tvalid_0's binary_logloss: 0.0586288\n",
      "[26]\tvalid_0's auc: 0.821487\tvalid_0's binary_logloss: 0.0585547\n",
      "[27]\tvalid_0's auc: 0.821695\tvalid_0's binary_logloss: 0.0584721\n",
      "[28]\tvalid_0's auc: 0.822221\tvalid_0's binary_logloss: 0.0583902\n",
      "[29]\tvalid_0's auc: 0.822539\tvalid_0's binary_logloss: 0.0583455\n",
      "[30]\tvalid_0's auc: 0.822747\tvalid_0's binary_logloss: 0.0582803\n",
      "[31]\tvalid_0's auc: 0.823162\tvalid_0's binary_logloss: 0.058212\n",
      "[32]\tvalid_0's auc: 0.823359\tvalid_0's binary_logloss: 0.0581569\n",
      "[33]\tvalid_0's auc: 0.823657\tvalid_0's binary_logloss: 0.0580982\n",
      "[34]\tvalid_0's auc: 0.823589\tvalid_0's binary_logloss: 0.0580634\n",
      "[35]\tvalid_0's auc: 0.823912\tvalid_0's binary_logloss: 0.0580107\n",
      "[36]\tvalid_0's auc: 0.82399\tvalid_0's binary_logloss: 0.057968\n",
      "[37]\tvalid_0's auc: 0.824089\tvalid_0's binary_logloss: 0.0579281\n",
      "[38]\tvalid_0's auc: 0.824203\tvalid_0's binary_logloss: 0.0578931\n",
      "[39]\tvalid_0's auc: 0.824462\tvalid_0's binary_logloss: 0.0578589\n",
      "[40]\tvalid_0's auc: 0.824534\tvalid_0's binary_logloss: 0.0578248\n",
      "[41]\tvalid_0's auc: 0.824712\tvalid_0's binary_logloss: 0.0577931\n",
      "[42]\tvalid_0's auc: 0.824716\tvalid_0's binary_logloss: 0.0577704\n",
      "[43]\tvalid_0's auc: 0.825064\tvalid_0's binary_logloss: 0.0577266\n",
      "[44]\tvalid_0's auc: 0.825136\tvalid_0's binary_logloss: 0.0576984\n",
      "[45]\tvalid_0's auc: 0.82519\tvalid_0's binary_logloss: 0.0576838\n",
      "[46]\tvalid_0's auc: 0.825202\tvalid_0's binary_logloss: 0.0576626\n",
      "[47]\tvalid_0's auc: 0.825229\tvalid_0's binary_logloss: 0.0576434\n",
      "[48]\tvalid_0's auc: 0.825508\tvalid_0's binary_logloss: 0.057611\n",
      "[49]\tvalid_0's auc: 0.825765\tvalid_0's binary_logloss: 0.0575865\n",
      "[50]\tvalid_0's auc: 0.825825\tvalid_0's binary_logloss: 0.0575644\n",
      "[51]\tvalid_0's auc: 0.8262\tvalid_0's binary_logloss: 0.0575319\n",
      "[52]\tvalid_0's auc: 0.826226\tvalid_0's binary_logloss: 0.0575168\n",
      "[53]\tvalid_0's auc: 0.826372\tvalid_0's binary_logloss: 0.0574976\n",
      "[54]\tvalid_0's auc: 0.826372\tvalid_0's binary_logloss: 0.0574792\n",
      "[55]\tvalid_0's auc: 0.826706\tvalid_0's binary_logloss: 0.0574409\n",
      "[56]\tvalid_0's auc: 0.826864\tvalid_0's binary_logloss: 0.057438\n",
      "[57]\tvalid_0's auc: 0.826905\tvalid_0's binary_logloss: 0.0574422\n",
      "[58]\tvalid_0's auc: 0.826975\tvalid_0's binary_logloss: 0.0574263\n",
      "[59]\tvalid_0's auc: 0.82712\tvalid_0's binary_logloss: 0.0574115\n",
      "[60]\tvalid_0's auc: 0.827197\tvalid_0's binary_logloss: 0.0573981\n",
      "[61]\tvalid_0's auc: 0.827234\tvalid_0's binary_logloss: 0.0573869\n",
      "[62]\tvalid_0's auc: 0.82749\tvalid_0's binary_logloss: 0.0573647\n",
      "[63]\tvalid_0's auc: 0.827749\tvalid_0's binary_logloss: 0.0573417\n",
      "[64]\tvalid_0's auc: 0.827863\tvalid_0's binary_logloss: 0.057328\n",
      "[65]\tvalid_0's auc: 0.828029\tvalid_0's binary_logloss: 0.0573193\n",
      "[66]\tvalid_0's auc: 0.828146\tvalid_0's binary_logloss: 0.05731\n",
      "[67]\tvalid_0's auc: 0.828286\tvalid_0's binary_logloss: 0.0572926\n",
      "[68]\tvalid_0's auc: 0.82828\tvalid_0's binary_logloss: 0.0572888\n",
      "[69]\tvalid_0's auc: 0.828259\tvalid_0's binary_logloss: 0.057288\n",
      "[70]\tvalid_0's auc: 0.82827\tvalid_0's binary_logloss: 0.0572888\n",
      "[71]\tvalid_0's auc: 0.828216\tvalid_0's binary_logloss: 0.057291\n",
      "[72]\tvalid_0's auc: 0.828252\tvalid_0's binary_logloss: 0.0572785\n",
      "[73]\tvalid_0's auc: 0.828437\tvalid_0's binary_logloss: 0.0572675\n",
      "[74]\tvalid_0's auc: 0.828332\tvalid_0's binary_logloss: 0.057278\n",
      "[75]\tvalid_0's auc: 0.828402\tvalid_0's binary_logloss: 0.0572722\n",
      "[76]\tvalid_0's auc: 0.828448\tvalid_0's binary_logloss: 0.0572643\n",
      "[77]\tvalid_0's auc: 0.828486\tvalid_0's binary_logloss: 0.0572496\n",
      "[78]\tvalid_0's auc: 0.828763\tvalid_0's binary_logloss: 0.0572345\n",
      "[79]\tvalid_0's auc: 0.828837\tvalid_0's binary_logloss: 0.0572213\n",
      "[80]\tvalid_0's auc: 0.828813\tvalid_0's binary_logloss: 0.0572269\n",
      "[81]\tvalid_0's auc: 0.828861\tvalid_0's binary_logloss: 0.0572266\n",
      "[82]\tvalid_0's auc: 0.828932\tvalid_0's binary_logloss: 0.0572223\n",
      "[83]\tvalid_0's auc: 0.828956\tvalid_0's binary_logloss: 0.0572262\n",
      "[84]\tvalid_0's auc: 0.829013\tvalid_0's binary_logloss: 0.0572165\n",
      "[85]\tvalid_0's auc: 0.829082\tvalid_0's binary_logloss: 0.057218\n",
      "[86]\tvalid_0's auc: 0.82895\tvalid_0's binary_logloss: 0.0572229\n",
      "[87]\tvalid_0's auc: 0.828927\tvalid_0's binary_logloss: 0.0572215\n",
      "[88]\tvalid_0's auc: 0.829025\tvalid_0's binary_logloss: 0.057211\n",
      "[89]\tvalid_0's auc: 0.829024\tvalid_0's binary_logloss: 0.0572147\n",
      "[90]\tvalid_0's auc: 0.829114\tvalid_0's binary_logloss: 0.0572116\n",
      "[91]\tvalid_0's auc: 0.829015\tvalid_0's binary_logloss: 0.0572388\n",
      "[92]\tvalid_0's auc: 0.829081\tvalid_0's binary_logloss: 0.0572379\n",
      "[93]\tvalid_0's auc: 0.829099\tvalid_0's binary_logloss: 0.057245\n",
      "[94]\tvalid_0's auc: 0.829052\tvalid_0's binary_logloss: 0.0572478\n",
      "[95]\tvalid_0's auc: 0.829137\tvalid_0's binary_logloss: 0.0572392\n",
      "[96]\tvalid_0's auc: 0.829185\tvalid_0's binary_logloss: 0.0572401\n",
      "[97]\tvalid_0's auc: 0.82926\tvalid_0's binary_logloss: 0.0572434\n",
      "[98]\tvalid_0's auc: 0.829264\tvalid_0's binary_logloss: 0.0572457\n",
      "Early stopping, best iteration is:\n",
      "[88]\tvalid_0's auc: 0.829025\tvalid_0's binary_logloss: 0.057211\n",
      "Estimating confidence intervals from 500 bootstrap samples...\n",
      "Constructing samples by sampling patient...\n",
      "Running jobs...\n",
      "Collating statistics\n",
      "Getting subsample of size None\n",
      "training set size: (8028758, 4488)\n",
      "[1]\tvalid_0's auc: 0.808262\tvalid_0's binary_logloss: 0.0654842\n",
      "Training until validation scores don't improve for 10 rounds\n",
      "[2]\tvalid_0's auc: 0.810376\tvalid_0's binary_logloss: 0.0646113\n",
      "[3]\tvalid_0's auc: 0.811938\tvalid_0's binary_logloss: 0.0638849\n",
      "[4]\tvalid_0's auc: 0.814784\tvalid_0's binary_logloss: 0.0632849\n",
      "[5]\tvalid_0's auc: 0.815247\tvalid_0's binary_logloss: 0.0627506\n",
      "[6]\tvalid_0's auc: 0.815482\tvalid_0's binary_logloss: 0.0622942\n",
      "[7]\tvalid_0's auc: 0.816187\tvalid_0's binary_logloss: 0.0618973\n",
      "[8]\tvalid_0's auc: 0.816616\tvalid_0's binary_logloss: 0.0615289\n",
      "[9]\tvalid_0's auc: 0.81804\tvalid_0's binary_logloss: 0.0612145\n",
      "[10]\tvalid_0's auc: 0.818437\tvalid_0's binary_logloss: 0.0609392\n",
      "[11]\tvalid_0's auc: 0.818871\tvalid_0's binary_logloss: 0.0606713\n",
      "[12]\tvalid_0's auc: 0.819311\tvalid_0's binary_logloss: 0.0604259\n",
      "[13]\tvalid_0's auc: 0.81954\tvalid_0's binary_logloss: 0.0601964\n",
      "[14]\tvalid_0's auc: 0.820267\tvalid_0's binary_logloss: 0.0599701\n",
      "[15]\tvalid_0's auc: 0.820589\tvalid_0's binary_logloss: 0.0597719\n",
      "[16]\tvalid_0's auc: 0.820736\tvalid_0's binary_logloss: 0.0596093\n",
      "[17]\tvalid_0's auc: 0.820732\tvalid_0's binary_logloss: 0.0594588\n",
      "[18]\tvalid_0's auc: 0.820721\tvalid_0's binary_logloss: 0.0593169\n",
      "[19]\tvalid_0's auc: 0.819537\tvalid_0's binary_logloss: 0.0593134\n",
      "[20]\tvalid_0's auc: 0.819829\tvalid_0's binary_logloss: 0.059186\n",
      "[21]\tvalid_0's auc: 0.820232\tvalid_0's binary_logloss: 0.0590614\n",
      "[22]\tvalid_0's auc: 0.820501\tvalid_0's binary_logloss: 0.0589429\n",
      "[23]\tvalid_0's auc: 0.820848\tvalid_0's binary_logloss: 0.0588194\n",
      "[24]\tvalid_0's auc: 0.820824\tvalid_0's binary_logloss: 0.05873\n",
      "[25]\tvalid_0's auc: 0.821079\tvalid_0's binary_logloss: 0.0586298\n",
      "[26]\tvalid_0's auc: 0.821913\tvalid_0's binary_logloss: 0.0585547\n",
      "[27]\tvalid_0's auc: 0.822202\tvalid_0's binary_logloss: 0.0584776\n",
      "[28]\tvalid_0's auc: 0.822659\tvalid_0's binary_logloss: 0.0583972\n",
      "[29]\tvalid_0's auc: 0.822807\tvalid_0's binary_logloss: 0.0583366\n",
      "[30]\tvalid_0's auc: 0.823175\tvalid_0's binary_logloss: 0.058253\n",
      "[31]\tvalid_0's auc: 0.823436\tvalid_0's binary_logloss: 0.0581942\n",
      "[32]\tvalid_0's auc: 0.823529\tvalid_0's binary_logloss: 0.0581586\n",
      "[33]\tvalid_0's auc: 0.823709\tvalid_0's binary_logloss: 0.0581113\n",
      "[34]\tvalid_0's auc: 0.824005\tvalid_0's binary_logloss: 0.0580505\n",
      "[35]\tvalid_0's auc: 0.824085\tvalid_0's binary_logloss: 0.058024\n",
      "[36]\tvalid_0's auc: 0.82432\tvalid_0's binary_logloss: 0.0579801\n",
      "[37]\tvalid_0's auc: 0.82457\tvalid_0's binary_logloss: 0.0579346\n",
      "[38]\tvalid_0's auc: 0.824833\tvalid_0's binary_logloss: 0.0578874\n",
      "[39]\tvalid_0's auc: 0.825172\tvalid_0's binary_logloss: 0.0578365\n",
      "[40]\tvalid_0's auc: 0.825125\tvalid_0's binary_logloss: 0.0578162\n",
      "[41]\tvalid_0's auc: 0.825118\tvalid_0's binary_logloss: 0.0577878\n",
      "[42]\tvalid_0's auc: 0.825189\tvalid_0's binary_logloss: 0.0577783\n",
      "[43]\tvalid_0's auc: 0.825213\tvalid_0's binary_logloss: 0.0577518\n",
      "[44]\tvalid_0's auc: 0.825387\tvalid_0's binary_logloss: 0.0577355\n",
      "[45]\tvalid_0's auc: 0.825344\tvalid_0's binary_logloss: 0.0577224\n",
      "[46]\tvalid_0's auc: 0.825142\tvalid_0's binary_logloss: 0.0577538\n",
      "[47]\tvalid_0's auc: 0.825063\tvalid_0's binary_logloss: 0.0577588\n",
      "[48]\tvalid_0's auc: 0.825033\tvalid_0's binary_logloss: 0.0577419\n",
      "[49]\tvalid_0's auc: 0.825125\tvalid_0's binary_logloss: 0.0577272\n",
      "[50]\tvalid_0's auc: 0.825207\tvalid_0's binary_logloss: 0.0577068\n",
      "[51]\tvalid_0's auc: 0.825195\tvalid_0's binary_logloss: 0.0576885\n",
      "[52]\tvalid_0's auc: 0.825238\tvalid_0's binary_logloss: 0.0576894\n",
      "[53]\tvalid_0's auc: 0.825365\tvalid_0's binary_logloss: 0.0576782\n",
      "[54]\tvalid_0's auc: 0.825326\tvalid_0's binary_logloss: 0.057678\n",
      "Early stopping, best iteration is:\n",
      "[44]\tvalid_0's auc: 0.825387\tvalid_0's binary_logloss: 0.0577355\n",
      "Estimating confidence intervals from 500 bootstrap samples...\n",
      "Constructing samples by sampling patient...\n",
      "Running jobs...\n",
      "Collating statistics\n"
     ]
    }
   ],
   "source": [
    "import lightgbm as lgb \n",
    "\n",
    "lgb_params = {\n",
    "    'boosting': 'gbdt', \n",
    "    'objective': 'binary',\n",
    "    'metric': ['auc', 'binary'],\n",
    "    'learning_rate': 0.05,\n",
    "    'n_estimators': 1000,\n",
    "    'max_depth': -1, \n",
    "    'num_threads': 32,\n",
    "    'num_leaves': 63, \n",
    "    'verbose': 0,\n",
    "    'two_round': True, \n",
    "    'early_stopping_rounds': 10,\n",
    "}\n",
    "\n",
    "stats_list = []\n",
    "train_set_sizes = [1003595, 2007190, 4014379, None]\n",
    "for train_set_size in train_set_sizes: \n",
    "    print(f\"Getting subsample of size {train_set_size}\")\n",
    "    if train_set_size is not None: \n",
    "        indices = np.random.choice(train_x.shape[0], train_set_size)\n",
    "        this_train_x = train_x[indices]\n",
    "        this_train_y = train_y[indices]\n",
    "    else: \n",
    "        this_train_x = train_x\n",
    "        this_train_y = train_y\n",
    "    print(f\"training set size: {this_train_x.shape}\")\n",
    "\n",
    "    train_data = lgb.Dataset(this_train_x, label=(this_train_y))\n",
    "    valid_data = lgb.Dataset(val_x, label=(val_y))\n",
    "\n",
    "    model = lgb.train(lgb_params, \n",
    "                      train_set=train_data, \n",
    "                      valid_sets=[valid_data])\n",
    "    test_yhat = model.predict(test_x)\n",
    "\n",
    "    stats, _ = perf_utils.bootstrap_confidence_intervals(test_y, test_yhat, test_ptimes, B=500, sample_by='patient')\n",
    "    stats_list.append(stats)\n"
   ]
  },
  {
   "cell_type": "markdown",
   "metadata": {},
   "source": [
    "## Make a plot... "
   ]
  },
  {
   "cell_type": "code",
   "execution_count": 35,
   "metadata": {},
   "outputs": [],
   "source": [
    "import matplotlib.pyplot as plt"
   ]
  },
  {
   "cell_type": "code",
   "execution_count": 51,
   "metadata": {},
   "outputs": [
    {
     "data": {
      "text/html": [
       "<div>\n",
       "<style scoped>\n",
       "    .dataframe tbody tr th:only-of-type {\n",
       "        vertical-align: middle;\n",
       "    }\n",
       "\n",
       "    .dataframe tbody tr th {\n",
       "        vertical-align: top;\n",
       "    }\n",
       "\n",
       "    .dataframe thead th {\n",
       "        text-align: right;\n",
       "    }\n",
       "</style>\n",
       "<table border=\"1\" class=\"dataframe\">\n",
       "  <thead>\n",
       "    <tr style=\"text-align: right;\">\n",
       "      <th></th>\n",
       "      <th>Statistic</th>\n",
       "      <th>Lower CI</th>\n",
       "      <th>Upper CI</th>\n",
       "    </tr>\n",
       "  </thead>\n",
       "  <tbody>\n",
       "    <tr>\n",
       "      <th>Saiva Recall at top K</th>\n",
       "      <td>0.473116</td>\n",
       "      <td>0.453196</td>\n",
       "      <td>0.495980</td>\n",
       "    </tr>\n",
       "    <tr>\n",
       "      <th>Recall at top K</th>\n",
       "      <td>0.158494</td>\n",
       "      <td>0.147724</td>\n",
       "      <td>0.168559</td>\n",
       "    </tr>\n",
       "    <tr>\n",
       "      <th>AUROC</th>\n",
       "      <td>0.501351</td>\n",
       "      <td>0.492049</td>\n",
       "      <td>0.508589</td>\n",
       "    </tr>\n",
       "    <tr>\n",
       "      <th>ave Precision</th>\n",
       "      <td>0.012406</td>\n",
       "      <td>0.011747</td>\n",
       "      <td>0.013073</td>\n",
       "    </tr>\n",
       "  </tbody>\n",
       "</table>\n",
       "</div>"
      ],
      "text/plain": [
       "                       Statistic  Lower CI  Upper CI\n",
       "Saiva Recall at top K   0.473116  0.453196  0.495980\n",
       "Recall at top K         0.158494  0.147724  0.168559\n",
       "AUROC                   0.501351  0.492049  0.508589\n",
       "ave Precision           0.012406  0.011747  0.013073"
      ]
     },
     "execution_count": 51,
     "metadata": {},
     "output_type": "execute_result"
    }
   ],
   "source": [
    "rand_stats = np.array([[0.473116,0.453196,0.49598],\n",
    "                       [0.158494,0.147724,0.168559],\n",
    "                       [0.501351,0.492049,0.508589],\n",
    "                       [0.012406,0.011747,0.013073]])\n",
    "rand_stats = pd.DataFrame(rand_stats)\n",
    "rand_stats.index = ['Saiva Recall at top K', 'Recall at top K', 'AUROC', 'ave Precision']\n",
    "rand_stats.columns = ['Statistic', 'Lower CI', 'Upper CI']\n",
    "rand_stats"
   ]
  },
  {
   "cell_type": "code",
   "execution_count": 52,
   "metadata": {},
   "outputs": [],
   "source": [
    "all_stats_list = [rand_stats]\n",
    "all_stats_list.extend(stats_list)\n",
    "names = ['Random', '1/8 data', '1/4 data', '1/2 data', 'all']"
   ]
  },
  {
   "cell_type": "code",
   "execution_count": 59,
   "metadata": {},
   "outputs": [],
   "source": [
    "def make_barplot(stat_name, stats_list, names): \n",
    "    feature_sets = names\n",
    "    statistics, errs = [], []\n",
    "    for stats_df in stats_list: \n",
    "        stats_record = stats_df.loc[stat_name]\n",
    "        statistics.append(stats_record.Statistic)\n",
    "        errs.append((stats_record['Upper CI'] - stats_record['Lower CI'])/2.)\n",
    "\n",
    "    statistics = np.array(statistics)\n",
    "    errs = np.array(errs)\n",
    "    x_pos = np.arange(len(names))\n",
    "\n",
    "    fig, ax = plt.subplots(figsize=(6,4))\n",
    "    ax.bar(x_pos, statistics, yerr=errs, capsize=4, align='center', alpha=0.5)\n",
    "    ax.set_xticks(x_pos)\n",
    "    ax.set_xticklabels(names)\n",
    "    plt.xlabel('Feature Set')\n",
    "    plt.ylabel(stat_name)\n",
    "    plt.title(stat_name)xX\n",
    "\n",
    "    fig.tight_layout()\n"
   ]
  },
  {
   "cell_type": "code",
   "execution_count": 60,
   "metadata": {},
   "outputs": [
    {
     "data": {
      "image/png": "[encoded data removed]",
      "text/plain": [
       "<Figure size 432x288 with 1 Axes>"
      ]
     },
     "metadata": {
      "needs_background": "light"
     },
     "output_type": "display_data"
    }
   ],
   "source": [
    "make_barplot('Saiva Recall at top K', all_stats_list, names)"
   ]
  },
  {
   "cell_type": "code",
   "execution_count": 61,
   "metadata": {},
   "outputs": [
    {
     "data": {
      "image/png": "[encoded data removed]",
      "text/plain": [
       "<Figure size 432x288 with 1 Axes>"
      ]
     },
     "metadata": {
      "needs_background": "light"
     },
     "output_type": "display_data"
    }
   ],
   "source": [
    "make_barplot('Recall at top K', all_stats_list, names)"
   ]
  },
  {
   "cell_type": "code",
   "execution_count": 62,
   "metadata": {},
   "outputs": [
    {
     "data": {
      "image/png": "[encoded data removed]",
      "text/plain": [
       "<Figure size 432x288 with 1 Axes>"
      ]
     },
     "metadata": {
      "needs_background": "light"
     },
     "output_type": "display_data"
    }
   ],
   "source": [
    "make_barplot('AUROC', all_stats_list, names)"
   ]
  },
  {
   "cell_type": "code",
   "execution_count": 63,
   "metadata": {},
   "outputs": [
    {
     "data": {
      "image/png": "[encoded data removed]",
      "text/plain": [
       "<Figure size 432x288 with 1 Axes>"
      ]
     },
     "metadata": {
      "needs_background": "light"
     },
     "output_type": "display_data"
    }
   ],
   "source": [
    "make_barplot('ave Precision', all_stats_list, names)"
   ]
  },
  {
   "cell_type": "code",
   "execution_count": null,
   "metadata": {},
   "outputs": [],
   "source": []
  }
 ],
 "metadata": {
  "kernelspec": {
   "display_name": "Python 3",
   "language": "python",
   "name": "python3"
  },
  "language_info": {
   "codemirror_mode": {
    "name": "ipython",
    "version": 3
   },
   "file_extension": ".py",
   "mimetype": "text/x-python",
   "name": "python",
   "nbconvert_exporter": "python",
   "pygments_lexer": "ipython3",
   "version": "3.7.7"
  }
 },
 "nbformat": 4,
 "nbformat_minor": 4
}
