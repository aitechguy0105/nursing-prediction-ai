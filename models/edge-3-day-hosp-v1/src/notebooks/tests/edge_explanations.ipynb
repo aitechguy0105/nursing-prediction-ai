{
 "cells": [
  {
   "cell_type": "code",
   "execution_count": null,
   "metadata": {},
   "outputs": [],
   "source": [
    "import numpy as np\n",
    "import pandas as pd\n",
    "import sys\n",
    "sys.path.insert(0, '/src')\n",
    "import run_model\n",
    "import shap\n",
    "from data_models import BaseModel"
   ]
  },
  {
   "cell_type": "code",
   "execution_count": null,
   "metadata": {},
   "outputs": [],
   "source": [
    "client='infinity-infinity'\n",
    "facilityids = [75]\n",
    "prediction_date = '2020-02-15'\n",
    "s3_bucket = 'saiva-dev-data-bucket'\n",
    "test = True"
   ]
  },
  {
   "cell_type": "code",
   "execution_count": null,
   "metadata": {},
   "outputs": [],
   "source": [
    "from shared.constants import MODELS\n",
    "modelid = MODELS[client][facilityids[0]]\n",
    "modelid"
   ]
  },
  {
   "cell_type": "code",
   "execution_count": null,
   "metadata": {},
   "outputs": [],
   "source": [
    "predict_obj = run_model.RunPredictions()"
   ]
  },
  {
   "cell_type": "code",
   "execution_count": null,
   "metadata": {},
   "outputs": [],
   "source": [
    "predict_obj.run_model(client, s3_bucket, prediction_date, facilityids, test)"
   ]
  },
  {
   "cell_type": "code",
   "execution_count": null,
   "metadata": {},
   "outputs": [],
   "source": [
    "explainer = shap.TreeExplainer(predict_obj.clf.model)\n",
    "shap_values = explainer.shap_values(predict_obj.final_csr)"
   ]
  },
  {
   "cell_type": "code",
   "execution_count": null,
   "metadata": {},
   "outputs": [],
   "source": [
    "final_x = pd.DataFrame.sparse.from_spmatrix(predict_obj.final_csr)\n",
    "final_x.shape"
   ]
  },
  {
   "cell_type": "code",
   "execution_count": null,
   "metadata": {},
   "outputs": [],
   "source": [
    "final_idens = predict_obj.idens\n",
    "final_idens"
   ]
  },
  {
   "cell_type": "code",
   "execution_count": null,
   "metadata": {},
   "outputs": [],
   "source": [
    "# get the column names used by the model\n",
    "all_colnames = pd.read_csv(\n",
    "            f'/data/models/{modelid}/artifacts/input_features.csv')\n",
    "all_colnames"
   ]
  },
  {
   "cell_type": "code",
   "execution_count": null,
   "metadata": {},
   "outputs": [],
   "source": [
    "shap_results = []\n",
    "\n",
    "for idx, row in final_x.iterrows():\n",
    "    shaps = pd.DataFrame(\n",
    "        {\n",
    "            \"feature\": all_colnames.feature.values,\n",
    "            \"attribution_score\": shap_values[1][idx],\n",
    "            \"feature_value\": final_x.iloc[idx],\n",
    "        }\n",
    "    )\n",
    "\n",
    "    shaps[\"masterpatientid\"] = final_idens.iloc[idx].masterpatientid\n",
    "    shaps[\"facilityid\"] = final_idens.iloc[idx].facilityid\n",
    "    shaps[\"censusdate\"] = final_idens.iloc[idx].censusdate\n",
    "\n",
    "    shap_results.append(shaps)\n",
    "print(len(shap_results))"
   ]
  },
  {
   "cell_type": "code",
   "execution_count": null,
   "metadata": {},
   "outputs": [],
   "source": [
    "results = pd.concat(shap_results)\n",
    "results"
   ]
  },
  {
   "cell_type": "code",
   "execution_count": null,
   "metadata": {},
   "outputs": [],
   "source": [
    "results[\"attribution_rank\"] = results.groupby(['masterpatientid', 'facilityid']).attribution_score.rank(\n",
    "        ascending=False)\n",
    "results"
   ]
  },
  {
   "cell_type": "code",
   "execution_count": null,
   "metadata": {},
   "outputs": [],
   "source": [
    "results[(results.masterpatientid == 97992)].sort_values(\"attribution_rank\")"
   ]
  },
  {
   "cell_type": "code",
   "execution_count": null,
   "metadata": {},
   "outputs": [],
   "source": [
    "results[\"client\"] = predict_obj.client\n",
    "results[\"modelid\"] = modelid\n",
    "results['censusdate'] = pd.to_datetime(results.censusdate)\n",
    "results"
   ]
  },
  {
   "cell_type": "code",
   "execution_count": null,
   "metadata": {},
   "outputs": [],
   "source": [
    "results.dtypes"
   ]
  },
  {
   "cell_type": "code",
   "execution_count": null,
   "metadata": {},
   "outputs": [],
   "source": [
    "def process_attributions(attributions):    \n",
    "    type_mapping_dict = {\n",
    "        r'^rx_.*' : 'Medication',\n",
    "        r'^dx_.*' : 'Diagnosis',\n",
    "        r'^vitals_.*': 'Vital',\n",
    "        r'^demo_.*': 'Demographic',\n",
    "        r'^notes_swem_.*': 'Progress Note',\n",
    "        r'^stays_.*': 'Stays',\n",
    "    }\n",
    "    \n",
    "    prefix_remover_dict = {\n",
    "        r'^rx_' : '',\n",
    "        r'^dx_' : 'Code ',\n",
    "        r'^vitals_': '',\n",
    "        r'^demo_': '',\n",
    "        r'^notes_swem_': '',\n",
    "        r'^stays_': '',\n",
    "    }\n",
    "\n",
    "    attributions['feature_type'] = attributions['feature'].replace(type_mapping_dict, regex=True)\n",
    "    attributions['feature_suffix'] = attributions['feature'].replace(prefix_remover_dict, regex=True)\n",
    "    attributions['human_readable_name'] = (attributions['feature_type'] + ' ' + attributions['feature_suffix'] + '; feature_value: ' + attributions['feature_value'].astype(str)).sparse.to_dense()\n",
    "    attributions['mapping_status'] = 'MAPPED'\n",
    "    \n",
    "    return attributions"
   ]
  },
  {
   "cell_type": "code",
   "execution_count": null,
   "metadata": {},
   "outputs": [],
   "source": [
    "results = process_attributions(results)\n",
    "results[results.attribution_rank < 10].sort_values(['masterpatientid', 'attribution_rank'])"
   ]
  },
  {
   "cell_type": "code",
   "execution_count": null,
   "metadata": {},
   "outputs": [],
   "source": [
    "final = (\n",
    "        results\n",
    "        .loc[\n",
    "            results.attribution_rank <= 100\n",
    "        ]\n",
    "    )\n",
    "final"
   ]
  },
  {
   "cell_type": "code",
   "execution_count": null,
   "metadata": {},
   "outputs": [],
   "source": [
    "final['feature_type'].value_counts()"
   ]
  },
  {
   "cell_type": "code",
   "execution_count": null,
   "metadata": {},
   "outputs": [],
   "source": [
    "final.dtypes"
   ]
  },
  {
   "cell_type": "code",
   "execution_count": null,
   "metadata": {},
   "outputs": [],
   "source": [
    "db_engine = predict_obj.saiva_engine\n",
    "db_engine"
   ]
  },
  {
   "cell_type": "code",
   "execution_count": null,
   "metadata": {},
   "outputs": [],
   "source": [
    "db_engine.execute(\n",
    "    f\"\"\"delete from shap_values where censusdate = '{prediction_date}' and facilityid = '{facilityids[0]}' and client = '{client}' and modelid = '{modelid}'\"\"\"\n",
    ")\n",
    "\n",
    "final.to_sql(\n",
    "    \"shap_values\", db_engine, if_exists=\"append\", index=False, method=\"multi\"\n",
    ")"
   ]
  },
  {
   "cell_type": "code",
   "execution_count": null,
   "metadata": {},
   "outputs": [],
   "source": []
  }
 ],
 "metadata": {
  "kernelspec": {
   "display_name": "Python 3",
   "language": "python",
   "name": "python3"
  },
  "language_info": {
   "codemirror_mode": {
    "name": "ipython",
    "version": 3
   },
   "file_extension": ".py",
   "mimetype": "text/x-python",
   "name": "python",
   "nbconvert_exporter": "python",
   "pygments_lexer": "ipython3",
   "version": "3.7.7"
  }
 },
 "nbformat": 4,
 "nbformat_minor": 4
}
