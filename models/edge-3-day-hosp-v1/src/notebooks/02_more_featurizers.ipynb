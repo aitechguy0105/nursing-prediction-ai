{
 "cells": [
  {
   "cell_type": "markdown",
   "metadata": {},
   "source": [
    "# More features... \n",
    "* Demographics (age, race, etc)\n",
    "* Previous stays\n",
    "* Notes"
   ]
  },
  {
   "cell_type": "code",
   "execution_count": null,
   "metadata": {},
   "outputs": [],
   "source": [
    "import sys\n",
    "import pickle as pkl\n",
    "import scipy\n",
    "\n",
    "%load_ext autoreload\n",
    "%autoreload 2"
   ]
  },
  {
   "cell_type": "code",
   "execution_count": null,
   "metadata": {},
   "outputs": [],
   "source": [
    "sys.path.append('/src')\n",
    "from shared.featurizers import Featurizer2\n",
    "from shared.load_raw_data import load_raw_data_from_files\n",
    "from eliot import to_file\n",
    "to_file(sys.stdout)"
   ]
  },
  {
   "cell_type": "code",
   "execution_count": null,
   "metadata": {},
   "outputs": [],
   "source": [
    "\n",
    "data_dict = load_raw_data_from_files('/data/raw')"
   ]
  },
  {
   "cell_type": "code",
   "execution_count": null,
   "metadata": {},
   "outputs": [],
   "source": [
    "with open(\"/data/processed/prediction_times.pkl\", 'rb') as f_in: \n",
    "    prediction_times = pkl.load(f_in)\n",
    "\n",
    "    \n",
    "with open('/data/processed/feature_colnames.pkl', 'rb') as f_in: feature1_names = pkl.load(f_in)\n",
    "feature1_csr = scipy.sparse.load_npz('/data/processed/features_csr.npz')"
   ]
  },
  {
   "cell_type": "code",
   "execution_count": null,
   "metadata": {},
   "outputs": [],
   "source": [
    "%%time\n",
    "\n",
    "featurizer2 = Featurizer2(data_dict, prediction_times)\n",
    "feature_csr, feature_names = featurizer2.process(feature1_csr, feature1_names)"
   ]
  },
  {
   "cell_type": "code",
   "execution_count": null,
   "metadata": {},
   "outputs": [],
   "source": [
    "# Save for later use\n",
    "scipy.sparse.save_npz('/data/processed/final_csr.npz', feature_csr)\n",
    "with open('/data/processed/final_colnames.pkl', 'wb') as f_out:\n",
    "    pkl.dump(feature_names, file=f_out)"
   ]
  },
  {
   "cell_type": "markdown",
   "metadata": {},
   "source": [
    "## ========================END======================="
   ]
  }
 ],
 "metadata": {
  "kernelspec": {
   "display_name": "Python 3",
   "language": "python",
   "name": "python3"
  },
  "language_info": {
   "codemirror_mode": {
    "name": "ipython",
    "version": 3
   },
   "file_extension": ".py",
   "mimetype": "text/x-python",
   "name": "python",
   "nbconvert_exporter": "python",
   "pygments_lexer": "ipython3",
   "version": "3.7.7"
  }
 },
 "nbformat": 4,
 "nbformat_minor": 4
}
