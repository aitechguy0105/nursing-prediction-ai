{
 "cells": [
  {
   "cell_type": "code",
   "execution_count": null,
   "metadata": {},
   "outputs": [],
   "source": [
    "import sys\n",
    "from pathlib import Path\n",
    "\n",
    "from omegaconf import OmegaConf\n",
    "\n",
    "sys.path.insert(0, '/src')\n",
    "from shared.demographics import DemographicFeatures\n",
    "from shared.labs import LabFeatures\n",
    "from shared.meds import MedFeatures\n",
    "from shared.orders import OrderFeatures\n",
    "from shared.vitals import VitalFeatures\n",
    "from shared.alerts import AlertFeatures\n",
    "from shared.rehosp import RehospFeatures\n",
    "from shared.notes import NoteFeatures\n",
    "from shared.diagnosis import DiagnosisFeatures\n",
    "from shared.patient_census import PatientCensus\n",
    "from shared.admissions import AdmissionFeatures\n",
    "import pandas as pd\n",
    "\n",
    "from shared.load_raw_data import fetch_training_cache_data\n",
    "from shared.utils import get_client_class, get_memory_usage\n",
    "from eliot import start_action, start_task, to_file, log_message\n",
    "to_file(sys.stdout)"
   ]
  },
  {
   "cell_type": "markdown",
   "metadata": {},
   "source": [
    "## Load config"
   ]
  },
  {
   "cell_type": "code",
   "execution_count": null,
   "metadata": {},
   "outputs": [],
   "source": [
    "from shared.constants import saiva_api, LOCAL_TRAINING_CONFIG_PATH\n",
    "from shared.utils import load_config\n",
    "\n",
    "config = load_config(LOCAL_TRAINING_CONFIG_PATH)\n",
    "training_config = config.training_config"
   ]
  },
  {
   "cell_type": "code",
   "execution_count": null,
   "metadata": {},
   "outputs": [],
   "source": [
    "pd.set_option('display.max_rows', None)\n",
    "pd.set_option('display.max_columns', None)\n",
    "pd.set_option('display.width', None)\n",
    "pd.set_option('display.max_colwidth', -1)"
   ]
  },
  {
   "cell_type": "code",
   "execution_count": null,
   "metadata": {},
   "outputs": [],
   "source": [
    "# Load the data from local directory cache \n",
    "\n",
    "processed_path = Path('/data/processed')\n",
    "processed_path.mkdir(parents=True, exist_ok=True)\n",
    "\n",
    "# Replace this if necessary\n",
    "CLIENT = training_config.ml_model_org_configs[0].organization_id\n",
    "\n",
    "result_dict = fetch_training_cache_data(client=CLIENT, generic=True)\n",
    "for key, value in result_dict.items():\n",
    "    print(f'{key} : {result_dict[key].shape}')"
   ]
  },
  {
   "cell_type": "code",
   "execution_count": null,
   "metadata": {},
   "outputs": [],
   "source": [
    "training = True\n",
    "\n",
    "TRAIN_START_DATE = training_config.training_metadata.experiment_dates.train_start_date\n",
    "TEST_END_DATE = training_config.training_metadata.experiment_dates.test_end_date\n",
    "\n",
    "model_version = saiva_api.model_types.get_by_model_type_id(model_type_id=training_config.model_type, version=training_config.model_version)\n",
    "\n",
    "print(TRAIN_START_DATE)\n",
    "print(TEST_END_DATE)\n",
    "print(training)\n",
    "print(model_version.model_type_id, model_version.id)"
   ]
  },
  {
   "cell_type": "code",
   "execution_count": null,
   "metadata": {},
   "outputs": [],
   "source": [
    "training_metadata = training_config.training_metadata\n",
    "training_metadata['model_type_version_id'] = model_version.id\n",
    "\n",
    "print(training_metadata)\n",
    "\n",
    "conf = OmegaConf.create({'training_config': {'training_metadata': training_metadata}})\n",
    "OmegaConf.save(conf, f'{LOCAL_TRAINING_CONFIG_PATH}generated/training_metadata.yaml')"
   ]
  },
  {
   "cell_type": "code",
   "execution_count": null,
   "metadata": {},
   "outputs": [],
   "source": [
    "# read from parquet file\n",
    "# census_df = pd.read_parquet(processed_path/'census_df.parquet')"
   ]
  },
  {
   "cell_type": "code",
   "execution_count": null,
   "metadata": {},
   "outputs": [],
   "source": [
    "%%time\n",
    "\n",
    "print(TRAIN_START_DATE)\n",
    "\n",
    "rehosp_df = result_dict.get('patient_rehosps', None)\n",
    "rehosp_df = rehosp_df.query('dateoftransfer > @TRAIN_START_DATE').copy()\n",
    "\n",
    "patient_census = PatientCensus(\n",
    "            census_df=result_dict.get('patient_census', None),\n",
    "            train_start_date=TRAIN_START_DATE,\n",
    "            test_end_date=TEST_END_DATE,\n",
    "            rehosp_df=rehosp_df,\n",
    "        )\n",
    "census_df = patient_census.generate_features()\n",
    "\n",
    "# Write to new parquet file\n",
    "census_df.to_parquet(processed_path/'census_df.parquet')\n",
    "\n",
    "print(census_df.shape)\n",
    "census_df.head(3)"
   ]
  },
  {
   "cell_type": "code",
   "execution_count": null,
   "metadata": {},
   "outputs": [],
   "source": [
    "%%time\n",
    "\n",
    "demo = DemographicFeatures(\n",
    "            census_df=census_df.copy(),\n",
    "            demo_df=result_dict.get('patient_demographics', None),\n",
    "            training=training\n",
    "        )\n",
    "demo_df = demo.generate_features()\n",
    "\n",
    "# Write to new parquet file\n",
    "demo_df.to_parquet(processed_path/'demo_df.parquet')\n",
    "\n",
    "print(demo_df.shape)\n",
    "demo_df.head(3)"
   ]
  },
  {
   "cell_type": "code",
   "execution_count": null,
   "metadata": {},
   "outputs": [],
   "source": [
    "%%time\n",
    "\n",
    "vitals = VitalFeatures(\n",
    "            census_df=census_df.copy(),\n",
    "            vitals=result_dict.get('patient_vitals', None),\n",
    "            training=training)\n",
    "vitals_df = vitals.generate_features()\n",
    "\n",
    "# Write to new parquet file\n",
    "vitals_df.to_parquet(processed_path/'vitals_df.parquet')\n",
    "\n",
    "print(vitals_df.shape)\n",
    "vitals_df.head(3)"
   ]
  },
  {
   "cell_type": "code",
   "execution_count": null,
   "metadata": {},
   "outputs": [],
   "source": [
    "# %%time\n",
    "\n",
    "# if not result_dict.get('patient_orders', pd.DataFrame()).empty:\n",
    "#     orders = OrderFeatures(\n",
    "#                 census_df=census_df.copy(),\n",
    "#                 orders=result_dict.get('patient_orders', None),\n",
    "#                 training=training)\n",
    "#     orders_df = orders.generate_features()\n",
    "\n",
    "#     # Write to new parquet file\n",
    "#     orders_df.to_parquet(processed_path/'orders_df.parquet')\n",
    "\n",
    "#     print(orders_df.shape)\n",
    "#     orders_df.head(3)"
   ]
  },
  {
   "cell_type": "code",
   "execution_count": null,
   "metadata": {},
   "outputs": [],
   "source": [
    "# %%time\n",
    "\n",
    "if not result_dict.get('patient_meds', pd.DataFrame()).empty:\n",
    "    meds = MedFeatures(\n",
    "                census_df=census_df.copy(),\n",
    "                meds=result_dict.get('patient_meds', None),\n",
    "                training=training)\n",
    "    meds_df,result_dict['patient_meds'] = meds.generate_features()\n",
    "\n",
    "    # Write to new parquet file\n",
    "    meds_df.to_parquet(processed_path/'meds_df.parquet')\n",
    "\n",
    "    print(meds_df.shape)\n",
    "    meds_df.head(3)"
   ]
  },
  {
   "cell_type": "code",
   "execution_count": null,
   "metadata": {},
   "outputs": [],
   "source": [
    "# %%time\n",
    "\n",
    "# alerts = AlertFeatures(\n",
    "#             census_df=census_df.copy(),\n",
    "#             alerts=result_dict.get('patient_alerts', None),\n",
    "#             training=training)\n",
    "# alerts_df = alerts.generate_features()\n",
    "\n",
    "# # Write to new parquet file\n",
    "# alerts_df.to_parquet(processed_path/'alerts_df.parquet')\n",
    "\n",
    "# print(alerts_df.shape)\n",
    "# alerts_df.head(3)"
   ]
  },
  {
   "cell_type": "code",
   "execution_count": null,
   "metadata": {},
   "outputs": [],
   "source": [
    "# %%time\n",
    "\n",
    "if not result_dict.get('patient_lab_results', pd.DataFrame()).empty:\n",
    "    labs = LabFeatures(\n",
    "                census_df=census_df.copy(),\n",
    "                labs=result_dict.get('patient_lab_results', None),\n",
    "                training=training)\n",
    "    labs_df = labs.generate_features()\n",
    "\n",
    "    # Write to new parquet file\n",
    "    labs_df.to_parquet(processed_path/'labs_df.parquet')\n",
    "\n",
    "    print(labs_df.shape)\n",
    "    labs_df.head(3)"
   ]
  },
  {
   "cell_type": "code",
   "execution_count": null,
   "metadata": {},
   "outputs": [],
   "source": [
    "%%time\n",
    "\n",
    "if not result_dict.get('patient_rehosps', pd.DataFrame()).empty:\n",
    "    rehosp = RehospFeatures(\n",
    "            census_df=census_df.copy(),\n",
    "            rehosps=result_dict.get('patient_rehosps', None),\n",
    "            training=training\n",
    "    )\n",
    "    rehosp_df = rehosp.generate_features()\n",
    "\n",
    "    # Write to new parquet file\n",
    "    rehosp_df.to_parquet(processed_path/'rehosp_df.parquet')\n",
    "\n",
    "    print(rehosp_df.shape)\n",
    "    rehosp_df.head(3)"
   ]
  },
  {
   "cell_type": "code",
   "execution_count": null,
   "metadata": {},
   "outputs": [],
   "source": [
    "%%time\n",
    "\n",
    "if not result_dict.get('patient_admissions', pd.DataFrame()).empty:\n",
    "    admissions = AdmissionFeatures(\n",
    "            census_df=census_df.copy(),\n",
    "            admissions=result_dict.get('patient_admissions', None),\n",
    "            training=training\n",
    "    )\n",
    "    admissions_df = admissions.generate_features()\n",
    "\n",
    "    # Write to new parquet file\n",
    "    admissions_df.to_parquet(processed_path/'admissions_df.parquet')\n",
    "\n",
    "    print(admissions_df.shape)\n",
    "    admissions_df.head(3)"
   ]
  },
  {
   "cell_type": "code",
   "execution_count": null,
   "metadata": {},
   "outputs": [],
   "source": [
    "%%time\n",
    "\n",
    "if not result_dict.get('patient_diagnosis', pd.DataFrame()).empty:\n",
    "    diagnosis = DiagnosisFeatures(\n",
    "                census_df=census_df.copy(),\n",
    "                diagnosis=result_dict.get('patient_diagnosis', None),\n",
    "                diagnosis_lookup_ccs_s3_file_path=model_version.diagnosis_lookup_ccs_s3_uri,\n",
    "                training=training)\n",
    "    diagnosis_df, result_dict['patient_diagnosis'] = diagnosis.generate_features()\n",
    "\n",
    "    # Write to new parquet file\n",
    "    diagnosis_df.to_parquet(processed_path/'diagnosis_df.parquet')\n",
    "\n",
    "    print(diagnosis_df.shape)\n",
    "    diagnosis_df.head(3)"
   ]
  },
  {
   "cell_type": "code",
   "execution_count": null,
   "metadata": {},
   "outputs": [],
   "source": [
    "%%time\n",
    "\n",
    "if not result_dict.get('patient_progress_notes', pd.DataFrame()).empty:\n",
    "    notes = NoteFeatures(\n",
    "                census_df=census_df.copy(),\n",
    "                notes=result_dict.get('patient_progress_notes', None),\n",
    "                client=CLIENT,\n",
    "                training=training,\n",
    "                vector_model=training_metadata.vector_model,\n",
    "    )\n",
    "    notes_df = notes.generate_features()\n",
    "\n",
    "    # Write to new parquet file\n",
    "    notes_df.to_parquet(processed_path/'notes_df.parquet')\n",
    "\n",
    "    print(notes_df.shape)\n",
    "    notes_df.head(3)"
   ]
  },
  {
   "cell_type": "markdown",
   "metadata": {},
   "source": [
    "## +++++++++++++++++++++END+++++++++++++++++++"
   ]
  },
  {
   "cell_type": "code",
   "execution_count": null,
   "metadata": {},
   "outputs": [],
   "source": [
    "notes_df.shape"
   ]
  },
  {
   "cell_type": "code",
   "execution_count": null,
   "metadata": {},
   "outputs": [],
   "source": []
  }
 ],
 "metadata": {
  "kernelspec": {
   "display_name": "Python 3 (ipykernel)",
   "language": "python",
   "name": "python3"
  },
  "language_info": {
   "codemirror_mode": {
    "name": "ipython",
    "version": 3
   },
   "file_extension": ".py",
   "mimetype": "text/x-python",
   "name": "python",
   "nbconvert_exporter": "python",
   "pygments_lexer": "ipython3",
   "version": "3.8.16"
  }
 },
 "nbformat": 4,
 "nbformat_minor": 4
}
