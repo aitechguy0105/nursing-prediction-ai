{
 "cells": [
  {
   "cell_type": "code",
   "execution_count": null,
   "metadata": {},
   "outputs": [],
   "source": [
    "import boto3\n",
    "from datetime import datetime\n",
    "import pandas as pd"
   ]
  },
  {
   "cell_type": "markdown",
   "metadata": {},
   "source": [
    "### =============================================================================================="
   ]
  },
  {
   "cell_type": "code",
   "execution_count": null,
   "metadata": {},
   "outputs": [],
   "source": [
    "# env = 'staging'\n",
    "# CACHED_S3_BUCKET = 'saiva-staging-data-bucket'\n",
    "# client = 'avante'\n",
    "# task_name = 'saiva-3-day-hosp-v1'\n",
    "# # facilities = [1, 3, 4, 5, 6, 7, 8, 9, 10, 13, 21]\n",
    "# facilities = [7]"
   ]
  },
  {
   "cell_type": "code",
   "execution_count": null,
   "metadata": {},
   "outputs": [],
   "source": [
    "# env = 'prod'\n",
    "# CACHED_S3_BUCKET = 'saiva-prod-data-bucket'\n",
    "# client = 'dycora'\n",
    "# task_name = 'dycora-3-day-hosp'\n",
    "# # facilities = [121, 302]\n",
    "# facilities = [302]"
   ]
  },
  {
   "cell_type": "markdown",
   "metadata": {},
   "source": [
    "## ++++++++++++++++++++++++++++++++++++++++++++++++++++++++++++++++++++++++++++++"
   ]
  },
  {
   "cell_type": "code",
   "execution_count": null,
   "metadata": {},
   "outputs": [],
   "source": [
    "client = 'trio'\n",
    "env = 'dev'\n",
    "# facilities = [1,3,4,5,6,7,8,9,10,13,21] avante\n",
    "facilities = [7]  # trio\n",
    "CACHED_S3_BUCKET = 'saiva-dev-data-bucket'\n",
    "task_name = 'saiva-3-day-hosp-v3'\n",
    "prediction_start_date = '2021-01-01'\n",
    "prediction_end_date = '2021-01-02'\n",
    "\n",
    "saiva = boto3.session.Session()\n",
    "boto3.setup_default_session()"
   ]
  },
  {
   "cell_type": "code",
   "execution_count": null,
   "metadata": {},
   "outputs": [],
   "source": [
    "vpn_instance = {\n",
    "    \"dev\": \"i-07197a52885c34d68\",\n",
    "    \"staging\": \"i-07d9c5587e7637960\",\n",
    "    \"prod\": \"i-0e5f01117bb50fdb1\"\n",
    "}\n",
    "\n",
    "AutoScalingGroupName = {\n",
    "    \"dev\": \"dev-Internal-ASG\",\n",
    "    \"staging\": \"staging-Internal-ASG\",\n",
    "    \"prod\": \"prod-Internal-ASG\"\n",
    "}\n",
    "\n",
    "ClusterName = {\n",
    "    \"dev\": \"dev-Internal\",\n",
    "    \"staging\": \"staging-Internal\",\n",
    "    \"prod\": \"prod-Internal\"  \n",
    "}\n",
    "\n",
    "networkConfiguration = {\n",
    "    \"dev\": {\n",
    "        'awsvpcConfiguration': {\n",
    "            'securityGroups': ['sg-008159c0210f49f96'], \n",
    "            'subnets': ['subnet-0eb41526eff222cab', 'subnet-04b6e7f553bd31909'], \n",
    "            'assignPublicIp': 'DISABLED'}},\n",
    "    \"staging\": {\n",
    "        'awsvpcConfiguration': {\n",
    "            'securityGroups': ['sg-0f8d382201750604e'], \n",
    "            'subnets': ['subnet-0b9343ae7c5712608', 'subnet-01d3901613027f4d9'], \n",
    "            'assignPublicIp': 'DISABLED'}},\n",
    "    \"prod\": {\n",
    "            \"awsvpcConfiguration\": {\n",
    "                \"securityGroups\": [\"sg-041a9f4c8e2f4fd56\"],\n",
    "                \"subnets\": [\"subnet-0c87ee56c3e4e27d1\", \"subnet-065f42df2509bd9f5\"],\n",
    "                \"assignPublicIp\": \"DISABLED\",\n",
    "            }\n",
    "        }\n",
    "}"
   ]
  },
  {
   "cell_type": "code",
   "execution_count": null,
   "metadata": {},
   "outputs": [],
   "source": [
    "# Turn on the Avante VPN Server \n",
    "\n",
    "ec2 = boto3.client('ec2', region_name='us-east-1')\n",
    "ec2.start_instances(\n",
    "    InstanceIds=[\n",
    "        vpn_instance[env], # Instance ID of the VPN Server\n",
    "    ]\n",
    ")"
   ]
  },
  {
   "cell_type": "code",
   "execution_count": null,
   "metadata": {},
   "outputs": [],
   "source": [
    "asg = boto3.client('autoscaling', region_name='us-east-1')"
   ]
  },
  {
   "cell_type": "code",
   "execution_count": null,
   "metadata": {},
   "outputs": [],
   "source": [
    "desired_count = len(facilities)\n",
    "# Scale Up the ASG\n",
    "response = asg.update_auto_scaling_group(\n",
    "        AutoScalingGroupName=AutoScalingGroupName[env],\n",
    "        DesiredCapacity=desired_count,\n",
    "        MaxSize=desired_count,\n",
    "        DefaultCooldown=100\n",
    "    )\n",
    "response"
   ]
  },
  {
   "cell_type": "code",
   "execution_count": null,
   "metadata": {},
   "outputs": [],
   "source": [
    "# List all running services or Tasks\n",
    "\n",
    "ecs = boto3.client('ecs', region_name='us-east-1')\n",
    "response = ecs.list_tasks(cluster=\"dev-Internal\",maxResults=100,launchType='EC2')\n",
    "response['taskArns']"
   ]
  },
  {
   "cell_type": "code",
   "execution_count": null,
   "metadata": {},
   "outputs": [],
   "source": [
    "def start_backfill(facility_id, prediction_start_date,prediction_end_date):\n",
    "    response = ecs.run_task(\n",
    "        taskDefinition=f\"{env}-{task_name}\",\n",
    "        cluster=f'{env}-Internal',\n",
    "        overrides={\n",
    "            \"containerOverrides\": [\n",
    "                {\n",
    "                    \"name\": f\"{task_name}\",\n",
    "                    \"command\": [\n",
    "                        \"/bin/bash\",\n",
    "                        \"-c\",\n",
    "                        f\"python /src/run_backfill.py --client {client} --facilityids '[{facility_id}]' --prediction_start_date '{prediction_start_date}' --prediction_end_date '{prediction_end_date}' --s3-bucket {CACHED_S3_BUCKET} --replace_existing_predictions True \",\n",
    "                    ],\n",
    "                }\n",
    "            ]\n",
    "        },\n",
    "        capacityProviderStrategy=[\n",
    "            {\n",
    "                'capacityProvider': 'dev-cp',\n",
    "                'weight': 1,\n",
    "                'base': 1\n",
    "            },\n",
    "        ],\n",
    "        networkConfiguration=networkConfiguration[env],\n",
    "        placementStrategy=[\n",
    "            {\n",
    "                \"field\": \"instanceId\",\n",
    "                \"type\": \"spread\"\n",
    "            }\n",
    "        ]\n",
    "    )\n",
    "    return response"
   ]
  },
  {
   "cell_type": "code",
   "execution_count": null,
   "metadata": {},
   "outputs": [],
   "source": [
    "print(datetime.now())\n",
    "results = [start_backfill(\n",
    "    facility_id=facility, \n",
    "    prediction_start_date=prediction_start_date, \n",
    "    prediction_end_date=prediction_end_date) for facility in facilities]\n",
    "results"
   ]
  },
  {
   "cell_type": "code",
   "execution_count": null,
   "metadata": {},
   "outputs": [],
   "source": [
    "\n",
    "# Print results of jobs, so we know when to stop ASG\n",
    "# example: print(result_list[0]['tasks'][0]['containers'][0]['taskArn'])\n",
    "count = 0\n",
    "count_not_finished = 0\n",
    "job_start_time = datetime.now()\n",
    "num_failed = 0\n",
    "for tasks in results:\n",
    "    task_arn = tasks['tasks'][0]['containers'][0]['taskArn']\n",
    "    print(f'{count}. task_arn={task_arn}')  \n",
    "    task_list = []\n",
    "    task_list.append(task_arn)\n",
    "    task_desc = ecs.describe_tasks(cluster=ClusterName[env], tasks=task_list)\n",
    "    exit_code = task_desc['tasks'][0]['containers'][0].get('exitCode')\n",
    "    if (exit_code is None):\n",
    "        print('\\t task is still running!!')\n",
    "        count_not_finished += 1\n",
    "    elif exit_code == 0:\n",
    "        print(f'\\t task successfully finished')\n",
    "    else:\n",
    "        print(f'\\t task failed.  exit code was {exit_code}!!')\n",
    "        num_failed += 1\n",
    "    count += 1\n",
    "\n",
    "print('-------------------')\n",
    "current_time = datetime.now()\n",
    "dt_string = current_time.strftime(\"%Y-%m-%d %H:%M:%S\")\n",
    "print(f'Current time: {dt_string}')\n",
    "time_diff = current_time - job_start_time\n",
    "print(f'Time taken so far: {time_diff.total_seconds()/60:.0f} minutes')\n",
    "      \n",
    "if num_failed != 0:\n",
    "    print(f'Failure count: {num_failed}')\n",
    "else:\n",
    "    print('No Failures - woo hoo!')\n",
    "if count_not_finished != 0:\n",
    "    print(f'Summary: Hold your horses! There are still {count_not_finished} jobs to be done')\n",
    "else:\n",
    "    print('Summary: ALL DONE!!')\n",
    "print('-------------------')"
   ]
  },
  {
   "cell_type": "code",
   "execution_count": null,
   "metadata": {},
   "outputs": [],
   "source": [
    "# Scale DOWN the ASG.\n",
    "response = asg.update_auto_scaling_group(\n",
    "        AutoScalingGroupName=AutoScalingGroupName[env],\n",
    "        DesiredCapacity=0,\n",
    "        MaxSize=0,\n",
    "        DefaultCooldown=100\n",
    "    )\n",
    "response"
   ]
  },
  {
   "cell_type": "code",
   "execution_count": null,
   "metadata": {},
   "outputs": [],
   "source": []
  }
 ],
 "metadata": {
  "kernelspec": {
   "display_name": "Python 3",
   "language": "python",
   "name": "python3"
  },
  "language_info": {
   "codemirror_mode": {
    "name": "ipython",
    "version": 3
   },
   "file_extension": ".py",
   "mimetype": "text/x-python",
   "name": "python",
   "nbconvert_exporter": "python",
   "pygments_lexer": "ipython3",
   "version": "3.7.9"
  }
 },
 "nbformat": 4,
 "nbformat_minor": 4
}
