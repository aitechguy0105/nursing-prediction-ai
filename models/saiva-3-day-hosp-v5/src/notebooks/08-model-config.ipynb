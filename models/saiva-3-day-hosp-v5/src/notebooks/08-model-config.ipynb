{
 "cells": [
  {
   "cell_type": "markdown",
   "metadata": {},
   "source": [
    "### Create trained models in db"
   ]
  },
  {
   "cell_type": "code",
   "execution_count": 9,
   "metadata": {},
   "outputs": [],
   "source": [
    "import sys\n",
    "import json\n",
    "\n",
    "from omegaconf import OmegaConf\n",
    "\n",
    "sys.path.insert(0, '/src')"
   ]
  },
  {
   "cell_type": "markdown",
   "metadata": {},
   "source": [
    "## Load config"
   ]
  },
  {
   "cell_type": "code",
   "execution_count": 2,
   "metadata": {},
   "outputs": [],
   "source": [
    "from shared.constants import saiva_api, LOCAL_TRAINING_CONFIG_PATH\n",
    "from shared.utils import load_config\n",
    "\n",
    "config = load_config(LOCAL_TRAINING_CONFIG_PATH)\n",
    "training_config = config.training_config"
   ]
  },
  {
   "cell_type": "code",
   "execution_count": 16,
   "metadata": {},
   "outputs": [],
   "source": [
    "with open('model_config.json', 'r') as file:\n",
    "    model_config = json.load(file)\n",
    "\n",
    "training_metadata = training_config.training_metadata\n",
    "training_metadata['ml_model_org_config_ids'] = [config.id for config in training_config.ml_model_org_configs]\n",
    "\n",
    "for individual_model_config in model_config:\n",
    "    test_recall_at_rank_15 = individual_model_config['test_recall_at_rank_15']\n",
    "    test_recall_at_rank_15 = test_recall_at_rank_15 if test_recall_at_rank_15 != 'nan' else None\n",
    "    individual_model_config['test_recall_at_rank_15'] = test_recall_at_rank_15\n",
    "    saiva_api.trained_models.create_with_dict(ml_model_org_config_id=None, training_metadata=OmegaConf.to_container(training_metadata, resolve=True), model_config=individual_model_config)"
   ]
  }
 ],
 "metadata": {
  "kernelspec": {
   "display_name": "Python 3 (ipykernel)",
   "language": "python",
   "name": "python3"
  },
  "language_info": {
   "codemirror_mode": {
    "name": "ipython",
    "version": 3
   },
   "file_extension": ".py",
   "mimetype": "text/x-python",
   "name": "python",
   "nbconvert_exporter": "python",
   "pygments_lexer": "ipython3",
   "version": "3.8.16"
  }
 },
 "nbformat": 4,
 "nbformat_minor": 4
}
