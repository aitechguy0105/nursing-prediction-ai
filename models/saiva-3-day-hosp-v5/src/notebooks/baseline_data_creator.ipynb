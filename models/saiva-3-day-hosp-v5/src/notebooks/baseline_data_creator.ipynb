{
 "cells": [
  {
   "cell_type": "markdown",
   "metadata": {},
   "source": [
    "This code reads '02a-result.parquet' as input and \n",
    "segregates the data into -\n",
    "* individual entities(vital_cols, diagnosis_cols, meds_cols, order_cols, alert_cols, demographics_cols, notes_cols, hosps_cols)\n",
    "* all_universal_columns - ('censusdate', 'facilityid', 'bedid', 'masterpatientid')\n",
    "* and output columns - ('hosp_target_3_day_hosp', 'hosp_target_7_day_hosp')\n",
    "\n",
    "The indiviual entities are one by one joined with all_columns and output columns \n",
    "to make the baseline dataset for that indiviual entity.\n",
    "\n",
    "\n",
    "* Run this code after 02a-note-embeddings.ipynb  and before 03-generate-traintest-sets.ipynb"
   ]
  },
  {
   "cell_type": "code",
   "execution_count": null,
   "metadata": {},
   "outputs": [],
   "source": [
    "import pandas as pd\n",
    "from pathlib import Path"
   ]
  },
  {
   "cell_type": "code",
   "execution_count": null,
   "metadata": {},
   "outputs": [],
   "source": [
    "processed_path = Path('/data/processed')\n",
    "processed_path.mkdir(parents=True, exist_ok=True)\n",
    "final = pd.read_parquet(processed_path/'02a-result1.parquet')\n",
    "final.head()"
   ]
  },
  {
   "cell_type": "code",
   "execution_count": null,
   "metadata": {
    "scrolled": true
   },
   "outputs": [],
   "source": [
    "col_dict = {\n",
    "    'vital_cols' : [col for col in final.columns if 'vtl_' in col],\n",
    "    'diagnosis_cols' : [col for col in final.columns if 'dx_' in col],\n",
    "    'meds_cols' : [col for col in final.columns if 'med_' in col],\n",
    "    'order_cols' : [col for col in final.columns if 'order_' in col],\n",
    "    'alert_cols' : [col for col in final.columns if 'alert_' in col],\n",
    "    'demographics_cols' : [col for col in final.columns if 'demo_' in col],\n",
    "    'notes_cols' : [col for col in final.columns if 'topic' in col or 'note__' in col],\n",
    "    'hosps_cols' : [col for col in final.columns if 'hosp_' in col and '_target_' not in col]\n",
    "    }\n",
    "\n"
   ]
  },
  {
   "cell_type": "code",
   "execution_count": null,
   "metadata": {},
   "outputs": [],
   "source": [
    "all_cols = ['censusdate', 'facilityid', 'bedid', 'masterpatientid']\n",
    "output_hosp_cols = [col for col in final.columns if 'hosp_' in col and '_target_' in col]\n",
    "all_cols"
   ]
  },
  {
   "cell_type": "code",
   "execution_count": null,
   "metadata": {},
   "outputs": [],
   "source": [
    "output_hosp_cols"
   ]
  },
  {
   "cell_type": "code",
   "execution_count": null,
   "metadata": {},
   "outputs": [],
   "source": [
    "for col,col_value in col_dict.items():\n",
    "    print('---->Processing for - ',col)\n",
    "    df = final[col_value+all_cols+output_hosp_cols]\n",
    "    df.to_parquet(processed_path/f'02a-result_{col}.parquet')\n",
    "    "
   ]
  },
  {
   "cell_type": "code",
   "execution_count": null,
   "metadata": {},
   "outputs": [],
   "source": []
  }
 ],
 "metadata": {
  "kernelspec": {
   "display_name": "Python 3",
   "language": "python",
   "name": "python3"
  },
  "language_info": {
   "codemirror_mode": {
    "name": "ipython",
    "version": 3
   },
   "file_extension": ".py",
   "mimetype": "text/x-python",
   "name": "python",
   "nbconvert_exporter": "python",
   "pygments_lexer": "ipython3",
   "version": "3.7.9"
  }
 },
 "nbformat": 4,
 "nbformat_minor": 4
}
