{
 "cells": [
  {
   "cell_type": "markdown",
   "metadata": {},
   "source": [
    "## This notebook is used to import & export 03-feature-generation data from S3"
   ]
  },
  {
   "cell_type": "code",
   "execution_count": null,
   "metadata": {},
   "outputs": [],
   "source": [
    "import sys\n",
    "from pathlib import Path\n",
    "\n",
    "sys.path.insert(0, '/src')\n",
    "import pandas as pd\n",
    "from shared.utils import get_client_class, get_memory_usage\n",
    "from eliot import start_action, start_task, to_file, log_message\n",
    "to_file(sys.stdout)"
   ]
  },
  {
   "cell_type": "markdown",
   "metadata": {},
   "source": [
    "## Load config"
   ]
  },
  {
   "cell_type": "code",
   "execution_count": null,
   "metadata": {},
   "outputs": [],
   "source": [
    "from shared.constants import LOCAL_TRAINING_CONFIG_PATH\n",
    "from shared.utils import load_config\n",
    "\n",
    "config = load_config(LOCAL_TRAINING_CONFIG_PATH)\n",
    "training_config = config.training_config"
   ]
  },
  {
   "cell_type": "code",
   "execution_count": null,
   "metadata": {},
   "outputs": [],
   "source": [
    "# Constants\n",
    "CLIENT = \"+\".join([config.organization_id for config in training_config.ml_model_org_configs])\n",
    "TRAIN_START_DATE = training_config.training_metadata.experiment_dates.train_start_date\n",
    "TEST_END_DATE = training_config.training_metadata.experiment_dates.test_end_date\n",
    "\n",
    "processed_path = Path('/data/processed')\n",
    "processed_path.mkdir(parents=True, exist_ok=True)\n",
    "\n",
    "date_range = f'{TRAIN_START_DATE}-TO-{TEST_END_DATE}'\n",
    "\n",
    "s3_path = f's3://saiva-dev-data-bucket/training_data/saiva-3-day-hosp-v5/{CLIENT}/{date_range}'\n",
    "\n",
    "feature_list = [ \n",
    "    'census_df.parquet',\n",
    "    'demo_df.parquet',\n",
    "    'vitals_df.parquet',\n",
    "    'orders_df.parquet',\n",
    "    'meds_df.parquet',\n",
    "#     'alerts_df.parquet',\n",
    "    'labs_df.parquet',\n",
    "    'rehosp_df.parquet',\n",
    "    'admissions_df.parquet',\n",
    "    'diagnosis_df.parquet',\n",
    "    'notes_df.parquet',\n",
    "]\n",
    "\n",
    "print(TRAIN_START_DATE, TEST_END_DATE)\n",
    "print(CLIENT)"
   ]
  },
  {
   "cell_type": "markdown",
   "metadata": {},
   "source": [
    "# ================ Export to S3 =================="
   ]
  },
  {
   "cell_type": "code",
   "execution_count": null,
   "metadata": {},
   "outputs": [],
   "source": [
    "for name in feature_list:\n",
    "    try:\n",
    "        df = pd.read_parquet(processed_path/name)\n",
    "        df.to_parquet(f'{s3_path}/{name}')\n",
    "        print(f'{name} --------------- written to S3')\n",
    "    except:\n",
    "        print(f'{name} --------------- does not exist')"
   ]
  },
  {
   "cell_type": "markdown",
   "metadata": {},
   "source": [
    "# ================ Import from S3 =================="
   ]
  },
  {
   "cell_type": "code",
   "execution_count": null,
   "metadata": {},
   "outputs": [],
   "source": [
    "for name in feature_list:\n",
    "    df = pd.read_parquet(f'{s3_path}/{name}')\n",
    "    df.to_parquet(processed_path/name)\n",
    "    print(f'{name} --------------- read from S3')"
   ]
  },
  {
   "cell_type": "code",
   "execution_count": null,
   "metadata": {},
   "outputs": [],
   "source": []
  }
 ],
 "metadata": {
  "kernelspec": {
   "display_name": "Python 3 (ipykernel)",
   "language": "python",
   "name": "python3"
  },
  "language_info": {
   "codemirror_mode": {
    "name": "ipython",
    "version": 3
   },
   "file_extension": ".py",
   "mimetype": "text/x-python",
   "name": "python",
   "nbconvert_exporter": "python",
   "pygments_lexer": "ipython3",
   "version": "3.8.16"
  }
 },
 "nbformat": 4,
 "nbformat_minor": 4
}
