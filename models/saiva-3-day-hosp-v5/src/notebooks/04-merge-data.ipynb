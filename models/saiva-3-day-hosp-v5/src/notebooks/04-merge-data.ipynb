{
 "cells": [
  {
   "cell_type": "code",
   "execution_count": null,
   "metadata": {},
   "outputs": [],
   "source": [
    "import sys\n",
    "import pandas as pd\n",
    "from pathlib import Path\n",
    "sys.path.insert(0, '/src')\n",
    "from eliot import start_action, start_task, to_file, log_message\n",
    "from shared.utils import get_client_class, get_memory_usage\n",
    "to_file(sys.stdout)"
   ]
  },
  {
   "cell_type": "code",
   "execution_count": null,
   "metadata": {},
   "outputs": [],
   "source": [
    "processed_path = Path('/data/processed')\n"
   ]
  },
  {
   "cell_type": "code",
   "execution_count": null,
   "metadata": {},
   "outputs": [],
   "source": [
    "%%time\n",
    "\n",
    "demo_df = pd.read_parquet(processed_path/'demo_df.parquet')\n",
    "vitals_df = pd.read_parquet(processed_path/'vitals_df.parquet')\n",
    "# orders_df = pd.read_parquet(processed_path/'orders_df.parquet')\n",
    "# alerts_df = pd.read_parquet(processed_path/'alerts_df.parquet')\n",
    "# meds_df = pd.read_parquet(processed_path/'meds_df.parquet')\n",
    "rehosp_df = pd.read_parquet(processed_path/'rehosp_df.parquet')\n",
    "admissions_df = pd.read_parquet(processed_path/'admissions_df.parquet')\n",
    "diagnosis_df = pd.read_parquet(processed_path/'diagnosis_df.parquet')"
   ]
  },
  {
   "cell_type": "code",
   "execution_count": null,
   "metadata": {},
   "outputs": [],
   "source": [
    "%%time\n",
    "\n",
    "final_df = demo_df.merge(\n",
    "    vitals_df,\n",
    "    how='left',\n",
    "    left_on=['masterpatientid', 'facilityid', 'censusdate'],\n",
    "    right_on=['masterpatientid', 'facilityid', 'censusdate']\n",
    ")\n",
    "final_df = final_df.merge(\n",
    "    rehosp_df,\n",
    "    how='left',\n",
    "    left_on=['masterpatientid', 'facilityid', 'censusdate'],\n",
    "    right_on=['masterpatientid', 'facilityid', 'censusdate']\n",
    ")\n",
    "final_df = final_df.merge(\n",
    "    admissions_df,\n",
    "    how='left',\n",
    "    left_on=['masterpatientid', 'facilityid', 'censusdate'],\n",
    "    right_on=['masterpatientid', 'facilityid', 'censusdate']\n",
    ")\n",
    "final_df = final_df.merge(\n",
    "    diagnosis_df,\n",
    "    how='left',\n",
    "    left_on=['masterpatientid', 'facilityid', 'censusdate'],\n",
    "    right_on=['masterpatientid', 'facilityid', 'censusdate']\n",
    ")\n",
    "# final_df = final_df.merge(\n",
    "#     orders_df,\n",
    "#     how='left',\n",
    "#     left_on=['masterpatientid', 'facilityid', 'censusdate'],\n",
    "#     right_on=['masterpatientid', 'facilityid', 'censusdate']\n",
    "# )\n",
    "# final_df = final_df.merge(\n",
    "#     meds_df,\n",
    "#     how='left',\n",
    "#     left_on=['masterpatientid', 'facilityid', 'censusdate'],\n",
    "#     right_on=['masterpatientid', 'facilityid', 'censusdate']\n",
    "# )\n",
    "# final_df = final_df.merge(\n",
    "#     alerts_df,\n",
    "#     how='left',\n",
    "#     left_on=['masterpatientid', 'facilityid', 'censusdate'],\n",
    "#     right_on=['masterpatientid', 'facilityid', 'censusdate']\n",
    "# )\n"
   ]
  },
  {
   "cell_type": "code",
   "execution_count": null,
   "metadata": {},
   "outputs": [],
   "source": [
    "if Path.exists(processed_path/'labs_df.parquet'):\n",
    "    labs_df = pd.read_parquet(processed_path/'labs_df.parquet')\n",
    "    final_df = final_df.merge(\n",
    "        labs_df,\n",
    "        how='left',\n",
    "        left_on=['masterpatientid', 'facilityid', 'censusdate'],\n",
    "        right_on=['masterpatientid', 'facilityid', 'censusdate']\n",
    "    )"
   ]
  },
  {
   "cell_type": "code",
   "execution_count": null,
   "metadata": {},
   "outputs": [],
   "source": [
    "if Path.exists(processed_path/'notes_df.parquet'):\n",
    "    notes_df = pd.read_parquet(processed_path/'notes_df.parquet')\n",
    "    final_df = final_df.merge(\n",
    "        notes_df,\n",
    "        how='left',\n",
    "        left_on=['masterpatientid', 'facilityid', 'censusdate'],\n",
    "        right_on=['masterpatientid', 'facilityid', 'censusdate']\n",
    "    )"
   ]
  },
  {
   "cell_type": "code",
   "execution_count": null,
   "metadata": {},
   "outputs": [],
   "source": [
    "# drop unwanted columns\n",
    "final_df.drop(\n",
    "    final_df.columns[final_df.columns.str.contains('_masterpatientid|_facilityid|_x$|_y$')].tolist()\n",
    ", axis=1, inplace = True)\n",
    "\n",
    "if 'patientid' in final_df.columns:\n",
    "    # If patientid included in the above regex pattern it drops masterpatientid column even\n",
    "    final_df.drop(\n",
    "        ['patientid'],\n",
    "        axis=1,\n",
    "        inplace=True\n",
    "    )"
   ]
  },
  {
   "cell_type": "code",
   "execution_count": null,
   "metadata": {},
   "outputs": [],
   "source": [
    "# Write to new parquet file\n",
    "final_df.to_parquet(processed_path/'final_df.parquet')"
   ]
  },
  {
   "cell_type": "code",
   "execution_count": null,
   "metadata": {},
   "outputs": [],
   "source": [
    "print(get_memory_usage(final_df))"
   ]
  },
  {
   "cell_type": "markdown",
   "metadata": {},
   "source": [
    "## ============================================================="
   ]
  },
  {
   "cell_type": "code",
   "execution_count": null,
   "metadata": {},
   "outputs": [],
   "source": [
    "final_df.shape"
   ]
  },
  {
   "cell_type": "code",
   "execution_count": null,
   "metadata": {},
   "outputs": [],
   "source": [
    "nan_cols = [i for i in final_df.columns if final_df[i].isna().any() and 'e_' not in i]\n",
    "nan_cols"
   ]
  },
  {
   "cell_type": "code",
   "execution_count": null,
   "metadata": {},
   "outputs": [],
   "source": [
    "len(nan_cols)\n"
   ]
  },
  {
   "cell_type": "code",
   "execution_count": null,
   "metadata": {},
   "outputs": [],
   "source": []
  }
 ],
 "metadata": {
  "kernelspec": {
   "display_name": "Python 3 (ipykernel)",
   "language": "python",
   "name": "python3"
  },
  "language_info": {
   "codemirror_mode": {
    "name": "ipython",
    "version": 3
   },
   "file_extension": ".py",
   "mimetype": "text/x-python",
   "name": "python",
   "nbconvert_exporter": "python",
   "pygments_lexer": "ipython3",
   "version": "3.8.16"
  }
 },
 "nbformat": 4,
 "nbformat_minor": 4
}
