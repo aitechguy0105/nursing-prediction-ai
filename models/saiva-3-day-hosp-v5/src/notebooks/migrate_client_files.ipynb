{
 "cells": [
  {
   "cell_type": "markdown",
   "metadata": {},
   "source": [
    "## Migrate client files"
   ]
  },
  {
   "cell_type": "code",
   "execution_count": 1,
   "metadata": {},
   "outputs": [],
   "source": [
    "import inspect\n",
    "import sys\n",
    "sys.path.insert(0, '/src')\n",
    "import json\n",
    "\n",
    "import os\n",
    "from importlib import import_module\n",
    "from shared.utils import pascal_case\n",
    "import re\n",
    "path = '/src/clients'"
   ]
  },
  {
   "cell_type": "code",
   "execution_count": 2,
   "metadata": {},
   "outputs": [],
   "source": [
    "client_files = [f[:-3] for f in os.listdir(path) if f.endswith('.py') and f != '__init__.py']\n",
    "\n",
    "prediction_date = '2022-01-01'\n",
    "facilityid = '1'\n",
    "train_start_date = '2021-01-01'"
   ]
  },
  {
   "cell_type": "code",
   "execution_count": 3,
   "metadata": {},
   "outputs": [],
   "source": [
    "prediction_date = '2022-01-01'\n",
    "facilityid = '1'\n",
    "train_start_date = '2021-01-01'\n",
    "\n",
    "\n",
    "def get_training_queries(*, clientClass):\n",
    "    try:\n",
    "        queries = getattr(clientClass(), 'get_training_queries')(train_start_date, train_start_date)\n",
    "    except:\n",
    "        queries = getattr(clientClass(), 'get_training_queries')(\n",
    "            test_end_date=train_start_date, \n",
    "            train_start_date=train_start_date,\n",
    "        )\n",
    "    return queries\n",
    "\n",
    "\n",
    "def get_prediction_queries(*, clientClass):\n",
    "    try:\n",
    "        queries = getattr(clientClass(), 'get_prediction_queries')(prediction_date, facilityid, train_start_date)\n",
    "    except:\n",
    "        queries = getattr(clientClass(), 'get_prediction_queries')(\n",
    "            prediction_date=prediction_date, \n",
    "            facilityid=facilityid, \n",
    "            train_start_date=train_start_date,\n",
    "        )\n",
    "    return queries\n",
    "\n",
    "\n",
    "def check_unique_queries(*, data, keep_client_file):\n",
    "    unique_queries = {}\n",
    "\n",
    "    for client, queries in data.items():\n",
    "        if client in keep_client_file:\n",
    "            continue\n",
    "        for query_name, query in queries.items():\n",
    "            query = re.sub(r\"\\s+\", \"\", query)\n",
    "\n",
    "#             if query_name == 'patient_census':\n",
    "#                 query = query.split(\"andcensusactioncodenotin(\", 1)\n",
    "#                 query = query[0] + query[1].split(\")\", 1)[1]\n",
    "\n",
    "            unique_query = unique_queries.get(query_name, {})\n",
    "            clients = unique_query.get(query, [])\n",
    "            clients.append(client)\n",
    "            unique_query[query] = clients\n",
    "            unique_queries[query_name] = unique_query\n",
    "\n",
    "    print(unique_queries.keys())\n",
    "\n",
    "    for query_name, query in unique_queries.items():\n",
    "        if len(query) > 1:\n",
    "            print(query_name, len(query))\n",
    "            for q, clients in query.items():\n",
    "                print(clients)\n",
    "            print('-'*100)"
   ]
  },
  {
   "cell_type": "markdown",
   "metadata": {},
   "source": [
    "### Setup client names for which we want to keep the files\n",
    "Update the list of client names in the cell below. The list should contain the names of the clients for which we want to keep the files.\n",
    "Then run the two cells bellow the list - the otput should be empty. If not, there are some differences between the queries accross clients - please check, if you can update them to be the same, or add the client name to keep_client_file list."
   ]
  },
  {
   "cell_type": "code",
   "execution_count": 4,
   "metadata": {},
   "outputs": [],
   "source": [
    "keep_client_file = []"
   ]
  },
  {
   "cell_type": "code",
   "execution_count": 5,
   "metadata": {},
   "outputs": [
    {
     "name": "stdout",
     "output_type": "stream",
     "text": [
      "dict_keys(['patient_vitals', 'patient_admissions', 'master_patient_lookup', 'patient_census', 'patient_rehosps', 'patient_orders', 'patient_demographics', 'patient_diagnosis', 'patient_progress_notes'])\n",
      "patient_vitals 2\n",
      "['loh', 'nycrn', 'summitltc', 'optima', 'colonial', 'crn', 'pji', 'excels_cgcnr', 'hcomgmt', 'ahc', 'excels_rmc', 'excels', 'seniorlp', 'witherell', 'trinity', 'chhc', 'excels_sgnh', 'excels_tnec', 'pointegroupcarem', 'epic_hcm', 'mozaicsl', 'woodruff', 'whcg', 'friendshiprc', 'symp_wonh', 'pleasantview', 'cardinalritter']\n",
      "['arkpostmc']\n",
      "----------------------------------------------------------------------------------------------------\n",
      "patient_admissions 2\n",
      "['loh', 'nycrn', 'summitltc', 'optima', 'colonial', 'crn', 'pji', 'excels_cgcnr', 'hcomgmt', 'ahc', 'excels_rmc', 'excels', 'seniorlp', 'witherell', 'trinity', 'chhc', 'excels_sgnh', 'excels_tnec', 'pointegroupcarem', 'epic_hcm', 'mozaicsl', 'woodruff', 'whcg', 'friendshiprc', 'symp_wonh', 'pleasantview', 'cardinalritter']\n",
      "['arkpostmc']\n",
      "----------------------------------------------------------------------------------------------------\n",
      "master_patient_lookup 2\n",
      "['loh', 'nycrn', 'summitltc', 'optima', 'colonial', 'crn', 'pji', 'excels_cgcnr', 'hcomgmt', 'ahc', 'excels_rmc', 'excels', 'seniorlp', 'witherell', 'trinity', 'chhc', 'excels_sgnh', 'excels_tnec', 'pointegroupcarem', 'epic_hcm', 'mozaicsl', 'woodruff', 'whcg', 'friendshiprc', 'symp_wonh', 'pleasantview', 'cardinalritter']\n",
      "['arkpostmc']\n",
      "----------------------------------------------------------------------------------------------------\n",
      "patient_census 5\n",
      "['loh', 'summitltc', 'colonial', 'hcomgmt', 'ahc', 'witherell', 'trinity', 'chhc', 'pointegroupcarem', 'mozaicsl', 'woodruff', 'friendshiprc', 'pleasantview', 'cardinalritter']\n",
      "['nycrn', 'optima', 'crn', 'epic_hcm', 'whcg', 'symp_wonh']\n",
      "['pji', 'excels_cgcnr', 'excels_rmc', 'excels', 'excels_sgnh', 'excels_tnec']\n",
      "['arkpostmc']\n",
      "['seniorlp']\n",
      "----------------------------------------------------------------------------------------------------\n",
      "patient_rehosps 2\n",
      "['loh', 'nycrn', 'summitltc', 'optima', 'colonial', 'crn', 'pji', 'excels_cgcnr', 'hcomgmt', 'ahc', 'excels_rmc', 'excels', 'seniorlp', 'witherell', 'trinity', 'chhc', 'excels_sgnh', 'excels_tnec', 'pointegroupcarem', 'epic_hcm', 'mozaicsl', 'woodruff', 'whcg', 'friendshiprc', 'symp_wonh', 'pleasantview', 'cardinalritter']\n",
      "['arkpostmc']\n",
      "----------------------------------------------------------------------------------------------------\n",
      "patient_orders 2\n",
      "['loh', 'nycrn', 'summitltc', 'optima', 'crn', 'pji', 'excels_cgcnr', 'ahc', 'excels_rmc', 'excels', 'seniorlp', 'witherell', 'chhc', 'excels_sgnh', 'excels_tnec', 'epic_hcm', 'whcg', 'symp_wonh']\n",
      "['cardinalritter']\n",
      "----------------------------------------------------------------------------------------------------\n",
      "patient_demographics 2\n",
      "['loh', 'nycrn', 'summitltc', 'optima', 'colonial', 'crn', 'pji', 'excels_cgcnr', 'hcomgmt', 'ahc', 'excels_rmc', 'excels', 'seniorlp', 'witherell', 'trinity', 'chhc', 'excels_sgnh', 'excels_tnec', 'pointegroupcarem', 'epic_hcm', 'mozaicsl', 'woodruff', 'whcg', 'friendshiprc', 'symp_wonh', 'pleasantview', 'cardinalritter']\n",
      "['arkpostmc']\n",
      "----------------------------------------------------------------------------------------------------\n",
      "patient_diagnosis 2\n",
      "['loh', 'nycrn', 'summitltc', 'optima', 'colonial', 'crn', 'pji', 'excels_cgcnr', 'hcomgmt', 'ahc', 'excels_rmc', 'excels', 'seniorlp', 'witherell', 'trinity', 'chhc', 'excels_sgnh', 'excels_tnec', 'pointegroupcarem', 'epic_hcm', 'mozaicsl', 'woodruff', 'whcg', 'friendshiprc', 'symp_wonh', 'pleasantview', 'cardinalritter']\n",
      "['arkpostmc']\n",
      "----------------------------------------------------------------------------------------------------\n",
      "patient_progress_notes 2\n",
      "['loh', 'nycrn', 'summitltc', 'optima', 'colonial', 'crn', 'pji', 'excels_cgcnr', 'hcomgmt', 'ahc', 'excels_rmc', 'excels', 'seniorlp', 'witherell', 'trinity', 'chhc', 'excels_sgnh', 'excels_tnec', 'pointegroupcarem', 'epic_hcm', 'mozaicsl', 'woodruff', 'whcg', 'friendshiprc', 'symp_wonh', 'pleasantview', 'cardinalritter']\n",
      "['arkpostmc']\n",
      "----------------------------------------------------------------------------------------------------\n"
     ]
    }
   ],
   "source": [
    "# Check training queries\n",
    "\n",
    "data = {}\n",
    "\n",
    "for py in client_files:\n",
    "    if py in ['base']:\n",
    "        continue\n",
    "    try:\n",
    "        module = import_module(f'clients.{py}')\n",
    "        clientClass = getattr(module, pascal_case(py))\n",
    "        data[py] = get_training_queries(clientClass=clientClass)\n",
    "\n",
    "    except Exception as e:\n",
    "        print(py, e)\n",
    "\n",
    "check_unique_queries(data=data, keep_client_file=keep_client_file)"
   ]
  },
  {
   "cell_type": "code",
   "execution_count": 6,
   "metadata": {},
   "outputs": [
    {
     "name": "stdout",
     "output_type": "stream",
     "text": [
      "dict_keys(['patient_census', 'patient_vitals', 'patient_admissions', 'master_patient_lookup', 'patient_rehosps', 'patient_demographics', 'patient_diagnosis', 'patient_progress_notes', 'patient_room_details', 'patient_orders', 'patient_meds'])\n",
      "patient_census 5\n",
      "['loh', 'summitltc', 'colonial', 'hcomgmt', 'ahc', 'witherell', 'trinity', 'chhc', 'pointegroupcarem', 'mozaicsl', 'woodruff', 'friendshiprc', 'pleasantview', 'cardinalritter']\n",
      "['nycrn', 'optima', 'crn', 'epic_hcm', 'whcg', 'symp_wonh']\n",
      "['pji', 'excels_cgcnr', 'excels_rmc', 'excels', 'excels_sgnh', 'excels_tnec']\n",
      "['arkpostmc']\n",
      "['seniorlp']\n",
      "----------------------------------------------------------------------------------------------------\n",
      "patient_vitals 2\n",
      "['loh', 'nycrn', 'summitltc', 'optima', 'colonial', 'crn', 'pji', 'excels_cgcnr', 'hcomgmt', 'ahc', 'excels_rmc', 'excels', 'seniorlp', 'witherell', 'trinity', 'chhc', 'excels_sgnh', 'excels_tnec', 'pointegroupcarem', 'epic_hcm', 'mozaicsl', 'woodruff', 'whcg', 'friendshiprc', 'symp_wonh', 'pleasantview', 'cardinalritter']\n",
      "['arkpostmc']\n",
      "----------------------------------------------------------------------------------------------------\n",
      "patient_admissions 3\n",
      "['loh', 'nycrn', 'summitltc', 'optima', 'colonial', 'crn', 'hcomgmt', 'ahc', 'seniorlp', 'witherell', 'trinity', 'chhc', 'pointegroupcarem', 'epic_hcm', 'mozaicsl', 'woodruff', 'whcg', 'friendshiprc', 'symp_wonh', 'pleasantview', 'cardinalritter']\n",
      "['pji', 'excels_cgcnr', 'excels_rmc', 'excels', 'excels_sgnh', 'excels_tnec']\n",
      "['arkpostmc']\n",
      "----------------------------------------------------------------------------------------------------\n",
      "master_patient_lookup 2\n",
      "['loh', 'nycrn', 'summitltc', 'optima', 'colonial', 'crn', 'pji', 'excels_cgcnr', 'hcomgmt', 'ahc', 'excels_rmc', 'excels', 'seniorlp', 'witherell', 'trinity', 'chhc', 'excels_sgnh', 'excels_tnec', 'pointegroupcarem', 'epic_hcm', 'mozaicsl', 'woodruff', 'whcg', 'friendshiprc', 'symp_wonh', 'pleasantview', 'cardinalritter']\n",
      "['arkpostmc']\n",
      "----------------------------------------------------------------------------------------------------\n",
      "patient_rehosps 2\n",
      "['loh', 'nycrn', 'summitltc', 'optima', 'colonial', 'crn', 'pji', 'excels_cgcnr', 'hcomgmt', 'ahc', 'excels_rmc', 'excels', 'seniorlp', 'witherell', 'trinity', 'chhc', 'excels_sgnh', 'excels_tnec', 'pointegroupcarem', 'epic_hcm', 'mozaicsl', 'woodruff', 'whcg', 'friendshiprc', 'symp_wonh', 'pleasantview', 'cardinalritter']\n",
      "['arkpostmc']\n",
      "----------------------------------------------------------------------------------------------------\n",
      "patient_demographics 2\n",
      "['loh', 'nycrn', 'summitltc', 'optima', 'colonial', 'crn', 'pji', 'excels_cgcnr', 'hcomgmt', 'ahc', 'excels_rmc', 'excels', 'seniorlp', 'witherell', 'trinity', 'chhc', 'excels_sgnh', 'excels_tnec', 'pointegroupcarem', 'epic_hcm', 'mozaicsl', 'woodruff', 'whcg', 'friendshiprc', 'symp_wonh', 'pleasantview', 'cardinalritter']\n",
      "['arkpostmc']\n",
      "----------------------------------------------------------------------------------------------------\n",
      "patient_diagnosis 2\n",
      "['loh', 'nycrn', 'summitltc', 'optima', 'colonial', 'crn', 'pji', 'excels_cgcnr', 'hcomgmt', 'ahc', 'excels_rmc', 'excels', 'seniorlp', 'witherell', 'trinity', 'chhc', 'excels_sgnh', 'excels_tnec', 'pointegroupcarem', 'epic_hcm', 'mozaicsl', 'woodruff', 'whcg', 'friendshiprc', 'symp_wonh', 'pleasantview', 'cardinalritter']\n",
      "['arkpostmc']\n",
      "----------------------------------------------------------------------------------------------------\n",
      "patient_progress_notes 2\n",
      "['loh', 'nycrn', 'summitltc', 'optima', 'colonial', 'crn', 'pji', 'excels_cgcnr', 'hcomgmt', 'ahc', 'excels_rmc', 'excels', 'seniorlp', 'witherell', 'trinity', 'chhc', 'excels_sgnh', 'excels_tnec', 'pointegroupcarem', 'epic_hcm', 'mozaicsl', 'woodruff', 'whcg', 'friendshiprc', 'symp_wonh', 'pleasantview', 'cardinalritter']\n",
      "['arkpostmc']\n",
      "----------------------------------------------------------------------------------------------------\n",
      "patient_room_details 2\n",
      "['loh', 'nycrn', 'summitltc', 'optima', 'colonial', 'crn', 'pji', 'excels_cgcnr', 'hcomgmt', 'ahc', 'excels_rmc', 'excels', 'seniorlp', 'witherell', 'trinity', 'chhc', 'excels_sgnh', 'excels_tnec', 'pointegroupcarem', 'epic_hcm', 'mozaicsl', 'woodruff', 'whcg', 'friendshiprc', 'symp_wonh', 'pleasantview', 'cardinalritter']\n",
      "['arkpostmc']\n",
      "----------------------------------------------------------------------------------------------------\n"
     ]
    }
   ],
   "source": [
    "# Check prediction queries\n",
    "\n",
    "data = {}\n",
    "\n",
    "for py in client_files:\n",
    "    if py in ['base']:\n",
    "        continue\n",
    "    try:\n",
    "        module = import_module(f'clients.{py}')\n",
    "        clientClass = getattr(module, pascal_case(py))\n",
    "        data[py] = get_prediction_queries(clientClass=clientClass)\n",
    "\n",
    "    except Exception as e:\n",
    "        print(py, e)\n",
    "\n",
    "check_unique_queries(data=data, keep_client_file=keep_client_file)"
   ]
  },
  {
   "cell_type": "markdown",
   "metadata": {},
   "source": [
    "Dump missing datasets for clients"
   ]
  },
  {
   "cell_type": "code",
   "execution_count": 6,
   "metadata": {},
   "outputs": [
    {
     "name": "stdout",
     "output_type": "stream",
     "text": [
      "{\"loh\": [\"patient_alerts\", \"patient_lab_results\"], \"nycrn\": [\"patient_alerts\", \"patient_lab_results\"], \"summitltc\": [\"patient_alerts\", \"patient_lab_results\"], \"optima\": [\"patient_alerts\", \"patient_lab_results\"], \"colonial\": [\"patient_alerts\", \"patient_lab_results\"], \"crn\": [\"patient_alerts\", \"patient_lab_results\"], \"pji\": [\"patient_alerts\", \"patient_lab_results\"], \"excels_cgcnr\": [\"patient_alerts\", \"patient_lab_results\"], \"hcomgmt\": [\"patient_meds\", \"patient_orders\", \"patient_alerts\", \"patient_lab_results\"], \"ahc\": [\"patient_alerts\", \"patient_lab_results\"], \"arkpostmc\": [\"patient_meds\", \"patient_orders\", \"patient_alerts\", \"patient_lab_results\"], \"excels_rmc\": [\"patient_alerts\", \"patient_lab_results\"], \"excels\": [\"patient_alerts\", \"patient_lab_results\"], \"seniorlp\": [\"patient_alerts\", \"patient_lab_results\"], \"witherell\": [\"patient_alerts\", \"patient_lab_results\"], \"trinity\": [\"patient_alerts\", \"patient_lab_results\"], \"chhc\": [\"patient_alerts\", \"patient_lab_results\"], \"excels_sgnh\": [\"patient_alerts\", \"patient_lab_results\"], \"excels_tnec\": [\"patient_alerts\", \"patient_lab_results\"], \"pointegroupcarem\": [\"patient_orders\", \"patient_alerts\", \"patient_lab_results\"], \"epic_hcm\": [\"patient_alerts\", \"patient_lab_results\"], \"mozaicsl\": [\"patient_meds\", \"patient_orders\", \"patient_alerts\", \"patient_lab_results\"], \"woodruff\": [\"patient_alerts\", \"patient_lab_results\"], \"whcg\": [\"patient_alerts\", \"patient_lab_results\"], \"friendshiprc\": [\"patient_meds\", \"patient_orders\", \"patient_alerts\", \"patient_lab_results\"], \"symp_wonh\": [\"patient_alerts\", \"patient_lab_results\"], \"pleasantview\": [\"patient_orders\", \"patient_alerts\", \"patient_lab_results\"], \"cardinalritter\": [\"patient_meds\", \"patient_orders\", \"patient_alerts\", \"patient_lab_results\"]}\n",
      "{'patient_meds', 'patient_orders', 'patient_lab_results', 'patient_alerts'}\n"
     ]
    }
   ],
   "source": [
    "data = {}\n",
    "\n",
    "query_names = [\n",
    "    'patient_census', \n",
    "    'patient_vitals', \n",
    "    'patient_admissions', \n",
    "    'master_patient_lookup', \n",
    "    'patient_rehosps', \n",
    "    'patient_demographics', \n",
    "    'patient_diagnosis', \n",
    "    'patient_meds', \n",
    "    'patient_orders', \n",
    "    'patient_alerts', \n",
    "    'patient_progress_notes', \n",
    "    'patient_lab_results', \n",
    "    'patient_room_details'\n",
    "]\n",
    "\n",
    "_queries = set()\n",
    "\n",
    "for py in client_files:\n",
    "    if py in ['base']:\n",
    "        continue\n",
    "    try:\n",
    "        module = import_module(f'clients.{py}')\n",
    "        clientClass = getattr(module, pascal_case(py))\n",
    "        queries = get_prediction_queries(clientClass=clientClass)\n",
    "\n",
    "        data[py] = []\n",
    "\n",
    "        for query_name in query_names:\n",
    "            query = queries.get(query_name, None)\n",
    "            if not query:\n",
    "                data[py].append(query_name)\n",
    "                _queries.add(query_name)\n",
    "\n",
    "    except Exception as e:\n",
    "        print(py, e)\n",
    "\n",
    "print(json.dumps(data))\n",
    "\n",
    "print(_queries)"
   ]
  },
  {
   "cell_type": "markdown",
   "metadata": {},
   "source": [
    "Dump experiment dates"
   ]
  },
  {
   "cell_type": "code",
   "execution_count": 7,
   "metadata": {},
   "outputs": [
    {
     "name": "stdout",
     "output_type": "stream",
     "text": [
      "loh 'Loh' object has no attribute 'get_experiment_dates'\n",
      "nycrn 'Nycrn' object has no attribute 'get_experiment_dates'\n",
      "summitltc 'Summitltc' object has no attribute 'get_experiment_dates'\n",
      "optima 'Optima' object has no attribute 'get_experiment_dates'\n",
      "colonial 'Colonial' object has no attribute 'get_experiment_dates'\n",
      "crn 'Crn' object has no attribute 'get_experiment_dates'\n",
      "pji 'Pji' object has no attribute 'get_experiment_dates'\n",
      "excels_cgcnr 'ExcelsCgcnr' object has no attribute 'get_experiment_dates'\n",
      "hcomgmt 'Hcomgmt' object has no attribute 'get_experiment_dates'\n",
      "ahc 'Ahc' object has no attribute 'get_experiment_dates'\n",
      "arkpostmc 'Arkpostmc' object has no attribute 'get_experiment_dates'\n",
      "excels_rmc 'ExcelsRmc' object has no attribute 'get_experiment_dates'\n",
      "excels 'Excels' object has no attribute 'get_experiment_dates'\n",
      "seniorlp 'Seniorlp' object has no attribute 'get_experiment_dates'\n",
      "witherell 'Witherell' object has no attribute 'get_experiment_dates'\n",
      "trinity 'Trinity' object has no attribute 'get_experiment_dates'\n",
      "chhc 'Chhc' object has no attribute 'get_experiment_dates'\n",
      "excels_sgnh 'ExcelsSgnh' object has no attribute 'get_experiment_dates'\n",
      "excels_tnec 'ExcelsTnec' object has no attribute 'get_experiment_dates'\n",
      "pointegroupcarem 'Pointegroupcarem' object has no attribute 'get_experiment_dates'\n",
      "epic_hcm 'EpicHcm' object has no attribute 'get_experiment_dates'\n",
      "mozaicsl 'Mozaicsl' object has no attribute 'get_experiment_dates'\n",
      "woodruff 'Woodruff' object has no attribute 'get_experiment_dates'\n",
      "whcg 'Whcg' object has no attribute 'get_experiment_dates'\n",
      "friendshiprc 'Friendshiprc' object has no attribute 'get_experiment_dates'\n",
      "symp_wonh 'SympWonh' object has no attribute 'get_experiment_dates'\n",
      "pleasantview 'Pleasantview' object has no attribute 'get_experiment_dates'\n",
      "cardinalritter 'Cardinalritter' object has no attribute 'get_experiment_dates'\n",
      "{}\n"
     ]
    }
   ],
   "source": [
    "data = {}\n",
    "\n",
    "for py in client_files:\n",
    "    if py in ['base']:\n",
    "        continue\n",
    "    try:\n",
    "        module = import_module(f'clients.{py}')\n",
    "        clientClass = getattr(module, pascal_case(py))\n",
    "        data[py] = getattr(clientClass(), 'get_experiment_dates')()\n",
    "\n",
    "    except Exception as e:\n",
    "        print(py, e)\n",
    "\n",
    "print(json.dumps(data))"
   ]
  }
 ],
 "metadata": {
  "kernelspec": {
   "display_name": "Python 3 (ipykernel)",
   "language": "python",
   "name": "python3"
  },
  "language_info": {
   "codemirror_mode": {
    "name": "ipython",
    "version": 3
   },
   "file_extension": ".py",
   "mimetype": "text/x-python",
   "name": "python",
   "nbconvert_exporter": "python",
   "pygments_lexer": "ipython3",
   "version": "3.8.16"
  }
 },
 "nbformat": 4,
 "nbformat_minor": 2
}
