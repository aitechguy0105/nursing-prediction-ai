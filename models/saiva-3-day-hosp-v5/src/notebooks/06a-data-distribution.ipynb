{
 "cells": [
  {
   "cell_type": "code",
   "execution_count": null,
   "id": "866e732a",
   "metadata": {},
   "outputs": [],
   "source": [
    "! pip install matplotlib plotly"
   ]
  },
  {
   "cell_type": "code",
   "execution_count": null,
   "id": "ef15411d",
   "metadata": {},
   "outputs": [],
   "source": [
    "import pandas as pd\n",
    "import numpy as np\n",
    "pd.set_option('display.max_columns',None)\n",
    "import json\n",
    "import os\n",
    "import sys\n",
    "import pandas as pd\n",
    "from pathlib import Path\n",
    "import boto3\n",
    "from eliot import log_message\n",
    "from sqlalchemy import create_engine\n",
    "from sqlalchemy.engine.url import URL\n",
    "from sqlalchemy import text\n",
    "import pickle\n",
    "from sklearn.preprocessing import MinMaxScaler\n",
    "import matplotlib.pyplot as plt"
   ]
  },
  {
   "cell_type": "markdown",
   "id": "a629923c",
   "metadata": {},
   "source": [
    "## Load config"
   ]
  },
  {
   "cell_type": "code",
   "execution_count": null,
   "id": "046b68a8",
   "metadata": {},
   "outputs": [],
   "source": [
    "from shared.constants import LOCAL_TRAINING_CONFIG_PATH\n",
    "from shared.utils import load_config\n",
    "\n",
    "config = load_config(LOCAL_TRAINING_CONFIG_PATH)\n",
    "training_config = config.training_config"
   ]
  },
  {
   "cell_type": "code",
   "execution_count": null,
   "id": "ebcf52eb",
   "metadata": {},
   "outputs": [],
   "source": [
    "processed_path = Path('/data/processed')\n",
    "data_path = Path('/data/raw')\n",
    "\n",
    "CLIENT = \"+\".join([config.organization_id for config in training_config.ml_model_org_configs])\n",
    "\n",
    "EXPERIMENT_DATES = training_config.training_metadata.experiment_dates\n",
    "# starting training from day 31 so that cumsum window 2,7,14,30 are all initial correct.\n",
    "EXPERIMENT_DATES['train_start_date'] = str((pd.to_datetime(EXPERIMENT_DATES['train_start_date']) +  pd.DateOffset(days=30)).date())\n",
    "\n",
    "EXPERIMENT_DATES"
   ]
  },
  {
   "cell_type": "code",
   "execution_count": null,
   "id": "5947ec2e",
   "metadata": {},
   "outputs": [],
   "source": [
    "%%time\n",
    "\n",
    "# overall_df = pd.read_parquet(processed_path/'final_cleaned_df.parquet')\n",
    "\n",
    "\n",
    "with open(processed_path/'final-train_x.pickle','rb') as f: train_x = pickle.load(f)\n",
    "with open(processed_path/'final-train_target_3_day.pickle','rb') as f: train_target_3_day = pickle.load(f)\n",
    "train_x['hosp_target_3_day_hosp'] = train_target_3_day\n",
    "\n",
    "\n",
    "with open(processed_path/'final-valid_x.pickle','rb') as f: valid_x = pickle.load(f)\n",
    "with open(processed_path/'final-valid_target_3_day.pickle','rb') as f: valid_target_3_day = pickle.load(f)       \n",
    "valid_x['hosp_target_3_day_hosp'] = valid_target_3_day\n",
    "\n",
    "\n",
    "with open(processed_path/'final-test_x.pickle','rb') as f: test_x = pickle.load(f)\n",
    "with open(processed_path/'final-test_target_3_day.pickle','rb') as f: test_target_3_day = pickle.load(f)      \n",
    "test_x['hosp_target_3_day_hosp'] = test_target_3_day"
   ]
  },
  {
   "cell_type": "code",
   "execution_count": null,
   "id": "94f17dd4",
   "metadata": {},
   "outputs": [],
   "source": [
    "def get_mm_distribution(df, dtype):\n",
    "    positive = df.query('hosp_target_3_day_hosp == 1').shape[0]\n",
    "    negative = df.query('hosp_target_3_day_hosp != 1').shape[0]\n",
    "    \n",
    "    total = df.shape[0]\n",
    "    positive_percent = (100 * positive) / total\n",
    "    negative_percent = (100 * negative) / total\n",
    "    \n",
    "    return [total, positive, negative, positive_percent, negative_percent, dtype]\n",
    "\n",
    "\n",
    "data_list = []\n",
    "data_list.append(get_mm_distribution(train_x, 'TRAIN'))\n",
    "data_list.append(get_mm_distribution(valid_x, 'VALID'))\n",
    "data_list.append(get_mm_distribution(test_x, 'TEST'))\n",
    "\n",
    "\n",
    "df = pd.DataFrame(\n",
    "                    columns=[\"Total\", \"Positive\", \"Negative\", \"Positive%\", \"Negative%\",\"TYPE\"], \n",
    "                    data=data_list\n",
    "                 )\n",
    "\n",
    "\n",
    "df.head()"
   ]
  },
  {
   "cell_type": "code",
   "execution_count": null,
   "id": "a1bb4cff",
   "metadata": {},
   "outputs": [],
   "source": [
    "def get_stay_length(staylength):\n",
    "    if staylength > 120:\n",
    "        return 120\n",
    "    else:\n",
    "        return staylength\n",
    "    \n",
    "def get_metrics_df(df, data_type):\n",
    "    # here each index indicates LOS and value indicates the count of transfer for that LOS\n",
    "    total = [0 for i in range(0,121)] \n",
    "    positive = [0 for i in range(0,121)] \n",
    "    negative = [0 for i in range(0,121)] \n",
    "\n",
    "    for index, row in df.iterrows():\n",
    "        j = int(get_stay_length(row['admissions_days_since_last_admission']))\n",
    "        total[j] += 1\n",
    "        if row['hosp_target_3_day_hosp'] == 1: \n",
    "            positive[j] += 1\n",
    "        elif row['hosp_target_3_day_hosp'] != 1:\n",
    "            negative[j] += 1\n",
    "        \n",
    "    \n",
    "    # create a dataframe from the above 3 lists\n",
    "    metric_df = pd.DataFrame ({\"ALL\": total, \"POSITIVE\": positive, \"NEGATIVE\": negative})\n",
    "\n",
    "    ## percentages at lengthofstay n\n",
    "    metric_df['positive_percent'] = (metric_df['POSITIVE']/metric_df['ALL']) * 100\n",
    "    metric_df['negative_percent'] = (metric_df['NEGATIVE']/metric_df['ALL']) * 100\n",
    "    \n",
    "    metric_df.columns = [data_type+'_'+col for col in metric_df.columns]\n",
    "    metric_df = metric_df.fillna(0)\n",
    "    \n",
    "    return metric_df\n",
    "\n"
   ]
  },
  {
   "cell_type": "code",
   "execution_count": null,
   "id": "12273dba",
   "metadata": {},
   "outputs": [],
   "source": [
    "_df1 = get_metrics_df(train_x, 'TRAIN')\n",
    "_df2 = get_metrics_df(valid_x, 'VALID')\n",
    "_df3 = get_metrics_df(test_x, 'TEST')\n",
    "\n",
    "final_df = pd.concat([_df1, _df2, _df3], axis=1)\n",
    "final_df.head()"
   ]
  },
  {
   "cell_type": "markdown",
   "id": "fa98260d",
   "metadata": {},
   "source": [
    "## ==============================================================="
   ]
  },
  {
   "cell_type": "markdown",
   "id": "6af530fd",
   "metadata": {},
   "source": [
    "## Distribution of patients LOS in train / valid / test data"
   ]
  },
  {
   "cell_type": "code",
   "execution_count": null,
   "id": "c52b0064",
   "metadata": {},
   "outputs": [],
   "source": [
    "import plotly.express as px\n",
    "import plotly.offline as pyo\n",
    "import numpy as np\n",
    "pyo.init_notebook_mode()"
   ]
  },
  {
   "cell_type": "code",
   "execution_count": null,
   "id": "21c42295",
   "metadata": {},
   "outputs": [],
   "source": [
    "graph_height = 750\n",
    "data_type = 'Test'\n",
    "pclass = 'Positive'\n",
    "selectedClass = 'TEST_POSITIVE'\n",
    "allClass = 'TEST_ALL'"
   ]
  },
  {
   "cell_type": "code",
   "execution_count": null,
   "id": "cc5e35bc",
   "metadata": {},
   "outputs": [],
   "source": [
    "print('Experiment: avante-3-day-hosp-V6-run1')\n",
    "print(f'total {data_type} dataset size for {CLIENT}= ', final_df[allClass].sum())\n",
    "print(f'total {pclass} patient days in {data_type} data = ', final_df[selectedClass].sum())\n",
    "\n",
    "# Exclude last row ie. LOS=120\n",
    "_final_df = final_df.drop(final_df.tail(1).index)\n",
    "# _final_df = final_df\n",
    "\n",
    "fig = px.bar(\n",
    "    _final_df, \n",
    "    x=[selectedClass], \n",
    "    y=list(_final_df.index),\n",
    "    height=graph_height, \n",
    "    orientation='h',\n",
    "    title=f'LOS Histogram for {pclass} patient days in {data_type} dataset for {CLIENT}',\n",
    "    labels={\n",
    "        'y':'Length Of Stay', \n",
    "        'caught_rth': 'LOS Count'\n",
    "    }, \n",
    "    color_discrete_sequence=['green']\n",
    ")\n",
    "fig['layout']['yaxis']['autorange'] = \"reversed\"\n",
    "fig['layout']['xaxis']['title'] = \"Count\"\n",
    "fig.show()\n",
    "\n"
   ]
  },
  {
   "cell_type": "code",
   "execution_count": null,
   "id": "55d26db5",
   "metadata": {},
   "outputs": [],
   "source": [
    "graph_height = 750\n",
    "pclass = 'Negative'\n",
    "selectedClasses = [\"TRAIN_NEGATIVE_nor\",\"VALID_NEGATIVE_nor\",\"TEST_NEGATIVE_nor\"]\n"
   ]
  },
  {
   "cell_type": "code",
   "execution_count": null,
   "id": "272f4248",
   "metadata": {},
   "outputs": [],
   "source": [
    "\n",
    "final_df[[\"TRAIN_POSITIVE_nor\",\"VALID_POSITIVE_nor\",\"TEST_POSITIVE_nor\"]] = MinMaxScaler(feature_range=(0, 100)).fit_transform(\n",
    "    final_df[[\"TRAIN_POSITIVE\",\"VALID_POSITIVE\",\"TEST_POSITIVE\"]]\n",
    ")\n",
    "\n",
    "final_df[[\"TRAIN_NEGATIVE_nor\",\"VALID_NEGATIVE_nor\",\"TEST_NEGATIVE_nor\"]] = MinMaxScaler(feature_range=(0, 100)).fit_transform(\n",
    "    final_df[[\"TRAIN_NEGATIVE\",\"VALID_NEGATIVE\",\"TEST_NEGATIVE\"]]\n",
    ")\n",
    "final_df.head()    "
   ]
  },
  {
   "cell_type": "code",
   "execution_count": null,
   "id": "070c5236",
   "metadata": {},
   "outputs": [],
   "source": [
    "_final_df = final_df\n",
    "_final_df = final_df.drop(final_df.tail(1).index)\n",
    "\n",
    "fig = px.line(\n",
    "    _final_df, \n",
    "    y=selectedClasses, \n",
    "    x=list(_final_df.index), \n",
    "    labels={\n",
    "        'x':'Length Of Stay', \n",
    "    }, \n",
    "    height=750, \n",
    "    title=f'LOS Histogram for Normalised {pclass} patient days across Train, Valid & Test dataset for {CLIENT}',\n",
    ")\n",
    "fig['layout']['yaxis']['title'] = f\"{pclass} Patient day Normalised value between 0 to 100\"\n",
    "# fig['layout']['yaxis']['tickformat'] = ',.0%'\n",
    "# fig['layout']['yaxis']['range'] = [0,1]\n",
    "\n",
    "\n",
    "fig.show()"
   ]
  },
  {
   "cell_type": "markdown",
   "id": "5f9bd82d",
   "metadata": {},
   "source": [
    "## ======================= MATPLOT ==============================="
   ]
  },
  {
   "cell_type": "code",
   "execution_count": null,
   "id": "7c75102a",
   "metadata": {},
   "outputs": [],
   "source": [
    "_df = train_x.query('hosp_target_3_day_hosp == 1')\n",
    "print('total RTH in train data = ', _df.shape[0])\n",
    "fig,ax = plt.subplots(1,1)\n",
    "ax.hist(_df['admissions_days_since_last_admission'], bins = [0,30,60,100,150, 200])\n",
    "ax.set_title(\"histogram for Train data\")\n",
    "ax.set_xticks([0,30,60,100,150, 200])\n",
    "plt.show()"
   ]
  },
  {
   "cell_type": "markdown",
   "id": "5b6b3b9b",
   "metadata": {},
   "source": [
    "## ==============================================================="
   ]
  },
  {
   "cell_type": "code",
   "execution_count": null,
   "id": "3c0712c1",
   "metadata": {},
   "outputs": [],
   "source": []
  }
 ],
 "metadata": {
  "kernelspec": {
   "display_name": "Python 3 (ipykernel)",
   "language": "python",
   "name": "python3"
  },
  "language_info": {
   "codemirror_mode": {
    "name": "ipython",
    "version": 3
   },
   "file_extension": ".py",
   "mimetype": "text/x-python",
   "name": "python",
   "nbconvert_exporter": "python",
   "pygments_lexer": "ipython3",
   "version": "3.8.16"
  }
 },
 "nbformat": 4,
 "nbformat_minor": 5
}
