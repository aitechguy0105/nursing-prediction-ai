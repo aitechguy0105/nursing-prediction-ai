{
 "cells": [
  {
   "cell_type": "code",
   "execution_count": 1,
   "metadata": {},
   "outputs": [],
   "source": [
    "from gensim.models import FastText"
   ]
  },
  {
   "cell_type": "code",
   "execution_count": 3,
   "metadata": {},
   "outputs": [
    {
     "name": "stderr",
     "output_type": "stream",
     "text": [
      "/opt/conda/lib/python3.7/importlib/_bootstrap.py:219: RuntimeWarning: numpy.ufunc size changed, may indicate binary incompatibility. Expected 192 from C header, got 216 from PyObject\n",
      "  return f(*args, **kwds)\n",
      "/opt/conda/lib/python3.7/importlib/_bootstrap.py:219: RuntimeWarning: numpy.ufunc size changed, may indicate binary incompatibility. Expected 192 from C header, got 216 from PyObject\n",
      "  return f(*args, **kwds)\n"
     ]
    }
   ],
   "source": [
    "import pandas as pd"
   ]
  },
  {
   "cell_type": "code",
   "execution_count": 4,
   "metadata": {},
   "outputs": [],
   "source": [
    "from pathlib import Path"
   ]
  },
  {
   "cell_type": "code",
   "execution_count": 5,
   "metadata": {},
   "outputs": [],
   "source": [
    "data_path = Path('/data')"
   ]
  },
  {
   "cell_type": "code",
   "execution_count": 6,
   "metadata": {},
   "outputs": [],
   "source": [
    "full_notes = pd.read_parquet(\"/data/full_note_text_2017-01-01_2019-06-26.parquet\")"
   ]
  },
  {
   "cell_type": "code",
   "execution_count": 24,
   "metadata": {},
   "outputs": [
    {
     "data": {
      "text/plain": [
       "Index(['provider', 'ProgressNoteID', 'PatientID', 'FacilityID',\n",
       "       'ProgressNoteType', 'CreatedDate', 'SectionSequence', 'Section',\n",
       "       'NoteText'],\n",
       "      dtype='object')"
      ]
     },
     "execution_count": 24,
     "metadata": {},
     "output_type": "execute_result"
    }
   ],
   "source": [
    "full_notes.columns"
   ]
  },
  {
   "cell_type": "code",
   "execution_count": 12,
   "metadata": {},
   "outputs": [],
   "source": [
    "env = 'dev'"
   ]
  },
  {
   "cell_type": "code",
   "execution_count": 13,
   "metadata": {},
   "outputs": [],
   "source": [
    "import boto3\n",
    "from sqlalchemy import create_engine\n",
    "from sqlalchemy.engine.url import URL"
   ]
  },
  {
   "cell_type": "code",
   "execution_count": 17,
   "metadata": {},
   "outputs": [],
   "source": [
    "import json"
   ]
  },
  {
   "cell_type": "code",
   "execution_count": 31,
   "metadata": {},
   "outputs": [],
   "source": [
    "session = boto3.session.Session()\n",
    "client = session.client(service_name=\"secretsmanager\", region_name='us-east-1')\n",
    "\n",
    "avante_db_info = json.loads(\n",
    "    client.get_secret_value(SecretId=\"avantedb\")[\"SecretString\"]\n",
    "            )\n",
    "\n",
    "avante_url = URL(\n",
    "    drivername=\"mssql+pyodbc\",\n",
    "    username=avante_db_info[\"username\"],\n",
    "    password=avante_db_info[\"password\"],\n",
    "    host=avante_db_info[\"host\"],\n",
    "    port=avante_db_info[\"port\"],\n",
    "    database=avante_db_info[\"dbname\"],\n",
    "    query={\"driver\": \"ODBC Driver 17 for SQL Server\"},\n",
    "            )"
   ]
  },
  {
   "cell_type": "code",
   "execution_count": 21,
   "metadata": {},
   "outputs": [],
   "source": [
    "note_types = set('eMAR-Medication Administration Note\t* General NURSING Note\t* Skilled Nursing Note\tWeekly Nurses Skin Observation Note\tPhysician Progress Notes\tBraden Data Tool\tX Social Service Interview\tDietary RD/DTR Data Collection Progress Note\tz R.T. Shift Note (7am-7pm)\tz R.T. Shift Note (7pm - 7am)\t* Dietary RD/DTR Progress Note\t* Social Services Note\t* Activity Note\t* Physician Progress Note\teMar - Shift Level Administration Note\t* Weekly Wound Documentation\t* Activities Admission/Readmission NOte\t* Weight Meeting Note\tBIMS Data Results\t* Incident/Accident Note\t* Vent/Trach Clinical Observation Note\t* Admission Note\tMDS Note\t* Skin / Wound Note\t* Skin / Wound Note\t* Skin / Wound Note\tGlobal Deterioration Scale Note'.split('\\t'))"
   ]
  },
  {
   "cell_type": "code",
   "execution_count": 22,
   "metadata": {},
   "outputs": [
    {
     "data": {
      "text/plain": [
       "{'* Activities Admission/Readmission NOte',\n",
       " '* Activity Note',\n",
       " '* Admission Note',\n",
       " '* Dietary RD/DTR Progress Note',\n",
       " '* General NURSING Note',\n",
       " '* Incident/Accident Note',\n",
       " '* Physician Progress Note',\n",
       " '* Skilled Nursing Note',\n",
       " '* Skin / Wound Note',\n",
       " '* Social Services Note',\n",
       " '* Vent/Trach Clinical Observation Note',\n",
       " '* Weekly Wound Documentation',\n",
       " '* Weight Meeting Note',\n",
       " 'BIMS Data Results',\n",
       " 'Braden Data Tool',\n",
       " 'Dietary RD/DTR Data Collection Progress Note',\n",
       " 'Global Deterioration Scale Note',\n",
       " 'MDS Note',\n",
       " 'Physician Progress Notes',\n",
       " 'Weekly Nurses Skin Observation Note',\n",
       " 'X Social Service Interview',\n",
       " 'eMAR-Medication Administration Note',\n",
       " 'eMar - Shift Level Administration Note',\n",
       " 'z R.T. Shift Note (7am-7pm)',\n",
       " 'z R.T. Shift Note (7pm - 7am)'}"
      ]
     },
     "execution_count": 22,
     "metadata": {},
     "output_type": "execute_result"
    }
   ],
   "source": [
    "note_types"
   ]
  },
  {
   "cell_type": "code",
   "execution_count": 45,
   "metadata": {},
   "outputs": [],
   "source": [
    "a_engine=create_engine(avante_url)"
   ]
  },
  {
   "cell_type": "code",
   "execution_count": 50,
   "metadata": {},
   "outputs": [
    {
     "data": {
      "text/html": [
       "<div>\n",
       "<style scoped>\n",
       "    .dataframe tbody tr th:only-of-type {\n",
       "        vertical-align: middle;\n",
       "    }\n",
       "\n",
       "    .dataframe tbody tr th {\n",
       "        vertical-align: top;\n",
       "    }\n",
       "\n",
       "    .dataframe thead th {\n",
       "        text-align: right;\n",
       "    }\n",
       "</style>\n",
       "<table border=\"1\" class=\"dataframe\">\n",
       "  <thead>\n",
       "    <tr style=\"text-align: right;\">\n",
       "      <th></th>\n",
       "      <th>CreatedDate</th>\n",
       "      <th>ProgressNoteID</th>\n",
       "    </tr>\n",
       "  </thead>\n",
       "  <tbody>\n",
       "    <tr>\n",
       "      <td>0</td>\n",
       "      <td>2012-10-08 16:22:11.993</td>\n",
       "      <td>282170</td>\n",
       "    </tr>\n",
       "    <tr>\n",
       "      <td>1</td>\n",
       "      <td>2012-11-01 09:42:09.797</td>\n",
       "      <td>383360</td>\n",
       "    </tr>\n",
       "    <tr>\n",
       "      <td>2</td>\n",
       "      <td>2012-11-01 09:42:09.797</td>\n",
       "      <td>383360</td>\n",
       "    </tr>\n",
       "    <tr>\n",
       "      <td>3</td>\n",
       "      <td>2012-11-01 09:44:39.867</td>\n",
       "      <td>383397</td>\n",
       "    </tr>\n",
       "    <tr>\n",
       "      <td>4</td>\n",
       "      <td>2012-11-01 09:43:13.693</td>\n",
       "      <td>383472</td>\n",
       "    </tr>\n",
       "    <tr>\n",
       "      <td>5</td>\n",
       "      <td>2012-11-01 09:43:13.693</td>\n",
       "      <td>383472</td>\n",
       "    </tr>\n",
       "    <tr>\n",
       "      <td>6</td>\n",
       "      <td>2012-11-01 09:43:13.693</td>\n",
       "      <td>383472</td>\n",
       "    </tr>\n",
       "    <tr>\n",
       "      <td>7</td>\n",
       "      <td>2012-11-01 09:43:13.693</td>\n",
       "      <td>383472</td>\n",
       "    </tr>\n",
       "    <tr>\n",
       "      <td>8</td>\n",
       "      <td>2012-11-01 09:43:13.693</td>\n",
       "      <td>383472</td>\n",
       "    </tr>\n",
       "    <tr>\n",
       "      <td>9</td>\n",
       "      <td>2012-11-01 09:43:13.693</td>\n",
       "      <td>383472</td>\n",
       "    </tr>\n",
       "  </tbody>\n",
       "</table>\n",
       "</div>"
      ],
      "text/plain": [
       "              CreatedDate  ProgressNoteID\n",
       "0 2012-10-08 16:22:11.993          282170\n",
       "1 2012-11-01 09:42:09.797          383360\n",
       "2 2012-11-01 09:42:09.797          383360\n",
       "3 2012-11-01 09:44:39.867          383397\n",
       "4 2012-11-01 09:43:13.693          383472\n",
       "5 2012-11-01 09:43:13.693          383472\n",
       "6 2012-11-01 09:43:13.693          383472\n",
       "7 2012-11-01 09:43:13.693          383472\n",
       "8 2012-11-01 09:43:13.693          383472\n",
       "9 2012-11-01 09:43:13.693          383472"
      ]
     },
     "execution_count": 50,
     "metadata": {},
     "output_type": "execute_result"
    }
   ],
   "source": [
    "pd.read_sql(\"SELECT TOP 10 CreatedDate, ProgressNoteID FROM dbo.view_ods_progress_note WHERE YEAR(CreatedDate) = 2012\", a_engine)"
   ]
  },
  {
   "cell_type": "code",
   "execution_count": 56,
   "metadata": {},
   "outputs": [],
   "source": [
    "years = range(2011, 2020)"
   ]
  },
  {
   "cell_type": "code",
   "execution_count": 81,
   "metadata": {},
   "outputs": [
    {
     "data": {
      "text/plain": [
       "\"SELECT TOP 10 'avante' as client, ProgressNoteID, PatientID, FacilityID,\\n       ProgressNoteType, CreatedDate, SectionSequence, Section, NoteText\\n       FROM view_ods_progress_note\\n       WHERE YEAR(CreatedDate) = 2017\\n       AND ProgressNoteType IN ('* Skin / Wound Note', '* Social Services Note', 'eMAR-Medication Administration Note', 'Global Deterioration Scale Note', '* Weight Meeting Note', 'BIMS Data Results', '* Incident/Accident Note', '* Activities Admission/Readmission NOte', 'MDS Note', 'Physician Progress Notes', 'eMar - Shift Level Administration Note', '* Weekly Wound Documentation', 'Braden Data Tool', '* Physician Progress Note', '* Skilled Nursing Note', 'Weekly Nurses Skin Observation Note', 'z R.T. Shift Note (7pm - 7am)', '* Dietary RD/DTR Progress Note', '* Vent/Trach Clinical Observation Note', 'z R.T. Shift Note (7am-7pm)', '* General NURSING Note', '* Activity Note', 'Dietary RD/DTR Data Collection Progress Note', '* Admission Note', 'X Social Service Interview')\\n       \""
      ]
     },
     "execution_count": 81,
     "metadata": {},
     "output_type": "execute_result"
    }
   ],
   "source": [
    "f\"\"\"SELECT TOP 10 'avante' as client, ProgressNoteID, PatientID, FacilityID,\n",
    "       ProgressNoteType, CreatedDate, SectionSequence, Section, NoteText\n",
    "       FROM view_ods_progress_note\n",
    "       WHERE YEAR(CreatedDate) = {2017}\n",
    "       AND ProgressNoteType IN ({\", \".join([f\"'{n}'\" for n in note_types])})\n",
    "       \"\"\""
   ]
  },
  {
   "cell_type": "code",
   "execution_count": 87,
   "metadata": {},
   "outputs": [],
   "source": [
    "def connect_and_pull_notes(year):\n",
    "    engine = create_engine(avante_url)\n",
    "    query = f\"\"\"SELECT 'avante' as client, ProgressNoteID, PatientID, FacilityID,\n",
    "       ProgressNoteType, CreatedDate, SectionSequence, Section, NoteText\n",
    "       FROM view_ods_progress_note\n",
    "       WHERE YEAR(CreatedDate) = {year}\n",
    "       AND ProgressNoteType IN ({\", \".join([f\"'{n}'\" for n in note_types])})\n",
    "       \"\"\"\n",
    "       \n",
    "    print(year, '\\n\\n')\n",
    "    print(query)\n",
    "    \n",
    "    notes = pd.read_sql(query, engine)\n",
    "    notes.to_parquet(f'/data/avante_notes_{year}.parquet')\n",
    "    return notes\n",
    "    "
   ]
  },
  {
   "cell_type": "code",
   "execution_count": 88,
   "metadata": {},
   "outputs": [],
   "source": [
    "pool = ThreadPool(3)"
   ]
  },
  {
   "cell_type": "code",
   "execution_count": null,
   "metadata": {
    "scrolled": false
   },
   "outputs": [
    {
     "name": "stdout",
     "output_type": "stream",
     "text": [
      "2011 2012 \n",
      "\n",
      "\n",
      "SELECT 'avante' as client, ProgressNoteID, PatientID, FacilityID,\n",
      "       ProgressNoteType, CreatedDate, SectionSequence, Section, NoteText\n",
      "       FROM view_ods_progress_note\n",
      "       WHERE YEAR(CreatedDate) = 2012\n",
      "       AND ProgressNoteType IN ('* Skin / Wound Note', '* Social Services Note', 'eMAR-Medication Administration Note', 'Global Deterioration Scale Note', '* Weight Meeting Note', 'BIMS Data Results', '* Incident/Accident Note', '* Activities Admission/Readmission NOte', 'MDS Note', 'Physician Progress Notes', 'eMar - Shift Level Administration Note', '* Weekly Wound Documentation', 'Braden Data Tool', '* Physician Progress Note', '* Skilled Nursing Note', 'Weekly Nurses Skin Observation Note', 'z R.T. Shift Note (7pm - 7am)', '* Dietary RD/DTR Progress Note', '* Vent/Trach Clinical Observation Note', 'z R.T. Shift Note (7am-7pm)', '* General NURSING Note', '* Activity Note', 'Dietary RD/DTR Data Collection Progress Note', '* Admission Note', 'X Social Service Interview')\n",
      "       \n",
      "\n",
      "\n",
      "\n",
      "SELECT 'avante' as client, ProgressNoteID, PatientID, FacilityID,\n",
      "       ProgressNoteType, CreatedDate, SectionSequence, Section, NoteText\n",
      "       FROM view_ods_progress_note\n",
      "       WHERE YEAR(CreatedDate) = 2011\n",
      "       AND ProgressNoteType IN ('* Skin / Wound Note', '* Social Services Note', 'eMAR-Medication Administration Note', 'Global Deterioration Scale Note', '* Weight Meeting Note', 'BIMS Data Results', '* Incident/Accident Note', '* Activities Admission/Readmission NOte', 'MDS Note', 'Physician Progress Notes', 'eMar - Shift Level Administration Note', '* Weekly Wound Documentation', 'Braden Data Tool', '* Physician Progress Note', '* Skilled Nursing Note', 'Weekly Nurses Skin Observation Note', 'z R.T. Shift Note (7pm - 7am)', '* Dietary RD/DTR Progress Note', '* Vent/Trach Clinical Observation Note', 'z R.T. Shift Note (7am-7pm)', '* General NURSING Note', '* Activity Note', 'Dietary RD/DTR Data Collection Progress Note', '* Admission Note', 'X Social Service Interview')\n",
      "       \n",
      "2013 \n",
      "\n",
      "\n",
      "SELECT 'avante' as client, ProgressNoteID, PatientID, FacilityID,\n",
      "       ProgressNoteType, CreatedDate, SectionSequence, Section, NoteText\n",
      "       FROM view_ods_progress_note\n",
      "       WHERE YEAR(CreatedDate) = 2013\n",
      "       AND ProgressNoteType IN ('* Skin / Wound Note', '* Social Services Note', 'eMAR-Medication Administration Note', 'Global Deterioration Scale Note', '* Weight Meeting Note', 'BIMS Data Results', '* Incident/Accident Note', '* Activities Admission/Readmission NOte', 'MDS Note', 'Physician Progress Notes', 'eMar - Shift Level Administration Note', '* Weekly Wound Documentation', 'Braden Data Tool', '* Physician Progress Note', '* Skilled Nursing Note', 'Weekly Nurses Skin Observation Note', 'z R.T. Shift Note (7pm - 7am)', '* Dietary RD/DTR Progress Note', '* Vent/Trach Clinical Observation Note', 'z R.T. Shift Note (7am-7pm)', '* General NURSING Note', '* Activity Note', 'Dietary RD/DTR Data Collection Progress Note', '* Admission Note', 'X Social Service Interview')\n",
      "       \n",
      "2014 \n",
      "\n",
      "\n",
      "SELECT 'avante' as client, ProgressNoteID, PatientID, FacilityID,\n",
      "       ProgressNoteType, CreatedDate, SectionSequence, Section, NoteText\n",
      "       FROM view_ods_progress_note\n",
      "       WHERE YEAR(CreatedDate) = 2014\n",
      "       AND ProgressNoteType IN ('* Skin / Wound Note', '* Social Services Note', 'eMAR-Medication Administration Note', 'Global Deterioration Scale Note', '* Weight Meeting Note', 'BIMS Data Results', '* Incident/Accident Note', '* Activities Admission/Readmission NOte', 'MDS Note', 'Physician Progress Notes', 'eMar - Shift Level Administration Note', '* Weekly Wound Documentation', 'Braden Data Tool', '* Physician Progress Note', '* Skilled Nursing Note', 'Weekly Nurses Skin Observation Note', 'z R.T. Shift Note (7pm - 7am)', '* Dietary RD/DTR Progress Note', '* Vent/Trach Clinical Observation Note', 'z R.T. Shift Note (7am-7pm)', '* General NURSING Note', '* Activity Note', 'Dietary RD/DTR Data Collection Progress Note', '* Admission Note', 'X Social Service Interview')\n",
      "       \n",
      "2015 \n",
      "\n",
      "\n",
      "SELECT 'avante' as client, ProgressNoteID, PatientID, FacilityID,\n",
      "       ProgressNoteType, CreatedDate, SectionSequence, Section, NoteText\n",
      "       FROM view_ods_progress_note\n",
      "       WHERE YEAR(CreatedDate) = 2015\n",
      "       AND ProgressNoteType IN ('* Skin / Wound Note', '* Social Services Note', 'eMAR-Medication Administration Note', 'Global Deterioration Scale Note', '* Weight Meeting Note', 'BIMS Data Results', '* Incident/Accident Note', '* Activities Admission/Readmission NOte', 'MDS Note', 'Physician Progress Notes', 'eMar - Shift Level Administration Note', '* Weekly Wound Documentation', 'Braden Data Tool', '* Physician Progress Note', '* Skilled Nursing Note', 'Weekly Nurses Skin Observation Note', 'z R.T. Shift Note (7pm - 7am)', '* Dietary RD/DTR Progress Note', '* Vent/Trach Clinical Observation Note', 'z R.T. Shift Note (7am-7pm)', '* General NURSING Note', '* Activity Note', 'Dietary RD/DTR Data Collection Progress Note', '* Admission Note', 'X Social Service Interview')\n",
      "       \n",
      "2016 \n",
      "\n",
      "\n",
      "SELECT 'avante' as client, ProgressNoteID, PatientID, FacilityID,\n",
      "       ProgressNoteType, CreatedDate, SectionSequence, Section, NoteText\n",
      "       FROM view_ods_progress_note\n",
      "       WHERE YEAR(CreatedDate) = 2016\n",
      "       AND ProgressNoteType IN ('* Skin / Wound Note', '* Social Services Note', 'eMAR-Medication Administration Note', 'Global Deterioration Scale Note', '* Weight Meeting Note', 'BIMS Data Results', '* Incident/Accident Note', '* Activities Admission/Readmission NOte', 'MDS Note', 'Physician Progress Notes', 'eMar - Shift Level Administration Note', '* Weekly Wound Documentation', 'Braden Data Tool', '* Physician Progress Note', '* Skilled Nursing Note', 'Weekly Nurses Skin Observation Note', 'z R.T. Shift Note (7pm - 7am)', '* Dietary RD/DTR Progress Note', '* Vent/Trach Clinical Observation Note', 'z R.T. Shift Note (7am-7pm)', '* General NURSING Note', '* Activity Note', 'Dietary RD/DTR Data Collection Progress Note', '* Admission Note', 'X Social Service Interview')\n",
      "       \n"
     ]
    }
   ],
   "source": [
    "note_dfs = pool.map(connect_and_pull_notes, years)"
   ]
  },
  {
   "cell_type": "code",
   "execution_count": null,
   "metadata": {},
   "outputs": [],
   "source": [
    "avante_notes = pd.concat(note_dfs).reset_index(drop=True)"
   ]
  },
  {
   "cell_type": "code",
   "execution_count": 91,
   "metadata": {},
   "outputs": [
    {
     "data": {
      "text/html": [
       "<div>\n",
       "<style scoped>\n",
       "    .dataframe tbody tr th:only-of-type {\n",
       "        vertical-align: middle;\n",
       "    }\n",
       "\n",
       "    .dataframe tbody tr th {\n",
       "        vertical-align: top;\n",
       "    }\n",
       "\n",
       "    .dataframe thead th {\n",
       "        text-align: right;\n",
       "    }\n",
       "</style>\n",
       "<table border=\"1\" class=\"dataframe\">\n",
       "  <thead>\n",
       "    <tr style=\"text-align: right;\">\n",
       "      <th></th>\n",
       "      <th>client</th>\n",
       "      <th>ProgressNoteID</th>\n",
       "      <th>PatientID</th>\n",
       "      <th>FacilityID</th>\n",
       "      <th>ProgressNoteType</th>\n",
       "      <th>CreatedDate</th>\n",
       "      <th>SectionSequence</th>\n",
       "      <th>Section</th>\n",
       "      <th>NoteText</th>\n",
       "    </tr>\n",
       "  </thead>\n",
       "  <tbody>\n",
       "    <tr>\n",
       "      <td>4983691</td>\n",
       "      <td>avante</td>\n",
       "      <td>6320054</td>\n",
       "      <td>251673</td>\n",
       "      <td>20</td>\n",
       "      <td>eMAR-Medication Administration Note</td>\n",
       "      <td>2014-07-21 05:18:40.853</td>\n",
       "      <td>1</td>\n",
       "      <td>Note Text</td>\n",
       "      <td>Norco Tablet 5-325 MG\\n\\tGive 1 tablet by mou...</td>\n",
       "    </tr>\n",
       "    <tr>\n",
       "      <td>14265321</td>\n",
       "      <td>avante</td>\n",
       "      <td>19821886</td>\n",
       "      <td>463552</td>\n",
       "      <td>15</td>\n",
       "      <td>eMAR-Medication Administration Note</td>\n",
       "      <td>2017-08-05 20:05:49.243</td>\n",
       "      <td>1</td>\n",
       "      <td>Note Text</td>\n",
       "      <td>OxyCODONE HCl Tablet 5 MG\\n\\tGive 2 tablet by...</td>\n",
       "    </tr>\n",
       "    <tr>\n",
       "      <td>3899</td>\n",
       "      <td>avante</td>\n",
       "      <td>59411</td>\n",
       "      <td>247</td>\n",
       "      <td>4</td>\n",
       "      <td>* General NURSING Note</td>\n",
       "      <td>2012-06-21 14:34:24.300</td>\n",
       "      <td>1</td>\n",
       "      <td>Note Text</td>\n",
       "      <td>continent of bowel and bladder. Peri care rend...</td>\n",
       "    </tr>\n",
       "    <tr>\n",
       "      <td>11807930</td>\n",
       "      <td>avante</td>\n",
       "      <td>16194204</td>\n",
       "      <td>397674</td>\n",
       "      <td>7</td>\n",
       "      <td>eMAR-Medication Administration Note</td>\n",
       "      <td>2016-10-03 08:08:49.633</td>\n",
       "      <td>1</td>\n",
       "      <td>Note Text</td>\n",
       "      <td>Enoxaparin Sodium Solution 40 MG/0.4ML\\n\\tInj...</td>\n",
       "    </tr>\n",
       "    <tr>\n",
       "      <td>10822644</td>\n",
       "      <td>avante</td>\n",
       "      <td>14711802</td>\n",
       "      <td>374022</td>\n",
       "      <td>14</td>\n",
       "      <td>eMAR-Medication Administration Note</td>\n",
       "      <td>2016-05-25 22:22:04.653</td>\n",
       "      <td>1</td>\n",
       "      <td>Note Text</td>\n",
       "      <td>\\n\\nPRN Administration was: Effective\\n</td>\n",
       "    </tr>\n",
       "    <tr>\n",
       "      <td>16261231</td>\n",
       "      <td>avante</td>\n",
       "      <td>22922332</td>\n",
       "      <td>514807</td>\n",
       "      <td>20</td>\n",
       "      <td>* General NURSING Note</td>\n",
       "      <td>2018-04-24 03:06:07.647</td>\n",
       "      <td>1</td>\n",
       "      <td>Note Text</td>\n",
       "      <td>afety measures in place. Call bell and fluids ...</td>\n",
       "    </tr>\n",
       "    <tr>\n",
       "      <td>4371910</td>\n",
       "      <td>avante</td>\n",
       "      <td>5497086</td>\n",
       "      <td>229637</td>\n",
       "      <td>8</td>\n",
       "      <td>* General NURSING Note</td>\n",
       "      <td>2014-05-11 22:16:05.497</td>\n",
       "      <td>1</td>\n",
       "      <td>Note Text</td>\n",
       "      <td>pt is alert with confusion. no complaints of p...</td>\n",
       "    </tr>\n",
       "    <tr>\n",
       "      <td>13010461</td>\n",
       "      <td>avante</td>\n",
       "      <td>17957819</td>\n",
       "      <td>372951</td>\n",
       "      <td>8</td>\n",
       "      <td>Dietary RD/DTR Data Collection Progress Note</td>\n",
       "      <td>2017-03-03 10:31:34.297</td>\n",
       "      <td>1</td>\n",
       "      <td>Note Text</td>\n",
       "      <td>darone HCL. Lab data collected from Medical hi...</td>\n",
       "    </tr>\n",
       "    <tr>\n",
       "      <td>10744242</td>\n",
       "      <td>avante</td>\n",
       "      <td>14592918</td>\n",
       "      <td>374508</td>\n",
       "      <td>3</td>\n",
       "      <td>* Skilled Nursing Note</td>\n",
       "      <td>2016-05-15 11:06:15.023</td>\n",
       "      <td>1</td>\n",
       "      <td>Note Text</td>\n",
       "      <td>s, pt educated and has been easily re-directed...</td>\n",
       "    </tr>\n",
       "    <tr>\n",
       "      <td>17830083</td>\n",
       "      <td>avante</td>\n",
       "      <td>25271232</td>\n",
       "      <td>629677</td>\n",
       "      <td>9</td>\n",
       "      <td>* Admission Note</td>\n",
       "      <td>2019-03-06 16:01:11.860</td>\n",
       "      <td>1</td>\n",
       "      <td>Note Text</td>\n",
       "      <td>Members of the IDT met with Mr. Hinthorne to i...</td>\n",
       "    </tr>\n",
       "  </tbody>\n",
       "</table>\n",
       "</div>"
      ],
      "text/plain": [
       "          client  ProgressNoteID  PatientID  FacilityID  \\\n",
       "4983691   avante         6320054     251673          20   \n",
       "14265321  avante        19821886     463552          15   \n",
       "3899      avante           59411        247           4   \n",
       "11807930  avante        16194204     397674           7   \n",
       "10822644  avante        14711802     374022          14   \n",
       "16261231  avante        22922332     514807          20   \n",
       "4371910   avante         5497086     229637           8   \n",
       "13010461  avante        17957819     372951           8   \n",
       "10744242  avante        14592918     374508           3   \n",
       "17830083  avante        25271232     629677           9   \n",
       "\n",
       "                                      ProgressNoteType  \\\n",
       "4983691            eMAR-Medication Administration Note   \n",
       "14265321           eMAR-Medication Administration Note   \n",
       "3899                            * General NURSING Note   \n",
       "11807930           eMAR-Medication Administration Note   \n",
       "10822644           eMAR-Medication Administration Note   \n",
       "16261231                        * General NURSING Note   \n",
       "4371910                         * General NURSING Note   \n",
       "13010461  Dietary RD/DTR Data Collection Progress Note   \n",
       "10744242                        * Skilled Nursing Note   \n",
       "17830083                              * Admission Note   \n",
       "\n",
       "                     CreatedDate  SectionSequence    Section  \\\n",
       "4983691  2014-07-21 05:18:40.853                1  Note Text   \n",
       "14265321 2017-08-05 20:05:49.243                1  Note Text   \n",
       "3899     2012-06-21 14:34:24.300                1  Note Text   \n",
       "11807930 2016-10-03 08:08:49.633                1  Note Text   \n",
       "10822644 2016-05-25 22:22:04.653                1  Note Text   \n",
       "16261231 2018-04-24 03:06:07.647                1  Note Text   \n",
       "4371910  2014-05-11 22:16:05.497                1  Note Text   \n",
       "13010461 2017-03-03 10:31:34.297                1  Note Text   \n",
       "10744242 2016-05-15 11:06:15.023                1  Note Text   \n",
       "17830083 2019-03-06 16:01:11.860                1  Note Text   \n",
       "\n",
       "                                                   NoteText  \n",
       "4983691    Norco Tablet 5-325 MG\\n\\tGive 1 tablet by mou...  \n",
       "14265321   OxyCODONE HCl Tablet 5 MG\\n\\tGive 2 tablet by...  \n",
       "3899      continent of bowel and bladder. Peri care rend...  \n",
       "11807930   Enoxaparin Sodium Solution 40 MG/0.4ML\\n\\tInj...  \n",
       "10822644            \\n\\nPRN Administration was: Effective\\n  \n",
       "16261231  afety measures in place. Call bell and fluids ...  \n",
       "4371910   pt is alert with confusion. no complaints of p...  \n",
       "13010461  darone HCL. Lab data collected from Medical hi...  \n",
       "10744242  s, pt educated and has been easily re-directed...  \n",
       "17830083  Members of the IDT met with Mr. Hinthorne to i...  "
      ]
     },
     "execution_count": 91,
     "metadata": {},
     "output_type": "execute_result"
    }
   ],
   "source": [
    "avante_notes.sample(10)"
   ]
  },
  {
   "cell_type": "code",
   "execution_count": null,
   "metadata": {},
   "outputs": [],
   "source": [
    "del"
   ]
  }
 ],
 "metadata": {
  "kernelspec": {
   "display_name": "Python 3",
   "language": "python",
   "name": "python3"
  },
  "language_info": {
   "codemirror_mode": {
    "name": "ipython",
    "version": 3
   },
   "file_extension": ".py",
   "mimetype": "text/x-python",
   "name": "python",
   "nbconvert_exporter": "python",
   "pygments_lexer": "ipython3",
   "version": "3.7.4"
  }
 },
 "nbformat": 4,
 "nbformat_minor": 2
}
