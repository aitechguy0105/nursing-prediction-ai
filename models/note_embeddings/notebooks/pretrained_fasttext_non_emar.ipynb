{
 "cells": [
  {
   "cell_type": "code",
   "execution_count": 1,
   "metadata": {},
   "outputs": [],
   "source": [
    "from gensim.models import FastText\n",
    "from gensim.models.fasttext import load_facebook_model\n",
    "import gensim.downloader as downloader\n",
    "import pickle\n",
    "import os\n",
    "import pandas as pd\n",
    "from multiprocessing import Pool, cpu_count"
   ]
  },
  {
   "cell_type": "code",
   "execution_count": 3,
   "metadata": {},
   "outputs": [
    {
     "name": "stderr",
     "output_type": "stream",
     "text": [
      "/opt/conda/lib/python3.7/site-packages/smart_open/smart_open_lib.py:398: UserWarning: This function is deprecated, use smart_open.open instead. See the migration notes for details: https://github.com/RaRe-Technologies/smart_open/blob/master/README.rst#migrating-to-the-new-open-function\n",
      "  'See the migration notes for details: %s' % _MIGRATION_NOTES_URL\n"
     ]
    }
   ],
   "source": [
    "model = load_facebook_model('/data/fasttext_models/pretrained/wiki.en.bin')"
   ]
  },
  {
   "cell_type": "code",
   "execution_count": 4,
   "metadata": {},
   "outputs": [
    {
     "data": {
      "text/plain": [
       "gensim.models.fasttext.FastText"
      ]
     },
     "execution_count": 4,
     "metadata": {},
     "output_type": "execute_result"
    }
   ],
   "source": [
    "type(model)"
   ]
  },
  {
   "cell_type": "code",
   "execution_count": 6,
   "metadata": {},
   "outputs": [],
   "source": [
    "model.workers = cpu_count() - 2"
   ]
  },
  {
   "cell_type": "code",
   "execution_count": 7,
   "metadata": {},
   "outputs": [],
   "source": [
    "non_emar_df = pd.read_pickle('/data/progress_notes/non_emar_notes_tokenized.pickle')"
   ]
  },
  {
   "cell_type": "code",
   "execution_count": 8,
   "metadata": {},
   "outputs": [
    {
     "data": {
      "text/html": [
       "<div>\n",
       "<style scoped>\n",
       "    .dataframe tbody tr th:only-of-type {\n",
       "        vertical-align: middle;\n",
       "    }\n",
       "\n",
       "    .dataframe tbody tr th {\n",
       "        vertical-align: top;\n",
       "    }\n",
       "\n",
       "    .dataframe thead th {\n",
       "        text-align: right;\n",
       "    }\n",
       "</style>\n",
       "<table border=\"1\" class=\"dataframe\">\n",
       "  <thead>\n",
       "    <tr style=\"text-align: right;\">\n",
       "      <th></th>\n",
       "      <th>2069461</th>\n",
       "      <th>2441325</th>\n",
       "      <th>6173806</th>\n",
       "      <th>8776490</th>\n",
       "      <th>148991</th>\n",
       "    </tr>\n",
       "  </thead>\n",
       "  <tbody>\n",
       "    <tr>\n",
       "      <td>client</td>\n",
       "      <td>avante</td>\n",
       "      <td>avante</td>\n",
       "      <td>avante</td>\n",
       "      <td>greystone</td>\n",
       "      <td>avante</td>\n",
       "    </tr>\n",
       "    <tr>\n",
       "      <td>FacilityID</td>\n",
       "      <td>7</td>\n",
       "      <td>8</td>\n",
       "      <td>26</td>\n",
       "      <td>33</td>\n",
       "      <td>1</td>\n",
       "    </tr>\n",
       "    <tr>\n",
       "      <td>PatientID</td>\n",
       "      <td>257254</td>\n",
       "      <td>293718</td>\n",
       "      <td>310313</td>\n",
       "      <td>1.00288e+07</td>\n",
       "      <td>162495</td>\n",
       "    </tr>\n",
       "    <tr>\n",
       "      <td>CreatedDate</td>\n",
       "      <td>2014-10-10 08:58:00.513000</td>\n",
       "      <td>2016-08-29 22:44:50.850000</td>\n",
       "      <td>2017-01-03 14:44:11.443000</td>\n",
       "      <td>2018-05-12 00:44:37.793000</td>\n",
       "      <td>2013-02-24 14:20:22.980000</td>\n",
       "    </tr>\n",
       "    <tr>\n",
       "      <td>ProgressNoteID</td>\n",
       "      <td>7296606</td>\n",
       "      <td>15801921</td>\n",
       "      <td>17248003</td>\n",
       "      <td>12060989</td>\n",
       "      <td>1264005</td>\n",
       "    </tr>\n",
       "    <tr>\n",
       "      <td>ProgressNoteType</td>\n",
       "      <td>* Skin / Wound Note</td>\n",
       "      <td>* General NURSING Note</td>\n",
       "      <td>* General NURSING Note</td>\n",
       "      <td>Health Status Note</td>\n",
       "      <td>* Skilled Nursing Note</td>\n",
       "    </tr>\n",
       "    <tr>\n",
       "      <td>Section</td>\n",
       "      <td>Plan</td>\n",
       "      <td>Note Text</td>\n",
       "      <td>Note Text</td>\n",
       "      <td>Note Text</td>\n",
       "      <td>Assessment</td>\n",
       "    </tr>\n",
       "    <tr>\n",
       "      <td>NoteText</td>\n",
       "      <td></td>\n",
       "      <td>Resident in bed watching tv. Able to verbalize...</td>\n",
       "      <td>LOA to appt this am &amp; returned. Hgb 9.0, had i...</td>\n",
       "      <td>ADMISSION: Member received lying in bed.  Is a...</td>\n",
       "      <td>Pt in bed in stable condition. Vital signs sta...</td>\n",
       "    </tr>\n",
       "    <tr>\n",
       "      <td>tokens</td>\n",
       "      <td>()</td>\n",
       "      <td>(resident, in, bed, watching, tv, . , able, to...</td>\n",
       "      <td>(loa, to, appt, this, am,  &amp; , returned, . , h...</td>\n",
       "      <td>(admission, : , member, received, lying, in, b...</td>\n",
       "      <td>(pt, in, bed, in, stable, condition, . , vital...</td>\n",
       "    </tr>\n",
       "  </tbody>\n",
       "</table>\n",
       "</div>"
      ],
      "text/plain": [
       "                                     2069461  \\\n",
       "client                                avante   \n",
       "FacilityID                                 7   \n",
       "PatientID                             257254   \n",
       "CreatedDate       2014-10-10 08:58:00.513000   \n",
       "ProgressNoteID                       7296606   \n",
       "ProgressNoteType         * Skin / Wound Note   \n",
       "Section                                 Plan   \n",
       "NoteText                                       \n",
       "tokens                                    ()   \n",
       "\n",
       "                                                            2441325  \\\n",
       "client                                                       avante   \n",
       "FacilityID                                                        8   \n",
       "PatientID                                                    293718   \n",
       "CreatedDate                              2016-08-29 22:44:50.850000   \n",
       "ProgressNoteID                                             15801921   \n",
       "ProgressNoteType                             * General NURSING Note   \n",
       "Section                                                   Note Text   \n",
       "NoteText          Resident in bed watching tv. Able to verbalize...   \n",
       "tokens            (resident, in, bed, watching, tv, . , able, to...   \n",
       "\n",
       "                                                            6173806  \\\n",
       "client                                                       avante   \n",
       "FacilityID                                                       26   \n",
       "PatientID                                                    310313   \n",
       "CreatedDate                              2017-01-03 14:44:11.443000   \n",
       "ProgressNoteID                                             17248003   \n",
       "ProgressNoteType                             * General NURSING Note   \n",
       "Section                                                   Note Text   \n",
       "NoteText          LOA to appt this am & returned. Hgb 9.0, had i...   \n",
       "tokens            (loa, to, appt, this, am,  & , returned, . , h...   \n",
       "\n",
       "                                                            8776490  \\\n",
       "client                                                    greystone   \n",
       "FacilityID                                                       33   \n",
       "PatientID                                               1.00288e+07   \n",
       "CreatedDate                              2018-05-12 00:44:37.793000   \n",
       "ProgressNoteID                                             12060989   \n",
       "ProgressNoteType                                 Health Status Note   \n",
       "Section                                                   Note Text   \n",
       "NoteText          ADMISSION: Member received lying in bed.  Is a...   \n",
       "tokens            (admission, : , member, received, lying, in, b...   \n",
       "\n",
       "                                                            148991   \n",
       "client                                                       avante  \n",
       "FacilityID                                                        1  \n",
       "PatientID                                                    162495  \n",
       "CreatedDate                              2013-02-24 14:20:22.980000  \n",
       "ProgressNoteID                                              1264005  \n",
       "ProgressNoteType                             * Skilled Nursing Note  \n",
       "Section                                                  Assessment  \n",
       "NoteText          Pt in bed in stable condition. Vital signs sta...  \n",
       "tokens            (pt, in, bed, in, stable, condition, . , vital...  "
      ]
     },
     "execution_count": 8,
     "metadata": {},
     "output_type": "execute_result"
    }
   ],
   "source": [
    "non_emar_df.sample(5).T"
   ]
  },
  {
   "cell_type": "code",
   "execution_count": 9,
   "metadata": {},
   "outputs": [],
   "source": [
    "tokens = non_emar_df.loc[non_emar_df['tokens'].apply(len)>2, 'tokens'].to_list()"
   ]
  },
  {
   "cell_type": "code",
   "execution_count": 10,
   "metadata": {},
   "outputs": [
    {
     "data": {
      "text/plain": [
       "8393856"
      ]
     },
     "execution_count": 10,
     "metadata": {},
     "output_type": "execute_result"
    }
   ],
   "source": [
    "len(tokens)"
   ]
  },
  {
   "cell_type": "code",
   "execution_count": 11,
   "metadata": {},
   "outputs": [
    {
     "name": "stdout",
     "output_type": "stream",
     "text": [
      "CPU times: user 3min 55s, sys: 11.3 s, total: 4min 6s\n",
      "Wall time: 4min 6s\n"
     ]
    }
   ],
   "source": [
    "%%time\n",
    "model.build_vocab(tokens, update=True)"
   ]
  },
  {
   "cell_type": "code",
   "execution_count": null,
   "metadata": {},
   "outputs": [],
   "source": [
    "%%time\n",
    "model.train(sentences=tokens, total_examples=len(tokens), window=7, epochs=20)"
   ]
  },
  {
   "cell_type": "code",
   "execution_count": null,
   "metadata": {},
   "outputs": [],
   "source": [
    "model.save('/data/models/ft_non_emar.model')"
   ]
  },
  {
   "cell_type": "code",
   "execution_count": null,
   "metadata": {},
   "outputs": [],
   "source": [
    "!aws s3 cp /data/models/ft_non_emar.model s3://saiva-dev-data-bucket/data/fasttext_models/2019-08-29/ft_non_emar.model"
   ]
  },
  {
   "cell_type": "code",
   "execution_count": null,
   "metadata": {},
   "outputs": [],
   "source": [
    "!aws s3 sync /data/models/ s3://saiva-dev-data-bucket/data/fasttext_models/2019-08-29/"
   ]
  },
  {
   "cell_type": "code",
   "execution_count": 50,
   "metadata": {},
   "outputs": [],
   "source": [
    "emar_df = pd.read_pickle('/data/emar_notes_tokenized.pickle')\n",
    "tokens = emar_df.loc[emar_df['tokens'].apply(len)>2, 'tokens'].to_list()"
   ]
  },
  {
   "cell_type": "code",
   "execution_count": 51,
   "metadata": {},
   "outputs": [],
   "source": [
    "model = FastText(size=300, window=5, workers=os.cpu_count()-2, min_count=50)"
   ]
  },
  {
   "cell_type": "code",
   "execution_count": 52,
   "metadata": {},
   "outputs": [],
   "source": [
    "model.wv = starting_vectors"
   ]
  },
  {
   "cell_type": "code",
   "execution_count": null,
   "metadata": {},
   "outputs": [],
   "source": [
    "%%time\n",
    "model.build_vocab(tokens, update=True)"
   ]
  },
  {
   "cell_type": "code",
   "execution_count": null,
   "metadata": {},
   "outputs": [],
   "source": [
    "%%time\n",
    "model.train(sentences=tokens, total_examples=len(tokens), window=7, epochs=30)"
   ]
  },
  {
   "cell_type": "code",
   "execution_count": null,
   "metadata": {},
   "outputs": [],
   "source": [
    "model.save('/data/models/ft_emar.model')"
   ]
  },
  {
   "cell_type": "code",
   "execution_count": null,
   "metadata": {},
   "outputs": [],
   "source": []
  },
  {
   "cell_type": "code",
   "execution_count": 17,
   "metadata": {},
   "outputs": [],
   "source": [
    "!aws s3 sync /data/models/ s3://saiva-dev-data-bucket/data/fasttext_models/2019-08-27/"
   ]
  }
 ],
 "metadata": {
  "kernelspec": {
   "display_name": "Python 3",
   "language": "python",
   "name": "python3"
  },
  "language_info": {
   "codemirror_mode": {
    "name": "ipython",
    "version": 3
   },
   "file_extension": ".py",
   "mimetype": "text/x-python",
   "name": "python",
   "nbconvert_exporter": "python",
   "pygments_lexer": "ipython3",
   "version": "3.7.4"
  }
 },
 "nbformat": 4,
 "nbformat_minor": 2
}
