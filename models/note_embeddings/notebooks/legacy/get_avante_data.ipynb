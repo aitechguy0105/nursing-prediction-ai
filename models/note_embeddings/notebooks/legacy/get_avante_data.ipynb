{
 "cells": [
  {
   "cell_type": "code",
   "execution_count": 1,
   "metadata": {},
   "outputs": [],
   "source": [
    "import boto3\n",
    "import pandas as pd\n",
    "import numpy as np\n",
    "from pathlib import Path\n",
    "import json\n",
    "import re\n",
    "\n",
    "from sqlalchemy import create_engine\n",
    "from sqlalchemy.engine.url import URL\n",
    "\n",
    "from sklearn.ensemble import forest, gradient_boosting\n",
    "from sklearn.metrics import roc_auc_score, average_precision_score\n",
    "from sklearn.feature_selection import SelectFromModel, SelectKBest\n",
    "\n",
    "import mlflow\n",
    "from mlflow import log_metric, log_param, log_artifact\n",
    "from mlflow.sklearn import log_model\n",
    "from sklearn.model_selection import ParameterGrid\n",
    "#import shap"
   ]
  },
  {
   "cell_type": "code",
   "execution_count": 2,
   "metadata": {},
   "outputs": [],
   "source": [
    "train_start_date = '2017-01-01'\n",
    "train_end_date = '2019-02-28'\n",
    "valid_end_date = ''"
   ]
  },
  {
   "cell_type": "code",
   "execution_count": 3,
   "metadata": {},
   "outputs": [],
   "source": [
    "secret_name = \"cust_db_credentials\"\n",
    "region_name = \"us-east-1\"\n",
    "\n",
    "# Create a Secrets Manager client\n",
    "session = boto3.session.Session()\n",
    "client = session.client(service_name=\"secretsmanager\", region_name=region_name)\n",
    "\n",
    "get_secret_value_response = client.get_secret_value(SecretId=secret_name)\n",
    "\n",
    "db_info = json.loads(get_secret_value_response[\"SecretString\"])\n",
    "\n",
    "avan_connect_url = URL(\n",
    "    drivername=\"mssql+pyodbc\",\n",
    "    username=db_info[\"username\"],\n",
    "    password=db_info[\"password\"],\n",
    "    host=db_info[\"host\"],\n",
    "    database=\"AVAN\",\n",
    "    query={'driver': 'ODBC Driver 17 for SQL Server'}\n",
    ")\n",
    "\n",
    "avan_engine = create_engine(avan_connect_url)"
   ]
  },
  {
   "cell_type": "code",
   "execution_count": 4,
   "metadata": {},
   "outputs": [],
   "source": [
    "# Avante Data"
   ]
  },
  {
   "cell_type": "code",
   "execution_count": 5,
   "metadata": {},
   "outputs": [
    {
     "data": {
      "text/plain": [
       "[(1,)]"
      ]
     },
     "execution_count": 5,
     "metadata": {},
     "output_type": "execute_result"
    }
   ],
   "source": [
    "avan_engine.execute('select 1').fetchall()"
   ]
  },
  {
   "cell_type": "code",
   "execution_count": 6,
   "metadata": {},
   "outputs": [],
   "source": [
    "data_path = Path('/code/data/raw')\n",
    "data_path.mkdir(parents=True, exist_ok=True)"
   ]
  },
  {
   "cell_type": "code",
   "execution_count": 7,
   "metadata": {},
   "outputs": [],
   "source": [
    "query = f'''\n",
    "select patientid, facilityid, masterpatientid\n",
    "from view_ods_facility_patient\n",
    "where facilityid in (select facilityid from view_ods_facility where lineofbusiness = 'SNF')\n",
    "'''\n",
    "\n",
    "master_patient_lookup = pd.read_sql(query, con=avan_engine)\n",
    "master_patient_lookup.to_parquet(data_path/'master_patient_lookup.parquet')"
   ]
  },
  {
   "cell_type": "code",
   "execution_count": 8,
   "metadata": {},
   "outputs": [],
   "source": [
    "query = f'''\n",
    "select patientid, facilityid, dateoftransfer, purposeofstay, transferredto,\n",
    "orderedbyid, transferreason, otherreasonfortransfer, planned,\n",
    "hospitaldischargedate, primaryphysicianid \n",
    "from view_ods_hospital_transfers_transfer_log_v2\n",
    "where dateoftransfer between '{train_start_date}' and '{train_end_date}'\n",
    "and facilityid in (select facilityid from view_ods_facility where lineofbusiness = 'SNF')\n",
    "'''\n",
    "\n",
    "patient_rehosps = pd.read_sql(query, con=avan_engine)\n",
    "patient_rehosps = patient_rehosps.merge(master_patient_lookup, on=['patientid', 'facilityid'])\n",
    "patient_rehosps.to_parquet(data_path/'patient_rehosps.parquet')"
   ]
  },
  {
   "cell_type": "code",
   "execution_count": 9,
   "metadata": {},
   "outputs": [],
   "source": [
    "query = f'''\n",
    "select masterpatientid, gender, dateofbirth, education, citizenship, race, religion, state, primarylanguage\n",
    "from view_ods_master_patient\n",
    "'''\n",
    "\n",
    "patient_demographics = pd.read_sql(query, con=avan_engine)\n",
    "patient_demographics.to_parquet(data_path/'patient_demographics.parquet')"
   ]
  },
  {
   "cell_type": "code",
   "execution_count": 10,
   "metadata": {},
   "outputs": [],
   "source": [
    "query = f'''\n",
    "select clientid as patientid, censusdate, facilityid, bedid, beddescription, roomratetypedescription, payercode, carelevelcode\n",
    "from view_ods_daily_census_v2\n",
    "where censusdate between '{train_start_date}' and '{train_end_date}'\n",
    "and facilityid in (select facilityid from view_ods_facility where lineofbusiness = 'SNF')\n",
    "'''\n",
    "\n",
    "patient_census = pd.read_sql(query, con=avan_engine)\n",
    "patient_census = patient_census.merge(master_patient_lookup, on=['patientid','facilityid'])\n",
    "patient_census.to_parquet(data_path/'patient_census.parquet')"
   ]
  },
  {
   "cell_type": "code",
   "execution_count": 11,
   "metadata": {},
   "outputs": [],
   "source": [
    "query = f'''\n",
    "select patientid, onsetdate, facilityid, diagnosiscode, diagnosisdesc, classification, rank\n",
    "from view_ods_patient_diagnosis\n",
    "where onsetdate between '{train_start_date}' and '{train_end_date}'\n",
    "and facilityid in (select facilityid from view_ods_facility where lineofbusiness = 'SNF')\n",
    "'''\n",
    "\n",
    "patient_diagnosis = pd.read_sql(query, con=avan_engine)\n",
    "patient_diagnosis = patient_diagnosis.merge(master_patient_lookup, on=['patientid','facilityid'])\n",
    "patient_diagnosis.to_parquet(data_path/'patient_diagnosis.parquet')"
   ]
  },
  {
   "cell_type": "code",
   "execution_count": 12,
   "metadata": {},
   "outputs": [],
   "source": [
    "query = f'''\n",
    "select clientid as patientid, facilityid, date, bmi, vitalsdescription, value, diastolicvalue, warnings\n",
    "from view_ods_Patient_weights_vitals\n",
    "where date between '{train_start_date}' and '{train_end_date}'\n",
    "and facilityid in (select facilityid from view_ods_facility where lineofbusiness = 'SNF')\n",
    "and clientid in (select distinct clientid from view_ods_daily_census_v2 where censusdate between '{train_start_date}' and '{train_end_date}')\n",
    "'''\n",
    "\n",
    "patient_vitals = pd.read_sql(query, con=avan_engine)\n",
    "patient_vitals = patient_vitals.merge(master_patient_lookup, on=['patientid', 'facilityid'])\n",
    "patient_vitals.to_parquet(data_path/'patient_vitals.parquet')"
   ]
  },
  {
   "cell_type": "code",
   "execution_count": 13,
   "metadata": {},
   "outputs": [],
   "source": [
    "query = f'''\n",
    "select distinct patientid, facilityid, orderdate, gpiclassdescription, gpisubclassdescription\n",
    "from view_ods_physician_order_list_v2 a\n",
    "inner join view_ods_physician_order_list_med b\n",
    "on a.PhysicianOrderID = b.PhysiciansOrderID \n",
    "where orderdate between '{train_start_date}' and '{train_end_date}';\n",
    "'''\n",
    "\n",
    "patient_meds = pd.read_sql(query, con=avan_engine)\n",
    "patient_meds = patient_meds.merge(master_patient_lookup, on=['patientid', 'facilityid'])\n",
    "patient_meds.to_parquet(data_path/'patient_meds.parquet')"
   ]
  },
  {
   "cell_type": "code",
   "execution_count": 14,
   "metadata": {},
   "outputs": [],
   "source": [
    "query = f'''\n",
    "select distinct patientid, facilityid, orderdate, ordercategory, ordertype, orderdescription, pharmacymedicationname, diettype, diettexture, dietsupplement\n",
    "from view_ods_physician_order_list_v2\n",
    "where orderdate between '{train_start_date}' and '{train_end_date}'\n",
    "and ordercategory in ('Diagnostic', 'Enteral - Feeding', 'Dietary - Diet', 'Dietary - Supplements')\n",
    "'''\n",
    "\n",
    "patient_orders = pd.read_sql(query, con=avan_engine)\n",
    "patient_orders = patient_orders.merge(master_patient_lookup, on=['patientid','facilityid'])\n",
    "patient_orders.to_parquet(data_path/'patient_orders.parquet')"
   ]
  },
  {
   "cell_type": "code",
   "execution_count": 15,
   "metadata": {},
   "outputs": [],
   "source": [
    "query = f'''\n",
    "select distinct patientid, facilityid, orderdate, ordercategory, ordertype, orderdescription, pharmacymedicationname, diettype, diettexture, dietsupplement\n",
    "from view_ods_physician_order_list_v2\n",
    "where orderdate between '{train_start_date}' and '{train_end_date}'\n",
    "and ordercategory in ('Pharmacy', 'Diagnostic', 'Enteral - Feeding', 'Dietary - Diet', 'Dietary - Supplements')\n",
    "'''\n",
    "\n",
    "patient_orders = pd.read_sql(query, con=avan_engine)\n",
    "patient_orders = patient_orders.merge(master_patient_lookup, on=['patientid','facilityid'])\n",
    "patient_orders.to_parquet(data_path/'patient_orders.parquet')"
   ]
  },
  {
   "cell_type": "code",
   "execution_count": 16,
   "metadata": {},
   "outputs": [],
   "source": [
    "# detailed results seem to only start on 2019-03-03 and onwards - commenting out for now, revisit when we have more data\n",
    "\n",
    "#query = f'''\n",
    "#select c.patientid, a.resultdate, a.profiledescription, a.referencerange, a.result, a.abnormalityid, e.abnormalitydescription, b.reportdesciption, b.severityid, d.severitydescription from view_ods_result_lab_report_detail a\n",
    "#left join view_ods_result_lab_report b on a.LabReportID = b.LabReportID\n",
    "#left join view_ods_result_order_source c on b.ResultOrderSourceID = c.ResultOrderSourceID\n",
    "#left join view_ods_result_lab_report_severity d on b.SeverityID = d.SeverityID\n",
    "#left join view_ods_result_lab_test_abnormality e on a.AbnormalityID = e.AbnormalityID\n",
    "#'''\n",
    "\n",
    "#patient_lab_results = pd.read_sql(query, con=avan_engine)\n",
    "#patient_lab_results.to_parquet(data_path/'patient_detailed_lab_results.parquet')"
   ]
  },
  {
   "cell_type": "code",
   "execution_count": 17,
   "metadata": {},
   "outputs": [],
   "source": [
    "query = f'''\n",
    "select patientid, facilityid, createddate, stdalertid, alertdescription, a.triggereditemtype, description\n",
    "from [view_ods_cr_alert] a left join view_ods_cr_alert_triggered_item_type b\n",
    "on a.triggereditemtype = b.triggereditemtype\n",
    "where createddate between '{train_start_date}' and '{train_end_date}' and \n",
    "((triggereditemid is not null) or (a.triggereditemtype is not null))\n",
    "'''\n",
    "\n",
    "patient_alerts = pd.read_sql(query, con=avan_engine)\n",
    "patient_alerts = patient_alerts.merge(master_patient_lookup, on=['patientid','facilityid'])\n",
    "patient_alerts.to_parquet(data_path/'patient_alerts.parquet')"
   ]
  },
  {
   "cell_type": "code",
   "execution_count": 18,
   "metadata": {},
   "outputs": [],
   "source": [
    "patient_demographics = pd.read_parquet(data_path/'patient_demographics.parquet')\n",
    "patient_orders = pd.read_parquet(data_path/'patient_orders.parquet')\n",
    "patient_vitals = pd.read_parquet(data_path/'patient_vitals.parquet')\n",
    "patient_rehosps = pd.read_parquet(data_path/'patient_rehosps.parquet')\n",
    "patient_orders = pd.read_parquet(data_path/'patient_orders.parquet')\n",
    "patient_census = pd.read_parquet(data_path/'patient_census.parquet')\n",
    "patient_diagnosis = pd.read_parquet(data_path/'patient_diagnosis.parquet')\n",
    "patient_alerts = pd.read_parquet(data_path/'patient_alerts.parquet')\n",
    "patient_meds = pd.read_parquet(data_path/'patient_meds.parquet')"
   ]
  },
  {
   "cell_type": "code",
   "execution_count": 19,
   "metadata": {},
   "outputs": [],
   "source": [
    "def sorter(df, sort_keys=[]):\n",
    "    return df.sort_values(by=sort_keys)\n",
    "\n",
    "def deduper(df, unique_keys=[]):\n",
    "    df = df.drop_duplicates(subset=unique_keys, keep='last')\n",
    "    assert df.duplicated(subset=unique_keys).sum() == 0, f'''Still have dupes!'''\n",
    "    \n",
    "    return df"
   ]
  },
  {
   "cell_type": "code",
   "execution_count": 20,
   "metadata": {},
   "outputs": [],
   "source": [
    "patient_census = sorter(patient_census, sort_keys=['masterpatientid', 'censusdate'])\n",
    "patient_vitals = sorter(patient_vitals, sort_keys=['masterpatientid', 'date'])\n",
    "patient_orders = sorter(patient_orders, sort_keys=['masterpatientid', 'orderdate'])\n",
    "patient_rehosps = sorter(patient_rehosps, sort_keys=['masterpatientid', 'dateoftransfer'])\n",
    "patient_alerts = sorter(patient_alerts, sort_keys=['masterpatientid', 'createddate'])\n",
    "patient_meds = sorter(patient_meds, sort_keys=['masterpatientid', 'orderdate'])"
   ]
  },
  {
   "cell_type": "code",
   "execution_count": 21,
   "metadata": {},
   "outputs": [],
   "source": [
    "patient_census = deduper(patient_census, unique_keys=['masterpatientid', 'censusdate'])\n",
    "patient_demographics = deduper(patient_demographics, unique_keys=['masterpatientid'])\n",
    "patient_vitals = deduper(patient_vitals, unique_keys=['masterpatientid', 'date', 'vitalsdescription'])\n",
    "patient_orders = deduper(patient_orders, unique_keys=['masterpatientid', 'orderdate', 'orderdescription'])\n",
    "patient_rehosps = deduper(patient_rehosps, unique_keys=['masterpatientid', 'dateoftransfer'])\n",
    "patient_alerts = deduper(patient_alerts, unique_keys=['masterpatientid', 'createddate', 'alertdescription'])\n",
    "patient_meds = deduper(patient_meds, unique_keys=['masterpatientid', 'orderdate', 'gpisubclassdescription'])"
   ]
  },
  {
   "cell_type": "code",
   "execution_count": 22,
   "metadata": {},
   "outputs": [],
   "source": [
    "base = pd.DataFrame({'censusdate': pd.date_range(start='2017-01-01', end='2019-02-28')})"
   ]
  },
  {
   "cell_type": "code",
   "execution_count": 23,
   "metadata": {},
   "outputs": [],
   "source": [
    "patient_rehosps['dateoftransfer'] = pd.to_datetime(patient_rehosps.dateoftransfer.dt.date)"
   ]
  },
  {
   "cell_type": "code",
   "execution_count": 24,
   "metadata": {},
   "outputs": [],
   "source": [
    "base2 = base.merge(patient_census, how='left', on=['censusdate'])\n",
    "base3 = base2.merge(patient_demographics, how='left', on=['masterpatientid'])\n",
    "\n",
    "del base2;"
   ]
  },
  {
   "cell_type": "code",
   "execution_count": 25,
   "metadata": {},
   "outputs": [],
   "source": [
    "vitals = patient_vitals.set_index(keys=['masterpatientid','facilityid','date']).drop(columns='patientid')\n",
    "vitals['warnings'] = vitals.warnings.notna()\n",
    "\n",
    "diastolic = vitals.pop('diastolicvalue')\n",
    "diastolic = diastolic.dropna()\n",
    "\n",
    "warnings = vitals.pop('warnings')\n",
    "bmi = vitals.pop('bmi')\n",
    "\n",
    "vitals = vitals.reset_index()\n",
    "diastolic = diastolic.reset_index()\n",
    "warnings = warnings.reset_index()\n",
    "bmi = bmi.reset_index()\n",
    "\n",
    "bmi['bmi'] = bmi.bmi.replace({'Height required': None, 'Height and weight required':None, 'Weight required':None}).astype(float)\n",
    "\n",
    "vitals['date'] = vitals.pop('date').dt.date\n",
    "diastolic['date'] = diastolic.pop('date').dt.date\n",
    "warnings['date'] = warnings.pop('date').dt.date\n",
    "bmi['date'] = bmi.pop('date').dt.date"
   ]
  },
  {
   "cell_type": "code",
   "execution_count": 26,
   "metadata": {},
   "outputs": [],
   "source": [
    "aggs=['median','std', 'max', 'min']\n",
    "vitals_pivoted = vitals.pivot_table(index=['masterpatientid','facilityid', 'date'], values='value', columns='vitalsdescription', aggfunc=aggs).reset_index()\n",
    "diastolic_pivoted = diastolic.pivot_table(index=['masterpatientid','facilityid', 'date'], values='diastolicvalue', aggfunc=aggs).reset_index()\n",
    "warnings_pivoted = warnings.pivot_table(index=['masterpatientid', 'facilityid', 'date'], values='warnings', aggfunc=sum).reset_index()\n",
    "bmi_pivoted = bmi.pivot_table(index=['masterpatientid', 'facilityid', 'date'], values='bmi', aggfunc=max).reset_index()"
   ]
  },
  {
   "cell_type": "code",
   "execution_count": 27,
   "metadata": {},
   "outputs": [],
   "source": [
    "def clean_multi_columns(cols):\n",
    "    new_cols = []\n",
    "    \n",
    "    for col in cols:\n",
    "        if col[1] == '':\n",
    "            new_cols.append(col[0])\n",
    "        else:\n",
    "            new_cols.append('_'.join(col))\n",
    "            \n",
    "    return new_cols"
   ]
  },
  {
   "cell_type": "code",
   "execution_count": 28,
   "metadata": {},
   "outputs": [],
   "source": [
    "vitals_pivoted.columns = clean_multi_columns(vitals_pivoted.columns)\n",
    "diastolic_pivoted.columns = clean_multi_columns(diastolic_pivoted.columns)"
   ]
  },
  {
   "cell_type": "code",
   "execution_count": 29,
   "metadata": {},
   "outputs": [],
   "source": [
    "warnings_pivoted['date'] = pd.to_datetime(warnings_pivoted['date'])\n",
    "bmi_pivoted['date'] = pd.to_datetime(bmi_pivoted['date'])"
   ]
  },
  {
   "cell_type": "code",
   "execution_count": 30,
   "metadata": {},
   "outputs": [],
   "source": [
    "vitals_pivoted = vitals_pivoted.drop_duplicates(subset=['masterpatientid','date'], keep='last')\n",
    "diastolic_pivoted = diastolic_pivoted.drop_duplicates(subset=['masterpatientid','date'], keep='last')\n",
    "warnings_pivoted = warnings_pivoted.drop_duplicates(subset=['masterpatientid','date'], keep='last')\n",
    "bmi_pivoted = bmi_pivoted.drop_duplicates(subset=['masterpatientid','date'], keep='last')"
   ]
  },
  {
   "cell_type": "code",
   "execution_count": 31,
   "metadata": {},
   "outputs": [],
   "source": [
    "vitals_base = vitals_pivoted.merge(diastolic_pivoted, how='left', on=['masterpatientid', 'facilityid', 'date'])\n",
    "vitals_base2 = vitals_base.merge(warnings_pivoted, how='left', on=['masterpatientid', 'facilityid', 'date'])\n",
    "vitals_final = vitals_base2.merge(bmi_pivoted, how='left', on=['masterpatientid', 'facilityid', 'date'])\n",
    "vitals_final.columns = 'vtl_' + vitals_final.columns"
   ]
  },
  {
   "cell_type": "code",
   "execution_count": 32,
   "metadata": {},
   "outputs": [],
   "source": [
    "base4 = base3.merge(vitals_final, how='left', left_on=['masterpatientid','facilityid','censusdate'], right_on=['vtl_masterpatientid', 'vtl_facilityid','vtl_date'])"
   ]
  },
  {
   "cell_type": "code",
   "execution_count": 33,
   "metadata": {},
   "outputs": [],
   "source": [
    "del vitals; del vitals_pivoted; del diastolic_pivoted; del warnings_pivoted; del bmi_pivoted; del vitals_base; del vitals_base2; del vitals_final; del base3;"
   ]
  },
  {
   "cell_type": "code",
   "execution_count": 34,
   "metadata": {},
   "outputs": [],
   "source": [
    "lookup_ccs = pd.read_csv('/code/data/lookup_tables/ccs_dx_icd10cm_2019_1.csv')\n",
    "lookup_ccs.columns = lookup_ccs.columns.str.replace(\"'\",\"\")\n",
    "lookup_ccs = lookup_ccs.apply(lambda x: x.str.replace(\"'\",\"\"))"
   ]
  },
  {
   "cell_type": "code",
   "execution_count": 35,
   "metadata": {},
   "outputs": [],
   "source": [
    "patient_diagnosis['indicator'] = 1\n",
    "patient_diagnosis['diagnosiscode'] = patient_diagnosis.diagnosiscode.str.replace('.','')\n",
    "patient_diagnosis['onsetdate'] = patient_diagnosis.onsetdate.dt.date"
   ]
  },
  {
   "cell_type": "code",
   "execution_count": 36,
   "metadata": {},
   "outputs": [],
   "source": [
    "patient_diagnosis = patient_diagnosis.merge(lookup_ccs, how='left', left_on=['diagnosiscode'], right_on=['ICD-10-CM CODE'])\n",
    "patient_diagnosis['ccs_label'] = patient_diagnosis['MULTI CCS LVL 1 LABEL'] + ' - ' + patient_diagnosis['MULTI CCS LVL 2 LABEL']"
   ]
  },
  {
   "cell_type": "code",
   "execution_count": 37,
   "metadata": {},
   "outputs": [],
   "source": [
    "diagnosis_pivoted = patient_diagnosis.loc[:,['masterpatientid', 'onsetdate', 'ccs_label', 'indicator']].pivot_table(index=['masterpatientid', 'onsetdate'], columns=['ccs_label'], values='indicator', fill_value=0).reset_index()\n",
    "diagnosis_pivoted['onsetdate'] = pd.to_datetime(diagnosis_pivoted.onsetdate)\n",
    "diagnosis_pivoted.columns = 'dx_' + diagnosis_pivoted.columns"
   ]
  },
  {
   "cell_type": "code",
   "execution_count": 38,
   "metadata": {},
   "outputs": [],
   "source": [
    "base5 = base4.merge(diagnosis_pivoted, how='left', left_on=['masterpatientid','censusdate'], right_on=['dx_masterpatientid','dx_onsetdate'])"
   ]
  },
  {
   "cell_type": "code",
   "execution_count": 39,
   "metadata": {},
   "outputs": [],
   "source": [
    "del base4; del diagnosis_pivoted;"
   ]
  },
  {
   "cell_type": "code",
   "execution_count": 40,
   "metadata": {},
   "outputs": [],
   "source": [
    "patient_meds.loc[patient_meds.gpisubclassdescription.isna(), 'gpisubclassdescription'] = patient_meds.loc[patient_meds.gpisubclassdescription.isna(), 'gpiclassdescription']\n",
    "patient_meds['orderdate'] = patient_meds.orderdate.dt.date\n",
    "patient_meds['indicator'] = 1\n",
    "meds_pivoted = patient_meds.loc[:,['masterpatientid', 'orderdate', 'gpisubclassdescription', 'indicator']].pivot_table(index=['masterpatientid', 'orderdate'], columns=['gpisubclassdescription'], values='indicator', fill_value=0).reset_index()"
   ]
  },
  {
   "cell_type": "code",
   "execution_count": 41,
   "metadata": {},
   "outputs": [],
   "source": [
    "meds_pivoted.columns = 'med_' + meds_pivoted.columns"
   ]
  },
  {
   "cell_type": "code",
   "execution_count": 42,
   "metadata": {},
   "outputs": [],
   "source": [
    "meds_pivoted = meds_pivoted.drop_duplicates(subset=['med_masterpatientid','med_orderdate'])"
   ]
  },
  {
   "cell_type": "code",
   "execution_count": 43,
   "metadata": {},
   "outputs": [],
   "source": [
    "meds_pivoted['med_orderdate'] = pd.to_datetime(meds_pivoted.med_orderdate)"
   ]
  },
  {
   "cell_type": "code",
   "execution_count": 44,
   "metadata": {},
   "outputs": [],
   "source": [
    "base6 = base5.merge(meds_pivoted, how='left', left_on=['masterpatientid', 'censusdate'], right_on=['med_masterpatientid', 'med_orderdate'])"
   ]
  },
  {
   "cell_type": "code",
   "execution_count": 45,
   "metadata": {},
   "outputs": [],
   "source": [
    "del base5; del meds_pivoted;"
   ]
  },
  {
   "cell_type": "code",
   "execution_count": 46,
   "metadata": {},
   "outputs": [
    {
     "name": "stderr",
     "output_type": "stream",
     "text": [
      "/opt/conda/lib/python3.7/site-packages/ipykernel_launcher.py:2: SettingWithCopyWarning: \n",
      "A value is trying to be set on a copy of a slice from a DataFrame.\n",
      "Try using .loc[row_indexer,col_indexer] = value instead\n",
      "\n",
      "See the caveats in the documentation: http://pandas.pydata.org/pandas-docs/stable/indexing.html#indexing-view-versus-copy\n",
      "  \n",
      "/opt/conda/lib/python3.7/site-packages/ipykernel_launcher.py:3: SettingWithCopyWarning: \n",
      "A value is trying to be set on a copy of a slice from a DataFrame.\n",
      "Try using .loc[row_indexer,col_indexer] = value instead\n",
      "\n",
      "See the caveats in the documentation: http://pandas.pydata.org/pandas-docs/stable/indexing.html#indexing-view-versus-copy\n",
      "  This is separate from the ipykernel package so we can avoid doing imports until\n"
     ]
    }
   ],
   "source": [
    "diagnostic_orders = patient_orders.loc[patient_orders.ordercategory == 'Diagnostic']\n",
    "diagnostic_orders['orderdate'] = diagnostic_orders.orderdate.dt.date\n",
    "diagnostic_orders['count_indicator_diagnostic_orders'] = 1"
   ]
  },
  {
   "cell_type": "code",
   "execution_count": 47,
   "metadata": {},
   "outputs": [],
   "source": [
    "diagnostic_pivoted = diagnostic_orders.drop(columns=['patientid', 'ordercategory', 'ordertype', 'orderdescription', 'pharmacymedicationname', 'diettype', 'diettexture', 'dietsupplement']).pivot_table(index=['masterpatientid', 'facilityid', 'orderdate'], values=['count_indicator_diagnostic_orders'], aggfunc=sum).reset_index()"
   ]
  },
  {
   "cell_type": "code",
   "execution_count": 48,
   "metadata": {},
   "outputs": [],
   "source": [
    "diagnostic_pivoted['orderdate'] = pd.to_datetime(diagnostic_pivoted.orderdate)\n",
    "diagnostic_pivoted.columns = 'order_' + diagnostic_pivoted.columns"
   ]
  },
  {
   "cell_type": "code",
   "execution_count": 49,
   "metadata": {},
   "outputs": [],
   "source": [
    "base7 = base6.merge(diagnostic_pivoted, how='left', left_on=['masterpatientid','facilityid','censusdate'], right_on=['order_masterpatientid','order_facilityid','order_orderdate'])"
   ]
  },
  {
   "cell_type": "code",
   "execution_count": 50,
   "metadata": {},
   "outputs": [],
   "source": [
    "del base6; del diagnostic_pivoted; del diagnostic_orders;"
   ]
  },
  {
   "cell_type": "code",
   "execution_count": 51,
   "metadata": {},
   "outputs": [
    {
     "name": "stderr",
     "output_type": "stream",
     "text": [
      "/opt/conda/lib/python3.7/site-packages/ipykernel_launcher.py:2: SettingWithCopyWarning: \n",
      "A value is trying to be set on a copy of a slice from a DataFrame.\n",
      "Try using .loc[row_indexer,col_indexer] = value instead\n",
      "\n",
      "See the caveats in the documentation: http://pandas.pydata.org/pandas-docs/stable/indexing.html#indexing-view-versus-copy\n",
      "  \n",
      "/opt/conda/lib/python3.7/site-packages/ipykernel_launcher.py:3: SettingWithCopyWarning: \n",
      "A value is trying to be set on a copy of a slice from a DataFrame.\n",
      "Try using .loc[row_indexer,col_indexer] = value instead\n",
      "\n",
      "See the caveats in the documentation: http://pandas.pydata.org/pandas-docs/stable/indexing.html#indexing-view-versus-copy\n",
      "  This is separate from the ipykernel package so we can avoid doing imports until\n"
     ]
    }
   ],
   "source": [
    "diet_orders = patient_orders[patient_orders.ordercategory == 'Dietary - Diet']\n",
    "diet_orders['orderdate'] = diet_orders.orderdate.dt.date\n",
    "diet_orders['indicator'] = 1\n",
    "diet_orders = diet_orders.drop_duplicates(subset=['masterpatientid', 'orderdate', 'diettype', 'diettexture'])\n",
    "\n",
    "diet_type_pivoted = diet_orders.loc[:,['masterpatientid', 'orderdate', 'diettype', 'indicator']].pivot_table(index=['masterpatientid', 'orderdate'], columns=['diettype'], values='indicator', aggfunc=min).reset_index()\n",
    "#diet_type_pivoted.columns = clean_multi_columns(diet_type_pivoted)\n",
    "diet_type_pivoted.head()\n",
    "diet_type_pivoted['orderdate'] = pd.to_datetime(diet_type_pivoted.orderdate)\n",
    "diet_type_pivoted.columns = 'order_' + diet_type_pivoted.columns\n",
    "\n",
    "diet_texture_pivoted = diet_orders.loc[:,['masterpatientid', 'orderdate', 'diettexture', 'indicator']].pivot_table(index=['masterpatientid', 'orderdate'], columns=['diettexture'], values='indicator', aggfunc=min).reset_index()\n",
    "#diet_texture_pivoted.columns = clean_multi_columns(diet_texture_pivoted)\n",
    "diet_texture_pivoted['orderdate'] = pd.to_datetime(diet_texture_pivoted.orderdate)\n",
    "diet_texture_pivoted.columns = 'order_' + diet_texture_pivoted.columns"
   ]
  },
  {
   "cell_type": "code",
   "execution_count": 52,
   "metadata": {},
   "outputs": [],
   "source": [
    "base8 = base7.merge(diet_type_pivoted, how='left', left_on=['masterpatientid','censusdate'], right_on=['order_masterpatientid','order_orderdate'])\n",
    "base8 = base7.merge(diet_texture_pivoted, how='left', left_on=['masterpatientid','censusdate'], right_on=['order_masterpatientid','order_orderdate'])"
   ]
  },
  {
   "cell_type": "code",
   "execution_count": 53,
   "metadata": {},
   "outputs": [],
   "source": [
    "del base7;"
   ]
  },
  {
   "cell_type": "code",
   "execution_count": 54,
   "metadata": {},
   "outputs": [
    {
     "name": "stderr",
     "output_type": "stream",
     "text": [
      "/opt/conda/lib/python3.7/site-packages/ipykernel_launcher.py:2: SettingWithCopyWarning: \n",
      "A value is trying to be set on a copy of a slice from a DataFrame.\n",
      "Try using .loc[row_indexer,col_indexer] = value instead\n",
      "\n",
      "See the caveats in the documentation: http://pandas.pydata.org/pandas-docs/stable/indexing.html#indexing-view-versus-copy\n",
      "  \n",
      "/opt/conda/lib/python3.7/site-packages/ipykernel_launcher.py:3: SettingWithCopyWarning: \n",
      "A value is trying to be set on a copy of a slice from a DataFrame.\n",
      "Try using .loc[row_indexer,col_indexer] = value instead\n",
      "\n",
      "See the caveats in the documentation: http://pandas.pydata.org/pandas-docs/stable/indexing.html#indexing-view-versus-copy\n",
      "  This is separate from the ipykernel package so we can avoid doing imports until\n"
     ]
    }
   ],
   "source": [
    "diet_supplements = patient_orders[patient_orders.ordercategory == 'Dietary - Supplements']\n",
    "diet_supplements['orderdate'] = diet_supplements.orderdate.dt.date\n",
    "diet_supplements['indicator'] = 1\n",
    "diet_supplements = diet_supplements.drop_duplicates(subset=['masterpatientid', 'orderdate', 'dietsupplement'])\n",
    "                                                    \n",
    "diet_supplements_pivoted = diet_supplements.loc[:,['masterpatientid', 'orderdate', 'dietsupplement', 'indicator']].pivot_table(index=['masterpatientid', 'orderdate'], columns='dietsupplement', values='indicator', aggfunc=min).reset_index()\n",
    "diet_supplements_pivoted['orderdate'] = pd.to_datetime(diet_supplements_pivoted.orderdate)"
   ]
  },
  {
   "cell_type": "code",
   "execution_count": 55,
   "metadata": {},
   "outputs": [],
   "source": [
    "diet_supplements_counts = diet_supplements.groupby(['masterpatientid', 'facilityid', 'orderdate']).dietsupplement.count().reset_index().rename(columns={'dietsupplement':'count_indicator_dietsupplement'})\n",
    "diet_supplements_counts['orderdate'] = pd.to_datetime(diet_supplements_counts.orderdate)"
   ]
  },
  {
   "cell_type": "code",
   "execution_count": 56,
   "metadata": {},
   "outputs": [],
   "source": [
    "diet_supplements_pivoted.columns = 'order_' + diet_supplements_pivoted.columns\n",
    "diet_supplements_counts.columns = 'order_' + diet_supplements_counts.columns"
   ]
  },
  {
   "cell_type": "code",
   "execution_count": 57,
   "metadata": {},
   "outputs": [],
   "source": [
    "base9 = base8.merge(diet_supplements_pivoted, how='left', left_on=['masterpatientid','censusdate'], right_on=['order_masterpatientid','order_orderdate'])"
   ]
  },
  {
   "cell_type": "code",
   "execution_count": 58,
   "metadata": {},
   "outputs": [],
   "source": [
    "base9 = base9.merge(diet_supplements_counts, how='left', left_on=['masterpatientid','censusdate'], right_on=['order_masterpatientid','order_orderdate'])"
   ]
  },
  {
   "cell_type": "code",
   "execution_count": 59,
   "metadata": {},
   "outputs": [],
   "source": [
    "del base8;"
   ]
  },
  {
   "cell_type": "code",
   "execution_count": 60,
   "metadata": {},
   "outputs": [],
   "source": [
    "patient_alerts_system = patient_alerts.loc[patient_alerts.triggereditemtype.notna()]"
   ]
  },
  {
   "cell_type": "code",
   "execution_count": 61,
   "metadata": {},
   "outputs": [
    {
     "name": "stderr",
     "output_type": "stream",
     "text": [
      "/opt/conda/lib/python3.7/site-packages/ipykernel_launcher.py:2: SettingWithCopyWarning: \n",
      "A value is trying to be set on a copy of a slice from a DataFrame.\n",
      "Try using .loc[row_indexer,col_indexer] = value instead\n",
      "\n",
      "See the caveats in the documentation: http://pandas.pydata.org/pandas-docs/stable/indexing.html#indexing-view-versus-copy\n",
      "  \n",
      "/opt/conda/lib/python3.7/site-packages/ipykernel_launcher.py:3: SettingWithCopyWarning: \n",
      "A value is trying to be set on a copy of a slice from a DataFrame.\n",
      "Try using .loc[row_indexer,col_indexer] = value instead\n",
      "\n",
      "See the caveats in the documentation: http://pandas.pydata.org/pandas-docs/stable/indexing.html#indexing-view-versus-copy\n",
      "  This is separate from the ipykernel package so we can avoid doing imports until\n",
      "/opt/conda/lib/python3.7/site-packages/ipykernel_launcher.py:5: SettingWithCopyWarning: \n",
      "A value is trying to be set on a copy of a slice from a DataFrame.\n",
      "Try using .loc[row_indexer,col_indexer] = value instead\n",
      "\n",
      "See the caveats in the documentation: http://pandas.pydata.org/pandas-docs/stable/indexing.html#indexing-view-versus-copy\n",
      "  \"\"\"\n"
     ]
    }
   ],
   "source": [
    "patient_alerts_therapy = patient_alerts_system.loc[patient_alerts_system.triggereditemtype == 'T']\n",
    "patient_alerts_therapy['createddate'] = patient_alerts_therapy.createddate.dt.date\n",
    "patient_alerts_therapy['alertdescription'] = patient_alerts_therapy.alertdescription.str.split(':').str[0]\n",
    "\n",
    "patient_alerts_therapy['indicator'] = 1\n",
    "patient_alerts_therapy_pivoted = patient_alerts_therapy.loc[:,['masterpatientid', 'createddate', 'alertdescription', 'indicator']].pivot_table(index=['masterpatientid','createddate'], columns='alertdescription', values='indicator', aggfunc=sum).reset_index()\n",
    "patient_alerts_therapy_pivoted['createddate'] = pd.to_datetime(patient_alerts_therapy_pivoted.createddate)"
   ]
  },
  {
   "cell_type": "code",
   "execution_count": 62,
   "metadata": {},
   "outputs": [
    {
     "name": "stderr",
     "output_type": "stream",
     "text": [
      "/opt/conda/lib/python3.7/site-packages/ipykernel_launcher.py:2: SettingWithCopyWarning: \n",
      "A value is trying to be set on a copy of a slice from a DataFrame.\n",
      "Try using .loc[row_indexer,col_indexer] = value instead\n",
      "\n",
      "See the caveats in the documentation: http://pandas.pydata.org/pandas-docs/stable/indexing.html#indexing-view-versus-copy\n",
      "  \n"
     ]
    }
   ],
   "source": [
    "allergy_alerts = patient_alerts_system[patient_alerts_system.triggereditemtype == 'A']\n",
    "allergy_alerts['createddate'] = allergy_alerts.createddate.dt.date"
   ]
  },
  {
   "cell_type": "code",
   "execution_count": 63,
   "metadata": {},
   "outputs": [],
   "source": [
    "allergy_alert_counts = allergy_alerts.groupby(['masterpatientid', 'createddate']).alertdescription.count().reset_index().rename({'alertdescription':'count_indicator_allergy'}, axis=1)\n",
    "allergy_alert_counts['createddate'] = pd.to_datetime(allergy_alert_counts.createddate)"
   ]
  },
  {
   "cell_type": "code",
   "execution_count": 64,
   "metadata": {},
   "outputs": [
    {
     "name": "stderr",
     "output_type": "stream",
     "text": [
      "/opt/conda/lib/python3.7/site-packages/ipykernel_launcher.py:2: SettingWithCopyWarning: \n",
      "A value is trying to be set on a copy of a slice from a DataFrame.\n",
      "Try using .loc[row_indexer,col_indexer] = value instead\n",
      "\n",
      "See the caveats in the documentation: http://pandas.pydata.org/pandas-docs/stable/indexing.html#indexing-view-versus-copy\n",
      "  \n"
     ]
    }
   ],
   "source": [
    "dispense_alerts = patient_alerts_system[patient_alerts_system.triggereditemtype == 'D']\n",
    "dispense_alerts['createddate'] = dispense_alerts.createddate.dt.date\n",
    "dispense_alert_counts = dispense_alerts.groupby(['masterpatientid', 'createddate']).alertdescription.count().reset_index().rename(columns={'alertdescription':'count_indicator_dispense'})\n",
    "dispense_alert_counts['createddate'] = pd.to_datetime(allergy_alert_counts.createddate)"
   ]
  },
  {
   "cell_type": "code",
   "execution_count": 65,
   "metadata": {},
   "outputs": [
    {
     "name": "stderr",
     "output_type": "stream",
     "text": [
      "/opt/conda/lib/python3.7/site-packages/ipykernel_launcher.py:2: SettingWithCopyWarning: \n",
      "A value is trying to be set on a copy of a slice from a DataFrame.\n",
      "Try using .loc[row_indexer,col_indexer] = value instead\n",
      "\n",
      "See the caveats in the documentation: http://pandas.pydata.org/pandas-docs/stable/indexing.html#indexing-view-versus-copy\n",
      "  \n"
     ]
    }
   ],
   "source": [
    "order_alerts = patient_alerts_system[patient_alerts_system.triggereditemtype == 'O']\n",
    "order_alerts['createddate'] = order_alerts.createddate.dt.date\n",
    "order_alert_counts = order_alerts.groupby(['masterpatientid', 'createddate']).alertdescription.count().reset_index().rename(columns={'alertdescription':'count_indicator_order'})\n",
    "order_alert_counts['createddate'] = pd.to_datetime(order_alert_counts.createddate)"
   ]
  },
  {
   "cell_type": "code",
   "execution_count": 66,
   "metadata": {},
   "outputs": [],
   "source": [
    "patient_alerts_therapy_pivoted.columns = 'alert_' + patient_alerts_therapy_pivoted.columns\n",
    "allergy_alert_counts.columns = 'alert_' + allergy_alert_counts.columns\n",
    "dispense_alert_counts.columns = 'alert_' + dispense_alert_counts.columns\n",
    "order_alert_counts.columns = 'alert_' + order_alert_counts.columns"
   ]
  },
  {
   "cell_type": "code",
   "execution_count": 67,
   "metadata": {},
   "outputs": [],
   "source": [
    "base10 = base9.merge(patient_alerts_therapy_pivoted, how='left', left_on=['masterpatientid', 'censusdate'], right_on=['alert_masterpatientid', 'alert_createddate'])"
   ]
  },
  {
   "cell_type": "code",
   "execution_count": 68,
   "metadata": {},
   "outputs": [],
   "source": [
    "base10 = base10.merge(allergy_alert_counts, how='left', left_on=['masterpatientid', 'censusdate'], right_on=['alert_masterpatientid', 'alert_createddate'])\n",
    "base10 = base10.merge(dispense_alert_counts, how='left', left_on=['masterpatientid', 'censusdate'], right_on=['alert_masterpatientid', 'alert_createddate'])\n",
    "base10 = base10.merge(order_alert_counts, how='left', left_on=['masterpatientid', 'censusdate'], right_on=['alert_masterpatientid', 'alert_createddate'])"
   ]
  },
  {
   "cell_type": "code",
   "execution_count": 69,
   "metadata": {},
   "outputs": [],
   "source": [
    "del base9;"
   ]
  },
  {
   "cell_type": "code",
   "execution_count": 70,
   "metadata": {},
   "outputs": [
    {
     "name": "stderr",
     "output_type": "stream",
     "text": [
      "/opt/conda/lib/python3.7/site-packages/ipykernel_launcher.py:2: SettingWithCopyWarning: \n",
      "A value is trying to be set on a copy of a slice from a DataFrame.\n",
      "Try using .loc[row_indexer,col_indexer] = value instead\n",
      "\n",
      "See the caveats in the documentation: http://pandas.pydata.org/pandas-docs/stable/indexing.html#indexing-view-versus-copy\n",
      "  \n",
      "/opt/conda/lib/python3.7/site-packages/ipykernel_launcher.py:3: SettingWithCopyWarning: \n",
      "A value is trying to be set on a copy of a slice from a DataFrame.\n",
      "Try using .loc[row_indexer,col_indexer] = value instead\n",
      "\n",
      "See the caveats in the documentation: http://pandas.pydata.org/pandas-docs/stable/indexing.html#indexing-view-versus-copy\n",
      "  This is separate from the ipykernel package so we can avoid doing imports until\n"
     ]
    }
   ],
   "source": [
    "nonsystem_alerts = patient_alerts.loc[patient_alerts.triggereditemtype.isna()]\n",
    "nonsystem_alerts['createddate'] = nonsystem_alerts.createddate.dt.date\n",
    "nonsystem_alerts['indicator'] = 1\n",
    "nonsystem_alerts = nonsystem_alerts.loc[nonsystem_alerts.alertdescription != '-1']\n",
    "alerts_pivoted = nonsystem_alerts.loc[:,['masterpatientid', 'createddate', 'alertdescription', 'indicator']].pivot_table(index=['masterpatientid', 'createddate'], columns=['alertdescription'], values=['indicator'], aggfunc=sum).reset_index()"
   ]
  },
  {
   "cell_type": "code",
   "execution_count": 71,
   "metadata": {},
   "outputs": [],
   "source": [
    "alerts_pivoted.columns = clean_multi_columns(alerts_pivoted.columns)\n",
    "alerts_pivoted['createddate'] = pd.to_datetime(alerts_pivoted.createddate)\n",
    "alerts_pivoted.columns = 'alert_' + alerts_pivoted.columns"
   ]
  },
  {
   "cell_type": "code",
   "execution_count": 72,
   "metadata": {},
   "outputs": [],
   "source": [
    "base11 = base10.merge(alerts_pivoted, how='left', left_on=['masterpatientid', 'censusdate'], right_on=['alert_masterpatientid', 'alert_createddate'])"
   ]
  },
  {
   "cell_type": "code",
   "execution_count": 73,
   "metadata": {},
   "outputs": [],
   "source": [
    "del base10;"
   ]
  },
  {
   "cell_type": "code",
   "execution_count": 74,
   "metadata": {},
   "outputs": [],
   "source": [
    "rehosp = patient_rehosps.merge(patient_census, on=['masterpatientid'])"
   ]
  },
  {
   "cell_type": "code",
   "execution_count": 75,
   "metadata": {},
   "outputs": [
    {
     "name": "stderr",
     "output_type": "stream",
     "text": [
      "/opt/conda/lib/python3.7/site-packages/ipykernel_launcher.py:2: SettingWithCopyWarning: \n",
      "A value is trying to be set on a copy of a slice from a DataFrame.\n",
      "Try using .loc[row_indexer,col_indexer] = value instead\n",
      "\n",
      "See the caveats in the documentation: http://pandas.pydata.org/pandas-docs/stable/indexing.html#indexing-view-versus-copy\n",
      "  \n"
     ]
    }
   ],
   "source": [
    "last_hosp = rehosp[rehosp.dateoftransfer < rehosp.censusdate]\n",
    "last_hosp['count_prior_hosp'] = last_hosp.groupby(['masterpatientid', 'censusdate']).dateoftransfer.cumcount() + 1\n",
    "last_hosp = last_hosp.groupby(['masterpatientid','censusdate']).tail(n=1).loc[:,['masterpatientid', 'censusdate', 'dateoftransfer', 'count_prior_hosp']].rename(columns={'dateoftransfer': 'last_hosp_date'})\n",
    "last_hosp['days_since_last_hosp'] = (last_hosp.censusdate - last_hosp.last_hosp_date).dt.days"
   ]
  },
  {
   "cell_type": "code",
   "execution_count": 76,
   "metadata": {},
   "outputs": [],
   "source": [
    "next_hosp = rehosp[rehosp.dateoftransfer > rehosp.censusdate].groupby(['masterpatientid','censusdate']).head(n=1).loc[:,['masterpatientid', 'censusdate', 'dateoftransfer']].rename(columns={'dateoftransfer': 'next_hosp_date'})"
   ]
  },
  {
   "cell_type": "code",
   "execution_count": 77,
   "metadata": {},
   "outputs": [],
   "source": [
    "next_hosp['target_3_day_hosp'] = (next_hosp.next_hosp_date - next_hosp.censusdate) <= pd.to_timedelta('4 days')\n",
    "next_hosp['target_7_day_hosp'] = (next_hosp.next_hosp_date - next_hosp.censusdate) <= pd.to_timedelta('8 days')"
   ]
  },
  {
   "cell_type": "code",
   "execution_count": 81,
   "metadata": {},
   "outputs": [
    {
     "data": {
      "text/plain": [
       "Timedelta('1 days 00:00:00')"
      ]
     },
     "execution_count": 81,
     "metadata": {},
     "output_type": "execute_result"
    }
   ],
   "source": [
    "(next_hosp['next_hosp_date'] - next_hosp['censusdate']).min()"
   ]
  },
  {
   "cell_type": "code",
   "execution_count": 69,
   "metadata": {},
   "outputs": [],
   "source": [
    "last_hosp.columns = 'hosp_' + last_hosp.columns\n",
    "next_hosp.columns = 'hosp_' + next_hosp.columns"
   ]
  },
  {
   "cell_type": "code",
   "execution_count": 70,
   "metadata": {},
   "outputs": [],
   "source": [
    "base12 = base11.merge(last_hosp, how='left', left_on=['masterpatientid','censusdate'], right_on=['hosp_masterpatientid', 'hosp_censusdate'])"
   ]
  },
  {
   "cell_type": "code",
   "execution_count": 71,
   "metadata": {},
   "outputs": [],
   "source": [
    "base12 = base12.merge(next_hosp, how='left', left_on=['masterpatientid','censusdate'], right_on=['hosp_masterpatientid', 'hosp_censusdate'])"
   ]
  },
  {
   "cell_type": "code",
   "execution_count": 72,
   "metadata": {},
   "outputs": [],
   "source": [
    "base12 = base12.loc[:,~base12.columns.duplicated()]"
   ]
  },
  {
   "cell_type": "code",
   "execution_count": 73,
   "metadata": {},
   "outputs": [],
   "source": [
    "processed_path = Path('/code/data/processed')\n",
    "processed_path.mkdir(parents=True, exist_ok=True)"
   ]
  },
  {
   "cell_type": "code",
   "execution_count": 74,
   "metadata": {},
   "outputs": [],
   "source": [
    "base12 = base12.loc[:, base12.columns[~base12.columns.str.contains('_masterpatientid|_facilityid|vtl_date|onsetdate|orderdate|createddate|_x$|_y$')].tolist()]\n",
    "base12 = base12.drop_duplicates(subset=['masterpatientid', 'censusdate'], keep='last')\n",
    "base12.to_parquet(processed_path/'combined.parquet')"
   ]
  },
  {
   "cell_type": "code",
   "execution_count": 75,
   "metadata": {},
   "outputs": [],
   "source": [
    "combined = pd.read_parquet(processed_path/'combined.parquet')"
   ]
  },
  {
   "cell_type": "code",
   "execution_count": 76,
   "metadata": {},
   "outputs": [],
   "source": [
    "combined = combined.drop(columns=['hosp_last_hosp_date', 'hosp_next_hosp_date'])"
   ]
  },
  {
   "cell_type": "code",
   "execution_count": 77,
   "metadata": {},
   "outputs": [],
   "source": [
    "vtl_cols = [col for col in combined.columns if col.startswith('vtl')]\n",
    "dx_cols = [col for col in combined.columns if col.startswith('dx')]\n",
    "med_cols = [col for col in combined.columns if col.startswith('med')]\n",
    "order_cols = [col for col in combined.columns if col.startswith('order')]\n",
    "alert_cols = [col for col in combined.columns if col.startswith('alert')]\n",
    "hosp_cols = [col for col in combined.columns if col.startswith('hosp')]\n",
    "ignore_cols = [col for col in combined.columns if 'target' in col] + ['masterpatientid', 'patientid','censusdate', 'facilityid', 'bedid']"
   ]
  },
  {
   "cell_type": "code",
   "execution_count": 78,
   "metadata": {},
   "outputs": [],
   "source": [
    "def add_datepart(df, fldname, drop=True, time=False, errors=\"raise\"):\n",
    "    fld = df[fldname]\n",
    "    fld_dtype = fld.dtype\n",
    "    if isinstance(fld_dtype, pd.core.dtypes.dtypes.DatetimeTZDtype):\n",
    "        fld_dtype = np.datetime64\n",
    "\n",
    "    if not np.issubdtype(fld_dtype, np.datetime64):\n",
    "        df[fldname] = fld = pd.to_datetime(fld, infer_datetime_format=True, errors=errors)\n",
    "    attr = ['Year','Month', 'Week', 'Day', 'Dayofweek',\n",
    "            'Is_month_end', 'Is_month_start', 'Is_quarter_end', 'Is_quarter_start', 'Is_year_end', 'Is_year_start']\n",
    "    if time: attr = attr + ['Hour', 'Minute', 'Second']\n",
    "    for n in attr: df[fldname + '_' + n] = getattr(fld.dt, n.lower())\n",
    "    if drop: df.drop(fldname, axis=1, inplace=True)\n",
    "        \n",
    "def add_na_indicators(df, ignore_cols):\n",
    "    missings = df.drop(columns=ignore_cols).isna()\n",
    "    missings.columns = 'na_indictator_' + missings.columns\n",
    "    missings_sums = missings.sum()\n",
    "    \n",
    "    return pd.concat([df, missings.loc[:, (missings_sums > 0)]], axis=1)\n",
    "\n",
    "        \n",
    "def proc_vitals(df, vtl_cols):\n",
    "    ffilled = df.groupby('masterpatientid')[vtl_cols].fillna(method='ffill').reset_index()\n",
    "    ffilled['masterpatientid'] = df.masterpatientid\n",
    "    \n",
    "    diff_1_day = ffilled.groupby('masterpatientid')[vtl_cols].diff()\n",
    "    diff_1_day.columns = 'diff_1_day_' + diff_1_day.columns\n",
    "    \n",
    "    diff_7_day = ffilled.groupby('masterpatientid')[vtl_cols].diff(periods=7)\n",
    "    diff_7_day.columns = 'diff_7_day_' + diff_7_day.columns\n",
    "    \n",
    "    rolling_avg_7_day = ffilled.groupby('masterpatientid')[vtl_cols].rolling(7, min_periods=1).mean().reset_index(0, drop=True)\n",
    "    rolling_avg_7_day.columns = 'rol_avg_7_day_' + rolling_avg_7_day.columns\n",
    "    \n",
    "    rolling_avg_14_day = ffilled.groupby('masterpatientid')[vtl_cols].rolling(14, min_periods=1).mean().reset_index(0, drop=True)\n",
    "    rolling_avg_14_day.columns = 'rol_avg_14_day_' + rolling_avg_14_day.columns\n",
    "    \n",
    "    rolling_std_7_day = ffilled.groupby('masterpatientid')[vtl_cols].rolling(7, min_periods=1).std().reset_index(0, drop=True)\n",
    "    rolling_std_7_day.columns = 'rol_std_7_day_' + rolling_std_7_day.columns\n",
    "    \n",
    "    rolling_std_14_day = ffilled.groupby('masterpatientid')[vtl_cols].rolling(14, min_periods=1).std().reset_index(0, drop=True)\n",
    "    rolling_std_14_day.columns = 'rol_std_14_day_' + rolling_std_14_day.columns\n",
    "    \n",
    "    df.loc[:,vtl_cols] = ffilled.loc[:, vtl_cols]\n",
    "    \n",
    "    df = pd.concat([df, diff_1_day, diff_7_day], axis=1) # diffs all indexed the same as original in the same order\n",
    "    \n",
    "    rollings = pd.concat([rolling_avg_7_day, rolling_avg_14_day, rolling_std_7_day, rolling_std_14_day], axis=1)\n",
    "    df = df.merge(rollings, how='left', left_index=True, right_index=True) # rollings were sorted so we explictly join via index\n",
    "    \n",
    "    return df\n",
    "    \n",
    "def proc_dx_meds_alerts_orders(df, dx_cols, med_cols, alert_cols, order_cols):\n",
    "    cols = dx_cols + med_cols + alert_cols + order_cols\n",
    "    filled = df.groupby('masterpatientid')[cols].fillna(0).reset_index()\n",
    "    filled['masterpatientid'] = df.masterpatientid\n",
    "    \n",
    "    cumsum_all_time = filled.groupby('masterpatientid')[cols].cumsum()\n",
    "    cumsum_all_time.columns = 'cumsum_all_' + cumsum_all_time.columns\n",
    "    \n",
    "    cumsum_7_day = filled.groupby('masterpatientid')[cols].rolling(7, min_periods=1).sum().reset_index(0, drop=True)\n",
    "    cumsum_7_day.columns = 'cumsum_7_day_' + cumsum_7_day.columns\n",
    "    \n",
    "    cumsum_15_day = filled.groupby('masterpatientid')[cols].rolling(15, min_periods=1).sum().reset_index(0, drop=True)\n",
    "    cumsum_15_day.columns = 'cumsum_15_day_' + cumsum_15_day.columns\n",
    "    \n",
    "    #cumsum_30_day = filled.groupby('masterpatientid')[cols].rolling(30, min_periods=1).sum().reset_index(0, drop=True)\n",
    "    #cumsum_30_day.columns = 'cumsum_30_day_' + cumsum_30_day.columns\n",
    "    \n",
    "    df = df.drop(columns=cols)\n",
    "    df = pd.concat([df, cumsum_all_time], axis=1) # cumsum is indexed the same as original in the same order\n",
    "    \n",
    "    rollings = pd.concat([cumsum_7_day, cumsum_15_day], axis=1)\n",
    "    df = df.merge(rollings, how='left', left_index=True, right_index=True) # rollings were sorted so we explictly join via index\n",
    "    \n",
    "    return df\n",
    "\n",
    "def proc_demo(df):\n",
    "    df['demo_gender'] = df.gender == 'M'\n",
    "    df['demo_age_in_days'] = (df.censusdate - df.dateofbirth).dt.days\n",
    "    df = pd.concat([df.drop(columns='primarylanguage'), pd.get_dummies(df.primarylanguage, prefix='demo_primarylanguage')], axis=1)\n",
    "    df = pd.concat([df.drop(columns='carelevelcode'), pd.get_dummies(df.carelevelcode, prefix='demo_carelevel')], axis=1)\n",
    "    df = pd.concat([df.drop(columns='race'), pd.get_dummies(df.race, prefix='demo_race')], axis=1)\n",
    "    df = pd.concat([df.drop(columns='education'), pd.get_dummies(df.education, prefix='demo_education')], axis=1)\n",
    "    df = pd.concat([df.drop(columns='religion'), pd.get_dummies(df.religion, prefix='demo_religion')], axis=1)\n",
    "    df = pd.concat([df.drop(columns='facilityid'), pd.get_dummies(df.facilityid, prefix='demo_facility')], axis=1)\n",
    "    \n",
    "    return df\n",
    "    \n",
    "    "
   ]
  },
  {
   "cell_type": "code",
   "execution_count": 79,
   "metadata": {},
   "outputs": [],
   "source": [
    "combined = add_na_indicators(combined, ignore_cols)"
   ]
  },
  {
   "cell_type": "code",
   "execution_count": 80,
   "metadata": {},
   "outputs": [],
   "source": [
    "add_datepart(combined, 'censusdate', drop=False)"
   ]
  },
  {
   "cell_type": "code",
   "execution_count": 81,
   "metadata": {},
   "outputs": [],
   "source": [
    "add_datepart(combined, 'dateofbirth', drop=False)"
   ]
  },
  {
   "cell_type": "code",
   "execution_count": 82,
   "metadata": {},
   "outputs": [],
   "source": [
    "combined = proc_vitals(combined, vtl_cols)"
   ]
  },
  {
   "cell_type": "code",
   "execution_count": 83,
   "metadata": {},
   "outputs": [
    {
     "ename": "MemoryError",
     "evalue": "",
     "output_type": "error",
     "traceback": [
      "\u001b[0;31m---------------------------------------------------------------------------\u001b[0m",
      "\u001b[0;31mMemoryError\u001b[0m                               Traceback (most recent call last)",
      "\u001b[0;32m<ipython-input-83-e41d89192ecd>\u001b[0m in \u001b[0;36m<module>\u001b[0;34m\u001b[0m\n\u001b[0;32m----> 1\u001b[0;31m \u001b[0mcombined\u001b[0m \u001b[0;34m=\u001b[0m \u001b[0mproc_dx_meds_alerts_orders\u001b[0m\u001b[0;34m(\u001b[0m\u001b[0mcombined\u001b[0m\u001b[0;34m,\u001b[0m \u001b[0mdx_cols\u001b[0m\u001b[0;34m,\u001b[0m \u001b[0mmed_cols\u001b[0m\u001b[0;34m,\u001b[0m \u001b[0malert_cols\u001b[0m\u001b[0;34m,\u001b[0m \u001b[0morder_cols\u001b[0m\u001b[0;34m)\u001b[0m\u001b[0;34m\u001b[0m\u001b[0;34m\u001b[0m\u001b[0m\n\u001b[0m",
      "\u001b[0;32m<ipython-input-78-88ca38993338>\u001b[0m in \u001b[0;36mproc_dx_meds_alerts_orders\u001b[0;34m(df, dx_cols, med_cols, alert_cols, order_cols)\u001b[0m\n\u001b[1;32m     72\u001b[0m     \u001b[0mdf\u001b[0m \u001b[0;34m=\u001b[0m \u001b[0mpd\u001b[0m\u001b[0;34m.\u001b[0m\u001b[0mconcat\u001b[0m\u001b[0;34m(\u001b[0m\u001b[0;34m[\u001b[0m\u001b[0mdf\u001b[0m\u001b[0;34m,\u001b[0m \u001b[0mcumsum_all_time\u001b[0m\u001b[0;34m]\u001b[0m\u001b[0;34m,\u001b[0m \u001b[0maxis\u001b[0m\u001b[0;34m=\u001b[0m\u001b[0;36m1\u001b[0m\u001b[0;34m)\u001b[0m \u001b[0;31m# cumsum is indexed the same as original in the same order\u001b[0m\u001b[0;34m\u001b[0m\u001b[0;34m\u001b[0m\u001b[0m\n\u001b[1;32m     73\u001b[0m \u001b[0;34m\u001b[0m\u001b[0m\n\u001b[0;32m---> 74\u001b[0;31m     \u001b[0mrollings\u001b[0m \u001b[0;34m=\u001b[0m \u001b[0mpd\u001b[0m\u001b[0;34m.\u001b[0m\u001b[0mconcat\u001b[0m\u001b[0;34m(\u001b[0m\u001b[0;34m[\u001b[0m\u001b[0mcumsum_7_day\u001b[0m\u001b[0;34m,\u001b[0m \u001b[0mcumsum_15_day\u001b[0m\u001b[0;34m]\u001b[0m\u001b[0;34m,\u001b[0m \u001b[0maxis\u001b[0m\u001b[0;34m=\u001b[0m\u001b[0;36m1\u001b[0m\u001b[0;34m)\u001b[0m\u001b[0;34m\u001b[0m\u001b[0;34m\u001b[0m\u001b[0m\n\u001b[0m\u001b[1;32m     75\u001b[0m     \u001b[0mdf\u001b[0m \u001b[0;34m=\u001b[0m \u001b[0mdf\u001b[0m\u001b[0;34m.\u001b[0m\u001b[0mmerge\u001b[0m\u001b[0;34m(\u001b[0m\u001b[0mrollings\u001b[0m\u001b[0;34m,\u001b[0m \u001b[0mhow\u001b[0m\u001b[0;34m=\u001b[0m\u001b[0;34m'left'\u001b[0m\u001b[0;34m,\u001b[0m \u001b[0mleft_index\u001b[0m\u001b[0;34m=\u001b[0m\u001b[0;32mTrue\u001b[0m\u001b[0;34m,\u001b[0m \u001b[0mright_index\u001b[0m\u001b[0;34m=\u001b[0m\u001b[0;32mTrue\u001b[0m\u001b[0;34m)\u001b[0m \u001b[0;31m# rollings were sorted so we explictly join via index\u001b[0m\u001b[0;34m\u001b[0m\u001b[0;34m\u001b[0m\u001b[0m\n\u001b[1;32m     76\u001b[0m \u001b[0;34m\u001b[0m\u001b[0m\n",
      "\u001b[0;32m/opt/conda/lib/python3.7/site-packages/pandas/core/reshape/concat.py\u001b[0m in \u001b[0;36mconcat\u001b[0;34m(objs, axis, join, join_axes, ignore_index, keys, levels, names, verify_integrity, sort, copy)\u001b[0m\n\u001b[1;32m    227\u001b[0m                        \u001b[0mverify_integrity\u001b[0m\u001b[0;34m=\u001b[0m\u001b[0mverify_integrity\u001b[0m\u001b[0;34m,\u001b[0m\u001b[0;34m\u001b[0m\u001b[0;34m\u001b[0m\u001b[0m\n\u001b[1;32m    228\u001b[0m                        copy=copy, sort=sort)\n\u001b[0;32m--> 229\u001b[0;31m     \u001b[0;32mreturn\u001b[0m \u001b[0mop\u001b[0m\u001b[0;34m.\u001b[0m\u001b[0mget_result\u001b[0m\u001b[0;34m(\u001b[0m\u001b[0;34m)\u001b[0m\u001b[0;34m\u001b[0m\u001b[0;34m\u001b[0m\u001b[0m\n\u001b[0m\u001b[1;32m    230\u001b[0m \u001b[0;34m\u001b[0m\u001b[0m\n\u001b[1;32m    231\u001b[0m \u001b[0;34m\u001b[0m\u001b[0m\n",
      "\u001b[0;32m/opt/conda/lib/python3.7/site-packages/pandas/core/reshape/concat.py\u001b[0m in \u001b[0;36mget_result\u001b[0;34m(self)\u001b[0m\n\u001b[1;32m    424\u001b[0m             new_data = concatenate_block_managers(\n\u001b[1;32m    425\u001b[0m                 \u001b[0mmgrs_indexers\u001b[0m\u001b[0;34m,\u001b[0m \u001b[0mself\u001b[0m\u001b[0;34m.\u001b[0m\u001b[0mnew_axes\u001b[0m\u001b[0;34m,\u001b[0m \u001b[0mconcat_axis\u001b[0m\u001b[0;34m=\u001b[0m\u001b[0mself\u001b[0m\u001b[0;34m.\u001b[0m\u001b[0maxis\u001b[0m\u001b[0;34m,\u001b[0m\u001b[0;34m\u001b[0m\u001b[0;34m\u001b[0m\u001b[0m\n\u001b[0;32m--> 426\u001b[0;31m                 copy=self.copy)\n\u001b[0m\u001b[1;32m    427\u001b[0m             \u001b[0;32mif\u001b[0m \u001b[0;32mnot\u001b[0m \u001b[0mself\u001b[0m\u001b[0;34m.\u001b[0m\u001b[0mcopy\u001b[0m\u001b[0;34m:\u001b[0m\u001b[0;34m\u001b[0m\u001b[0;34m\u001b[0m\u001b[0m\n\u001b[1;32m    428\u001b[0m                 \u001b[0mnew_data\u001b[0m\u001b[0;34m.\u001b[0m\u001b[0m_consolidate_inplace\u001b[0m\u001b[0;34m(\u001b[0m\u001b[0;34m)\u001b[0m\u001b[0;34m\u001b[0m\u001b[0;34m\u001b[0m\u001b[0m\n",
      "\u001b[0;32m/opt/conda/lib/python3.7/site-packages/pandas/core/internals/managers.py\u001b[0m in \u001b[0;36mconcatenate_block_managers\u001b[0;34m(mgrs_indexers, axes, concat_axis, copy)\u001b[0m\n\u001b[1;32m   2050\u001b[0m             \u001b[0mvalues\u001b[0m \u001b[0;34m=\u001b[0m \u001b[0mb\u001b[0m\u001b[0;34m.\u001b[0m\u001b[0mvalues\u001b[0m\u001b[0;34m\u001b[0m\u001b[0;34m\u001b[0m\u001b[0m\n\u001b[1;32m   2051\u001b[0m             \u001b[0;32mif\u001b[0m \u001b[0mcopy\u001b[0m\u001b[0;34m:\u001b[0m\u001b[0;34m\u001b[0m\u001b[0;34m\u001b[0m\u001b[0m\n\u001b[0;32m-> 2052\u001b[0;31m                 \u001b[0mvalues\u001b[0m \u001b[0;34m=\u001b[0m \u001b[0mvalues\u001b[0m\u001b[0;34m.\u001b[0m\u001b[0mcopy\u001b[0m\u001b[0;34m(\u001b[0m\u001b[0;34m)\u001b[0m\u001b[0;34m\u001b[0m\u001b[0;34m\u001b[0m\u001b[0m\n\u001b[0m\u001b[1;32m   2053\u001b[0m             \u001b[0;32melif\u001b[0m \u001b[0;32mnot\u001b[0m \u001b[0mcopy\u001b[0m\u001b[0;34m:\u001b[0m\u001b[0;34m\u001b[0m\u001b[0;34m\u001b[0m\u001b[0m\n\u001b[1;32m   2054\u001b[0m                 \u001b[0mvalues\u001b[0m \u001b[0;34m=\u001b[0m \u001b[0mvalues\u001b[0m\u001b[0;34m.\u001b[0m\u001b[0mview\u001b[0m\u001b[0;34m(\u001b[0m\u001b[0;34m)\u001b[0m\u001b[0;34m\u001b[0m\u001b[0;34m\u001b[0m\u001b[0m\n",
      "\u001b[0;31mMemoryError\u001b[0m: "
     ]
    }
   ],
   "source": [
    "combined = proc_dx_meds_alerts_orders(combined, dx_cols, med_cols, alert_cols, order_cols)"
   ]
  },
  {
   "cell_type": "code",
   "execution_count": null,
   "metadata": {},
   "outputs": [],
   "source": [
    "combined.to_parquet(processed_path/'after_vtl_and_cumsums.parquet')"
   ]
  },
  {
   "cell_type": "code",
   "execution_count": null,
   "metadata": {},
   "outputs": [],
   "source": [
    "combined = pd.read_parquet(processed_path/'after_vtl_and_cumsums.parquet')"
   ]
  },
  {
   "cell_type": "code",
   "execution_count": null,
   "metadata": {},
   "outputs": [],
   "source": [
    "combined = proc_demo(combined)"
   ]
  },
  {
   "cell_type": "code",
   "execution_count": null,
   "metadata": {},
   "outputs": [],
   "source": [
    "combined = combined.drop_duplicates(subset=['masterpatientid', 'censusdate'])"
   ]
  },
  {
   "cell_type": "code",
   "execution_count": null,
   "metadata": {},
   "outputs": [],
   "source": [
    "combined.to_parquet(processed_path/'final_processed.parquet')"
   ]
  },
  {
   "cell_type": "code",
   "execution_count": null,
   "metadata": {},
   "outputs": [],
   "source": [
    "processed_path = Path('/code/data/processed')\n",
    "final = pd.read_parquet(processed_path/'final_processed.parquet')"
   ]
  },
  {
   "cell_type": "code",
   "execution_count": null,
   "metadata": {},
   "outputs": [],
   "source": [
    "drop_cols = ['bedid', 'beddescription', 'roomratetypedescription', 'payercode', 'patientid', \n",
    "             'gender', 'dateofbirth', 'citizenship', 'state', 'hosp_target_3_day_hosp']"
   ]
  },
  {
   "cell_type": "code",
   "execution_count": null,
   "metadata": {},
   "outputs": [],
   "source": [
    "final = final.drop(columns=drop_cols)"
   ]
  },
  {
   "cell_type": "code",
   "execution_count": null,
   "metadata": {},
   "outputs": [],
   "source": [
    "final = final.reset_index(drop=True)"
   ]
  },
  {
   "cell_type": "code",
   "execution_count": null,
   "metadata": {},
   "outputs": [],
   "source": [
    "# manual check to make sure we're not including any columns that could leak data\n",
    "with open('/code/columns.txt','w') as f:\n",
    "    for col in final.columns:\n",
    "        f.write(col + '\\n')"
   ]
  },
  {
   "cell_type": "code",
   "execution_count": null,
   "metadata": {},
   "outputs": [],
   "source": [
    "split_day = final.loc[:,'censusdate'].iloc[round(final.shape[0] * (1-.2))]"
   ]
  },
  {
   "cell_type": "code",
   "execution_count": null,
   "metadata": {},
   "outputs": [],
   "source": [
    "train = final.loc[final.censusdate <= split_day]\n",
    "valid = final.loc[final.censusdate > split_day]\n",
    "\n",
    "train.to_pickle(processed_path/'train.pickle')\n",
    "valid.to_pickle(processed_path/'valid.pickle')"
   ]
  },
  {
   "cell_type": "code",
   "execution_count": 18,
   "metadata": {},
   "outputs": [],
   "source": [
    "processed_path = Path('/code/data/processed')\n",
    "train = pd.read_pickle(processed_path/'train.pickle')\n",
    "valid = pd.read_pickle(processed_path/'valid.pickle')"
   ]
  },
  {
   "cell_type": "code",
   "execution_count": null,
   "metadata": {},
   "outputs": [],
   "source": [
    "#train_mask = train['cumsum_all_dx_Diseases of the respiratory system - Chronic obstructive pulmonary disease and bronchiectasis [127.]'] > 0\n",
    "#valid_mask = valid['cumsum_all_dx_Diseases of the respiratory system - Chronic obstructive pulmonary disease and bronchiectasis [127.]'] > 0"
   ]
  },
  {
   "cell_type": "code",
   "execution_count": null,
   "metadata": {},
   "outputs": [],
   "source": [
    "#print(f'{len(train[train_mask].masterpatientid.unique())} patients out of {len(train.masterpatientid.unique())} have COPD associated with them')"
   ]
  },
  {
   "cell_type": "code",
   "execution_count": null,
   "metadata": {},
   "outputs": [],
   "source": [
    "#train_patients = train[train_mask].masterpatientid.unique()\n",
    "#valid_patients = valid[valid_mask].masterpatientid.unique()"
   ]
  },
  {
   "cell_type": "code",
   "execution_count": null,
   "metadata": {},
   "outputs": [],
   "source": [
    "#train = train[train.masterpatientid.isin(train_patients)]\n",
    "#valid = valid[valid.masterpatientid.isin(valid_patients)]"
   ]
  },
  {
   "cell_type": "code",
   "execution_count": null,
   "metadata": {},
   "outputs": [],
   "source": [
    "def fill_na_train(df):\n",
    "    has_na = df.isna().sum() > 0\n",
    "    d = df.loc[:, has_na].median()\n",
    "    df = df.fillna(d)\n",
    "    \n",
    "    return df, d\n",
    "\n",
    "def fill_na_valid(df, na_filler):\n",
    "    return df.fillna(na_filler)"
   ]
  },
  {
   "cell_type": "code",
   "execution_count": null,
   "metadata": {},
   "outputs": [],
   "source": [
    "# fill in any remaining na's - now that we're not forwardfilling past info it's not correct to use a global imputation\n",
    "# hence we impute on the train and apply to the valid\n",
    "train, na_filler = fill_na_train(train)\n",
    "valid = fill_na_valid(valid, na_filler)"
   ]
  },
  {
   "cell_type": "code",
   "execution_count": null,
   "metadata": {},
   "outputs": [],
   "source": [
    "train.to_pickle(processed_path/'train_filled.pickle')\n",
    "valid.to_pickle(processed_path/'valid_filled.pickle')"
   ]
  },
  {
   "cell_type": "code",
   "execution_count": 2,
   "metadata": {},
   "outputs": [],
   "source": [
    "processed_path = Path('/code/data/processed')\n",
    "train = pd.read_pickle(processed_path/'train_filled.pickle')\n",
    "valid = pd.read_pickle(processed_path/'valid_filled.pickle')"
   ]
  },
  {
   "cell_type": "code",
   "execution_count": null,
   "metadata": {},
   "outputs": [],
   "source": [
    "train.censusdate.min(), train.censusdate.max(), train.hosp_target_3_day_hosp.mean()"
   ]
  },
  {
   "cell_type": "code",
   "execution_count": null,
   "metadata": {},
   "outputs": [],
   "source": [
    "valid.censusdate.min(), valid.censusdate.max(), valid.hosp_target_3_day_hosp.mean()"
   ]
  },
  {
   "cell_type": "code",
   "execution_count": null,
   "metadata": {},
   "outputs": [],
   "source": [
    "def prep(df):\n",
    "    drop_cols = ['censusdate', 'masterpatientid']\n",
    "    drop_cols = drop_cols + [col for col in df.columns if 'target' in col]\n",
    "\n",
    "    y = df.hosp_target_3_day_hosp.astype('float32').values\n",
    "    x = df.drop(columns=drop_cols).reset_index(drop=True).astype('float32')\n",
    "    idens = df.loc[:,['masterpatientid','censusdate']]\n",
    "    \n",
    "    return x, y, idens"
   ]
  },
  {
   "cell_type": "code",
   "execution_count": null,
   "metadata": {},
   "outputs": [],
   "source": [
    "train_x, train_y, train_idens = prep(train)\n",
    "valid_x, valid_y, valid_idens = prep(valid)"
   ]
  },
  {
   "cell_type": "code",
   "execution_count": null,
   "metadata": {},
   "outputs": [],
   "source": [
    "import pickle;\n",
    "with open('/code/data/processed/train_x.pickle','wb') as f: pickle.dump(train_x, f, protocol=4)\n",
    "with open('/code/data/processed/train_y.pickle','wb') as f: pickle.dump(train_y, f, protocol=4)\n",
    "with open('/code/data/processed/train_idens.pickle','wb') as f: pickle.dump(train_idens, f, protocol=4)\n",
    "with open('/code/data/processed/valid_x.pickle','wb') as f: pickle.dump(valid_x, f, protocol=4)\n",
    "with open('/code/data/processed/valid_y.pickle','wb') as f: pickle.dump(valid_y, f, protocol=4)\n",
    "with open('/code/data/processed/valid_idens.pickle','wb') as f: pickle.dump(valid_idens, f, protocol=4)"
   ]
  },
  {
   "cell_type": "code",
   "execution_count": null,
   "metadata": {},
   "outputs": [],
   "source": [
    "import pickle;\n",
    "with open('/code/data/processed/copd_train_x.pickle','rb') as f: train_x = pickle.load(f)\n",
    "with open('/code/data/processed/copd_train_y.pickle','rb') as f: train_y = pickle.load(f)\n",
    "with open('/code/data/processed/copd_train_idens.pickle','rb') as f: train_idens = pickle.load(f)\n",
    "with open('/code/data/processed/copd_valid_x.pickle','rb') as f: valid_x = pickle.load(f)\n",
    "with open('/code/data/processed/copd_valid_y.pickle','rb') as f: valid_y =pickle.load(f)\n",
    "with open('/code/data/processed/copd_valid_idens.pickle','rb') as f: valid_idens =pickle.load(f)"
   ]
  },
  {
   "cell_type": "code",
   "execution_count": 35,
   "metadata": {},
   "outputs": [],
   "source": [
    "param_grid = {\n",
    "    'n_estimators':[100],\n",
    "    'feat_select_threshold': ['64*median'],\n",
    "    'max_features': ['auto'], \n",
    "    'min_samples_leaf': [200], \n",
    "    'class_weight': [None],\n",
    "}"
   ]
  },
  {
   "cell_type": "code",
   "execution_count": 36,
   "metadata": {},
   "outputs": [],
   "source": [
    "mlflow.set_experiment('target_hosp_3_day')"
   ]
  },
  {
   "cell_type": "code",
   "execution_count": 37,
   "metadata": {},
   "outputs": [
    {
     "name": "stdout",
     "output_type": "stream",
     "text": [
      "Trying hyperparamters: {'class_weight': None, 'feat_select_threshold': '64*median', 'max_features': 'auto', 'min_samples_leaf': 200, 'n_estimators': 100}\n"
     ]
    },
    {
     "name": "stderr",
     "output_type": "stream",
     "text": [
      "[Parallel(n_jobs=-1)]: Using backend ThreadingBackend with 16 concurrent workers.\n"
     ]
    },
    {
     "name": "stdout",
     "output_type": "stream",
     "text": [
      "building tree 1 of 100building tree 2 of 100\n",
      "building tree 3 of 100\n",
      "building tree 4 of 100\n",
      "building tree 5 of 100\n",
      "\n",
      "building tree 6 of 100\n",
      "building tree 7 of 100\n",
      "building tree 8 of 100\n",
      "building tree 9 of 100\n",
      "building tree 10 of 100\n",
      "building tree 11 of 100building tree 12 of 100\n",
      "\n",
      "building tree 13 of 100\n",
      "building tree 14 of 100building tree 15 of 100\n",
      "building tree 16 of 100\n",
      "\n",
      "building tree 17 of 100\n",
      "building tree 18 of 100\n",
      "building tree 19 of 100\n",
      "building tree 20 of 100\n",
      "building tree 21 of 100\n",
      "building tree 22 of 100\n",
      "building tree 23 of 100\n",
      "building tree 24 of 100\n",
      "building tree 25 of 100\n",
      "building tree 26 of 100\n",
      "building tree 27 of 100\n",
      "building tree 28 of 100\n",
      "building tree 29 of 100\n",
      "building tree 30 of 100\n",
      "building tree 31 of 100\n",
      "building tree 32 of 100\n",
      "building tree 33 of 100\n",
      "building tree 34 of 100\n",
      "building tree 35 of 100\n",
      "building tree 36 of 100\n",
      "building tree 37 of 100\n",
      "building tree 38 of 100\n",
      "building tree 39 of 100\n",
      "building tree 40 of 100\n",
      "building tree 41 of 100\n",
      "building tree 42 of 100\n",
      "building tree 43 of 100\n",
      "building tree 44 of 100\n",
      "building tree 45 of 100\n",
      "building tree 46 of 100\n",
      "building tree 47 of 100\n",
      "building tree 48 of 100\n",
      "building tree 49 of 100\n",
      "building tree 50 of 100\n",
      "building tree 51 of 100\n",
      "building tree 52 of 100\n",
      "building tree 53 of 100\n",
      "building tree 54 of 100\n",
      "building tree 55 of 100\n",
      "building tree 56 of 100\n",
      "building tree 57 of 100\n",
      "building tree 58 of 100\n",
      "building tree 59 of 100\n",
      "building tree 60 of 100\n",
      "building tree 61 of 100\n",
      "building tree 62 of 100\n",
      "building tree 63 of 100\n",
      "building tree 64 of 100\n",
      "building tree 65 of 100\n",
      "building tree 66 of 100\n",
      "building tree 67 of 100\n",
      "building tree 68 of 100\n",
      "building tree 69 of 100\n",
      "building tree 70 of 100\n",
      "building tree 71 of 100\n",
      "building tree 72 of 100\n",
      "building tree 73 of 100\n",
      "building tree 74 of 100\n",
      "building tree 75 of 100\n",
      "building tree 76 of 100\n",
      "building tree 77 of 100\n",
      "building tree 78 of 100\n",
      "building tree 79 of 100\n",
      "building tree 80 of 100\n",
      "building tree 81 of 100\n",
      "building tree 82 of 100\n",
      "building tree 83 of 100\n",
      "building tree 84 of 100\n",
      "building tree 85 of 100\n",
      "building tree 86 of 100\n",
      "building tree 87 of 100\n",
      "building tree 88 of 100\n",
      "building tree 89 of 100\n",
      "building tree 90 of 100\n",
      "building tree 91 of 100\n",
      "building tree 92 of 100\n",
      "building tree 93 of 100\n",
      "building tree 94 of 100\n",
      "building tree 95 of 100\n",
      "building tree 96 of 100\n",
      "building tree 97 of 100\n",
      "building tree 98 of 100\n",
      "building tree 99 of 100\n",
      "building tree 100 of 100\n"
     ]
    },
    {
     "name": "stderr",
     "output_type": "stream",
     "text": [
      "[Parallel(n_jobs=-1)]: Done 100 out of 100 | elapsed:  6.9min finished\n",
      "[Parallel(n_jobs=-1)]: Using backend ThreadingBackend with 16 concurrent workers.\n"
     ]
    },
    {
     "name": "stdout",
     "output_type": "stream",
     "text": [
      "building tree 1 of 100\n",
      "building tree 2 of 100\n",
      "building tree 3 of 100\n",
      "building tree 4 of 100\n",
      "building tree 5 of 100\n",
      "building tree 6 of 100\n",
      "building tree 7 of 100\n",
      "building tree 8 of 100\n",
      "building tree 9 of 100\n",
      "building tree 10 of 100\n",
      "building tree 11 of 100building tree 12 of 100\n",
      "\n",
      "building tree 13 of 100building tree 14 of 100\n",
      "\n",
      "building tree 15 of 100\n",
      "building tree 16 of 100\n",
      "building tree 17 of 100\n",
      "building tree 18 of 100\n",
      "building tree 19 of 100\n",
      "building tree 20 of 100\n",
      "building tree 21 of 100\n",
      "building tree 22 of 100\n",
      "building tree 23 of 100\n",
      "building tree 24 of 100\n",
      "building tree 25 of 100\n",
      "building tree 26 of 100\n",
      "building tree 27 of 100\n",
      "building tree 28 of 100\n",
      "building tree 29 of 100\n",
      "building tree 30 of 100\n",
      "building tree 31 of 100\n",
      "building tree 32 of 100\n",
      "building tree 33 of 100\n",
      "building tree 34 of 100\n",
      "building tree 35 of 100\n",
      "building tree 36 of 100\n",
      "building tree 37 of 100\n",
      "building tree 38 of 100\n",
      "building tree 39 of 100\n",
      "building tree 40 of 100\n",
      "building tree 41 of 100\n",
      "building tree 42 of 100\n",
      "building tree 43 of 100\n",
      "building tree 44 of 100\n",
      "building tree 45 of 100\n",
      "building tree 46 of 100\n",
      "building tree 47 of 100\n",
      "building tree 48 of 100\n",
      "building tree 49 of 100\n",
      "building tree 50 of 100\n",
      "building tree 51 of 100\n",
      "building tree 52 of 100\n",
      "building tree 53 of 100\n",
      "building tree 54 of 100\n",
      "building tree 55 of 100\n",
      "building tree 56 of 100\n",
      "building tree 57 of 100\n",
      "building tree 58 of 100\n",
      "building tree 59 of 100\n",
      "building tree 60 of 100\n",
      "building tree 61 of 100\n",
      "building tree 62 of 100\n",
      "building tree 63 of 100\n",
      "building tree 64 of 100\n",
      "building tree 65 of 100\n",
      "building tree 66 of 100\n",
      "building tree 67 of 100\n",
      "building tree 68 of 100\n",
      "building tree 69 of 100\n",
      "building tree 70 of 100\n",
      "building tree 71 of 100\n",
      "building tree 72 of 100\n",
      "building tree 73 of 100\n",
      "building tree 74 of 100\n",
      "building tree 75 of 100\n",
      "building tree 76 of 100\n",
      "building tree 77 of 100\n",
      "building tree 78 of 100\n",
      "building tree 79 of 100\n",
      "building tree 80 of 100\n",
      "building tree 81 of 100\n",
      "building tree 82 of 100\n",
      "building tree 83 of 100\n",
      "building tree 84 of 100\n",
      "building tree 85 of 100\n",
      "building tree 86 of 100\n",
      "building tree 87 of 100\n",
      "building tree 88 of 100\n",
      "building tree 89 of 100\n",
      "building tree 90 of 100\n",
      "building tree 91 of 100\n",
      "building tree 92 of 100\n",
      "building tree 93 of 100\n",
      "building tree 94 of 100\n",
      "building tree 95 of 100\n",
      "building tree 96 of 100\n",
      "building tree 97 of 100\n",
      "building tree 98 of 100\n",
      "building tree 99 of 100\n",
      "building tree 100 of 100\n"
     ]
    },
    {
     "name": "stderr",
     "output_type": "stream",
     "text": [
      "[Parallel(n_jobs=-1)]: Done 100 out of 100 | elapsed:  6.7min finished\n",
      "[Parallel(n_jobs=16)]: Using backend ThreadingBackend with 16 concurrent workers.\n",
      "[Parallel(n_jobs=16)]: Done 100 out of 100 | elapsed:   10.7s finished\n",
      "[Parallel(n_jobs=16)]: Using backend ThreadingBackend with 16 concurrent workers.\n",
      "[Parallel(n_jobs=16)]: Done 100 out of 100 | elapsed:    2.4s finished\n"
     ]
    }
   ],
   "source": [
    "for config in ParameterGrid(param_grid):\n",
    "    print(f'Trying hyperparamters: {config}')\n",
    "    \n",
    "    with mlflow.start_run():\n",
    "        feat_est = forest.RandomForestClassifier(\n",
    "            n_estimators=config['n_estimators'],\n",
    "            max_features=config['max_features'],\n",
    "            min_samples_leaf=config['min_samples_leaf'],\n",
    "            class_weight=config['class_weight'],\n",
    "            n_jobs=-1,\n",
    "            verbose=3\n",
    "        )\n",
    "\n",
    "        feat_selector = SelectFromModel(feat_est, threshold=config['feat_select_threshold'])\n",
    "        train_x_new = feat_selector.fit_transform(train_x, train_y)\n",
    "\n",
    "        clf = forest.RandomForestClassifier(\n",
    "            n_estimators=config['n_estimators'],\n",
    "            max_features=config['max_features'],\n",
    "            min_samples_leaf=config['min_samples_leaf'],\n",
    "            class_weight=config['class_weight'],\n",
    "            n_jobs=-1,\n",
    "            verbose=3\n",
    "        )\n",
    "\n",
    "        clf.fit(train_x_new, train_y)\n",
    "\n",
    "        valid_x_new = feat_selector.transform(valid_x)\n",
    "\n",
    "        train_preds = clf.predict_proba(train_x_new)\n",
    "        valid_preds = clf.predict_proba(valid_x_new)\n",
    "\n",
    "        for param in config:\n",
    "            log_param(param, config[param])\n",
    "\n",
    "        #log_metric('train_aucroc', roc_auc_score(train_y, [pred[1] for pred in train_preds]))\n",
    "        #log_metric('train_ap', average_precision_score(train_y, [pred[1] for pred in train_preds]))\n",
    "        log_metric('valid_aucroc', roc_auc_score(valid_y, [pred[1] for pred in valid_preds]))\n",
    "        log_metric('valid_ap', average_precision_score(valid_y, [pred[1] for pred in valid_preds]))\n",
    "\n",
    "        log_model(feat_selector, 'feat_selector')\n",
    "        log_model(clf, \"model\")\n",
    "\n",
    "        feature_selected_features = pd.DataFrame(zip(train_x.columns[feat_selector.get_support()], clf.feature_importances_), columns=['feature', 'rf_importance']).sort_values('rf_importance', ascending=False)\n",
    "        feature_selected_features.to_csv('./feature_selected_features.csv', index=False)\n",
    "        log_artifact('./feature_selected_features.csv')\n",
    "\n",
    "        input_features = pd.DataFrame(train_x.columns, columns=['feature'])\n",
    "        input_features.to_csv('./input_features.csv', index=False)\n",
    "        log_artifact('./input_features.csv')\n",
    "        \n",
    "        with open('./na_filler.pickle','wb') as f: pickle.dump(na_filler, f, protocol=4)\n",
    "        log_artifact('./na_filler.pickle')\n",
    "        \n",
    "        "
   ]
  },
  {
   "cell_type": "code",
   "execution_count": null,
   "metadata": {},
   "outputs": [],
   "source": [
    "feat_est = forest.RandomForestClassifier(\n",
    "    n_estimators=1000,\n",
    "    max_features='auto',\n",
    "    min_samples_leaf=200,\n",
    "    class_weight=None,\n",
    "    n_jobs=-1\n",
    ")\n",
    "\n",
    "feat_selector = SelectFromModel(feat_est, threshold='32*median')\n",
    "train_x_new = feat_selector.fit_transform(train_x, train_y)\n",
    "\n",
    "clf = forest.RandomForestClassifier(\n",
    "    n_estimators=1000,\n",
    "    max_features='auto',\n",
    "    min_samples_leaf=200,\n",
    "    class_weight=None,\n",
    "    n_jobs=-1\n",
    ")\n",
    "\n",
    "clf.fit(train_x_new, train_y)\n",
    "\n",
    "valid_x_new = feat_selector.transform(valid_x)\n",
    "valid_preds = clf.predict_proba(valid_x_new)"
   ]
  },
  {
   "cell_type": "code",
   "execution_count": null,
   "metadata": {},
   "outputs": [],
   "source": [
    "average_precision_score(valid_y, [pred[1] for pred in valid_preds])"
   ]
  },
  {
   "cell_type": "code",
   "execution_count": null,
   "metadata": {},
   "outputs": [],
   "source": [
    "valid_x_shap = pd.concat([valid_x.loc[:, feat_selector.get_support()].reset_index(drop=True), valid_idens.reset_index(drop=True)], axis=1)\n",
    "valid_x_shap['preds'] = [pred[1] for pred in valid_preds]\n",
    "valid_x_shap['target'] = valid_y"
   ]
  },
  {
   "cell_type": "code",
   "execution_count": null,
   "metadata": {},
   "outputs": [],
   "source": [
    "valid_x_shap = valid_x_shap[valid_x_shap.censusdate == pd.to_datetime('2019-02-20')]"
   ]
  },
  {
   "cell_type": "code",
   "execution_count": null,
   "metadata": {},
   "outputs": [],
   "source": [
    "sorted_valid = valid_x_shap.sort_values(by='preds', ascending=False)\n",
    "sorted_valid_dr = sorted_valid.drop(columns=['preds', 'masterpatientid', 'censusdate'])\n",
    "idens = sorted_valid.loc[:, ['masterpatientid', 'censusdate', 'preds', 'target']]"
   ]
  },
  {
   "cell_type": "code",
   "execution_count": null,
   "metadata": {},
   "outputs": [],
   "source": [
    "tt = sorted_valid_dr.head(10)"
   ]
  },
  {
   "cell_type": "code",
   "execution_count": null,
   "metadata": {},
   "outputs": [],
   "source": [
    "explainer = shap.TreeExplainer(clf)"
   ]
  },
  {
   "cell_type": "code",
   "execution_count": null,
   "metadata": {},
   "outputs": [],
   "source": [
    "shap_values = explainer.shap_values(tt)"
   ]
  },
  {
   "cell_type": "code",
   "execution_count": null,
   "metadata": {},
   "outputs": [],
   "source": [
    "shap.force_plot(explainer.expected_value[1], shap_values[1][0], tt.iloc[0])"
   ]
  },
  {
   "cell_type": "code",
   "execution_count": null,
   "metadata": {},
   "outputs": [],
   "source": [
    "out = []\n",
    "\n",
    "for i in range(0,10):\n",
    "    shaps = pd.DataFrame({'feature_name':tt.columns, 'shap_value': shap_values[1][i], 'feature_value': tt.iloc[i]}).sort_values(by='shap_value', ascending=False)\n",
    "    shaps = shaps.head(n=10)\n",
    "    shaps['masterpatientid'] = hash(str(idens.iloc[i].masterpatientid))\n",
    "    shaps['censusdate'] = idens.iloc[i].censusdate\n",
    "    shaps['prediction'] = idens.iloc[i].preds\n",
    "    shaps['rehosped'] = idens.iloc[i].target\n",
    "    out.append(shaps)\n",
    "    "
   ]
  },
  {
   "cell_type": "code",
   "execution_count": null,
   "metadata": {},
   "outputs": [],
   "source": [
    "pd.concat(out).to_csv('/code/data/copd_model_2019-02-20.csv', index=False)"
   ]
  },
  {
   "cell_type": "code",
   "execution_count": null,
   "metadata": {},
   "outputs": [],
   "source": [
    "pd.DataFrame({'feature_name':tt.columns, 'shap_value': shap_values[1][0], 'feature_value': tt.iloc[0]}).sort_values(by='shap_value', ascending=False)"
   ]
  },
  {
   "cell_type": "code",
   "execution_count": null,
   "metadata": {},
   "outputs": [],
   "source": []
  }
 ],
 "metadata": {
  "kernelspec": {
   "display_name": "Python 3",
   "language": "python",
   "name": "python3"
  },
  "language_info": {
   "codemirror_mode": {
    "name": "ipython",
    "version": 3
   },
   "file_extension": ".py",
   "mimetype": "text/x-python",
   "name": "python",
   "nbconvert_exporter": "python",
   "pygments_lexer": "ipython3",
   "version": "3.7.3"
  }
 },
 "nbformat": 4,
 "nbformat_minor": 2
}
