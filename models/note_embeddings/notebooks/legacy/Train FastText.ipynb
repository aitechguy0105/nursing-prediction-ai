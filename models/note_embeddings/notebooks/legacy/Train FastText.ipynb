{
 "cells": [
  {
   "cell_type": "code",
   "execution_count": 1,
   "metadata": {},
   "outputs": [],
   "source": [
    "import pandas as pd\n",
    "import s3fs\n",
    "\n",
    "import re\n",
    "\n",
    "from gensim.models import FastText\n",
    "\n",
    "train_start_date = '2017-01-01'\n",
    "train_end_date = '2019-02-28'\n",
    "test_end_date = '2019-06-26'"
   ]
  },
  {
   "cell_type": "markdown",
   "metadata": {},
   "source": [
    "# Create Full Note Set"
   ]
  },
  {
   "cell_type": "code",
   "execution_count": 2,
   "metadata": {},
   "outputs": [],
   "source": [
    "avante_df = pd.read_parquet(f's3://saiva-restricted-data/raw/avante_progress_notes_{train_start_date}_{test_end_date}.parquet')"
   ]
  },
  {
   "cell_type": "code",
   "execution_count": 3,
   "metadata": {},
   "outputs": [],
   "source": [
    "grey_df = pd.read_parquet(f's3://saiva-restricted-data/raw/greystone_progress_notes_{train_start_date}_{test_end_date}.parquet')"
   ]
  },
  {
   "cell_type": "code",
   "execution_count": 4,
   "metadata": {},
   "outputs": [],
   "source": [
    "avante_df['provider'] = 'avante'\n",
    "grey_df['provider'] = 'greystone'"
   ]
  },
  {
   "cell_type": "code",
   "execution_count": 5,
   "metadata": {},
   "outputs": [],
   "source": [
    "full_df = avante_df.append(grey_df).sort_values(['ProgressNoteID', 'SectionSequence', 'NoteTextOrder'])"
   ]
  },
  {
   "cell_type": "code",
   "execution_count": 6,
   "metadata": {},
   "outputs": [],
   "source": [
    "grp_columns = 'provider ProgressNoteID PatientID FacilityID ProgressNoteType CreatedDate SectionSequence Section'.split()"
   ]
  },
  {
   "cell_type": "code",
   "execution_count": 7,
   "metadata": {},
   "outputs": [],
   "source": [
    "grp = full_df.groupby(grp_columns)"
   ]
  },
  {
   "cell_type": "code",
   "execution_count": 8,
   "metadata": {},
   "outputs": [],
   "source": [
    "full_notes = grp['NoteText'].agg(lambda x: ''.join(x)).reset_index()"
   ]
  },
  {
   "cell_type": "code",
   "execution_count": 9,
   "metadata": {},
   "outputs": [],
   "source": [
    "full_notes.to_parquet(f's3://saiva-restricted-data/raw/full_note_text_{train_start_date}_{test_end_date}.parquet')"
   ]
  },
  {
   "cell_type": "markdown",
   "metadata": {},
   "source": [
    "# Load and process"
   ]
  },
  {
   "cell_type": "code",
   "execution_count": 2,
   "metadata": {},
   "outputs": [],
   "source": [
    "full_notes = pd.read_parquet(f's3://saiva-restricted-data/raw/full_note_text_{train_start_date}_{test_end_date}.parquet')"
   ]
  },
  {
   "cell_type": "code",
   "execution_count": 10,
   "metadata": {},
   "outputs": [],
   "source": [
    "def preprocess(strings):\n",
    "    for s in strings:\n",
    "        yield preprocess_one(s)\n",
    "\n",
    "def preprocess_one(s):\n",
    "    s = s.lower()\n",
    "    tokens = re.split(r'\\s', s)\n",
    "    return tuple(t for t in tokens if len(t) > 0)"
   ]
  },
  {
   "cell_type": "code",
   "execution_count": 11,
   "metadata": {},
   "outputs": [],
   "source": [
    "from multiprocessing import Pool\n",
    "import os"
   ]
  },
  {
   "cell_type": "code",
   "execution_count": 12,
   "metadata": {},
   "outputs": [],
   "source": [
    "pool = Pool(os.cpu_count() - 2)"
   ]
  },
  {
   "cell_type": "code",
   "execution_count": 13,
   "metadata": {},
   "outputs": [],
   "source": [
    "# sample['tokens'] = sample['NoteText'].apply(preprocess_one)\n",
    "# full_notes['tokens'] = full_notes['NoteText'].apply(preprocess_one)\n",
    "tokens = pool.map(preprocess_one, full_notes[full_notes['NoteText'].str.len() >= 100]['NoteText'])"
   ]
  },
  {
   "cell_type": "code",
   "execution_count": 14,
   "metadata": {},
   "outputs": [
    {
     "data": {
      "text/plain": [
       "7432246"
      ]
     },
     "execution_count": 14,
     "metadata": {},
     "output_type": "execute_result"
    }
   ],
   "source": [
    "len(tokens)"
   ]
  },
  {
   "cell_type": "code",
   "execution_count": 14,
   "metadata": {},
   "outputs": [
    {
     "data": {
      "text/plain": [
       "14959658"
      ]
     },
     "execution_count": 14,
     "metadata": {},
     "output_type": "execute_result"
    }
   ],
   "source": [
    "len(tokens)"
   ]
  },
  {
   "cell_type": "code",
   "execution_count": 15,
   "metadata": {},
   "outputs": [
    {
     "name": "stdout",
     "output_type": "stream",
     "text": [
      "CPU times: user 4d 6h 52min 14s, sys: 2min 30s, total: 4d 6h 54min 45s\n",
      "Wall time: 2h 27min 18s\n"
     ]
    }
   ],
   "source": [
    "%%time\n",
    "model = FastText(size=300, window=5, workers=os.cpu_count()-2, min_count=50)\n",
    "model.build_vocab(tokens)\n",
    "model.train(sentences=tokens, total_examples=len(tokens), epochs=20)"
   ]
  },
  {
   "cell_type": "code",
   "execution_count": 16,
   "metadata": {},
   "outputs": [
    {
     "name": "stderr",
     "output_type": "stream",
     "text": [
      "/opt/conda/lib/python3.7/site-packages/smart_open/smart_open_lib.py:398: UserWarning: This function is deprecated, use smart_open.open instead. See the migration notes for details: https://github.com/RaRe-Technologies/smart_open/blob/master/README.rst#migrating-to-the-new-open-function\n",
      "  'See the migration notes for details: %s' % _MIGRATION_NOTES_URL\n"
     ]
    }
   ],
   "source": [
    "model.save(f'/code/data/fasttext_model_min_100_chars_{train_start_date}_{test_end_date}.model')"
   ]
  },
  {
   "cell_type": "markdown",
   "metadata": {},
   "source": [
    "# Copy to s3"
   ]
  },
  {
   "cell_type": "code",
   "execution_count": 17,
   "metadata": {},
   "outputs": [],
   "source": [
    "import glob"
   ]
  },
  {
   "cell_type": "code",
   "execution_count": 18,
   "metadata": {},
   "outputs": [],
   "source": [
    "model_files = glob.glob(f'/code/data/fasttext_model_min_100_chars_{train_start_date}_{test_end_date}.model*')"
   ]
  },
  {
   "cell_type": "code",
   "execution_count": 19,
   "metadata": {},
   "outputs": [],
   "source": [
    "import boto3"
   ]
  },
  {
   "cell_type": "code",
   "execution_count": 20,
   "metadata": {},
   "outputs": [],
   "source": [
    "s3 = boto3.resource('s3')"
   ]
  },
  {
   "cell_type": "code",
   "execution_count": 21,
   "metadata": {},
   "outputs": [],
   "source": [
    "import os"
   ]
  },
  {
   "cell_type": "code",
   "execution_count": 22,
   "metadata": {},
   "outputs": [
    {
     "data": {
      "text/plain": [
       "'fasttext_model_2017-01-01_2019-06-26.model.wv.vectors.npy'"
      ]
     },
     "execution_count": 22,
     "metadata": {},
     "output_type": "execute_result"
    }
   ],
   "source": [
    "os.path.basename(model_files[0])"
   ]
  },
  {
   "cell_type": "code",
   "execution_count": 22,
   "metadata": {},
   "outputs": [
    {
     "name": "stdout",
     "output_type": "stream",
     "text": [
      "/code/data/fasttext_model_min_100_chars_2017-01-01_2019-06-26.model.trainables.vectors_vocab_lockf.npy\n",
      "/code/data/fasttext_model_min_100_chars_2017-01-01_2019-06-26.model.trainables.vectors_ngrams_lockf.npy\n",
      "/code/data/fasttext_model_min_100_chars_2017-01-01_2019-06-26.model\n",
      "/code/data/fasttext_model_min_100_chars_2017-01-01_2019-06-26.model.wv.vectors_ngrams.npy\n",
      "/code/data/fasttext_model_min_100_chars_2017-01-01_2019-06-26.model.trainables.syn1neg.npy\n",
      "/code/data/fasttext_model_min_100_chars_2017-01-01_2019-06-26.model.wv.vectors_vocab.npy\n",
      "/code/data/fasttext_model_min_100_chars_2017-01-01_2019-06-26.model.wv.vectors.npy\n"
     ]
    }
   ],
   "source": [
    "for fp in model_files:\n",
    "    s3.Bucket('saiva-restricted-data').upload_file(fp, os.path.join('models/meta/', os.path.basename(fp)))\n",
    "    print(fp)"
   ]
  },
  {
   "cell_type": "markdown",
   "metadata": {},
   "source": [
    "# Load from disk"
   ]
  },
  {
   "cell_type": "code",
   "execution_count": 4,
   "metadata": {},
   "outputs": [
    {
     "name": "stderr",
     "output_type": "stream",
     "text": [
      "/opt/conda/lib/python3.7/site-packages/smart_open/smart_open_lib.py:398: UserWarning: This function is deprecated, use smart_open.open instead. See the migration notes for details: https://github.com/RaRe-Technologies/smart_open/blob/master/README.rst#migrating-to-the-new-open-function\n",
      "  'See the migration notes for details: %s' % _MIGRATION_NOTES_URL\n"
     ]
    }
   ],
   "source": [
    "model = FastText.load(f'/code/data/fasttext_model_{train_start_date}_{train_end_date}.model')"
   ]
  },
  {
   "cell_type": "code",
   "execution_count": 17,
   "metadata": {},
   "outputs": [],
   "source": [
    "kv = model.wv"
   ]
  },
  {
   "cell_type": "code",
   "execution_count": 18,
   "metadata": {},
   "outputs": [],
   "source": [
    "model = None"
   ]
  },
  {
   "cell_type": "code",
   "execution_count": 19,
   "metadata": {},
   "outputs": [
    {
     "name": "stderr",
     "output_type": "stream",
     "text": [
      "/opt/conda/lib/python3.7/site-packages/smart_open/smart_open_lib.py:398: UserWarning: This function is deprecated, use smart_open.open instead. See the migration notes for details: https://github.com/RaRe-Technologies/smart_open/blob/master/README.rst#migrating-to-the-new-open-function\n",
      "  'See the migration notes for details: %s' % _MIGRATION_NOTES_URL\n"
     ]
    }
   ],
   "source": [
    "kv.save('/code/data/fasttext_keyed_vectors.kv')"
   ]
  }
 ],
 "metadata": {
  "kernelspec": {
   "display_name": "Python 3",
   "language": "python",
   "name": "python3"
  },
  "language_info": {
   "codemirror_mode": {
    "name": "ipython",
    "version": 3
   },
   "file_extension": ".py",
   "mimetype": "text/x-python",
   "name": "python",
   "nbconvert_exporter": "python",
   "pygments_lexer": "ipython3",
   "version": "3.7.4"
  }
 },
 "nbformat": 4,
 "nbformat_minor": 2
}
