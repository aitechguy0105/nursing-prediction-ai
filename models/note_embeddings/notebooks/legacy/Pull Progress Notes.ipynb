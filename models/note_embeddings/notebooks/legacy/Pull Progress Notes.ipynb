{
 "cells": [
  {
   "cell_type": "code",
   "execution_count": 14,
   "metadata": {},
   "outputs": [],
   "source": [
    "%matplotlib inline"
   ]
  },
  {
   "cell_type": "code",
   "execution_count": 1,
   "metadata": {},
   "outputs": [],
   "source": [
    "import boto3\n",
    "import pandas as pd\n",
    "import numpy as np\n",
    "from pathlib import Path\n",
    "import json\n",
    "import re\n",
    "\n",
    "from sqlalchemy import create_engine\n",
    "from sqlalchemy.engine.url import URL"
   ]
  },
  {
   "cell_type": "code",
   "execution_count": 2,
   "metadata": {},
   "outputs": [],
   "source": [
    "import s3fs"
   ]
  },
  {
   "cell_type": "markdown",
   "metadata": {},
   "source": [
    "# Avante"
   ]
  },
  {
   "cell_type": "code",
   "execution_count": 2,
   "metadata": {},
   "outputs": [],
   "source": [
    "secret_name = \"cust_db_credentials\"\n",
    "region_name = \"us-east-1\"\n",
    "\n",
    "# Create a Secrets Manager client\n",
    "session = boto3.session.Session()\n",
    "client = session.client(service_name=\"secretsmanager\", region_name=region_name)\n",
    "\n",
    "get_secret_value_response = client.get_secret_value(SecretId=secret_name)\n",
    "\n",
    "db_info = json.loads(get_secret_value_response[\"SecretString\"])\n",
    "\n",
    "avan_connect_url = URL(\n",
    "    drivername=\"mssql+pyodbc\",\n",
    "    username=db_info[\"username\"],\n",
    "    password=db_info[\"password\"],\n",
    "    host=db_info[\"host\"],\n",
    "    database=\"AVAN\",\n",
    "    query={'driver': 'ODBC Driver 17 for SQL Server'}\n",
    ")\n",
    "\n",
    "avan_engine = create_engine(avan_connect_url)"
   ]
  },
  {
   "cell_type": "code",
   "execution_count": 4,
   "metadata": {},
   "outputs": [],
   "source": [
    "train_start_date = '2011-01-01'\n",
    "train_end_date = '2019-02-28'\n",
    "test_end_date = '2019-06-26'"
   ]
  },
  {
   "cell_type": "code",
   "execution_count": 5,
   "metadata": {},
   "outputs": [],
   "source": [
    "query = f'''\n",
    "select [FacilityID]\n",
    "      ,[ProgressNoteID]\n",
    "      ,[PatientID]\n",
    "      ,[ProgressNoteType]\n",
    "      ,[EffectiveDate]\n",
    "      ,[Retired]\n",
    "      ,[RetiredBy]\n",
    "      ,[RetiredDate]\n",
    "      ,[Section]\n",
    "      ,[SectionSequence]\n",
    "      ,[NoteText]\n",
    "      ,[NoteTextOrder]\n",
    "      ,[CreatedBy]\n",
    "      ,[CreatedDate]\n",
    "      ,[RevisionBy]\n",
    "      ,[RevisionDate]\n",
    "from view_ods_progress_note\n",
    "where createddate between '{train_start_date}' and '{test_end_date}'\n",
    "AND CAST(CreatedDate as Date) = CAST(RevisionDate as Date) AND Deleted = 'N'\n",
    "'''\n",
    "\n",
    "df = pd.read_sql(query, avan_engine)"
   ]
  },
  {
   "cell_type": "code",
   "execution_count": 6,
   "metadata": {},
   "outputs": [
    {
     "name": "stdout",
     "output_type": "stream",
     "text": [
      "Data Pulled\n"
     ]
    }
   ],
   "source": [
    "print('Data Pulled')"
   ]
  },
  {
   "cell_type": "code",
   "execution_count": 7,
   "metadata": {},
   "outputs": [],
   "source": [
    "df.to_parquet(f's3://saiva-restricted-data/raw/avante_progress_notes_{train_start_date}_{test_end_date}.parquet')"
   ]
  },
  {
   "cell_type": "code",
   "execution_count": 15,
   "metadata": {},
   "outputs": [],
   "source": [
    "full_df = full_df.append(df)"
   ]
  },
  {
   "cell_type": "code",
   "execution_count": 16,
   "metadata": {},
   "outputs": [],
   "source": [
    "full_df.to_parquet(f's3://saiva-restricted-data/raw/avante_progress_notes_{train_start_date}_{test_end_date}.parquet')"
   ]
  },
  {
   "cell_type": "code",
   "execution_count": 17,
   "metadata": {},
   "outputs": [
    {
     "data": {
      "text/plain": [
       "10408503"
      ]
     },
     "execution_count": 17,
     "metadata": {},
     "output_type": "execute_result"
    }
   ],
   "source": [
    "len(full_df)"
   ]
  },
  {
   "cell_type": "markdown",
   "metadata": {},
   "source": [
    "# Greystone"
   ]
  },
  {
   "cell_type": "code",
   "execution_count": 4,
   "metadata": {},
   "outputs": [],
   "source": [
    "grey_connect_url = URL(\n",
    "    drivername=\"mssql+pyodbc\",\n",
    "    username='saiva',\n",
    "    password='Saiva27360!',\n",
    "    host='172.0.95.223',\n",
    "    database=\"pcc_replica_saiva\",\n",
    "    port=1433,\n",
    "    query={'driver': 'ODBC Driver 17 for SQL Server'}\n",
    ")\n",
    "\n",
    "grey_engine = create_engine(grey_connect_url)"
   ]
  },
  {
   "cell_type": "code",
   "execution_count": 6,
   "metadata": {},
   "outputs": [],
   "source": [
    "query = f'''\n",
    "select [FacilityID]\n",
    "      ,[ProgressNoteID]\n",
    "      ,[PatientID]\n",
    "      ,[ProgressNoteType]\n",
    "      ,[EffectiveDate]\n",
    "      ,[Section]\n",
    "      ,[SectionSequence]\n",
    "      ,[NoteText]\n",
    "      ,[NoteTextOrder]\n",
    "      ,[CreatedBy]\n",
    "      ,[CreatedDate]\n",
    "      ,[RevisionBy]\n",
    "      ,[RevisionDate]\n",
    "FROM [pcc_replica_saiva].[dbo].[ods_progress_note]\n",
    "where createddate < '2019-06-15'\n",
    "'''\n",
    "\n",
    "df = pd.read_sql(query, grey_engine)"
   ]
  },
  {
   "cell_type": "code",
   "execution_count": 7,
   "metadata": {},
   "outputs": [
    {
     "data": {
      "text/plain": [
       "11913897"
      ]
     },
     "execution_count": 7,
     "metadata": {},
     "output_type": "execute_result"
    }
   ],
   "source": [
    "len(df)"
   ]
  },
  {
   "cell_type": "code",
   "execution_count": 8,
   "metadata": {},
   "outputs": [],
   "source": [
    "df.to_parquet(f's3://saiva-restricted-data/raw/greystone_progress_notes_all_time.parquet')"
   ]
  },
  {
   "cell_type": "code",
   "execution_count": 9,
   "metadata": {},
   "outputs": [],
   "source": [
    "df.to_parquet('/code/data/raw/greystone_progress_notes_all_time.parquet')"
   ]
  },
  {
   "cell_type": "code",
   "execution_count": 15,
   "metadata": {},
   "outputs": [
    {
     "data": {
      "text/plain": [
       "<matplotlib.axes._subplots.AxesSubplot at 0x7fce7145fe48>"
      ]
     },
     "execution_count": 15,
     "metadata": {},
     "output_type": "execute_result"
    },
    {
     "data": {
      "image/png": "[encoded data removed]",
      "text/plain": [
       "<Figure size 432x288 with 1 Axes>"
      ]
     },
     "metadata": {
      "needs_background": "light"
     },
     "output_type": "display_data"
    }
   ],
   "source": [
    "df['CreatedDate'].hist()"
   ]
  }
 ],
 "metadata": {
  "kernelspec": {
   "display_name": "Python 3",
   "language": "python",
   "name": "python3"
  },
  "language_info": {
   "codemirror_mode": {
    "name": "ipython",
    "version": 3
   },
   "file_extension": ".py",
   "mimetype": "text/x-python",
   "name": "python",
   "nbconvert_exporter": "python",
   "pygments_lexer": "ipython3",
   "version": "3.7.4"
  }
 },
 "nbformat": 4,
 "nbformat_minor": 2
}
