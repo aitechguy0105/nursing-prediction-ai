{
 "cells": [
  {
   "cell_type": "code",
   "execution_count": 1,
   "metadata": {},
   "outputs": [],
   "source": [
    "import re\n",
    "from multiprocessing import Pool\n",
    "import os\n",
    "import pandas as pd\n",
    "from gensim.models.phrases import Phrases, Phraser\n",
    "from functools import lru_cache"
   ]
  },
  {
   "cell_type": "code",
   "execution_count": 2,
   "metadata": {},
   "outputs": [],
   "source": [
    "greystone_notes = pd.read_parquet('/data/progress_notes/greystone_progress_notes_all_time.parquet')\n",
    "greystone_notes['client'] = 'greystone'"
   ]
  },
  {
   "cell_type": "code",
   "execution_count": 3,
   "metadata": {},
   "outputs": [],
   "source": [
    "avante_notes = pd.read_parquet('/data/progress_notes/avante_notes_valid_types_only.parquet')"
   ]
  },
  {
   "cell_type": "code",
   "execution_count": 4,
   "metadata": {},
   "outputs": [],
   "source": [
    "note_columns = set(avante_notes.columns) & set(greystone_notes.columns)\n",
    "all_notes = greystone_notes[note_columns].append(avante_notes[note_columns]).copy()\n",
    "all_notes = all_notes.sort_values(['client', 'CreatedDate', 'ProgressNoteID', 'Section', 'SectionSequence'])"
   ]
  },
  {
   "cell_type": "code",
   "execution_count": 5,
   "metadata": {},
   "outputs": [],
   "source": [
    "grp_cols = ['client', 'FacilityID', 'PatientID', 'CreatedDate', 'ProgressNoteID', 'ProgressNoteType', 'Section']\n",
    "all_notes_grouped = all_notes.groupby(grp_cols).agg({'NoteText': lambda note_parts: ''.join(note_parts)}).reset_index()"
   ]
  },
  {
   "cell_type": "code",
   "execution_count": 6,
   "metadata": {},
   "outputs": [],
   "source": [
    "def preprocess(strings):\n",
    "    for s in strings:\n",
    "        yield preprocess_one(s)\n",
    "\n",
    "@lru_cache(maxsize=500000)\n",
    "def preprocess_one(s):\n",
    "    s = s.lower()\n",
    "    tokens = re.split(r'\\b', s)\n",
    "    return tuple(t for t in tokens if len(t) > 0 and t != ' ')"
   ]
  },
  {
   "cell_type": "code",
   "execution_count": 7,
   "metadata": {},
   "outputs": [],
   "source": [
    "pool = Pool(os.cpu_count() - 2)"
   ]
  },
  {
   "cell_type": "code",
   "execution_count": 8,
   "metadata": {},
   "outputs": [],
   "source": [
    "tokens = pool.map(preprocess_one, all_notes_grouped['NoteText'].values)"
   ]
  },
  {
   "cell_type": "code",
   "execution_count": 9,
   "metadata": {},
   "outputs": [],
   "source": [
    "all_notes_grouped['tokens'] = tokens"
   ]
  },
  {
   "cell_type": "code",
   "execution_count": 10,
   "metadata": {},
   "outputs": [],
   "source": [
    "all_notes_grouped.to_pickle('/data/progress_notes/all_notes_tokenized.pickle')"
   ]
  },
  {
   "cell_type": "code",
   "execution_count": 11,
   "metadata": {},
   "outputs": [],
   "source": [
    "is_emar = (all_notes_grouped['ProgressNoteType'] == 'eMAR-Medication Administration Note') | (all_notes_grouped['ProgressNoteType'] == 'eMar - General Note from eRecord')"
   ]
  },
  {
   "cell_type": "code",
   "execution_count": 12,
   "metadata": {},
   "outputs": [],
   "source": [
    "emar_notes = all_notes_grouped.loc[is_emar]\n",
    "other_notes = all_notes_grouped.loc[~is_emar]\n",
    "assert len(emar_notes) + len(other_notes) == len(all_notes_grouped)"
   ]
  },
  {
   "cell_type": "code",
   "execution_count": 13,
   "metadata": {},
   "outputs": [],
   "source": [
    "emar_notes.to_pickle('/data/emar_notes_tokenized.pickle')\n",
    "other_notes.to_pickle('/data/non_emar_notes_tokenized.pickle')"
   ]
  },
  {
   "cell_type": "code",
   "execution_count": 14,
   "metadata": {},
   "outputs": [],
   "source": [
    "!mv /data/emar_notes_tokenized.pickle /data/progress_notes/emar_notes_tokenized.pickle"
   ]
  },
  {
   "cell_type": "code",
   "execution_count": 15,
   "metadata": {},
   "outputs": [],
   "source": [
    "!mv /data/non_emar_notes_tokenized.pickle /data/progress_notes/non_emar_notes_tokenized.pickle"
   ]
  }
 ],
 "metadata": {
  "kernelspec": {
   "display_name": "Python 3",
   "language": "python",
   "name": "python3"
  },
  "language_info": {
   "codemirror_mode": {
    "name": "ipython",
    "version": 3
   },
   "file_extension": ".py",
   "mimetype": "text/x-python",
   "name": "python",
   "nbconvert_exporter": "python",
   "pygments_lexer": "ipython3",
   "version": "3.7.4"
  }
 },
 "nbformat": 4,
 "nbformat_minor": 2
}
