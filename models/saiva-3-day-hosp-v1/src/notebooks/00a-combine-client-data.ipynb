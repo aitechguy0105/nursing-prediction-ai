{
 "cells": [
  {
   "cell_type": "code",
   "execution_count": null,
   "metadata": {},
   "outputs": [],
   "source": [
    "import pandas as pd\n",
    "# import modin.pandas as pd\n",
    "from pathlib import Path\n",
    "import os\n",
    "import timeit"
   ]
  },
  {
   "cell_type": "code",
   "execution_count": null,
   "metadata": {},
   "outputs": [],
   "source": [
    "import sys\n",
    "sys.path.insert(0, '/src')\n",
    "from shared.load_raw_data import get_genric_file_names\n",
    "from shared.constants import CLIENT\n",
    "from eliot import to_file\n",
    "to_file(sys.stdout)"
   ]
  },
  {
   "cell_type": "code",
   "execution_count": null,
   "metadata": {},
   "outputs": [],
   "source": [
    "# Strip client name and get the actual dataframe names\n",
    "\n",
    "data_path = Path('/data/raw')\n",
    "client_file_types = get_genric_file_names(data_path, CLIENT)\n",
    "\n",
    "print(client_file_types)"
   ]
  },
  {
   "cell_type": "code",
   "execution_count": null,
   "metadata": {},
   "outputs": [],
   "source": [
    "\"\"\"\n",
    "- When using other clients data, merge respective files across all \n",
    "  given clients and rename them removing the client name\n",
    "- Append client_name to masterpatientid\n",
    "- Add a client column\n",
    "\"\"\"\n",
    "start_time = timeit.default_timer()\n",
    "for ft in client_file_types:\n",
    "    try:\n",
    "        # Fetch same file across client\n",
    "        client_files = data_path.glob(f'*_{ft}.parquet')\n",
    "\n",
    "        df = pd.DataFrame()\n",
    "        \n",
    "        # Loop through all the files and combine them\n",
    "        for f in client_files:\n",
    "            client = f.name.split('_')[0]\n",
    "            client_df = pd.read_parquet(f)\n",
    "            client_df['masterpatientid'] = client_df['masterpatientid'].apply(lambda x: client + '_' + str(x))\n",
    "            client_df['client'] = client\n",
    "            df = df.append(client_df, ignore_index=True)\n",
    "            print(ft, len(client_df), len(df))\n",
    "\n",
    "        if ft == 'patient_demographics':\n",
    "            df['dateofbirth'] = df['dateofbirth'].astype('datetime64[ms]')\n",
    "            \n",
    "        if ft == 'patient_diagnosis':\n",
    "            df['onsetdate'] = df['onsetdate'].astype('datetime64[ms]')\n",
    "            \n",
    "        df.to_parquet(data_path/f'{ft}.parquet')\n",
    "        print('============================')\n",
    "    except Exception as e:\n",
    "        print(ft, 'failed:', e)\n",
    "print(f\"{timeit.default_timer() - start_time} seconds\")"
   ]
  },
  {
   "cell_type": "markdown",
   "metadata": {},
   "source": [
    "### ======================== TESTING ================================"
   ]
  },
  {
   "cell_type": "code",
   "execution_count": null,
   "metadata": {},
   "outputs": [],
   "source": [
    "# Load generic named Training data which is cached in local folders\n",
    "# from shared.load_raw_data import fetch_training_cache_data\n",
    "\n",
    "# result_dict = fetch_training_cache_data(client=CLIENT, generic=True)\n",
    "# for key, value in result_dict.items():\n",
    "#     print(f'{key} : {result_dict[key].info()}')"
   ]
  },
  {
   "cell_type": "code",
   "execution_count": null,
   "metadata": {},
   "outputs": [],
   "source": [
    "# Remove all newly generated parquet files\n",
    "\n",
    "# for ft in client_file_types:\n",
    "#     os.remove(data_path/f'{ft}.parquet')"
   ]
  }
 ],
 "metadata": {
  "kernelspec": {
   "display_name": "Python 3",
   "language": "python",
   "name": "python3"
  },
  "language_info": {
   "codemirror_mode": {
    "name": "ipython",
    "version": 3
   },
   "file_extension": ".py",
   "mimetype": "text/x-python",
   "name": "python",
   "nbconvert_exporter": "python",
   "pygments_lexer": "ipython3",
   "version": "3.7.3"
  }
 },
 "nbformat": 4,
 "nbformat_minor": 4
}
