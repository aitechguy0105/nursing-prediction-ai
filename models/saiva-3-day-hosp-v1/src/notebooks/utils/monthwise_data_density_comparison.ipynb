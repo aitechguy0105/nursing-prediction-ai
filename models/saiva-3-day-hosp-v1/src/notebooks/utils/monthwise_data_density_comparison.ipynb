{
 "cells": [
  {
   "cell_type": "markdown",
   "metadata": {},
   "source": [
    "### Notebook to compare patient dataset densities (patient specific data/patient count) on a montly basis between different clients"
   ]
  },
  {
   "cell_type": "markdown",
   "metadata": {},
   "source": [
    "Pre-requisites:\n",
    "* run the notebook from you local machine as it runs on production data.\n",
    "    "
   ]
  },
  {
   "cell_type": "code",
   "execution_count": null,
   "metadata": {},
   "outputs": [],
   "source": [
    "import json\n",
    "import boto3\n",
    "import numpy as np\n",
    "from eliot import log_message\n",
    "from sqlalchemy import create_engine\n",
    "from sqlalchemy.engine.url import URL\n",
    "import pandas as pd\n",
    "!pip install matplotlib\n",
    "from functools import reduce\n",
    "import matplotlib.pyplot as plt"
   ]
  },
  {
   "cell_type": "code",
   "execution_count": null,
   "metadata": {},
   "outputs": [],
   "source": [
    "# database class.\n",
    "\n",
    "class DbEngine(object):\n",
    "    \"\"\"\n",
    "    Fetch the credentials from AWS Secrets Manager.\n",
    "    :return: DB connection to the respective database\n",
    "    \"\"\"\n",
    "\n",
    "    def __init__(self, region_name='us-east-1'):\n",
    "        self.session = boto3.session.Session()\n",
    "        self.secrets_client = self.session.client(\n",
    "            service_name='secretsmanager',\n",
    "            region_name=region_name\n",
    "        )\n",
    "\n",
    "    def get_secrets(self, secret_name):\n",
    "        \"\"\"\n",
    "        :return: Based on the environment get secrets for\n",
    "        Client SQL db & Postgres Saivadb\n",
    "        \"\"\"\n",
    "        log_message(message_type='info', action_type='get_secrets', secret_name=secret_name)\n",
    "        db_info = json.loads(\n",
    "            self.secrets_client.get_secret_value(SecretId=secret_name)[\n",
    "                'SecretString'\n",
    "            ]\n",
    "        )\n",
    "        return db_info\n",
    "\n",
    "    def get_sqldb_engine(self, clientdb_name):\n",
    "        \"\"\"\n",
    "        Based on the environment connects to the respective database.\n",
    "        Avante db is in client VPN hence we use different credentials.\n",
    "        :param client: client name\n",
    "        :return: Client SQL engine\n",
    "        \"\"\"\n",
    "        log_message(message_type='info', action_type='connect_to_sqldb', client=clientdb_name)\n",
    "        # Fetch credentials from AWS Secrets Manager\n",
    "        if clientdb_name == 'avante':\n",
    "            sqldb_info = self.get_secrets(secret_name=f'avantedb')\n",
    "        else:\n",
    "            sqldb_info = self.get_secrets(secret_name=f'prod-sqlserver')\n",
    "            sqldb_info['dbname'] = clientdb_name\n",
    "\n",
    "        # Create DB URL\n",
    "        client_sqldb_url = URL(\n",
    "            drivername='mssql+pyodbc',\n",
    "            username=sqldb_info['username'],\n",
    "            password=sqldb_info['password'],\n",
    "            host=sqldb_info['host'],\n",
    "            port=sqldb_info['port'],\n",
    "            database=sqldb_info['dbname'],\n",
    "            query={'driver': 'ODBC Driver 17 for SQL Server'},\n",
    "        )\n",
    "        # Return Sql Engine\n",
    "        return create_engine(client_sqldb_url, echo=False)\n",
    "\n",
    "    def verify_connectivity(self, engine):\n",
    "        assert engine.execute('select 1').fetchall() is not None  # verify connectivity\n"
   ]
  },
  {
   "cell_type": "code",
   "execution_count": null,
   "metadata": {},
   "outputs": [],
   "source": [
    "# all available clients= name. Select clients whose output has to be compared.\n",
    "# clients = ['trio','dycora','northshore','gulfshore','infinity-infinity','infinity-benchmark','palmgarden','avante']\n",
    "clients = ['avante']\n",
    "\n",
    "# select month range. 1:January, 12:December.\n",
    "start_month = 1\n",
    "end_month = 8\n",
    "\n",
    "# censusactioncode like deceased and in hospital are not included.\n",
    "not_included_censusactioncode = ['L', 'DH', 'DD', 'DE', 'TO', 'DRNA', 'DRA', 'PBH', 'RDD', 'RDE']\n"
   ]
  },
  {
   "cell_type": "code",
   "execution_count": null,
   "metadata": {},
   "outputs": [],
   "source": [
    "# Queries\n",
    "\n",
    "patient_census_query = f\"\"\" \n",
    "    select MONTH (censusdate ) as Month,YEAR (censusdate) as Year ,facilityid as FacilityID, count(*) as Patients_total\n",
    "    from view_ods_daily_census_v2 \n",
    "    where\n",
    "    MONTH (censusdate) between {start_month} and {end_month} and\n",
    "    YEAR (censusdate )='2020'\n",
    "    group by MONTH (censusdate ),YEAR (censusdate), facilityid\n",
    "    order by facilityid, MONTH (censusdate) \n",
    "    \"\"\"\n",
    "\n",
    "vitals_query = f\"\"\" \n",
    "    select MONTH (date) as Month, YEAR (date) as Year, facilityid as FacilityID, count(*) as Vitals_count\n",
    "    from view_ods_Patient_weights_vitals \n",
    "    where \n",
    "    YEAR (date)='2020' and\n",
    "    MONTH (date) between {start_month} and {end_month}\n",
    "    group by MONTH (date),YEAR (date),facilityid\n",
    "    order by facilityid, MONTH (date)\n",
    "    \"\"\"\n",
    "\n",
    "diagnosis_query = f\"\"\"\n",
    "    select MONTH (onsetdate) as Month, YEAR (onsetdate) as Year, facilityid as FacilityID, count(*) as Diagnosis_count\n",
    "    from view_ods_patient_diagnosis  \n",
    "    where \n",
    "    YEAR (onsetdate)='2020' and\n",
    "    MONTH (onsetdate) between {start_month} and {end_month}\n",
    "    group by MONTH (onsetdate),YEAR (onsetdate),facilityid\n",
    "    order by facilityid, MONTH (onsetdate)\n",
    "    \"\"\"\n",
    "\n",
    "progress_notes_query = f\"\"\"\n",
    "    select MONTH (createddate) as Month, YEAR (createddate) as Year, facilityid as FacilityID, count(*) as Progress_notes_count\n",
    "    from view_ods_progress_note   \n",
    "    where \n",
    "    YEAR (createddate)='2020' and\n",
    "    MONTH (createddate) between {start_month} and {end_month}\n",
    "    and progressnotetype like 'eMAR%'\n",
    "    group by MONTH (createddate),YEAR (createddate), facilityid\n",
    "    order by facilityid, MONTH (createddate)\n",
    "    \"\"\"\n",
    "\n",
    "alert_query = f\"\"\"\n",
    "select MONTH (createddate) as Month, YEAR (createddate) as Year, facilityid as FacilityID, count(*) as Alerts_count\n",
    "from view_ods_cr_alert voca\n",
    "where \n",
    "YEAR (createddate)='2020' and\n",
    "MONTH (createddate) between {start_month} and {end_month}\n",
    "group by MONTH (createddate),YEAR (createddate), facilityid\n",
    "order by facilityid, MONTH (createddate)\n",
    "\"\"\"\n",
    "\n",
    "order_query = f\"\"\"\n",
    "select MONTH (orderdate) as Month, YEAR (orderdate) as Year, facilityid as FacilityID, count(*) as Orders_count\n",
    "from view_ods_physician_order_list_v2 \n",
    "where \n",
    "YEAR (orderdate)='2020' and\n",
    "MONTH (orderdate) between {start_month} and {end_month}\n",
    "and ordercategory in ('Diagnostic', 'Enteral - Feeding', 'Dietary - Diet', 'Dietary - Supplements')\n",
    "group by MONTH (orderdate),YEAR (orderdate), facilityid\n",
    "order by facilityid, MONTH (orderdate)\n",
    "\"\"\"\n",
    "\n",
    "rehosp_query = f\"\"\"\n",
    "select MONTH (dateoftransfer) as Month, YEAR (dateoftransfer) as Year, facilityid as FacilityID, count(*) as Rehosps_count\n",
    "from view_ods_hospital_transfers_transfer_log_v2  \n",
    "where \n",
    "YEAR (dateoftransfer)='2020' and\n",
    "MONTH (dateoftransfer) between {start_month} and {end_month}\n",
    "group by MONTH (dateoftransfer),YEAR (dateoftransfer), facilityid\n",
    "order by facilityid, MONTH (dateoftransfer)\n",
    "\"\"\"\n",
    "\n"
   ]
  },
  {
   "cell_type": "code",
   "execution_count": null,
   "metadata": {},
   "outputs": [],
   "source": [
    "# Only for Avante DB direct access!!\n",
    "incidents_query = f\"\"\"\n",
    "select MONTH(IncidentDate) as Month, YEAR(IncidentDate) as Year, FacilityID as FacilityID, count(*) as Incidents_count\n",
    "FROM view_ods_inc_incident\n",
    "WHERE \n",
    "YEAR (IncidentDate)='2020'\n",
    "and MONTH (IncidentDate) between {start_month} and {end_month}\n",
    "and typeid in (151, 153)\n",
    "group by MONTH (IncidentDate),YEAR (IncidentDate), facilityid\n",
    "order by facilityid, MONTH (IncidentDate)\n",
    "\"\"\""
   ]
  },
  {
   "cell_type": "markdown",
   "metadata": {},
   "source": [
    "### Run the first cell if you are not doing incident density Analysis.  Or else, run the 2nd cell!"
   ]
  },
  {
   "cell_type": "code",
   "execution_count": null,
   "metadata": {},
   "outputs": [],
   "source": [
    "main_df = pd.DataFrame(columns=['Client', 'Month', 'Year', 'FacilityID', 'Patients_total', 'Vitals_density', 'Diagnosis_density', 'Progress_notes_density'])\n"
   ]
  },
  {
   "cell_type": "code",
   "execution_count": null,
   "metadata": {},
   "outputs": [],
   "source": [
    "main_df = pd.DataFrame(columns=['Client', 'Month', 'Year', 'FacilityID', 'Patients_total', 'Vitals_density', 'Diagnosis_density', 'Progress_notes_density', 'Incidents_density'])\n"
   ]
  },
  {
   "cell_type": "code",
   "execution_count": null,
   "metadata": {},
   "outputs": [],
   "source": [
    "\n",
    "for client in clients:\n",
    "    print(f'--------------------Processing for {client}-------------------------------')\n",
    "#     connecting with client engine\n",
    "    engine = DbEngine()\n",
    "    client_engine =  engine.get_sqldb_engine(clientdb_name=client)\n",
    "    patient_census_df = pd.read_sql(patient_census_query, con = client_engine)\n",
    "#     if censusactioncode is present as a column then removing unwanted actioncodes.\n",
    "    if 'censusactioncode' in patient_census_df.columns:\n",
    "        patient_census_df = patient_census_df[~patient_census_df['censusactioncode'].isin(not_included_censusactioncode)]\n",
    "#         reading vitals, diagnosis, progressnotes,alerts, meds, rehosps and orders.\n",
    "\n",
    "    vitals_df = pd.read_sql(vitals_query, con = client_engine)\n",
    "    diagnosis_df = pd.read_sql(diagnosis_query, con = client_engine)\n",
    "    progress_notes_df = pd.read_sql(progress_notes_query, con = client_engine)\n",
    "    alerts_df = pd.read_sql(alert_query, con = client_engine)\n",
    "    rehosps_df = pd.read_sql(rehosp_query, con = client_engine)\n",
    "    orders_df = pd.read_sql(order_query, con = client_engine)\n",
    "    incidents_df = pd.read_sql(incidents_query, con = client_engine)\n",
    "    \n",
    "#     merging all the dfs on the basis of 'Month', 'Year', 'FacilityID'.\n",
    "    client_df = reduce(lambda x,y: pd.merge(x,y, on=['Month', 'Year', 'FacilityID'], how='outer'), \n",
    "                       [patient_census_df, vitals_df, diagnosis_df, progress_notes_df, alerts_df, rehosps_df, orders_df, incidents_df])\n",
    "    client_df.insert(loc=0, column='Client', value=client)\n",
    "#     filling the nan values\n",
    "    client_df.fillna(0, inplace=True)\n",
    "    print(f'Converting data count into density.')\n",
    "#     converting patient signal measurement counts to density\n",
    "    for col in client_df.columns[5:]:\n",
    "        if 'count' in col:\n",
    "            client_df[col] = round((client_df[col]/client_df['Patients_total']),3)\n",
    "    client_df.columns = [x.replace('_count','') + '_density' if 'count' in x else x for x in client_df.columns ]\n",
    "#     appending data of all clients.\n",
    "    print(f'Appending the data into the main dataframe.')\n",
    "    main_df = main_df.append(client_df,ignore_index=True)\n",
    "    print(f'********************Processing for {client} completed********************',end='\\n')\n",
    "\n"
   ]
  },
  {
   "cell_type": "code",
   "execution_count": null,
   "metadata": {},
   "outputs": [],
   "source": [
    "# replacing inf and Nan values with 0.\n",
    "main_df.replace(np.inf, 0, inplace=True)\n",
    "main_df.fillna(0, inplace=True)\n",
    "main_df.head()"
   ]
  },
  {
   "cell_type": "code",
   "execution_count": null,
   "metadata": {},
   "outputs": [],
   "source": [
    "for client in main_df.Client.unique():\n",
    "    print(client, main_df[main_df['Client']==client]['FacilityID'].unique())"
   ]
  },
  {
   "cell_type": "markdown",
   "metadata": {},
   "source": [
    "###  Universal client and facilityid dict. Please select the appropriate client and facility for plotting graphs."
   ]
  },
  {
   "cell_type": "code",
   "execution_count": null,
   "metadata": {},
   "outputs": [],
   "source": [
    "\n",
    "# client_facility_dict = {\n",
    "#     'trio': [1, 7, 21, 42, 52, 55, 186, 194, 265, 266, 267, 272, 273, 274, 275, 276, 277, 278, 279, 280, 281, 282, 283],\n",
    "#     'dycora': [82, 107, 108, 111, 112, 114, 115, 116, 120, 121, 127, 176, 177, 302, 328, 355, 356, 357, 358, 359, 173],\n",
    "#     'gulfshore': [16],\n",
    "#     'infinity-infinity': [1,  2,  3,  4,  5,  6,  7,  8,  9, 10, 11, 12, 13, 14, 15, 16, 17, 18, 19, 20, 21, 22, 24, 25, \n",
    "#                           26, 27, 28, 29, 30, 31, 33, 34, 35, 36, 37, 38, 39, 40, 41, 42, 43, 44, 45, 46, 47, 48, 49, 50, \n",
    "#                           51, 52, 54, 55, 56, 57, 58, 59, 60, 61, 62, 63, 64, 65, 66, 68, 69, 70, 71, 72, 73, 74, 75, 76, \n",
    "#                           77, 82, 83, 84, 85, 86, 87, 88, 89, 90, 91, 92, 93, 94, 95, 96, 97, 98],\n",
    "#     'infinity-benchmark': [28, 29, 30, 32, 33, 35, 36, 37, 38, 39, 40, 41, 42, 43, 45, 46],\n",
    "#     'palmgarden': [3,  4,  5,  6,  7,  8,  9, 1,0, 11, 12, 13, 14, 15, 16, 17],\n",
    "#     'avante': [ 1, 3, 4, 5, 6, 7, 8, 9, 10, 13, 21, 22, 23, 24, 25, 27]\n",
    "    \n",
    "# }\n"
   ]
  },
  {
   "cell_type": "markdown",
   "metadata": {},
   "source": [
    "### select the correct client and its corresponding facility and the density segments for which you want to create the graph.\n"
   ]
  },
  {
   "cell_type": "code",
   "execution_count": null,
   "metadata": {},
   "outputs": [],
   "source": [
    "\n",
    "client_facility_dict= {\n",
    "    # 'trio': [1, 7],\n",
    "    # 'gulfshore':[16],\n",
    "    # 'dycora':[107],\n",
    "    'avante':[1, 3, 4, 5, 6, 7, 8, 9, 10, 13, 21]\n",
    "}\n",
    "\n",
    "density_segments = ['Vitals_density', 'Diagnosis_density','Rehosps_density', 'Incidents_density']"
   ]
  },
  {
   "cell_type": "code",
   "execution_count": null,
   "metadata": {},
   "outputs": [],
   "source": [
    "# Check if the values are present for the client and facility of not \n",
    "\n",
    "# main_df[(main_df['Client']=='trio') & (main_df['FacilityID'].isin([1,7]))]"
   ]
  },
  {
   "cell_type": "markdown",
   "metadata": {},
   "source": [
    "### graph knobs"
   ]
  },
  {
   "cell_type": "code",
   "execution_count": null,
   "metadata": {},
   "outputs": [],
   "source": [
    "# graph_dim = (20,8)\n",
    "graph_dim = (8,5)\n",
    "graph_linewidth = 4\n",
    "xlabel_fontsize = 16\n",
    "ylabel_fontsize = 16\n",
    "title_fontsize = 16\n",
    "legend_size = 15"
   ]
  },
  {
   "cell_type": "code",
   "execution_count": null,
   "metadata": {},
   "outputs": [],
   "source": [
    "\n",
    "def graph_plotter(): \n",
    "    for segment in density_segments: \n",
    "        y_list = []\n",
    "        labels = []\n",
    "        for client in  client_facility_dict.keys():\n",
    "            for facility in client_facility_dict[client]:\n",
    "                y = main_df.loc[(main_df['Client']==client) & (main_df['FacilityID']==facility), segment].tolist()\n",
    "                y_list.extend([y])\n",
    "                labels.append(client+'_'+str(facility))\n",
    "        x = [i for i in range(start_month, end_month+1)]\n",
    "        y = y_list\n",
    "        plt.figure(figsize=graph_dim)\n",
    "        plt.xlabel(\"Months\", fontsize=xlabel_fontsize)\n",
    "        plt.ylabel(f\"{segment}\", fontsize=ylabel_fontsize)\n",
    "        plt.title(f\"Monthwise {segment}\",fontsize=title_fontsize)\n",
    "        for i in range(len(y)):\n",
    "            plt.plot(x,y[i],label = labels[i], linewidth=graph_linewidth)\n",
    "        plt.legend(prop={'size': legend_size})\n",
    "        plt.show()\n",
    "        print('\\n\\n')\n",
    "\n",
    "    \n",
    "    \n",
    "graph_plotter()"
   ]
  },
  {
   "cell_type": "markdown",
   "metadata": {},
   "source": [
    "### The next cell graphs rehosps vs falls (only can be run for Avante currently)"
   ]
  },
  {
   "cell_type": "code",
   "execution_count": null,
   "metadata": {},
   "outputs": [],
   "source": [
    "\n",
    "def graph_rehosps_vs_falls(): \n",
    "    for client in  client_facility_dict.keys():\n",
    "        for facility in client_facility_dict[client]:\n",
    "            y_list = []\n",
    "            labels = []\n",
    "            y1 = main_df.loc[(main_df['Client']==client) & (main_df['FacilityID']==facility), 'Rehosps_density'].tolist()\n",
    "            y_list.extend([y1])\n",
    "            labels.append('Rehosps_density')\n",
    "            \n",
    "            y2 = main_df.loc[(main_df['Client']==client) & (main_df['FacilityID']==facility), 'Incidents_density'].tolist()\n",
    "            y_list.extend([y2])\n",
    "            labels.append('Falls_density')\n",
    "            \n",
    "            x = [i for i in range(start_month, end_month+1)]\n",
    "            y = y_list\n",
    "            plt.figure(figsize=graph_dim)\n",
    "            plt.xlabel(\"Months\", fontsize=xlabel_fontsize)\n",
    "            plt.ylabel(\"Density\", fontsize=ylabel_fontsize)\n",
    "            plt.title(f\"Monthwise for Client {client} Facility {facility}\",fontsize=title_fontsize)\n",
    "            for i in range(len(y)):\n",
    "                plt.plot(x,y[i],label = labels[i], linewidth=graph_linewidth)\n",
    "            plt.legend(prop={'size': legend_size})\n",
    "            plt.show()\n",
    "            print('\\n\\n')\n",
    " \n",
    "graph_rehosps_vs_falls()"
   ]
  },
  {
   "cell_type": "markdown",
   "metadata": {},
   "source": [
    "### Debugging queries (Don't need to run)"
   ]
  },
  {
   "cell_type": "code",
   "execution_count": null,
   "metadata": {},
   "outputs": [],
   "source": [
    "incidents_query = f\"\"\"\n",
    "select MONTH(IncidentDate) as Month, YEAR(IncidentDate) as Year, FacilityID as FacilityID, count(*) as Incidents_count\n",
    "FROM view_ods_inc_incident\n",
    "WHERE \n",
    "YEAR (IncidentDate)='2020'\n",
    "and MONTH (IncidentDate) between {start_month} and {end_month}\n",
    "and typeid in (151, 153)\n",
    "group by MONTH (IncidentDate),YEAR (IncidentDate), facilityid\n",
    "order by facilityid, MONTH (IncidentDate)\n",
    "\"\"\""
   ]
  },
  {
   "cell_type": "code",
   "execution_count": null,
   "metadata": {},
   "outputs": [],
   "source": [
    "engine = DbEngine()\n",
    "client_engine =  engine.get_sqldb_engine(clientdb_name='avante')\n",
    "incidents_df = pd.read_sql(incidents_query, con = client_engine)\n",
    "incidents_df"
   ]
  },
  {
   "cell_type": "code",
   "execution_count": null,
   "metadata": {},
   "outputs": [],
   "source": [
    "rehosp_query = f\"\"\"\n",
    "select MONTH (dateoftransfer) as Month, YEAR (dateoftransfer) as Year, facilityid as FacilityID, count(*) as Rehosps_count\n",
    "from view_ods_hospital_transfers_transfer_log_v2  \n",
    "where \n",
    "YEAR (dateoftransfer)='2020' and\n",
    "MONTH (dateoftransfer) between {start_month} and {end_month}\n",
    "group by MONTH (dateoftransfer),YEAR (dateoftransfer), facilityid\n",
    "order by facilityid, MONTH (dateoftransfer)\n",
    "\"\"\""
   ]
  },
  {
   "cell_type": "code",
   "execution_count": null,
   "metadata": {},
   "outputs": [],
   "source": [
    "engine = DbEngine()\n",
    "client_engine =  engine.get_sqldb_engine(clientdb_name='avante')\n",
    "rehosp_df = pd.read_sql(rehosp_query, con = client_engine)\n",
    "rehosp_df"
   ]
  },
  {
   "cell_type": "code",
   "execution_count": null,
   "metadata": {},
   "outputs": [],
   "source": [
    "main_df"
   ]
  },
  {
   "cell_type": "code",
   "execution_count": null,
   "metadata": {},
   "outputs": [],
   "source": []
  }
 ],
 "metadata": {
  "kernelspec": {
   "display_name": "Python 3",
   "language": "python",
   "name": "python3"
  },
  "language_info": {
   "codemirror_mode": {
    "name": "ipython",
    "version": 3
   },
   "file_extension": ".py",
   "mimetype": "text/x-python",
   "name": "python",
   "nbconvert_exporter": "python",
   "pygments_lexer": "ipython3",
   "version": "3.7.7"
  }
 },
 "nbformat": 4,
 "nbformat_minor": 4
}
