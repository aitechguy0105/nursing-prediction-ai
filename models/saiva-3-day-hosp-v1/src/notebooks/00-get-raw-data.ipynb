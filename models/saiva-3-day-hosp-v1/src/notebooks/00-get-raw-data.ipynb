{
 "cells": [
  {
   "cell_type": "markdown",
   "metadata": {},
   "source": [
    "## SET the CLIENT once in shared/constants/CLIENT before executing "
   ]
  },
  {
   "cell_type": "code",
   "execution_count": null,
   "metadata": {},
   "outputs": [],
   "source": [
    "import sys\n",
    "import pandas as pd\n",
    "sys.path.insert(0, '/src')\n",
    "from shared.load_raw_data import fetch_training_data, fetch_training_cache_data\n",
    "from shared.database import DbEngine\n",
    "from shared.utils import get_client_class\n",
    "from shared.constants import CLIENT\n",
    "from eliot import to_file\n",
    "to_file(sys.stdout)"
   ]
  },
  {
   "cell_type": "code",
   "execution_count": null,
   "metadata": {},
   "outputs": [],
   "source": [
    "import os\n",
    "\n",
    "clientClass = get_client_class(client=CLIENT)\n",
    "TRAIN_START_DATE, TRAIN_END_DATE = getattr(clientClass(), 'get_training_dates')()\n",
    "\n",
    "print(CLIENT)\n",
    "print(os.environ.get('SAIVA_ENV','dev'))\n",
    "print(TRAIN_START_DATE, TRAIN_END_DATE)"
   ]
  },
  {
   "cell_type": "markdown",
   "metadata": {},
   "source": [
    "### =============== Delete all files inside /data/processed & /data/raw =================="
   ]
  },
  {
   "cell_type": "code",
   "execution_count": null,
   "metadata": {},
   "outputs": [],
   "source": [
    "import shutil\n",
    "from pathlib import Path\n",
    "\n",
    "# processed_path = Path('/data/processed')\n",
    "# raw_path = Path('/data/raw')\n",
    "# shutil.rmtree(processed_path)\n",
    "# shutil.rmtree(raw_path)\n",
    "# print(\"Success.......\")"
   ]
  },
  {
   "cell_type": "markdown",
   "metadata": {},
   "source": [
    "### ======================== Load Database ========================"
   ]
  },
  {
   "cell_type": "code",
   "execution_count": null,
   "metadata": {},
   "outputs": [],
   "source": [
    "engine = DbEngine()\n",
    "saiva_engine = engine.get_postgresdb_engine()\n",
    "client_sql_engine = engine.get_sqldb_engine(clientdb_name=CLIENT)"
   ]
  },
  {
   "cell_type": "code",
   "execution_count": null,
   "metadata": {},
   "outputs": [],
   "source": [
    "# verify connectivity\n",
    "engine.verify_connectivity(client_sql_engine)"
   ]
  },
  {
   "cell_type": "markdown",
   "metadata": {},
   "source": [
    "### ======================== Fetch Data ============================"
   ]
  },
  {
   "cell_type": "code",
   "execution_count": null,
   "metadata": {},
   "outputs": [],
   "source": [
    "# Loads the data from SQL db and store them in local directory as cache\n",
    "\n",
    "result_dict = fetch_training_data(\n",
    "    client=CLIENT, \n",
    "    client_sql_engine=client_sql_engine, \n",
    "    train_start_date=TRAIN_START_DATE, \n",
    "    test_end_date=TRAIN_END_DATE\n",
    ")"
   ]
  },
  {
   "cell_type": "code",
   "execution_count": null,
   "metadata": {},
   "outputs": [],
   "source": [
    "print('master_patient_lookup', result_dict['master_patient_lookup'].shape)\n",
    "print('patient_census',result_dict['patient_census'].shape)\n",
    "print('patient_rehosps',result_dict['patient_rehosps'].shape)\n",
    "print('patient_demographics',result_dict['patient_demographics'].shape)\n",
    "print('patient_diagnosis',result_dict['patient_diagnosis'].shape)\n",
    "print('patient_vitals',result_dict['patient_vitals'].shape)\n",
    "print('patient_meds',result_dict['patient_meds'].shape)\n",
    "print('patient_orders',result_dict['patient_orders'].shape)\n",
    "print('patient_alerts',result_dict['patient_alerts'].shape)\n",
    "print('patient_progress_notes',result_dict['patient_progress_notes'].shape)\n",
    "if not result_dict.get('patient_lab_results', pd.DataFrame()).empty:\n",
    "    print('patient_lab_results',result_dict['patient_lab_results'].shape)\n",
    "print(result_dict.keys())\n",
    "\n",
    "# have a max of 15042 master_patient_lookup rows ie. Infinity-Infinity"
   ]
  },
  {
   "cell_type": "markdown",
   "metadata": {},
   "source": [
    "### ==================== If Multiple clients data need to be merged ===================="
   ]
  },
  {
   "cell_type": "code",
   "execution_count": null,
   "metadata": {},
   "outputs": [],
   "source": [
    "# Loads the data from SQL db for multiple clints and store them in local directory as cache\n",
    "\n",
    "# for client in ['avante','gulfshore','palmgarden']:\n",
    "#     print(f'*********************** Processing for {client} ******************************')\n",
    "#     clientClass = get_client_class(client)\n",
    "#     TRAIN_START_DATE, TRAIN_END_DATE = getattr(clientClass(), 'get_training_dates')()\n",
    "#     print(TRAIN_START_DATE, TRAIN_END_DATE)\n",
    "    \n",
    "#     engine = DbEngine()\n",
    "#     saiva_engine = engine.get_postgresdb_engine()\n",
    "#     client_sql_engine = engine.get_sqldb_engine(clientdb_name=client)\n",
    "#     engine.verify_connectivity(client_sql_engine)\n",
    "#     result_dict = fetch_training_data(client, client_sql_engine, TRAIN_START_DATE, TRAIN_END_DATE)\n",
    "    \n",
    "#     print('master_patient_lookup', result_dict['master_patient_lookup'].shape)\n",
    "#     print('patient_census',result_dict['patient_census'].shape)\n",
    "#     print('patient_rehosps',result_dict['patient_rehosps'].shape)\n",
    "#     print('patient_demographics',result_dict['patient_demographics'].shape)\n",
    "#     print('patient_diagnosis',result_dict['patient_diagnosis'].shape)\n",
    "#     print('patient_vitals',result_dict['patient_vitals'].shape)\n",
    "#     print('patient_meds',result_dict['patient_meds'].shape)\n",
    "#     print('patient_orders',result_dict['patient_orders'].shape)\n",
    "#     print('patient_alerts',result_dict['patient_alerts'].shape)\n",
    "#     print('patient_progress_notes',result_dict['patient_progress_notes'].shape)\n",
    "#     if not result_dict.get('patient_lab_results', pd.DataFrame()).empty:\n",
    "#         print('patient_lab_results',result_dict['patient_lab_results'].shape)\n",
    "#     print(result_dict.keys())"
   ]
  },
  {
   "cell_type": "markdown",
   "metadata": {},
   "source": [
    "### ======================== TESTING =========================="
   ]
  },
  {
   "cell_type": "code",
   "execution_count": null,
   "metadata": {},
   "outputs": [],
   "source": [
    "# Once fetch_training_data loads the data, use the same cache \n",
    "\n",
    "# result_dict = fetch_training_cache_data(CLIENT)\n",
    "\n",
    "# print('master_patient_lookup', result_dict['master_patient_lookup'].shape)\n",
    "# print('patient_census',result_dict['patient_census'].shape)\n",
    "# print('patient_rehosps',result_dict['patient_rehosps'].shape)\n",
    "# print('patient_demographics',result_dict['patient_demographics'].shape)\n",
    "# print('patient_diagnosis',result_dict['patient_diagnosis'].shape)\n",
    "# print('patient_vitals',result_dict['patient_vitals'].shape)\n",
    "# print('patient_meds',result_dict['patient_meds'].shape)\n",
    "# print('patient_orders',result_dict['patient_orders'].shape)\n",
    "# print('patient_alerts',result_dict['patient_alerts'].shape)\n",
    "# print('patient_progress_notes',result_dict['patient_progress_notes'].shape)\n",
    "# if not result_dict.get('patient_lab_results', pd.DataFrame()).empty:\n",
    "#     print('patient_lab_results',result_dict['patient_lab_results'].shape)\n",
    "# print(result_dict.keys())\n",
    "\n",
    "# have a max of 15042 master_patient_lookup rows ie. Infinity-Infinity"
   ]
  },
  {
   "cell_type": "code",
   "execution_count": null,
   "metadata": {},
   "outputs": [],
   "source": [
    "# TESTING specific queries\n",
    "\n",
    "# query=f\"\"\"\n",
    "#         select distinct patientid, facilityid, orderdate, gpiclass, \n",
    "#         gpisubclassdescription, orderdescription, pharmacymedicationname, a.PhysiciansOrderID\n",
    "#         from view_ods_physician_order_list_v2 a\n",
    "#         inner join view_ods_physician_order_list_med b\n",
    "#         on a.PhysiciansOrderID = b.PhysiciansOrderID \n",
    "#         where orderdate between '{train_start_date}' and '{test_end_date}';\n",
    "#         \"\"\"\n",
    "\n",
    "# df = pd.read_sql(query, con=client_sql_engine)\n",
    "# print(df.shape)\n",
    "# df.head()"
   ]
  },
  {
   "cell_type": "code",
   "execution_count": null,
   "metadata": {},
   "outputs": [],
   "source": []
  }
 ],
 "metadata": {
  "kernelspec": {
   "display_name": "Python 3",
   "language": "python",
   "name": "python3"
  },
  "language_info": {
   "codemirror_mode": {
    "name": "ipython",
    "version": 3
   },
   "file_extension": ".py",
   "mimetype": "text/x-python",
   "name": "python",
   "nbconvert_exporter": "python",
   "pygments_lexer": "ipython3",
   "version": "3.7.3"
  }
 },
 "nbformat": 4,
 "nbformat_minor": 4
}
