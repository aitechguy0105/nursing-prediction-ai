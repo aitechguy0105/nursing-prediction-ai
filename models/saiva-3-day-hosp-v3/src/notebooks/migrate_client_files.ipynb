{
 "cells": [
  {
   "cell_type": "markdown",
   "metadata": {},
   "source": [
    "## Migrate client files"
   ]
  },
  {
   "cell_type": "code",
   "execution_count": 1,
   "metadata": {},
   "outputs": [],
   "source": [
    "import inspect\n",
    "import sys\n",
    "sys.path.insert(0, '/src')\n",
    "import json\n",
    "\n",
    "import os\n",
    "from importlib import import_module\n",
    "from shared.utils import pascal_case\n",
    "import re\n",
    "path = '/src/clients'"
   ]
  },
  {
   "cell_type": "code",
   "execution_count": 2,
   "metadata": {},
   "outputs": [],
   "source": [
    "client_files = [f[:-3] for f in os.listdir(path) if f.endswith('.py') and f != '__init__.py']\n",
    "\n",
    "prediction_date = '2022-01-01'\n",
    "facilityid = '1'\n",
    "train_start_date = '2021-01-01'"
   ]
  },
  {
   "cell_type": "code",
   "execution_count": 3,
   "metadata": {},
   "outputs": [],
   "source": [
    "prediction_date = '2022-01-01'\n",
    "facilityid = '1'\n",
    "train_start_date = '2021-01-01'\n",
    "\n",
    "\n",
    "def get_training_queries(*, clientClass):\n",
    "    try:\n",
    "        queries = getattr(clientClass(), 'get_training_queries')(train_start_date, train_start_date)\n",
    "    except:\n",
    "        queries = getattr(clientClass(), 'get_training_queries')(\n",
    "            test_end_date=train_start_date, \n",
    "            train_start_date=train_start_date,\n",
    "            excluded_censusactioncodes=['D'],\n",
    "        )\n",
    "    return queries\n",
    "\n",
    "\n",
    "def get_prediction_queries(*, clientClass):\n",
    "    try:\n",
    "        queries = getattr(clientClass(), 'get_prediction_queries')(prediction_date, facilityid, train_start_date)\n",
    "    except:\n",
    "        queries = getattr(clientClass(), 'get_prediction_queries')(\n",
    "            prediction_date=prediction_date, \n",
    "            facilityid=facilityid, \n",
    "            train_start_date=train_start_date,\n",
    "            excluded_censusactioncodes=['D'],\n",
    "        )\n",
    "    return queries\n",
    "\n",
    "\n",
    "def check_unique_queries(*, data, keep_client_file):\n",
    "    unique_queries = {}\n",
    "\n",
    "    for client, queries in data.items():\n",
    "        if client in keep_client_file:\n",
    "            continue\n",
    "        for query_name, query in queries.items():\n",
    "            query = re.sub(r\"\\s+\", \"\", query)\n",
    "\n",
    "            if query_name == 'patient_census':\n",
    "                query = query.split(\"andcensusactioncodenotin(\", 1)\n",
    "                query = query[0] + query[1].split(\")\", 1)[1]\n",
    "\n",
    "            unique_query = unique_queries.get(query_name, {})\n",
    "            clients = unique_query.get(query, [])\n",
    "            clients.append(client)\n",
    "            unique_query[query] = clients\n",
    "            unique_queries[query_name] = unique_query\n",
    "\n",
    "    print(unique_queries.keys())\n",
    "\n",
    "    for query_name, query in unique_queries.items():\n",
    "        if len(query) > 1:\n",
    "            print(query_name, len(query))\n",
    "            for q, clients in query.items():\n",
    "                print(clients)\n",
    "            print('-'*100)"
   ]
  },
  {
   "cell_type": "markdown",
   "metadata": {},
   "source": [
    "### Setup client names for which we want to keep the files\n",
    "Update the list of client names in the cell below. The list should contain the names of the clients for which we want to keep the files.\n",
    "Then run the two cells bellow the list - the otput should be empty. If not, there are some differences between the queries accross clients - please check, if you can update them to be the same, or add the client name to keep_client_file list."
   ]
  },
  {
   "cell_type": "code",
   "execution_count": 4,
   "metadata": {},
   "outputs": [],
   "source": [
    "keep_client_file = ['trio', 'communicare', 'creativesolutions', 'avante', 'kopa', 'caregnc', 'heritagemanor', 'pghc', 'sunmar']"
   ]
  },
  {
   "cell_type": "code",
   "execution_count": 5,
   "metadata": {},
   "outputs": [
    {
     "name": "stdout",
     "output_type": "stream",
     "text": [
      "dict_keys(['patient_vitals', 'master_patient_lookup', 'patient_census', 'patient_rehosps', 'patient_admissions', 'patient_demographics', 'patient_diagnosis', 'patient_meds', 'patient_orders', 'patient_alerts', 'patient_progress_notes', 'patient_lab_results'])\n"
     ]
    }
   ],
   "source": [
    "# Check training queries\n",
    "\n",
    "data = {}\n",
    "\n",
    "for py in client_files:\n",
    "    if py in ['base']:\n",
    "        continue\n",
    "    try:\n",
    "        module = import_module(f'clients.{py}')\n",
    "        clientClass = getattr(module, pascal_case(py))\n",
    "        data[py] = get_training_queries(clientClass=clientClass)\n",
    "\n",
    "    except Exception as e:\n",
    "        print(py, e)\n",
    "\n",
    "check_unique_queries(data=data, keep_client_file=keep_client_file)"
   ]
  },
  {
   "cell_type": "code",
   "execution_count": 6,
   "metadata": {},
   "outputs": [
    {
     "name": "stdout",
     "output_type": "stream",
     "text": [
      "dict_keys(['patient_census', 'patient_vitals', 'patient_admissions', 'master_patient_lookup', 'patient_rehosps', 'patient_demographics', 'patient_diagnosis', 'patient_meds', 'patient_orders', 'patient_alerts', 'patient_progress_notes', 'patient_lab_results', 'patient_room_details'])\n",
      "patient_lab_results 2\n",
      "['momentum', 'brushillcc', 'pearlhc', 'peacecarestann']\n",
      "['pacificskilledhc']\n",
      "----------------------------------------------------------------------------------------------------\n"
     ]
    }
   ],
   "source": [
    "# Check prediction queries\n",
    "\n",
    "data = {}\n",
    "\n",
    "for py in client_files:\n",
    "    if py in ['base']:\n",
    "        continue\n",
    "    try:\n",
    "        module = import_module(f'clients.{py}')\n",
    "        clientClass = getattr(module, pascal_case(py))\n",
    "        data[py] = get_prediction_queries(clientClass=clientClass)\n",
    "\n",
    "    except Exception as e:\n",
    "        print(py, e)\n",
    "\n",
    "check_unique_queries(data=data, keep_client_file=keep_client_file)"
   ]
  },
  {
   "cell_type": "markdown",
   "metadata": {},
   "source": [
    "Dump missing datasets for clients"
   ]
  },
  {
   "cell_type": "code",
   "execution_count": 9,
   "metadata": {},
   "outputs": [
    {
     "name": "stdout",
     "output_type": "stream",
     "text": [
      "{\"momentum\": [], \"brushillcc\": [], \"pearlhc\": [], \"peacecarestann\": [], \"pacificskilledhc\": []}\n"
     ]
    }
   ],
   "source": [
    "data = {}\n",
    "\n",
    "query_names = [\n",
    "    'patient_census', \n",
    "    'patient_vitals', \n",
    "    'patient_admissions', \n",
    "    'master_patient_lookup', \n",
    "    'patient_rehosps', \n",
    "    'patient_demographics', \n",
    "    'patient_diagnosis', \n",
    "    'patient_meds', \n",
    "    'patient_orders', \n",
    "    'patient_alerts', \n",
    "    'patient_progress_notes', \n",
    "    'patient_lab_results', \n",
    "    'patient_room_details'\n",
    "]\n",
    "\n",
    "for py in client_files:\n",
    "    if py in ['base']:\n",
    "        continue\n",
    "    try:\n",
    "        module = import_module(f'clients.{py}')\n",
    "        clientClass = getattr(module, pascal_case(py))\n",
    "        queries = get_prediction_queries(clientClass=clientClass)\n",
    "\n",
    "        data[py] = []\n",
    "\n",
    "        for query_name in query_names:\n",
    "            query = queries.get(query_name, None)\n",
    "            if not query:\n",
    "                data[py].append(query_name)\n",
    "\n",
    "    except Exception as e:\n",
    "        print(py, e)\n",
    "\n",
    "print(json.dumps(data))"
   ]
  },
  {
   "cell_type": "markdown",
   "metadata": {},
   "source": [
    "Dump experiment dates"
   ]
  },
  {
   "cell_type": "code",
   "execution_count": 10,
   "metadata": {},
   "outputs": [
    {
     "name": "stdout",
     "output_type": "stream",
     "text": [
      "{\"momentum\": {\"train_start_date\": \"2021-09-01\", \"train_end_date\": \"2023-04-16\", \"validation_start_date\": \"2023-04-17\", \"validation_end_date\": \"2023-07-10\", \"test_start_date\": \"2023-07-11\", \"test_end_date\": \"2023-10-07\"}, \"brushillcc\": {\"train_start_date\": \"2021-09-01\", \"train_end_date\": \"2023-04-27\", \"validation_start_date\": \"2023-04-28\", \"validation_end_date\": \"2023-07-12\", \"test_start_date\": \"2023-07-13\", \"test_end_date\": \"2023-09-28\"}, \"pearlhc\": {\"train_start_date\": \"2021-09-01\", \"train_end_date\": \"2023-04-27\", \"validation_start_date\": \"2023-04-28\", \"validation_end_date\": \"2023-07-12\", \"test_start_date\": \"2023-07-13\", \"test_end_date\": \"2023-09-28\"}, \"peacecarestann\": {\"train_start_date\": \"2021-09-01\", \"train_end_date\": \"2023-04-16\", \"validation_start_date\": \"2023-04-17\", \"validation_end_date\": \"2023-07-10\", \"test_start_date\": \"2023-07-11\", \"test_end_date\": \"2023-10-07\"}, \"pacificskilledhc\": {\"train_start_date\": \"2022-01-01\", \"train_end_date\": \"2023-03-13\", \"validation_start_date\": \"2023-03-14\", \"validation_end_date\": \"2023-05-18\", \"test_start_date\": \"2023-05-19\", \"test_end_date\": \"2023-08-01\"}}\n"
     ]
    }
   ],
   "source": [
    "data = {}\n",
    "\n",
    "for py in client_files:\n",
    "    if py in ['base']:\n",
    "        continue\n",
    "    try:\n",
    "        module = import_module(f'clients.{py}')\n",
    "        clientClass = getattr(module, pascal_case(py))\n",
    "        data[py] = getattr(clientClass(), 'get_experiment_dates')()\n",
    "\n",
    "    except Exception as e:\n",
    "        print(py, e)\n",
    "\n",
    "print(json.dumps(data))"
   ]
  },
  {
   "cell_type": "markdown",
   "metadata": {},
   "source": [
    "Dump excluded censusactioncodes"
   ]
  },
  {
   "cell_type": "code",
   "execution_count": 11,
   "metadata": {},
   "outputs": [
    {
     "name": "stdout",
     "output_type": "stream",
     "text": [
      "{\"momentum\": [\"DH\", \"EXP\", \"AMA\", \"DD\", \"LOA\", \"TO\"], \"brushillcc\": [\"DE\", \"DD\", \"HBD\", \"L\", \"TO\"], \"pearlhc\": [\"DE\", \"DH\", \"RDH\", \"DAMA\", \"DD\", \"DHosp\", \"RDD\", \"ER\", \"L\", \"TO\", \"TOMBH\"], \"peacecarestann\": [\"DE\", \"DH\", \"DD\", \"RDD\", \"L\", \"TO\"], \"pacificskilledhc\": [\"DE\", \"DH\", \"DD\", \"L\", \"TO\"]}\n"
     ]
    }
   ],
   "source": [
    "data = {}\n",
    "\n",
    "for py in client_files:\n",
    "    if py in ['base']:\n",
    "        continue\n",
    "    try:\n",
    "        module = import_module(f'clients.{py}')\n",
    "        clientClass = getattr(module, pascal_case(py))\n",
    "        data[py] = getattr(clientClass(), 'get_excluded_censusactioncodes')()\n",
    "\n",
    "    except Exception as e:\n",
    "        print(py, e)\n",
    "\n",
    "print(json.dumps(data))"
   ]
  },
  {
   "cell_type": "markdown",
   "metadata": {},
   "source": [
    "Dump facilities missing datasets"
   ]
  },
  {
   "cell_type": "code",
   "execution_count": 12,
   "metadata": {},
   "outputs": [
    {
     "name": "stdout",
     "output_type": "stream",
     "text": [
      "{\"momentum\": {\"patient_lab_results\": [\"8\", \"9\", \"11\", \"14\", \"7\", \"5\", \"12\", \"6\", \"13\"]}, \"brushillcc\": {\"patient_lab_results\": [\"195\"]}, \"pacificskilledhc\": {\"patient_lab_results\": [\"124\", \"125\"]}}\n"
     ]
    }
   ],
   "source": [
    "data = {}\n",
    "\n",
    "for py in client_files:\n",
    "    if py in ['base']:\n",
    "        continue\n",
    "    try:\n",
    "        module = import_module(f'clients.{py}')\n",
    "        clientClass = getattr(module, pascal_case(py))\n",
    "\n",
    "        validate_dataset = getattr(clientClass(), 'validate_dataset')\n",
    "        lines = inspect.getsource(validate_dataset)\n",
    "\n",
    "        lines = re.sub(r\"\\s+\", \"\", lines)\n",
    "\n",
    "        data[py] = {}\n",
    "\n",
    "        if 'if(dataset_name' in lines:\n",
    "            lines = lines.split('if(dataset_name', 1)\n",
    "            lines = lines[1].split('):', 1)[0]\n",
    "\n",
    "            facilities = lines.split('facilityidin[')[1].split(']')[0].split(',')\n",
    "            \n",
    "            try:\n",
    "                datasets = [lines.split('==')[1].split(')',1)[0]]\n",
    "            except Exception as e:\n",
    "                datasets = lines.split('in[')[1].split('])',1)[0].split(',')\n",
    "\n",
    "            datasets = [d.replace(\"'\", \"\") for d in datasets]\n",
    "\n",
    "            for dataset in datasets:\n",
    "                data[py][dataset] = facilities        \n",
    "\n",
    "    except Exception as e:\n",
    "        # print(py, e)\n",
    "        pass\n",
    "\n",
    "print(json.dumps(data))"
   ]
  },
  {
   "cell_type": "code",
   "execution_count": 12,
   "metadata": {},
   "outputs": [],
   "source": [
    "# data = {}\n",
    "\n",
    "# prediction_date = '2022-01-01'\n",
    "# facilityid = '1'\n",
    "# train_start_date = '2021-01-01'\n",
    "\n",
    "# def get_experiment_dates(*, clientClass):\n",
    "#     dates = getattr(clientClass(), 'get_experiment_dates')()\n",
    "#     return dates\n",
    "\n",
    "\n",
    "# def get_missing_datasets(*, clientClass):\n",
    "#     validate_dataset = getattr(clientClass(), 'validate_dataset')\n",
    "#     lines = inspect.getsource(validate_dataset)\n",
    "\n",
    "#     lines = re.sub(r\"\\s+\", \"\", lines)\n",
    "\n",
    "#     if 'if(dataset_name' in lines:\n",
    "#         lines = lines.split('if(dataset_name', 1)\n",
    "#         lines = lines[1].split('):', 1)[0]\n",
    "\n",
    "#         facilities = lines.split('facilityidin[')[1].split(']')[0].split(',')\n",
    "        \n",
    "#         try:\n",
    "#             dataset = [lines.split('==')[1].split(')',1)[0]]\n",
    "#         except Exception as e:\n",
    "#             dataset = lines.split('in[')[1].split('])',1)[0].split(',')\n",
    "\n",
    "#         dataset = [d.replace(\"'\", \"\") for d in dataset]\n",
    "\n",
    "#         print(clientClass, dataset, facilities)\n",
    "\n",
    "\n",
    "# for py in [f[:-3] for f in os.listdir(path) if f.endswith('.py') and f != '__init__.py']:\n",
    "#     if py in ['base']:\n",
    "#         continue\n",
    "#     try:\n",
    "#         module = import_module(f'clients.{py}')\n",
    "#         clientClass = getattr(module, pascal_case(py))\n",
    "#         # data[py] = get_experiment_dates(clientClass=clientClass)\n",
    "#         # data[py] = get_prediction_queries(clientClass=clientClass)\n",
    "#         # data[py] = get_training_queries(clientClass=clientClass)\n",
    "#         data[py] = get_missing_datasets(clientClass=clientClass)\n",
    "\n",
    "#     except Exception as e:\n",
    "#         print(py, e)"
   ]
  }
 ],
 "metadata": {
  "kernelspec": {
   "display_name": "Python 3 (ipykernel)",
   "language": "python",
   "name": "python3"
  },
  "language_info": {
   "codemirror_mode": {
    "name": "ipython",
    "version": 3
   },
   "file_extension": ".py",
   "mimetype": "text/x-python",
   "name": "python",
   "nbconvert_exporter": "python",
   "pygments_lexer": "ipython3",
   "version": "3.8.16"
  }
 },
 "nbformat": 4,
 "nbformat_minor": 2
}
