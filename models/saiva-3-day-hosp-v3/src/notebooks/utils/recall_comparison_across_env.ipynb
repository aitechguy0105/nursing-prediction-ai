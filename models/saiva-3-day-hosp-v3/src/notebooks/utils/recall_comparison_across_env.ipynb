{
 "cells": [
  {
   "cell_type": "code",
   "execution_count": null,
   "metadata": {},
   "outputs": [],
   "source": [
    "import pandas as pd\n",
    "import boto3\n",
    "import json\n",
    "from sqlalchemy import create_engine\n",
    "from sqlalchemy.engine.url import URL"
   ]
  },
  {
   "cell_type": "code",
   "execution_count": null,
   "metadata": {},
   "outputs": [],
   "source": [
    "# adjust the stardate, end date , client and facilities accordingly.\n",
    "\n",
    "START_DATE = '2020-09-04'\n",
    "END_DATE = '2020-09-21'\n",
    "CLIENT = 'trio'\n",
    "FACILITY_IDS = '(1, 7, 21, 42, 52, 55, 186, 194, 265, 273, 274, 275, 276, 277, 278, 279)'\n"
   ]
  },
  {
   "cell_type": "code",
   "execution_count": null,
   "metadata": {},
   "outputs": [],
   "source": [
    "# select the model ids of prod and staging accordingly.\n",
    "\n",
    "PROD_MODEL_IDS = ('73861fd9a0a5485cb3deccf816a15c7b',\n",
    "                  '31edea3de43f4721bb925c5f146a3189',\n",
    "                  'e9f2b07d26984dcfbdaff0a86f033e36',\n",
    "                  'daac8b0f079d487d96046e9dff6efe84',\n",
    "                  'c77d3159cc044c14bf15da77eb889a17')\n",
    "\n",
    "STAGING_MODEL_IDS = ('71f1c512d7ee4c18994f5426dda67172',\n",
    "                     '270cc0c6b3d240c88ac15ecab24e6790',\n",
    "                     '49d6cc5035354a958f405db8cd7f8beb',\n",
    "                     '647740c9d0df4de8963f8cf8ce03f909')\n",
    "\n",
    "DEV_MODEL_IDS =     ('418e412613f84b308ef88c522decbcbc',\n",
    "                     '44f99f4cebf64128bd430382cf7c0a14',\n",
    "                     '5b21bc80dec24ed28ecd54f5219139c6',\n",
    "                     '754618bc685547568f7d12bf7e11c6fd',\n",
    "                     '17898acf4ba74d1698b3acac6cb29992',\n",
    "                     'b9fb5010ecc2421ab5e3e7fdf8835e0a',\n",
    "                     'd3c0d3d335ec483da652665221aabf04',\n",
    "                     'a06f7d2408324abdac6cbca9fc1b7e7d')"
   ]
  },
  {
   "cell_type": "code",
   "execution_count": null,
   "metadata": {},
   "outputs": [],
   "source": [
    "# connecting with postgres db\n",
    "\n",
    "session = boto3.session.Session()\n",
    "secrets_client = session.client( service_name='secretsmanager', region_name='us-east-1')\n",
    "\n",
    "def get_secrets(secret_name):\n",
    "    \"\"\"\n",
    "    :return: Based on the environment get secrets for\n",
    "    Client SQL db & Postgres Saivadb\n",
    "    \"\"\"\n",
    "    db_info = json.loads(\n",
    "        secrets_client.get_secret_value(SecretId=secret_name)[\n",
    "            'SecretString'\n",
    "        ]\n",
    "    )\n",
    "    return db_info\n",
    "\n",
    "\n",
    "def get_postgresdb_engine(env):\n",
    "    \"\"\"\n",
    "    Based on the environment connects to the respective database\n",
    "    :param client: client name\n",
    "    :return: Saivadb Postgres engine\n",
    "    \"\"\"\n",
    "    # Fetch credentials from AWS Secrets Manager\n",
    "    postgresdb_info = get_secrets(secret_name=f'{env}-saivadb')\n",
    "    # Create DB URL\n",
    "    saivadb_url = URL(\n",
    "        drivername='postgresql',\n",
    "        username=postgresdb_info['username'],\n",
    "        password=postgresdb_info['password'],\n",
    "        host=postgresdb_info['host'],\n",
    "        port=postgresdb_info['port'],\n",
    "        database=postgresdb_info['dbname'],\n",
    "    )\n",
    "    global MODEL_IDS\n",
    "    if env == 'prod':\n",
    "        MODEL_IDS = PROD_MODEL_IDS\n",
    "    elif env == 'staging':\n",
    "        MODEL_IDS = STAGING_MODEL_IDS\n",
    "    elif env == 'dev':\n",
    "        MODEL_IDS = DEV_MODEL_IDS\n",
    "        \n",
    "    return create_engine(saivadb_url, echo=False)\n"
   ]
  },
  {
   "cell_type": "code",
   "execution_count": null,
   "metadata": {},
   "outputs": [],
   "source": [
    "def get_query():\n",
    "    query = f\"\"\"\n",
    "    select fp.client,\n",
    "    fp.facilityid,\n",
    "    fp.patientid,\n",
    "    fp.masterpatientid,\n",
    "    fp.patientmrn,\n",
    "    ht.dateoftransfer,\n",
    "    dp.modelid,\n",
    "    min(experiment_group_rank) as best_exp_rank,\n",
    "    CASE\n",
    "        WHEN min(experiment_group_rank) <= 15\n",
    "            THEN 1\n",
    "            ELSE 0\n",
    "    END   as rank_less_than_equal_15,\n",
    "    ht.planned,\n",
    "    ht.transferreason,\n",
    "    ht.otherreasonfortransfer,\n",
    "    ht.outcome,\n",
    "    ht.transferredto,\n",
    "    ht.lengthofstay\n",
    "    from hospital_transfers ht\n",
    "    left join public.facility_patient fp\n",
    "    on ht.client = fp.client\n",
    "    and ht.facilityid = fp.facilityid\n",
    "    and ht.patientid = fp.patientid\n",
    "    left join daily_predictions dp\n",
    "    on ht.client = dp.client\n",
    "         and ht.facilityid = dp.facilityid\n",
    "         and (date(ht.dateoftransfer) - date(dp.censusdate)) <= 3\n",
    "         and dp.modelid in {MODEL_IDS}\n",
    "         and date(dp.censusdate) <= date(ht.dateoftransfer)\n",
    "         and fp.masterpatientid = dp.masterpatientid\n",
    "    where ht.client = '{CLIENT}'\n",
    "    and ht.facilityid in {FACILITY_IDS}\n",
    "    and ht.dateoftransfer >= '{START_DATE}'\n",
    "    and ht.dateoftransfer <= '{END_DATE}'\n",
    "    group by fp.client, fp.facilityid, fp.patientid, fp.masterpatientid, fp.patientmrn,\n",
    "           ht.dateoftransfer, dp.modelid,\n",
    "           ht.planned, ht.transferreason, ht.otherreasonfortransfer,\n",
    "           ht.outcome, ht.transferredto, ht.lengthofstay\n",
    "    \"\"\"\n",
    "    return query"
   ]
  },
  {
   "cell_type": "code",
   "execution_count": null,
   "metadata": {},
   "outputs": [],
   "source": [
    "def prod_output():\n",
    "    saiva_engine = get_postgresdb_engine('prod')\n",
    "    prod_query = get_query()\n",
    "    return pd.read_sql(prod_query, saiva_engine)\n",
    "prod =  prod_output()\n",
    "prod.head()"
   ]
  },
  {
   "cell_type": "code",
   "execution_count": null,
   "metadata": {},
   "outputs": [],
   "source": [
    "def staging_output():\n",
    "    saiva_engine = get_postgresdb_engine('staging')\n",
    "    staging_query = get_query()\n",
    "    return pd.read_sql(staging_query, saiva_engine)\n",
    "staging =  staging_output()\n",
    "staging.head()"
   ]
  },
  {
   "cell_type": "code",
   "execution_count": null,
   "metadata": {},
   "outputs": [],
   "source": [
    "def dev_output():\n",
    "    saiva_engine = get_postgresdb_engine('dev')\n",
    "    dev_query = get_query()\n",
    "    return pd.read_sql(dev_query, saiva_engine)\n",
    "dev =  dev_output()\n",
    "dev.head()"
   ]
  },
  {
   "cell_type": "code",
   "execution_count": null,
   "metadata": {},
   "outputs": [],
   "source": [
    "len(dev)"
   ]
  },
  {
   "cell_type": "code",
   "execution_count": null,
   "metadata": {},
   "outputs": [],
   "source": [
    "len(prod)"
   ]
  },
  {
   "cell_type": "code",
   "execution_count": null,
   "metadata": {},
   "outputs": [],
   "source": [
    "assert(len(dev) == len(prod))"
   ]
  },
  {
   "cell_type": "code",
   "execution_count": null,
   "metadata": {},
   "outputs": [],
   "source": [
    "# this function computes statistics on the recall\n",
    "\n",
    "def result_generate(df, env):\n",
    "    # find total transfers\n",
    "    total_transfers_df = df.groupby(['facilityid']).size().reset_index(name=f'{env}_total_transfers').sort_values(['facilityid'])\n",
    "    \n",
    "    # find stats on how many we \"captured\" i.e. less_than_equal_15 == 1 \n",
    "    captured_df = df[df.rank_less_than_equal_15==1].groupby('facilityid').agg({'best_exp_rank':['count','mean','median','std']}).sort_values(['facilityid'])\n",
    "    \n",
    "    # rename level 1 columns\n",
    "    d = dict(zip(captured_df.columns.levels[1], ['count', 'mean_rank', 'median_rank', 'std_rank']))\n",
    "    captured_df = captured_df.rename(columns=d, level=1)\n",
    "    \n",
    "    # rename level 0 columns\n",
    "    d = dict(zip(captured_df.columns.levels[0], ['captured']))\n",
    "    captured_df = captured_df.rename(columns=d, level=0)\n",
    "       \n",
    "    # join the multi-index column names\n",
    "    # captured_df.columns = [f'_{env}_'.join(col).strip() for col in captured_df.columns.values]\n",
    "    # captured_df = captured_df.reset_index()\n",
    "    \n",
    "    # rename the multi-index columns\n",
    "    temp_col_names = ['_'.join(col).strip() for col in captured_df.columns.values]\n",
    "    new_col_names = [f'{env}_' + name for name in temp_col_names]\n",
    "    captured_df.columns = new_col_names\n",
    "    captured_df = captured_df.reset_index()\n",
    "    \n",
    "    # join the two df by facilityid\n",
    "    merged_df = pd.merge(total_transfers_df, captured_df, how='inner', on='facilityid')\n",
    "    \n",
    "    merged_df[f'{env}_recall'] = round(merged_df[f'{env}_captured_count']/merged_df[f'{env}_total_transfers'],2)\n",
    "    merged_df[f'{env}_captured_mean_rank'] = round(merged_df[f'{env}_captured_mean_rank'], 2)\n",
    "    merged_df[f'{env}_captured_std_rank'] = round(merged_df[f'{env}_captured_std_rank'], 2)\n",
    "    return merged_df"
   ]
  },
  {
   "cell_type": "code",
   "execution_count": null,
   "metadata": {},
   "outputs": [],
   "source": [
    "prod_results = result_generate(prod,'prod') \n",
    "prod_results"
   ]
  },
  {
   "cell_type": "code",
   "execution_count": null,
   "metadata": {},
   "outputs": [],
   "source": [
    "dev_results = result_generate(dev,'dev')\n",
    "dev_results"
   ]
  },
  {
   "cell_type": "code",
   "execution_count": null,
   "metadata": {},
   "outputs": [],
   "source": [
    "merged_results = pd.merge(prod_results, dev_results, how='inner', on='facilityid')\n",
    "merged_results['is_dev_better_or_equal'] = merged_results.apply(lambda x: x['dev_recall'] >= x['prod_recall'], axis=1)\n",
    "merged_subset = merged_results[['facilityid', 'prod_total_transfers', 'dev_total_transfers', 'prod_recall', 'dev_recall', 'is_dev_better_or_equal']]\n",
    "merged_subset"
   ]
  },
  {
   "cell_type": "code",
   "execution_count": null,
   "metadata": {},
   "outputs": [],
   "source": [
    "merged_subset.style.apply(lambda x: ['background: lightgreen' if x.is_dev_better_or_equal \n",
    "                              else '' for i in x], \n",
    "                   axis=1)"
   ]
  },
  {
   "cell_type": "code",
   "execution_count": null,
   "metadata": {},
   "outputs": [],
   "source": []
  }
 ],
 "metadata": {
  "kernelspec": {
   "display_name": "Python 3",
   "language": "python",
   "name": "python3"
  },
  "language_info": {
   "codemirror_mode": {
    "name": "ipython",
    "version": 3
   },
   "file_extension": ".py",
   "mimetype": "text/x-python",
   "name": "python",
   "nbconvert_exporter": "python",
   "pygments_lexer": "ipython3",
   "version": "3.7.7"
  }
 },
 "nbformat": 4,
 "nbformat_minor": 4
}
