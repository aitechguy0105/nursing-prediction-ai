{
 "cells": [
  {
   "cell_type": "markdown",
   "metadata": {},
   "source": [
    "## Migrate client files"
   ]
  },
  {
   "cell_type": "code",
   "execution_count": 1,
   "metadata": {},
   "outputs": [],
   "source": [
    "import inspect\n",
    "import sys\n",
    "sys.path.insert(0, '/src')\n",
    "import json\n",
    "\n",
    "import os\n",
    "from importlib import import_module\n",
    "from saiva.model.shared.utils import pascal_case\n",
    "import re\n",
    "path = '/src/saiva/model/clients'"
   ]
  },
  {
   "cell_type": "code",
   "execution_count": 2,
   "metadata": {},
   "outputs": [],
   "source": [
    "client_files = [f[:-3] for f in os.listdir(path) if f.endswith('.py') and f != '__init__.py']\n",
    "\n",
    "prediction_date = '2022-01-01'\n",
    "facilityid = '1'\n",
    "train_start_date = '2021-01-01'"
   ]
  },
  {
   "cell_type": "code",
   "execution_count": 3,
   "metadata": {},
   "outputs": [
    {
     "name": "stdout",
     "output_type": "stream",
     "text": [
      "['sarrentov6', 'genhcv6', 'crn', 'carespringv6', 'venvisorv6', 'arcc', 'caldera', 'dkg', 'mhco', 'centeronaging', 'banecaremgmtv6', 'carespringv6falls', 'pghcv6alf', 'avante', 'base_matrixcare', 'base_sigmacare', 'epic_hcm', 'woodruff', 'mgmkarefirstv6', 'base', 'arccv6', 'avantev6falls', 'madp', '_template', 'banecaremgmtv6wounds']\n"
     ]
    }
   ],
   "source": [
    "print(client_files)"
   ]
  },
  {
   "cell_type": "code",
   "execution_count": 4,
   "metadata": {},
   "outputs": [],
   "source": [
    "prediction_date = '2022-01-01'\n",
    "facilityid = '1'\n",
    "train_start_date = '2021-01-01'\n",
    "\n",
    "\n",
    "def get_training_queries(*, clientClass):\n",
    "    try:\n",
    "        queries = getattr(clientClass(), 'get_training_queries')(train_start_date, train_start_date)\n",
    "    except:\n",
    "        queries = getattr(clientClass(), 'get_training_queries')(\n",
    "            test_end_date=train_start_date, \n",
    "            train_start_date=train_start_date,\n",
    "        )\n",
    "    return queries\n",
    "\n",
    "\n",
    "def get_prediction_queries(*, clientClass):\n",
    "    try:\n",
    "        queries = getattr(clientClass(), 'get_prediction_queries')(prediction_date, facilityid, train_start_date)\n",
    "    except:\n",
    "        queries = getattr(clientClass(), 'get_prediction_queries')(\n",
    "            prediction_date=prediction_date, \n",
    "            facilityid=facilityid, \n",
    "            train_start_date=train_start_date,\n",
    "        )\n",
    "    return queries\n",
    "\n",
    "\n",
    "def check_unique_queries(*, data, keep_client_file):\n",
    "    unique_queries = {}\n",
    "\n",
    "    for client, queries in data.items():\n",
    "        if client in keep_client_file:\n",
    "            continue\n",
    "        for query_name, query in queries.items():\n",
    "            query = re.sub(r\"\\s+\", \"\", query)\n",
    "\n",
    "#             if query_name == 'patient_census':\n",
    "#                 query = query.split(\"andcensusactioncodenotin(\", 1)\n",
    "#                 query = query[0] + query[1].split(\")\", 1)[1]\n",
    "\n",
    "            unique_query = unique_queries.get(query_name, {})\n",
    "            clients = unique_query.get(query, [])\n",
    "            clients.append(client)\n",
    "            unique_query[query] = clients\n",
    "            unique_queries[query_name] = unique_query\n",
    "\n",
    "    print(unique_queries.keys())\n",
    "\n",
    "    for query_name, query in unique_queries.items():\n",
    "        if len(query) > 1:\n",
    "            print(query_name, len(query))\n",
    "            for q, clients in query.items():\n",
    "                print(clients)\n",
    "            print('-'*100)"
   ]
  },
  {
   "cell_type": "markdown",
   "metadata": {},
   "source": [
    "### Setup client names for which we want to keep the files\n",
    "Update the list of client names in the cell below. The list should contain the names of the clients for which we want to keep the files.\n",
    "Then run the two cells bellow the list - the otput should be empty. If not, there are some differences between the queries accross clients - please check, if you can update them to be the same, or add the client name to keep_client_file list."
   ]
  },
  {
   "cell_type": "code",
   "execution_count": 5,
   "metadata": {},
   "outputs": [],
   "source": [
    "keep_client_file = ['pghcv6alf']"
   ]
  },
  {
   "cell_type": "code",
   "execution_count": 6,
   "metadata": {},
   "outputs": [
    {
     "name": "stdout",
     "output_type": "stream",
     "text": [
      "base_matrixcare module 'saiva.model.clients.base_matrixcare' has no attribute 'BaseMatrixcare'\n",
      "base_sigmacare module 'saiva.model.clients.base_sigmacare' has no attribute 'BaseSigmacare'\n",
      "dict_keys(['master_patient_lookup', 'patient_census', 'patient_rehosps', 'patient_admissions', 'patient_demographics', 'patient_diagnosis', 'patient_vitals', 'patient_meds', 'patient_orders', 'patient_alerts', 'patient_lab_results', 'patient_progress_notes', 'patient_immunizations', 'patient_risks', 'patient_assessments', 'patient_adt'])\n",
      "master_patient_lookup 2\n",
      "['sarrentov6', 'genhcv6', 'carespringv6', 'venvisorv6', 'arcc', 'caldera', 'dkg', 'mhco', 'centeronaging', 'banecaremgmtv6', 'carespringv6falls', 'avante', 'mgmkarefirstv6', 'arccv6', 'avantev6falls', 'madp', '_template', 'banecaremgmtv6wounds']\n",
      "['crn', 'epic_hcm', 'woodruff']\n",
      "----------------------------------------------------------------------------------------------------\n",
      "patient_census 2\n",
      "['sarrentov6', 'genhcv6', 'carespringv6', 'venvisorv6', 'arcc', 'caldera', 'dkg', 'mhco', 'centeronaging', 'banecaremgmtv6', 'carespringv6falls', 'avante', 'mgmkarefirstv6', 'arccv6', 'avantev6falls', 'madp', '_template', 'banecaremgmtv6wounds']\n",
      "['crn', 'epic_hcm', 'woodruff']\n",
      "----------------------------------------------------------------------------------------------------\n",
      "patient_rehosps 2\n",
      "['sarrentov6', 'genhcv6', 'carespringv6', 'venvisorv6', 'arcc', 'caldera', 'dkg', 'mhco', 'centeronaging', 'banecaremgmtv6', 'carespringv6falls', 'avante', 'mgmkarefirstv6', 'arccv6', 'avantev6falls', 'madp', '_template', 'banecaremgmtv6wounds']\n",
      "['crn', 'epic_hcm', 'woodruff']\n",
      "----------------------------------------------------------------------------------------------------\n",
      "patient_admissions 2\n",
      "['sarrentov6', 'genhcv6', 'carespringv6', 'venvisorv6', 'arcc', 'caldera', 'dkg', 'mhco', 'centeronaging', 'banecaremgmtv6', 'carespringv6falls', 'avante', 'mgmkarefirstv6', 'arccv6', 'avantev6falls', 'madp', '_template', 'banecaremgmtv6wounds']\n",
      "['crn', 'epic_hcm', 'woodruff']\n",
      "----------------------------------------------------------------------------------------------------\n",
      "patient_demographics 2\n",
      "['sarrentov6', 'genhcv6', 'carespringv6', 'venvisorv6', 'arcc', 'caldera', 'dkg', 'mhco', 'centeronaging', 'banecaremgmtv6', 'carespringv6falls', 'avante', 'mgmkarefirstv6', 'arccv6', 'avantev6falls', 'madp', '_template', 'banecaremgmtv6wounds']\n",
      "['crn', 'epic_hcm', 'woodruff']\n",
      "----------------------------------------------------------------------------------------------------\n",
      "patient_diagnosis 2\n",
      "['sarrentov6', 'genhcv6', 'carespringv6', 'venvisorv6', 'arcc', 'caldera', 'dkg', 'mhco', 'centeronaging', 'banecaremgmtv6', 'carespringv6falls', 'avante', 'mgmkarefirstv6', 'arccv6', 'avantev6falls', 'madp', '_template', 'banecaremgmtv6wounds']\n",
      "['crn', 'epic_hcm', 'woodruff']\n",
      "----------------------------------------------------------------------------------------------------\n",
      "patient_vitals 2\n",
      "['sarrentov6', 'genhcv6', 'carespringv6', 'venvisorv6', 'arcc', 'caldera', 'dkg', 'mhco', 'centeronaging', 'banecaremgmtv6', 'carespringv6falls', 'avante', 'mgmkarefirstv6', 'arccv6', 'avantev6falls', 'madp', '_template', 'banecaremgmtv6wounds']\n",
      "['crn', 'epic_hcm', 'woodruff']\n",
      "----------------------------------------------------------------------------------------------------\n",
      "patient_progress_notes 2\n",
      "['sarrentov6', 'genhcv6', 'carespringv6', 'venvisorv6', 'arcc', 'caldera', 'dkg', 'mhco', 'centeronaging', 'banecaremgmtv6', 'carespringv6falls', 'avante', 'mgmkarefirstv6', 'arccv6', 'avantev6falls', 'madp', '_template', 'banecaremgmtv6wounds']\n",
      "['crn', 'epic_hcm', 'woodruff']\n",
      "----------------------------------------------------------------------------------------------------\n",
      "patient_adt 2\n",
      "['sarrentov6', 'genhcv6', 'carespringv6', 'venvisorv6', 'arcc', 'caldera', 'dkg', 'mhco', 'centeronaging', 'banecaremgmtv6', 'carespringv6falls', 'avante', 'mgmkarefirstv6', 'arccv6', 'avantev6falls', 'madp', '_template', 'banecaremgmtv6wounds']\n",
      "['crn', 'epic_hcm', 'woodruff']\n",
      "----------------------------------------------------------------------------------------------------\n"
     ]
    }
   ],
   "source": [
    "# Check training queries\n",
    "\n",
    "data = {}\n",
    "\n",
    "for py in client_files:\n",
    "    if py in ['base']:\n",
    "        continue\n",
    "    try:\n",
    "        module = import_module(f'saiva.model.clients.{py}')\n",
    "        clientClass = getattr(module, pascal_case(py))\n",
    "        data[py] = get_training_queries(clientClass=clientClass)\n",
    "\n",
    "    except Exception as e:\n",
    "        print(py, e)\n",
    "\n",
    "check_unique_queries(data=data, keep_client_file=keep_client_file)"
   ]
  },
  {
   "cell_type": "code",
   "execution_count": 7,
   "metadata": {},
   "outputs": [
    {
     "name": "stdout",
     "output_type": "stream",
     "text": [
      "base_matrixcare module 'saiva.model.clients.base_matrixcare' has no attribute 'BaseMatrixcare'\n",
      "base_sigmacare module 'saiva.model.clients.base_sigmacare' has no attribute 'BaseSigmacare'\n",
      "_template cannot import name 'BaseClient' from 'saiva.model.clients.base' (/src/saiva/model/clients/base.py)\n",
      "dict_keys(['master_patient_lookup', 'patient_vitals', 'patient_admissions', 'patient_census', 'patient_rehosps', 'patient_demographics', 'patient_diagnosis', 'patient_meds', 'patient_orders', 'patient_alerts', 'patient_lab_results', 'patient_progress_notes', 'patient_room_details', 'patient_immunizations', 'patient_risks', 'patient_assessments', 'patient_adt'])\n",
      "master_patient_lookup 2\n",
      "['sarrentov6', 'genhcv6', 'carespringv6', 'venvisorv6', 'arcc', 'caldera', 'dkg', 'mhco', 'centeronaging', 'banecaremgmtv6', 'carespringv6falls', 'avante', 'mgmkarefirstv6', 'arccv6', 'avantev6falls', 'madp', 'banecaremgmtv6wounds']\n",
      "['crn', 'epic_hcm', 'woodruff']\n",
      "----------------------------------------------------------------------------------------------------\n",
      "patient_vitals 2\n",
      "['sarrentov6', 'genhcv6', 'carespringv6', 'venvisorv6', 'arcc', 'caldera', 'dkg', 'mhco', 'centeronaging', 'banecaremgmtv6', 'carespringv6falls', 'avante', 'mgmkarefirstv6', 'arccv6', 'avantev6falls', 'madp', 'banecaremgmtv6wounds']\n",
      "['crn', 'epic_hcm', 'woodruff']\n",
      "----------------------------------------------------------------------------------------------------\n",
      "patient_admissions 3\n",
      "['sarrentov6', 'genhcv6', 'carespringv6', 'venvisorv6', 'arcc', 'caldera', 'dkg', 'mhco', 'centeronaging', 'banecaremgmtv6', 'carespringv6falls', 'avante', 'mgmkarefirstv6', 'arccv6', 'avantev6falls', 'madp', 'banecaremgmtv6wounds']\n",
      "['crn', 'epic_hcm']\n",
      "['woodruff']\n",
      "----------------------------------------------------------------------------------------------------\n",
      "patient_census 3\n",
      "['sarrentov6', 'genhcv6', 'carespringv6', 'venvisorv6', 'arcc', 'caldera', 'dkg', 'mhco', 'centeronaging', 'banecaremgmtv6', 'carespringv6falls', 'avante', 'mgmkarefirstv6', 'arccv6', 'avantev6falls', 'madp', 'banecaremgmtv6wounds']\n",
      "['crn', 'epic_hcm']\n",
      "['woodruff']\n",
      "----------------------------------------------------------------------------------------------------\n",
      "patient_rehosps 2\n",
      "['sarrentov6', 'genhcv6', 'carespringv6', 'venvisorv6', 'arcc', 'caldera', 'dkg', 'mhco', 'centeronaging', 'banecaremgmtv6', 'carespringv6falls', 'avante', 'mgmkarefirstv6', 'arccv6', 'avantev6falls', 'madp', 'banecaremgmtv6wounds']\n",
      "['crn', 'epic_hcm', 'woodruff']\n",
      "----------------------------------------------------------------------------------------------------\n",
      "patient_demographics 2\n",
      "['sarrentov6', 'genhcv6', 'carespringv6', 'venvisorv6', 'arcc', 'caldera', 'dkg', 'mhco', 'centeronaging', 'banecaremgmtv6', 'carespringv6falls', 'avante', 'mgmkarefirstv6', 'arccv6', 'avantev6falls', 'madp', 'banecaremgmtv6wounds']\n",
      "['crn', 'epic_hcm', 'woodruff']\n",
      "----------------------------------------------------------------------------------------------------\n",
      "patient_diagnosis 2\n",
      "['sarrentov6', 'genhcv6', 'carespringv6', 'venvisorv6', 'arcc', 'caldera', 'dkg', 'mhco', 'centeronaging', 'banecaremgmtv6', 'carespringv6falls', 'avante', 'mgmkarefirstv6', 'arccv6', 'avantev6falls', 'madp', 'banecaremgmtv6wounds']\n",
      "['crn', 'epic_hcm', 'woodruff']\n",
      "----------------------------------------------------------------------------------------------------\n",
      "patient_progress_notes 2\n",
      "['sarrentov6', 'genhcv6', 'carespringv6', 'venvisorv6', 'arcc', 'caldera', 'dkg', 'mhco', 'centeronaging', 'banecaremgmtv6', 'carespringv6falls', 'avante', 'mgmkarefirstv6', 'arccv6', 'avantev6falls', 'madp', 'banecaremgmtv6wounds']\n",
      "['crn', 'epic_hcm', 'woodruff']\n",
      "----------------------------------------------------------------------------------------------------\n",
      "patient_room_details 2\n",
      "['sarrentov6', 'genhcv6', 'carespringv6', 'venvisorv6', 'arcc', 'caldera', 'dkg', 'mhco', 'centeronaging', 'banecaremgmtv6', 'carespringv6falls', 'avante', 'mgmkarefirstv6', 'arccv6', 'avantev6falls', 'madp', 'banecaremgmtv6wounds']\n",
      "['crn', 'epic_hcm', 'woodruff']\n",
      "----------------------------------------------------------------------------------------------------\n",
      "patient_adt 2\n",
      "['sarrentov6', 'genhcv6', 'carespringv6', 'venvisorv6', 'arcc', 'caldera', 'dkg', 'mhco', 'centeronaging', 'banecaremgmtv6', 'carespringv6falls', 'avante', 'mgmkarefirstv6', 'arccv6', 'avantev6falls', 'madp', 'banecaremgmtv6wounds']\n",
      "['crn', 'epic_hcm', 'woodruff']\n",
      "----------------------------------------------------------------------------------------------------\n"
     ]
    }
   ],
   "source": [
    "# Check prediction queries\n",
    "\n",
    "data = {}\n",
    "\n",
    "for py in client_files:\n",
    "    if py in ['base']:\n",
    "        continue\n",
    "    try:\n",
    "        module = import_module(f'saiva.model.clients.{py}')\n",
    "        clientClass = getattr(module, pascal_case(py))\n",
    "        data[py] = get_prediction_queries(clientClass=clientClass)\n",
    "\n",
    "    except Exception as e:\n",
    "        print(py, e)\n",
    "\n",
    "check_unique_queries(data=data, keep_client_file=keep_client_file)"
   ]
  },
  {
   "cell_type": "markdown",
   "metadata": {},
   "source": [
    "Dump missing datasets for clients"
   ]
  },
  {
   "cell_type": "code",
   "execution_count": 7,
   "metadata": {},
   "outputs": [
    {
     "name": "stdout",
     "output_type": "stream",
     "text": [
      "base_matrixcare module 'saiva.model.clients.base_matrixcare' has no attribute 'BaseMatrixcare'\n",
      "base_sigmacare module 'saiva.model.clients.base_sigmacare' has no attribute 'BaseSigmacare'\n",
      "{\"sarrentov6\": [], \"genhcv6\": [], \"crn\": [\"patient_meds\", \"patient_orders\", \"patient_alerts\", \"patient_lab_results\"], \"carespringv6\": [], \"venvisorv6\": [], \"arcc\": [], \"caldera\": [], \"dkg\": [], \"mhco\": [], \"centeronaging\": [], \"banecaremgmtv6\": [], \"carespringv6falls\": [], \"pghcv6alf\": [], \"avante\": [], \"epic_hcm\": [\"patient_meds\", \"patient_orders\", \"patient_alerts\", \"patient_lab_results\"], \"woodruff\": [\"patient_meds\", \"patient_orders\", \"patient_alerts\", \"patient_lab_results\"], \"mgmkarefirstv6\": [], \"arccv6\": [], \"avantev6falls\": [], \"madp\": [], \"_template\": [], \"banecaremgmtv6wounds\": []}\n",
      "{'patient_alerts', 'patient_meds', 'patient_orders', 'patient_lab_results'}\n"
     ]
    }
   ],
   "source": [
    "data = {}\n",
    "\n",
    "query_names = [\n",
    "    'patient_census', \n",
    "    'patient_vitals', \n",
    "    'patient_admissions', \n",
    "    'master_patient_lookup', \n",
    "    'patient_rehosps', \n",
    "    'patient_demographics', \n",
    "    'patient_diagnosis', \n",
    "    'patient_meds', \n",
    "    'patient_orders', \n",
    "    'patient_alerts', \n",
    "    'patient_progress_notes', \n",
    "    'patient_lab_results', \n",
    "    'patient_room_details'\n",
    "]\n",
    "\n",
    "_queries = set()\n",
    "\n",
    "for py in client_files:\n",
    "    if py in ['base']:\n",
    "        continue\n",
    "    try:\n",
    "        module = import_module(f'saiva.model.clients.{py}')\n",
    "        clientClass = getattr(module, pascal_case(py))\n",
    "        queries = get_prediction_queries(clientClass=clientClass)\n",
    "\n",
    "        data[py] = []\n",
    "\n",
    "        for query_name in query_names:\n",
    "            query = queries.get(query_name, None)\n",
    "            if not query:\n",
    "                data[py].append(query_name)\n",
    "                _queries.add(query_name)\n",
    "\n",
    "    except Exception as e:\n",
    "        print(py, e)\n",
    "\n",
    "print(json.dumps(data))\n",
    "\n",
    "print(_queries)"
   ]
  },
  {
   "cell_type": "markdown",
   "metadata": {},
   "source": [
    "Dump experiment dates"
   ]
  },
  {
   "cell_type": "code",
   "execution_count": 8,
   "metadata": {},
   "outputs": [
    {
     "name": "stdout",
     "output_type": "stream",
     "text": [
      "base_matrixcare module 'saiva.model.clients.base_matrixcare' has no attribute 'BaseMatrixcare'\n",
      "base_sigmacare module 'saiva.model.clients.base_sigmacare' has no attribute 'BaseSigmacare'\n",
      "{\"sarrentov6\": {\"train_start_date\": \"2018-01-01\", \"train_end_date\": \"2022-11-07\", \"validation_start_date\": \"2022-11-08\", \"validation_end_date\": \"2023-04-20\", \"test_start_date\": \"2023-04-21\", \"test_end_date\": \"2023-10-09\"}, \"genhcv6\": {\"train_start_date\": \"2022-01-17\", \"train_end_date\": \"2023-05-04\", \"validation_start_date\": \"2023-05-05\", \"validation_end_date\": \"2023-07-23\", \"test_start_date\": \"2023-07-24\", \"test_end_date\": \"2023-10-09\"}, \"crn\": {\"train_start_date\": \"2021-01-01\", \"train_end_date\": \"2022-08-26\", \"validation_start_date\": \"2022-08-27\", \"validation_end_date\": \"2022-12-22\", \"test_start_date\": \"2022-12-23\", \"test_end_date\": \"2023-04-16\"}, \"carespringv6\": {\"train_start_date\": \"2021-05-03\", \"train_end_date\": \"2023-03-08\", \"validation_start_date\": \"2023-03-09\", \"validation_end_date\": \"2023-06-22\", \"test_start_date\": \"2023-06-23\", \"test_end_date\": \"2023-10-06\"}, \"venvisorv6\": {\"train_start_date\": \"2022-02-10\", \"train_end_date\": \"2023-04-26\", \"validation_start_date\": \"2023-04-27\", \"validation_end_date\": \"2023-07-07\", \"test_start_date\": \"2023-07-08\", \"test_end_date\": \"2023-09-15\"}, \"arcc\": {\"train_start_date\": \"2022-07-01\", \"train_end_date\": \"2022-10-31\", \"validation_start_date\": \"2022-11-01\", \"validation_end_date\": \"2022-11-30\", \"test_start_date\": \"2022-12-01\", \"test_end_date\": \"2022-12-31\"}, \"caldera\": {\"train_start_date\": \"2020-07-01\", \"train_end_date\": \"2022-05-14\", \"validation_start_date\": \"2022-05-15\", \"validation_end_date\": \"2022-09-08\", \"test_start_date\": \"2022-09-09\", \"test_end_date\": \"2022-12-31\"}, \"dkg\": {\"train_start_date\": \"2021-01-01\", \"train_end_date\": \"2022-08-26\", \"validation_start_date\": \"2022-08-27\", \"validation_end_date\": \"2022-12-22\", \"test_start_date\": \"2022-12-23\", \"test_end_date\": \"2023-04-16\"}, \"mhco\": {\"train_start_date\": \"2021-01-01\", \"train_end_date\": \"2022-08-10\", \"validation_start_date\": \"2022-08-11\", \"validation_end_date\": \"2022-11-15\", \"test_start_date\": \"2022-11-16\", \"test_end_date\": \"2023-02-21\"}, \"centeronaging\": {\"train_start_date\": \"2010-07-02\", \"train_end_date\": \"2021-08-12\", \"validation_start_date\": \"2021-08-13\", \"validation_end_date\": \"2022-09-18\", \"test_start_date\": \"2022-09-19\", \"test_end_date\": \"2023-10-12\"}, \"banecaremgmtv6\": {\"train_start_date\": \"2021-01-01\", \"train_end_date\": \"2023-02-11\", \"validation_start_date\": \"2023-02-12\", \"validation_end_date\": \"2023-06-11\", \"test_start_date\": \"2023-06-12\", \"test_end_date\": \"2023-10-09\"}, \"carespringv6falls\": {\"train_start_date\": \"2020-07-01\", \"train_end_date\": \"2022-11-11\", \"validation_start_date\": \"2022-11-12\", \"validation_end_date\": \"2023-03-22\", \"test_start_date\": \"2023-03-23\", \"test_end_date\": \"2023-07-31\"}, \"pghcv6alf\": {\"train_start_date\": \"2018-08-01\", \"train_end_date\": \"2022-02-10\", \"validation_start_date\": \"2022-02-11\", \"validation_end_date\": \"2023-04-03\", \"test_start_date\": \"2023-04-04\", \"test_end_date\": \"2023-07-31\"}, \"avante\": {\"train_start_date\": \"2021-01-01\", \"train_end_date\": \"2022-10-14\", \"validation_start_date\": \"2022-10-15\", \"validation_end_date\": \"2023-01-31\", \"test_start_date\": \"2023-02-01\", \"test_end_date\": \"2023-05-20\"}, \"epic_hcm\": {\"train_start_date\": \"2021-01-01\", \"train_end_date\": \"2022-08-26\", \"validation_start_date\": \"2022-08-27\", \"validation_end_date\": \"2022-12-22\", \"test_start_date\": \"2022-12-23\", \"test_end_date\": \"2023-04-16\"}, \"woodruff\": {\"train_start_date\": \"2023-03-12\", \"train_end_date\": \"2023-05-18\", \"validation_start_date\": \"2023-05-19\", \"validation_end_date\": \"2023-06-24\", \"test_start_date\": \"2023-06-25\", \"test_end_date\": \"2023-07-31\"}, \"mgmkarefirstv6\": {\"train_start_date\": \"2022-02-10\", \"train_end_date\": \"2023-04-26\", \"validation_start_date\": \"2023-04-27\", \"validation_end_date\": \"2023-07-07\", \"test_start_date\": \"2023-07-08\", \"test_end_date\": \"2023-09-15\"}, \"arccv6\": {\"train_start_date\": \"2021-07-21\", \"train_end_date\": \"2023-03-22\", \"validation_start_date\": \"2023-03-23\", \"validation_end_date\": \"2023-06-30\", \"test_start_date\": \"2023-07-01\", \"test_end_date\": \"2023-10-09\"}, \"avantev6falls\": {\"train_start_date\": \"2020-07-01\", \"train_end_date\": \"2022-10-21\", \"validation_start_date\": \"2022-10-22\", \"validation_end_date\": \"2023-03-11\", \"test_start_date\": \"2023-03-12\", \"test_end_date\": \"2023-07-31\"}, \"madp\": {\"train_start_date\": \"2020-10-01\", \"train_end_date\": \"2022-01-22\", \"validation_start_date\": \"2022-01-23\", \"validation_end_date\": \"2022-04-28\", \"test_start_date\": \"2022-04-29\", \"test_end_date\": \"2023-03-31\"}, \"_template\": {\"train_start_date\": \"2020-07-01\", \"train_end_date\": \"2022-06-04\", \"validation_start_date\": \"2022-06-05\", \"validation_end_date\": \"2022-09-18\", \"test_start_date\": \"2022-09-19\", \"test_end_date\": \"2022-12-31\"}, \"banecaremgmtv6wounds\": {\"train_start_date\": \"2020-07-01\", \"train_end_date\": \"2022-10-21\", \"validation_start_date\": \"2022-10-22\", \"validation_end_date\": \"2023-03-11\", \"test_start_date\": \"2023-03-12\", \"test_end_date\": \"2023-07-31\"}}\n"
     ]
    }
   ],
   "source": [
    "data = {}\n",
    "\n",
    "for py in client_files:\n",
    "    if py in ['base']:\n",
    "        continue\n",
    "    try:\n",
    "        module = import_module(f'saiva.model.clients.{py}')\n",
    "        clientClass = getattr(module, pascal_case(py))\n",
    "        data[py] = getattr(clientClass(), 'get_experiment_dates')()\n",
    "\n",
    "    except Exception as e:\n",
    "        print(py, e)\n",
    "\n",
    "print(json.dumps(data))"
   ]
  }
 ],
 "metadata": {
  "kernelspec": {
   "display_name": "Python 3 (ipykernel)",
   "language": "python",
   "name": "python3"
  },
  "language_info": {
   "codemirror_mode": {
    "name": "ipython",
    "version": 3
   },
   "file_extension": ".py",
   "mimetype": "text/x-python",
   "name": "python",
   "nbconvert_exporter": "python",
   "pygments_lexer": "ipython3",
   "version": "3.8.16"
  }
 },
 "nbformat": 4,
 "nbformat_minor": 2
}
