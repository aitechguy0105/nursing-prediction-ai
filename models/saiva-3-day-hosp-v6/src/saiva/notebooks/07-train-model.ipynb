{
 "cells": [
  {
   "cell_type": "code",
   "execution_count": null,
   "metadata": {
    "jupyter": {
     "outputs_hidden": false
    },
    "pycharm": {
     "name": "#%%\n"
    }
   },
   "outputs": [],
   "source": [
    "import numpy as np\n",
    "import pandas as pd\n",
    "import mlflow\n",
    "from pathlib import Path\n",
    "import sys\n",
    "import pickle\n",
    "\n",
    "from saiva.model.shared.constants import MODEL_TYPE\n",
    "MODEL_TYPE = MODEL_TYPE.lower()\n",
    "from saiva.model.shared.utils import get_client_class\n",
    "from saiva.training import (\n",
    "    train_optuna_integration, \n",
    "    train_optuna_pure_lgbm_model, \n",
    "    get_facilities_from_train_data, \n",
    "    IdensDataset, \n",
    "    load_x_y_idens, \n",
    "    load_config,\n",
    ")"
   ]
  },
  {
   "cell_type": "markdown",
   "metadata": {},
   "source": [
    "## Load config"
   ]
  },
  {
   "cell_type": "code",
   "execution_count": null,
   "metadata": {},
   "outputs": [],
   "source": [
    "from saiva.model.shared.constants import LOCAL_TRAINING_CONFIG_PATH\n",
    "from saiva.training.utils import load_config\n",
    "\n",
    "config = load_config(LOCAL_TRAINING_CONFIG_PATH)\n",
    "training_config = config.training_config"
   ]
  },
  {
   "cell_type": "markdown",
   "metadata": {},
   "source": [
    "### ========= Set the CONFIG & HYPER_PARAMETER_TUNING in constants.py =========="
   ]
  },
  {
   "cell_type": "code",
   "execution_count": null,
   "metadata": {},
   "outputs": [],
   "source": [
    "EXPERIMENT_DATES = training_config.training_metadata.experiment_dates\n",
    "CLIENT = \"+\".join([config.organization_id for config in training_config.organization_configs])\n",
    "vector_model = training_config.training_metadata.vector_model\n",
    "\n",
    "TRAINING_DATA=CLIENT   # trained on which data? e.g. avante + champion\n",
    "SELECTED_MODEL_VERSION = 'saiva-3-day-upt_v6'    # e.g. v3, v4 or v6 model\n",
    "\n",
    "# Name used to filter models in AWS quicksight & also used as ML Flow experiment name\n",
    "MODEL_DESCRIPTION = f'{CLIENT}-3-day-upt-v6' # e.g. 'avante-upt-v6-model'\n",
    "\n",
    "print('MODEL_TYPE:', MODEL_TYPE)\n",
    "print('HYPER_PARAMETER_TUNING:', training_config.training_metadata.hyper_parameter_tuning)  \n",
    "print('CLIENT:', CLIENT)\n",
    "EXPERIMENT_DATES"
   ]
  },
  {
   "cell_type": "markdown",
   "metadata": {},
   "source": [
    "## ============ Initialise MLFlow Experiment ============="
   ]
  },
  {
   "cell_type": "code",
   "execution_count": null,
   "metadata": {},
   "outputs": [],
   "source": [
    "# Create an ML-flow experiment\n",
    "mlflow.set_tracking_uri('http://mlflow.saiva-dev')\n",
    "\n",
    "# Experiment name which appears in ML flow\n",
    "mlflow.set_experiment(MODEL_DESCRIPTION)\n",
    "\n",
    "EXPERIMENT = mlflow.get_experiment_by_name(MODEL_DESCRIPTION)\n",
    "MLFLOW_EXPERIMENT_ID = EXPERIMENT.experiment_id\n",
    "\n",
    "print(f'Experiment ID: {MLFLOW_EXPERIMENT_ID}')"
   ]
  },
  {
   "cell_type": "markdown",
   "metadata": {},
   "source": [
    "## =================== Loading data ======================"
   ]
  },
  {
   "cell_type": "code",
   "execution_count": null,
   "metadata": {
    "jupyter": {
     "outputs_hidden": false
    },
    "pycharm": {
     "name": "#%%\n"
    }
   },
   "outputs": [],
   "source": [
    "processed_path = Path('/data/processed')\n",
    "processed_path.mkdir(parents=True, exist_ok=True)"
   ]
  },
  {
   "cell_type": "code",
   "execution_count": null,
   "metadata": {},
   "outputs": [],
   "source": [
    "train_x, train_target_3_day, train_idens = load_x_y_idens(processed_path, MODEL_TYPE, 'train')\n",
    "valid_x, valid_target_3_day, valid_idens = load_x_y_idens(processed_path, MODEL_TYPE, 'valid')\n",
    "test_x, test_target_3_day, test_idens = load_x_y_idens(processed_path, MODEL_TYPE, 'test')"
   ]
  },
  {
   "cell_type": "code",
   "execution_count": null,
   "metadata": {},
   "outputs": [],
   "source": [
    "print(train_x.shape)\n",
    "print(train_target_3_day.shape)\n",
    "print(valid_x.shape)\n",
    "print(valid_target_3_day.shape)\n",
    "print(test_x.shape)\n",
    "print(test_target_3_day.shape)"
   ]
  },
  {
   "cell_type": "code",
   "execution_count": null,
   "metadata": {},
   "outputs": [],
   "source": [
    "with open(processed_path/'cate_columns.pickle', 'rb') as f: cate_columns = pickle.load(f)\n",
    "with open(processed_path/'feature_names.pickle', 'rb') as f: feature_names = pickle.load(f)\n",
    "with open(processed_path/'pandas_categorical.pickle', 'rb') as f: pandas_categorical = pickle.load(f)"
   ]
  },
  {
   "cell_type": "code",
   "execution_count": null,
   "metadata": {
    "jupyter": {
     "outputs_hidden": false
    },
    "pycharm": {
     "name": "#%%\n"
    }
   },
   "outputs": [],
   "source": [
    "info_cols = ['facilityid', 'censusdate', 'masterpatientid', f'positive_date_{MODEL_TYPE}', 'LFS', 'long_short_term']\n",
    "\n",
    "train_data = IdensDataset(\n",
    "    train_x,\n",
    "    label=train_target_3_day,\n",
    "    idens=train_idens.loc[:,info_cols],\n",
    "    feature_name=feature_names,\n",
    "    categorical_feature=cate_columns,\n",
    "    free_raw_data=False\n",
    ")\n",
    "valid_data = IdensDataset(\n",
    "    valid_x,\n",
    "    label=valid_target_3_day,\n",
    "    idens=valid_idens.loc[:,info_cols],\n",
    "    feature_name=feature_names,\n",
    "    categorical_feature=cate_columns,\n",
    "    free_raw_data=False\n",
    ")\n",
    "test_data = IdensDataset(\n",
    "    test_x,\n",
    "    label=test_target_3_day,\n",
    "    idens=test_idens.loc[:,info_cols],\n",
    "    feature_name=feature_names,\n",
    "    categorical_feature=cate_columns\n",
    ")"
   ]
  },
  {
   "cell_type": "markdown",
   "metadata": {},
   "source": [
    "## =================== Model Training: *optuna_integration*==================="
   ]
  },
  {
   "cell_type": "markdown",
   "metadata": {},
   "source": [
    "We have a new training method. After calling it, wait for 5 minutes, make sure everything is working properly. If there are no issues, you can start doing something else. Typically, this process takes around 12-24 hours (depending on the size of the dataset), and you can track the results through mlflow."
   ]
  },
  {
   "cell_type": "code",
   "execution_count": null,
   "metadata": {},
   "outputs": [],
   "source": [
    "params = {\n",
    "    \"seed\": 1,\n",
    "    \"metric\": \"auc\",\n",
    "    \"verbosity\": 5,\n",
    "    \"boosting_type\": \"gbdt\",\n",
    "    }\n",
    "\n",
    "model = train_optuna_integration(\n",
    "    params,\n",
    "    train_data,\n",
    "    valid_data,\n",
    "    test_data,\n",
    "    training_config.training_metadata.vector_model,\n",
    "    MODEL_TYPE,\n",
    "    EXPERIMENT_DATES,\n",
    "    training_config.training_metadata.hyper_parameter_tuning,\n",
    "    TRAINING_DATA,\n",
    "    SELECTED_MODEL_VERSION,\n",
    "    MODEL_DESCRIPTION,\n",
    "    MLFLOW_EXPERIMENT_ID,\n",
    "    training_config.training_metadata.optuna_time_budget,\n",
    "    pandas_categorical,\n",
    "    config\n",
    ")"
   ]
  },
  {
   "cell_type": "markdown",
   "metadata": {},
   "source": [
    "## =================== Model Training: *optuna_pure_lgbm*==================="
   ]
  },
  {
   "cell_type": "code",
   "execution_count": null,
   "metadata": {},
   "outputs": [],
   "source": [
    "params = {\n",
    "    \"seed\": 1,\n",
    "    \"metric\": \"auc\",\n",
    "    \"verbosity\": 5,\n",
    "    \"boosting_type\": \"gbdt\",\n",
    "    }\n",
    "\n",
    "model = train_optuna_pure_lgbm_model(\n",
    "    params,\n",
    "    train_data,\n",
    "    valid_data,\n",
    "    test_data,\n",
    "    training_config.training_metadata.vector_model,\n",
    "    MODEL_TYPE,\n",
    "    EXPERIMENT_DATES,\n",
    "    training_config.training_metadata.hyper_parameter_tuning,\n",
    "    TRAINING_DATA,\n",
    "    SELECTED_MODEL_VERSION,\n",
    "    MODEL_DESCRIPTION,\n",
    "    MLFLOW_EXPERIMENT_ID,\n",
    "    training_config.training_metadata.optuna_time_budget,\n",
    "    pandas_categorical,\n",
    "    config,\n",
    "    n_trials=1\n",
    ")"
   ]
  },
  {
   "cell_type": "code",
   "execution_count": null,
   "metadata": {},
   "outputs": [],
   "source": []
  }
 ],
 "metadata": {
  "kernelspec": {
   "display_name": "Python 3 (ipykernel)",
   "language": "python",
   "name": "python3"
  },
  "language_info": {
   "codemirror_mode": {
    "name": "ipython",
    "version": 3
   },
   "file_extension": ".py",
   "mimetype": "text/x-python",
   "name": "python",
   "nbconvert_exporter": "python",
   "pygments_lexer": "ipython3",
   "version": "3.8.16"
  }
 },
 "nbformat": 4,
 "nbformat_minor": 4
}
