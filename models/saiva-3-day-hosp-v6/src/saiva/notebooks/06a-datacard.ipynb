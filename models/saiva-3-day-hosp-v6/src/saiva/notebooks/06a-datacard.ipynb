{
 "cells": [
  {
   "attachments": {},
   "cell_type": "markdown",
   "id": "923c5d56",
   "metadata": {},
   "source": [
    "## Main run datacard script\n",
    "\n",
    "This is the main script for running the X,Y datacard class,\n",
    "detailed in JIRA SAIV-2284.\n",
    "To interact with the class, construct it as follows:\n",
    "\n",
    "\n",
    "##### DC = Datacard(client=CLIENT, data_paths=data_paths, report_conf_dir='.', report_output_dir='.', experiment_dates=EXPERIMENT_DATES)\n",
    "               \n",
    "And then run the .generate_datacard() method.\n",
    "\n",
    "##### DC.generate_datacard()"
   ]
  },
  {
   "cell_type": "code",
   "execution_count": null,
   "id": "9b43c6ae",
   "metadata": {},
   "outputs": [],
   "source": [
    "import pandas as pd\n",
    "import numpy as np\n",
    "pd.set_option('display.max_columns',None)\n",
    "import json\n",
    "import os\n",
    "import sys\n",
    "import pandas as pd\n",
    "from pathlib import Path\n",
    "import boto3\n",
    "from eliot import log_message\n",
    "from sqlalchemy import create_engine\n",
    "from sqlalchemy.engine.url import URL\n",
    "from sqlalchemy import text\n",
    "import pickle\n",
    "from sklearn.preprocessing import MinMaxScaler\n",
    "import matplotlib.pyplot as plt\n",
    "from plotly.subplots import make_subplots\n",
    "from PIL import Image\n",
    "\n",
    "from saiva.model.shared.constants import MODEL_TYPE\n",
    "from saiva.model.shared.utils import get_client_class\n",
    "from saiva.model.shared.datacards.feature_label_datacard import Datacard"
   ]
  },
  {
   "cell_type": "markdown",
   "metadata": {},
   "source": [
    "## Load config"
   ]
  },
  {
   "cell_type": "code",
   "execution_count": null,
   "metadata": {},
   "outputs": [],
   "source": [
    "from saiva.model.shared.constants import LOCAL_TRAINING_CONFIG_PATH\n",
    "from saiva.training.utils import load_config\n",
    "\n",
    "config = load_config(LOCAL_TRAINING_CONFIG_PATH)\n",
    "training_config = config.training_config"
   ]
  },
  {
   "cell_type": "code",
   "execution_count": null,
   "id": "a3d9fdf4",
   "metadata": {},
   "outputs": [],
   "source": [
    "MODEL_TYPE = MODEL_TYPE.lower()\n",
    "CLIENT = \"+\".join([config.organization_id for config in training_config.organization_configs])\n",
    "\n",
    "processed_path = Path('./data/processed')\n",
    "data_path = Path('./data/raw')\n",
    "\n",
    "EXPERIMENT_DATES = training_config.training_metadata.experiment_dates\n",
    "# starting training from day 31 so that cumsum window 2,7,14,30 are all initial correct.\n",
    "EXPERIMENT_DATES['train_start_date'] = str((pd.to_datetime(EXPERIMENT_DATES['train_start_date']) +  pd.DateOffset(days=30)).date())\n"
   ]
  },
  {
   "cell_type": "code",
   "execution_count": null,
   "id": "0ded48d8",
   "metadata": {},
   "outputs": [],
   "source": [
    "processed_path = Path('/data/processed')\n",
    "data_path = Path('/data/raw')"
   ]
  },
  {
   "cell_type": "code",
   "execution_count": null,
   "id": "6adfe198",
   "metadata": {},
   "outputs": [],
   "source": [
    "data_paths = {'X_train': processed_path/f'final-train_x_{MODEL_TYPE}.pickle',\n",
    "              'Y_train': processed_path/f'final-train_target_3_day_{MODEL_TYPE}.pickle',\n",
    "              'idens_train': processed_path/f'final-train_idens_{MODEL_TYPE}.pickle',\n",
    "              'X_valid': processed_path/f'final-valid_x_{MODEL_TYPE}.pickle',\n",
    "              'Y_valid': processed_path/f'final-valid_target_3_day_{MODEL_TYPE}.pickle',\n",
    "              'idens_valid': processed_path/f'final-valid_idens_{MODEL_TYPE}.pickle',\n",
    "              'X_test': processed_path/f'final-test_x_{MODEL_TYPE}.pickle',\n",
    "              'Y_test': processed_path/f'final-test_target_3_day_{MODEL_TYPE}.pickle',\n",
    "              'idens_test': processed_path/f'final-test_idens_{MODEL_TYPE}.pickle'}"
   ]
  },
  {
   "cell_type": "code",
   "execution_count": null,
   "id": "b8857aa2",
   "metadata": {},
   "outputs": [],
   "source": [
    "DC = Datacard(client=CLIENT,\n",
    "              data_paths=data_paths,\n",
    "              report_conf_dir='.',\n",
    "              report_output_dir='.',\n",
    "              experiment_dates=EXPERIMENT_DATES)"
   ]
  },
  {
   "cell_type": "code",
   "execution_count": null,
   "id": "387d253e",
   "metadata": {},
   "outputs": [],
   "source": [
    "%%time\n",
    "DC.generate_datacard()"
   ]
  },
  {
   "attachments": {},
   "cell_type": "markdown",
   "id": "3c18d62d",
   "metadata": {},
   "source": [
    "## ===========================END======================================"
   ]
  }
 ],
 "metadata": {
  "kernelspec": {
   "display_name": "Python 3 (ipykernel)",
   "language": "python",
   "name": "python3"
  },
  "language_info": {
   "codemirror_mode": {
    "name": "ipython",
    "version": 3
   },
   "file_extension": ".py",
   "mimetype": "text/x-python",
   "name": "python",
   "nbconvert_exporter": "python",
   "pygments_lexer": "ipython3",
   "version": "3.8.16"
  }
 },
 "nbformat": 4,
 "nbformat_minor": 5
}
