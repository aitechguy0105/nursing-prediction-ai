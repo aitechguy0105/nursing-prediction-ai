{
 "cells": [
  {
   "cell_type": "markdown",
   "metadata": {},
   "source": [
    "# This notebook is responsible for the initial setup - clean all files from previous runs, load client configurations and save them"
   ]
  },
  {
   "cell_type": "code",
   "execution_count": null,
   "metadata": {},
   "outputs": [],
   "source": [
    "import sys\n",
    "import pandas as pd\n",
    "import shutil\n",
    "import os\n",
    "import glob\n",
    "\n",
    "from omegaconf import OmegaConf\n",
    "\n",
    "from saiva.model.shared.load_raw_data import fetch_training_data, fetch_training_cache_data\n",
    "from saiva.model.shared.database import DbEngine\n",
    "from saiva.model.shared.constants import saiva_api, LOCAL_TRAINING_CONFIG_PATH\n",
    "from saiva.training.utils import load_config\n",
    "\n",
    "from eliot import to_file\n",
    "to_file(sys.stdout)"
   ]
  },
  {
   "cell_type": "markdown",
   "metadata": {},
   "source": [
    "### =============== Delete all files related to previous model run/training =================="
   ]
  },
  {
   "cell_type": "code",
   "execution_count": null,
   "metadata": {},
   "outputs": [],
   "source": [
    "file_types = ['*.pickle', '*.json', '*.csv', '*.png', '*.txt']\n",
    "\n",
    "for file_type in file_types:\n",
    "    files = glob.glob(file_type)\n",
    "    for file in files:\n",
    "        print(f\"Removed {file}\")\n",
    "        os.remove(file)"
   ]
  },
  {
   "cell_type": "markdown",
   "metadata": {},
   "source": [
    "### =============== Delete all files inside /data/processed & /data/raw =================="
   ]
  },
  {
   "cell_type": "code",
   "execution_count": null,
   "metadata": {},
   "outputs": [],
   "source": [
    "import shutil\n",
    "from pathlib import Path\n",
    "\n",
    "processed_path = Path('/data/processed')\n",
    "raw_path = Path('/data/raw')\n",
    "shutil.rmtree(processed_path)\n",
    "shutil.rmtree(raw_path)\n",
    "print(\"Success.......\")"
   ]
  },
  {
   "cell_type": "markdown",
   "metadata": {},
   "source": [
    "### ====================== Clean Configuration ======================"
   ]
  },
  {
   "cell_type": "code",
   "execution_count": null,
   "metadata": {},
   "outputs": [],
   "source": [
    "shutil.rmtree(f'{LOCAL_TRAINING_CONFIG_PATH}generated', ignore_errors=True)\n",
    "os.makedirs(f'{LOCAL_TRAINING_CONFIG_PATH}generated/', exist_ok=True)"
   ]
  },
  {
   "cell_type": "markdown",
   "metadata": {},
   "source": [
    "## Load config"
   ]
  },
  {
   "cell_type": "code",
   "execution_count": null,
   "metadata": {},
   "outputs": [],
   "source": [
    "config = load_config(LOCAL_TRAINING_CONFIG_PATH)\n",
    "training_config = config.training_config"
   ]
  },
  {
   "cell_type": "code",
   "execution_count": null,
   "metadata": {},
   "outputs": [],
   "source": [
    "print(\"TRAIN_START_DATE:\", training_config.training_metadata.experiment_dates.train_start_date)\n",
    "print(\"TEST_END_DATE:\", training_config.training_metadata.experiment_dates.test_end_date)\n",
    "print(\"CLIENTS:\", [organization_config.organization_id for organization_config in training_config.organization_configs_setup])"
   ]
  },
  {
   "cell_type": "markdown",
   "metadata": {},
   "source": [
    "### ====================== Load ml model organization configs ======================"
   ]
  },
  {
   "cell_type": "code",
   "execution_count": null,
   "metadata": {},
   "outputs": [],
   "source": [
    "organization_configs = []\n",
    "\n",
    "for organization_config in training_config.organization_configs_setup:\n",
    "    datasource = saiva_api.data_sources.get(datasource_id=organization_config.datasource_id)\n",
    "    datasource.source_database_credentials_secret_id = 'dev-sqlserver'\n",
    "    organization_configs.append({\n",
    "        'organization_id': organization_config.organization_id,\n",
    "        'datasource': datasource\n",
    "    })"
   ]
  },
  {
   "cell_type": "markdown",
   "metadata": {},
   "source": [
    "### Store the configuration to be able to change the configuration manually"
   ]
  },
  {
   "cell_type": "code",
   "execution_count": null,
   "metadata": {},
   "outputs": [],
   "source": [
    "conf = OmegaConf.create({'training_config': {'organization_configs': organization_configs}})\n",
    "OmegaConf.save(conf, f'{LOCAL_TRAINING_CONFIG_PATH}generated/organization_configs.yaml')"
   ]
  }
 ],
 "metadata": {
  "kernelspec": {
   "display_name": "Python 3 (ipykernel)",
   "language": "python",
   "name": "python3"
  },
  "language_info": {
   "codemirror_mode": {
    "name": "ipython",
    "version": 3
   },
   "file_extension": ".py",
   "mimetype": "text/x-python",
   "name": "python",
   "nbconvert_exporter": "python",
   "pygments_lexer": "ipython3",
   "version": "3.8.16"
  }
 },
 "nbformat": 4,
 "nbformat_minor": 2
}
