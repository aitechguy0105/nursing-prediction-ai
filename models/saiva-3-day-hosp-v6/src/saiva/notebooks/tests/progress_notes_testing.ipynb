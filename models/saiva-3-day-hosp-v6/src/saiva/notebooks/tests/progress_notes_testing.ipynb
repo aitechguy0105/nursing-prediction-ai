{
 "cells": [
  {
   "cell_type": "code",
   "execution_count": null,
   "metadata": {},
   "outputs": [],
   "source": [
    "import sys\n",
    "\n",
    "import pickle\n",
    "from saiva.training.data_models import BaseModel\n",
    "from saiva.model.shared.load_raw_data import join_tables\n",
    "from pathlib import Path\n",
    "import boto3\n",
    "from urllib.parse import urlparse\n",
    "import pandas as pd\n",
    "\n",
    "import shap\n",
    "import re"
   ]
  },
  {
   "cell_type": "code",
   "execution_count": null,
   "metadata": {},
   "outputs": [],
   "source": [
    "prediction_date = '2020-11-23'\n",
    "client = 'marquis'\n",
    "facilityid = '26'\n",
    "s3_folder = 'raw'\n",
    "env = 'staging'"
   ]
  },
  {
   "cell_type": "code",
   "execution_count": null,
   "metadata": {},
   "outputs": [],
   "source": [
    "# table_list = ['master_patient_lookup','patient_census','patient_rehosps',\n",
    "#              'patient_progress_notes','patient_diagnosis','patient_vitals','patient_lab_results',\n",
    "#            'patient_meds','patient_orders','patient_alerts','patient_demographics']\n",
    "table_list = ['patient_progress_notes']\n",
    "raw_data_dict = {}\n",
    "for table in table_list:\n",
    "    print(f\"reading {table}\")\n",
    "    raw_data_dict[table] = pd.read_parquet(\n",
    "                    f\"s3://saiva-{env}-data-bucket/data/{client}/{prediction_date}/{facilityid}/{s3_folder}/{table}.parquet\"\n",
    "                )\n",
    "# joing with masterpatientid\n",
    "# raw_data_dict = join_tables(raw_data_dict)\n",
    "# sort and dedup raw data\n",
    "# sorting_and_deduping_dataframes(raw_data_dict)"
   ]
  },
  {
   "cell_type": "code",
   "execution_count": null,
   "metadata": {},
   "outputs": [],
   "source": [
    "prog_notes = raw_data_dict['patient_progress_notes']\n",
    "prog_notes.head()"
   ]
  },
  {
   "cell_type": "code",
   "execution_count": null,
   "metadata": {},
   "outputs": [],
   "source": [
    "prog_notes = prog_notes[\n",
    "            prog_notes.createddate > max(prog_notes['createddate']) - pd.to_timedelta('14 days')]\n",
    "prog_notes.head()"
   ]
  },
  {
   "cell_type": "code",
   "execution_count": null,
   "metadata": {},
   "outputs": [],
   "source": [
    "prog_notes[prog_notes.patientid == 1221949]"
   ]
  },
  {
   "cell_type": "code",
   "execution_count": null,
   "metadata": {},
   "outputs": [],
   "source": [
    "# sorted_prog_notes = prog_notes.sort_values(by=['patientid', 'createddate', 'progressnoteid', 'progressnotetype',\n",
    "#                                      'section', 'sectionsequence', 'notetextorder'])\n",
    "sorted_prog_notes = prog_notes.sort_values(by=['patientid', 'progressnoteid', 'progressnotetype', 'sectionsequence', 'notetextorder'])\n",
    "sorted_prog_notes[(sorted_prog_notes.patientid == 1221949) & (sorted_prog_notes.progressnotetype == 'eINTERACT SBAR Summary for Providers')]"
   ]
  },
  {
   "cell_type": "code",
   "execution_count": null,
   "metadata": {},
   "outputs": [],
   "source": [
    "grp_cols = ['patientid', 'createddate', 'progressnoteid', 'progressnotetype', 'section']\n",
    "progress_notes = (sorted_prog_notes.groupby(grp_cols).agg(\n",
    "                {'notetext': lambda note_parts: ''.join(note_parts)}).reset_index())\n",
    "# progress_notes.drop(['progressnoteid', 'section'], axis=1, inplace=True)\n",
    "progress_notes[(progress_notes.patientid == 1221949) & (progress_notes.progressnotetype == 'eINTERACT SBAR Summary for Providers')]"
   ]
  },
  {
   "cell_type": "code",
   "execution_count": null,
   "metadata": {},
   "outputs": [],
   "source": [
    "progress_notes['clean_note'] = progress_notes['notetext']\n",
    "progress_notes[(progress_notes.patientid == 1221949) & (progress_notes.progressnotetype == 'eINTERACT SBAR Summary for Providers')]"
   ]
  },
  {
   "cell_type": "code",
   "execution_count": null,
   "metadata": {},
   "outputs": [],
   "source": [
    "list(progress_notes[(progress_notes.patientid == 1221949) & (progress_notes.progressnotetype == 'eINTERACT SBAR Summary for Providers')]['clean_note'][2:3])"
   ]
  },
  {
   "cell_type": "code",
   "execution_count": null,
   "metadata": {},
   "outputs": [],
   "source": [
    "progress_notes.loc[progress_notes.progressnotetype == 'eINTERACT SBAR Summary for Providers', 'test_note'] =  (\n",
    "    progress_notes.loc[progress_notes.progressnotetype == 'eINTERACT SBAR Summary for Providers'].apply(lambda row: row['clean_note'].split('\\n')[0], axis=1))\n",
    "progress_notes[(progress_notes.patientid == 1221949) & (progress_notes.progressnotetype == 'eINTERACT SBAR Summary for Providers')]"
   ]
  },
  {
   "cell_type": "code",
   "execution_count": null,
   "metadata": {},
   "outputs": [],
   "source": [
    "list(progress_notes[(progress_notes.patientid == 1221949) & (progress_notes.progressnotetype == 'eINTERACT SBAR Summary for Providers')]['clean_note'][2:3])"
   ]
  },
  {
   "cell_type": "code",
   "execution_count": null,
   "metadata": {},
   "outputs": [],
   "source": [
    "list(progress_notes[(progress_notes.patientid == 1221949) & (progress_notes.progressnotetype == 'eINTERACT SBAR Summary for Providers')]['test_note'][2:3])"
   ]
  },
  {
   "cell_type": "code",
   "execution_count": null,
   "metadata": {},
   "outputs": [],
   "source": [
    "progress_notes[(progress_notes.patientid == 1221949) & (progress_notes.progressnotetype != 'eINTERACT SBAR Summary for Providers')]"
   ]
  },
  {
   "cell_type": "code",
   "execution_count": null,
   "metadata": {},
   "outputs": [],
   "source": []
  }
 ],
 "metadata": {
  "kernelspec": {
   "display_name": "Python 3",
   "language": "python",
   "name": "python3"
  },
  "language_info": {
   "codemirror_mode": {
    "name": "ipython",
    "version": 3
   },
   "file_extension": ".py",
   "mimetype": "text/x-python",
   "name": "python",
   "nbconvert_exporter": "python",
   "pygments_lexer": "ipython3",
   "version": "3.6.9"
  }
 },
 "nbformat": 4,
 "nbformat_minor": 4
}
