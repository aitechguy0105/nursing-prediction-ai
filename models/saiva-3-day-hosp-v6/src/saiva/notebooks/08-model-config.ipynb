{
 "cells": [
  {
   "cell_type": "markdown",
   "metadata": {},
   "source": [
    "### Create trained models in db"
   ]
  },
  {
   "cell_type": "code",
   "execution_count": null,
   "metadata": {},
   "outputs": [],
   "source": [
    "import sys\n",
    "import json\n",
    "\n",
    "from omegaconf import OmegaConf"
   ]
  },
  {
   "cell_type": "markdown",
   "metadata": {},
   "source": [
    "## Load config"
   ]
  },
  {
   "cell_type": "code",
   "execution_count": null,
   "metadata": {},
   "outputs": [],
   "source": [
    "from saiva.model.shared.constants import saiva_api, LOCAL_TRAINING_CONFIG_PATH\n",
    "from saiva.training.utils import load_config\n",
    "\n",
    "config = load_config(LOCAL_TRAINING_CONFIG_PATH)\n",
    "training_config = config.training_config"
   ]
  },
  {
   "cell_type": "code",
   "execution_count": null,
   "metadata": {},
   "outputs": [],
   "source": [
    "with open('model_config.json', 'r') as file:\n",
    "    model_config = json.load(file)\n",
    "    \n",
    "model_config['validation_start_date'] = model_config['valid_start_date']\n",
    "model_config['validation_end_date'] = model_config['valid_end_date']\n",
    "\n",
    "training_metadata = training_config.training_metadata\n",
    "training_metadata['organization_configs'] = [{\n",
    "    'organization_id': config.organization_id,\n",
    "    'datasource_id': config.datasource.id\n",
    "\n",
    "} for config in training_config.organization_configs]\n",
    "\n",
    "saiva_api.trained_models.create_with_dict(ml_model_org_config_id=None, training_metadata=OmegaConf.to_container(training_metadata, resolve=True), model_config=model_config)"
   ]
  }
 ],
 "metadata": {
  "kernelspec": {
   "display_name": "Python 3 (ipykernel)",
   "language": "python",
   "name": "python3"
  },
  "language_info": {
   "codemirror_mode": {
    "name": "ipython",
    "version": 3
   },
   "file_extension": ".py",
   "mimetype": "text/x-python",
   "name": "python",
   "nbconvert_exporter": "python",
   "pygments_lexer": "ipython3",
   "version": "3.8.16"
  }
 },
 "nbformat": 4,
 "nbformat_minor": 4
}
