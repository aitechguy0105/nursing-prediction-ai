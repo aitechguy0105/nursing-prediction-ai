{
 "cells": [
  {
   "cell_type": "code",
   "execution_count": null,
   "id": "0a94eb3d",
   "metadata": {},
   "outputs": [],
   "source": [
    "import boto3\n",
    "import os\n",
    "from pathlib import Path\n",
    "import pandas as pd\n",
    "import json\n",
    "from saiva.model.shared.utils import get_client_class, get_memory_usage\n",
    "from saiva.model.shared.constants import MODEL_TYPE"
   ]
  },
  {
   "cell_type": "markdown",
   "id": "7759a9d1",
   "metadata": {},
   "source": [
    "## Load config"
   ]
  },
  {
   "cell_type": "code",
   "execution_count": null,
   "id": "f817f2e7",
   "metadata": {},
   "outputs": [],
   "source": [
    "from saiva.model.shared.constants import LOCAL_TRAINING_CONFIG_PATH\n",
    "from saiva.training.utils import load_config\n",
    "\n",
    "config = load_config(LOCAL_TRAINING_CONFIG_PATH)\n",
    "training_config = config.training_config"
   ]
  },
  {
   "cell_type": "markdown",
   "id": "1a174991",
   "metadata": {},
   "source": [
    "### These datacards need to be run for every client we're interested in - please see the below options for available client and datasource_id"
   ]
  },
  {
   "cell_type": "code",
   "execution_count": null,
   "id": "33da2b59",
   "metadata": {},
   "outputs": [],
   "source": [
    "[(organization_config.organization_id, organization_config.datasource.id) for organization_config in training_config.organization_configs]"
   ]
  },
  {
   "cell_type": "code",
   "execution_count": null,
   "id": "2485f046",
   "metadata": {},
   "outputs": [],
   "source": [
    "CLIENT = training_config.organization_configs[0].organization_id\n",
    "# can be modified if the client and datasource_ids are different\n",
    "datasource_id = training_config.organization_configs[0].datasource.id"
   ]
  },
  {
   "cell_type": "code",
   "execution_count": null,
   "id": "d5ec9187",
   "metadata": {},
   "outputs": [],
   "source": [
    "EXPERIMENT_DATES = training_config.training_metadata.experiment_dates\n",
    "TRAIN_START_DATE, TEST_END_DATE = EXPERIMENT_DATES['train_start_date'], EXPERIMENT_DATES['test_end_date']\n",
    "\n",
    "date_range = f'{TRAIN_START_DATE}-TO-{TEST_END_DATE}'\n",
    "\n",
    "bucket = 'saiva-dev-data-bucket'\n",
    "s3_file_folder = f\"training_data/saiva-3-day-hosp-v6/{CLIENT}/{date_range}/datacard_data\""
   ]
  },
  {
   "cell_type": "code",
   "execution_count": null,
   "id": "98ff5552",
   "metadata": {},
   "outputs": [],
   "source": [
    "s3_folder_path = f's3://saiva-dev-data-bucket/training_data/saiva-3-day-hosp-v6/{CLIENT}/{date_range}/datacard_data'\n",
    "\n",
    "s3_folder_path"
   ]
  },
  {
   "cell_type": "code",
   "execution_count": null,
   "id": "af5292a7",
   "metadata": {},
   "outputs": [],
   "source": [
    "folder_path = \"/data/processed/\""
   ]
  },
  {
   "cell_type": "code",
   "execution_count": null,
   "id": "23443065",
   "metadata": {},
   "outputs": [],
   "source": [
    "MODEL_TYPE = MODEL_TYPE.lower()\n",
    "files = [f'final-train_x_{MODEL_TYPE}.pickle', f'final-train_target_3_day_{MODEL_TYPE}.pickle', \n",
    "         f'final-train_idens_{MODEL_TYPE}.pickle', f'final-valid_x_{MODEL_TYPE}.pickle', \n",
    "         f'final-valid_target_3_day_{MODEL_TYPE}.pickle', f'final-valid_idens_{MODEL_TYPE}.pickle', \n",
    "         f'final-test_x_{MODEL_TYPE}.pickle', f'final-test_target_3_day_{MODEL_TYPE}.pickle', \n",
    "         f'final-test_idens_{MODEL_TYPE}.pickle', 'feature_names.pickle',\n",
    "        ]"
   ]
  },
  {
   "cell_type": "code",
   "execution_count": null,
   "id": "56674e46",
   "metadata": {},
   "outputs": [],
   "source": [
    "def upload_to_s3(file_path, bucket, s3_file_path):\n",
    "    s3 = boto3.client('s3')\n",
    "    s3.upload_file(file_path, bucket, s3_file_path)"
   ]
  },
  {
   "cell_type": "code",
   "execution_count": null,
   "id": "e82a015a",
   "metadata": {},
   "outputs": [],
   "source": [
    "for file in files:\n",
    "    file_path = os.path.join(folder_path, file)\n",
    "    upload_to_s3(file_path, bucket, os.path.join(s3_file_folder, file))"
   ]
  },
  {
   "cell_type": "code",
   "execution_count": null,
   "id": "333e0856",
   "metadata": {},
   "outputs": [],
   "source": [
    "folder_path = \"\""
   ]
  },
  {
   "cell_type": "code",
   "execution_count": null,
   "id": "4da31f7c",
   "metadata": {},
   "outputs": [],
   "source": [
    "with open('model_config.json', 'r') as file:\n",
    "    model_config = json.load(file)"
   ]
  },
  {
   "cell_type": "code",
   "execution_count": null,
   "id": "3242d461",
   "metadata": {},
   "outputs": [],
   "source": [
    "model_config"
   ]
  },
  {
   "cell_type": "code",
   "execution_count": null,
   "id": "18793ab2",
   "metadata": {},
   "outputs": [],
   "source": [
    "files = ['feature_drop_stats.json', 'model_config.json', 'performance_valid_base.csv', 'performance_train_base.csv', \n",
    "         'performance_test_base.csv', 'duplicate_rows_performance_TEST_base.csv', \n",
    "        'duplicate_rows_performance_TRAIN_base.csv', 'duplicate_rows_performance_VALID_base.csv',f\"{model_config['modelid']}.pickle\" , 'trial_data.csv'\n",
    "        ]"
   ]
  },
  {
   "cell_type": "code",
   "execution_count": null,
   "id": "d2fa64cc",
   "metadata": {},
   "outputs": [],
   "source": [
    "for file in files:\n",
    "    file_path = os.path.join(folder_path, file)\n",
    "    upload_to_s3(file_path, bucket, os.path.join(s3_file_folder, file))"
   ]
  },
  {
   "cell_type": "code",
   "execution_count": null,
   "id": "ce6e14ad",
   "metadata": {},
   "outputs": [],
   "source": [
    "print(\"Decisions Datacard\")\n",
    "print(f\"\"\"python run_datacard.py decisions run --outfile=s3://saiva-datacards/datacards/dev/{CLIENT}/{date_range}/ --s3-folder-path={s3_folder_path} --skip-client-name-in-files\"\"\")\n",
    "\n",
    "print(\"\\nXAEDY Datacard\")\n",
    "print(f\"\"\"python run_datacard.py xaedy run --model-type {MODEL_TYPE} --client={CLIENT} --datasource_id={datasource_id} --outfile=s3://saiva-datacards/datacards/dev/{CLIENT}/{date_range}/ --s3-folder-path={s3_folder_path} --skip-client-name-in-files\"\"\")\n",
    "\n",
    "print(\"\\nTrained Model Datacard\")\n",
    "print(f\"\"\"python run_datacard.py trained_model run --s3-folder-path={s3_folder_path} --outfile=s3://saiva-datacards/datacards/dev/{CLIENT}/{date_range}/\"\"\")\n",
    "\n",
    "print(\"\\nProbability Datacard\")\n",
    "print(f\"\"\"python run_datacard.py prediction_probability run --model-type {MODEL_TYPE} --client={CLIENT} --s3-folder-path={s3_folder_path} --outfile=s3://saiva-datacards/datacards/dev/{CLIENT}/{date_range}/\"\"\")\n",
    "\n",
    "print(\"\\nSHAP Values Datacard\")\n",
    "print(f\"\"\"python run_datacard.py shap_values run --model_type {MODEL_TYPE} --s3-folder-path={s3_folder_path} --outfile=s3://saiva-datacards/datacards/dev/{CLIENT}/{date_range}/\"\"\")"
   ]
  },
  {
   "cell_type": "code",
   "execution_count": null,
   "id": "41c6e588",
   "metadata": {},
   "outputs": [],
   "source": [
    "# clean up the datacard_data folder\n",
    "s3 = boto3.client('s3')\n",
    "objects_to_delete = []\n",
    "for obj in s3.list_objects_v2(Bucket=bucket, Prefix=s3_file_folder).get('Contents', []):\n",
    "    objects_to_delete.append({'Key': obj['Key']})\n",
    "\n",
    "\n",
    "if objects_to_delete:\n",
    "    s3.delete_objects(Bucket=bucket, Delete={'Objects': objects_to_delete})"
   ]
  },
  {
   "cell_type": "code",
   "execution_count": null,
   "id": "799b9b49",
   "metadata": {},
   "outputs": [],
   "source": []
  }
 ],
 "metadata": {
  "kernelspec": {
   "display_name": "Python 3 (ipykernel)",
   "language": "python",
   "name": "python3"
  },
  "language_info": {
   "codemirror_mode": {
    "name": "ipython",
    "version": 3
   },
   "file_extension": ".py",
   "mimetype": "text/x-python",
   "name": "python",
   "nbconvert_exporter": "python",
   "pygments_lexer": "ipython3",
   "version": "3.8.16"
  }
 },
 "nbformat": 4,
 "nbformat_minor": 5
}
