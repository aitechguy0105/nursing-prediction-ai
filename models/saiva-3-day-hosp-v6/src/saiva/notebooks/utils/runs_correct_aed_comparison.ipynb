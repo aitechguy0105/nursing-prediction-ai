{
 "cells": [
  {
   "cell_type": "code",
   "execution_count": null,
   "id": "29d51a01",
   "metadata": {},
   "outputs": [],
   "source": [
    "import pandas as pd\n",
    "from runs_aed_comparison import compare_model_performances"
   ]
  },
  {
   "cell_type": "code",
   "execution_count": null,
   "id": "ffdc61c0",
   "metadata": {},
   "outputs": [],
   "source": [
    "file_1_path = \"../performance_test2_base.csv\"\n",
    "file_2_path = \"../performance_test_base_avante.csv\""
   ]
  },
  {
   "cell_type": "code",
   "execution_count": null,
   "id": "6572b4a8",
   "metadata": {},
   "outputs": [],
   "source": [
    "run1 = pd.read_csv(file_1_path)"
   ]
  },
  {
   "cell_type": "code",
   "execution_count": null,
   "id": "2d583426",
   "metadata": {},
   "outputs": [],
   "source": [
    "run2 = pd.read_csv(file_2_path)"
   ]
  },
  {
   "cell_type": "code",
   "execution_count": null,
   "id": "d0b06a05",
   "metadata": {},
   "outputs": [],
   "source": [
    "compare_model_performances(run1, run2)"
   ]
  }
 ],
 "metadata": {
  "kernelspec": {
   "display_name": "Python 3 (ipykernel)",
   "language": "python",
   "name": "python3"
  },
  "language_info": {
   "codemirror_mode": {
    "name": "ipython",
    "version": 3
   },
   "file_extension": ".py",
   "mimetype": "text/x-python",
   "name": "python",
   "nbconvert_exporter": "python",
   "pygments_lexer": "ipython3",
   "version": "3.8.16"
  }
 },
 "nbformat": 4,
 "nbformat_minor": 5
}
