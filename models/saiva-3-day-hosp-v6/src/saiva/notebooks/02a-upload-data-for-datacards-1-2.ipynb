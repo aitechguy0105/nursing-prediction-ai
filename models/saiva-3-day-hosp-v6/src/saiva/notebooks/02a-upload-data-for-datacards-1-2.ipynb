{
 "cells": [
  {
   "cell_type": "code",
   "execution_count": null,
   "id": "5e2b18c9",
   "metadata": {},
   "outputs": [],
   "source": [
    "import boto3\n",
    "import os\n",
    "from pathlib import Path\n",
    "import pandas as pd\n",
    "from saiva.model.shared.utils import get_client_class, get_memory_usage"
   ]
  },
  {
   "cell_type": "markdown",
   "id": "f0ed6d60",
   "metadata": {},
   "source": [
    "## Load config"
   ]
  },
  {
   "cell_type": "code",
   "execution_count": null,
   "id": "0de360db",
   "metadata": {},
   "outputs": [],
   "source": [
    "from saiva.model.shared.constants import saiva_api, LOCAL_TRAINING_CONFIG_PATH\n",
    "from saiva.training.utils import load_config\n",
    "\n",
    "config = load_config(LOCAL_TRAINING_CONFIG_PATH)\n",
    "training_config = config.training_config"
   ]
  },
  {
   "cell_type": "markdown",
   "id": "9bc3b3a4",
   "metadata": {},
   "source": [
    "### These datacards need to be run for every client we're interested in - please see the below options for available client and datasource_id"
   ]
  },
  {
   "cell_type": "code",
   "execution_count": null,
   "id": "5e6dc985",
   "metadata": {},
   "outputs": [],
   "source": [
    "[(organization_config.organization_id, organization_config.datasource.id) for organization_config in training_config.organization_configs]"
   ]
  },
  {
   "cell_type": "code",
   "execution_count": null,
   "id": "9d98b0b4",
   "metadata": {},
   "outputs": [],
   "source": [
    "CLIENT = training_config.organization_configs[0].organization_id\n",
    "# can be modified if the client and datasource_ids are different\n",
    "datasource_id = training_config.organization_configs[0].datasource.id"
   ]
  },
  {
   "cell_type": "code",
   "execution_count": null,
   "id": "8cbae84e",
   "metadata": {},
   "outputs": [],
   "source": [
    "TRAIN_START_DATE = training_config.training_metadata.experiment_dates.train_start_date\n",
    "TEST_END_DATE = training_config.training_metadata.experiment_dates.test_end_date\n",
    "\n",
    "date_range = f'{TRAIN_START_DATE}-TO-{TEST_END_DATE}'\n",
    "\n",
    "bucket = 'saiva-dev-data-bucket'\n",
    "s3_file_folder = f\"training_data/saiva-3-day-hosp-v6/{CLIENT}/{date_range}/datacard_data/\""
   ]
  },
  {
   "cell_type": "code",
   "execution_count": null,
   "id": "79cf1134",
   "metadata": {},
   "outputs": [],
   "source": [
    "s3_folder_path = f's3://saiva-dev-data-bucket/training_data/saiva-3-day-hosp-v6/{CLIENT}/{date_range}/datacard_data/'\n",
    "\n",
    "s3_folder_path"
   ]
  },
  {
   "cell_type": "code",
   "execution_count": null,
   "id": "2b68ef89",
   "metadata": {},
   "outputs": [],
   "source": [
    "folder_path = \"/data/raw/\""
   ]
  },
  {
   "cell_type": "code",
   "execution_count": null,
   "id": "8b10f364",
   "metadata": {},
   "outputs": [],
   "source": [
    "files = [dataset for dataset in training_config.all_datasets if dataset not in training_config.training_metadata.missing_datasets]"
   ]
  },
  {
   "cell_type": "code",
   "execution_count": null,
   "id": "bf16e28f",
   "metadata": {},
   "outputs": [],
   "source": [
    "def upload_to_s3(file_path, bucket, s3_file_path):\n",
    "    s3 = boto3.client('s3')\n",
    "    s3.upload_file(file_path, bucket, s3_file_path)"
   ]
  },
  {
   "cell_type": "code",
   "execution_count": null,
   "id": "be5485b9",
   "metadata": {},
   "outputs": [],
   "source": [
    "for file in files:\n",
    "    file_path = os.path.join(folder_path, f\"{file}.parquet\")\n",
    "    upload_to_s3(file_path, bucket, os.path.join(s3_file_folder, f\"{file}.parquet\"))"
   ]
  },
  {
   "cell_type": "code",
   "execution_count": null,
   "id": "f946ba7f",
   "metadata": {},
   "outputs": [],
   "source": [
    "# commands to run the datacards in the saiva-datacards repository\n",
    "\n",
    "# facility discovery datacard\n",
    "f\"\"\"python run_datacard.py facility_discovery run --client={CLIENT} --datasource_id={datasource_id} --start-date={TRAIN_START_DATE} --end-date={TEST_END_DATE} --outfile=s3://saiva-datacards/datacards/dev/{CLIENT}/{date_range}/ --s3-folder-path={s3_folder_path} --skip-client-name-in-files\"\"\""
   ]
  },
  {
   "cell_type": "code",
   "execution_count": null,
   "id": "701b6d29",
   "metadata": {},
   "outputs": [],
   "source": [
    "df = pd.read_parquet(os.path.join(folder_path, 'patient_census.parquet'))"
   ]
  },
  {
   "cell_type": "code",
   "execution_count": null,
   "id": "896da22f",
   "metadata": {},
   "outputs": [],
   "source": [
    "df.head()"
   ]
  },
  {
   "cell_type": "code",
   "execution_count": null,
   "id": "e26d950e",
   "metadata": {},
   "outputs": [],
   "source": [
    "facility_ids = \",\".join([str(x) for x in list(df['facilityid'].unique())])"
   ]
  },
  {
   "cell_type": "code",
   "execution_count": null,
   "id": "41a283ee",
   "metadata": {},
   "outputs": [],
   "source": [
    "facility_ids"
   ]
  },
  {
   "cell_type": "code",
   "execution_count": null,
   "id": "4e7f5513",
   "metadata": {},
   "outputs": [],
   "source": [
    "# commands to run the datacards in the saiva-datacards repository\n",
    "\n",
    "# data availability datacard\n",
    "f\"\"\"python run_datacard.py data_availability run --client={CLIENT} --datasource_id={datasource_id} --facility-ids={facility_ids} --start-date={TRAIN_START_DATE} --end-date={TEST_END_DATE} --outfile=s3://saiva-datacards/datacards/dev/{CLIENT}/{date_range}/ --s3-folder-path={s3_folder_path} --skip-client-name-in-files\"\"\""
   ]
  }
 ],
 "metadata": {
  "kernelspec": {
   "display_name": "Python 3 (ipykernel)",
   "language": "python",
   "name": "python3"
  },
  "language_info": {
   "codemirror_mode": {
    "name": "ipython",
    "version": 3
   },
   "file_extension": ".py",
   "mimetype": "text/x-python",
   "name": "python",
   "nbconvert_exporter": "python",
   "pygments_lexer": "ipython3",
   "version": "3.8.16"
  }
 },
 "nbformat": 4,
 "nbformat_minor": 5
}
